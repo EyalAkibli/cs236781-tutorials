{
 "cells": [
  {
   "cell_type": "markdown",
   "metadata": {
    "slideshow": {
     "slide_type": "slide"
    }
   },
   "source": [
    "$$\n",
    "\\newcommand{\\mat}[1]{\\boldsymbol {#1}}\n",
    "\\newcommand{\\mattr}[1]{\\boldsymbol {#1}^\\top}\n",
    "\\newcommand{\\matinv}[1]{\\boldsymbol {#1}^{-1}}\n",
    "\\newcommand{\\vec}[1]{\\boldsymbol {#1}}\n",
    "\\newcommand{\\vectr}[1]{\\boldsymbol {#1}^\\top}\n",
    "\\newcommand{\\rvar}[1]{\\mathrm {#1}}\n",
    "\\newcommand{\\rvec}[1]{\\boldsymbol{\\mathrm{#1}}}\n",
    "\\newcommand{\\diag}{\\mathop{\\mathrm {diag}}}\n",
    "\\newcommand{\\set}[1]{\\mathbb {#1}}\n",
    "\\newcommand{\\norm}[1]{\\left\\lVert#1\\right\\rVert}\n",
    "\\newcommand{\\pderiv}[2]{\\frac{\\partial #1}{\\partial #2}}\n",
    "\\newcommand{\\bb}[1]{\\boldsymbol{#1}}\n",
    "$$\n",
    "\n",
    "# CS236781:   Deep Learning\n",
    "# Tutorial 3: Multilayer Perceptron"
   ]
  },
  {
   "cell_type": "markdown",
   "metadata": {
    "slideshow": {
     "slide_type": "slide"
    }
   },
   "source": [
    "## Introduction\n",
    "\n",
    "In this tutorial, we will cover:\n",
    "\n",
    "* Linear (fully connected) layers\n",
    "* Activation functions\n",
    "* 2-Layer MLP implementation from scratch\n",
    "* Back-propagation\n",
    "* N-layer MLP with PyTorch's `autograd` and `optim` modules"
   ]
  },
  {
   "cell_type": "code",
   "execution_count": 1,
   "metadata": {
    "execution": {
     "iopub.execute_input": "2020-10-22T03:29:45.647365Z",
     "iopub.status.busy": "2020-10-22T03:29:45.646760Z",
     "iopub.status.idle": "2020-10-22T03:29:46.716055Z",
     "shell.execute_reply": "2020-10-22T03:29:46.715370Z"
    },
    "slideshow": {
     "slide_type": "subslide"
    }
   },
   "outputs": [],
   "source": [
    "# Setup\n",
    "%matplotlib inline\n",
    "import os\n",
    "import numpy as np\n",
    "import sklearn\n",
    "import torch\n",
    "import matplotlib.pyplot as plt"
   ]
  },
  {
   "cell_type": "code",
   "execution_count": 2,
   "metadata": {
    "execution": {
     "iopub.execute_input": "2020-10-22T03:29:46.720309Z",
     "iopub.status.busy": "2020-10-22T03:29:46.719684Z",
     "iopub.status.idle": "2020-10-22T03:29:46.750211Z",
     "shell.execute_reply": "2020-10-22T03:29:46.750895Z"
    },
    "slideshow": {
     "slide_type": "fragment"
    }
   },
   "outputs": [],
   "source": [
    "plt.rcParams['font.size'] = 20"
   ]
  },
  {
   "cell_type": "markdown",
   "metadata": {
    "slideshow": {
     "slide_type": "slide"
    }
   },
   "source": [
    "## Reminder: Perceptrons and linear models"
   ]
  },
  {
   "cell_type": "markdown",
   "metadata": {
    "slideshow": {
     "slide_type": "fragment"
    }
   },
   "source": [
    "The following hypothesis class\n",
    "$$\n",
    "\\mathcal{H} =\n",
    "\\left\\{ h: \\mathcal{X}\\rightarrow\\mathcal{Y}\n",
    "~\\vert~\n",
    "h(\\vec{x}) = \\varphi(\\vectr{w}\\vec{x}+b); \\vec{w}\\in\\set{R}^D,~b\\in\\set{R}\\right\\}\n",
    "$$\n",
    "where $\\varphi(\\cdot)$ is some nonlinear function, is composed of functions representing the **perceptron** model."
   ]
  },
  {
   "cell_type": "markdown",
   "metadata": {
    "slideshow": {
     "slide_type": "subslide"
    }
   },
   "source": [
    "Schematic of a single perceptron, and it's inspiration, a biological neuron.\n",
    "\n",
    "| . | . |\n",
    "|---|---|\n",
    "| <img src=\"imgs/perceptron.png\" width=400 /> | <img src=\"imgs/neuron.png\" width=600 /> |"
   ]
  },
  {
   "cell_type": "markdown",
   "metadata": {
    "slideshow": {
     "slide_type": "fragment"
    }
   },
   "source": [
    "Last tutorial: we trained a **logistic regression** model by using\n",
    "$$\\varphi(\\vec{z})=\\sigma(\\vec{z})=\\frac{1}{1+\\exp(-\\vec{z})}\\in[0,1].$$"
   ]
  },
  {
   "cell_type": "markdown",
   "metadata": {
    "slideshow": {
     "slide_type": "subslide"
    }
   },
   "source": [
    "**Limitation**: logistic regression is still a linear classifier. In what sense is it linear though?\n",
    "\n",
    "$$\\hat{y} = \\sigma(\\vectr{w}\\vec{x}+b)$$"
   ]
  },
  {
   "cell_type": "markdown",
   "metadata": {
    "slideshow": {
     "slide_type": "fragment"
    }
   },
   "source": [
    "**Linear** in the sense that output depends only on a linear combination of weights and inputs.\n",
    "\n",
    "Decision boundaries are therefore straight lines:\n",
    "\n",
    "<center><img src=\"imgs/perceptron_db.png\" width=\"600\"/></center>"
   ]
  },
  {
   "cell_type": "markdown",
   "metadata": {
    "slideshow": {
     "slide_type": "subslide"
    }
   },
   "source": [
    "If we define $y(\\vec{x})=\\vectr{w}\\vec{x}+b$, then the **decision surface** of the classifier is $y(\\vec{x})=\\text{const}$ (usually zero)."
   ]
  },
  {
   "cell_type": "markdown",
   "metadata": {
    "slideshow": {
     "slide_type": "fragment"
    }
   },
   "source": [
    "<center><img src=\"imgs/linear_discriminant.png\" width=\"700\"/></center>"
   ]
  },
  {
   "cell_type": "markdown",
   "metadata": {
    "slideshow": {
     "slide_type": "subslide"
    }
   },
   "source": [
    "- For any $\\vec{x_1}, \\vec{x_2}$ on the decision boundary, $\\vectr{w}(\\vec{x_1}-\\vec{x_2})=0$ $\\Rightarrow \\vec{w}$ orthogonal to every vector in the surface.\n",
    "- For any $\\vec{x_1}$ on the decision boundary, $\\vectr{w}\\vec{x_1}=-b$. Since $\\frac{\\vectr{w}}{\\norm{\\vec{w}}}\\vec{x_1}$ is the length of the projection of $\\vec{x}$ onto $\\vec{w}$, then the distance of the boundary from origin is given by\n",
    "$\\frac{-b}{\\norm{\\vec{w}}}$.\n",
    "- For any point $\\vec{x}$, $\\frac{y(\\vec{x})}{\\norm{\\vec{w}}}$ is the **signed perpendicular distance** from the decision boundary."
   ]
  },
  {
   "cell_type": "markdown",
   "metadata": {
    "slideshow": {
     "slide_type": "subslide"
    }
   },
   "source": [
    "What if our data is not linearly separable? Can we still use e.g. logistic regression?"
   ]
  },
  {
   "cell_type": "markdown",
   "metadata": {
    "slideshow": {
     "slide_type": "fragment"
    }
   },
   "source": [
    "<center><img src=\"imgs/nonlinear_datasets.png\" width=\"1200\"/></center>"
   ]
  },
  {
   "cell_type": "markdown",
   "metadata": {
    "slideshow": {
     "slide_type": "subslide"
    }
   },
   "source": [
    "**Generalized linear model**: first apply a **fixed** nonlinear transformation to the data\n",
    "\n",
    "$$\\hat{y} = \\varphi(\\vectr{w}\\psi(\\vec{x})+b).$$"
   ]
  },
  {
   "cell_type": "markdown",
   "metadata": {
    "slideshow": {
     "slide_type": "fragment"
    }
   },
   "source": [
    "Now we can get nonlinear decision boundaries with respect to $\\vec{x}$.\n",
    "\n",
    "But how can we choose a nonlinear transformation? What if we want to **learn** it?"
   ]
  },
  {
   "cell_type": "markdown",
   "metadata": {
    "slideshow": {
     "slide_type": "slide"
    }
   },
   "source": [
    "## Multilayer Perceptron (MLP)"
   ]
  },
  {
   "cell_type": "markdown",
   "metadata": {
    "slideshow": {
     "slide_type": "fragment"
    }
   },
   "source": [
    "### Model\n",
    "\n",
    "<center><img src=\"imgs/mlp.png\" width=1000 /></center>\n",
    "\n",
    "Composed of $L$ hidden **layers**, each layer $l$ with $n_l$ **perceptron** (\"neuron\") units."
   ]
  },
  {
   "cell_type": "markdown",
   "metadata": {
    "slideshow": {
     "slide_type": "subslide"
    }
   },
   "source": [
    "Each layer $l$ operates on the output of the previous layer ($\\vec{y}_{l-1}$) and calculates:\n",
    "\n",
    "$$\n",
    "\\vec{y}_l = \\varphi\\left( \\mat{W}_l \\vec{y}_{l-1} + \\vec{b}_l \\right),~\n",
    "\\mat{W}_l\\in\\set{R}^{n_{l}\\times n_{l-1}},~ \\vec{b}_l\\in\\set{R}^{n_l}.\n",
    "$$\n",
    "\n",
    "- Note that both input and output are **vectors**. We can think of the above equation as describing a layer of **multiple perceptrons**.\n",
    "- We'll henceforth refer to such layers as **fully-connected** or FC layers.\n",
    "- The first layer accepts the input of the model, i.e. $\\vec{y}_0=\\vec{x}\\in\\set{R}^d$."
   ]
  },
  {
   "cell_type": "markdown",
   "metadata": {
    "slideshow": {
     "slide_type": "subslide"
    }
   },
   "source": [
    "Given an input sample $\\vec{x}^i$, the computed function of an $L$-layer MLP is:\n",
    "$$\n",
    "\\vec{y}_L^i= \\varphi \\left(\n",
    "\\mat{W}_L \\varphi \\left( \\cdots\n",
    "\\varphi \\left( \\mat{W}_1 \\vec{x}^i + \\vec{b}_1 \\right)\n",
    "\\cdots \\right)\n",
    "+ \\vec{b}_L \\right)\n",
    "$$\n",
    "\n",
    "- Universal approximator theorem: an MLP with $L>1$, can approximate (almost) any function given enough parameters (Cybenko, 1989). The MLP is therefore a **potent hypothesis class** (recall approximation error and expressiveness).\n",
    "\n",
    "  See [here](http://neuralnetworksanddeeplearning.com/chap4.html) for an intuitive explanation of the UAT."
   ]
  },
  {
   "cell_type": "markdown",
   "metadata": {
    "slideshow": {
     "slide_type": "subslide"
    }
   },
   "source": [
    "- This expression is fully differentiable w.r.t. parameters using the Chain Rule.\n"
   ]
  },
  {
   "cell_type": "markdown",
   "metadata": {
    "slideshow": {
     "slide_type": "subslide"
    }
   },
   "source": [
    "- Since it has a non-linear dependency on it's weights and inputs, non-linear decision boundaries are possible\n",
    "    - MLP with 1, 2 and 4 hidden layers, 3 neurons each\n",
    "    \n",
    "    <center><img src=\"imgs/overfit_1-2-4HL_3N.jpg\" width=\"1100\" alt=\"overfit1\"></center>"
   ]
  },
  {
   "cell_type": "markdown",
   "metadata": {},
   "source": [
    "- Cool visualization of the effect of MLP layers: http://playground.tensorflow.org/"
   ]
  },
  {
   "cell_type": "markdown",
   "metadata": {
    "slideshow": {
     "slide_type": "slide"
    }
   },
   "source": [
    "### Activation functions "
   ]
  },
  {
   "cell_type": "markdown",
   "metadata": {
    "slideshow": {
     "slide_type": "subslide"
    }
   },
   "source": [
    "An **activation function** is the non-linear elementwise function $\\varphi(\\cdot)$ which operates on the affine part of the perceptron model.\n",
    "\n",
    "Why do we even need non-linearities in the first place? Isn't the depth enough?"
   ]
  },
  {
   "cell_type": "markdown",
   "metadata": {
    "slideshow": {
     "slide_type": "fragment"
    }
   },
   "source": [
    "Without them, the MLP model would be equivalent to a single affine transform."
   ]
  },
  {
   "cell_type": "markdown",
   "metadata": {
    "slideshow": {
     "slide_type": "subslide"
    }
   },
   "source": [
    "Common choices for the activation functions are:\n",
    "\n",
    "- The logistic function (sigmoid)\n",
    "    $$ \\varphi(t) = \\sigma(t) = \\frac{1}{1+e^{-t}} \\in  [0,1] $$\n",
    "- The hyperbolic tangent (a shifted and scaled sigmoid)\n",
    "    $$ \\varphi(t) = \\mathrm{tanh}(t) = \\frac{e^t - e^{-t}}{e^t +e^{-t}} \\in [-1,1]$$"
   ]
  },
  {
   "cell_type": "markdown",
   "metadata": {
    "slideshow": {
     "slide_type": "fragment"
    }
   },
   "source": [
    "- ReLU, rectified linear unit\n",
    "    $$ \\varphi(t) = \\max\\{t,0\\} $$\n",
    "Note that ReLU is not strictly differentiable. However, sub-gradients exist. We will define its gradient as:\n",
    "    $$ \\pderiv{\\varphi}{t} = \\begin{cases} 1, & t\\geq0 \\\\ 0, & t<0 \\end{cases} $$"
   ]
  },
  {
   "cell_type": "code",
   "execution_count": 3,
   "metadata": {
    "execution": {
     "iopub.execute_input": "2020-10-22T03:29:46.758075Z",
     "iopub.status.busy": "2020-10-22T03:29:46.757331Z",
     "iopub.status.idle": "2020-10-22T03:29:46.785448Z",
     "shell.execute_reply": "2020-10-22T03:29:46.786118Z"
    },
    "slideshow": {
     "slide_type": "subslide"
    }
   },
   "outputs": [],
   "source": [
    "# Plot some activation functions and their gradients\n",
    "\n",
    "# Activation functions\n",
    "relu = lambda x: np.maximum(0, x)\n",
    "sigmoid = lambda x: 1 / (1 + np.exp(-x))\n",
    "tanh = lambda x: (np.exp(x)-np.exp(-x)) / (np.exp(x)+np.exp(-x))\n",
    "\n",
    "# Their gradients\n",
    "g_relu = lambda x: np.array(relu(x) > 0, dtype=np.float)\n",
    "g_sigmoid = lambda x: sigmoid(x) * (1-sigmoid(x))\n",
    "g_tanh = lambda x: (1 - tanh(x) ** 2)"
   ]
  },
  {
   "cell_type": "code",
   "execution_count": 4,
   "metadata": {
    "execution": {
     "iopub.execute_input": "2020-10-22T03:29:46.792054Z",
     "iopub.status.busy": "2020-10-22T03:29:46.791471Z",
     "iopub.status.idle": "2020-10-22T03:29:47.428901Z",
     "shell.execute_reply": "2020-10-22T03:29:47.429410Z"
    },
    "slideshow": {
     "slide_type": "subslide"
    }
   },
   "outputs": [
    {
     "data": {
      "image/png": "[encoded data removed]",
      "text/plain": [
       "<Figure size 1152x360 with 2 Axes>"
      ]
     },
     "metadata": {
      "needs_background": "light"
     },
     "output_type": "display_data"
    }
   ],
   "source": [
    "x = np.linspace(-4, 4, num=1024)\n",
    "_, axes = plt.subplots(nrows=1, ncols=2, figsize=(16,5))\n",
    "axes[0].plot(x, relu(x), x, sigmoid(x), x, tanh(x))\n",
    "axes[1].plot(x, g_relu(x), x, g_sigmoid(x), x, g_tanh(x))\n",
    "legend_entries = (r'\\mathrm{ReLU}(x)', r'\\sigma(x)', r'\\mathrm{tanh}(x)')\n",
    "for ax, legend_prefix in zip(axes, ('', r'\\frac{\\partial}{\\partial x}')):\n",
    "    ax.grid(True)\n",
    "    ax.legend(tuple(f'${legend_prefix}{legend_entry}$' for legend_entry in legend_entries))\n",
    "    ax.set_ylim((-1.1,1.1))"
   ]
  },
  {
   "cell_type": "markdown",
   "metadata": {
    "slideshow": {
     "slide_type": "subslide"
    }
   },
   "source": [
    "Some reasons people cite for using ReLU are:\n",
    "\n",
    "- \"Nearly linear\", so easy to optimize\n",
    "- Mitigates vanishing gradients due to many layers (even though they can still be zero).\n",
    "- Promotes sparse weight vectors: \"dead neurons\" arguably cause sparsity in the next layer.\n",
    "- Much faster to compute than sigmoid and tanh."
   ]
  },
  {
   "cell_type": "markdown",
   "metadata": {
    "slideshow": {
     "slide_type": "slide"
    }
   },
   "source": [
    "## Part 1: Two-layer MLP from scratch"
   ]
  },
  {
   "cell_type": "markdown",
   "metadata": {
    "slideshow": {
     "slide_type": "fragment"
    }
   },
   "source": [
    "Let's solve a simple **regression** problem with a 2-layer MLP (one hidden layer, one output layer)."
   ]
  },
  {
   "cell_type": "markdown",
   "metadata": {
    "slideshow": {
     "slide_type": "slide"
    }
   },
   "source": [
    "We're trying to learn a continuous and perhaps non-deterministic function $y=f(\\vec{x})$.\n",
    "\n",
    "- Domain: $\\vec{x}^i \\in \\set{R}^{D_{\\text{in}}}$\n",
    "\n",
    "- Target: $y^i \\in \\set{R}^{D_{\\text{out}}}$\n",
    "\n",
    "- Model: $\\hat{y} =\\mat{W}_2~ \\varphi(\\mat{W}_1 \\vec{x}+ \\vec{b}_1) + \\vec{b}_2$<br>\n",
    "  i.e. a 2-layer MLP, where:\n",
    "    - $\\vec{x}\\in\\set{R}^{D_{\\text{in}}}$ sample (feature vector)\n",
    "    - $\\mat{W}_1\\in\\set{R}^{H\\times D_{\\text{in}}},\\ \\vec{b}_1\\in\\set{R}^{H}$\n",
    "    - $\\mat{W}_2\\in\\set{R}^{D_{\\text{out}}\\times H},\\ \\vec{b}_2\\in\\set{R}^{D_{\\text{out}}}$\n",
    "    - $\\varphi(\\cdot) = \\mathrm{ReLU}(\\cdot) = \\max\\{\\cdot,0\\}$\n",
    "    - $H$ is the hidden dimension\n",
    "    - We'll set $D_{\\text{out}}=1$ so output is a scalar\n",
    "   "
   ]
  },
  {
   "cell_type": "markdown",
   "metadata": {
    "slideshow": {
     "slide_type": "slide"
    }
   },
   "source": [
    " \n",
    "- MSE loss with L2 regularization:\n",
    "    $$\n",
    "    \\begin{align}\n",
    "    \\ell(\\vec{y},\\vec{\\hat y}) &= \\frac{1}{2}\\norm{\\vec{\\hat y} - \\vec{y}}^2 \\\\\n",
    "    L_{\\mathcal{S}} &= \\frac{1}{N}\\sum_{i=1}^{N}\\ell(\\vec{y},\\vec{\\hat y}) + \\frac{\\lambda}{2}\\left(\\norm{\\mat{W}_1}_F^2 + \\norm{\\mat{W}_2}_F^2 \\right)\n",
    "    \\end{align}\n",
    "    $$\n",
    "- Optimization scheme: Vanilla SGD"
   ]
  },
  {
   "cell_type": "markdown",
   "metadata": {
    "slideshow": {
     "slide_type": "slide"
    }
   },
   "source": [
    "### Computing the loss gradients with backpropagation"
   ]
  },
  {
   "cell_type": "markdown",
   "metadata": {
    "slideshow": {
     "slide_type": "fragment"
    }
   },
   "source": [
    "Let's write our model as \n",
    "$$\n",
    "\\hat{y} =\\mat{W}_2~ \\underbrace{\\mathrm{relu}(\\overbrace{\\mat{W}_1 \\vec{x}+ \\vec{b}_1}^{\\vec{z}})}_{\\vec{a}} + \\vec{b}_2,\n",
    "$$\n",
    "\n",
    "and manually derive the gradient of the point-wise loss $\\ell(\\vec{y},\\vec{\\hat y})$ using the **chain rule**.\n",
    "Remember that to use SGD, we need the gradient of the loss w.r.t. our parameter tensors."
   ]
  },
  {
   "cell_type": "markdown",
   "metadata": {
    "slideshow": {
     "slide_type": "subslide"
    }
   },
   "source": [
    "$$\n",
    "\\begin{align}\n",
    "&\\pderiv{\\ell}{\\vec{\\hat y}}=2\\cdot\\frac{1}{2}(\\vec{\\hat y}-\\vec{y}) = (\\vec{\\hat y}-\\vec{y})\\\\\n",
    "(\\ast)~~&\\pderiv{\\ell}{\\mat{W}_2}= \\pderiv{\\ell}{\\vec{\\hat y}}\\pderiv{\\vec{\\hat y}}{\\mat{W}_2}\n",
    "=(\\vec{\\hat y}-\\vec{y})\\vectr{a}\n",
    "\\end{align}\n",
    "$$"
   ]
  },
  {
   "cell_type": "markdown",
   "metadata": {
    "slideshow": {
     "slide_type": "subslide"
    }
   },
   "source": [
    "How do we continue into the nonlinearity? Recall that we defined\n",
    "\n",
    "$$ \\pderiv{\\mathrm{relu}(x)}{x} = \\begin{cases} 1, & x\\geq0 \\\\ 0, & x<0 \\end{cases} $$\n",
    "\n",
    "and that we apply the non-linearity elementwise on input tensors.\n",
    "\n",
    "Also remember that the gradient of a vector w.r.t. another vector is a matrix of mixed derivatives, i.e. $\\pderiv{a_i}{z_j}$.\n",
    "\n",
    "Thus,\n",
    "\n",
    "$$\n",
    "\\pderiv{\\vec{a}}{\\vec{z}}=\\mathrm{diag}(\\mathbb{1}[\\vec{z}>0]).\n",
    "$$\n"
   ]
  },
  {
   "cell_type": "markdown",
   "metadata": {
    "slideshow": {
     "slide_type": "subslide"
    }
   },
   "source": [
    "And so,\n",
    "$$\n",
    "\\begin{align}\n",
    "&\\pderiv{\\ell}{\\vec{z}}=\\pderiv{\\ell}{\\vec{\\hat y}}\\pderiv{\\vec{\\hat y}}{\\vec{a}}\\pderiv{\\vec{a}}{\\vec{z}}\n",
    "=\\mathrm{diag}(\\mathbb{1}[\\vec{z}>0])\\mattr{W}_2(\\vec{\\hat y}-\\vec{y})\\\\\n",
    "(\\ast)~~&\\pderiv{\\ell}{\\mat{W}_1}=\\pderiv{\\ell}{\\vec{\\hat y}}\\pderiv{\\vec{\\hat y}}{\\vec{a}}\\pderiv{\\vec{a}}{\\vec{z}}\n",
    "\\pderiv{\\vec{z}}{\\mat{W}_1}\n",
    "=\\mathrm{diag}(\\mathbb{1}[\\vec{z}>0])\\mattr{W}_2(\\vec{\\hat y}-\\vec{y})\\vectr{x}\\\\\n",
    "\\end{align}\n",
    "$$"
   ]
  },
  {
   "cell_type": "markdown",
   "metadata": {
    "slideshow": {
     "slide_type": "subslide"
    }
   },
   "source": [
    "For the biases, we can easily see that:\n",
    "$$\n",
    "\\begin{align}\n",
    "(\\ast)~~&\\pderiv{\\ell}{\\vec{b}_2}=\\pderiv{\\ell}{\\vec{\\hat y}}\\pderiv{\\vec{\\hat y}}{\\vec{b}_2}\n",
    "=\\pderiv{\\ell}{\\vec{\\hat y}}I_{D_{\\text{out}}} \\\\\n",
    "(\\ast)~~&\\pderiv{\\ell}{\\vec{b}_1}=\\pderiv{\\ell}{\\vec{z}}\\pderiv{\\vec{z}}{\\vec{b}_1}\n",
    "=\\pderiv{\\ell}{\\vec{z}}I_{H}\\\\\n",
    "\\end{align}\n",
    "$$"
   ]
  },
  {
   "cell_type": "markdown",
   "metadata": {
    "slideshow": {
     "slide_type": "subslide"
    }
   },
   "source": [
    "The final gradients for weight update, including regularization will be\n",
    "\n",
    "$$\n",
    "\\nabla_{\\mat{W}_j}L_{\\mathcal{D}}=\\frac{1}{N}\\sum_{i=1}^{N} \\pderiv{\\ell_i}{\\mat{W}_j} + \\lambda\\mat{W}_j, \\ j=1,2.\n",
    "$$"
   ]
  },
  {
   "cell_type": "markdown",
   "metadata": {
    "slideshow": {
     "slide_type": "subslide"
    }
   },
   "source": [
    "Let's implement it from scratch using just `numpy`."
   ]
  },
  {
   "cell_type": "code",
   "execution_count": 5,
   "metadata": {
    "execution": {
     "iopub.execute_input": "2020-10-22T03:29:47.434124Z",
     "iopub.status.busy": "2020-10-22T03:29:47.433636Z",
     "iopub.status.idle": "2020-10-22T03:29:47.460567Z",
     "shell.execute_reply": "2020-10-22T03:29:47.461143Z"
    },
    "slideshow": {
     "slide_type": "subslide"
    }
   },
   "outputs": [],
   "source": [
    "# A simple MLP with one hidden layer\n",
    "\n",
    "# N: batch size\n",
    "# D_in: number of features\n",
    "N, D_in =  64, 10\n",
    "# H: hidden-layer\n",
    "# D_out: output dimension\n",
    "H, D_out =  100, 1\n",
    "\n",
    "# Random input data\n",
    "X = np.random.randn(N, D_in)\n",
    "y = np.random.randn(N, D_out)\n",
    "\n",
    "# Model weights and biases\n",
    "wstd = 0.01\n",
    "W1 = np.random.randn(H, D_in)*wstd\n",
    "b1 = np.random.randn(H,)*wstd + 0.1\n",
    "W2 = np.random.randn(D_out, H)*wstd\n",
    "b2 = np.random.randn(D_out,)*wstd + 0.1\n",
    "\n",
    "reg_lambda = 0.5\n",
    "learning_rate = 1e-3"
   ]
  },
  {
   "cell_type": "code",
   "execution_count": 6,
   "metadata": {
    "execution": {
     "iopub.execute_input": "2020-10-22T03:29:47.466402Z",
     "iopub.status.busy": "2020-10-22T03:29:47.465877Z",
     "iopub.status.idle": "2020-10-22T03:29:47.596616Z",
     "shell.execute_reply": "2020-10-22T03:29:47.597170Z"
    },
    "slideshow": {
     "slide_type": "subslide"
    }
   },
   "outputs": [
    {
     "name": "stdout",
     "output_type": "stream",
     "text": [
      ".........................................................................................................................................................................................................................................................."
     ]
    }
   ],
   "source": [
    "losses = []\n",
    "for epoch in range(250):\n",
    "    # Forward pass, hidden layer: A = relu(X W1), Shape: (N, H)\n",
    "    Z = X.dot(W1.T) + b1\n",
    "    A = np.maximum(Z, 0)\n",
    "    \n",
    "    # Forward pass, output layer: Y_hat = A W2, Shape: (N, D_out)\n",
    "    Y_hat = A.dot(W2.T) + b2\n",
    "    \n",
    "    # Loss calculation (MSE)\n",
    "    loss = np.mean((Y_hat - y) ** 2); losses.append(loss)\n",
    "    \n",
    "    # Backward pass:  Output layer\n",
    "    d_Y_hat = (1./N) * (Y_hat - y)\n",
    "    d_W2 = d_Y_hat.T.dot(A)\n",
    "    d_A = d_Y_hat.dot(W2)\n",
    "    d_b2 = np.sum(d_Y_hat, axis=0)\n",
    "    \n",
    "    # Backward pass: Hidden layer\n",
    "    d_Z = d_A * np.array(Z > 0, dtype=np.float)\n",
    "    d_W1 = d_Z.T.dot(X)\n",
    "    d_b1 = np.sum(d_Z, axis=0)\n",
    "    \n",
    "    # Backward pass: Regularization term\n",
    "    d_W2 += reg_lambda * W2\n",
    "    d_W1 += reg_lambda * W1\n",
    "    \n",
    "    # Gradient descent step\n",
    "    W2 -= d_W2 * learning_rate; b2 -= d_b2 * learning_rate\n",
    "    W1 -= d_W1 * learning_rate; b1 -= d_b1 * learning_rate\n",
    "    print('.', end='')"
   ]
  },
  {
   "cell_type": "code",
   "execution_count": 7,
   "metadata": {
    "execution": {
     "iopub.execute_input": "2020-10-22T03:29:47.600724Z",
     "iopub.status.busy": "2020-10-22T03:29:47.599986Z",
     "iopub.status.idle": "2020-10-22T03:29:47.739857Z",
     "shell.execute_reply": "2020-10-22T03:29:47.740406Z"
    },
    "slideshow": {
     "slide_type": "subslide"
    }
   },
   "outputs": [
    {
     "data": {
      "text/plain": [
       "Text(0.5, 0, 'Epoch')"
      ]
     },
     "execution_count": 1,
     "metadata": {},
     "output_type": "execute_result"
    },
    {
     "data": {
      "image/png": "[encoded data removed]",
      "text/plain": [
       "<Figure size 720x360 with 1 Axes>"
      ]
     },
     "metadata": {
      "needs_background": "light"
     },
     "output_type": "display_data"
    }
   ],
   "source": [
    "# Plot losses\n",
    "_, ax = plt.subplots(figsize=(10,5))\n",
    "ax.plot(losses)\n",
    "ax.set_ylabel('MSE loss'); ax.set_xlabel('Epoch');"
   ]
  },
  {
   "cell_type": "markdown",
   "metadata": {
    "slideshow": {
     "slide_type": "subslide"
    }
   },
   "source": [
    "Note that this implementation is not ideal, as it's:"
   ]
  },
  {
   "cell_type": "markdown",
   "metadata": {
    "slideshow": {
     "slide_type": "fragment"
    }
   },
   "source": [
    "- Non modular (hard to switch components)\n",
    "- Hard to extend (e.g. to add layers)\n",
    "- Error prone (hard-coded manual calculations)"
   ]
  },
  {
   "cell_type": "markdown",
   "metadata": {
    "slideshow": {
     "slide_type": "fragment"
    }
   },
   "source": [
    "But it works!\n",
    "- In HW2, you'll implement a from scratch MLP that addresses these concerns.\n",
    "- And now, we'll see how to address these issues using PyTorch's API."
   ]
  },
  {
   "cell_type": "markdown",
   "metadata": {
    "slideshow": {
     "slide_type": "slide"
    }
   },
   "source": [
    "## Part 2: N-Layer MLP using PyTorch"
   ]
  },
  {
   "cell_type": "markdown",
   "metadata": {
    "slideshow": {
     "slide_type": "fragment"
    }
   },
   "source": [
    "Let's create all our usual components:\n",
    "- Dataset\n",
    "- Model\n",
    "- Loss function\n",
    "- Optimizer\n",
    "\n",
    "But this time we'll create a modular implementation where each of these components is separate and can be changed independently of the others."
   ]
  },
  {
   "cell_type": "markdown",
   "metadata": {
    "slideshow": {
     "slide_type": "subslide"
    }
   },
   "source": [
    "### Dataset"
   ]
  },
  {
   "cell_type": "markdown",
   "metadata": {
    "slideshow": {
     "slide_type": "fragment"
    }
   },
   "source": [
    "As in the previous tutorial we'll tackle an image classification task, the MNIST database of handwritten digits."
   ]
  },
  {
   "cell_type": "code",
   "execution_count": 8,
   "metadata": {
    "execution": {
     "iopub.execute_input": "2020-10-22T03:29:47.744010Z",
     "iopub.status.busy": "2020-10-22T03:29:47.743413Z",
     "iopub.status.idle": "2020-10-22T03:29:47.814690Z",
     "shell.execute_reply": "2020-10-22T03:29:47.815057Z"
    },
    "slideshow": {
     "slide_type": "subslide"
    }
   },
   "outputs": [],
   "source": [
    "import torch\n",
    "import torch.utils.data\n",
    "import torchvision\n",
    "import torchvision.transforms\n",
    "\n",
    "root_dir = os.path.expanduser('~/.pytorch-datasets/')"
   ]
  },
  {
   "cell_type": "code",
   "execution_count": 9,
   "metadata": {
    "execution": {
     "iopub.execute_input": "2020-10-22T03:29:47.822755Z",
     "iopub.status.busy": "2020-10-22T03:29:47.821624Z",
     "iopub.status.idle": "2020-10-22T03:29:47.889570Z",
     "shell.execute_reply": "2020-10-22T03:29:47.890262Z"
    },
    "slideshow": {
     "slide_type": "subslide"
    }
   },
   "outputs": [
    {
     "name": "stdout",
     "output_type": "stream",
     "text": [
      "x0: torch.Size([1, 28, 28]), y0: 5\n"
     ]
    }
   ],
   "source": [
    "tf_ds = torchvision.transforms.ToTensor()\n",
    "\n",
    "batch_size = 512\n",
    "train_size = batch_size * 10\n",
    "test_size = batch_size * 2\n",
    "\n",
    "# Datasets and loaders\n",
    "ds_train = torchvision.datasets.MNIST(root=root_dir, download=True, train=True, transform=tf_ds)\n",
    "dl_train = torch.utils.data.DataLoader(ds_train, batch_size,\n",
    "                                       sampler=torch.utils.data.SubsetRandomSampler(range(0,train_size)))\n",
    "ds_test =  torchvision.datasets.MNIST(root=root_dir, download=True, train=False, transform=tf_ds)\n",
    "dl_test = torch.utils.data.DataLoader(ds_test, batch_size,\n",
    "                                       sampler=torch.utils.data.SubsetRandomSampler(range(0,test_size)))\n",
    "\n",
    "x0, y0 = ds_train[0]\n",
    "n_features = torch.numel(x0)\n",
    "n_classes = 10\n",
    "\n",
    "print(f'x0: {x0.shape}, y0: {y0}')"
   ]
  },
  {
   "cell_type": "code",
   "execution_count": 10,
   "metadata": {
    "execution": {
     "iopub.execute_input": "2020-10-22T03:29:47.894407Z",
     "iopub.status.busy": "2020-10-22T03:29:47.893821Z",
     "iopub.status.idle": "2020-10-22T03:29:48.242380Z",
     "shell.execute_reply": "2020-10-22T03:29:48.242940Z"
    },
    "slideshow": {
     "slide_type": "subslide"
    }
   },
   "outputs": [
    {
     "name": "stdout",
     "output_type": "stream",
     "text": [
      "x0: torch.Size([1, 28, 28]), y0: 5\n"
     ]
    },
    {
     "data": {
      "text/plain": [
       "(<Figure size 576x576 with 10 Axes>,\n",
       " array([<AxesSubplot:>, <AxesSubplot:>, <AxesSubplot:>, <AxesSubplot:>,\n",
       "        <AxesSubplot:>, <AxesSubplot:>, <AxesSubplot:>, <AxesSubplot:>,\n",
       "        <AxesSubplot:>, <AxesSubplot:>], dtype=object))"
      ]
     },
     "execution_count": 1,
     "metadata": {},
     "output_type": "execute_result"
    },
    {
     "data": {
      "image/png": "[encoded data removed]",
      "text/plain": [
       "<Figure size 576x576 with 10 Axes>"
      ]
     },
     "metadata": {},
     "output_type": "display_data"
    }
   ],
   "source": [
    "import sys\n",
    "sys.path.append('..')\n",
    "import t02.plot_utils as plot_utils\n",
    "# Show first few samples\n",
    "print(f'x0: {x0.shape}, y0: {y0}')\n",
    "plot_utils.dataset_first_n(ds_train, 10, cmap='gray');"
   ]
  },
  {
   "cell_type": "markdown",
   "metadata": {
    "slideshow": {
     "slide_type": "subslide"
    }
   },
   "source": [
    "### Model Implementation"
   ]
  },
  {
   "cell_type": "markdown",
   "metadata": {
    "slideshow": {
     "slide_type": "fragment"
    }
   },
   "source": [
    "- The `torch.nn` module contains building blocks such as neural network layers,\n",
    "  loss functions, activations and more.\n",
    "- We'll use `nn.Linear` which implements an single MLP layer.\n",
    "- We'll implement our model as a subclass of `nn.Module`, which means:\n",
    "    - Any tensors we set as properties will be registered as model parameters.\n",
    "    - We can nest `nn.Modules` and get all model parameters from the top-level `nn.Module`.\n",
    "    - Can be used as a function if we implement the `forward()` method."
   ]
  },
  {
   "cell_type": "markdown",
   "metadata": {
    "slideshow": {
     "slide_type": "subslide"
    }
   },
   "source": [
    "To understand `nn.Module`, lets look at a very basic one: the **fully-connected** layer."
   ]
  },
  {
   "cell_type": "code",
   "execution_count": 11,
   "metadata": {
    "execution": {
     "iopub.execute_input": "2020-10-22T03:29:48.246455Z",
     "iopub.status.busy": "2020-10-22T03:29:48.245971Z",
     "iopub.status.idle": "2020-10-22T03:29:48.283059Z",
     "shell.execute_reply": "2020-10-22T03:29:48.283788Z"
    },
    "slideshow": {
     "slide_type": "fragment"
    }
   },
   "outputs": [
    {
     "data": {
      "text/plain": [
       "tensor([[ 4.4785e-01, -1.0593e-01,  4.5609e-01,  6.0809e-01, -5.8904e-01],\n",
       "        [ 3.3830e-01,  3.6466e-01,  1.0606e-01,  6.2464e-02, -3.8650e-01],\n",
       "        [ 3.5199e-01, -2.9973e-01,  4.2099e-01,  9.5227e-01, -8.2561e-01],\n",
       "        [ 5.0555e-01,  1.4192e-02,  3.2584e-01, -3.6496e-02, -9.1817e-02],\n",
       "        [ 6.1656e-01,  2.1602e-01,  5.3590e-01,  5.5699e-02, -2.0807e-01],\n",
       "        [-1.1176e-01, -7.9787e-01, -2.7950e-01,  1.0567e+00, -8.8424e-01],\n",
       "        [ 9.3970e-01,  7.8896e-01,  8.9678e-01, -3.9880e-01,  4.8488e-02],\n",
       "        [ 8.0164e-01,  5.0429e-01,  8.5079e-01,  1.1039e-01, -3.0088e-01],\n",
       "        [ 3.8066e-01, -3.2817e-02,  2.6493e-01,  3.5502e-01, -4.4036e-01],\n",
       "        [ 4.5826e-01,  8.2220e-01,  2.8229e-01,  3.3826e-04, -4.8136e-01]],\n",
       "       grad_fn=<AddmmBackward>)"
      ]
     },
     "execution_count": 1,
     "metadata": {},
     "output_type": "execute_result"
    }
   ],
   "source": [
    "import torch.nn as nn\n",
    "\n",
    "fc = nn.Linear(in_features=3, out_features=5, bias=True)\n",
    "\n",
    "# Input tensor with 10 samples of 3 features\n",
    "t = torch.randn(10, 3)\n",
    "\n",
    "# Forward pass, notice that grad_fn exists\n",
    "fc(t)"
   ]
  },
  {
   "cell_type": "markdown",
   "metadata": {
    "slideshow": {
     "slide_type": "subslide"
    }
   },
   "source": [
    "`nn.Modules` have registered **parameters**, which are tensors which `require_grad`."
   ]
  },
  {
   "cell_type": "code",
   "execution_count": 12,
   "metadata": {
    "execution": {
     "iopub.execute_input": "2020-10-22T03:29:48.287180Z",
     "iopub.status.busy": "2020-10-22T03:29:48.286636Z",
     "iopub.status.idle": "2020-10-22T03:29:48.318552Z",
     "shell.execute_reply": "2020-10-22T03:29:48.319022Z"
    },
    "slideshow": {
     "slide_type": "fragment"
    }
   },
   "outputs": [
    {
     "data": {
      "text/plain": [
       "[Parameter containing:\n",
       " tensor([[ 0.0058,  0.3573, -0.0181],\n",
       "         [-0.3812,  0.4800, -0.0875],\n",
       "         [ 0.0944,  0.4296,  0.1155],\n",
       "         [ 0.2705, -0.4045,  0.4206],\n",
       "         [-0.0572,  0.2686, -0.3129]], requires_grad=True),\n",
       " Parameter containing:\n",
       " tensor([ 0.5386,  0.1801,  0.5179,  0.3585, -0.4705], requires_grad=True)]"
      ]
     },
     "execution_count": 1,
     "metadata": {},
     "output_type": "execute_result"
    }
   ],
   "source": [
    "# Note parameter dimenstions\n",
    "list(fc.parameters())"
   ]
  },
  {
   "cell_type": "markdown",
   "metadata": {
    "slideshow": {
     "slide_type": "subslide"
    }
   },
   "source": [
    "We can create custom `nn.Module`s with arbitrary logic. \n",
    "\n",
    "Let's recreate a fully-connected layer ourselves:"
   ]
  },
  {
   "cell_type": "code",
   "execution_count": 13,
   "metadata": {
    "execution": {
     "iopub.execute_input": "2020-10-22T03:29:48.324703Z",
     "iopub.status.busy": "2020-10-22T03:29:48.324043Z",
     "iopub.status.idle": "2020-10-22T03:29:48.352929Z",
     "shell.execute_reply": "2020-10-22T03:29:48.353484Z"
    },
    "slideshow": {
     "slide_type": "fragment"
    }
   },
   "outputs": [],
   "source": [
    "class MyFullyConnectedLayer(nn.Module):\n",
    "    \n",
    "    def __init__(self, in_features, out_features):\n",
    "        super().__init__() # don't forget this!\n",
    "        W = torch.randn(out_features, in_features, requires_grad=True)\n",
    "        b = torch.randn(out_features, requires_grad=True)\n",
    "        \n",
    "        # Mark W,b for inclusion in list of parameters\n",
    "        self.register_parameter('W', nn.Parameter(W))\n",
    "        self.register_parameter('b', nn.Parameter(b))\n",
    "        \n",
    "    def forward(self, x):\n",
    "        # x assumed to be (N, in_features)\n",
    "        z = torch.matmul(x, self.W.transpose(0, 1)) + self.b\n",
    "        \n",
    "        # Our custom FC layer multiplies all outputs by 3 for no good reason\n",
    "        return 3 * z"
   ]
  },
  {
   "cell_type": "code",
   "execution_count": 14,
   "metadata": {
    "execution": {
     "iopub.execute_input": "2020-10-22T03:29:48.357361Z",
     "iopub.status.busy": "2020-10-22T03:29:48.356393Z",
     "iopub.status.idle": "2020-10-22T03:29:48.392651Z",
     "shell.execute_reply": "2020-10-22T03:29:48.393330Z"
    },
    "slideshow": {
     "slide_type": "subslide"
    }
   },
   "outputs": [],
   "source": [
    "myfc = MyFullyConnectedLayer(in_features=3, out_features=5)"
   ]
  },
  {
   "cell_type": "code",
   "execution_count": 15,
   "metadata": {
    "execution": {
     "iopub.execute_input": "2020-10-22T03:29:48.396443Z",
     "iopub.status.busy": "2020-10-22T03:29:48.395918Z",
     "iopub.status.idle": "2020-10-22T03:29:48.430999Z",
     "shell.execute_reply": "2020-10-22T03:29:48.431605Z"
    },
    "slideshow": {
     "slide_type": "fragment"
    }
   },
   "outputs": [
    {
     "data": {
      "text/plain": [
       "tensor([[ 4.4373,  2.2917,  6.3885, -3.4496,  1.4642],\n",
       "        [-0.9576, -3.4540,  3.3536, -8.6819, -2.0465],\n",
       "        [ 6.5225,  3.3987,  7.7323, -2.0714,  3.6329],\n",
       "        [ 1.7696, -1.0516,  6.4403, -6.7913, -4.6467],\n",
       "        [ 1.0696,  0.7040,  4.0942, -5.5303, -1.8850],\n",
       "        [ 8.6093, -1.5845, 13.2996, -5.2492, -0.3217],\n",
       "        [-3.1618,  1.4285, -1.1228, -5.9690, -1.9156],\n",
       "        [-0.0775,  3.1157,  0.8369, -3.8952,  1.3219],\n",
       "        [ 2.8813, -0.3361,  6.3808, -5.7461, -1.1505],\n",
       "        [-3.8872, -2.9868, -1.0959, -8.7403,  0.6656]], grad_fn=<MulBackward0>)"
      ]
     },
     "execution_count": 1,
     "metadata": {},
     "output_type": "execute_result"
    }
   ],
   "source": [
    "myfc(t)"
   ]
  },
  {
   "cell_type": "code",
   "execution_count": 16,
   "metadata": {
    "execution": {
     "iopub.execute_input": "2020-10-22T03:29:48.434553Z",
     "iopub.status.busy": "2020-10-22T03:29:48.434058Z",
     "iopub.status.idle": "2020-10-22T03:29:48.465342Z",
     "shell.execute_reply": "2020-10-22T03:29:48.466080Z"
    },
    "slideshow": {
     "slide_type": "subslide"
    }
   },
   "outputs": [
    {
     "data": {
      "text/plain": [
       "[Parameter containing:\n",
       " tensor([[ 1.1742e+00, -1.1012e+00,  6.2519e-01],\n",
       "         [ 8.1264e-01,  5.6114e-01,  8.2493e-01],\n",
       "         [ 1.0025e+00, -1.5099e+00,  1.4784e-03],\n",
       "         [ 7.9911e-01,  1.3127e-01,  8.0082e-01],\n",
       "         [ 2.0035e-01,  2.6154e-02,  1.3377e+00]], requires_grad=True),\n",
       " Parameter containing:\n",
       " tensor([ 0.6647,  0.5063,  1.3330, -1.5101,  0.3002], requires_grad=True)]"
      ]
     },
     "execution_count": 1,
     "metadata": {},
     "output_type": "execute_result"
    }
   ],
   "source": [
    "list(myfc.parameters())"
   ]
  },
  {
   "cell_type": "markdown",
   "metadata": {
    "slideshow": {
     "slide_type": "subslide"
    }
   },
   "source": [
    "Quick visualization of our custom module's **computation graph**:"
   ]
  },
  {
   "cell_type": "code",
   "execution_count": 17,
   "metadata": {
    "execution": {
     "iopub.execute_input": "2020-10-22T03:29:48.470167Z",
     "iopub.status.busy": "2020-10-22T03:29:48.469562Z",
     "iopub.status.idle": "2020-10-22T03:29:48.602806Z",
     "shell.execute_reply": "2020-10-22T03:29:48.603517Z"
    },
    "slideshow": {
     "slide_type": "fragment"
    }
   },
   "outputs": [
    {
     "data": {
      "image/svg+xml": [
       "<?xml version=\"1.0\" encoding=\"UTF-8\" standalone=\"no\"?>\n",
       "<!DOCTYPE svg PUBLIC \"-//W3C//DTD SVG 1.1//EN\"\n",
       " \"http://www.w3.org/Graphics/SVG/1.1/DTD/svg11.dtd\">\n",
       "<!-- Generated by graphviz version 2.42.3 (20191010.1750)\n",
       " -->\n",
       "<!-- Title: %3 Pages: 1 -->\n",
       "<svg width=\"182pt\" height=\"276pt\"\n",
       " viewBox=\"0.00 0.00 181.77 276.00\" xmlns=\"http://www.w3.org/2000/svg\" xmlns:xlink=\"http://www.w3.org/1999/xlink\">\n",
       "<g id=\"graph0\" class=\"graph\" transform=\"scale(1 1) rotate(0) translate(4 272)\">\n",
       "<title>%3</title>\n",
       "<polygon fill=\"white\" stroke=\"transparent\" points=\"-4,4 -4,-272 177.77,-272 177.77,4 -4,4\"/>\n",
       "<!-- 140431067098992 -->\n",
       "<g id=\"node1\" class=\"node\">\n",
       "<title>140431067098992</title>\n",
       "<polygon fill=\"#caff70\" stroke=\"black\" points=\"147.92,-20 57.62,-20 57.62,0 147.92,0 147.92,-20\"/>\n",
       "<text text-anchor=\"middle\" x=\"102.77\" y=\"-6.4\" font-family=\"Times,serif\" font-size=\"12.00\">MulBackward0</text>\n",
       "</g>\n",
       "<!-- 140431067096208 -->\n",
       "<g id=\"node2\" class=\"node\">\n",
       "<title>140431067096208</title>\n",
       "<polygon fill=\"lightgrey\" stroke=\"black\" points=\"148.58,-76 56.96,-76 56.96,-56 148.58,-56 148.58,-76\"/>\n",
       "<text text-anchor=\"middle\" x=\"102.77\" y=\"-62.4\" font-family=\"Times,serif\" font-size=\"12.00\">AddBackward0</text>\n",
       "</g>\n",
       "<!-- 140431067096208&#45;&gt;140431067098992 -->\n",
       "<g id=\"edge1\" class=\"edge\">\n",
       "<title>140431067096208&#45;&gt;140431067098992</title>\n",
       "<path fill=\"none\" stroke=\"black\" d=\"M102.77,-55.59C102.77,-48.7 102.77,-39.1 102.77,-30.57\"/>\n",
       "<polygon fill=\"black\" stroke=\"black\" points=\"106.27,-30.3 102.77,-20.3 99.27,-30.3 106.27,-30.3\"/>\n",
       "</g>\n",
       "<!-- 140431067096016 -->\n",
       "<g id=\"node3\" class=\"node\">\n",
       "<title>140431067096016</title>\n",
       "<polygon fill=\"lightgrey\" stroke=\"black\" points=\"101.92,-138 17.62,-138 17.62,-118 101.92,-118 101.92,-138\"/>\n",
       "<text text-anchor=\"middle\" x=\"59.77\" y=\"-124.4\" font-family=\"Times,serif\" font-size=\"12.00\">MmBackward</text>\n",
       "</g>\n",
       "<!-- 140431067096016&#45;&gt;140431067096208 -->\n",
       "<g id=\"edge2\" class=\"edge\">\n",
       "<title>140431067096016&#45;&gt;140431067096208</title>\n",
       "<path fill=\"none\" stroke=\"black\" d=\"M66.3,-117.89C72.62,-109.08 82.35,-95.5 90.18,-84.58\"/>\n",
       "<polygon fill=\"black\" stroke=\"black\" points=\"93.2,-86.37 96.18,-76.2 87.51,-82.29 93.2,-86.37\"/>\n",
       "</g>\n",
       "<!-- 140431067098944 -->\n",
       "<g id=\"node4\" class=\"node\">\n",
       "<title>140431067098944</title>\n",
       "<polygon fill=\"lightgrey\" stroke=\"black\" points=\"119.32,-200 0.23,-200 0.23,-180 119.32,-180 119.32,-200\"/>\n",
       "<text text-anchor=\"middle\" x=\"59.77\" y=\"-186.4\" font-family=\"Times,serif\" font-size=\"12.00\">TransposeBackward0</text>\n",
       "</g>\n",
       "<!-- 140431067098944&#45;&gt;140431067096016 -->\n",
       "<g id=\"edge3\" class=\"edge\">\n",
       "<title>140431067098944&#45;&gt;140431067096016</title>\n",
       "<path fill=\"none\" stroke=\"black\" d=\"M59.77,-179.89C59.77,-171.52 59.77,-158.84 59.77,-148.23\"/>\n",
       "<polygon fill=\"black\" stroke=\"black\" points=\"63.27,-148.2 59.77,-138.2 56.27,-148.2 63.27,-148.2\"/>\n",
       "</g>\n",
       "<!-- 140431067095728 -->\n",
       "<g id=\"node5\" class=\"node\">\n",
       "<title>140431067095728</title>\n",
       "<polygon fill=\"lightblue\" stroke=\"black\" points=\"86.77,-268 32.77,-268 32.77,-236 86.77,-236 86.77,-268\"/>\n",
       "<text text-anchor=\"middle\" x=\"59.77\" y=\"-254.4\" font-family=\"Times,serif\" font-size=\"12.00\">W</text>\n",
       "<text text-anchor=\"middle\" x=\"59.77\" y=\"-242.4\" font-family=\"Times,serif\" font-size=\"12.00\"> (5, 3)</text>\n",
       "</g>\n",
       "<!-- 140431067095728&#45;&gt;140431067098944 -->\n",
       "<g id=\"edge4\" class=\"edge\">\n",
       "<title>140431067095728&#45;&gt;140431067098944</title>\n",
       "<path fill=\"none\" stroke=\"black\" d=\"M59.77,-235.86C59.77,-228.13 59.77,-218.63 59.77,-210.37\"/>\n",
       "<polygon fill=\"black\" stroke=\"black\" points=\"63.27,-210.15 59.77,-200.15 56.27,-210.15 63.27,-210.15\"/>\n",
       "</g>\n",
       "<!-- 140431067097504 -->\n",
       "<g id=\"node6\" class=\"node\">\n",
       "<title>140431067097504</title>\n",
       "<polygon fill=\"lightblue\" stroke=\"black\" points=\"173.77,-144 119.77,-144 119.77,-112 173.77,-112 173.77,-144\"/>\n",
       "<text text-anchor=\"middle\" x=\"146.77\" y=\"-130.4\" font-family=\"Times,serif\" font-size=\"12.00\">b</text>\n",
       "<text text-anchor=\"middle\" x=\"146.77\" y=\"-118.4\" font-family=\"Times,serif\" font-size=\"12.00\"> (5)</text>\n",
       "</g>\n",
       "<!-- 140431067097504&#45;&gt;140431067096208 -->\n",
       "<g id=\"edge5\" class=\"edge\">\n",
       "<title>140431067097504&#45;&gt;140431067096208</title>\n",
       "<path fill=\"none\" stroke=\"black\" d=\"M135.67,-111.86C129.55,-103.51 121.92,-93.11 115.55,-84.42\"/>\n",
       "<polygon fill=\"black\" stroke=\"black\" points=\"118.22,-82.15 109.49,-76.15 112.58,-86.29 118.22,-82.15\"/>\n",
       "</g>\n",
       "</g>\n",
       "</svg>\n"
      ],
      "text/plain": [
       "<graphviz.dot.Digraph at 0x7fb8a7dea340>"
      ]
     },
     "execution_count": 1,
     "metadata": {},
     "output_type": "execute_result"
    }
   ],
   "source": [
    "import torchviz\n",
    "torchviz.make_dot(myfc(t), params=dict(W=myfc.W, b=myfc.b))"
   ]
  },
  {
   "cell_type": "markdown",
   "metadata": {
    "slideshow": {
     "slide_type": "subslide"
    }
   },
   "source": [
    "Now that we know about `nn.Module`s, lets create an fairly-general MLP."
   ]
  },
  {
   "cell_type": "code",
   "execution_count": 18,
   "metadata": {
    "execution": {
     "iopub.execute_input": "2020-10-22T03:29:48.610718Z",
     "iopub.status.busy": "2020-10-22T03:29:48.610109Z",
     "iopub.status.idle": "2020-10-22T03:29:48.644561Z",
     "shell.execute_reply": "2020-10-22T03:29:48.645142Z"
    },
    "slideshow": {
     "slide_type": "subslide"
    }
   },
   "outputs": [],
   "source": [
    "class MLP(torch.nn.Module):\n",
    "    NLS = {'relu': torch.nn.ReLU, 'tanh': nn.Tanh, 'sigmoid': nn.Sigmoid, 'softmax': nn.Softmax, 'logsoftmax': nn.LogSoftmax}\n",
    "\n",
    "    def __init__(self, D_in: int, hidden_dims: list, D_out: int, nonlin='relu'):\n",
    "        super().__init__()\n",
    "        \n",
    "        all_dims = [D_in, *hidden_dims, D_out]\n",
    "        layers = []\n",
    "        \n",
    "        for in_dim, out_dim in zip(all_dims[:-1], all_dims[1:]):\n",
    "            layers += [\n",
    "                nn.Linear(in_dim, out_dim, bias=True),\n",
    "                MLP.NLS[nonlin]()\n",
    "            ]\n",
    "        \n",
    "        self.fc_layers = nn.Sequential(*layers[:-1])\n",
    "        self.log_softmax = nn.LogSoftmax(dim=1)\n",
    "\n",
    "    def forward(self, x):\n",
    "        x = torch.reshape(x, (x.shape[0], -1))\n",
    "        z = self.fc_layers(x)\n",
    "        y_pred = self.log_softmax(z)\n",
    "        return y_pred"
   ]
  },
  {
   "cell_type": "code",
   "execution_count": 19,
   "metadata": {
    "execution": {
     "iopub.execute_input": "2020-10-22T03:29:48.648440Z",
     "iopub.status.busy": "2020-10-22T03:29:48.647925Z",
     "iopub.status.idle": "2020-10-22T03:29:48.679171Z",
     "shell.execute_reply": "2020-10-22T03:29:48.679681Z"
    },
    "slideshow": {
     "slide_type": "subslide"
    }
   },
   "outputs": [
    {
     "name": "stdout",
     "output_type": "stream",
     "text": [
      "MLP(\n",
      "  (fc_layers): Sequential(\n",
      "    (0): Linear(in_features=784, out_features=32, bias=True)\n",
      "    (1): Tanh()\n",
      "    (2): Linear(in_features=32, out_features=64, bias=True)\n",
      "    (3): Tanh()\n",
      "    (4): Linear(in_features=64, out_features=128, bias=True)\n",
      "    (5): Tanh()\n",
      "    (6): Linear(in_features=128, out_features=64, bias=True)\n",
      "    (7): Tanh()\n",
      "    (8): Linear(in_features=64, out_features=10, bias=True)\n",
      "  )\n",
      "  (log_softmax): LogSoftmax(dim=1)\n",
      ")\n"
     ]
    }
   ],
   "source": [
    "# Create an instance of the model: 5-layer MLP\n",
    "mlp5 = MLP(D_in=n_features, hidden_dims=[32, 64, 128, 64], D_out=n_classes, nonlin='tanh')\n",
    "\n",
    "print(mlp5)"
   ]
  },
  {
   "cell_type": "code",
   "execution_count": 20,
   "metadata": {
    "execution": {
     "iopub.execute_input": "2020-10-22T03:29:48.682610Z",
     "iopub.status.busy": "2020-10-22T03:29:48.682117Z",
     "iopub.status.idle": "2020-10-22T03:29:48.710490Z",
     "shell.execute_reply": "2020-10-22T03:29:48.711125Z"
    },
    "slideshow": {
     "slide_type": "fragment"
    }
   },
   "outputs": [
    {
     "name": "stdout",
     "output_type": "stream",
     "text": [
      "number of parameter tensors: 10\n"
     ]
    }
   ],
   "source": [
    "print(f'number of parameter tensors: {len(list(mlp5.parameters()))}')"
   ]
  },
  {
   "cell_type": "code",
   "execution_count": 21,
   "metadata": {
    "execution": {
     "iopub.execute_input": "2020-10-22T03:29:48.714308Z",
     "iopub.status.busy": "2020-10-22T03:29:48.713786Z",
     "iopub.status.idle": "2020-10-22T03:29:48.747644Z",
     "shell.execute_reply": "2020-10-22T03:29:48.748189Z"
    },
    "slideshow": {
     "slide_type": "fragment"
    }
   },
   "outputs": [
    {
     "name": "stdout",
     "output_type": "stream",
     "text": [
      "number of parameters: 44458\n"
     ]
    }
   ],
   "source": [
    "print(f'number of parameters: {np.sum([torch.numel(p) for p in mlp5.parameters()])}')"
   ]
  },
  {
   "cell_type": "code",
   "execution_count": 22,
   "metadata": {
    "execution": {
     "iopub.execute_input": "2020-10-22T03:29:48.751622Z",
     "iopub.status.busy": "2020-10-22T03:29:48.750964Z",
     "iopub.status.idle": "2020-10-22T03:29:48.781249Z",
     "shell.execute_reply": "2020-10-22T03:29:48.781810Z"
    },
    "slideshow": {
     "slide_type": "subslide"
    }
   },
   "outputs": [
    {
     "name": "stdout",
     "output_type": "stream",
     "text": [
      "y_hat0=tensor([[-2.3163, -2.3145, -2.3363, -2.2343, -2.3745, -2.2120, -2.2874, -2.3368,\n",
      "         -2.2789, -2.3466]], grad_fn=<LogSoftmaxBackward>),\n",
      "shape=torch.Size([1, 10])\n"
     ]
    }
   ],
   "source": [
    "# Test a forward pass\n",
    "y_hat0 = mlp5(x0)\n",
    "\n",
    "print(f'y_hat0={y_hat0},\\nshape={y_hat0.shape}')"
   ]
  },
  {
   "cell_type": "markdown",
   "metadata": {
    "slideshow": {
     "slide_type": "subslide"
    }
   },
   "source": [
    "### Loss and Optimizer"
   ]
  },
  {
   "cell_type": "markdown",
   "metadata": {
    "slideshow": {
     "slide_type": "fragment"
    }
   },
   "source": [
    "For the loss function, we'll use PyTorch's built in negative log-likelihood loss since our model outputs probabilities."
   ]
  },
  {
   "cell_type": "code",
   "execution_count": 23,
   "metadata": {
    "execution": {
     "iopub.execute_input": "2020-10-22T03:29:48.785624Z",
     "iopub.status.busy": "2020-10-22T03:29:48.785017Z",
     "iopub.status.idle": "2020-10-22T03:29:48.815926Z",
     "shell.execute_reply": "2020-10-22T03:29:48.816556Z"
    },
    "slideshow": {
     "slide_type": "subslide"
    }
   },
   "outputs": [
    {
     "data": {
      "text/plain": [
       "tensor(2.2120, grad_fn=<NllLossBackward>)"
      ]
     },
     "execution_count": 1,
     "metadata": {},
     "output_type": "execute_result"
    }
   ],
   "source": [
    "import torch.optim\n",
    "\n",
    "# Loss:\n",
    "# Note: NLLLoss assumes *log*-probabilities (given by our LogSoftmax layer)\n",
    "loss_fn = nn.NLLLoss()\n",
    "\n",
    "# Fake ground-truth labels\n",
    "yt = torch.randint(low=0, high=n_classes, size=(y_hat0.shape[0],))\n",
    "\n",
    "# Try out the loss\n",
    "loss_fn(y_hat0, yt)"
   ]
  },
  {
   "cell_type": "markdown",
   "metadata": {
    "slideshow": {
     "slide_type": "subslide"
    }
   },
   "source": [
    "As for the optimization scheme, we'll use a built in SGD optimizer from the `torch.optim` module.\n",
    "\n",
    "We won't need to calculate the loss gradient this time, as we'll use `autograd` for automatic differentiation."
   ]
  },
  {
   "cell_type": "code",
   "execution_count": 24,
   "metadata": {
    "execution": {
     "iopub.execute_input": "2020-10-22T03:29:48.821396Z",
     "iopub.status.busy": "2020-10-22T03:29:48.820528Z",
     "iopub.status.idle": "2020-10-22T03:29:48.856061Z",
     "shell.execute_reply": "2020-10-22T03:29:48.856739Z"
    },
    "slideshow": {
     "slide_type": "fragment"
    }
   },
   "outputs": [],
   "source": [
    "torch.manual_seed(42)\n",
    "\n",
    "# Model for training\n",
    "model = MLP(D_in=n_features, hidden_dims=[32, 32, 32], D_out=n_classes, nonlin='relu')\n",
    "\n",
    "# Optimizer over our model's parameters\n",
    "optimizer = torch.optim.SGD(params=model.parameters(), lr=5e-2, weight_decay=0.01, momentum=0.9)"
   ]
  },
  {
   "cell_type": "markdown",
   "metadata": {
    "slideshow": {
     "slide_type": "subslide"
    }
   },
   "source": [
    "### Training loop"
   ]
  },
  {
   "cell_type": "markdown",
   "metadata": {
    "slideshow": {
     "slide_type": "fragment"
    }
   },
   "source": [
    "This time we'll train over lazy-loaded batches from our data loader.\n",
    "\n",
    "Notice that except from our model's `__init__()` and `__forward()__`, we're using PyTorch facilities for the entire training implementation."
   ]
  },
  {
   "cell_type": "code",
   "execution_count": 25,
   "metadata": {
    "execution": {
     "iopub.execute_input": "2020-10-22T03:29:48.862880Z",
     "iopub.status.busy": "2020-10-22T03:29:48.861974Z",
     "iopub.status.idle": "2020-10-22T03:29:53.737474Z",
     "shell.execute_reply": "2020-10-22T03:29:53.738043Z"
    },
    "slideshow": {
     "slide_type": "subslide"
    }
   },
   "outputs": [
    {
     "name": "stdout",
     "output_type": "stream",
     "text": [
      "Epoch #1: Avg. loss=2.305134320259094\n",
      "Epoch #2: Avg. loss=2.2864507913589476\n",
      "Epoch #3: Avg. loss=2.256749725341797\n",
      "Epoch #4: Avg. loss=2.176988220214844\n",
      "Epoch #5: Avg. loss=1.9311089158058166\n",
      "Epoch #6: Avg. loss=1.4161055207252502\n",
      "Epoch #7: Avg. loss=0.9191412627696991\n",
      "Epoch #8: Avg. loss=0.676337045431137\n",
      "Epoch #9: Avg. loss=0.5613921701908111\n",
      "Epoch #10: Avg. loss=0.5014605939388275\n"
     ]
    }
   ],
   "source": [
    "num_epochs = 10\n",
    "for epoch_idx in range(num_epochs):\n",
    "    total_loss = 0\n",
    "    \n",
    "    for batch_idx, (X, y) in enumerate(dl_train):\n",
    "        # Forward pass\n",
    "        y_pred = model(X)\n",
    "\n",
    "        # Compute loss\n",
    "        loss = loss_fn(y_pred, y)\n",
    "        total_loss += loss.item()\n",
    "\n",
    "        # Backward pass\n",
    "        optimizer.zero_grad() # Zero gradients of all parameters\n",
    "        loss.backward()       # Run backprop algorithms to calculate gradients\n",
    "        \n",
    "        # Optimization step\n",
    "        optimizer.step()      # Use gradients to update model parameters\n",
    "        \n",
    "    print(f'Epoch #{epoch_idx+1}: Avg. loss={total_loss/len(dl_train)}')"
   ]
  },
  {
   "cell_type": "markdown",
   "metadata": {
    "slideshow": {
     "slide_type": "subslide"
    }
   },
   "source": [
    "Using the basic PyTorch building blocks we have arrived at a much more robust implementation:\n",
    "- Easy to change architecture: layers and activation functions\n",
    "- Easy to change loss\n",
    "- Easy to change optimization method\n",
    "- No need for manual gradient derivations"
   ]
  },
  {
   "cell_type": "markdown",
   "metadata": {
    "slideshow": {
     "slide_type": "skip"
    }
   },
   "source": [
    "## Image credits\n",
    "- MartinThoma [CC0], via Wikimedia Commons https://commons.wikimedia.org/wiki/File:Perceptron-unit.svg\n",
    "- Pattern Recognition and Machine Learning, C. M. Bishop, Springer, 2006\n",
    "- Sebastian Raschka https://sebastianraschka.com/Articles/2015_singlelayer_neurons.html\n",
    "- Favio Vázquez https://towardsdatascience.com/a-conversation-about-deep-learning-9a915983107\n",
    "- Fundamentals of Deep Learning, Nikhil Buduma, Oreilly 2017"
   ]
  }
 ],
 "metadata": {
  "celltoolbar": "Slideshow",
  "kernelspec": {
   "display_name": "Python 3",
   "language": "python",
   "name": "python3"
  },
  "language_info": {
   "codemirror_mode": {
    "name": "ipython",
    "version": 3
   },
   "file_extension": ".py",
   "mimetype": "text/x-python",
   "name": "python",
   "nbconvert_exporter": "python",
   "pygments_lexer": "ipython3",
   "version": "3.8.6"
  }
 },
 "nbformat": 4,
 "nbformat_minor": 4
}

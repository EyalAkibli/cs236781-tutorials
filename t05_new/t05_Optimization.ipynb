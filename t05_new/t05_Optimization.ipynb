{
 "cells": [
  {
   "cell_type": "markdown",
   "metadata": {
    "slideshow": {
     "slide_type": "slide"
    }
   },
   "source": [
    "$$\n",
    "\\newcommand{\\mat}[1]{\\boldsymbol {#1}}\n",
    "\\newcommand{\\mattr}[1]{\\boldsymbol {#1}^\\top}\n",
    "\\newcommand{\\matinv}[1]{\\boldsymbol {#1}^{-1}}\n",
    "\\newcommand{\\vec}[1]{\\boldsymbol {#1}}\n",
    "\\newcommand{\\vectr}[1]{\\boldsymbol {#1}^\\top}\n",
    "\\newcommand{\\rvar}[1]{\\mathrm {#1}}\n",
    "\\newcommand{\\rvec}[1]{\\boldsymbol{\\mathrm{#1}}}\n",
    "\\newcommand{\\diag}{\\mathop{\\mathrm {diag}}}\n",
    "\\newcommand{\\set}[1]{\\mathbb {#1}}\n",
    "\\newcommand{\\norm}[1]{\\left\\lVert#1\\right\\rVert}\n",
    "\\newcommand{\\pderiv}[2]{\\frac{\\partial #1}{\\partial #2}}\n",
    "\\newcommand{\\bb}[1]{\\boldsymbol{#1}}\n",
    "$$\n",
    "\n",
    "# CS236781: Deep Learning\n",
    "# Tutorial 5: Optimization"
   ]
  },
  {
   "cell_type": "markdown",
   "metadata": {
    "slideshow": {
     "slide_type": "subslide"
    }
   },
   "source": [
    "## Introduction\n",
    "\n",
    "In this tutorial, we will cover:  **TODO**\n",
    "\n",
    "- Backpropagation\n",
    "- Optimization\n",
    "- Automatic differentiation\n",
    "- PyTorch backward functions\n",
    "- Bi-level differentiable optimization"
   ]
  },
  {
   "cell_type": "code",
   "execution_count": null,
   "metadata": {},
   "outputs": [],
   "source": []
  },
  {
   "cell_type": "code",
   "execution_count": 1,
   "metadata": {
    "slideshow": {
     "slide_type": "subslide"
    }
   },
   "outputs": [],
   "source": [
    "# Setup\n",
    "%matplotlib inline\n",
    "import os\n",
    "import sys\n",
    "import time\n",
    "import torch\n",
    "import matplotlib.pyplot as plt"
   ]
  },
  {
   "cell_type": "code",
   "execution_count": 2,
   "metadata": {
    "slideshow": {
     "slide_type": "fragment"
    }
   },
   "outputs": [],
   "source": [
    "plt.rcParams['font.size'] = 20\n",
    "data_dir = os.path.expanduser('~/.pytorch-datasets')\n",
    "device = torch.device('cuda' if torch.cuda.is_available() else 'cpu')"
   ]
  },
  {
   "cell_type": "code",
   "execution_count": null,
   "metadata": {},
   "outputs": [],
   "source": []
  },
  {
   "cell_type": "markdown",
   "metadata": {
    "slideshow": {
     "slide_type": "slide"
    }
   },
   "source": [
    "## Theory Reminders"
   ]
  },
  {
   "cell_type": "markdown",
   "metadata": {},
   "source": [
    "### Descent-based optimization"
   ]
  },
  {
   "cell_type": "markdown",
   "metadata": {
    "slideshow": {
     "slide_type": "subslide"
    }
   },
   "source": [
    "As we have seen, training deep neural network is performed iteratively using descent-based optimization."
   ]
  },
  {
   "cell_type": "markdown",
   "metadata": {
    "slideshow": {
     "slide_type": "subslide"
    }
   },
   "source": [
    "The general scheme is,\n",
    "\n",
    "1. Initialize parameters to some $\\vec{\\Theta}^0 \\in \\set{R}^P$, and set $k\\leftarrow 0$.\n",
    "2. While not converged:\n",
    "    1. Choose a direction $\\vec{d}^k\\in\\set{R}^P$\n",
    "    2. Choose a step size $\\eta_k\\in\\set{R}$\n",
    "    3. Update: $\\vec{\\Theta}^{k+1} \\leftarrow \\vec{\\Theta}^k + \\eta_k \\vec{d}^k$\n",
    "    4. $k\\leftarrow k+1$\n"
   ]
  },
  {
   "cell_type": "markdown",
   "metadata": {},
   "source": [
    "Which descent direction to choose?"
   ]
  },
  {
   "cell_type": "markdown",
   "metadata": {},
   "source": [
    "The one which maximally decreases the loss function $L(\\vec{\\Theta})$:\n",
    "\n",
    "$$\n",
    "\\vec{d} =\\arg\\min_{\\vec{d'}} L(\\vec{\\Theta}+\\vec{d'})-L(\\vec{\\Theta})\n",
    "\\approx\n",
    "\\arg\\min_{\\vec{d'}}\\nabla L(\\vec{\\Theta})^\\top\\vec{d'}, \\\n",
    "\\mathrm{s.t.} \\norm{\\vec{d}}_p=1\n",
    "$$"
   ]
  },
  {
   "cell_type": "markdown",
   "metadata": {},
   "source": [
    "Choice of norm determines $\\vec{d}$. For example,\n",
    "- $p=1$: Coordinate descent: direction of the largest gradient component.\n",
    "- $p=2$: Gradient descent: $\\vec{d}=-\\nabla L(\\vec{\\Theta})$.\n",
    "\n",
    "|$p=1$|$p=2$|\n",
    "|---|---|\n",
    "|<img src=\"https://upload.wikimedia.org/wikipedia/commons/e/e3/Coordinate_descent.svg\" width=\"300\" /> | <img src=\"https://upload.wikimedia.org/wikipedia/commons/f/ff/Gradient_descent.svg\" width=\"300\" />| "
   ]
  },
  {
   "cell_type": "markdown",
   "metadata": {},
   "source": [
    "#### Drawbacks and mitigations?"
   ]
  },
  {
   "cell_type": "markdown",
   "metadata": {},
   "source": [
    "**Susceptible to initialization**\n",
    "\n",
    "Initializing near local minima can prevent finding better ones.\n",
    "\n",
    "<center><img src=\"imgs/sgd-init.png\" width=\"500\" /></center>"
   ]
  },
  {
   "cell_type": "markdown",
   "metadata": {},
   "source": [
    "Can use stochastic gradient to get a different loss surface every iteration.\n",
    "\n",
    "\n",
    "<center><img src=\"imgs/sgd-loss.png\" width=\"500\" /></center>"
   ]
  },
  {
   "cell_type": "markdown",
   "metadata": {},
   "source": [
    "**Sensitive to learning rate**\n",
    "\n",
    "<center><img src=\"imgs/sgd-lr.png\" width=\"800\"/></center>"
   ]
  },
  {
   "cell_type": "markdown",
   "metadata": {},
   "source": [
    "- Line search (1D minimization):\n",
    "$$\n",
    "\\eta_k = \\arg\\min_{\\eta'} L(\\vec{\\Theta}^k+\\eta'\\vec{d}^k)\n",
    "$$\n",
    "\n",
    "- Adaptive LR optimizers, e.g. Adam\n",
    "\n",
    "- LR scheduling\n",
    "<center><img src=\"imgs/sgd-lr-schedule.png\" width=\"500\"/></center>"
   ]
  },
  {
   "cell_type": "markdown",
   "metadata": {},
   "source": [
    "**Zig-zags in narrow \"ravines\"**\n",
    "\n",
    "<center><img src=\"imgs/sgd-zigzag.png\" width=\"300\"/></center>"
   ]
  },
  {
   "cell_type": "markdown",
   "metadata": {},
   "source": [
    "- Momentum: Use previous gradients to build \"speed\" in the common direction and cancel-out oscillations in opposite directions.\n",
    "\n",
    "- BatchNorm: Normalizes activations to zero-mean and unit variance (reduces curvature)\n",
    "\n",
    "- Second-order methods: Use quadratic local approximation of the loss surface, instead of linear.\n",
    "    - Newton's method: $\\vec{d}_k=\\mat{H}_k^{-1}\\vec{g}_k = \\nabla^2 L(\\vec{\\Theta}_k)^{-1}\\nabla L(\\vec{\\Theta}_k)$.\n",
    "    - Quasi-Newton methods which use some estimate of the Hessian based on first-order information (e.g. BFGS)."
   ]
  },
  {
   "cell_type": "markdown",
   "metadata": {},
   "source": [
    "### The back-propagation algorithm"
   ]
  },
  {
   "cell_type": "markdown",
   "metadata": {},
   "source": [
    "All the above optimization methods have a crucial thing in common: They require calculation of gradients of the loss w.r.t. to the parameters.\n",
    "\n",
    "In practical settings when training neural networks we have many different parameters tensors we would like to update separately. Thus, we require the gradient of the loss w.r.t. each of them."
   ]
  },
  {
   "cell_type": "markdown",
   "metadata": {},
   "source": [
    "Back-propagation is an efficient way to calculate these gradients using the chain rule.\n",
    "\n",
    "We represent the application of a model as a **computation graph**.\n",
    "For example, a simple linear regression model can be represented as:\n",
    "\n",
    "<center><img src=\"imgs/backprop-graph.png\" width=\"350\"/></center>"
   ]
  },
  {
   "cell_type": "markdown",
   "metadata": {},
   "source": [
    "Imagine that in this graph we have $N$ variables $\\vec{v}^i,\\ 1\\leq i \\leq N$  and functions $f_i$ which compute them from other variables.\n",
    "\n",
    "The graph is directional, thus assume $\\vec{v}^1, \\vec{v}^2,\\dots,\\vec{v}^N$ represents a topological order of the graph (parents before children).\n",
    "\n",
    "Define also the notation $\\delta\\vec{v}\\triangleq \\pderiv{L}{\\vec{v}}$."
   ]
  },
  {
   "cell_type": "markdown",
   "metadata": {},
   "source": [
    "The forward pass can therefore we written as:\n",
    "\n",
    "1. For $i=1,2,\\dots,N$:\n",
    "  1. Graph parents of current node: $$\\mathcal{P}_i \\leftarrow \\left\\{\\vec{v}^j ~\\middle\\vert~ \\vec{v}^j \\text{ parent of } \\vec{v}^i\\right\\}$$ \n",
    "  2. Evaluate function at current node: $$\\vec{v}^i\\leftarrow f_i(\\mathcal{P}_i)$$"
   ]
  },
  {
   "cell_type": "markdown",
   "metadata": {},
   "source": [
    "And in the backward pass we traverse the graph in reverse and apply the chain rule:\n",
    "\n",
    "1. Set $\\delta\\vec{v}^N=1$.\n",
    "2. For $i=N,N-1,\\dots,1$:\n",
    "  1. Graph children of current node: $$\\mathcal{C}_i \\leftarrow \\left\\{\\vec{v}^j ~\\middle\\vert~ \\vec{v}^j \\text{ child of } \\vec{v}^i\\right\\}$$  \n",
    "  2. Chain rule: $$\\delta\\vec{v}^i\\leftarrow \\sum_{\\vec{v}^j\\in\\mathcal{C}_i} \\delta\\vec{v}^j\\pderiv{\\vec{v}^j}{\\vec{v}^i}$$\n",
    "  \n",
    "Notes:\n",
    "1. The expression $\\delta\\vec{v}^j\\pderiv{\\vec{v}^j}{\\vec{v}^i}$ is a \"vector\"-Jacobian product (VJP).\n",
    "2. When a computation node's output is used by more than one other node (more than one child in the graph), we sum the incoming gradients from these children. This again arises directly from the chain rule."
   ]
  },
  {
   "cell_type": "markdown",
   "metadata": {},
   "source": [
    "Backpropagation easily lends itself to a modular and efficient implementation.\n"
   ]
  },
  {
   "cell_type": "markdown",
   "metadata": {},
   "source": [
    "Modularity:\n",
    "- Nodes in the computation graph only need to know how to calculate their own derivatives.\n",
    "- This is then passed to the parent nodes, which can do the same.\n",
    "\n",
    "\n",
    "<center><img src=\"imgs/backprop-modular.png\" width=\"500\"/></center>"
   ]
  },
  {
   "cell_type": "markdown",
   "metadata": {},
   "source": [
    "Efficiency:\n",
    "\n",
    "- Only need to compute each $\\delta\\vec{v}^i$ once.\n",
    "- No need to construct the Jacobian, instead calculate the VJP directly since that's what we actually need."
   ]
  },
  {
   "cell_type": "markdown",
   "metadata": {},
   "source": [
    "Modern automatic-differentiation packages such as PyTorch's `autograd` utilize exactly these tricks to implement backprop in an extremely powerful way."
   ]
  },
  {
   "cell_type": "markdown",
   "metadata": {},
   "source": [
    "## Part 1: Custom automatic differentiation with PyTorch"
   ]
  },
  {
   "cell_type": "markdown",
   "metadata": {},
   "source": [
    "We'll now learn how to extend PyTorch's `autograd` by defining our own custom nodes in the computation graph.\n",
    "\n",
    "Lets first introduce a cousin of ReLU, the Exponential-Linear Unit (ELU) activation function:\n",
    "\n",
    "$$\n",
    "f(z) =\n",
    "\\begin{cases}\n",
    "z, & z > 0\\\\\n",
    "\\alpha \\left(e^{z}-1\\right) & z \\leq 0\n",
    "\\end{cases}\n",
    "$$"
   ]
  },
  {
   "cell_type": "markdown",
   "metadata": {},
   "source": [
    "We'll pretend PyTorch does not include this activation function and implement a custom version ourselves."
   ]
  },
  {
   "cell_type": "code",
   "execution_count": 3,
   "metadata": {},
   "outputs": [],
   "source": [
    "import torch\n",
    "import torch.autograd as autograd\n",
    "import torchviz\n",
    "\n",
    "from torch import Tensor"
   ]
  },
  {
   "cell_type": "markdown",
   "metadata": {},
   "source": [
    "First, we'll implement just the actual computation as a standalone function so that we can reuse it later."
   ]
  },
  {
   "cell_type": "code",
   "execution_count": 10,
   "metadata": {},
   "outputs": [],
   "source": [
    "def elu_forward(z: Tensor, alpha: float):\n",
    "    elu_positive = z\n",
    "    elu_negative = alpha * (torch.exp(z) - 1)\n",
    "    elu_output = torch.where(z>0, elu_positive, elu_negative)\n",
    "    return elu_output"
   ]
  },
  {
   "cell_type": "markdown",
   "metadata": {},
   "source": [
    "A quick visualization to see what it looks like:"
   ]
  },
  {
   "cell_type": "code",
   "execution_count": 11,
   "metadata": {},
   "outputs": [
    {
     "data": {
      "image/png": "[encoded data removed]",
      "text/plain": [
       "<Figure size 432x288 with 1 Axes>"
      ]
     },
     "metadata": {
      "needs_background": "light"
     },
     "output_type": "display_data"
    }
   ],
   "source": [
    "z = torch.linspace(-5, 5, steps=1000)\n",
    "plt.plot(z.numpy(), torch.relu(z).numpy(), label='ReLU(z)', linewidth=5);\n",
    "plt.plot(z.numpy(), elu_forward(z, alpha=0.5).numpy(), label='ELU(z)', linewidth=2); plt.legend(); plt.grid();"
   ]
  },
  {
   "cell_type": "markdown",
   "metadata": {},
   "source": [
    "Now we'll wrap it as an `nn.Module` so that we can use it as a layer in a model."
   ]
  },
  {
   "cell_type": "code",
   "execution_count": 12,
   "metadata": {},
   "outputs": [],
   "source": [
    "class ELU(torch.nn.Module):\n",
    "    \"\"\" ELU Activation layer \"\"\"\n",
    "    \n",
    "    def __init__(self, alpha: float = 0.1):\n",
    "        super().__init__()\n",
    "        self.alpha = alpha\n",
    "    \n",
    "    def forward(self, z: Tensor):\n",
    "        return elu_forward(z, self.alpha)\n",
    "    "
   ]
  },
  {
   "cell_type": "markdown",
   "metadata": {},
   "source": [
    "And as usual, we can look at the resulting computation graph."
   ]
  },
  {
   "cell_type": "code",
   "execution_count": 13,
   "metadata": {},
   "outputs": [
    {
     "data": {
      "image/svg+xml": [
       "<?xml version=\"1.0\" encoding=\"UTF-8\" standalone=\"no\"?>\n",
       "<!DOCTYPE svg PUBLIC \"-//W3C//DTD SVG 1.1//EN\"\n",
       " \"http://www.w3.org/Graphics/SVG/1.1/DTD/svg11.dtd\">\n",
       "<!-- Generated by graphviz version 2.42.3 (20191010.1750)\n",
       " -->\n",
       "<!-- Title: %3 Pages: 1 -->\n",
       "<svg width=\"142pt\" height=\"264pt\"\n",
       " viewBox=\"0.00 0.00 141.97 264.00\" xmlns=\"http://www.w3.org/2000/svg\" xmlns:xlink=\"http://www.w3.org/1999/xlink\">\n",
       "<g id=\"graph0\" class=\"graph\" transform=\"scale(1 1) rotate(0) translate(4 260)\">\n",
       "<title>%3</title>\n",
       "<polygon fill=\"white\" stroke=\"transparent\" points=\"-4,4 -4,-260 137.97,-260 137.97,4 -4,4\"/>\n",
       "<!-- 140311209951632 -->\n",
       "<g id=\"node1\" class=\"node\">\n",
       "<title>140311209951632</title>\n",
       "<polygon fill=\"#caff70\" stroke=\"black\" points=\"103.44,-20 -0.15,-20 -0.15,0 103.44,0 103.44,-20\"/>\n",
       "<text text-anchor=\"middle\" x=\"51.65\" y=\"-6.4\" font-family=\"Times,serif\" font-size=\"12.00\">SWhereBackward</text>\n",
       "</g>\n",
       "<!-- 140311209952400 -->\n",
       "<g id=\"node2\" class=\"node\">\n",
       "<title>140311209952400</title>\n",
       "<polygon fill=\"lightblue\" stroke=\"black\" points=\"77.65,-256 23.65,-256 23.65,-224 77.65,-224 77.65,-256\"/>\n",
       "<text text-anchor=\"middle\" x=\"50.65\" y=\"-242.4\" font-family=\"Times,serif\" font-size=\"12.00\">z</text>\n",
       "<text text-anchor=\"middle\" x=\"50.65\" y=\"-230.4\" font-family=\"Times,serif\" font-size=\"12.00\"> (6)</text>\n",
       "</g>\n",
       "<!-- 140311209952400&#45;&gt;140311209951632 -->\n",
       "<g id=\"edge1\" class=\"edge\">\n",
       "<title>140311209952400&#45;&gt;140311209951632</title>\n",
       "<path fill=\"none\" stroke=\"black\" d=\"M44.95,-223.62C41.54,-213.62 37.52,-200.22 35.65,-188 33.48,-173.85 34.33,-57.71 34.65,-56 36.29,-46.97 39.66,-37.41 42.96,-29.43\"/>\n",
       "<polygon fill=\"black\" stroke=\"black\" points=\"46.28,-30.59 47.12,-20.03 39.87,-27.76 46.28,-30.59\"/>\n",
       "</g>\n",
       "<!-- 140311154461664 -->\n",
       "<g id=\"node5\" class=\"node\">\n",
       "<title>140311154461664</title>\n",
       "<polygon fill=\"lightgrey\" stroke=\"black\" points=\"128.62,-188 44.67,-188 44.67,-168 128.62,-168 128.62,-188\"/>\n",
       "<text text-anchor=\"middle\" x=\"86.65\" y=\"-174.4\" font-family=\"Times,serif\" font-size=\"12.00\">ExpBackward</text>\n",
       "</g>\n",
       "<!-- 140311209952400&#45;&gt;140311154461664 -->\n",
       "<g id=\"edge5\" class=\"edge\">\n",
       "<title>140311209952400&#45;&gt;140311154461664</title>\n",
       "<path fill=\"none\" stroke=\"black\" d=\"M59.73,-223.86C64.63,-215.69 70.72,-205.55 75.86,-196.98\"/>\n",
       "<polygon fill=\"black\" stroke=\"black\" points=\"79.01,-198.53 81.15,-188.15 73.01,-194.93 79.01,-198.53\"/>\n",
       "</g>\n",
       "<!-- 140311209951536 -->\n",
       "<g id=\"node3\" class=\"node\">\n",
       "<title>140311209951536</title>\n",
       "<polygon fill=\"lightgrey\" stroke=\"black\" points=\"133.8,-76 43.5,-76 43.5,-56 133.8,-56 133.8,-76\"/>\n",
       "<text text-anchor=\"middle\" x=\"88.65\" y=\"-62.4\" font-family=\"Times,serif\" font-size=\"12.00\">MulBackward0</text>\n",
       "</g>\n",
       "<!-- 140311209951536&#45;&gt;140311209951632 -->\n",
       "<g id=\"edge2\" class=\"edge\">\n",
       "<title>140311209951536&#45;&gt;140311209951632</title>\n",
       "<path fill=\"none\" stroke=\"black\" d=\"M82.2,-55.59C77.11,-48.16 69.86,-37.58 63.69,-28.58\"/>\n",
       "<polygon fill=\"black\" stroke=\"black\" points=\"66.56,-26.57 58.02,-20.3 60.78,-30.53 66.56,-26.57\"/>\n",
       "</g>\n",
       "<!-- 140311154033040 -->\n",
       "<g id=\"node4\" class=\"node\">\n",
       "<title>140311154033040</title>\n",
       "<polygon fill=\"lightgrey\" stroke=\"black\" points=\"133.47,-132 43.83,-132 43.83,-112 133.47,-112 133.47,-132\"/>\n",
       "<text text-anchor=\"middle\" x=\"88.65\" y=\"-118.4\" font-family=\"Times,serif\" font-size=\"12.00\">SubBackward0</text>\n",
       "</g>\n",
       "<!-- 140311154033040&#45;&gt;140311209951536 -->\n",
       "<g id=\"edge3\" class=\"edge\">\n",
       "<title>140311154033040&#45;&gt;140311209951536</title>\n",
       "<path fill=\"none\" stroke=\"black\" d=\"M88.65,-111.59C88.65,-104.7 88.65,-95.1 88.65,-86.57\"/>\n",
       "<polygon fill=\"black\" stroke=\"black\" points=\"92.15,-86.3 88.65,-76.3 85.15,-86.3 92.15,-86.3\"/>\n",
       "</g>\n",
       "<!-- 140311154461664&#45;&gt;140311154033040 -->\n",
       "<g id=\"edge4\" class=\"edge\">\n",
       "<title>140311154461664&#45;&gt;140311154033040</title>\n",
       "<path fill=\"none\" stroke=\"black\" d=\"M86.99,-167.59C87.25,-160.7 87.61,-151.1 87.92,-142.57\"/>\n",
       "<polygon fill=\"black\" stroke=\"black\" points=\"91.43,-142.42 88.3,-132.3 84.43,-142.16 91.43,-142.42\"/>\n",
       "</g>\n",
       "</g>\n",
       "</svg>\n"
      ],
      "text/plain": [
       "<graphviz.dot.Digraph at 0x7f9cbfd3cc70>"
      ]
     },
     "execution_count": 13,
     "metadata": {},
     "output_type": "execute_result"
    }
   ],
   "source": [
    "elu = ELU(alpha=0.5)\n",
    "z = torch.tensor([-2., -1, 0, 1, 2, 3], requires_grad=True)\n",
    "torchviz.make_dot(elu(z), params=dict(z=z))"
   ]
  },
  {
   "cell_type": "markdown",
   "metadata": {},
   "source": [
    "We can see that the computation graph accurately represents the various basic mathematical operations performed bby our `elu_forward` function.\n",
    "\n",
    "But what if we want to define the entire ELU operarion as one node in the graph?\n",
    "This can be useful e.g. for performance reasons.\n",
    "\n",
    "But how can we accomplish this?"
   ]
  },
  {
   "cell_type": "markdown",
   "metadata": {},
   "source": [
    "The solution is to use a lower-level PyTorch API, `autograd.Function`\n",
    "which allows us to define a function in terms of both it's forwards pass\n",
    "(the regular output computation), and it's **backward** pass\n",
    "(the gradient w.r.t. all it's inputs).\n"
   ]
  },
  {
   "cell_type": "markdown",
   "metadata": {},
   "source": [
    "From the PyTorch docs:\n",
    "    \n",
    "    Every operation performed on Tensor s creates a new Function object, that performs the computation, and records that it happened. The history is retained in the form of a DAG of functions, with edges denoting data dependencies (input <- output). Then, when backward is called, the graph is processed in the topological ordering, by calling backward() methods of each Function object, and passing returned gradients on to next Function s.\n",
    "\n"
   ]
  },
  {
   "cell_type": "markdown",
   "metadata": {},
   "source": [
    "We'll first calculate the simple analytic derivative of the ELU function:\n",
    "$$\n",
    "\\pderiv{f(z)}{z} = f'(z) = \n",
    "\\begin{cases}\n",
    "1, & z > 0\\\\\n",
    "\\alpha e^{z} & z \\leq 0\n",
    "\\end{cases}\n",
    "$$"
   ]
  },
  {
   "cell_type": "markdown",
   "metadata": {},
   "source": [
    "Next, we need to figure out how to compute the vector-Jacobian product efficiently.\n",
    "Note that for any **elementwise** operation, $\\vec{y}=f(\\vec{x}),\\ f:\\set{R}^n\\rightarrow\\set{R}^n$, we can write the Jacobian as\n",
    "\n",
    "$$\n",
    "\\pderiv{\\vec{y}}{\\vec{x}} = \\pmatrix{\n",
    "\\ddots & \\vdots & \\\\\n",
    "\\cdots & \\pderiv{y_i}{x_j} & \\cdots \\\\\n",
    "& \\vdots & \\ddots\\\\\n",
    "}\n",
    "=\n",
    "\\pmatrix{\n",
    "f'(x_1) &  &  \\\\\n",
    "  & f'(x_i) &  \\\\\n",
    "& & f'(x_n)\\\\\n",
    "}\n",
    "= \\diag\\{{f'(\\vec{x})}\\}\n",
    "$$\n",
    "\n",
    "And it follows that the VJP can be computed simply:\n",
    "$$\n",
    "\\delta \\vec{x} = \\delta{\\vec{y}}\\pderiv{\\vec{y}}{\\vec{x}} = \\delta{\\vec{y}} \\odot f'(\\vec{x}).\n",
    "$$"
   ]
  },
  {
   "cell_type": "markdown",
   "metadata": {},
   "source": [
    "Now, equipped with the expression for the VJP, we can proceed to implement the Function object representing ELU."
   ]
  },
  {
   "cell_type": "code",
   "execution_count": 19,
   "metadata": {},
   "outputs": [],
   "source": [
    "class ELUFunction(autograd.Function):\n",
    "    \n",
    "    @staticmethod\n",
    "    def forward(ctx, z: Tensor, alpha: float):\n",
    "        elu = elu_forward(z, alpha) # Regular forward pass computation from before\n",
    "        ctx.save_for_backward(z)    # Tensors should be saved using this method\n",
    "        ctx.alpha = alpha           # other properties can bbe saved like so\n",
    "        return elu\n",
    "    \n",
    "    @staticmethod\n",
    "    def backward(ctx, grad_output):\n",
    "        z, = ctx.saved_tensors\n",
    "        alpha = ctx.alpha\n",
    "        \n",
    "        # Calculate diagonal of d(elu(z))/dz\n",
    "        grad_positive = torch.ones_like(z)\n",
    "        grad_negative = alpha * torch.exp(z)\n",
    "        \n",
    "        # Note: This is not the full Jacobian\n",
    "        grad_elu = torch.where(z>0, grad_positive, grad_negative)\n",
    "        \n",
    "        # Gradient of the loss w.r.t. our output\n",
    "        δ_elu = grad_output\n",
    "        \n",
    "        # Calcualte δz = d(elu(z))/dz * δ_elu\n",
    "        # Note: elementwise multiplication equivalant to vector-Jacobian product\n",
    "        print(f'{grad_elu.shape=}, {δ_elu.shape=}')\n",
    "        δz = grad_elu * δ_elu\n",
    "        return δz, None"
   ]
  },
  {
   "cell_type": "markdown",
   "metadata": {},
   "source": [
    "We can now use this custom `Function` either directly or as part of a layer.\n",
    "\n",
    "For example, here's an ELU layer using our custom backward:"
   ]
  },
  {
   "cell_type": "code",
   "execution_count": 20,
   "metadata": {},
   "outputs": [],
   "source": [
    "class ELUCustom(torch.nn.Module):\n",
    "    \"\"\" ELU Layer with a custom backward pass \"\"\"\n",
    "    \n",
    "    def __init__(self, alpha: float = 0.1):\n",
    "        super().__init__()\n",
    "        self.alpha = alpha\n",
    "    \n",
    "    def forward(self, z: Tensor):\n",
    "        # Function.apply() invokes the forward pass\n",
    "        return ELUFunction.apply(z, self.alpha)"
   ]
  },
  {
   "cell_type": "code",
   "execution_count": null,
   "metadata": {},
   "outputs": [],
   "source": []
  },
  {
   "cell_type": "code",
   "execution_count": 21,
   "metadata": {},
   "outputs": [
    {
     "data": {
      "image/svg+xml": [
       "<?xml version=\"1.0\" encoding=\"UTF-8\" standalone=\"no\"?>\n",
       "<!DOCTYPE svg PUBLIC \"-//W3C//DTD SVG 1.1//EN\"\n",
       " \"http://www.w3.org/Graphics/SVG/1.1/DTD/svg11.dtd\">\n",
       "<!-- Generated by graphviz version 2.42.3 (20191010.1750)\n",
       " -->\n",
       "<!-- Title: %3 Pages: 1 -->\n",
       "<svg width=\"139pt\" height=\"96pt\"\n",
       " viewBox=\"0.00 0.00 138.64 96.00\" xmlns=\"http://www.w3.org/2000/svg\" xmlns:xlink=\"http://www.w3.org/1999/xlink\">\n",
       "<g id=\"graph0\" class=\"graph\" transform=\"scale(1 1) rotate(0) translate(4 92)\">\n",
       "<title>%3</title>\n",
       "<polygon fill=\"white\" stroke=\"transparent\" points=\"-4,4 -4,-92 134.64,-92 134.64,4 -4,4\"/>\n",
       "<!-- 140311239379872 -->\n",
       "<g id=\"node1\" class=\"node\">\n",
       "<title>140311239379872</title>\n",
       "<polygon fill=\"#caff70\" stroke=\"black\" points=\"130.46,-20 0.18,-20 0.18,0 130.46,0 130.46,-20\"/>\n",
       "<text text-anchor=\"middle\" x=\"65.32\" y=\"-6.4\" font-family=\"Times,serif\" font-size=\"12.00\">ELUFunctionBackward</text>\n",
       "</g>\n",
       "<!-- 140311209882576 -->\n",
       "<g id=\"node2\" class=\"node\">\n",
       "<title>140311209882576</title>\n",
       "<polygon fill=\"lightblue\" stroke=\"black\" points=\"56.32,-88 2.32,-88 2.32,-56 56.32,-56 56.32,-88\"/>\n",
       "<text text-anchor=\"middle\" x=\"29.32\" y=\"-74.4\" font-family=\"Times,serif\" font-size=\"12.00\">z</text>\n",
       "<text text-anchor=\"middle\" x=\"29.32\" y=\"-62.4\" font-family=\"Times,serif\" font-size=\"12.00\"> (6)</text>\n",
       "</g>\n",
       "<!-- 140311209882576&#45;&gt;140311239379872 -->\n",
       "<g id=\"edge1\" class=\"edge\">\n",
       "<title>140311209882576&#45;&gt;140311239379872</title>\n",
       "<path fill=\"none\" stroke=\"black\" d=\"M38.4,-55.86C43.31,-47.69 49.39,-37.55 54.53,-28.98\"/>\n",
       "<polygon fill=\"black\" stroke=\"black\" points=\"57.68,-30.53 59.83,-20.15 51.68,-26.93 57.68,-30.53\"/>\n",
       "</g>\n",
       "<!-- 140311227726144 -->\n",
       "<g id=\"node3\" class=\"node\">\n",
       "<title>140311227726144</title>\n",
       "<polygon fill=\"orange\" stroke=\"black\" points=\"128.32,-82 74.32,-82 74.32,-62 128.32,-62 128.32,-82\"/>\n",
       "<text text-anchor=\"middle\" x=\"101.32\" y=\"-68.4\" font-family=\"Times,serif\" font-size=\"12.00\">(6)</text>\n",
       "</g>\n",
       "<!-- 140311227726144&#45;&gt;140311239379872 -->\n",
       "<g id=\"edge2\" class=\"edge\">\n",
       "<title>140311227726144&#45;&gt;140311239379872</title>\n",
       "<path fill=\"none\" stroke=\"black\" d=\"M95.85,-61.89C90.62,-53.17 82.58,-39.77 76.06,-28.91\"/>\n",
       "<polygon fill=\"black\" stroke=\"black\" points=\"78.98,-26.97 70.84,-20.2 72.98,-30.57 78.98,-26.97\"/>\n",
       "</g>\n",
       "</g>\n",
       "</svg>\n"
      ],
      "text/plain": [
       "<graphviz.dot.Digraph at 0x7f9cbfd2b250>"
      ]
     },
     "execution_count": 21,
     "metadata": {},
     "output_type": "execute_result"
    }
   ],
   "source": [
    "elu_custom = ELUCustom(alpha=0.5)\n",
    "z = torch.tensor([-2., -1, 0, 1, 2, 3], requires_grad=True)\n",
    "torchviz.make_dot(elu_custom(z), params=dict(z=z),)"
   ]
  },
  {
   "cell_type": "markdown",
   "metadata": {},
   "source": [
    "Let's now put our custom layer in the context of a larger model and see that we can backprop through it."
   ]
  },
  {
   "cell_type": "code",
   "execution_count": 46,
   "metadata": {},
   "outputs": [],
   "source": [
    "elu_mlp = torch.nn.Sequential(\n",
    "    torch.nn.Linear(in_features=512, out_features=1024),\n",
    "    ELUCustom(alpha=0.01),\n",
    "    torch.nn.Linear(in_features=1024, out_features=1024),\n",
    "    ELUCustom(alpha=0.01),\n",
    "    torch.nn.Linear(in_features=1024, out_features=2),\n",
    "    torch.nn.Softmax(dim=1)\n",
    ")"
   ]
  },
  {
   "cell_type": "code",
   "execution_count": 47,
   "metadata": {},
   "outputs": [
    {
     "data": {
      "image/svg+xml": [
       "<?xml version=\"1.0\" encoding=\"UTF-8\" standalone=\"no\"?>\n",
       "<!DOCTYPE svg PUBLIC \"-//W3C//DTD SVG 1.1//EN\"\n",
       " \"http://www.w3.org/Graphics/SVG/1.1/DTD/svg11.dtd\">\n",
       "<!-- Generated by graphviz version 2.42.3 (20191010.1750)\n",
       " -->\n",
       "<!-- Title: %3 Pages: 1 -->\n",
       "<svg width=\"404pt\" height=\"492pt\"\n",
       " viewBox=\"0.00 0.00 403.99 492.00\" xmlns=\"http://www.w3.org/2000/svg\" xmlns:xlink=\"http://www.w3.org/1999/xlink\">\n",
       "<g id=\"graph0\" class=\"graph\" transform=\"scale(1 1) rotate(0) translate(4 488)\">\n",
       "<title>%3</title>\n",
       "<polygon fill=\"white\" stroke=\"transparent\" points=\"-4,4 -4,-488 399.99,-488 399.99,4 -4,4\"/>\n",
       "<!-- 140311240989136 -->\n",
       "<g id=\"node1\" class=\"node\">\n",
       "<title>140311240989136</title>\n",
       "<polygon fill=\"#caff70\" stroke=\"black\" points=\"293.81,-20 188.19,-20 188.19,0 293.81,0 293.81,-20\"/>\n",
       "<text text-anchor=\"middle\" x=\"241\" y=\"-6.4\" font-family=\"Times,serif\" font-size=\"12.00\">SoftmaxBackward</text>\n",
       "</g>\n",
       "<!-- 140311240990240 -->\n",
       "<g id=\"node2\" class=\"node\">\n",
       "<title>140311240990240</title>\n",
       "<polygon fill=\"lightgrey\" stroke=\"black\" points=\"292.98,-76 189.02,-76 189.02,-56 292.98,-56 292.98,-76\"/>\n",
       "<text text-anchor=\"middle\" x=\"241\" y=\"-62.4\" font-family=\"Times,serif\" font-size=\"12.00\">AddmmBackward</text>\n",
       "</g>\n",
       "<!-- 140311240990240&#45;&gt;140311240989136 -->\n",
       "<g id=\"edge1\" class=\"edge\">\n",
       "<title>140311240990240&#45;&gt;140311240989136</title>\n",
       "<path fill=\"none\" stroke=\"black\" d=\"M241,-55.59C241,-48.7 241,-39.1 241,-30.57\"/>\n",
       "<polygon fill=\"black\" stroke=\"black\" points=\"244.5,-30.3 241,-20.3 237.5,-30.3 244.5,-30.3\"/>\n",
       "</g>\n",
       "<!-- 140311240988944 -->\n",
       "<g id=\"node3\" class=\"node\">\n",
       "<title>140311240988944</title>\n",
       "<polygon fill=\"lightblue\" stroke=\"black\" points=\"158,-144 104,-144 104,-112 158,-112 158,-144\"/>\n",
       "<text text-anchor=\"middle\" x=\"131\" y=\"-130.4\" font-family=\"Times,serif\" font-size=\"12.00\">4.bias</text>\n",
       "<text text-anchor=\"middle\" x=\"131\" y=\"-118.4\" font-family=\"Times,serif\" font-size=\"12.00\"> (2)</text>\n",
       "</g>\n",
       "<!-- 140311240988944&#45;&gt;140311240990240 -->\n",
       "<g id=\"edge2\" class=\"edge\">\n",
       "<title>140311240988944&#45;&gt;140311240990240</title>\n",
       "<path fill=\"none\" stroke=\"black\" d=\"M158.19,-112.17C175.69,-102.62 198.29,-90.3 215.45,-80.93\"/>\n",
       "<polygon fill=\"black\" stroke=\"black\" points=\"217.26,-83.93 224.37,-76.07 213.91,-77.79 217.26,-83.93\"/>\n",
       "</g>\n",
       "<!-- 140311240430256 -->\n",
       "<g id=\"node4\" class=\"node\">\n",
       "<title>140311240430256</title>\n",
       "<polygon fill=\"lightgrey\" stroke=\"black\" points=\"306.14,-138 175.86,-138 175.86,-118 306.14,-118 306.14,-138\"/>\n",
       "<text text-anchor=\"middle\" x=\"241\" y=\"-124.4\" font-family=\"Times,serif\" font-size=\"12.00\">ELUFunctionBackward</text>\n",
       "</g>\n",
       "<!-- 140311240430256&#45;&gt;140311240990240 -->\n",
       "<g id=\"edge3\" class=\"edge\">\n",
       "<title>140311240430256&#45;&gt;140311240990240</title>\n",
       "<path fill=\"none\" stroke=\"black\" d=\"M241,-117.89C241,-109.52 241,-96.84 241,-86.23\"/>\n",
       "<polygon fill=\"black\" stroke=\"black\" points=\"244.5,-86.2 241,-76.2 237.5,-86.2 244.5,-86.2\"/>\n",
       "</g>\n",
       "<!-- 140311240987888 -->\n",
       "<g id=\"node5\" class=\"node\">\n",
       "<title>140311240987888</title>\n",
       "<polygon fill=\"lightgrey\" stroke=\"black\" points=\"207.98,-206 104.02,-206 104.02,-186 207.98,-186 207.98,-206\"/>\n",
       "<text text-anchor=\"middle\" x=\"156\" y=\"-192.4\" font-family=\"Times,serif\" font-size=\"12.00\">AddmmBackward</text>\n",
       "</g>\n",
       "<!-- 140311240987888&#45;&gt;140311240430256 -->\n",
       "<g id=\"edge4\" class=\"edge\">\n",
       "<title>140311240987888&#45;&gt;140311240430256</title>\n",
       "<path fill=\"none\" stroke=\"black\" d=\"M167.82,-185.82C181.65,-175.09 204.76,-157.14 221.31,-144.29\"/>\n",
       "<polygon fill=\"black\" stroke=\"black\" points=\"223.53,-147 229.28,-138.1 219.24,-141.47 223.53,-147\"/>\n",
       "</g>\n",
       "<!-- 140311240989232 -->\n",
       "<g id=\"node6\" class=\"node\">\n",
       "<title>140311240989232</title>\n",
       "<polygon fill=\"lightblue\" stroke=\"black\" points=\"73,-280 19,-280 19,-248 73,-248 73,-280\"/>\n",
       "<text text-anchor=\"middle\" x=\"46\" y=\"-266.4\" font-family=\"Times,serif\" font-size=\"12.00\">2.bias</text>\n",
       "<text text-anchor=\"middle\" x=\"46\" y=\"-254.4\" font-family=\"Times,serif\" font-size=\"12.00\"> (1024)</text>\n",
       "</g>\n",
       "<!-- 140311240989232&#45;&gt;140311240987888 -->\n",
       "<g id=\"edge5\" class=\"edge\">\n",
       "<title>140311240989232&#45;&gt;140311240987888</title>\n",
       "<path fill=\"none\" stroke=\"black\" d=\"M71.24,-247.86C89.49,-236.9 114.01,-222.19 131.98,-211.41\"/>\n",
       "<polygon fill=\"black\" stroke=\"black\" points=\"133.94,-214.32 140.71,-206.17 130.34,-208.32 133.94,-214.32\"/>\n",
       "</g>\n",
       "<!-- 140311240429632 -->\n",
       "<g id=\"node7\" class=\"node\">\n",
       "<title>140311240429632</title>\n",
       "<polygon fill=\"lightgrey\" stroke=\"black\" points=\"221.14,-274 90.86,-274 90.86,-254 221.14,-254 221.14,-274\"/>\n",
       "<text text-anchor=\"middle\" x=\"156\" y=\"-260.4\" font-family=\"Times,serif\" font-size=\"12.00\">ELUFunctionBackward</text>\n",
       "</g>\n",
       "<!-- 140311240429632&#45;&gt;140311240987888 -->\n",
       "<g id=\"edge6\" class=\"edge\">\n",
       "<title>140311240429632&#45;&gt;140311240987888</title>\n",
       "<path fill=\"none\" stroke=\"black\" d=\"M156,-253.82C156,-244.17 156,-228.69 156,-216.32\"/>\n",
       "<polygon fill=\"black\" stroke=\"black\" points=\"159.5,-216.1 156,-206.1 152.5,-216.1 159.5,-216.1\"/>\n",
       "</g>\n",
       "<!-- 140311240988224 -->\n",
       "<g id=\"node8\" class=\"node\">\n",
       "<title>140311240988224</title>\n",
       "<polygon fill=\"lightgrey\" stroke=\"black\" points=\"118.98,-342 15.02,-342 15.02,-322 118.98,-322 118.98,-342\"/>\n",
       "<text text-anchor=\"middle\" x=\"67\" y=\"-328.4\" font-family=\"Times,serif\" font-size=\"12.00\">AddmmBackward</text>\n",
       "</g>\n",
       "<!-- 140311240988224&#45;&gt;140311240429632 -->\n",
       "<g id=\"edge7\" class=\"edge\">\n",
       "<title>140311240988224&#45;&gt;140311240429632</title>\n",
       "<path fill=\"none\" stroke=\"black\" d=\"M79.38,-321.82C93.85,-311.09 118.05,-293.14 135.38,-280.29\"/>\n",
       "<polygon fill=\"black\" stroke=\"black\" points=\"137.78,-282.87 143.73,-274.1 133.61,-277.24 137.78,-282.87\"/>\n",
       "</g>\n",
       "<!-- 140311240990048 -->\n",
       "<g id=\"node9\" class=\"node\">\n",
       "<title>140311240990048</title>\n",
       "<polygon fill=\"lightblue\" stroke=\"black\" points=\"54,-416 0,-416 0,-384 54,-384 54,-416\"/>\n",
       "<text text-anchor=\"middle\" x=\"27\" y=\"-402.4\" font-family=\"Times,serif\" font-size=\"12.00\">0.bias</text>\n",
       "<text text-anchor=\"middle\" x=\"27\" y=\"-390.4\" font-family=\"Times,serif\" font-size=\"12.00\"> (1024)</text>\n",
       "</g>\n",
       "<!-- 140311240990048&#45;&gt;140311240988224 -->\n",
       "<g id=\"edge8\" class=\"edge\">\n",
       "<title>140311240990048&#45;&gt;140311240988224</title>\n",
       "<path fill=\"none\" stroke=\"black\" d=\"M36.28,-383.69C42.21,-373.9 49.94,-361.15 56.16,-350.89\"/>\n",
       "<polygon fill=\"black\" stroke=\"black\" points=\"59.16,-352.68 61.35,-342.32 53.18,-349.05 59.16,-352.68\"/>\n",
       "</g>\n",
       "<!-- 140311240987168 -->\n",
       "<g id=\"node10\" class=\"node\">\n",
       "<title>140311240987168</title>\n",
       "<polygon fill=\"lightgrey\" stroke=\"black\" points=\"143.97,-410 72.03,-410 72.03,-390 143.97,-390 143.97,-410\"/>\n",
       "<text text-anchor=\"middle\" x=\"108\" y=\"-396.4\" font-family=\"Times,serif\" font-size=\"12.00\">TBackward</text>\n",
       "</g>\n",
       "<!-- 140311240987168&#45;&gt;140311240988224 -->\n",
       "<g id=\"edge9\" class=\"edge\">\n",
       "<title>140311240987168&#45;&gt;140311240988224</title>\n",
       "<path fill=\"none\" stroke=\"black\" d=\"M102.3,-389.82C96.06,-379.77 85.9,-363.42 78.07,-350.83\"/>\n",
       "<polygon fill=\"black\" stroke=\"black\" points=\"80.9,-348.75 72.65,-342.1 74.96,-352.44 80.9,-348.75\"/>\n",
       "</g>\n",
       "<!-- 140311234563184 -->\n",
       "<g id=\"node11\" class=\"node\">\n",
       "<title>140311234563184</title>\n",
       "<polygon fill=\"lightblue\" stroke=\"black\" points=\"145.49,-484 70.51,-484 70.51,-452 145.49,-452 145.49,-484\"/>\n",
       "<text text-anchor=\"middle\" x=\"108\" y=\"-470.4\" font-family=\"Times,serif\" font-size=\"12.00\">0.weight</text>\n",
       "<text text-anchor=\"middle\" x=\"108\" y=\"-458.4\" font-family=\"Times,serif\" font-size=\"12.00\"> (1024, 512)</text>\n",
       "</g>\n",
       "<!-- 140311234563184&#45;&gt;140311240987168 -->\n",
       "<g id=\"edge10\" class=\"edge\">\n",
       "<title>140311234563184&#45;&gt;140311240987168</title>\n",
       "<path fill=\"none\" stroke=\"black\" d=\"M108,-451.69C108,-442.4 108,-430.44 108,-420.47\"/>\n",
       "<polygon fill=\"black\" stroke=\"black\" points=\"111.5,-420.32 108,-410.32 104.5,-420.32 111.5,-420.32\"/>\n",
       "</g>\n",
       "<!-- 140311233008896 -->\n",
       "<g id=\"node12\" class=\"node\">\n",
       "<title>140311233008896</title>\n",
       "<polygon fill=\"orange\" stroke=\"black\" points=\"202.99,-342 137.01,-342 137.01,-322 202.99,-322 202.99,-342\"/>\n",
       "<text text-anchor=\"middle\" x=\"170\" y=\"-328.4\" font-family=\"Times,serif\" font-size=\"12.00\">(10, 1024)</text>\n",
       "</g>\n",
       "<!-- 140311233008896&#45;&gt;140311240429632 -->\n",
       "<g id=\"edge11\" class=\"edge\">\n",
       "<title>140311233008896&#45;&gt;140311240429632</title>\n",
       "<path fill=\"none\" stroke=\"black\" d=\"M168.05,-321.82C165.98,-312.07 162.66,-296.37 160.02,-283.95\"/>\n",
       "<polygon fill=\"black\" stroke=\"black\" points=\"163.43,-283.16 157.93,-274.1 156.58,-284.61 163.43,-283.16\"/>\n",
       "</g>\n",
       "<!-- 140311240990432 -->\n",
       "<g id=\"node13\" class=\"node\">\n",
       "<title>140311240990432</title>\n",
       "<polygon fill=\"lightgrey\" stroke=\"black\" points=\"310.97,-274 239.03,-274 239.03,-254 310.97,-254 310.97,-274\"/>\n",
       "<text text-anchor=\"middle\" x=\"275\" y=\"-260.4\" font-family=\"Times,serif\" font-size=\"12.00\">TBackward</text>\n",
       "</g>\n",
       "<!-- 140311240990432&#45;&gt;140311240987888 -->\n",
       "<g id=\"edge12\" class=\"edge\">\n",
       "<title>140311240990432&#45;&gt;140311240987888</title>\n",
       "<path fill=\"none\" stroke=\"black\" d=\"M258.45,-253.82C238.47,-242.74 204.65,-223.98 181.37,-211.07\"/>\n",
       "<polygon fill=\"black\" stroke=\"black\" points=\"182.85,-207.89 172.41,-206.1 179.45,-214.01 182.85,-207.89\"/>\n",
       "</g>\n",
       "<!-- 140311240989712 -->\n",
       "<g id=\"node14\" class=\"node\">\n",
       "<title>140311240989712</title>\n",
       "<polygon fill=\"lightblue\" stroke=\"black\" points=\"315.49,-348 234.51,-348 234.51,-316 315.49,-316 315.49,-348\"/>\n",
       "<text text-anchor=\"middle\" x=\"275\" y=\"-334.4\" font-family=\"Times,serif\" font-size=\"12.00\">2.weight</text>\n",
       "<text text-anchor=\"middle\" x=\"275\" y=\"-322.4\" font-family=\"Times,serif\" font-size=\"12.00\"> (1024, 1024)</text>\n",
       "</g>\n",
       "<!-- 140311240989712&#45;&gt;140311240990432 -->\n",
       "<g id=\"edge13\" class=\"edge\">\n",
       "<title>140311240989712&#45;&gt;140311240990432</title>\n",
       "<path fill=\"none\" stroke=\"black\" d=\"M275,-315.69C275,-306.4 275,-294.44 275,-284.47\"/>\n",
       "<polygon fill=\"black\" stroke=\"black\" points=\"278.5,-284.32 275,-274.32 271.5,-284.32 278.5,-284.32\"/>\n",
       "</g>\n",
       "<!-- 140311233009536 -->\n",
       "<g id=\"node15\" class=\"node\">\n",
       "<title>140311233009536</title>\n",
       "<polygon fill=\"orange\" stroke=\"black\" points=\"291.99,-206 226.01,-206 226.01,-186 291.99,-186 291.99,-206\"/>\n",
       "<text text-anchor=\"middle\" x=\"259\" y=\"-192.4\" font-family=\"Times,serif\" font-size=\"12.00\">(10, 1024)</text>\n",
       "</g>\n",
       "<!-- 140311233009536&#45;&gt;140311240430256 -->\n",
       "<g id=\"edge14\" class=\"edge\">\n",
       "<title>140311233009536&#45;&gt;140311240430256</title>\n",
       "<path fill=\"none\" stroke=\"black\" d=\"M256.5,-185.82C253.84,-176.07 249.56,-160.37 246.17,-147.95\"/>\n",
       "<polygon fill=\"black\" stroke=\"black\" points=\"249.49,-146.83 243.48,-138.1 242.74,-148.67 249.49,-146.83\"/>\n",
       "</g>\n",
       "<!-- 140311240989760 -->\n",
       "<g id=\"node16\" class=\"node\">\n",
       "<title>140311240989760</title>\n",
       "<polygon fill=\"lightgrey\" stroke=\"black\" points=\"395.97,-138 324.03,-138 324.03,-118 395.97,-118 395.97,-138\"/>\n",
       "<text text-anchor=\"middle\" x=\"360\" y=\"-124.4\" font-family=\"Times,serif\" font-size=\"12.00\">TBackward</text>\n",
       "</g>\n",
       "<!-- 140311240989760&#45;&gt;140311240990240 -->\n",
       "<g id=\"edge15\" class=\"edge\">\n",
       "<title>140311240989760&#45;&gt;140311240990240</title>\n",
       "<path fill=\"none\" stroke=\"black\" d=\"M341.93,-117.89C322.24,-107.96 290.55,-91.98 267.93,-80.58\"/>\n",
       "<polygon fill=\"black\" stroke=\"black\" points=\"269.36,-77.38 258.85,-76 266.21,-83.63 269.36,-77.38\"/>\n",
       "</g>\n",
       "<!-- 140311240989040 -->\n",
       "<g id=\"node17\" class=\"node\">\n",
       "<title>140311240989040</title>\n",
       "<polygon fill=\"lightblue\" stroke=\"black\" points=\"391.49,-212 328.51,-212 328.51,-180 391.49,-180 391.49,-212\"/>\n",
       "<text text-anchor=\"middle\" x=\"360\" y=\"-198.4\" font-family=\"Times,serif\" font-size=\"12.00\">4.weight</text>\n",
       "<text text-anchor=\"middle\" x=\"360\" y=\"-186.4\" font-family=\"Times,serif\" font-size=\"12.00\"> (2, 1024)</text>\n",
       "</g>\n",
       "<!-- 140311240989040&#45;&gt;140311240989760 -->\n",
       "<g id=\"edge16\" class=\"edge\">\n",
       "<title>140311240989040&#45;&gt;140311240989760</title>\n",
       "<path fill=\"none\" stroke=\"black\" d=\"M360,-179.69C360,-170.4 360,-158.44 360,-148.47\"/>\n",
       "<polygon fill=\"black\" stroke=\"black\" points=\"363.5,-148.32 360,-138.32 356.5,-148.32 363.5,-148.32\"/>\n",
       "</g>\n",
       "</g>\n",
       "</svg>\n"
      ],
      "text/plain": [
       "<graphviz.dot.Digraph at 0x7f9cc1ad5700>"
      ]
     },
     "execution_count": 47,
     "metadata": {},
     "output_type": "execute_result"
    }
   ],
   "source": [
    "x = torch.randn(10, 512)\n",
    "torchviz.make_dot(elu_mlp(x), params=dict(elu_mlp.named_parameters()))"
   ]
  },
  {
   "cell_type": "code",
   "execution_count": 54,
   "metadata": {},
   "outputs": [
    {
     "name": "stdout",
     "output_type": "stream",
     "text": [
      "grad_elu.shape=torch.Size([10, 1024]), δ_elu.shape=torch.Size([10, 1024])\n",
      "grad_elu.shape=torch.Size([10, 1024]), δ_elu.shape=torch.Size([10, 1024])\n"
     ]
    }
   ],
   "source": [
    "l = torch.sum(elu_mlp(x))\n",
    "l.backward()"
   ]
  },
  {
   "cell_type": "code",
   "execution_count": 56,
   "metadata": {},
   "outputs": [],
   "source": [
    "params = list(elu_mlp.parameters())"
   ]
  },
  {
   "cell_type": "code",
   "execution_count": 58,
   "metadata": {},
   "outputs": [
    {
     "data": {
      "text/plain": [
       "tensor([[ 1.7295e-13,  2.7499e-12,  7.6977e-12,  ...,  4.5094e-13,\n",
       "         -1.9546e-12,  3.3162e-12],\n",
       "        [ 1.3298e-13,  2.1144e-12,  5.9186e-12,  ...,  3.4671e-13,\n",
       "         -1.5029e-12,  2.5497e-12],\n",
       "        [ 2.3312e-13,  3.7066e-12,  1.0376e-11,  ...,  6.0781e-13,\n",
       "         -2.6347e-12,  4.4698e-12],\n",
       "        ...,\n",
       "        [ 3.5390e-13,  5.6271e-12,  1.5752e-11,  ...,  9.2274e-13,\n",
       "         -3.9998e-12,  6.7858e-12],\n",
       "        [-1.8944e-11, -3.0121e-10, -8.4315e-10,  ..., -4.9392e-11,\n",
       "          2.1410e-10, -3.6323e-10],\n",
       "        [-8.0616e-14, -1.2818e-12, -3.5881e-12,  ..., -2.1019e-13,\n",
       "          9.1111e-13, -1.5457e-12]])"
      ]
     },
     "execution_count": 58,
     "metadata": {},
     "output_type": "execute_result"
    }
   ],
   "source": [
    "params[0].grad\n"
   ]
  },
  {
   "cell_type": "code",
   "execution_count": null,
   "metadata": {},
   "outputs": [],
   "source": []
  },
  {
   "cell_type": "code",
   "execution_count": null,
   "metadata": {},
   "outputs": [],
   "source": []
  },
  {
   "cell_type": "code",
   "execution_count": null,
   "metadata": {},
   "outputs": [],
   "source": []
  },
  {
   "cell_type": "markdown",
   "metadata": {
    "slideshow": {
     "slide_type": "skip"
    }
   },
   "source": [
    "**Image credits**\n",
    "\n",
    "Some images in this tutorial were taken and/or adapted from:\n",
    "\n",
    "- Dr. Roger Grosse, UToronto, cs321\n",
    "- Fundamentals of Deep Learning, Nikhil Buduma, Oreilly 2017\n"
   ]
  },
  {
   "cell_type": "code",
   "execution_count": null,
   "metadata": {},
   "outputs": [],
   "source": []
  }
 ],
 "metadata": {
  "kernelspec": {
   "display_name": "Python 3",
   "language": "python",
   "name": "python3"
  },
  "language_info": {
   "codemirror_mode": {
    "name": "ipython",
    "version": 3
   },
   "file_extension": ".py",
   "mimetype": "text/x-python",
   "name": "python",
   "nbconvert_exporter": "python",
   "pygments_lexer": "ipython3",
   "version": "3.8.6"
  },
  "toc-autonumbering": false,
  "toc-showcode": false,
  "toc-showmarkdowntxt": false
 },
 "nbformat": 4,
 "nbformat_minor": 4
}

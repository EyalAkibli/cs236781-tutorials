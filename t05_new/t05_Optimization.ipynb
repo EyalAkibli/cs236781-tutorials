{
 "cells": [
  {
   "cell_type": "markdown",
   "metadata": {
    "slideshow": {
     "slide_type": "slide"
    }
   },
   "source": [
    "$$\n",
    "\\newcommand{\\mat}[1]{\\boldsymbol {#1}}\n",
    "\\newcommand{\\mattr}[1]{\\boldsymbol {#1}^\\top}\n",
    "\\newcommand{\\matinv}[1]{\\boldsymbol {#1}^{-1}}\n",
    "\\newcommand{\\vec}[1]{\\boldsymbol {#1}}\n",
    "\\newcommand{\\vectr}[1]{\\boldsymbol {#1}^\\top}\n",
    "\\newcommand{\\rvar}[1]{\\mathrm {#1}}\n",
    "\\newcommand{\\rvec}[1]{\\boldsymbol{\\mathrm{#1}}}\n",
    "\\newcommand{\\diag}{\\mathop{\\mathrm {diag}}}\n",
    "\\newcommand{\\set}[1]{\\mathbb {#1}}\n",
    "\\newcommand{\\norm}[1]{\\left\\lVert#1\\right\\rVert}\n",
    "\\newcommand{\\pderiv}[2]{\\frac{\\partial #1}{\\partial #2}}\n",
    "\\newcommand{\\bb}[1]{\\boldsymbol{#1}}\n",
    "\\newcommand{\\ip}[3]{\\left<#1,#2\\right>_{#3}}\n",
    "\\newcommand{\\E}[2][]{\\mathbb{E}_{#1}\\left[#2\\right]}\n",
    "$$\n",
    "\n",
    "# CS236781: Deep Learning\n",
    "# Tutorial 5: Optimization"
   ]
  },
  {
   "cell_type": "markdown",
   "metadata": {
    "slideshow": {
     "slide_type": "subslide"
    }
   },
   "source": [
    "## Introduction\n",
    "\n",
    "In this tutorial, we will cover:  **TODO**\n",
    "\n",
    "- Backpropagation\n",
    "- Optimization\n",
    "- Automatic differentiation\n",
    "- PyTorch backward functions\n",
    "- Bi-level differentiable optimization"
   ]
  },
  {
   "cell_type": "code",
   "execution_count": null,
   "metadata": {},
   "outputs": [],
   "source": []
  },
  {
   "cell_type": "code",
   "execution_count": 1,
   "metadata": {
    "slideshow": {
     "slide_type": "subslide"
    }
   },
   "outputs": [],
   "source": [
    "# Setup\n",
    "%matplotlib inline\n",
    "import os\n",
    "import sys\n",
    "import time\n",
    "import torch\n",
    "import matplotlib.pyplot as plt"
   ]
  },
  {
   "cell_type": "code",
   "execution_count": 2,
   "metadata": {
    "slideshow": {
     "slide_type": "fragment"
    }
   },
   "outputs": [],
   "source": [
    "plt.rcParams['font.size'] = 14\n",
    "data_dir = os.path.expanduser('~/.pytorch-datasets')\n",
    "device = torch.device('cuda' if torch.cuda.is_available() else 'cpu')"
   ]
  },
  {
   "cell_type": "code",
   "execution_count": null,
   "metadata": {},
   "outputs": [],
   "source": []
  },
  {
   "cell_type": "markdown",
   "metadata": {
    "slideshow": {
     "slide_type": "slide"
    }
   },
   "source": [
    "## Theory Reminders"
   ]
  },
  {
   "cell_type": "markdown",
   "metadata": {},
   "source": [
    "### Descent-based optimization"
   ]
  },
  {
   "cell_type": "markdown",
   "metadata": {
    "slideshow": {
     "slide_type": "subslide"
    }
   },
   "source": [
    "As we have seen, training deep neural network is performed iteratively using descent-based optimization."
   ]
  },
  {
   "cell_type": "markdown",
   "metadata": {
    "slideshow": {
     "slide_type": "subslide"
    }
   },
   "source": [
    "The general scheme is,\n",
    "\n",
    "1. Initialize parameters to some $\\vec{\\Theta}^0 \\in \\set{R}^P$, and set $k\\leftarrow 0$.\n",
    "2. While not converged:\n",
    "    1. Choose a direction $\\vec{d}^k\\in\\set{R}^P$\n",
    "    2. Choose a step size $\\eta_k\\in\\set{R}$\n",
    "    3. Update: $\\vec{\\Theta}^{k+1} \\leftarrow \\vec{\\Theta}^k + \\eta_k \\vec{d}^k$\n",
    "    4. $k\\leftarrow k+1$\n"
   ]
  },
  {
   "cell_type": "markdown",
   "metadata": {},
   "source": [
    "Which descent direction to choose?"
   ]
  },
  {
   "cell_type": "markdown",
   "metadata": {},
   "source": [
    "The one which maximally decreases the loss function $L(\\vec{\\Theta})$:\n",
    "\n",
    "$$\n",
    "\\vec{d} =\\arg\\min_{\\vec{d'}} L(\\vec{\\Theta}+\\vec{d'})-L(\\vec{\\Theta})\n",
    "\\approx\n",
    "\\arg\\min_{\\vec{d'}}\\nabla L(\\vec{\\Theta})^\\top\\vec{d'}, \\\n",
    "\\mathrm{s.t.} \\norm{\\vec{d}}_p=1\n",
    "$$"
   ]
  },
  {
   "cell_type": "markdown",
   "metadata": {},
   "source": [
    "Choice of norm determines $\\vec{d}$. For example,\n",
    "- $p=1$: Coordinate descent: direction of the largest gradient component.\n",
    "- $p=2$: Gradient descent: $\\vec{d}=-\\nabla L(\\vec{\\Theta})$.\n",
    "\n",
    "|$p=1$|$p=2$|\n",
    "|---|---|\n",
    "|<img src=\"https://upload.wikimedia.org/wikipedia/commons/e/e3/Coordinate_descent.svg\" width=\"300\" /> | <img src=\"https://upload.wikimedia.org/wikipedia/commons/f/ff/Gradient_descent.svg\" width=\"300\" />| "
   ]
  },
  {
   "cell_type": "markdown",
   "metadata": {},
   "source": [
    "#### Drawbacks and mitigations?"
   ]
  },
  {
   "cell_type": "markdown",
   "metadata": {},
   "source": [
    "**Susceptible to initialization**\n",
    "\n",
    "Initializing near local minima can prevent finding better ones.\n",
    "\n",
    "<center><img src=\"imgs/sgd-init.png\" width=\"600\" /></center>"
   ]
  },
  {
   "cell_type": "markdown",
   "metadata": {},
   "source": [
    "Can use stochastic gradient to get a different loss surface every iteration.\n",
    "\n",
    "\n",
    "<center><img src=\"imgs/sgd-loss.png\" width=\"500\" /></center>"
   ]
  },
  {
   "cell_type": "markdown",
   "metadata": {},
   "source": [
    "**Sensitive to learning rate**\n",
    "\n",
    "<center><img src=\"imgs/sgd-lr.png\" width=\"800\"/></center>"
   ]
  },
  {
   "cell_type": "markdown",
   "metadata": {},
   "source": [
    "- Line search (1D minimization):\n",
    "$$\n",
    "\\eta_k = \\arg\\min_{\\eta'} L(\\vec{\\Theta}^k+\\eta'\\vec{d}^k)\n",
    "$$\n",
    "\n",
    "- Adaptive LR optimizers, e.g. Adam\n",
    "\n",
    "- LR scheduling\n",
    "<center><img src=\"imgs/sgd-lr-schedule.png\" width=\"500\"/></center>"
   ]
  },
  {
   "cell_type": "markdown",
   "metadata": {},
   "source": [
    "**Zig-zags in narrow \"ravines\"**\n",
    "\n",
    "<center><img src=\"imgs/sgd-zigzag.png\" width=\"300\"/></center>"
   ]
  },
  {
   "cell_type": "markdown",
   "metadata": {},
   "source": [
    "- Momentum: Use previous gradients to build \"speed\" in the common direction and cancel-out oscillations in opposite directions.\n",
    "\n",
    "- BatchNorm: Normalizes activations to zero-mean and unit variance (reduces curvature)\n",
    "\n",
    "- Second-order methods: Use quadratic local approximation of the loss surface, instead of linear.\n",
    "    - Newton's method: $\\vec{d}_k=\\mat{H}_k^{-1}\\vec{g}_k = \\nabla^2 L(\\vec{\\Theta}_k)^{-1}\\nabla L(\\vec{\\Theta}_k)$.\n",
    "    - Quasi-Newton methods which use some estimate of the Hessian based on first-order information (e.g. BFGS)."
   ]
  },
  {
   "cell_type": "markdown",
   "metadata": {},
   "source": [
    "### The back-propagation algorithm"
   ]
  },
  {
   "cell_type": "markdown",
   "metadata": {},
   "source": [
    "All the above optimization methods have a crucial thing in common: They require calculation of gradients of the loss w.r.t. to the parameters.\n",
    "\n",
    "In practical settings when training neural networks we have many different parameters tensors we would like to update separately. Thus, we require the gradient of the loss w.r.t. each of them."
   ]
  },
  {
   "cell_type": "markdown",
   "metadata": {},
   "source": [
    "Back-propagation is an efficient way to calculate these gradients using the chain rule.\n",
    "\n",
    "We represent the application of a model as a **computation graph**.\n",
    "For example, a simple linear regression model can be represented as:\n",
    "\n",
    "<center><img src=\"imgs/backprop-graph.png\" width=\"350\"/></center>"
   ]
  },
  {
   "cell_type": "markdown",
   "metadata": {},
   "source": [
    "Imagine that in this graph we have $N$ variables $\\vec{v}^i,\\ 1\\leq i \\leq N$  and functions $f_i$ which compute them from other variables.\n",
    "\n",
    "The graph is directional, thus assume $\\vec{v}^1, \\vec{v}^2,\\dots,\\vec{v}^N$ represents a topological order of the graph (parents before children).\n",
    "\n",
    "Define also the notation $\\delta\\vec{v}\\triangleq \\pderiv{L}{\\vec{v}}$."
   ]
  },
  {
   "cell_type": "markdown",
   "metadata": {},
   "source": [
    "The forward pass can therefore we written as:\n",
    "\n",
    "1. For $i=1,2,\\dots,N$:\n",
    "  1. Graph parents of current node: $$\\mathcal{P}_i \\leftarrow \\left\\{\\vec{v}^j ~\\middle\\vert~ \\vec{v}^j \\text{ parent of } \\vec{v}^i\\right\\}$$ \n",
    "  2. Evaluate function at current node: $$\\vec{v}^i\\leftarrow f_i(\\mathcal{P}_i)$$"
   ]
  },
  {
   "cell_type": "markdown",
   "metadata": {},
   "source": [
    "And in the backward pass we traverse the graph in reverse and apply the chain rule:\n",
    "\n",
    "1. Set $\\delta\\vec{v}^N=1$.\n",
    "2. For $i=N,N-1,\\dots,1$:\n",
    "  1. Graph children of current node: $$\\mathcal{C}_i \\leftarrow \\left\\{\\vec{v}^j ~\\middle\\vert~ \\vec{v}^j \\text{ child of } \\vec{v}^i\\right\\}$$  \n",
    "  2. Chain rule: $$\\delta\\vec{v}^i\\leftarrow \\sum_{\\vec{v}^j\\in\\mathcal{C}_i} \\delta\\vec{v}^j\\pderiv{\\vec{v}^j}{\\vec{v}^i}$$\n",
    "  \n",
    "Notes:\n",
    "1. The expression $\\delta\\vec{v}^j\\pderiv{\\vec{v}^j}{\\vec{v}^i}$ is a \"vector\"-Jacobian product (VJP).\n",
    "2. When a computation node's output is used by more than one other node (more than one child in the graph), we sum the incoming gradients from these children. This again arises directly from the chain rule."
   ]
  },
  {
   "cell_type": "markdown",
   "metadata": {},
   "source": [
    "Backpropagation easily lends itself to a modular and efficient implementation.\n"
   ]
  },
  {
   "cell_type": "markdown",
   "metadata": {},
   "source": [
    "Modularity:\n",
    "- Nodes in the computation graph only need to know how to calculate their own derivatives.\n",
    "- This is then passed to the parent nodes, which can do the same.\n",
    "\n",
    "\n",
    "<center><img src=\"imgs/backprop-modular.png\" width=\"500\"/></center>"
   ]
  },
  {
   "cell_type": "markdown",
   "metadata": {},
   "source": [
    "Efficiency:\n",
    "\n",
    "- Only need to compute each $\\delta\\vec{v}^i$ once.\n",
    "- No need to construct the Jacobian, instead calculate the VJP directly since that's what we actually need."
   ]
  },
  {
   "cell_type": "markdown",
   "metadata": {},
   "source": [
    "Modern automatic-differentiation packages such as PyTorch's `autograd` utilize exactly these tricks to implement backprop in an extremely powerful way."
   ]
  },
  {
   "cell_type": "markdown",
   "metadata": {},
   "source": [
    "## Part 1: Custom automatic differentiation with PyTorch"
   ]
  },
  {
   "cell_type": "markdown",
   "metadata": {},
   "source": [
    "We'll now learn how to extend PyTorch's `autograd` by defining our own custom nodes in the computation graph.\n",
    "\n",
    "Lets first introduce a cousin of ReLU, the Exponential-Linear Unit (ELU) activation function:\n",
    "\n",
    "$$\n",
    "f(z) =\n",
    "\\begin{cases}\n",
    "z, & z > 0\\\\\n",
    "\\alpha \\left(e^{z}-1\\right) & z \\leq 0\n",
    "\\end{cases}\n",
    "$$"
   ]
  },
  {
   "cell_type": "markdown",
   "metadata": {},
   "source": [
    "We'll pretend PyTorch does not include this activation function and implement a custom version ourselves."
   ]
  },
  {
   "cell_type": "code",
   "execution_count": 3,
   "metadata": {},
   "outputs": [],
   "source": [
    "import torch\n",
    "import torch.autograd as autograd\n",
    "import torchviz\n",
    "\n",
    "from torch import Tensor"
   ]
  },
  {
   "cell_type": "markdown",
   "metadata": {},
   "source": [
    "First, we'll implement just the actual computation as a standalone function so that we can reuse it later."
   ]
  },
  {
   "cell_type": "code",
   "execution_count": 4,
   "metadata": {},
   "outputs": [],
   "source": [
    "def elu_forward(z: Tensor, alpha: float):\n",
    "    elu_positive = z\n",
    "    elu_negative = alpha * (torch.exp(z) - 1)\n",
    "    elu_output = torch.where(z>0, elu_positive, elu_negative)\n",
    "    return elu_output"
   ]
  },
  {
   "cell_type": "markdown",
   "metadata": {},
   "source": [
    "A quick visualization to see what it looks like:"
   ]
  },
  {
   "cell_type": "code",
   "execution_count": 5,
   "metadata": {},
   "outputs": [
    {
     "data": {
      "image/png": "[encoded data removed]",
      "text/plain": [
       "<Figure size 432x288 with 1 Axes>"
      ]
     },
     "metadata": {
      "needs_background": "light"
     },
     "output_type": "display_data"
    }
   ],
   "source": [
    "z = torch.linspace(-5, 5, steps=1000)\n",
    "plt.plot(z.numpy(), torch.relu(z).numpy(), label='ReLU(z)', linewidth=5);\n",
    "plt.plot(z.numpy(), elu_forward(z, alpha=0.5).numpy(), label='ELU(z)', linewidth=2); plt.legend(); plt.grid();"
   ]
  },
  {
   "cell_type": "markdown",
   "metadata": {},
   "source": [
    "Now we'll wrap it as an `nn.Module` so that we can use it as a layer in a model."
   ]
  },
  {
   "cell_type": "code",
   "execution_count": 6,
   "metadata": {},
   "outputs": [],
   "source": [
    "class ELU(torch.nn.Module):\n",
    "    \"\"\" ELU Activation layer \"\"\"\n",
    "    \n",
    "    def __init__(self, alpha: float = 0.1):\n",
    "        super().__init__()\n",
    "        self.alpha = alpha\n",
    "    \n",
    "    def forward(self, z: Tensor):\n",
    "        return elu_forward(z, self.alpha)\n",
    "    "
   ]
  },
  {
   "cell_type": "markdown",
   "metadata": {},
   "source": [
    "And as usual, we can look at the resulting computation graph."
   ]
  },
  {
   "cell_type": "code",
   "execution_count": 7,
   "metadata": {},
   "outputs": [
    {
     "data": {
      "image/svg+xml": [
       "<?xml version=\"1.0\" encoding=\"UTF-8\" standalone=\"no\"?>\n",
       "<!DOCTYPE svg PUBLIC \"-//W3C//DTD SVG 1.1//EN\"\n",
       " \"http://www.w3.org/Graphics/SVG/1.1/DTD/svg11.dtd\">\n",
       "<!-- Generated by graphviz version 2.42.3 (20191010.1750)\n",
       " -->\n",
       "<!-- Title: %3 Pages: 1 -->\n",
       "<svg width=\"142pt\" height=\"264pt\"\n",
       " viewBox=\"0.00 0.00 141.97 264.00\" xmlns=\"http://www.w3.org/2000/svg\" xmlns:xlink=\"http://www.w3.org/1999/xlink\">\n",
       "<g id=\"graph0\" class=\"graph\" transform=\"scale(1 1) rotate(0) translate(4 260)\">\n",
       "<title>%3</title>\n",
       "<polygon fill=\"white\" stroke=\"transparent\" points=\"-4,4 -4,-260 137.97,-260 137.97,4 -4,4\"/>\n",
       "<!-- 140541168650848 -->\n",
       "<g id=\"node1\" class=\"node\">\n",
       "<title>140541168650848</title>\n",
       "<polygon fill=\"#caff70\" stroke=\"black\" points=\"103.44,-20 -0.15,-20 -0.15,0 103.44,0 103.44,-20\"/>\n",
       "<text text-anchor=\"middle\" x=\"51.65\" y=\"-6.4\" font-family=\"Times,serif\" font-size=\"12.00\">SWhereBackward</text>\n",
       "</g>\n",
       "<!-- 140541168650944 -->\n",
       "<g id=\"node2\" class=\"node\">\n",
       "<title>140541168650944</title>\n",
       "<polygon fill=\"lightblue\" stroke=\"black\" points=\"77.65,-256 23.65,-256 23.65,-224 77.65,-224 77.65,-256\"/>\n",
       "<text text-anchor=\"middle\" x=\"50.65\" y=\"-242.4\" font-family=\"Times,serif\" font-size=\"12.00\">z</text>\n",
       "<text text-anchor=\"middle\" x=\"50.65\" y=\"-230.4\" font-family=\"Times,serif\" font-size=\"12.00\"> (6)</text>\n",
       "</g>\n",
       "<!-- 140541168650944&#45;&gt;140541168650848 -->\n",
       "<g id=\"edge1\" class=\"edge\">\n",
       "<title>140541168650944&#45;&gt;140541168650848</title>\n",
       "<path fill=\"none\" stroke=\"black\" d=\"M44.95,-223.62C41.54,-213.62 37.52,-200.22 35.65,-188 33.48,-173.85 34.33,-57.71 34.65,-56 36.29,-46.97 39.66,-37.41 42.96,-29.43\"/>\n",
       "<polygon fill=\"black\" stroke=\"black\" points=\"46.28,-30.59 47.12,-20.03 39.87,-27.76 46.28,-30.59\"/>\n",
       "</g>\n",
       "<!-- 140541110323712 -->\n",
       "<g id=\"node5\" class=\"node\">\n",
       "<title>140541110323712</title>\n",
       "<polygon fill=\"lightgrey\" stroke=\"black\" points=\"128.62,-188 44.67,-188 44.67,-168 128.62,-168 128.62,-188\"/>\n",
       "<text text-anchor=\"middle\" x=\"86.65\" y=\"-174.4\" font-family=\"Times,serif\" font-size=\"12.00\">ExpBackward</text>\n",
       "</g>\n",
       "<!-- 140541168650944&#45;&gt;140541110323712 -->\n",
       "<g id=\"edge5\" class=\"edge\">\n",
       "<title>140541168650944&#45;&gt;140541110323712</title>\n",
       "<path fill=\"none\" stroke=\"black\" d=\"M59.73,-223.86C64.63,-215.69 70.72,-205.55 75.86,-196.98\"/>\n",
       "<polygon fill=\"black\" stroke=\"black\" points=\"79.01,-198.53 81.15,-188.15 73.01,-194.93 79.01,-198.53\"/>\n",
       "</g>\n",
       "<!-- 140541166738256 -->\n",
       "<g id=\"node3\" class=\"node\">\n",
       "<title>140541166738256</title>\n",
       "<polygon fill=\"lightgrey\" stroke=\"black\" points=\"133.8,-76 43.5,-76 43.5,-56 133.8,-56 133.8,-76\"/>\n",
       "<text text-anchor=\"middle\" x=\"88.65\" y=\"-62.4\" font-family=\"Times,serif\" font-size=\"12.00\">MulBackward0</text>\n",
       "</g>\n",
       "<!-- 140541166738256&#45;&gt;140541168650848 -->\n",
       "<g id=\"edge2\" class=\"edge\">\n",
       "<title>140541166738256&#45;&gt;140541168650848</title>\n",
       "<path fill=\"none\" stroke=\"black\" d=\"M82.2,-55.59C77.11,-48.16 69.86,-37.58 63.69,-28.58\"/>\n",
       "<polygon fill=\"black\" stroke=\"black\" points=\"66.56,-26.57 58.02,-20.3 60.78,-30.53 66.56,-26.57\"/>\n",
       "</g>\n",
       "<!-- 140541110324432 -->\n",
       "<g id=\"node4\" class=\"node\">\n",
       "<title>140541110324432</title>\n",
       "<polygon fill=\"lightgrey\" stroke=\"black\" points=\"133.47,-132 43.83,-132 43.83,-112 133.47,-112 133.47,-132\"/>\n",
       "<text text-anchor=\"middle\" x=\"88.65\" y=\"-118.4\" font-family=\"Times,serif\" font-size=\"12.00\">SubBackward0</text>\n",
       "</g>\n",
       "<!-- 140541110324432&#45;&gt;140541166738256 -->\n",
       "<g id=\"edge3\" class=\"edge\">\n",
       "<title>140541110324432&#45;&gt;140541166738256</title>\n",
       "<path fill=\"none\" stroke=\"black\" d=\"M88.65,-111.59C88.65,-104.7 88.65,-95.1 88.65,-86.57\"/>\n",
       "<polygon fill=\"black\" stroke=\"black\" points=\"92.15,-86.3 88.65,-76.3 85.15,-86.3 92.15,-86.3\"/>\n",
       "</g>\n",
       "<!-- 140541110323712&#45;&gt;140541110324432 -->\n",
       "<g id=\"edge4\" class=\"edge\">\n",
       "<title>140541110323712&#45;&gt;140541110324432</title>\n",
       "<path fill=\"none\" stroke=\"black\" d=\"M86.99,-167.59C87.25,-160.7 87.61,-151.1 87.92,-142.57\"/>\n",
       "<polygon fill=\"black\" stroke=\"black\" points=\"91.43,-142.42 88.3,-132.3 84.43,-142.16 91.43,-142.42\"/>\n",
       "</g>\n",
       "</g>\n",
       "</svg>\n"
      ],
      "text/plain": [
       "<graphviz.dot.Digraph at 0x7fd24a6f0fa0>"
      ]
     },
     "execution_count": 7,
     "metadata": {},
     "output_type": "execute_result"
    }
   ],
   "source": [
    "elu = ELU(alpha=0.5)\n",
    "z = torch.tensor([-2., -1, 0, 1, 2, 3], requires_grad=True)\n",
    "torchviz.make_dot(elu(z), params=dict(z=z))"
   ]
  },
  {
   "cell_type": "markdown",
   "metadata": {},
   "source": [
    "We can see that the computation graph accurately represents the various basic mathematical operations performed bby our `elu_forward` function.\n",
    "\n",
    "But what if we want to define the entire ELU operarion as one node in the graph?\n",
    "This can be useful e.g. for performance reasons.\n",
    "\n",
    "But how can we accomplish this?"
   ]
  },
  {
   "cell_type": "markdown",
   "metadata": {},
   "source": [
    "The solution is to use a lower-level PyTorch API, `autograd.Function`\n",
    "which allows us to define a function in terms of both it's forwards pass\n",
    "(the regular output computation), and it's **backward** pass\n",
    "(the gradient w.r.t. all it's inputs).\n"
   ]
  },
  {
   "cell_type": "markdown",
   "metadata": {},
   "source": [
    "From the PyTorch docs:\n",
    "    \n",
    "    Every operation performed on Tensor s creates a new Function object, that performs the computation, and records that it happened. The history is retained in the form of a DAG of functions, with edges denoting data dependencies (input <- output). Then, when backward is called, the graph is processed in the topological ordering, by calling backward() methods of each Function object, and passing returned gradients on to next Function s.\n",
    "\n"
   ]
  },
  {
   "cell_type": "markdown",
   "metadata": {},
   "source": [
    "We'll first calculate the simple analytic derivative of the ELU function:\n",
    "$$\n",
    "\\pderiv{f(z)}{z} = f'(z) = \n",
    "\\begin{cases}\n",
    "1, & z > 0\\\\\n",
    "\\alpha e^{z} & z \\leq 0\n",
    "\\end{cases}\n",
    "$$"
   ]
  },
  {
   "cell_type": "markdown",
   "metadata": {},
   "source": [
    "Next, we need to figure out how to compute the vector-Jacobian product efficiently.\n",
    "Note that for any **elementwise** operation, $\\vec{y}=f(\\vec{x}),\\ f:\\set{R}^n\\rightarrow\\set{R}^n$, we can write the Jacobian as\n",
    "\n",
    "$$\n",
    "\\pderiv{\\vec{y}}{\\vec{x}} = \\pmatrix{\n",
    "\\ddots & \\vdots & \\\\\n",
    "\\cdots & \\pderiv{y_i}{x_j} & \\cdots \\\\\n",
    "& \\vdots & \\ddots\\\\\n",
    "}\n",
    "=\n",
    "\\pmatrix{\n",
    "f'(x_1) &  &  \\\\\n",
    "  & f'(x_i) &  \\\\\n",
    "& & f'(x_n)\\\\\n",
    "}\n",
    "= \\diag\\{{f'(\\vec{x})}\\}\n",
    "$$\n",
    "\n",
    "And it follows that the VJP can be computed simply:\n",
    "$$\n",
    "\\delta \\vec{x} = \\delta{\\vec{y}}\\pderiv{\\vec{y}}{\\vec{x}} = \\delta{\\vec{y}} \\odot f'(\\vec{x}).\n",
    "$$"
   ]
  },
  {
   "cell_type": "markdown",
   "metadata": {},
   "source": [
    "Now, equipped with the expression for the VJP, we can proceed to implement the Function object representing ELU."
   ]
  },
  {
   "cell_type": "code",
   "execution_count": 8,
   "metadata": {},
   "outputs": [],
   "source": [
    "class ELUFunction(autograd.Function):\n",
    "    \n",
    "    @staticmethod\n",
    "    def forward(ctx, z: Tensor, alpha: float):\n",
    "        elu = elu_forward(z, alpha) # Regular forward pass computation from before\n",
    "        ctx.save_for_backward(z)    # Tensors should be saved using this method\n",
    "        ctx.alpha = alpha           # other properties can bbe saved like so\n",
    "        return elu\n",
    "    \n",
    "    @staticmethod\n",
    "    def backward(ctx, grad_output):\n",
    "        z, = ctx.saved_tensors\n",
    "        alpha = ctx.alpha\n",
    "        \n",
    "        # Calculate diagonal of d(elu(z))/dz\n",
    "        grad_positive = torch.ones_like(z)\n",
    "        grad_negative = alpha * torch.exp(z)\n",
    "        \n",
    "        # Note: This is not the full Jacobian\n",
    "        grad_elu = torch.where(z>0, grad_positive, grad_negative)\n",
    "        \n",
    "        # Gradient of the loss w.r.t. our output\n",
    "        δ_elu = grad_output\n",
    "        \n",
    "        # Calcualte δz = d(elu(z))/dz * δ_elu\n",
    "        # Note: elementwise multiplication equivalant to vector-Jacobian product\n",
    "#         print(f'{grad_elu.shape=}, {δ_elu.shape=}')\n",
    "        δz = grad_elu * δ_elu\n",
    "        return δz, None"
   ]
  },
  {
   "cell_type": "markdown",
   "metadata": {},
   "source": [
    "We can now use this custom `Function` either directly or as part of a layer.\n",
    "\n",
    "For example, here's an ELU layer using our custom backward:"
   ]
  },
  {
   "cell_type": "code",
   "execution_count": 9,
   "metadata": {},
   "outputs": [],
   "source": [
    "class ELUCustom(torch.nn.Module):\n",
    "    \"\"\" ELU Layer with a custom backward pass \"\"\"\n",
    "    \n",
    "    def __init__(self, alpha: float = 0.1):\n",
    "        super().__init__()\n",
    "        self.alpha = alpha\n",
    "    \n",
    "    def forward(self, z: Tensor):\n",
    "        # Function.apply() invokes the forward pass\n",
    "        return ELUFunction.apply(z, self.alpha)"
   ]
  },
  {
   "cell_type": "code",
   "execution_count": null,
   "metadata": {},
   "outputs": [],
   "source": []
  },
  {
   "cell_type": "code",
   "execution_count": 10,
   "metadata": {},
   "outputs": [
    {
     "data": {
      "image/svg+xml": [
       "<?xml version=\"1.0\" encoding=\"UTF-8\" standalone=\"no\"?>\n",
       "<!DOCTYPE svg PUBLIC \"-//W3C//DTD SVG 1.1//EN\"\n",
       " \"http://www.w3.org/Graphics/SVG/1.1/DTD/svg11.dtd\">\n",
       "<!-- Generated by graphviz version 2.42.3 (20191010.1750)\n",
       " -->\n",
       "<!-- Title: %3 Pages: 1 -->\n",
       "<svg width=\"139pt\" height=\"96pt\"\n",
       " viewBox=\"0.00 0.00 138.64 96.00\" xmlns=\"http://www.w3.org/2000/svg\" xmlns:xlink=\"http://www.w3.org/1999/xlink\">\n",
       "<g id=\"graph0\" class=\"graph\" transform=\"scale(1 1) rotate(0) translate(4 92)\">\n",
       "<title>%3</title>\n",
       "<polygon fill=\"white\" stroke=\"transparent\" points=\"-4,4 -4,-92 134.64,-92 134.64,4 -4,4\"/>\n",
       "<!-- 140541168474000 -->\n",
       "<g id=\"node1\" class=\"node\">\n",
       "<title>140541168474000</title>\n",
       "<polygon fill=\"#caff70\" stroke=\"black\" points=\"130.46,-20 0.18,-20 0.18,0 130.46,0 130.46,-20\"/>\n",
       "<text text-anchor=\"middle\" x=\"65.32\" y=\"-6.4\" font-family=\"Times,serif\" font-size=\"12.00\">ELUFunctionBackward</text>\n",
       "</g>\n",
       "<!-- 140541168759952 -->\n",
       "<g id=\"node2\" class=\"node\">\n",
       "<title>140541168759952</title>\n",
       "<polygon fill=\"lightblue\" stroke=\"black\" points=\"56.32,-88 2.32,-88 2.32,-56 56.32,-56 56.32,-88\"/>\n",
       "<text text-anchor=\"middle\" x=\"29.32\" y=\"-74.4\" font-family=\"Times,serif\" font-size=\"12.00\">z</text>\n",
       "<text text-anchor=\"middle\" x=\"29.32\" y=\"-62.4\" font-family=\"Times,serif\" font-size=\"12.00\"> (6)</text>\n",
       "</g>\n",
       "<!-- 140541168759952&#45;&gt;140541168474000 -->\n",
       "<g id=\"edge1\" class=\"edge\">\n",
       "<title>140541168759952&#45;&gt;140541168474000</title>\n",
       "<path fill=\"none\" stroke=\"black\" d=\"M38.4,-55.86C43.31,-47.69 49.39,-37.55 54.53,-28.98\"/>\n",
       "<polygon fill=\"black\" stroke=\"black\" points=\"57.68,-30.53 59.83,-20.15 51.68,-26.93 57.68,-30.53\"/>\n",
       "</g>\n",
       "<!-- 140541168742208 -->\n",
       "<g id=\"node3\" class=\"node\">\n",
       "<title>140541168742208</title>\n",
       "<polygon fill=\"orange\" stroke=\"black\" points=\"128.32,-82 74.32,-82 74.32,-62 128.32,-62 128.32,-82\"/>\n",
       "<text text-anchor=\"middle\" x=\"101.32\" y=\"-68.4\" font-family=\"Times,serif\" font-size=\"12.00\">(6)</text>\n",
       "</g>\n",
       "<!-- 140541168742208&#45;&gt;140541168474000 -->\n",
       "<g id=\"edge2\" class=\"edge\">\n",
       "<title>140541168742208&#45;&gt;140541168474000</title>\n",
       "<path fill=\"none\" stroke=\"black\" d=\"M95.85,-61.89C90.62,-53.17 82.58,-39.77 76.06,-28.91\"/>\n",
       "<polygon fill=\"black\" stroke=\"black\" points=\"78.98,-26.97 70.84,-20.2 72.98,-30.57 78.98,-26.97\"/>\n",
       "</g>\n",
       "</g>\n",
       "</svg>\n"
      ],
      "text/plain": [
       "<graphviz.dot.Digraph at 0x7fd24a70b100>"
      ]
     },
     "execution_count": 10,
     "metadata": {},
     "output_type": "execute_result"
    }
   ],
   "source": [
    "elu_custom = ELUCustom(alpha=0.5)\n",
    "z = torch.tensor([-2., -1, 0, 1, 2, 3], requires_grad=True)\n",
    "torchviz.make_dot(elu_custom(z), params=dict(z=z),)"
   ]
  },
  {
   "cell_type": "markdown",
   "metadata": {},
   "source": [
    "This only tested the forward pass. Let's now put our custom layer in the context of a larger model and see that we can backprop through it."
   ]
  },
  {
   "cell_type": "code",
   "execution_count": 11,
   "metadata": {},
   "outputs": [],
   "source": [
    "elu_mlp = torch.nn.Sequential(\n",
    "    torch.nn.Linear(in_features=512, out_features=1024),\n",
    "    ELUCustom(alpha=0.01),\n",
    "    torch.nn.Linear(in_features=1024, out_features=1024),\n",
    "    ELUCustom(alpha=0.01),\n",
    "    torch.nn.Linear(in_features=1024, out_features=10),\n",
    "    torch.nn.Softmax(dim=1)\n",
    ")"
   ]
  },
  {
   "cell_type": "code",
   "execution_count": 12,
   "metadata": {},
   "outputs": [
    {
     "data": {
      "image/svg+xml": [
       "<?xml version=\"1.0\" encoding=\"UTF-8\" standalone=\"no\"?>\n",
       "<!DOCTYPE svg PUBLIC \"-//W3C//DTD SVG 1.1//EN\"\n",
       " \"http://www.w3.org/Graphics/SVG/1.1/DTD/svg11.dtd\">\n",
       "<!-- Generated by graphviz version 2.42.3 (20191010.1750)\n",
       " -->\n",
       "<!-- Title: %3 Pages: 1 -->\n",
       "<svg width=\"441pt\" height=\"548pt\"\n",
       " viewBox=\"0.00 0.00 440.99 548.00\" xmlns=\"http://www.w3.org/2000/svg\" xmlns:xlink=\"http://www.w3.org/1999/xlink\">\n",
       "<g id=\"graph0\" class=\"graph\" transform=\"scale(1 1) rotate(0) translate(4 544)\">\n",
       "<title>%3</title>\n",
       "<polygon fill=\"white\" stroke=\"transparent\" points=\"-4,4 -4,-544 436.99,-544 436.99,4 -4,4\"/>\n",
       "<!-- 140541168762784 -->\n",
       "<g id=\"node1\" class=\"node\">\n",
       "<title>140541168762784</title>\n",
       "<polygon fill=\"#caff70\" stroke=\"black\" points=\"326.97,-20 229.03,-20 229.03,0 326.97,0 326.97,-20\"/>\n",
       "<text text-anchor=\"middle\" x=\"278\" y=\"-6.4\" font-family=\"Times,serif\" font-size=\"12.00\">MeanBackward0</text>\n",
       "</g>\n",
       "<!-- 140541168761056 -->\n",
       "<g id=\"node2\" class=\"node\">\n",
       "<title>140541168761056</title>\n",
       "<polygon fill=\"lightgrey\" stroke=\"black\" points=\"330.81,-76 225.19,-76 225.19,-56 330.81,-56 330.81,-76\"/>\n",
       "<text text-anchor=\"middle\" x=\"278\" y=\"-62.4\" font-family=\"Times,serif\" font-size=\"12.00\">SoftmaxBackward</text>\n",
       "</g>\n",
       "<!-- 140541168761056&#45;&gt;140541168762784 -->\n",
       "<g id=\"edge1\" class=\"edge\">\n",
       "<title>140541168761056&#45;&gt;140541168762784</title>\n",
       "<path fill=\"none\" stroke=\"black\" d=\"M278,-55.59C278,-48.7 278,-39.1 278,-30.57\"/>\n",
       "<polygon fill=\"black\" stroke=\"black\" points=\"281.5,-30.3 278,-20.3 274.5,-30.3 281.5,-30.3\"/>\n",
       "</g>\n",
       "<!-- 140541168762352 -->\n",
       "<g id=\"node3\" class=\"node\">\n",
       "<title>140541168762352</title>\n",
       "<polygon fill=\"lightgrey\" stroke=\"black\" points=\"329.98,-132 226.02,-132 226.02,-112 329.98,-112 329.98,-132\"/>\n",
       "<text text-anchor=\"middle\" x=\"278\" y=\"-118.4\" font-family=\"Times,serif\" font-size=\"12.00\">AddmmBackward</text>\n",
       "</g>\n",
       "<!-- 140541168762352&#45;&gt;140541168761056 -->\n",
       "<g id=\"edge2\" class=\"edge\">\n",
       "<title>140541168762352&#45;&gt;140541168761056</title>\n",
       "<path fill=\"none\" stroke=\"black\" d=\"M278,-111.59C278,-104.7 278,-95.1 278,-86.57\"/>\n",
       "<polygon fill=\"black\" stroke=\"black\" points=\"281.5,-86.3 278,-76.3 274.5,-86.3 281.5,-86.3\"/>\n",
       "</g>\n",
       "<!-- 140541168762304 -->\n",
       "<g id=\"node4\" class=\"node\">\n",
       "<title>140541168762304</title>\n",
       "<polygon fill=\"lightblue\" stroke=\"black\" points=\"195,-200 141,-200 141,-168 195,-168 195,-200\"/>\n",
       "<text text-anchor=\"middle\" x=\"168\" y=\"-186.4\" font-family=\"Times,serif\" font-size=\"12.00\">4.bias</text>\n",
       "<text text-anchor=\"middle\" x=\"168\" y=\"-174.4\" font-family=\"Times,serif\" font-size=\"12.00\"> (10)</text>\n",
       "</g>\n",
       "<!-- 140541168762304&#45;&gt;140541168762352 -->\n",
       "<g id=\"edge3\" class=\"edge\">\n",
       "<title>140541168762304&#45;&gt;140541168762352</title>\n",
       "<path fill=\"none\" stroke=\"black\" d=\"M195.19,-168.17C212.69,-158.62 235.29,-146.3 252.45,-136.93\"/>\n",
       "<polygon fill=\"black\" stroke=\"black\" points=\"254.26,-139.93 261.37,-132.07 250.91,-133.79 254.26,-139.93\"/>\n",
       "</g>\n",
       "<!-- 140541168474208 -->\n",
       "<g id=\"node5\" class=\"node\">\n",
       "<title>140541168474208</title>\n",
       "<polygon fill=\"lightgrey\" stroke=\"black\" points=\"343.14,-194 212.86,-194 212.86,-174 343.14,-174 343.14,-194\"/>\n",
       "<text text-anchor=\"middle\" x=\"278\" y=\"-180.4\" font-family=\"Times,serif\" font-size=\"12.00\">ELUFunctionBackward</text>\n",
       "</g>\n",
       "<!-- 140541168474208&#45;&gt;140541168762352 -->\n",
       "<g id=\"edge4\" class=\"edge\">\n",
       "<title>140541168474208&#45;&gt;140541168762352</title>\n",
       "<path fill=\"none\" stroke=\"black\" d=\"M278,-173.89C278,-165.52 278,-152.84 278,-142.23\"/>\n",
       "<polygon fill=\"black\" stroke=\"black\" points=\"281.5,-142.2 278,-132.2 274.5,-142.2 281.5,-142.2\"/>\n",
       "</g>\n",
       "<!-- 140541168762400 -->\n",
       "<g id=\"node6\" class=\"node\">\n",
       "<title>140541168762400</title>\n",
       "<polygon fill=\"lightgrey\" stroke=\"black\" points=\"243.98,-262 140.02,-262 140.02,-242 243.98,-242 243.98,-262\"/>\n",
       "<text text-anchor=\"middle\" x=\"192\" y=\"-248.4\" font-family=\"Times,serif\" font-size=\"12.00\">AddmmBackward</text>\n",
       "</g>\n",
       "<!-- 140541168762400&#45;&gt;140541168474208 -->\n",
       "<g id=\"edge5\" class=\"edge\">\n",
       "<title>140541168762400&#45;&gt;140541168474208</title>\n",
       "<path fill=\"none\" stroke=\"black\" d=\"M203.96,-241.82C217.95,-231.09 241.33,-213.14 258.08,-200.29\"/>\n",
       "<polygon fill=\"black\" stroke=\"black\" points=\"260.34,-202.96 266.14,-194.1 256.08,-197.41 260.34,-202.96\"/>\n",
       "</g>\n",
       "<!-- 140541168760528 -->\n",
       "<g id=\"node7\" class=\"node\">\n",
       "<title>140541168760528</title>\n",
       "<polygon fill=\"lightblue\" stroke=\"black\" points=\"109,-336 55,-336 55,-304 109,-304 109,-336\"/>\n",
       "<text text-anchor=\"middle\" x=\"82\" y=\"-322.4\" font-family=\"Times,serif\" font-size=\"12.00\">2.bias</text>\n",
       "<text text-anchor=\"middle\" x=\"82\" y=\"-310.4\" font-family=\"Times,serif\" font-size=\"12.00\"> (1024)</text>\n",
       "</g>\n",
       "<!-- 140541168760528&#45;&gt;140541168762400 -->\n",
       "<g id=\"edge6\" class=\"edge\">\n",
       "<title>140541168760528&#45;&gt;140541168762400</title>\n",
       "<path fill=\"none\" stroke=\"black\" d=\"M107.24,-303.86C125.49,-292.9 150.01,-278.19 167.98,-267.41\"/>\n",
       "<polygon fill=\"black\" stroke=\"black\" points=\"169.94,-270.32 176.71,-262.17 166.34,-264.32 169.94,-270.32\"/>\n",
       "</g>\n",
       "<!-- 140541168473584 -->\n",
       "<g id=\"node8\" class=\"node\">\n",
       "<title>140541168473584</title>\n",
       "<polygon fill=\"lightgrey\" stroke=\"black\" points=\"257.14,-330 126.86,-330 126.86,-310 257.14,-310 257.14,-330\"/>\n",
       "<text text-anchor=\"middle\" x=\"192\" y=\"-316.4\" font-family=\"Times,serif\" font-size=\"12.00\">ELUFunctionBackward</text>\n",
       "</g>\n",
       "<!-- 140541168473584&#45;&gt;140541168762400 -->\n",
       "<g id=\"edge7\" class=\"edge\">\n",
       "<title>140541168473584&#45;&gt;140541168762400</title>\n",
       "<path fill=\"none\" stroke=\"black\" d=\"M192,-309.82C192,-300.17 192,-284.69 192,-272.32\"/>\n",
       "<polygon fill=\"black\" stroke=\"black\" points=\"195.5,-272.1 192,-262.1 188.5,-272.1 195.5,-272.1\"/>\n",
       "</g>\n",
       "<!-- 140541168762736 -->\n",
       "<g id=\"node9\" class=\"node\">\n",
       "<title>140541168762736</title>\n",
       "<polygon fill=\"lightgrey\" stroke=\"black\" points=\"154.98,-398 51.02,-398 51.02,-378 154.98,-378 154.98,-398\"/>\n",
       "<text text-anchor=\"middle\" x=\"103\" y=\"-384.4\" font-family=\"Times,serif\" font-size=\"12.00\">AddmmBackward</text>\n",
       "</g>\n",
       "<!-- 140541168762736&#45;&gt;140541168473584 -->\n",
       "<g id=\"edge8\" class=\"edge\">\n",
       "<title>140541168762736&#45;&gt;140541168473584</title>\n",
       "<path fill=\"none\" stroke=\"black\" d=\"M115.38,-377.82C129.85,-367.09 154.05,-349.14 171.38,-336.29\"/>\n",
       "<polygon fill=\"black\" stroke=\"black\" points=\"173.78,-338.87 179.73,-330.1 169.61,-333.24 173.78,-338.87\"/>\n",
       "</g>\n",
       "<!-- 140541168759808 -->\n",
       "<g id=\"node10\" class=\"node\">\n",
       "<title>140541168759808</title>\n",
       "<polygon fill=\"lightblue\" stroke=\"black\" points=\"54,-472 0,-472 0,-440 54,-440 54,-472\"/>\n",
       "<text text-anchor=\"middle\" x=\"27\" y=\"-458.4\" font-family=\"Times,serif\" font-size=\"12.00\">0.bias</text>\n",
       "<text text-anchor=\"middle\" x=\"27\" y=\"-446.4\" font-family=\"Times,serif\" font-size=\"12.00\"> (1024)</text>\n",
       "</g>\n",
       "<!-- 140541168759808&#45;&gt;140541168762736 -->\n",
       "<g id=\"edge9\" class=\"edge\">\n",
       "<title>140541168759808&#45;&gt;140541168762736</title>\n",
       "<path fill=\"none\" stroke=\"black\" d=\"M44.63,-439.69C56.6,-429.3 72.4,-415.57 84.54,-405.03\"/>\n",
       "<polygon fill=\"black\" stroke=\"black\" points=\"87.02,-407.52 92.27,-398.32 82.43,-402.23 87.02,-407.52\"/>\n",
       "</g>\n",
       "<!-- 140541168761296 -->\n",
       "<g id=\"node11\" class=\"node\">\n",
       "<title>140541168761296</title>\n",
       "<polygon fill=\"lightblue\" stroke=\"black\" points=\"134.49,-472 71.51,-472 71.51,-440 134.49,-440 134.49,-472\"/>\n",
       "<text text-anchor=\"middle\" x=\"103\" y=\"-458.4\" font-family=\"Times,serif\" font-size=\"12.00\">x</text>\n",
       "<text text-anchor=\"middle\" x=\"103\" y=\"-446.4\" font-family=\"Times,serif\" font-size=\"12.00\"> (10, 512)</text>\n",
       "</g>\n",
       "<!-- 140541168761296&#45;&gt;140541168762736 -->\n",
       "<g id=\"edge10\" class=\"edge\">\n",
       "<title>140541168761296&#45;&gt;140541168762736</title>\n",
       "<path fill=\"none\" stroke=\"black\" d=\"M103,-439.69C103,-430.4 103,-418.44 103,-408.47\"/>\n",
       "<polygon fill=\"black\" stroke=\"black\" points=\"106.5,-408.32 103,-398.32 99.5,-408.32 106.5,-408.32\"/>\n",
       "</g>\n",
       "<!-- 140541168761104 -->\n",
       "<g id=\"node12\" class=\"node\">\n",
       "<title>140541168761104</title>\n",
       "<polygon fill=\"lightgrey\" stroke=\"black\" points=\"223.97,-466 152.03,-466 152.03,-446 223.97,-446 223.97,-466\"/>\n",
       "<text text-anchor=\"middle\" x=\"188\" y=\"-452.4\" font-family=\"Times,serif\" font-size=\"12.00\">TBackward</text>\n",
       "</g>\n",
       "<!-- 140541168761104&#45;&gt;140541168762736 -->\n",
       "<g id=\"edge11\" class=\"edge\">\n",
       "<title>140541168761104&#45;&gt;140541168762736</title>\n",
       "<path fill=\"none\" stroke=\"black\" d=\"M176.18,-445.82C162.35,-435.09 139.24,-417.14 122.69,-404.29\"/>\n",
       "<polygon fill=\"black\" stroke=\"black\" points=\"124.76,-401.47 114.72,-398.1 120.47,-407 124.76,-401.47\"/>\n",
       "</g>\n",
       "<!-- 140541168651088 -->\n",
       "<g id=\"node13\" class=\"node\">\n",
       "<title>140541168651088</title>\n",
       "<polygon fill=\"lightblue\" stroke=\"black\" points=\"225.49,-540 150.51,-540 150.51,-508 225.49,-508 225.49,-540\"/>\n",
       "<text text-anchor=\"middle\" x=\"188\" y=\"-526.4\" font-family=\"Times,serif\" font-size=\"12.00\">0.weight</text>\n",
       "<text text-anchor=\"middle\" x=\"188\" y=\"-514.4\" font-family=\"Times,serif\" font-size=\"12.00\"> (1024, 512)</text>\n",
       "</g>\n",
       "<!-- 140541168651088&#45;&gt;140541168761104 -->\n",
       "<g id=\"edge12\" class=\"edge\">\n",
       "<title>140541168651088&#45;&gt;140541168761104</title>\n",
       "<path fill=\"none\" stroke=\"black\" d=\"M188,-507.69C188,-498.4 188,-486.44 188,-476.47\"/>\n",
       "<polygon fill=\"black\" stroke=\"black\" points=\"191.5,-476.32 188,-466.32 184.5,-476.32 191.5,-476.32\"/>\n",
       "</g>\n",
       "<!-- 140541168842240 -->\n",
       "<g id=\"node14\" class=\"node\">\n",
       "<title>140541168842240</title>\n",
       "<polygon fill=\"orange\" stroke=\"black\" points=\"238.99,-398 173.01,-398 173.01,-378 238.99,-378 238.99,-398\"/>\n",
       "<text text-anchor=\"middle\" x=\"206\" y=\"-384.4\" font-family=\"Times,serif\" font-size=\"12.00\">(10, 1024)</text>\n",
       "</g>\n",
       "<!-- 140541168842240&#45;&gt;140541168473584 -->\n",
       "<g id=\"edge13\" class=\"edge\">\n",
       "<title>140541168842240&#45;&gt;140541168473584</title>\n",
       "<path fill=\"none\" stroke=\"black\" d=\"M204.05,-377.82C201.98,-368.07 198.66,-352.37 196.02,-339.95\"/>\n",
       "<polygon fill=\"black\" stroke=\"black\" points=\"199.43,-339.16 193.93,-330.1 192.58,-340.61 199.43,-339.16\"/>\n",
       "</g>\n",
       "<!-- 140541168759904 -->\n",
       "<g id=\"node15\" class=\"node\">\n",
       "<title>140541168759904</title>\n",
       "<polygon fill=\"lightgrey\" stroke=\"black\" points=\"346.97,-330 275.03,-330 275.03,-310 346.97,-310 346.97,-330\"/>\n",
       "<text text-anchor=\"middle\" x=\"311\" y=\"-316.4\" font-family=\"Times,serif\" font-size=\"12.00\">TBackward</text>\n",
       "</g>\n",
       "<!-- 140541168759904&#45;&gt;140541168762400 -->\n",
       "<g id=\"edge14\" class=\"edge\">\n",
       "<title>140541168759904&#45;&gt;140541168762400</title>\n",
       "<path fill=\"none\" stroke=\"black\" d=\"M294.45,-309.82C274.47,-298.74 240.65,-279.98 217.37,-267.07\"/>\n",
       "<polygon fill=\"black\" stroke=\"black\" points=\"218.85,-263.89 208.41,-262.1 215.45,-270.01 218.85,-263.89\"/>\n",
       "</g>\n",
       "<!-- 140541168762016 -->\n",
       "<g id=\"node16\" class=\"node\">\n",
       "<title>140541168762016</title>\n",
       "<polygon fill=\"lightblue\" stroke=\"black\" points=\"351.49,-404 270.51,-404 270.51,-372 351.49,-372 351.49,-404\"/>\n",
       "<text text-anchor=\"middle\" x=\"311\" y=\"-390.4\" font-family=\"Times,serif\" font-size=\"12.00\">2.weight</text>\n",
       "<text text-anchor=\"middle\" x=\"311\" y=\"-378.4\" font-family=\"Times,serif\" font-size=\"12.00\"> (1024, 1024)</text>\n",
       "</g>\n",
       "<!-- 140541168762016&#45;&gt;140541168759904 -->\n",
       "<g id=\"edge15\" class=\"edge\">\n",
       "<title>140541168762016&#45;&gt;140541168759904</title>\n",
       "<path fill=\"none\" stroke=\"black\" d=\"M311,-371.69C311,-362.4 311,-350.44 311,-340.47\"/>\n",
       "<polygon fill=\"black\" stroke=\"black\" points=\"314.5,-340.32 311,-330.32 307.5,-340.32 314.5,-340.32\"/>\n",
       "</g>\n",
       "<!-- 140541168841728 -->\n",
       "<g id=\"node17\" class=\"node\">\n",
       "<title>140541168841728</title>\n",
       "<polygon fill=\"orange\" stroke=\"black\" points=\"327.99,-262 262.01,-262 262.01,-242 327.99,-242 327.99,-262\"/>\n",
       "<text text-anchor=\"middle\" x=\"295\" y=\"-248.4\" font-family=\"Times,serif\" font-size=\"12.00\">(10, 1024)</text>\n",
       "</g>\n",
       "<!-- 140541168841728&#45;&gt;140541168474208 -->\n",
       "<g id=\"edge16\" class=\"edge\">\n",
       "<title>140541168841728&#45;&gt;140541168474208</title>\n",
       "<path fill=\"none\" stroke=\"black\" d=\"M292.64,-241.82C290.12,-232.07 286.08,-216.37 282.88,-203.95\"/>\n",
       "<polygon fill=\"black\" stroke=\"black\" points=\"286.23,-202.91 280.34,-194.1 279.45,-204.66 286.23,-202.91\"/>\n",
       "</g>\n",
       "<!-- 140541168761200 -->\n",
       "<g id=\"node18\" class=\"node\">\n",
       "<title>140541168761200</title>\n",
       "<polygon fill=\"lightgrey\" stroke=\"black\" points=\"432.97,-194 361.03,-194 361.03,-174 432.97,-174 432.97,-194\"/>\n",
       "<text text-anchor=\"middle\" x=\"397\" y=\"-180.4\" font-family=\"Times,serif\" font-size=\"12.00\">TBackward</text>\n",
       "</g>\n",
       "<!-- 140541168761200&#45;&gt;140541168762352 -->\n",
       "<g id=\"edge17\" class=\"edge\">\n",
       "<title>140541168761200&#45;&gt;140541168762352</title>\n",
       "<path fill=\"none\" stroke=\"black\" d=\"M378.93,-173.89C359.24,-163.96 327.55,-147.98 304.93,-136.58\"/>\n",
       "<polygon fill=\"black\" stroke=\"black\" points=\"306.36,-133.38 295.85,-132 303.21,-139.63 306.36,-133.38\"/>\n",
       "</g>\n",
       "<!-- 140541168760816 -->\n",
       "<g id=\"node19\" class=\"node\">\n",
       "<title>140541168760816</title>\n",
       "<polygon fill=\"lightblue\" stroke=\"black\" points=\"431.49,-268 362.51,-268 362.51,-236 431.49,-236 431.49,-268\"/>\n",
       "<text text-anchor=\"middle\" x=\"397\" y=\"-254.4\" font-family=\"Times,serif\" font-size=\"12.00\">4.weight</text>\n",
       "<text text-anchor=\"middle\" x=\"397\" y=\"-242.4\" font-family=\"Times,serif\" font-size=\"12.00\"> (10, 1024)</text>\n",
       "</g>\n",
       "<!-- 140541168760816&#45;&gt;140541168761200 -->\n",
       "<g id=\"edge18\" class=\"edge\">\n",
       "<title>140541168760816&#45;&gt;140541168761200</title>\n",
       "<path fill=\"none\" stroke=\"black\" d=\"M397,-235.69C397,-226.4 397,-214.44 397,-204.47\"/>\n",
       "<polygon fill=\"black\" stroke=\"black\" points=\"400.5,-204.32 397,-194.32 393.5,-204.32 400.5,-204.32\"/>\n",
       "</g>\n",
       "</g>\n",
       "</svg>\n"
      ],
      "text/plain": [
       "<graphviz.dot.Digraph at 0x7fd24a70bf40>"
      ]
     },
     "execution_count": 12,
     "metadata": {},
     "output_type": "execute_result"
    }
   ],
   "source": [
    "x = torch.randn(10, 512, requires_grad=True)\n",
    "torchviz.make_dot(elu_mlp(x).mean(), params=dict(list(elu_mlp.named_parameters()) + [('x', x)]))"
   ]
  },
  {
   "cell_type": "markdown",
   "metadata": {},
   "source": [
    "Let's run the backward pass and make sure we have gradients on all parameter tensors."
   ]
  },
  {
   "cell_type": "code",
   "execution_count": 13,
   "metadata": {},
   "outputs": [
    {
     "name": "stdout",
     "output_type": "stream",
     "text": [
      "0.weight 2.598469279746496e-07\n",
      "0.bias 1.31250565971186e-08\n",
      "2.weight 3.84867831826341e-07\n",
      "2.bias 3.4639846546724584e-08\n",
      "4.weight 4.2260674604222004e-07\n",
      "4.bias 9.463859385050455e-08\n"
     ]
    }
   ],
   "source": [
    "l = torch.sum(elu_mlp(x))\n",
    "l.backward()\n",
    "\n",
    "for name, param in elu_mlp.named_parameters():\n",
    "    print(f\"{name} {torch.norm(param.grad).item()}\")"
   ]
  },
  {
   "cell_type": "markdown",
   "metadata": {},
   "source": [
    "## Part 2: Differentiable Optimization"
   ]
  },
  {
   "cell_type": "markdown",
   "metadata": {},
   "source": [
    "Now we'll tackle a more interesting use-case for defining our custom backward functions: differentiating though an inner (unconstrained) optimization problem."
   ]
  },
  {
   "cell_type": "markdown",
   "metadata": {},
   "source": [
    "What if we want to solve an inner optimization problem as part of our model, while the parameters of the inner problem are also optimized by the end-to-end optimization of the entire model?\n",
    "\n",
    "<center><img src=\"imgs/bilevel.png\" width=\"600\"/></center>\n",
    "\n",
    "Training such a network end-to-end means we're trying to find:\n",
    "\n",
    "$$\n",
    "\\begin{align}\n",
    "\\vec{\\Theta}^\\ast\n",
    "&=\n",
    "\\arg\\min_{\\vec{\\Theta}} \\E[(\\vec{x},\\vec{y})\\sim D]{\\mathcal{L}(\\vec{y}, \\hat{\\vec{y}})}\\\\\n",
    "&=\n",
    "\\arg\\min_{\\vec{\\Theta}} \\E[(\\vec{x},\\vec{y})\\sim D]{\n",
    "\\mathcal{L}(\\vec{y}, \\arg\\min_{\\vec{y}} f(\\vec{y}, h_{\\vec{\\Theta}}(\\vec{x}) )\n",
    "}\n",
    "\\end{align}\n",
    "$$\n",
    "\n",
    "This type of setting is also known as a bi-level optimization problem."
   ]
  },
  {
   "cell_type": "markdown",
   "metadata": {},
   "source": [
    "From the perspective of the inner problem, $\\vec{z}$ is a \"fixed\" parameter. \n",
    "\n",
    "However, from the perspective of end-to-end training, we're optimizing $\\vec{\\Theta}$ in order to reduce the final loss.\n",
    "\n",
    "Therefore, we can view this as learning to parameterize the inner task."
   ]
  },
  {
   "cell_type": "markdown",
   "metadata": {},
   "source": [
    "What do we need in order to train such a model end-to-end?"
   ]
  },
  {
   "cell_type": "markdown",
   "metadata": {},
   "source": [
    "As usual, we must find a way to calculate a VJP, in this case:\n",
    "$$\n",
    "\\delta \\vec{z} = \\pderiv{\\hat{\\vec{y}}}{\\vec{z}}\\ \\delta\\hat{\\vec{y}}.\n",
    "$$"
   ]
  },
  {
   "cell_type": "markdown",
   "metadata": {},
   "source": [
    "Assume that $\\vec{y}=\\arg\\min_{\\vec{y}'}f(\\vec{y}', \\vec{z})$.\n",
    "\n",
    "Since $\\vec{y}$ is a minimizer of the function $f$, the necessary optimality condition\n",
    "must hold: $$\\nabla_{y}f(y, z)=0.$$\n",
    "\n",
    "If we then perturb $\\vec{z}$ by $d\\vec{z}$, we'll get a slightly different minimizer, $\\vec{y}+d\\vec{y}$. Thus also,\n",
    "\n",
    "$$\\nabla_{y}f(y+dy, z+dz)=0.$$"
   ]
  },
  {
   "cell_type": "markdown",
   "metadata": {},
   "source": [
    "We can take a first-order Taylor expansion of $\\nabla_{y}f$ around the point $(y, z)$:\n",
    "\n",
    "$$\n",
    "\\nabla_{y}f(y+dy, z+dz) \\approx \\nabla_{y}f(y, z) + \\nabla^{2}_{yy}f(y,z)dy + \\nabla^{2}_{yz}f(y, z)dz = 0.\n",
    "$$\n",
    "\n",
    "Since $\\nabla_{y}f(y, z)=0$, we rearrange to obtain:\n",
    "\n",
    "$$\n",
    "\\nabla^{2}_{yy}f(y,z)dy = -\\nabla^{2}_{yz}f(y, z)dz.\n",
    "$$"
   ]
  },
  {
   "cell_type": "markdown",
   "metadata": {},
   "source": [
    "We'll denote the Hessians as $\\mat{K}=\\nabla^{2}_{yy}f(y,z)$ and $\\mat{R}=\\nabla^{2}_{yz}f(y, z)$. We then obtain,\n",
    "\n",
    "$$\n",
    "\\mat{K}d\\vec{y}=-\\mat{R}d\\vec{z}\\Longrightarrow d\\vec{y}=-\\mat{K}^{-1}\\mat{R}d\\vec{z}.\n",
    "$$"
   ]
  },
  {
   "cell_type": "markdown",
   "metadata": {},
   "source": [
    "The above equation means that we have found a linear relationship between the change in the function value, $d\\vec{y}$ and the change in the argument value, $d\\vec{z}$.\n",
    "This linear relationship must be, by definition, related to the gradient of $\\vec{y}$ w.r.t. $\\vec{z}$.\n",
    "\n",
    "Writing the above as an inner product, we have $$d\\vec{y}=\\ip{\\mattr{R}\\mat{K^{-T}}}{d\\vec{z}}{}.$$\n",
    "\n",
    "Note that $\\mat{K}$ is a Hessian, therefore symmetric and we can drop the transpose.\n",
    "\n",
    "Finally, by the \"outer\" definition of the gradient we see that $$\\pderiv{\\vec{y}}{\\vec{z}}=\\mattr{R}\\mat{K^{-1}}.$$"
   ]
  },
  {
   "cell_type": "markdown",
   "metadata": {},
   "source": [
    "Now back to our VJP: we need \n",
    "$$\n",
    "\\delta \\vec{z} =  \\pderiv{\\vec{y}}{\\vec{z}} \\delta\\vec{y} =\\mattr{R}\\mat{K^{-1}}\\delta\\vec{y}.\n",
    "$$\n",
    "\n",
    "We'll do the calculation in two steps:\n",
    "1. Calculate $\\delta\\vec{u}=\\mat{K}^{-1}\\delta\\vec{y}$: Equivalent to solving the linear system $\\mat{K}\\delta\\vec{u}=\\delta\\vec{y}$.\n",
    "2. Calculate $\\delta\\vec{z} = -\\mat{R}^\\top \\delta\\vec{u}$."
   ]
  },
  {
   "cell_type": "markdown",
   "metadata": {},
   "source": [
    "Finally, based on this, we have a way to implement such an inner-optimization layer:\n",
    "\n",
    "**Forward pass**: Compute the optimal solution of the inner problem, either with a some solver or even a closed-form expression.\n",
    "\n",
    "**Backward pass**: Calculate $\\delta\\vec{z}$ using the two-step procedure described above."
   ]
  },
  {
   "cell_type": "markdown",
   "metadata": {},
   "source": [
    "Note that it's also possible to develop these expression for the constrained optimization case, by using the KKT conditions where we used the unconstrained optimality condition."
   ]
  },
  {
   "cell_type": "markdown",
   "metadata": {},
   "source": [
    "### Implementation"
   ]
  },
  {
   "cell_type": "markdown",
   "metadata": {},
   "source": [
    "Before implementing the argmin layer, we need some required helpers."
   ]
  },
  {
   "cell_type": "markdown",
   "metadata": {},
   "source": [
    "First, let's implement a helper to calculate an approximated least-squares solution to a linear system of equations $\\mat{A}\\vec{x}=\\vec{b}$.\n",
    "The built-in `torch.solve()` only supports a square matrix A."
   ]
  },
  {
   "cell_type": "code",
   "execution_count": 285,
   "metadata": {},
   "outputs": [],
   "source": [
    "def solve_ls(A: Tensor, b: Tensor, abs: float = 1e-6, rel: float = 1e-6) -> Tensor:\n",
    "    # Solves the system A x = b in a least-squares sense using SVD, and returns x\n",
    "    U, S, V = torch.svd(A)\n",
    "    th = max(rel * S[0].item(), abs)\n",
    "    # Clip singular values\n",
    "    Sinv = torch.where(S >= th, 1.0 / S, torch.zeros_like(S))\n",
    "    return V @ torch.diag(Sinv) @ (U.transpose(1, 0) @ b)"
   ]
  },
  {
   "cell_type": "markdown",
   "metadata": {},
   "source": [
    "Quick test for solve:"
   ]
  },
  {
   "cell_type": "code",
   "execution_count": 358,
   "metadata": {},
   "outputs": [],
   "source": [
    "from sklearn.datasets import make_regression\n",
    "from sklearn.preprocessing import StandardScaler\n",
    "\n",
    "# Create a simple regression problem\n",
    "N, D = 1000, 20\n",
    "X, y, w_gt = make_regression(\n",
    "    n_samples=N, n_features=D, coef=True, random_state=42, bias=10, noise=1,\n",
    ")\n",
    "X = StandardScaler().fit_transform(X)\n",
    "X, y, w_gt = [ torch.from_numpy(t).to(torch.float64) for t in [X, y, w_gt] ]\n",
    "\n",
    "# Solve it and check the solution is close to the ground-truth\n",
    "w_hat = solve_ls(X, y)\n",
    "assert torch.allclose(w_hat, w_gt, rtol=0.1, atol=0.1)"
   ]
  },
  {
   "cell_type": "markdown",
   "metadata": {},
   "source": [
    "Notice that in the formulation we used, we considered only one variables vector, $\\vec{y}$, one parameters vector, $\\vec{z}$, and moreover we treated them both as 1d vectors.\n",
    "\n",
    "In practice, however, when implementing deep neural networks, we deal with many different parameters tensors, virtually all of which high-dimensional.\n",
    "\n",
    "In this tutorial, we'll deal with the case of one variable tensor (of any shape) and any number of parameter tensors (of any shape). It's simple to use the approach here to extend to multiple variables as well."
   ]
  },
  {
   "cell_type": "code",
   "execution_count": 359,
   "metadata": {},
   "outputs": [],
   "source": [
    "def flatten(*z: Tensor):\n",
    "    # Flattens a sequence of tensors into one \"long\" tensor of shape (N,)\n",
    "    # Note: cat & reshape maintain differentiability!\n",
    "    flat_z = torch.cat([z_.reshape(-1) for z_ in z], dim=0)\n",
    "    return flat_z\n",
    "\n",
    "def unflatten_like(t_flat: Tensor, *z: Tensor):\n",
    "    # Un-flattens a \"long\" tensor into a sequence of multiple tensors of arbitrary shape\n",
    "    t_flat = t_flat.reshape(-1) # make sure it's 1d\n",
    "    ts = []\n",
    "    offset = 0\n",
    "    for z_ in z:\n",
    "        numel = z_.numel()\n",
    "        ts.append(\n",
    "            t_flat[offset:offset+numel].reshape_as(z_)\n",
    "        )\n",
    "        offset += numel\n",
    "    assert offset == t_flat.numel()\n",
    "    \n",
    "    return tuple(ts)"
   ]
  },
  {
   "cell_type": "markdown",
   "metadata": {},
   "source": [
    "Quick test for `flatten`/`unflatten`:"
   ]
  },
  {
   "cell_type": "code",
   "execution_count": 360,
   "metadata": {},
   "outputs": [],
   "source": [
    "t1, t2 = torch.randn(3, 5), torch.randn(2, 4)\n",
    "t_flat = flatten(t1, t2)\n",
    "assert t_flat.shape == (t1.numel() + t2.numel(),)\n",
    "\n",
    "t1_, t2_ = unflatten_like(t_flat, t1, t2)\n",
    "assert torch.allclose(t1, t1_)\n",
    "assert torch.allclose(t2, t2_)"
   ]
  },
  {
   "cell_type": "markdown",
   "metadata": {},
   "source": [
    "Now, finally, we're equipped to write an `autograd.Function`\n",
    "which implements differentiable optimization!"
   ]
  },
  {
   "cell_type": "markdown",
   "metadata": {},
   "source": [
    "Let's start with the forward pass.\n",
    "Here we simply need to solve an unconstrained optimization problem specified in terms of an *objective function*, *variables* (just one supported) and *parameters*.\n",
    "\n",
    "We'll use the LBFGS algorithm (a quasi-Newton method as seen in the lectures) as a general purpose solver."
   ]
  },
  {
   "cell_type": "code",
   "execution_count": 361,
   "metadata": {},
   "outputs": [],
   "source": [
    "from torch.optim import LBFGS\n",
    "\n",
    "def argmin_forward(ctx, obj_fun, y, *z):\n",
    "    \n",
    "    # Note: solving for y, treating the z's as constants\n",
    "    optimizer = LBFGS(params=(y,), lr=0.9, max_iter=1000)\n",
    "\n",
    "    # Closure for LBFGS which evaluates the loss and calcualtes\n",
    "    # gradients of the variables.\n",
    "    def _optimizer_step():\n",
    "        # zero gradients\n",
    "        y.grad = torch.zeros_like(y)\n",
    "            \n",
    "        # evaluate loss\n",
    "        f = obj_fun(y, *z)\n",
    "        \n",
    "        # Calculate gradients\n",
    "        # Note: not calling backward() because we don't want to compute\n",
    "        # gradients for anything except y\n",
    "        δy = autograd.grad(f, (y,), create_graph=False)[0]\n",
    "        y.grad += δy\n",
    "        \n",
    "        return f\n",
    "\n",
    "    # Solve the optimization problem - will evaluate closure multiple times\n",
    "    f_min = optimizer.step(_optimizer_step,)\n",
    "    y_argmin = y # Note: y was modified in place\n",
    "\n",
    "    ctx.save_for_backward(y_argmin, *z)\n",
    "    ctx.obj_fun = obj_fun\n",
    "\n",
    "    return y_argmin"
   ]
  },
  {
   "cell_type": "code",
   "execution_count": null,
   "metadata": {},
   "outputs": [],
   "source": []
  },
  {
   "cell_type": "markdown",
   "metadata": {},
   "source": [
    "Now the backward pass.\n",
    "Here we use the two-step procedure shown above, to calculate $\\delta\\vec{z}$.\n",
    "\n",
    "We'll need to calculate the Hessians\n",
    "$\\mat{K}=\\nabla^{2}_{yy}f(y,z)$\n",
    "and $\\mat{R}=\\nabla^{2}_{yz}f(y, z)$,\n",
    "but luckily autograd can calculate this (by a second automatic differentiation).\n",
    "\n",
    "The only complication is the shapes of $\\vec{y}$ and $\\vec{z}$, but we'll flatten them with our helpers."
   ]
  },
  {
   "cell_type": "code",
   "execution_count": null,
   "metadata": {},
   "outputs": [],
   "source": []
  },
  {
   "cell_type": "code",
   "execution_count": null,
   "metadata": {},
   "outputs": [],
   "source": []
  },
  {
   "cell_type": "code",
   "execution_count": 362,
   "metadata": {},
   "outputs": [],
   "source": [
    "from torch.autograd.functional import hessian\n",
    "\n",
    "def argmin_backward(ctx, grad_output):\n",
    "    y_argmin, *z = ctx.saved_tensors\n",
    "    obj_fun = ctx.obj_fun\n",
    "\n",
    "#     print(f'*** Argmin Backward ***')\n",
    "\n",
    "    # Compute the Hessians on flattened y and z\n",
    "    flat_y = flatten(y_argmin)\n",
    "    flat_z = flatten(*z)\n",
    "#     print(f'*** {flat_z.shape=}')\n",
    "    \n",
    "    # Wrap objective function so that we can call it with flat tensors\n",
    "    def obj_fun_flat(flat_y, flat_z):\n",
    "        y = unflatten_like(flat_y, y_argmin)\n",
    "        zs = unflatten_like(flat_z, *z)\n",
    "        return obj_fun(*y, *zs)\n",
    "    \n",
    "    H = hessian(obj_fun_flat, inputs=(flat_y, flat_z), create_graph=False)\n",
    "    Hyy = K = H[0][0]\n",
    "    Hyz = R = H[0][1]\n",
    "#     print(f'{K.shape=}, {R.shape=}')\n",
    "\n",
    "    # Now we need to calculate δz = -R^T K^-1 δy\n",
    "    # 1. Solve system for δu: K δu = δy\n",
    "    δy = grad_output\n",
    "#     print(f'{δy.shape=}') \n",
    "\n",
    "    δy = torch.reshape(δy, (-1, 1))\n",
    "    δu = solve_ls(K, δy) # solve_ls(A, B) solves A X = B\n",
    "#     print(f'{δu.shape=}') \n",
    "\n",
    "    # 2. Calculate δz = -R^T δu\n",
    "    δz_flat = -R.transpose(0, 1) @ δu\n",
    "#     print(f'{δz_flat.shape=}') \n",
    "    \n",
    "    # Extract gradient of each individual z\n",
    "    # δz = torch.reshape(δz, z.shape)\n",
    "#     print(f'***\\n{δz_flat=}')\n",
    "#     print(f'***\\n{δz_flat.shape=}')\n",
    "#     print(f'***\\n{z=}')\n",
    "    δz = unflatten_like(δz_flat, *z)\n",
    "#     print(f'***')\n",
    "\n",
    "    δy = torch.reshape(δy, y_argmin.shape)\n",
    "#     print(f'###')\n",
    "\n",
    "    return None, δy, *δz"
   ]
  },
  {
   "cell_type": "markdown",
   "metadata": {},
   "source": [
    "We now wrap these functions in a `autograd.Function` class:"
   ]
  },
  {
   "cell_type": "code",
   "execution_count": 363,
   "metadata": {},
   "outputs": [],
   "source": [
    "class ArgMinFunction(autograd.Function):\n",
    "    @staticmethod\n",
    "    def forward(ctx, obj_fun, y, *z):\n",
    "        return argmin_forward(ctx, obj_fun, y, *z)\n",
    "    \n",
    "    @staticmethod\n",
    "    def backward(ctx, grad_output):\n",
    "        return argmin_backward(ctx, grad_output)"
   ]
  },
  {
   "cell_type": "markdown",
   "metadata": {},
   "source": [
    "Let's run a quick test for `argmin_forward`: Can we solve the simple regression problem from before?"
   ]
  },
  {
   "cell_type": "code",
   "execution_count": 381,
   "metadata": {},
   "outputs": [
    {
     "data": {
      "text/plain": [
       "tensor([ 3.2153,  1.7932, -0.5211, -1.3785,  2.5788,  1.7982,  1.1540,  0.0787,\n",
       "        -1.3521,  1.4743, -0.2604,  0.1540,  0.1357,  0.0898,  2.1738,  0.3457,\n",
       "         0.8822,  1.6841, -1.8431, -0.1911], grad_fn=<SubBackward0>)"
      ]
     },
     "execution_count": 381,
     "metadata": {},
     "output_type": "execute_result"
    }
   ],
   "source": [
    "# Define a simple linear regression objective with l1 and l2 regularization\n",
    "# (just to test more than one z)\n",
    "def obj_fun(w: Tensor, l1: Tensor, l2: Tensor):\n",
    "    loss = torch.mean((X @ w - y)**2)\n",
    "    reg1 = l1 * torch.mean(torch.abs(w))\n",
    "    reg2 = l2 * torch.mean(w ** 2)\n",
    "    return torch.sum(loss + reg1 + reg2)\n",
    "\n",
    "w = torch.randn_like(w_gt, requires_grad=True)\n",
    "l1 = torch.randn(1, 1, requires_grad=True)\n",
    "l2 = torch.randn(1, 1, requires_grad=True)\n",
    "\n",
    "w_hat_argmin = ArgMinFunction.apply(obj_fun, w, l1, l2)\n",
    "assert torch.allclose(w_hat_argmin, w_gt, rtol=0.2, atol=3)\n",
    "w_gt-w_hat_argmin"
   ]
  },
  {
   "cell_type": "code",
   "execution_count": null,
   "metadata": {},
   "outputs": [],
   "source": []
  },
  {
   "cell_type": "code",
   "execution_count": null,
   "metadata": {},
   "outputs": [],
   "source": []
  },
  {
   "cell_type": "code",
   "execution_count": null,
   "metadata": {},
   "outputs": [],
   "source": []
  },
  {
   "cell_type": "code",
   "execution_count": null,
   "metadata": {},
   "outputs": [],
   "source": []
  },
  {
   "cell_type": "code",
   "execution_count": 367,
   "metadata": {},
   "outputs": [],
   "source": [
    "torch.set_default_dtype(torch.float64)"
   ]
  },
  {
   "cell_type": "code",
   "execution_count": 368,
   "metadata": {},
   "outputs": [
    {
     "name": "stdout",
     "output_type": "stream",
     "text": [
      "X.shape=torch.Size([1000, 20]), y.shape=torch.Size([1000]), w_gt.shape=torch.Size([20])\n"
     ]
    }
   ],
   "source": [
    "from sklearn.datasets import make_regression\n",
    "from sklearn.preprocessing import StandardScaler\n",
    "\n",
    "N, D = 1000, 20\n",
    "\n",
    "X, y, w_gt = make_regression(\n",
    "    n_samples=N, n_features=D, coef=True, random_state=42, bias=10, noise=50,\n",
    ")\n",
    "\n",
    "X, y, w_gt = [ torch.from_numpy(t).to(torch.float64) for t in [X, y, w_gt] ]\n",
    "\n",
    "print(f\"{X.shape=}, {y.shape=}, {w_gt.shape=}\")"
   ]
  },
  {
   "cell_type": "code",
   "execution_count": 305,
   "metadata": {},
   "outputs": [
    {
     "data": {
      "text/plain": [
       "tensor(41093.3739, grad_fn=<SumBackward0>)"
      ]
     },
     "execution_count": 305,
     "metadata": {},
     "output_type": "execute_result"
    }
   ],
   "source": [
    "\n",
    "def obj_fun(w: Tensor, l1: Tensor, l2: Tensor):\n",
    "    loss = torch.mean((X @ w - y)**2)\n",
    "    reg1 = l1 * torch.mean(torch.abs(w))\n",
    "    reg2 = l2 * torch.mean(w ** 2)\n",
    "    return torch.sum(loss + reg1 + reg2)\n",
    "\n",
    "obj_fun(\n",
    "    w=torch.randn_like(w_gt, requires_grad=True),\n",
    "    l1=torch.randn(1, 1, requires_grad=True),\n",
    "    l2=torch.randn(1, 1, requires_grad=True),\n",
    ")"
   ]
  },
  {
   "cell_type": "code",
   "execution_count": null,
   "metadata": {},
   "outputs": [],
   "source": []
  },
  {
   "cell_type": "code",
   "execution_count": 306,
   "metadata": {},
   "outputs": [
    {
     "name": "stdout",
     "output_type": "stream",
     "text": [
      "torch.norm(w_gt-w)=tensor(196.5181, grad_fn=<NormBackward0>)\n"
     ]
    },
    {
     "data": {
      "text/plain": [
       "tensor([ 79.4538, 100.5485,   6.3408,   1.2640,  87.0593,  -1.8290,  70.8950,\n",
       "         -0.1279,   1.6753,  -1.6105,  19.7301,  40.8779,  -0.2037,   3.4468,\n",
       "         -2.2030,  26.8164,  -0.5837,  88.4168,   1.8758,   0.2159],\n",
       "       grad_fn=<ArgMinFunctionBackward>)"
      ]
     },
     "execution_count": 306,
     "metadata": {},
     "output_type": "execute_result"
    }
   ],
   "source": [
    "w=torch.randn_like(w_gt, requires_grad=True)\n",
    "l1=torch.randn(1, requires_grad=True)\n",
    "l2=torch.randn(1, requires_grad=True)\n",
    "print(f'{torch.norm(w_gt-w)=}')\n",
    "\n",
    "w_argmin = ArgMinFunction.apply(obj_fun, w, l1, l2)\n",
    "w_argmin"
   ]
  },
  {
   "cell_type": "code",
   "execution_count": 307,
   "metadata": {},
   "outputs": [
    {
     "data": {
      "text/plain": [
       "tensor(5.6502, grad_fn=<NormBackward0>)"
      ]
     },
     "execution_count": 307,
     "metadata": {},
     "output_type": "execute_result"
    }
   ],
   "source": [
    "torch.norm(w_gt-w)"
   ]
  },
  {
   "cell_type": "code",
   "execution_count": 308,
   "metadata": {},
   "outputs": [
    {
     "data": {
      "text/plain": [
       "tensor(522.0584, grad_fn=<SumBackward0>)"
      ]
     },
     "execution_count": 308,
     "metadata": {},
     "output_type": "execute_result"
    }
   ],
   "source": [
    "l = torch.sum(w_argmin)\n",
    "l"
   ]
  },
  {
   "cell_type": "code",
   "execution_count": 309,
   "metadata": {},
   "outputs": [
    {
     "name": "stdout",
     "output_type": "stream",
     "text": [
      "w.grad=tensor([-5.1200e-05, -6.0199e-05, -4.7117e-06, -5.2262e-06, -5.4284e-05,\n",
      "         2.8464e-06, -4.3178e-05, -1.1403e-06,  3.2301e-06,  6.4904e-07,\n",
      "        -9.3555e-06, -2.7183e-05, -1.4734e-06,  3.3733e-06,  1.5871e-06,\n",
      "        -1.9989e-05,  7.4313e-06, -5.5262e-05, -2.6089e-06, -3.9361e-07])\n",
      "l1.grad=tensor([26.7587])\n",
      "l2.grad=tensor([1984.8246])\n"
     ]
    }
   ],
   "source": [
    "print(f'{w.grad=}')\n",
    "print(f'{l1.grad=}')\n",
    "print(f'{l2.grad=}')"
   ]
  },
  {
   "cell_type": "code",
   "execution_count": 310,
   "metadata": {},
   "outputs": [
    {
     "data": {
      "text/plain": [
       "tensor(522.0584, grad_fn=<SumBackward0>)"
      ]
     },
     "execution_count": 310,
     "metadata": {},
     "output_type": "execute_result"
    }
   ],
   "source": [
    "l.backward()\n",
    "l"
   ]
  },
  {
   "cell_type": "code",
   "execution_count": null,
   "metadata": {},
   "outputs": [],
   "source": []
  },
  {
   "cell_type": "code",
   "execution_count": 311,
   "metadata": {},
   "outputs": [
    {
     "name": "stdout",
     "output_type": "stream",
     "text": [
      "w.grad=tensor([0.9999, 0.9999, 1.0000, 1.0000, 0.9999, 1.0000, 1.0000, 1.0000, 1.0000,\n",
      "        1.0000, 1.0000, 1.0000, 1.0000, 1.0000, 1.0000, 1.0000, 1.0000, 0.9999,\n",
      "        1.0000, 1.0000])\n",
      "l1.grad=tensor([26.7587])\n",
      "l2.grad=tensor([1984.8246])\n"
     ]
    }
   ],
   "source": [
    "print(f'{w.grad=}')\n",
    "print(f'{l1.grad=}')\n",
    "print(f'{l2.grad=}')"
   ]
  },
  {
   "cell_type": "code",
   "execution_count": 77,
   "metadata": {},
   "outputs": [
    {
     "data": {
      "image/svg+xml": [
       "<?xml version=\"1.0\" encoding=\"UTF-8\" standalone=\"no\"?>\n",
       "<!DOCTYPE svg PUBLIC \"-//W3C//DTD SVG 1.1//EN\"\n",
       " \"http://www.w3.org/Graphics/SVG/1.1/DTD/svg11.dtd\">\n",
       "<!-- Generated by graphviz version 2.42.3 (20191010.1750)\n",
       " -->\n",
       "<!-- Title: %3 Pages: 1 -->\n",
       "<svg width=\"422pt\" height=\"152pt\"\n",
       " viewBox=\"0.00 0.00 422.00 152.00\" xmlns=\"http://www.w3.org/2000/svg\" xmlns:xlink=\"http://www.w3.org/1999/xlink\">\n",
       "<g id=\"graph0\" class=\"graph\" transform=\"scale(1 1) rotate(0) translate(4 148)\">\n",
       "<title>%3</title>\n",
       "<polygon fill=\"white\" stroke=\"transparent\" points=\"-4,4 -4,-148 418,-148 418,4 -4,4\"/>\n",
       "<!-- 140540754858240 -->\n",
       "<g id=\"node1\" class=\"node\">\n",
       "<title>140540754858240</title>\n",
       "<polygon fill=\"#caff70\" stroke=\"black\" points=\"253.15,-20 160.85,-20 160.85,0 253.15,0 253.15,-20\"/>\n",
       "<text text-anchor=\"middle\" x=\"207\" y=\"-6.4\" font-family=\"Times,serif\" font-size=\"12.00\">SumBackward0</text>\n",
       "</g>\n",
       "<!-- 140540748768752 -->\n",
       "<g id=\"node2\" class=\"node\">\n",
       "<title>140540748768752</title>\n",
       "<polygon fill=\"lightgrey\" stroke=\"black\" points=\"279.77,-76 134.23,-76 134.23,-56 279.77,-56 279.77,-76\"/>\n",
       "<text text-anchor=\"middle\" x=\"207\" y=\"-62.4\" font-family=\"Times,serif\" font-size=\"12.00\">ArgMinFunctionBackward</text>\n",
       "</g>\n",
       "<!-- 140540748768752&#45;&gt;140540754858240 -->\n",
       "<g id=\"edge1\" class=\"edge\">\n",
       "<title>140540748768752&#45;&gt;140540754858240</title>\n",
       "<path fill=\"none\" stroke=\"black\" d=\"M207,-55.59C207,-48.7 207,-39.1 207,-30.57\"/>\n",
       "<polygon fill=\"black\" stroke=\"black\" points=\"210.5,-30.3 207,-20.3 203.5,-30.3 210.5,-30.3\"/>\n",
       "</g>\n",
       "<!-- 140540754858672 -->\n",
       "<g id=\"node3\" class=\"node\">\n",
       "<title>140540754858672</title>\n",
       "<polygon fill=\"lightblue\" stroke=\"black\" points=\"54,-144 0,-144 0,-112 54,-112 54,-144\"/>\n",
       "<text text-anchor=\"middle\" x=\"27\" y=\"-130.4\" font-family=\"Times,serif\" font-size=\"12.00\">w</text>\n",
       "<text text-anchor=\"middle\" x=\"27\" y=\"-118.4\" font-family=\"Times,serif\" font-size=\"12.00\"> (20)</text>\n",
       "</g>\n",
       "<!-- 140540754858672&#45;&gt;140540748768752 -->\n",
       "<g id=\"edge2\" class=\"edge\">\n",
       "<title>140540754858672&#45;&gt;140540748768752</title>\n",
       "<path fill=\"none\" stroke=\"black\" d=\"M54.02,-115.43C57.04,-114.23 60.07,-113.06 63,-112 97.13,-99.59 136.53,-87.42 165.48,-78.87\"/>\n",
       "<polygon fill=\"black\" stroke=\"black\" points=\"166.65,-82.18 175.26,-76.01 164.68,-75.46 166.65,-82.18\"/>\n",
       "</g>\n",
       "<!-- 140540754858576 -->\n",
       "<g id=\"node4\" class=\"node\">\n",
       "<title>140540754858576</title>\n",
       "<polygon fill=\"lightblue\" stroke=\"black\" points=\"126,-144 72,-144 72,-112 126,-112 126,-144\"/>\n",
       "<text text-anchor=\"middle\" x=\"99\" y=\"-130.4\" font-family=\"Times,serif\" font-size=\"12.00\">l1</text>\n",
       "<text text-anchor=\"middle\" x=\"99\" y=\"-118.4\" font-family=\"Times,serif\" font-size=\"12.00\"> (1)</text>\n",
       "</g>\n",
       "<!-- 140540754858576&#45;&gt;140540748768752 -->\n",
       "<g id=\"edge3\" class=\"edge\">\n",
       "<title>140540754858576&#45;&gt;140540748768752</title>\n",
       "<path fill=\"none\" stroke=\"black\" d=\"M126.25,-111.86C143.18,-102.46 164.79,-90.45 181.4,-81.22\"/>\n",
       "<polygon fill=\"black\" stroke=\"black\" points=\"183.48,-84.07 190.52,-76.15 180.08,-77.95 183.48,-84.07\"/>\n",
       "</g>\n",
       "<!-- 140540754858624 -->\n",
       "<g id=\"node5\" class=\"node\">\n",
       "<title>140540754858624</title>\n",
       "<polygon fill=\"lightblue\" stroke=\"black\" points=\"198,-144 144,-144 144,-112 198,-112 198,-144\"/>\n",
       "<text text-anchor=\"middle\" x=\"171\" y=\"-130.4\" font-family=\"Times,serif\" font-size=\"12.00\">l2</text>\n",
       "<text text-anchor=\"middle\" x=\"171\" y=\"-118.4\" font-family=\"Times,serif\" font-size=\"12.00\"> (1)</text>\n",
       "</g>\n",
       "<!-- 140540754858624&#45;&gt;140540748768752 -->\n",
       "<g id=\"edge4\" class=\"edge\">\n",
       "<title>140540754858624&#45;&gt;140540748768752</title>\n",
       "<path fill=\"none\" stroke=\"black\" d=\"M180.08,-111.86C184.99,-103.69 191.07,-93.55 196.21,-84.98\"/>\n",
       "<polygon fill=\"black\" stroke=\"black\" points=\"199.36,-86.53 201.51,-76.15 193.36,-82.93 199.36,-86.53\"/>\n",
       "</g>\n",
       "<!-- 140541229462400 -->\n",
       "<g id=\"node6\" class=\"node\">\n",
       "<title>140541229462400</title>\n",
       "<polygon fill=\"orange\" stroke=\"black\" points=\"270,-138 216,-138 216,-118 270,-118 270,-138\"/>\n",
       "<text text-anchor=\"middle\" x=\"243\" y=\"-124.4\" font-family=\"Times,serif\" font-size=\"12.00\">(20)</text>\n",
       "</g>\n",
       "<!-- 140541229462400&#45;&gt;140540748768752 -->\n",
       "<g id=\"edge5\" class=\"edge\">\n",
       "<title>140541229462400&#45;&gt;140540748768752</title>\n",
       "<path fill=\"none\" stroke=\"black\" d=\"M237.53,-117.89C232.3,-109.17 224.26,-95.77 217.74,-84.91\"/>\n",
       "<polygon fill=\"black\" stroke=\"black\" points=\"220.67,-82.97 212.52,-76.2 214.66,-86.57 220.67,-82.97\"/>\n",
       "</g>\n",
       "<!-- 140540748388160 -->\n",
       "<g id=\"node7\" class=\"node\">\n",
       "<title>140540748388160</title>\n",
       "<polygon fill=\"orange\" stroke=\"black\" points=\"342,-138 288,-138 288,-118 342,-118 342,-138\"/>\n",
       "<text text-anchor=\"middle\" x=\"315\" y=\"-124.4\" font-family=\"Times,serif\" font-size=\"12.00\">(1)</text>\n",
       "</g>\n",
       "<!-- 140540748388160&#45;&gt;140540748768752 -->\n",
       "<g id=\"edge6\" class=\"edge\">\n",
       "<title>140540748388160&#45;&gt;140540748768752</title>\n",
       "<path fill=\"none\" stroke=\"black\" d=\"M298.6,-117.89C280.89,-108.05 252.48,-92.27 231.99,-80.88\"/>\n",
       "<polygon fill=\"black\" stroke=\"black\" points=\"233.64,-77.8 223.2,-76 230.25,-83.92 233.64,-77.8\"/>\n",
       "</g>\n",
       "<!-- 140540823828096 -->\n",
       "<g id=\"node8\" class=\"node\">\n",
       "<title>140540823828096</title>\n",
       "<polygon fill=\"orange\" stroke=\"black\" points=\"414,-138 360,-138 360,-118 414,-118 414,-138\"/>\n",
       "<text text-anchor=\"middle\" x=\"387\" y=\"-124.4\" font-family=\"Times,serif\" font-size=\"12.00\">(1)</text>\n",
       "</g>\n",
       "<!-- 140540823828096&#45;&gt;140540748768752 -->\n",
       "<g id=\"edge7\" class=\"edge\">\n",
       "<title>140540823828096&#45;&gt;140540748768752</title>\n",
       "<path fill=\"none\" stroke=\"black\" d=\"M366.19,-117.95C361.24,-115.9 355.96,-113.81 351,-112 316.87,-99.59 277.47,-87.42 248.52,-78.87\"/>\n",
       "<polygon fill=\"black\" stroke=\"black\" points=\"249.32,-75.46 238.74,-76.01 247.35,-82.18 249.32,-75.46\"/>\n",
       "</g>\n",
       "</g>\n",
       "</svg>\n"
      ],
      "text/plain": [
       "<graphviz.dot.Digraph at 0x7fd231c51730>"
      ]
     },
     "execution_count": 77,
     "metadata": {},
     "output_type": "execute_result"
    }
   ],
   "source": [
    "torchviz.make_dot(torch.sum(ArgMinFunction.apply(obj_fun, w, l1, l2)), params={'w':w,'l1':l1,'l2':l2})"
   ]
  },
  {
   "cell_type": "code",
   "execution_count": null,
   "metadata": {},
   "outputs": [],
   "source": [
    "\n",
    "\n"
   ]
  },
  {
   "cell_type": "code",
   "execution_count": null,
   "metadata": {},
   "outputs": [],
   "source": []
  },
  {
   "cell_type": "code",
   "execution_count": 78,
   "metadata": {},
   "outputs": [],
   "source": [
    "class ElasticNetLayer(torch.nn.Module):\n",
    "    def __init__(self, X, y):\n",
    "        super().__init__()\n",
    "        self.X = X\n",
    "        self.y = y\n",
    "        self.w = torch.nn.Parameter(torch.randn(X.shape[1], requires_grad=True))\n",
    "        \n",
    "    @staticmethod\n",
    "    def obj_fun(w: Tensor, l1: Tensor, l2: Tensor):\n",
    "        loss = torch.mean((X @ w - y)**2)\n",
    "        reg1 = l1 * torch.mean(torch.abs(w))\n",
    "        reg2 = l2 * torch.mean(w ** 2)\n",
    "        return torch.sum(loss + reg1 + reg2)\n",
    "    \n",
    "    def forward(self, ll: Tensor):\n",
    "        ll = torch.mean(ll, dim=0)\n",
    "        l1, l2 = ll[0], ll[1]\n",
    "        w_opt = ArgMinFunction.apply(self.obj_fun, self.w, l1, l2)\n",
    "        return w_opt"
   ]
  },
  {
   "cell_type": "code",
   "execution_count": null,
   "metadata": {},
   "outputs": [],
   "source": []
  },
  {
   "cell_type": "code",
   "execution_count": 79,
   "metadata": {},
   "outputs": [],
   "source": [
    "hidden_dim = 128\n",
    "mlp_base = torch.nn.Sequential(\n",
    "    torch.nn.Linear(in_features=D, out_features=hidden_dim),\n",
    "    ELUCustom(),\n",
    "    torch.nn.Linear(in_features=hidden_dim, out_features=hidden_dim),\n",
    "    ELUCustom(),\n",
    "    torch.nn.Linear(in_features=hidden_dim, out_features=2),\n",
    ")\n",
    "\n",
    "mlp_argmin = torch.nn.Sequential(\n",
    "    mlp_base,\n",
    "    ElasticNetLayer(X, y)\n",
    ")"
   ]
  },
  {
   "cell_type": "code",
   "execution_count": 80,
   "metadata": {},
   "outputs": [
    {
     "data": {
      "image/svg+xml": [
       "<?xml version=\"1.0\" encoding=\"UTF-8\" standalone=\"no\"?>\n",
       "<!DOCTYPE svg PUBLIC \"-//W3C//DTD SVG 1.1//EN\"\n",
       " \"http://www.w3.org/Graphics/SVG/1.1/DTD/svg11.dtd\">\n",
       "<!-- Generated by graphviz version 2.42.3 (20191010.1750)\n",
       " -->\n",
       "<!-- Title: %3 Pages: 1 -->\n",
       "<svg width=\"575pt\" height=\"672pt\"\n",
       " viewBox=\"0.00 0.00 575.00 672.00\" xmlns=\"http://www.w3.org/2000/svg\" xmlns:xlink=\"http://www.w3.org/1999/xlink\">\n",
       "<g id=\"graph0\" class=\"graph\" transform=\"scale(1 1) rotate(0) translate(4 668)\">\n",
       "<title>%3</title>\n",
       "<polygon fill=\"white\" stroke=\"transparent\" points=\"-4,4 -4,-668 571,-668 571,4 -4,4\"/>\n",
       "<!-- 140540870236528 -->\n",
       "<g id=\"node1\" class=\"node\">\n",
       "<title>140540870236528</title>\n",
       "<polygon fill=\"#caff70\" stroke=\"black\" points=\"398.97,-20 301.03,-20 301.03,0 398.97,0 398.97,-20\"/>\n",
       "<text text-anchor=\"middle\" x=\"350\" y=\"-6.4\" font-family=\"Times,serif\" font-size=\"12.00\">MeanBackward0</text>\n",
       "</g>\n",
       "<!-- 140540748769376 -->\n",
       "<g id=\"node2\" class=\"node\">\n",
       "<title>140540748769376</title>\n",
       "<polygon fill=\"lightgrey\" stroke=\"black\" points=\"422.77,-76 277.23,-76 277.23,-56 422.77,-56 422.77,-76\"/>\n",
       "<text text-anchor=\"middle\" x=\"350\" y=\"-62.4\" font-family=\"Times,serif\" font-size=\"12.00\">ArgMinFunctionBackward</text>\n",
       "</g>\n",
       "<!-- 140540748769376&#45;&gt;140540870236528 -->\n",
       "<g id=\"edge1\" class=\"edge\">\n",
       "<title>140540748769376&#45;&gt;140540870236528</title>\n",
       "<path fill=\"none\" stroke=\"black\" d=\"M350,-55.59C350,-48.7 350,-39.1 350,-30.57\"/>\n",
       "<polygon fill=\"black\" stroke=\"black\" points=\"353.5,-30.3 350,-20.3 346.5,-30.3 353.5,-30.3\"/>\n",
       "</g>\n",
       "<!-- 140540870235664 -->\n",
       "<g id=\"node3\" class=\"node\">\n",
       "<title>140540870235664</title>\n",
       "<polygon fill=\"lightblue\" stroke=\"black\" points=\"127,-144 73,-144 73,-112 127,-112 127,-144\"/>\n",
       "<text text-anchor=\"middle\" x=\"100\" y=\"-130.4\" font-family=\"Times,serif\" font-size=\"12.00\">1.w</text>\n",
       "<text text-anchor=\"middle\" x=\"100\" y=\"-118.4\" font-family=\"Times,serif\" font-size=\"12.00\"> (20)</text>\n",
       "</g>\n",
       "<!-- 140540870235664&#45;&gt;140540748769376 -->\n",
       "<g id=\"edge2\" class=\"edge\">\n",
       "<title>140540870235664&#45;&gt;140540748769376</title>\n",
       "<path fill=\"none\" stroke=\"black\" d=\"M127.32,-114.99C130.22,-113.91 133.15,-112.88 136,-112 184.17,-97.05 239.97,-85.49 282.52,-77.84\"/>\n",
       "<polygon fill=\"black\" stroke=\"black\" points=\"283.25,-81.27 292.48,-76.07 282.03,-74.37 283.25,-81.27\"/>\n",
       "</g>\n",
       "<!-- 140540870236240 -->\n",
       "<g id=\"node4\" class=\"node\">\n",
       "<title>140540870236240</title>\n",
       "<polygon fill=\"lightgrey\" stroke=\"black\" points=\"238.96,-138 145.04,-138 145.04,-118 238.96,-118 238.96,-138\"/>\n",
       "<text text-anchor=\"middle\" x=\"192\" y=\"-124.4\" font-family=\"Times,serif\" font-size=\"12.00\">SelectBackward</text>\n",
       "</g>\n",
       "<!-- 140540870236240&#45;&gt;140540748769376 -->\n",
       "<g id=\"edge3\" class=\"edge\">\n",
       "<title>140540870236240&#45;&gt;140540748769376</title>\n",
       "<path fill=\"none\" stroke=\"black\" d=\"M216,-117.89C242.83,-107.7 286.48,-91.12 316.63,-79.67\"/>\n",
       "<polygon fill=\"black\" stroke=\"black\" points=\"318.19,-82.82 326.3,-76 315.7,-76.28 318.19,-82.82\"/>\n",
       "</g>\n",
       "<!-- 140540870237824 -->\n",
       "<g id=\"node5\" class=\"node\">\n",
       "<title>140540870237824</title>\n",
       "<polygon fill=\"lightgrey\" stroke=\"black\" points=\"296.97,-200 199.03,-200 199.03,-180 296.97,-180 296.97,-200\"/>\n",
       "<text text-anchor=\"middle\" x=\"248\" y=\"-186.4\" font-family=\"Times,serif\" font-size=\"12.00\">MeanBackward1</text>\n",
       "</g>\n",
       "<!-- 140540870237824&#45;&gt;140540870236240 -->\n",
       "<g id=\"edge4\" class=\"edge\">\n",
       "<title>140540870237824&#45;&gt;140540870236240</title>\n",
       "<path fill=\"none\" stroke=\"black\" d=\"M239.49,-179.89C231.03,-170.81 217.83,-156.68 207.5,-145.6\"/>\n",
       "<polygon fill=\"black\" stroke=\"black\" points=\"209.97,-143.12 200.59,-138.2 204.85,-147.9 209.97,-143.12\"/>\n",
       "</g>\n",
       "<!-- 140540870236336 -->\n",
       "<g id=\"node22\" class=\"node\">\n",
       "<title>140540870236336</title>\n",
       "<polygon fill=\"lightgrey\" stroke=\"black\" points=\"350.96,-138 257.04,-138 257.04,-118 350.96,-118 350.96,-138\"/>\n",
       "<text text-anchor=\"middle\" x=\"304\" y=\"-124.4\" font-family=\"Times,serif\" font-size=\"12.00\">SelectBackward</text>\n",
       "</g>\n",
       "<!-- 140540870237824&#45;&gt;140540870236336 -->\n",
       "<g id=\"edge22\" class=\"edge\">\n",
       "<title>140540870237824&#45;&gt;140540870236336</title>\n",
       "<path fill=\"none\" stroke=\"black\" d=\"M256.51,-179.89C264.97,-170.81 278.17,-156.68 288.5,-145.6\"/>\n",
       "<polygon fill=\"black\" stroke=\"black\" points=\"291.15,-147.9 295.41,-138.2 286.03,-143.12 291.15,-147.9\"/>\n",
       "</g>\n",
       "<!-- 140540870236000 -->\n",
       "<g id=\"node6\" class=\"node\">\n",
       "<title>140540870236000</title>\n",
       "<polygon fill=\"lightgrey\" stroke=\"black\" points=\"299.98,-256 196.02,-256 196.02,-236 299.98,-236 299.98,-256\"/>\n",
       "<text text-anchor=\"middle\" x=\"248\" y=\"-242.4\" font-family=\"Times,serif\" font-size=\"12.00\">AddmmBackward</text>\n",
       "</g>\n",
       "<!-- 140540870236000&#45;&gt;140540870237824 -->\n",
       "<g id=\"edge5\" class=\"edge\">\n",
       "<title>140540870236000&#45;&gt;140540870237824</title>\n",
       "<path fill=\"none\" stroke=\"black\" d=\"M248,-235.59C248,-228.7 248,-219.1 248,-210.57\"/>\n",
       "<polygon fill=\"black\" stroke=\"black\" points=\"251.5,-210.3 248,-200.3 244.5,-210.3 251.5,-210.3\"/>\n",
       "</g>\n",
       "<!-- 140540870238016 -->\n",
       "<g id=\"node7\" class=\"node\">\n",
       "<title>140540870238016</title>\n",
       "<polygon fill=\"lightblue\" stroke=\"black\" points=\"165,-324 111,-324 111,-292 165,-292 165,-324\"/>\n",
       "<text text-anchor=\"middle\" x=\"138\" y=\"-310.4\" font-family=\"Times,serif\" font-size=\"12.00\">0.4.bias</text>\n",
       "<text text-anchor=\"middle\" x=\"138\" y=\"-298.4\" font-family=\"Times,serif\" font-size=\"12.00\"> (2)</text>\n",
       "</g>\n",
       "<!-- 140540870238016&#45;&gt;140540870236000 -->\n",
       "<g id=\"edge6\" class=\"edge\">\n",
       "<title>140540870238016&#45;&gt;140540870236000</title>\n",
       "<path fill=\"none\" stroke=\"black\" d=\"M165.19,-292.17C182.69,-282.62 205.29,-270.3 222.45,-260.93\"/>\n",
       "<polygon fill=\"black\" stroke=\"black\" points=\"224.26,-263.93 231.37,-256.07 220.91,-257.79 224.26,-263.93\"/>\n",
       "</g>\n",
       "<!-- 140540748768960 -->\n",
       "<g id=\"node8\" class=\"node\">\n",
       "<title>140540748768960</title>\n",
       "<polygon fill=\"lightgrey\" stroke=\"black\" points=\"313.14,-318 182.86,-318 182.86,-298 313.14,-298 313.14,-318\"/>\n",
       "<text text-anchor=\"middle\" x=\"248\" y=\"-304.4\" font-family=\"Times,serif\" font-size=\"12.00\">ELUFunctionBackward</text>\n",
       "</g>\n",
       "<!-- 140540748768960&#45;&gt;140540870236000 -->\n",
       "<g id=\"edge7\" class=\"edge\">\n",
       "<title>140540748768960&#45;&gt;140540870236000</title>\n",
       "<path fill=\"none\" stroke=\"black\" d=\"M248,-297.89C248,-289.52 248,-276.84 248,-266.23\"/>\n",
       "<polygon fill=\"black\" stroke=\"black\" points=\"251.5,-266.2 248,-256.2 244.5,-266.2 251.5,-266.2\"/>\n",
       "</g>\n",
       "<!-- 140540870235424 -->\n",
       "<g id=\"node9\" class=\"node\">\n",
       "<title>140540870235424</title>\n",
       "<polygon fill=\"lightgrey\" stroke=\"black\" points=\"209.98,-386 106.02,-386 106.02,-366 209.98,-366 209.98,-386\"/>\n",
       "<text text-anchor=\"middle\" x=\"158\" y=\"-372.4\" font-family=\"Times,serif\" font-size=\"12.00\">AddmmBackward</text>\n",
       "</g>\n",
       "<!-- 140540870235424&#45;&gt;140540748768960 -->\n",
       "<g id=\"edge8\" class=\"edge\">\n",
       "<title>140540870235424&#45;&gt;140540748768960</title>\n",
       "<path fill=\"none\" stroke=\"black\" d=\"M170.51,-365.82C185.16,-355.09 209.62,-337.14 227.15,-324.29\"/>\n",
       "<polygon fill=\"black\" stroke=\"black\" points=\"229.6,-326.84 235.59,-318.1 225.46,-321.19 229.6,-326.84\"/>\n",
       "</g>\n",
       "<!-- 140540870234464 -->\n",
       "<g id=\"node10\" class=\"node\">\n",
       "<title>140540870234464</title>\n",
       "<polygon fill=\"lightblue\" stroke=\"black\" points=\"75,-460 21,-460 21,-428 75,-428 75,-460\"/>\n",
       "<text text-anchor=\"middle\" x=\"48\" y=\"-446.4\" font-family=\"Times,serif\" font-size=\"12.00\">0.2.bias</text>\n",
       "<text text-anchor=\"middle\" x=\"48\" y=\"-434.4\" font-family=\"Times,serif\" font-size=\"12.00\"> (128)</text>\n",
       "</g>\n",
       "<!-- 140540870234464&#45;&gt;140540870235424 -->\n",
       "<g id=\"edge9\" class=\"edge\">\n",
       "<title>140540870234464&#45;&gt;140540870235424</title>\n",
       "<path fill=\"none\" stroke=\"black\" d=\"M73.24,-427.86C91.49,-416.9 116.01,-402.19 133.98,-391.41\"/>\n",
       "<polygon fill=\"black\" stroke=\"black\" points=\"135.94,-394.32 142.71,-386.17 132.34,-388.32 135.94,-394.32\"/>\n",
       "</g>\n",
       "<!-- 140540748768544 -->\n",
       "<g id=\"node11\" class=\"node\">\n",
       "<title>140540748768544</title>\n",
       "<polygon fill=\"lightgrey\" stroke=\"black\" points=\"223.14,-454 92.86,-454 92.86,-434 223.14,-434 223.14,-454\"/>\n",
       "<text text-anchor=\"middle\" x=\"158\" y=\"-440.4\" font-family=\"Times,serif\" font-size=\"12.00\">ELUFunctionBackward</text>\n",
       "</g>\n",
       "<!-- 140540748768544&#45;&gt;140540870235424 -->\n",
       "<g id=\"edge10\" class=\"edge\">\n",
       "<title>140540748768544&#45;&gt;140540870235424</title>\n",
       "<path fill=\"none\" stroke=\"black\" d=\"M158,-433.82C158,-424.17 158,-408.69 158,-396.32\"/>\n",
       "<polygon fill=\"black\" stroke=\"black\" points=\"161.5,-396.1 158,-386.1 154.5,-396.1 161.5,-396.1\"/>\n",
       "</g>\n",
       "<!-- 140540870288720 -->\n",
       "<g id=\"node12\" class=\"node\">\n",
       "<title>140540870288720</title>\n",
       "<polygon fill=\"lightgrey\" stroke=\"black\" points=\"118.98,-522 15.02,-522 15.02,-502 118.98,-502 118.98,-522\"/>\n",
       "<text text-anchor=\"middle\" x=\"67\" y=\"-508.4\" font-family=\"Times,serif\" font-size=\"12.00\">AddmmBackward</text>\n",
       "</g>\n",
       "<!-- 140540870288720&#45;&gt;140540748768544 -->\n",
       "<g id=\"edge11\" class=\"edge\">\n",
       "<title>140540870288720&#45;&gt;140540748768544</title>\n",
       "<path fill=\"none\" stroke=\"black\" d=\"M79.65,-501.82C94.46,-491.09 119.2,-473.14 136.92,-460.29\"/>\n",
       "<polygon fill=\"black\" stroke=\"black\" points=\"139.41,-462.8 145.45,-454.1 135.3,-457.14 139.41,-462.8\"/>\n",
       "</g>\n",
       "<!-- 140540870290016 -->\n",
       "<g id=\"node13\" class=\"node\">\n",
       "<title>140540870290016</title>\n",
       "<polygon fill=\"lightblue\" stroke=\"black\" points=\"54,-596 0,-596 0,-564 54,-564 54,-596\"/>\n",
       "<text text-anchor=\"middle\" x=\"27\" y=\"-582.4\" font-family=\"Times,serif\" font-size=\"12.00\">0.0.bias</text>\n",
       "<text text-anchor=\"middle\" x=\"27\" y=\"-570.4\" font-family=\"Times,serif\" font-size=\"12.00\"> (128)</text>\n",
       "</g>\n",
       "<!-- 140540870290016&#45;&gt;140540870288720 -->\n",
       "<g id=\"edge12\" class=\"edge\">\n",
       "<title>140540870290016&#45;&gt;140540870288720</title>\n",
       "<path fill=\"none\" stroke=\"black\" d=\"M36.28,-563.69C42.21,-553.9 49.94,-541.15 56.16,-530.89\"/>\n",
       "<polygon fill=\"black\" stroke=\"black\" points=\"59.16,-532.68 61.35,-522.32 53.18,-529.05 59.16,-532.68\"/>\n",
       "</g>\n",
       "<!-- 140540870288240 -->\n",
       "<g id=\"node14\" class=\"node\">\n",
       "<title>140540870288240</title>\n",
       "<polygon fill=\"lightgrey\" stroke=\"black\" points=\"143.97,-590 72.03,-590 72.03,-570 143.97,-570 143.97,-590\"/>\n",
       "<text text-anchor=\"middle\" x=\"108\" y=\"-576.4\" font-family=\"Times,serif\" font-size=\"12.00\">TBackward</text>\n",
       "</g>\n",
       "<!-- 140540870288240&#45;&gt;140540870288720 -->\n",
       "<g id=\"edge13\" class=\"edge\">\n",
       "<title>140540870288240&#45;&gt;140540870288720</title>\n",
       "<path fill=\"none\" stroke=\"black\" d=\"M102.3,-569.82C96.06,-559.77 85.9,-543.42 78.07,-530.83\"/>\n",
       "<polygon fill=\"black\" stroke=\"black\" points=\"80.9,-528.75 72.65,-522.1 74.96,-532.44 80.9,-528.75\"/>\n",
       "</g>\n",
       "<!-- 140540870289488 -->\n",
       "<g id=\"node15\" class=\"node\">\n",
       "<title>140540870289488</title>\n",
       "<polygon fill=\"lightblue\" stroke=\"black\" points=\"141.16,-664 74.84,-664 74.84,-632 141.16,-632 141.16,-664\"/>\n",
       "<text text-anchor=\"middle\" x=\"108\" y=\"-650.4\" font-family=\"Times,serif\" font-size=\"12.00\">0.0.weight</text>\n",
       "<text text-anchor=\"middle\" x=\"108\" y=\"-638.4\" font-family=\"Times,serif\" font-size=\"12.00\"> (128, 20)</text>\n",
       "</g>\n",
       "<!-- 140540870289488&#45;&gt;140540870288240 -->\n",
       "<g id=\"edge14\" class=\"edge\">\n",
       "<title>140540870289488&#45;&gt;140540870288240</title>\n",
       "<path fill=\"none\" stroke=\"black\" d=\"M108,-631.69C108,-622.4 108,-610.44 108,-600.47\"/>\n",
       "<polygon fill=\"black\" stroke=\"black\" points=\"111.5,-600.32 108,-590.32 104.5,-600.32 111.5,-600.32\"/>\n",
       "</g>\n",
       "<!-- 140540824295168 -->\n",
       "<g id=\"node16\" class=\"node\">\n",
       "<title>140540824295168</title>\n",
       "<polygon fill=\"orange\" stroke=\"black\" points=\"208.99,-522 137.01,-522 137.01,-502 208.99,-502 208.99,-522\"/>\n",
       "<text text-anchor=\"middle\" x=\"173\" y=\"-508.4\" font-family=\"Times,serif\" font-size=\"12.00\">(1000, 128)</text>\n",
       "</g>\n",
       "<!-- 140540824295168&#45;&gt;140540748768544 -->\n",
       "<g id=\"edge15\" class=\"edge\">\n",
       "<title>140540824295168&#45;&gt;140540748768544</title>\n",
       "<path fill=\"none\" stroke=\"black\" d=\"M170.91,-501.82C168.7,-492.07 165.13,-476.37 162.31,-463.95\"/>\n",
       "<polygon fill=\"black\" stroke=\"black\" points=\"165.7,-463.07 160.07,-454.1 158.87,-464.63 165.7,-463.07\"/>\n",
       "</g>\n",
       "<!-- 140540870236816 -->\n",
       "<g id=\"node17\" class=\"node\">\n",
       "<title>140540870236816</title>\n",
       "<polygon fill=\"lightgrey\" stroke=\"black\" points=\"312.97,-454 241.03,-454 241.03,-434 312.97,-434 312.97,-454\"/>\n",
       "<text text-anchor=\"middle\" x=\"277\" y=\"-440.4\" font-family=\"Times,serif\" font-size=\"12.00\">TBackward</text>\n",
       "</g>\n",
       "<!-- 140540870236816&#45;&gt;140540870235424 -->\n",
       "<g id=\"edge16\" class=\"edge\">\n",
       "<title>140540870236816&#45;&gt;140540870235424</title>\n",
       "<path fill=\"none\" stroke=\"black\" d=\"M260.45,-433.82C240.47,-422.74 206.65,-403.98 183.37,-391.07\"/>\n",
       "<polygon fill=\"black\" stroke=\"black\" points=\"184.85,-387.89 174.41,-386.1 181.45,-394.01 184.85,-387.89\"/>\n",
       "</g>\n",
       "<!-- 140540870289776 -->\n",
       "<g id=\"node18\" class=\"node\">\n",
       "<title>140540870289776</title>\n",
       "<polygon fill=\"lightblue\" stroke=\"black\" points=\"311.49,-528 242.51,-528 242.51,-496 311.49,-496 311.49,-528\"/>\n",
       "<text text-anchor=\"middle\" x=\"277\" y=\"-514.4\" font-family=\"Times,serif\" font-size=\"12.00\">0.2.weight</text>\n",
       "<text text-anchor=\"middle\" x=\"277\" y=\"-502.4\" font-family=\"Times,serif\" font-size=\"12.00\"> (128, 128)</text>\n",
       "</g>\n",
       "<!-- 140540870289776&#45;&gt;140540870236816 -->\n",
       "<g id=\"edge17\" class=\"edge\">\n",
       "<title>140540870289776&#45;&gt;140540870236816</title>\n",
       "<path fill=\"none\" stroke=\"black\" d=\"M277,-495.69C277,-486.4 277,-474.44 277,-464.47\"/>\n",
       "<polygon fill=\"black\" stroke=\"black\" points=\"280.5,-464.32 277,-454.32 273.5,-464.32 280.5,-464.32\"/>\n",
       "</g>\n",
       "<!-- 140540823849856 -->\n",
       "<g id=\"node19\" class=\"node\">\n",
       "<title>140540823849856</title>\n",
       "<polygon fill=\"orange\" stroke=\"black\" points=\"299.99,-386 228.01,-386 228.01,-366 299.99,-366 299.99,-386\"/>\n",
       "<text text-anchor=\"middle\" x=\"264\" y=\"-372.4\" font-family=\"Times,serif\" font-size=\"12.00\">(1000, 128)</text>\n",
       "</g>\n",
       "<!-- 140540823849856&#45;&gt;140540748768960 -->\n",
       "<g id=\"edge18\" class=\"edge\">\n",
       "<title>140540823849856&#45;&gt;140540748768960</title>\n",
       "<path fill=\"none\" stroke=\"black\" d=\"M261.78,-365.82C259.41,-356.07 255.61,-340.37 252.59,-327.95\"/>\n",
       "<polygon fill=\"black\" stroke=\"black\" points=\"255.96,-326.99 250.21,-318.1 249.16,-328.64 255.96,-326.99\"/>\n",
       "</g>\n",
       "<!-- 140540870237584 -->\n",
       "<g id=\"node20\" class=\"node\">\n",
       "<title>140540870237584</title>\n",
       "<polygon fill=\"lightgrey\" stroke=\"black\" points=\"402.97,-318 331.03,-318 331.03,-298 402.97,-298 402.97,-318\"/>\n",
       "<text text-anchor=\"middle\" x=\"367\" y=\"-304.4\" font-family=\"Times,serif\" font-size=\"12.00\">TBackward</text>\n",
       "</g>\n",
       "<!-- 140540870237584&#45;&gt;140540870236000 -->\n",
       "<g id=\"edge19\" class=\"edge\">\n",
       "<title>140540870237584&#45;&gt;140540870236000</title>\n",
       "<path fill=\"none\" stroke=\"black\" d=\"M348.93,-297.89C329.24,-287.96 297.55,-271.98 274.93,-260.58\"/>\n",
       "<polygon fill=\"black\" stroke=\"black\" points=\"276.36,-257.38 265.85,-256 273.21,-263.63 276.36,-257.38\"/>\n",
       "</g>\n",
       "<!-- 140540870235328 -->\n",
       "<g id=\"node21\" class=\"node\">\n",
       "<title>140540870235328</title>\n",
       "<polygon fill=\"lightblue\" stroke=\"black\" points=\"400.16,-392 333.84,-392 333.84,-360 400.16,-360 400.16,-392\"/>\n",
       "<text text-anchor=\"middle\" x=\"367\" y=\"-378.4\" font-family=\"Times,serif\" font-size=\"12.00\">0.4.weight</text>\n",
       "<text text-anchor=\"middle\" x=\"367\" y=\"-366.4\" font-family=\"Times,serif\" font-size=\"12.00\"> (2, 128)</text>\n",
       "</g>\n",
       "<!-- 140540870235328&#45;&gt;140540870237584 -->\n",
       "<g id=\"edge20\" class=\"edge\">\n",
       "<title>140540870235328&#45;&gt;140540870237584</title>\n",
       "<path fill=\"none\" stroke=\"black\" d=\"M367,-359.69C367,-350.4 367,-338.44 367,-328.47\"/>\n",
       "<polygon fill=\"black\" stroke=\"black\" points=\"370.5,-328.32 367,-318.32 363.5,-328.32 370.5,-328.32\"/>\n",
       "</g>\n",
       "<!-- 140540870236336&#45;&gt;140540748769376 -->\n",
       "<g id=\"edge21\" class=\"edge\">\n",
       "<title>140540870236336&#45;&gt;140540748769376</title>\n",
       "<path fill=\"none\" stroke=\"black\" d=\"M310.99,-117.89C317.81,-108.99 328.36,-95.22 336.77,-84.25\"/>\n",
       "<polygon fill=\"black\" stroke=\"black\" points=\"339.64,-86.26 342.95,-76.2 334.09,-82.01 339.64,-86.26\"/>\n",
       "</g>\n",
       "<!-- 140541110087936 -->\n",
       "<g id=\"node23\" class=\"node\">\n",
       "<title>140541110087936</title>\n",
       "<polygon fill=\"orange\" stroke=\"black\" points=\"423,-138 369,-138 369,-118 423,-118 423,-138\"/>\n",
       "<text text-anchor=\"middle\" x=\"396\" y=\"-124.4\" font-family=\"Times,serif\" font-size=\"12.00\">(20)</text>\n",
       "</g>\n",
       "<!-- 140541110087936&#45;&gt;140540748769376 -->\n",
       "<g id=\"edge23\" class=\"edge\">\n",
       "<title>140541110087936&#45;&gt;140540748769376</title>\n",
       "<path fill=\"none\" stroke=\"black\" d=\"M389.01,-117.89C382.19,-108.99 371.64,-95.22 363.23,-84.25\"/>\n",
       "<polygon fill=\"black\" stroke=\"black\" points=\"365.91,-82.01 357.05,-76.2 360.36,-86.26 365.91,-82.01\"/>\n",
       "</g>\n",
       "<!-- 140540824642240 -->\n",
       "<g id=\"node24\" class=\"node\">\n",
       "<title>140540824642240</title>\n",
       "<polygon fill=\"orange\" stroke=\"black\" points=\"495,-138 441,-138 441,-118 495,-118 495,-138\"/>\n",
       "<text text-anchor=\"middle\" x=\"468\" y=\"-124.4\" font-family=\"Times,serif\" font-size=\"12.00\">()</text>\n",
       "</g>\n",
       "<!-- 140540824642240&#45;&gt;140540748769376 -->\n",
       "<g id=\"edge24\" class=\"edge\">\n",
       "<title>140540824642240&#45;&gt;140540748769376</title>\n",
       "<path fill=\"none\" stroke=\"black\" d=\"M450.08,-117.89C430.56,-107.96 399.13,-91.98 376.7,-80.58\"/>\n",
       "<polygon fill=\"black\" stroke=\"black\" points=\"378.2,-77.41 367.7,-76 375.03,-83.65 378.2,-77.41\"/>\n",
       "</g>\n",
       "<!-- 140541254677952 -->\n",
       "<g id=\"node25\" class=\"node\">\n",
       "<title>140541254677952</title>\n",
       "<polygon fill=\"orange\" stroke=\"black\" points=\"567,-138 513,-138 513,-118 567,-118 567,-138\"/>\n",
       "<text text-anchor=\"middle\" x=\"540\" y=\"-124.4\" font-family=\"Times,serif\" font-size=\"12.00\">()</text>\n",
       "</g>\n",
       "<!-- 140541254677952&#45;&gt;140540748769376 -->\n",
       "<g id=\"edge25\" class=\"edge\">\n",
       "<title>140541254677952&#45;&gt;140540748769376</title>\n",
       "<path fill=\"none\" stroke=\"black\" d=\"M519.21,-117.88C514.27,-115.84 508.98,-113.76 504,-112 467.78,-99.21 425.89,-87.14 394.95,-78.73\"/>\n",
       "<polygon fill=\"black\" stroke=\"black\" points=\"395.47,-75.24 384.91,-76.02 393.65,-82 395.47,-75.24\"/>\n",
       "</g>\n",
       "</g>\n",
       "</svg>\n"
      ],
      "text/plain": [
       "<graphviz.dot.Digraph at 0x7fd238a59100>"
      ]
     },
     "execution_count": 80,
     "metadata": {},
     "output_type": "execute_result"
    }
   ],
   "source": [
    "torchviz.make_dot(mlp_argmin(X).mean(), params=dict(list(mlp_argmin.named_parameters())))"
   ]
  },
  {
   "cell_type": "code",
   "execution_count": 81,
   "metadata": {},
   "outputs": [
    {
     "data": {
      "text/plain": [
       "tensor([-0.1670, -0.0428], grad_fn=<MeanBackward1>)"
      ]
     },
     "execution_count": 81,
     "metadata": {},
     "output_type": "execute_result"
    }
   ],
   "source": [
    "torch.mean(mlp_base(X), dim=0)"
   ]
  },
  {
   "cell_type": "code",
   "execution_count": 82,
   "metadata": {},
   "outputs": [
    {
     "data": {
      "text/plain": [
       "tensor([-0.7203,  1.7253,  0.7401,  1.2586,  0.3814, -1.8072,  1.2886, -0.1062,\n",
       "         1.6339, -1.5840,  1.0532,  1.1446, -0.1829,  0.2965, -2.1831,  0.3656,\n",
       "        -0.5877,  1.3254,  1.8570,  0.1974], grad_fn=<SubBackward0>)"
      ]
     },
     "execution_count": 82,
     "metadata": {},
     "output_type": "execute_result"
    }
   ],
   "source": [
    "mlp_argmin(X)-w_gt"
   ]
  },
  {
   "cell_type": "code",
   "execution_count": 83,
   "metadata": {},
   "outputs": [],
   "source": [
    "opt = torch.optim.Adam(mlp_argmin.parameters(),)\n",
    "\n",
    "for i in range(10):\n",
    "    w_hat = mlp_argmin(X)\n",
    "    loss = torch.norm(w_hat - w_gt)\n",
    "    opt.zero_grad()\n",
    "    loss.backward()\n",
    "    opt.step()\n",
    "    "
   ]
  },
  {
   "cell_type": "code",
   "execution_count": 84,
   "metadata": {},
   "outputs": [
    {
     "data": {
      "text/plain": [
       "tensor([-0.7203,  1.7253,  0.7401,  1.2585,  0.3814, -1.8072,  1.2886, -0.1062,\n",
       "         1.6339, -1.5840,  1.0532,  1.1446, -0.1829,  0.2965, -2.1831,  0.3656,\n",
       "        -0.5877,  1.3254,  1.8570,  0.1974], grad_fn=<SubBackward0>)"
      ]
     },
     "execution_count": 84,
     "metadata": {},
     "output_type": "execute_result"
    }
   ],
   "source": [
    "mlp_argmin(X)-w_gt"
   ]
  },
  {
   "cell_type": "code",
   "execution_count": 85,
   "metadata": {},
   "outputs": [
    {
     "data": {
      "text/plain": [
       "tensor([-0.1670, -0.0428], grad_fn=<MeanBackward1>)"
      ]
     },
     "execution_count": 85,
     "metadata": {},
     "output_type": "execute_result"
    }
   ],
   "source": [
    "torch.mean(mlp_base(X), dim=0)"
   ]
  },
  {
   "cell_type": "code",
   "execution_count": null,
   "metadata": {},
   "outputs": [],
   "source": []
  },
  {
   "cell_type": "code",
   "execution_count": null,
   "metadata": {},
   "outputs": [],
   "source": []
  },
  {
   "cell_type": "code",
   "execution_count": null,
   "metadata": {},
   "outputs": [],
   "source": []
  },
  {
   "cell_type": "code",
   "execution_count": 86,
   "metadata": {},
   "outputs": [],
   "source": [
    "import pandas as pd\n",
    "import numpy as np"
   ]
  },
  {
   "cell_type": "code",
   "execution_count": 231,
   "metadata": {},
   "outputs": [
    {
     "data": {
      "text/plain": [
       "(93612, 7)"
      ]
     },
     "execution_count": 231,
     "metadata": {},
     "output_type": "execute_result"
    }
   ],
   "source": [
    "df = pd.read_csv(\"DJIA_30/all_stocks_2006-01-01_to_2018-01-01.csv\")\n",
    "df.shape"
   ]
  },
  {
   "cell_type": "code",
   "execution_count": 232,
   "metadata": {},
   "outputs": [
    {
     "data": {
      "image/png": "[encoded data removed]",
      "text/plain": [
       "<Figure size 864x432 with 1 Axes>"
      ]
     },
     "metadata": {
      "needs_background": "light"
     },
     "output_type": "display_data"
    }
   ],
   "source": [
    "import matplotlib.dates as mdates\n",
    "from datetime import datetime\n",
    "\n",
    "stock_names = [\"AAPL\", \"GOOGL\", \"MSFT\", \"AMZN\"]\n",
    "\n",
    "fig, ax = plt.subplots(1, 1, figsize=(12, 6))\n",
    "ax.xaxis.set_major_locator(mdates.YearLocator())\n",
    "ax.xaxis.set_major_formatter(mdates.DateFormatter('%Y'))\n",
    "ax.xaxis.set_minor_locator(mdates.MonthLocator())\n",
    "for stock_name in stock_names:\n",
    "    df_stock = df[df['Name'] == stock_name]\n",
    "    df_stock_dates = [datetime.strptime(d,'%Y-%m-%d').date() for d in df_stock['Date']]\n",
    "    ax.plot(df_stock_dates, df_stock['Close'], label=stock_name)\n",
    "ax.set_ylabel('Close Price ($)'); ax.legend();"
   ]
  },
  {
   "cell_type": "code",
   "execution_count": 233,
   "metadata": {},
   "outputs": [
    {
     "name": "stdout",
     "output_type": "stream",
     "text": [
      "X_train.shape=torch.Size([1638, 1, 30]), Y_train.shape=torch.Size([1638, 1, 10])\n",
      "X_test.shape=torch.Size([702, 1, 30]), Y_test.shape=torch.Size([702, 1, 10])\n"
     ]
    }
   ],
   "source": [
    "SEG_LEN = 40\n",
    "SEG_BASE = 30\n",
    "SEG_TARGET = SEG_LEN - SEG_BASE\n",
    "\n",
    "# Split into segments of SEG_LEN days\n",
    "X = torch.tensor(df['Close'].values, dtype=torch.float64)\n",
    "X = X[0:SEG_LEN*(X.shape[0]//SEG_LEN)]\n",
    "X = torch.reshape(X, (-1, 1, SEG_LEN)) # adding channel dimension\n",
    "\n",
    "# Train-test split\n",
    "test_ratio = 0.3\n",
    "N = X.shape[0]\n",
    "N_train = int(N * (1-test_ratio))\n",
    "idxs = torch.randperm(X.shape[0],)\n",
    "X_train, X_test = X[idxs[:N_train]], X[idxs[N_train:]]\n",
    "\n",
    "# Split out target segment at the end\n",
    "X_train, Y_train = X_train[..., :SEG_BASE], X_train[..., SEG_BASE:]\n",
    "X_test, Y_test = X_test[..., :SEG_BASE], X_test[..., SEG_BASE:]\n",
    "\n",
    "print(f\"{X_train.shape=}, {Y_train.shape=}\")\n",
    "print(f\"{X_test.shape=}, {Y_test.shape=}\")"
   ]
  },
  {
   "cell_type": "code",
   "execution_count": 234,
   "metadata": {},
   "outputs": [
    {
     "data": {
      "image/png": "[encoded data removed]",
      "text/plain": [
       "<Figure size 864x432 with 1 Axes>"
      ]
     },
     "metadata": {
      "needs_background": "light"
     },
     "output_type": "display_data"
    }
   ],
   "source": [
    "fig, ax = plt.subplots(1, 1, figsize=(12, 6))\n",
    "idx_perm = np.random.permutation(range(N_train))\n",
    "for i in range(10):\n",
    "    ax.semilogy(range(SEG_BASE), X_train[idx_perm[i], 0, :])\n",
    "    ax.semilogy(range(SEG_BASE, SEG_LEN), Y_train[idx_perm[i], 0, :])\n",
    "ax.grid();"
   ]
  },
  {
   "cell_type": "code",
   "execution_count": null,
   "metadata": {},
   "outputs": [],
   "source": []
  },
  {
   "cell_type": "code",
   "execution_count": null,
   "metadata": {},
   "outputs": [],
   "source": []
  },
  {
   "cell_type": "code",
   "execution_count": null,
   "metadata": {},
   "outputs": [],
   "source": []
  },
  {
   "cell_type": "code",
   "execution_count": null,
   "metadata": {},
   "outputs": [],
   "source": []
  },
  {
   "cell_type": "code",
   "execution_count": 236,
   "metadata": {},
   "outputs": [
    {
     "data": {
      "text/plain": [
       "0.057513984985620305"
      ]
     },
     "execution_count": 236,
     "metadata": {},
     "output_type": "execute_result"
    }
   ],
   "source": [
    "from sklearn.kernel_ridge import KernelRidge\n",
    "\n",
    "clf = KernelRidge(alpha=1.0, kernel='linear')\n",
    "clf.fit(X_train.squeeze(1).numpy(), Y_train.squeeze(1).numpy())\n",
    "clf.score(X_test.squeeze(1).numpy(), Y_test.squeeze(1).numpy())"
   ]
  },
  {
   "cell_type": "code",
   "execution_count": null,
   "metadata": {},
   "outputs": [],
   "source": []
  },
  {
   "cell_type": "code",
   "execution_count": null,
   "metadata": {},
   "outputs": [],
   "source": []
  },
  {
   "cell_type": "code",
   "execution_count": null,
   "metadata": {},
   "outputs": [],
   "source": []
  },
  {
   "cell_type": "code",
   "execution_count": null,
   "metadata": {},
   "outputs": [],
   "source": []
  },
  {
   "cell_type": "code",
   "execution_count": 237,
   "metadata": {},
   "outputs": [],
   "source": [
    "from torch.utils.data import TensorDataset, DataLoader"
   ]
  },
  {
   "cell_type": "code",
   "execution_count": 238,
   "metadata": {},
   "outputs": [],
   "source": [
    "batch_size = 8\n",
    "\n",
    "dl_train, dl_test = [\n",
    "    DataLoader(TensorDataset(X, Y), batch_size=8, shuffle=False)   \n",
    "    for X, Y in [(X_train, Y_train), (X_test, Y_test)]\n",
    "]\n"
   ]
  },
  {
   "cell_type": "code",
   "execution_count": null,
   "metadata": {},
   "outputs": [],
   "source": []
  },
  {
   "cell_type": "code",
   "execution_count": 239,
   "metadata": {},
   "outputs": [],
   "source": [
    "class EncDec(torch.nn.Module):\n",
    "    def __init__(self, channels=[1, 4, 8], out_nl=True):\n",
    "        super().__init__()\n",
    "        \n",
    "        layers = []\n",
    "        channel_pairs = zip(channels[:-1], channels[1:])\n",
    "        for in_channels, out_channels in channel_pairs:\n",
    "            layers.extend([\n",
    "                torch.nn.Conv1d(\n",
    "                    in_channels, out_channels,\n",
    "                    kernel_size=3, padding=1, bias=True\n",
    "                ),\n",
    "                ELUCustom(alpha=0.5),\n",
    "            ])\n",
    "        if not out_nl:\n",
    "            layers = layers[:-1]\n",
    "            \n",
    "        self.layers = torch.nn.Sequential(*layers)\n",
    "        \n",
    "    def forward(self, x):\n",
    "        return self.layers(x)\n",
    "        "
   ]
  },
  {
   "cell_type": "code",
   "execution_count": 240,
   "metadata": {},
   "outputs": [
    {
     "data": {
      "text/plain": [
       "EncDec(\n",
       "  (layers): Sequential(\n",
       "    (0): Conv1d(1, 4, kernel_size=(3,), stride=(1,), padding=(1,))\n",
       "    (1): ELUCustom()\n",
       "    (2): Conv1d(4, 8, kernel_size=(3,), stride=(1,), padding=(1,))\n",
       "    (3): ELUCustom()\n",
       "  )\n",
       ")"
      ]
     },
     "execution_count": 240,
     "metadata": {},
     "output_type": "execute_result"
    }
   ],
   "source": [
    "enc = EncDec(channels=[1, 4, 8], out_nl=True)\n",
    "enc"
   ]
  },
  {
   "cell_type": "code",
   "execution_count": 241,
   "metadata": {},
   "outputs": [
    {
     "data": {
      "text/plain": [
       "torch.Size([8, 1, 30])"
      ]
     },
     "execution_count": 241,
     "metadata": {},
     "output_type": "execute_result"
    }
   ],
   "source": [
    "x0, y0 = next(iter(dl_train))\n",
    "x0.shape"
   ]
  },
  {
   "cell_type": "code",
   "execution_count": 242,
   "metadata": {},
   "outputs": [
    {
     "name": "stdout",
     "output_type": "stream",
     "text": [
      "fc(enc(x0)).shape=torch.Size([8, 8, 10])\n",
      "fc.weight.shape=torch.Size([10, 30])\n"
     ]
    },
    {
     "data": {
      "text/plain": [
       "torch.Size([8, 8, 10])"
      ]
     },
     "execution_count": 242,
     "metadata": {},
     "output_type": "execute_result"
    }
   ],
   "source": [
    "enc(x0).shape\n",
    "\n",
    "fc = torch.nn.Linear(in_features=30, out_features=10)\n",
    "print(f\"{fc(enc(x0)).shape=}\")\n",
    "print(f\"{fc.weight.shape=}\")\n",
    "\n",
    "\n",
    "torch.matmul(enc(x0), fc.weight.T).shape"
   ]
  },
  {
   "cell_type": "code",
   "execution_count": 243,
   "metadata": {},
   "outputs": [],
   "source": [
    "class RegressionArgMinLayer(torch.nn.Module):\n",
    "    def __init__(self, in_features: int, out_features: int):\n",
    "        super().__init__()\n",
    "        self.w = torch.nn.Parameter(torch.randn(\n",
    "            out_features, in_features, requires_grad=True,\n",
    "        ))\n",
    "        self.reg_lambda = torch.nn.Parameter(torch.randn(1, 1, requires_grad=True))\n",
    "    \n",
    "    @staticmethod\n",
    "    def obj_fun(w: Tensor, x: Tensor, y: Tensor, reg_lambda: Tensor):\n",
    "        xw = torch.matmul(x, w.T)\n",
    "        loss = torch.mean((xw - y)**2)\n",
    "        reg = reg_lambda * torch.mean(w ** 2)\n",
    "        return torch.sum(loss + reg)\n",
    "        \n",
    "    def forward(self, x, y):\n",
    "        w_opt = ArgMinFunction.apply(self.obj_fun, self.w, x, y, self.reg_lambda)\n",
    "        return torch.matmul(x, w_opt.T)"
   ]
  },
  {
   "cell_type": "code",
   "execution_count": 244,
   "metadata": {},
   "outputs": [],
   "source": [
    "pred = RegressionArgMinLayer(SEG_BASE, SEG_TARGET)"
   ]
  },
  {
   "cell_type": "code",
   "execution_count": 245,
   "metadata": {},
   "outputs": [],
   "source": [
    "yhat = pred(enc(x0), y0)"
   ]
  },
  {
   "cell_type": "code",
   "execution_count": 246,
   "metadata": {},
   "outputs": [],
   "source": [
    "yhat.sum().backward()"
   ]
  },
  {
   "cell_type": "code",
   "execution_count": 247,
   "metadata": {},
   "outputs": [
    {
     "data": {
      "text/plain": [
       "tensor(26945.9980)"
      ]
     },
     "execution_count": 247,
     "metadata": {},
     "output_type": "execute_result"
    }
   ],
   "source": [
    "pred.w.grad.sum()"
   ]
  },
  {
   "cell_type": "code",
   "execution_count": 248,
   "metadata": {},
   "outputs": [
    {
     "data": {
      "text/plain": [
       "tensor([[0.]])"
      ]
     },
     "execution_count": 248,
     "metadata": {},
     "output_type": "execute_result"
    }
   ],
   "source": [
    "pred.reg_lambda.grad"
   ]
  },
  {
   "cell_type": "code",
   "execution_count": 249,
   "metadata": {},
   "outputs": [
    {
     "data": {
      "text/plain": [
       "EncDec(\n",
       "  (layers): Sequential(\n",
       "    (0): Conv1d(8, 4, kernel_size=(3,), stride=(1,), padding=(1,))\n",
       "    (1): ELUCustom()\n",
       "    (2): Conv1d(4, 1, kernel_size=(3,), stride=(1,), padding=(1,))\n",
       "  )\n",
       ")"
      ]
     },
     "execution_count": 249,
     "metadata": {},
     "output_type": "execute_result"
    }
   ],
   "source": [
    "dec = EncDec(channels=[8, 4, 1], out_nl=False)\n",
    "dec"
   ]
  },
  {
   "cell_type": "code",
   "execution_count": 250,
   "metadata": {},
   "outputs": [],
   "source": [
    "dec(pred(enc(x0), y0)).sum().backward()"
   ]
  },
  {
   "cell_type": "code",
   "execution_count": null,
   "metadata": {},
   "outputs": [],
   "source": []
  },
  {
   "cell_type": "code",
   "execution_count": 251,
   "metadata": {},
   "outputs": [],
   "source": [
    "from typing import List\n",
    "\n",
    "class EncDecPredictor(torch.nn.Module):\n",
    "    def __init__(\n",
    "        self, in_features: int, postdiction_length: int,\n",
    "        encoder_channels: List[int], decoder_channels: List[int]=None\n",
    "    ):\n",
    "        super().__init__()\n",
    "        \n",
    "        if decoder_channels is None:\n",
    "            decoder_channels = list(reversed(encoder_channels))\n",
    "            \n",
    "        self.enc = EncDec(encoder_channels, out_nl=True)\n",
    "        self.dec = EncDec(decoder_channels, out_nl=False)\n",
    "        self.regression = RegressionArgMinLayer(in_features - postdiction_length, postdiction_length)\n",
    "        self.postdiction_length = postdiction_length\n",
    "        \n",
    "    def forward(self, x: Tensor):\n",
    "        # Split into post-diction target\n",
    "        x_post = x[..., :-self.postdiction_length]\n",
    "        y_post = x[..., -self.postdiction_length:]\n",
    "        \n",
    "        x_emb = self.enc(x_post)\n",
    "        y_emb = self.regression(x_emb, y_post)\n",
    "        y_pred = self.dec(y_emb)\n",
    "        \n",
    "        return y_pred\n",
    "        "
   ]
  },
  {
   "cell_type": "code",
   "execution_count": 278,
   "metadata": {},
   "outputs": [],
   "source": [
    "torch.manual_seed(42)\n",
    "\n",
    "model = EncDecPredictor(\n",
    "    in_features=SEG_BASE, postdiction_length=SEG_TARGET,\n",
    "    encoder_channels=[1, 4, 8, 16]\n",
    ")\n",
    "\n",
    "loss_fn = torch.nn.MSELoss()\n",
    "\n",
    "optimizer = torch.optim.Adam(model.parameters(), lr=0.1, weight_decay=0.01, eps=1e-6)\n",
    "scheduler = torch.optim.lr_scheduler.ExponentialLR(optimizer, gamma=0.9)"
   ]
  },
  {
   "cell_type": "code",
   "execution_count": 279,
   "metadata": {},
   "outputs": [
    {
     "name": "stderr",
     "output_type": "stream",
     "text": [
      "Epoch #00: Training [loss=1407.009]: 100%|██████████| 205/205 [00:20<00:00, 10.13it/s]                                                                                       \n",
      "Epoch #00: Evaluating [loss=1007.603]: 100%|██████████| 88/88 [00:00<00:00, 388.99it/s]\n",
      "Epoch #01: Training [loss=1436.776]: 100%|██████████| 205/205 [00:18<00:00, 11.35it/s]                                                                                             \n",
      "Epoch #01: Evaluating [loss=1064.626]: 100%|██████████| 88/88 [00:00<00:00, 384.54it/s]\n",
      "Epoch #02: Training [loss=1416.353]: 100%|██████████| 205/205 [00:17<00:00, 11.44it/s]                                                                                               \n",
      "Epoch #02: Evaluating [loss=1034.196]: 100%|██████████| 88/88 [00:00<00:00, 385.91it/s]\n",
      "Epoch #03: Training [loss=1394.599]: 100%|██████████| 205/205 [00:18<00:00, 11.31it/s]                                                                                          \n",
      "Epoch #03: Evaluating [loss=1002.361]: 100%|██████████| 88/88 [00:00<00:00, 384.15it/s]\n",
      "Epoch #04: Training [loss=1430.501]: 100%|██████████| 205/205 [00:17<00:00, 11.39it/s]                                                                                    \n",
      "Epoch #04: Evaluating [loss=1062.171]: 100%|██████████| 88/88 [00:00<00:00, 363.06it/s]\n"
     ]
    }
   ],
   "source": [
    "from tqdm import tqdm\n",
    "\n",
    "def run_epoch(epoch_idx, max_batches, dl, train=True):\n",
    "    desc = f'Epoch #{epoch_idx:02d}: {\"Training\" if train else \"Evaluating\"} '\n",
    "    losses = []\n",
    "    pbar = tqdm(dl, desc=desc)\n",
    "    for i, (x, y) in enumerate(pbar):\n",
    "        y_pred = model(x)\n",
    "        loss = loss_fn(y, y_pred)\n",
    "        \n",
    "        if train:\n",
    "            optimizer.zero_grad()\n",
    "            loss.backward()\n",
    "            torch.nn.utils.clip_grad_norm_(model.parameters(), 1.0)\n",
    "            optimizer.step()\n",
    "        \n",
    "        losses.append(loss.item())\n",
    "        pbar.desc = desc + f\"[loss={loss.item():.3f}]\"\n",
    "        if max_batches and i >= max_batches:\n",
    "            break\n",
    "    pbar.desc = desc + f\"avg. loss = {np.mean(losses)}\"\n",
    "    pbar.update()\n",
    "    \n",
    "num_epochs = 5\n",
    "max_batches = None\n",
    "for epoch in range(num_epochs):\n",
    "    run_epoch(epoch, max_batches, dl_train, train=True)\n",
    "    with torch.no_grad():\n",
    "        run_epoch(epoch, max_batches, dl_test, train=False)\n",
    "    scheduler.step()"
   ]
  },
  {
   "cell_type": "code",
   "execution_count": 280,
   "metadata": {},
   "outputs": [
    {
     "data": {
      "text/plain": [
       "tensor([[[51.9071, 62.9781, 63.0454, 63.0454, 63.0454, 63.0454, 63.0454,\n",
       "          63.0454, 62.9529, 51.5490]]], grad_fn=<SqueezeBackward1>)"
      ]
     },
     "execution_count": 280,
     "metadata": {},
     "output_type": "execute_result"
    }
   ],
   "source": [
    "model(x0[[0]])"
   ]
  },
  {
   "cell_type": "code",
   "execution_count": null,
   "metadata": {},
   "outputs": [],
   "source": []
  },
  {
   "cell_type": "code",
   "execution_count": null,
   "metadata": {},
   "outputs": [],
   "source": []
  },
  {
   "cell_type": "code",
   "execution_count": null,
   "metadata": {},
   "outputs": [],
   "source": []
  },
  {
   "cell_type": "markdown",
   "metadata": {
    "slideshow": {
     "slide_type": "skip"
    }
   },
   "source": [
    "**Image credits**\n",
    "\n",
    "Some images in this tutorial were taken and/or adapted from:\n",
    "\n",
    "- Dr. Roger Grosse, UToronto, cs321\n",
    "- Fundamentals of Deep Learning, Nikhil Buduma, Oreilly 2017\n"
   ]
  },
  {
   "cell_type": "code",
   "execution_count": null,
   "metadata": {},
   "outputs": [],
   "source": []
  }
 ],
 "metadata": {
  "kernelspec": {
   "display_name": "Python 3",
   "language": "python",
   "name": "python3"
  },
  "language_info": {
   "codemirror_mode": {
    "name": "ipython",
    "version": 3
   },
   "file_extension": ".py",
   "mimetype": "text/x-python",
   "name": "python",
   "nbconvert_exporter": "python",
   "pygments_lexer": "ipython3",
   "version": "3.8.6"
  },
  "toc-autonumbering": false,
  "toc-showcode": false,
  "toc-showmarkdowntxt": false
 },
 "nbformat": 4,
 "nbformat_minor": 4
}

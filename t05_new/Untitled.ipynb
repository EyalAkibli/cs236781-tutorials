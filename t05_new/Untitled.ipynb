{
 "cells": [
  {
   "cell_type": "code",
   "execution_count": 84,
   "metadata": {
    "slideshow": {
     "slide_type": "subslide"
    }
   },
   "outputs": [],
   "source": [
    "# Setup\n",
    "%matplotlib inline\n",
    "import os\n",
    "import sys\n",
    "import time\n",
    "import torch\n",
    "import sklearn\n",
    "import matplotlib.pyplot as plt"
   ]
  },
  {
   "cell_type": "code",
   "execution_count": 85,
   "metadata": {},
   "outputs": [],
   "source": [
    "import torch\n",
    "import torch.autograd as autograd\n",
    "import torchviz\n",
    "\n",
    "from torch.optim import LBFGS\n",
    "from torch.autograd.functional import jacobian, hessian\n",
    "from torch import Tensor"
   ]
  },
  {
   "cell_type": "code",
   "execution_count": 86,
   "metadata": {},
   "outputs": [],
   "source": [
    "torch.set_default_dtype(torch.float32)"
   ]
  },
  {
   "cell_type": "code",
   "execution_count": null,
   "metadata": {},
   "outputs": [],
   "source": []
  },
  {
   "cell_type": "code",
   "execution_count": 87,
   "metadata": {},
   "outputs": [],
   "source": [
    "def elu_forward(z: Tensor, alpha: float):\n",
    "    elu_positive = z\n",
    "    elu_negative = alpha * (torch.exp(z) - 1)\n",
    "    elu = torch.where(z>0, elu_positive, elu_negative)\n",
    "    return elu\n",
    "\n",
    "class ELU(torch.nn.Module):\n",
    "    \"\"\"\n",
    "    ELU Activation layer\n",
    "    \"\"\"\n",
    "    def __init__(self, alpha: float = 0.1):\n",
    "        super().__init__()\n",
    "        self.alpha = alpha\n",
    "    \n",
    "    def forward(self, z: Tensor):\n",
    "        return elu_forward(z, self.alpha)\n",
    "    "
   ]
  },
  {
   "cell_type": "code",
   "execution_count": null,
   "metadata": {},
   "outputs": [],
   "source": []
  },
  {
   "cell_type": "code",
   "execution_count": 88,
   "metadata": {},
   "outputs": [
    {
     "data": {
      "image/png": "[encoded data removed]",
      "text/plain": [
       "<Figure size 432x288 with 1 Axes>"
      ]
     },
     "metadata": {
      "needs_background": "light"
     },
     "output_type": "display_data"
    }
   ],
   "source": [
    "elu = ELU(alpha=0.5)\n",
    "z = torch.linspace(-5, 5, steps=1000)\n",
    "plt.plot(z.numpy(), torch.relu(z).numpy(), label='ReLU(z)', linewidth=5);\n",
    "plt.plot(z.numpy(), elu(z).numpy(), label='ELU(z)', linewidth=2); plt.legend(); plt.grid();"
   ]
  },
  {
   "cell_type": "code",
   "execution_count": 89,
   "metadata": {},
   "outputs": [
    {
     "data": {
      "image/svg+xml": [
       "<?xml version=\"1.0\" encoding=\"UTF-8\" standalone=\"no\"?>\n",
       "<!DOCTYPE svg PUBLIC \"-//W3C//DTD SVG 1.1//EN\"\n",
       " \"http://www.w3.org/Graphics/SVG/1.1/DTD/svg11.dtd\">\n",
       "<!-- Generated by graphviz version 2.42.3 (20191010.1750)\n",
       " -->\n",
       "<!-- Title: %3 Pages: 1 -->\n",
       "<svg width=\"142pt\" height=\"264pt\"\n",
       " viewBox=\"0.00 0.00 141.97 264.00\" xmlns=\"http://www.w3.org/2000/svg\" xmlns:xlink=\"http://www.w3.org/1999/xlink\">\n",
       "<g id=\"graph0\" class=\"graph\" transform=\"scale(1 1) rotate(0) translate(4 260)\">\n",
       "<title>%3</title>\n",
       "<polygon fill=\"white\" stroke=\"transparent\" points=\"-4,4 -4,-260 137.97,-260 137.97,4 -4,4\"/>\n",
       "<!-- 140327826194384 -->\n",
       "<g id=\"node1\" class=\"node\">\n",
       "<title>140327826194384</title>\n",
       "<polygon fill=\"#caff70\" stroke=\"black\" points=\"103.44,-20 -0.15,-20 -0.15,0 103.44,0 103.44,-20\"/>\n",
       "<text text-anchor=\"middle\" x=\"51.65\" y=\"-6.4\" font-family=\"Times,serif\" font-size=\"12.00\">SWhereBackward</text>\n",
       "</g>\n",
       "<!-- 140327826192464 -->\n",
       "<g id=\"node2\" class=\"node\">\n",
       "<title>140327826192464</title>\n",
       "<polygon fill=\"lightblue\" stroke=\"black\" points=\"77.65,-256 23.65,-256 23.65,-224 77.65,-224 77.65,-256\"/>\n",
       "<text text-anchor=\"middle\" x=\"50.65\" y=\"-242.4\" font-family=\"Times,serif\" font-size=\"12.00\">z</text>\n",
       "<text text-anchor=\"middle\" x=\"50.65\" y=\"-230.4\" font-family=\"Times,serif\" font-size=\"12.00\"> (6)</text>\n",
       "</g>\n",
       "<!-- 140327826192464&#45;&gt;140327826194384 -->\n",
       "<g id=\"edge1\" class=\"edge\">\n",
       "<title>140327826192464&#45;&gt;140327826194384</title>\n",
       "<path fill=\"none\" stroke=\"black\" d=\"M44.95,-223.62C41.54,-213.62 37.52,-200.22 35.65,-188 33.48,-173.85 34.33,-57.71 34.65,-56 36.29,-46.97 39.66,-37.41 42.96,-29.43\"/>\n",
       "<polygon fill=\"black\" stroke=\"black\" points=\"46.28,-30.59 47.12,-20.03 39.87,-27.76 46.28,-30.59\"/>\n",
       "</g>\n",
       "<!-- 140327826192944 -->\n",
       "<g id=\"node5\" class=\"node\">\n",
       "<title>140327826192944</title>\n",
       "<polygon fill=\"lightgrey\" stroke=\"black\" points=\"128.62,-188 44.67,-188 44.67,-168 128.62,-168 128.62,-188\"/>\n",
       "<text text-anchor=\"middle\" x=\"86.65\" y=\"-174.4\" font-family=\"Times,serif\" font-size=\"12.00\">ExpBackward</text>\n",
       "</g>\n",
       "<!-- 140327826192464&#45;&gt;140327826192944 -->\n",
       "<g id=\"edge5\" class=\"edge\">\n",
       "<title>140327826192464&#45;&gt;140327826192944</title>\n",
       "<path fill=\"none\" stroke=\"black\" d=\"M59.73,-223.86C64.63,-215.69 70.72,-205.55 75.86,-196.98\"/>\n",
       "<polygon fill=\"black\" stroke=\"black\" points=\"79.01,-198.53 81.15,-188.15 73.01,-194.93 79.01,-198.53\"/>\n",
       "</g>\n",
       "<!-- 140327826192656 -->\n",
       "<g id=\"node3\" class=\"node\">\n",
       "<title>140327826192656</title>\n",
       "<polygon fill=\"lightgrey\" stroke=\"black\" points=\"133.8,-76 43.5,-76 43.5,-56 133.8,-56 133.8,-76\"/>\n",
       "<text text-anchor=\"middle\" x=\"88.65\" y=\"-62.4\" font-family=\"Times,serif\" font-size=\"12.00\">MulBackward0</text>\n",
       "</g>\n",
       "<!-- 140327826192656&#45;&gt;140327826194384 -->\n",
       "<g id=\"edge2\" class=\"edge\">\n",
       "<title>140327826192656&#45;&gt;140327826194384</title>\n",
       "<path fill=\"none\" stroke=\"black\" d=\"M82.2,-55.59C77.11,-48.16 69.86,-37.58 63.69,-28.58\"/>\n",
       "<polygon fill=\"black\" stroke=\"black\" points=\"66.56,-26.57 58.02,-20.3 60.78,-30.53 66.56,-26.57\"/>\n",
       "</g>\n",
       "<!-- 140327826192320 -->\n",
       "<g id=\"node4\" class=\"node\">\n",
       "<title>140327826192320</title>\n",
       "<polygon fill=\"lightgrey\" stroke=\"black\" points=\"133.47,-132 43.83,-132 43.83,-112 133.47,-112 133.47,-132\"/>\n",
       "<text text-anchor=\"middle\" x=\"88.65\" y=\"-118.4\" font-family=\"Times,serif\" font-size=\"12.00\">SubBackward0</text>\n",
       "</g>\n",
       "<!-- 140327826192320&#45;&gt;140327826192656 -->\n",
       "<g id=\"edge3\" class=\"edge\">\n",
       "<title>140327826192320&#45;&gt;140327826192656</title>\n",
       "<path fill=\"none\" stroke=\"black\" d=\"M88.65,-111.59C88.65,-104.7 88.65,-95.1 88.65,-86.57\"/>\n",
       "<polygon fill=\"black\" stroke=\"black\" points=\"92.15,-86.3 88.65,-76.3 85.15,-86.3 92.15,-86.3\"/>\n",
       "</g>\n",
       "<!-- 140327826192944&#45;&gt;140327826192320 -->\n",
       "<g id=\"edge4\" class=\"edge\">\n",
       "<title>140327826192944&#45;&gt;140327826192320</title>\n",
       "<path fill=\"none\" stroke=\"black\" d=\"M86.99,-167.59C87.25,-160.7 87.61,-151.1 87.92,-142.57\"/>\n",
       "<polygon fill=\"black\" stroke=\"black\" points=\"91.43,-142.42 88.3,-132.3 84.43,-142.16 91.43,-142.42\"/>\n",
       "</g>\n",
       "</g>\n",
       "</svg>\n"
      ],
      "text/plain": [
       "<graphviz.dot.Digraph at 0x7fa09e7ac460>"
      ]
     },
     "execution_count": 89,
     "metadata": {},
     "output_type": "execute_result"
    }
   ],
   "source": [
    "z = torch.tensor([-2., -1, 0, 1, 2, 3], requires_grad=True)\n",
    "torchviz.make_dot(elu(z), params=dict(z=z))"
   ]
  },
  {
   "cell_type": "code",
   "execution_count": 90,
   "metadata": {},
   "outputs": [],
   "source": [
    "class ELUFunction(autograd.Function):\n",
    "    \n",
    "    @staticmethod\n",
    "    def forward(ctx, z: Tensor, alpha: float):\n",
    "        elu = elu_forward(z, alpha)\n",
    "        ctx.save_for_backward(z)\n",
    "        ctx.alpha = alpha\n",
    "        return elu\n",
    "    \n",
    "    @staticmethod\n",
    "    def backward(ctx, grad_output):\n",
    "        z, = ctx.saved_tensors\n",
    "        alpha = ctx.alpha\n",
    "        \n",
    "        # Caclcualte diagonal of d(elu(z))/dz\n",
    "        grad_positive = torch.ones_like(z)\n",
    "        grad_negative = alpha * torch.exp(z)\n",
    "        \n",
    "        # Note: This is not the full Jacobian!\n",
    "        grad_elu = torch.where(z>0, grad_positive, grad_negative)\n",
    "        \n",
    "        # Gradient of the loss w.r.t. our output\n",
    "        δ_elu = grad_output\n",
    "        \n",
    "        # Calcualte δz = d(elu(z))/dz * δ_elu\n",
    "        # Note: elementwise multiplication\n",
    "        #       equivalant to Jacobian-vector-product\n",
    "        print(f'{grad_elu.shape=}, {δ_elu.shape=}')\n",
    "        δz = grad_elu * δ_elu\n",
    "        return δz, None"
   ]
  },
  {
   "cell_type": "code",
   "execution_count": 91,
   "metadata": {},
   "outputs": [],
   "source": [
    "class ELUCustom(torch.nn.Module):\n",
    "    \"\"\"\n",
    "    ELU Layer with a custom backward pass\n",
    "    \"\"\"\n",
    "    def __init__(self, alpha: float = 0.1):\n",
    "        super().__init__()\n",
    "        self.alpha = alpha\n",
    "    \n",
    "    def forward(self, z: Tensor):\n",
    "        return ELUFunction.apply(z, self.alpha)"
   ]
  },
  {
   "cell_type": "code",
   "execution_count": null,
   "metadata": {},
   "outputs": [],
   "source": []
  },
  {
   "cell_type": "code",
   "execution_count": 92,
   "metadata": {},
   "outputs": [
    {
     "data": {
      "image/svg+xml": [
       "<?xml version=\"1.0\" encoding=\"UTF-8\" standalone=\"no\"?>\n",
       "<!DOCTYPE svg PUBLIC \"-//W3C//DTD SVG 1.1//EN\"\n",
       " \"http://www.w3.org/Graphics/SVG/1.1/DTD/svg11.dtd\">\n",
       "<!-- Generated by graphviz version 2.42.3 (20191010.1750)\n",
       " -->\n",
       "<!-- Title: %3 Pages: 1 -->\n",
       "<svg width=\"139pt\" height=\"96pt\"\n",
       " viewBox=\"0.00 0.00 138.64 96.00\" xmlns=\"http://www.w3.org/2000/svg\" xmlns:xlink=\"http://www.w3.org/1999/xlink\">\n",
       "<g id=\"graph0\" class=\"graph\" transform=\"scale(1 1) rotate(0) translate(4 92)\">\n",
       "<title>%3</title>\n",
       "<polygon fill=\"white\" stroke=\"transparent\" points=\"-4,4 -4,-92 134.64,-92 134.64,4 -4,4\"/>\n",
       "<!-- 140327788104608 -->\n",
       "<g id=\"node1\" class=\"node\">\n",
       "<title>140327788104608</title>\n",
       "<polygon fill=\"#caff70\" stroke=\"black\" points=\"130.46,-20 0.18,-20 0.18,0 130.46,0 130.46,-20\"/>\n",
       "<text text-anchor=\"middle\" x=\"65.32\" y=\"-6.4\" font-family=\"Times,serif\" font-size=\"12.00\">ELUFunctionBackward</text>\n",
       "</g>\n",
       "<!-- 140327826208848 -->\n",
       "<g id=\"node2\" class=\"node\">\n",
       "<title>140327826208848</title>\n",
       "<polygon fill=\"lightblue\" stroke=\"black\" points=\"56.32,-88 2.32,-88 2.32,-56 56.32,-56 56.32,-88\"/>\n",
       "<text text-anchor=\"middle\" x=\"29.32\" y=\"-74.4\" font-family=\"Times,serif\" font-size=\"12.00\">z</text>\n",
       "<text text-anchor=\"middle\" x=\"29.32\" y=\"-62.4\" font-family=\"Times,serif\" font-size=\"12.00\"> (6)</text>\n",
       "</g>\n",
       "<!-- 140327826208848&#45;&gt;140327788104608 -->\n",
       "<g id=\"edge1\" class=\"edge\">\n",
       "<title>140327826208848&#45;&gt;140327788104608</title>\n",
       "<path fill=\"none\" stroke=\"black\" d=\"M38.4,-55.86C43.31,-47.69 49.39,-37.55 54.53,-28.98\"/>\n",
       "<polygon fill=\"black\" stroke=\"black\" points=\"57.68,-30.53 59.83,-20.15 51.68,-26.93 57.68,-30.53\"/>\n",
       "</g>\n",
       "<!-- 140327830090880 -->\n",
       "<g id=\"node3\" class=\"node\">\n",
       "<title>140327830090880</title>\n",
       "<polygon fill=\"orange\" stroke=\"black\" points=\"128.32,-82 74.32,-82 74.32,-62 128.32,-62 128.32,-82\"/>\n",
       "<text text-anchor=\"middle\" x=\"101.32\" y=\"-68.4\" font-family=\"Times,serif\" font-size=\"12.00\">(6)</text>\n",
       "</g>\n",
       "<!-- 140327830090880&#45;&gt;140327788104608 -->\n",
       "<g id=\"edge2\" class=\"edge\">\n",
       "<title>140327830090880&#45;&gt;140327788104608</title>\n",
       "<path fill=\"none\" stroke=\"black\" d=\"M95.85,-61.89C90.62,-53.17 82.58,-39.77 76.06,-28.91\"/>\n",
       "<polygon fill=\"black\" stroke=\"black\" points=\"78.98,-26.97 70.84,-20.2 72.98,-30.57 78.98,-26.97\"/>\n",
       "</g>\n",
       "</g>\n",
       "</svg>\n"
      ],
      "text/plain": [
       "<graphviz.dot.Digraph at 0x7fa09e3bb430>"
      ]
     },
     "execution_count": 92,
     "metadata": {},
     "output_type": "execute_result"
    }
   ],
   "source": [
    "elu_custom = ELUCustom(alpha=0.5)\n",
    "z = torch.tensor([-2., -1, 0, 1, 2, 3], requires_grad=True)\n",
    "torchviz.make_dot(elu_custom(z), params=dict(z=z),)"
   ]
  },
  {
   "cell_type": "code",
   "execution_count": 93,
   "metadata": {},
   "outputs": [
    {
     "name": "stdout",
     "output_type": "stream",
     "text": [
      "grad_elu.shape=torch.Size([8]), δ_elu.shape=torch.Size([8])\n",
      "z1.grad=tensor([0.2758, 0.4193, 0.0509, 0.1639, 1.0000, 0.4429, 0.4160, 1.0000])\n",
      "z2.grad=tensor([0.2758, 0.4193, 0.0509, 0.1639, 1.0000, 0.4429, 0.4160, 1.0000])\n"
     ]
    }
   ],
   "source": [
    "z = torch.randn(8, requires_grad=True)\n",
    "z1 = z.clone().detach(); z1.requires_grad = True\n",
    "z2 = z.clone().detach(); z2.requires_grad = True\n",
    "\n",
    "l1 = torch.sum( elu(z1) )\n",
    "l2 = torch.sum( elu_custom(z2) )\n",
    "l1.backward()\n",
    "l2.backward()\n",
    "\n",
    "print(f\"{z1.grad=}\\n{z2.grad=}\")"
   ]
  },
  {
   "cell_type": "code",
   "execution_count": 94,
   "metadata": {},
   "outputs": [
    {
     "data": {
      "text/plain": [
       "tensor(0.1695, grad_fn=<SumBackward0>)"
      ]
     },
     "execution_count": 94,
     "metadata": {},
     "output_type": "execute_result"
    }
   ],
   "source": [
    "l2"
   ]
  },
  {
   "cell_type": "code",
   "execution_count": null,
   "metadata": {},
   "outputs": [],
   "source": []
  },
  {
   "cell_type": "code",
   "execution_count": null,
   "metadata": {},
   "outputs": [],
   "source": []
  },
  {
   "cell_type": "code",
   "execution_count": null,
   "metadata": {},
   "outputs": [],
   "source": []
  },
  {
   "cell_type": "code",
   "execution_count": null,
   "metadata": {},
   "outputs": [],
   "source": []
  },
  {
   "cell_type": "code",
   "execution_count": 95,
   "metadata": {},
   "outputs": [],
   "source": [
    "from sklearn.datasets import make_regression\n",
    "from sklearn.preprocessing import StandardScaler\n",
    "\n",
    "N, D = 100, 10\n",
    "\n",
    "X, y, w_gt = make_regression(\n",
    "    n_samples=N, n_features=D, coef=True, random_state=42, bias=10, noise=1,\n",
    ")\n",
    "\n",
    "X, y, w_gt = [ torch.from_numpy(t).to(torch.float) for t in [X, y, w_gt] ]"
   ]
  },
  {
   "cell_type": "code",
   "execution_count": 96,
   "metadata": {},
   "outputs": [
    {
     "data": {
      "text/plain": [
       "tensor(36935.3516, grad_fn=<AddBackward0>)"
      ]
     },
     "execution_count": 96,
     "metadata": {},
     "output_type": "execute_result"
    }
   ],
   "source": [
    "\n",
    "def obj_fun(w: Tensor, µ: Tensor):\n",
    "    return torch.mean((X @ w - y)**2) + torch.mean(µ * (w ** 2))\n",
    "\n",
    "w=torch.randn(D) * 0.0001\n",
    "µ=torch.randn(D) * 0.0001\n",
    "for x in [w, µ]:\n",
    "    x.requires_grad_()\n",
    "\n",
    "obj_fun(w, µ)"
   ]
  },
  {
   "cell_type": "code",
   "execution_count": 97,
   "metadata": {},
   "outputs": [],
   "source": [
    "H = hessian(\n",
    "obj_fun, inputs=(w, µ), create_graph=False\n",
    ")"
   ]
  },
  {
   "cell_type": "code",
   "execution_count": 98,
   "metadata": {},
   "outputs": [
    {
     "data": {
      "text/plain": [
       "tensor(183.7846, grad_fn=<NormBackward0>)"
      ]
     },
     "execution_count": 98,
     "metadata": {},
     "output_type": "execute_result"
    }
   ],
   "source": [
    "torch.norm(w_gt-w)"
   ]
  },
  {
   "cell_type": "code",
   "execution_count": 99,
   "metadata": {},
   "outputs": [
    {
     "data": {
      "text/plain": [
       "tensor(36935.3516, grad_fn=<AddBackward0>)"
      ]
     },
     "execution_count": 99,
     "metadata": {},
     "output_type": "execute_result"
    }
   ],
   "source": [
    "\n",
    "optimizer = LBFGS(params=(w,), lr=0.1, max_iter=1000,)\n",
    "\n",
    "# Solve the optimization problem\n",
    "def _optimizer_step():\n",
    "    # zero grad\n",
    "    w.grad = torch.zeros_like(w)\n",
    "    # evaluate loss\n",
    "    f = obj_fun(w, µ)\n",
    "    # calulate gradients\n",
    "    w.grad += autograd.grad(f, (w,), create_graph=False)[0]\n",
    "    return f\n",
    "\n",
    "f_min = optimizer.step(_optimizer_step,)\n",
    "f_min"
   ]
  },
  {
   "cell_type": "code",
   "execution_count": 100,
   "metadata": {},
   "outputs": [
    {
     "data": {
      "text/plain": [
       "tensor([-8.5120e-05, -1.6744e-04, -3.5456e-05, -2.1606e-04, -2.4921e-04,\n",
       "        -3.1336e-04, -3.0922e-04,  9.9240e-05, -5.2197e-05, -2.1088e-04])"
      ]
     },
     "execution_count": 100,
     "metadata": {},
     "output_type": "execute_result"
    }
   ],
   "source": [
    "w.grad"
   ]
  },
  {
   "cell_type": "code",
   "execution_count": 101,
   "metadata": {},
   "outputs": [],
   "source": [
    "µ.grad"
   ]
  },
  {
   "cell_type": "code",
   "execution_count": 102,
   "metadata": {},
   "outputs": [
    {
     "data": {
      "text/plain": [
       "tensor(2.0034, grad_fn=<NormBackward0>)"
      ]
     },
     "execution_count": 102,
     "metadata": {},
     "output_type": "execute_result"
    }
   ],
   "source": [
    "torch.norm(w_gt-w)"
   ]
  },
  {
   "cell_type": "code",
   "execution_count": null,
   "metadata": {},
   "outputs": [],
   "source": []
  },
  {
   "cell_type": "code",
   "execution_count": null,
   "metadata": {},
   "outputs": [],
   "source": []
  },
  {
   "cell_type": "code",
   "execution_count": null,
   "metadata": {},
   "outputs": [],
   "source": []
  },
  {
   "cell_type": "code",
   "execution_count": 19,
   "metadata": {},
   "outputs": [],
   "source": [
    "def solve_ls(A: Tensor, B: Tensor, abs: float = 1e-6, rel: float = 1e-6) -> Tensor:\n",
    "    \"\"\"\n",
    "    Solve least squares fit AX=B using SVD and returns X\n",
    "    :param abs: Absolute threshold to reject small eigenvalues.\n",
    "    :param rel: Relative threshold to reject small eigenvalues.\n",
    "    \"\"\"\n",
    "    U, S, V = torch.svd(A)\n",
    "    # th = max(rel * S[0].item(), abs)\n",
    "    th = torch.max(rel * S[..., 0], torch.tensor(abs))\n",
    "    Sinv = torch.where(S >= th, 1.0 / S, torch.zeros_like(S))\n",
    "    return V @ torch.diag(Sinv) @ (U.transpose(1, 0) @ B)\n"
   ]
  },
  {
   "cell_type": "code",
   "execution_count": null,
   "metadata": {},
   "outputs": [],
   "source": []
  },
  {
   "cell_type": "code",
   "execution_count": 20,
   "metadata": {},
   "outputs": [],
   "source": [
    "class ArgMinFunction(autograd.Function):\n",
    "    \n",
    "    @staticmethod\n",
    "    def forward(ctx, obj_fun, y, z):\n",
    "        \n",
    "        optimizer = LBFGS(params=(y,))\n",
    "        \n",
    "        # Solve the optimization problem\n",
    "        def _optimizer_step():\n",
    "            # zero gradients\n",
    "            y.grad = torch.zeros_like(y)\n",
    "            # evaluate loss\n",
    "            f = obj_fun(y, z)\n",
    "            # calculate gradients\n",
    "            δy = autograd.grad(f, (y,), create_graph=False,)[0]\n",
    "            # not calling backward() because we don't want to compute\n",
    "            # gradients for anything except y\n",
    "            y.grad += δy\n",
    "            return f\n",
    "        \n",
    "        f_min = optimizer.step(_optimizer_step,)\n",
    "        y_argmin = y # optimized in place\n",
    "        \n",
    "        ctx.save_for_backward(y_argmin, z)\n",
    "        ctx.obj_fun = obj_fun\n",
    "        \n",
    "        return y_argmin\n",
    "    \n",
    "    @staticmethod\n",
    "    def backward(ctx, grad_output):\n",
    "        y_argmin, z = ctx.saved_tensors\n",
    "        obj_fun = ctx.obj_fun\n",
    "        \n",
    "        print(f'*** Argmin Backward ***')\n",
    "        \n",
    "        # Hessians\n",
    "        H = hessian(obj_fun, inputs=(y_argmin, z), create_graph=False)\n",
    "        Hyy = K = H[0][0]\n",
    "        Hyz = R = H[0][1]\n",
    "        \n",
    "        print(f'{K.shape=}, {R.shape=}')\n",
    "        \n",
    "        # Now we need to calculate δz = -R^T K^-1 δy\n",
    "        # 1. Solve system for δu: K δu = δy\n",
    "        δy = grad_output\n",
    "        print(f'{δy.shape=}') \n",
    "        \n",
    "        δy = torch.reshape(δy, (-1, 1))\n",
    "        δu = solve_ls(K, δy) # solve_ls(A, B) solves A X = B\n",
    "            \n",
    "        print(f'{δu.shape=}') \n",
    "        \n",
    "        # 2. Calculate δz = -R^T δu\n",
    "        δz = -R.transpose(0, 1) @ δu\n",
    "        \n",
    "        δz = torch.reshape(δz, z.shape)\n",
    "        δy = torch.reshape(δy, y_argmin.shape)\n",
    "        \n",
    "        return None, δy, δz,\n",
    "    "
   ]
  },
  {
   "cell_type": "code",
   "execution_count": 21,
   "metadata": {},
   "outputs": [
    {
     "name": "stdout",
     "output_type": "stream",
     "text": [
      "w=tensor([17.0892, 54.7262,  4.3599, 62.8702, 93.1555, 71.7873, 87.2718, 10.2929,\n",
      "         3.9739, 70.8241], requires_grad=True)\n"
     ]
    },
    {
     "data": {
      "text/plain": [
       "tensor([17.0897, 54.7279,  4.3601, 62.8722, 93.1586, 71.7895, 87.2747, 10.2934,\n",
       "         3.9740, 70.8266], grad_fn=<ArgMinFunctionBackward>)"
      ]
     },
     "execution_count": 21,
     "metadata": {},
     "output_type": "execute_result"
    }
   ],
   "source": [
    "print(f'{w=}')\n",
    "w_argmin = ArgMinFunction.apply(obj_fun, w, µ)\n",
    "w_argmin"
   ]
  },
  {
   "cell_type": "code",
   "execution_count": 22,
   "metadata": {},
   "outputs": [
    {
     "data": {
      "text/plain": [
       "tensor(476.3669, grad_fn=<SumBackward0>)"
      ]
     },
     "execution_count": 22,
     "metadata": {},
     "output_type": "execute_result"
    }
   ],
   "source": [
    "l = torch.sum(w_argmin)\n",
    "l"
   ]
  },
  {
   "cell_type": "code",
   "execution_count": 23,
   "metadata": {},
   "outputs": [
    {
     "name": "stdout",
     "output_type": "stream",
     "text": [
      "w.grad=tensor([ 9.7351e-07, -2.9023e-06, -4.5134e-06,  3.6639e-07,  9.3856e-06,\n",
      "        -3.2128e-06, -1.0072e-05,  5.7760e-07, -4.4328e-06, -5.8208e-11])\n",
      "µ.grad=None\n"
     ]
    }
   ],
   "source": [
    "print(f'{w.grad=}')\n",
    "print(f'{µ.grad=}')"
   ]
  },
  {
   "cell_type": "code",
   "execution_count": 24,
   "metadata": {},
   "outputs": [
    {
     "name": "stdout",
     "output_type": "stream",
     "text": [
      "*** Argmin Backward ***\n",
      "K.shape=torch.Size([10, 10]), R.shape=torch.Size([10, 10])\n",
      "δy.shape=torch.Size([10])\n",
      "δu.shape=torch.Size([10, 1])\n"
     ]
    }
   ],
   "source": [
    "µ.grad=None\n",
    "w.grad=None\n",
    "l.backward()"
   ]
  },
  {
   "cell_type": "code",
   "execution_count": 25,
   "metadata": {},
   "outputs": [
    {
     "data": {
      "text/plain": [
       "tensor([-6.6035e-05, -3.6560e-05, -4.4205e-05,  2.3370e-05,  9.0174e-05,\n",
       "         6.6870e-05,  2.1953e-04, -1.1069e-05,  2.5596e-06,  2.6686e-05],\n",
       "       requires_grad=True)"
      ]
     },
     "execution_count": 25,
     "metadata": {},
     "output_type": "execute_result"
    }
   ],
   "source": [
    "µ"
   ]
  },
  {
   "cell_type": "code",
   "execution_count": 26,
   "metadata": {},
   "outputs": [
    {
     "data": {
      "text/plain": [
       "tensor([0., 0., 0., 0., 0., 0., 0., 0., 0., 0.])"
      ]
     },
     "execution_count": 26,
     "metadata": {},
     "output_type": "execute_result"
    }
   ],
   "source": [
    "µ.grad"
   ]
  },
  {
   "cell_type": "code",
   "execution_count": 27,
   "metadata": {},
   "outputs": [
    {
     "data": {
      "text/plain": [
       "tensor([1., 1., 1., 1., 1., 1., 1., 1., 1., 1.])"
      ]
     },
     "execution_count": 27,
     "metadata": {},
     "output_type": "execute_result"
    }
   ],
   "source": [
    "w.grad"
   ]
  },
  {
   "cell_type": "code",
   "execution_count": 28,
   "metadata": {},
   "outputs": [],
   "source": [
    "class BaseArgMinLayer(torch.nn.Module):\n",
    "    \n",
    "    def __init__(self, y: Tensor):\n",
    "        super().__init__()\n",
    "        self.y = torch.nn.Parameter(y, requires_grad=True)\n",
    "    \n",
    "    def obj_fun(self, y, z):\n",
    "        raise NotImplementedError(\"Should be overridden by subclass\")\n",
    "    \n",
    "    def forward(self, z: Tensor):\n",
    "        obj_fn = lambda y, z: self.obj_fun(y, z)\n",
    "        y_argmin = ArgMinFunction.apply(obj_fn, self.y, z)\n",
    "        return y_argmin\n",
    "    "
   ]
  },
  {
   "cell_type": "code",
   "execution_count": null,
   "metadata": {},
   "outputs": [],
   "source": []
  },
  {
   "cell_type": "code",
   "execution_count": 29,
   "metadata": {},
   "outputs": [],
   "source": [
    "import pandas as pd\n",
    "import numpy as np"
   ]
  },
  {
   "cell_type": "code",
   "execution_count": 30,
   "metadata": {},
   "outputs": [
    {
     "data": {
      "text/plain": [
       "(93612, 7)"
      ]
     },
     "execution_count": 30,
     "metadata": {},
     "output_type": "execute_result"
    }
   ],
   "source": [
    "stock_names = [\"AAPL\", \"GOOGL\", \"MSFT\", \"AMZN\"]\n",
    "df = pd.read_csv(\"DJIA_30/all_stocks_2006-01-01_to_2018-01-01.csv\")\n",
    "# df = df[df['Name'].isin(stock_names)]\n",
    "df.shape"
   ]
  },
  {
   "cell_type": "code",
   "execution_count": 31,
   "metadata": {},
   "outputs": [
    {
     "data": {
      "image/png": "[encoded data removed]",
      "text/plain": [
       "<Figure size 864x432 with 1 Axes>"
      ]
     },
     "metadata": {
      "needs_background": "light"
     },
     "output_type": "display_data"
    }
   ],
   "source": [
    "import matplotlib.dates as mdates\n",
    "from datetime import datetime\n",
    "\n",
    "fig, ax = plt.subplots(1, 1, figsize=(12, 6))\n",
    "ax.xaxis.set_major_locator(mdates.YearLocator())\n",
    "ax.xaxis.set_major_formatter(mdates.DateFormatter('%Y'))\n",
    "ax.xaxis.set_minor_locator(mdates.MonthLocator())\n",
    "for stock_name in stock_names:\n",
    "    df_stock = df[df['Name'] == stock_name]\n",
    "    df_stock_dates = [datetime.strptime(d,'%Y-%m-%d').date() for d in df_stock['Date']]\n",
    "    ax.plot(df_stock_dates, df_stock['Close'], label=stock_name)\n",
    "ax.set_ylabel('Close Price ($)'); ax.legend();"
   ]
  },
  {
   "cell_type": "code",
   "execution_count": 32,
   "metadata": {},
   "outputs": [
    {
     "data": {
      "text/plain": [
       "(torch.Size([2340, 1, 30]), torch.Size([2340, 1, 10]))"
      ]
     },
     "execution_count": 32,
     "metadata": {},
     "output_type": "execute_result"
    }
   ],
   "source": [
    "\n",
    "SEG_LEN = 40\n",
    "SEG_BASE = 30\n",
    "SEG_TARGET = SEG_LEN - SEG_BASE\n",
    "\n",
    "X = torch.tensor(df['Close'].values, dtype=torch.float)\n",
    "X = X[0:SEG_LEN*(X.shape[0]//SEG_LEN)]\n",
    "X = torch.reshape(X, (-1, 1, SEG_LEN)) # adding channel dimension\n",
    "X, Y = X[..., :SEG_BASE], X[..., SEG_BASE:]\n",
    "\n",
    "X.shape, Y.shape"
   ]
  },
  {
   "cell_type": "code",
   "execution_count": 33,
   "metadata": {},
   "outputs": [
    {
     "data": {
      "image/png": "[encoded data removed]",
      "text/plain": [
       "<Figure size 864x432 with 1 Axes>"
      ]
     },
     "metadata": {
      "needs_background": "light"
     },
     "output_type": "display_data"
    }
   ],
   "source": [
    "fig, ax = plt.subplots(1, 1, figsize=(12, 6))\n",
    "idx_perm = np.random.permutation(range(X.shape[0]))\n",
    "for i in range(10):\n",
    "    ax.semilogy(range(SEG_BASE), X[idx_perm[i], 0, :])\n",
    "    ax.semilogy(range(SEG_BASE, SEG_LEN), Y[idx_perm[i], 0, :])\n",
    "ax.grid();"
   ]
  },
  {
   "cell_type": "code",
   "execution_count": 34,
   "metadata": {},
   "outputs": [],
   "source": [
    "from torch.utils.data import TensorDataset, DataLoader"
   ]
  },
  {
   "cell_type": "code",
   "execution_count": 35,
   "metadata": {},
   "outputs": [],
   "source": [
    "ds = TensorDataset(X, Y)\n",
    "dl = DataLoader(ds, batch_size=8, shuffle=True)"
   ]
  },
  {
   "cell_type": "code",
   "execution_count": null,
   "metadata": {},
   "outputs": [],
   "source": []
  },
  {
   "cell_type": "code",
   "execution_count": 36,
   "metadata": {},
   "outputs": [],
   "source": [
    "class EncDec(torch.nn.Module):\n",
    "    def __init__(self, channels=[1, 4, 8], out_nl=True):\n",
    "        super().__init__()\n",
    "        \n",
    "        layers = []\n",
    "        channel_pairs = zip(channels[:-1], channels[1:])\n",
    "        for in_channels, out_channels in channel_pairs:\n",
    "            layers.extend([\n",
    "                torch.nn.Conv1d(\n",
    "                    in_channels, out_channels,\n",
    "                    kernel_size=3, padding=1, bias=True\n",
    "                ),\n",
    "                ELUCustom(alpha=0.5),\n",
    "            ])\n",
    "        if not out_nl:\n",
    "            layers = layers[:-1]\n",
    "            \n",
    "        self.layers = torch.nn.Sequential(*layers)\n",
    "        \n",
    "    def forward(self, x):\n",
    "        return self.layers(x)\n",
    "        "
   ]
  },
  {
   "cell_type": "code",
   "execution_count": 47,
   "metadata": {},
   "outputs": [
    {
     "data": {
      "text/plain": [
       "EncDec(\n",
       "  (layers): Sequential(\n",
       "    (0): Conv1d(1, 4, kernel_size=(3,), stride=(1,), padding=(1,))\n",
       "    (1): ELUCustom()\n",
       "    (2): Conv1d(4, 1, kernel_size=(3,), stride=(1,), padding=(1,))\n",
       "    (3): ELUCustom()\n",
       "  )\n",
       ")"
      ]
     },
     "execution_count": 47,
     "metadata": {},
     "output_type": "execute_result"
    }
   ],
   "source": [
    "enc = EncDec(channels=[1, 4, 1], out_nl=True)\n",
    "enc"
   ]
  },
  {
   "cell_type": "code",
   "execution_count": 48,
   "metadata": {},
   "outputs": [
    {
     "data": {
      "text/plain": [
       "torch.Size([8, 1, 30])"
      ]
     },
     "execution_count": 48,
     "metadata": {},
     "output_type": "execute_result"
    }
   ],
   "source": [
    "x0, y0 = next(iter(dl))\n",
    "x0.shape"
   ]
  },
  {
   "cell_type": "code",
   "execution_count": 49,
   "metadata": {},
   "outputs": [
    {
     "data": {
      "text/plain": [
       "torch.Size([8, 1, 30])"
      ]
     },
     "execution_count": 49,
     "metadata": {},
     "output_type": "execute_result"
    }
   ],
   "source": [
    "enc(x0).shape"
   ]
  },
  {
   "cell_type": "code",
   "execution_count": 64,
   "metadata": {},
   "outputs": [],
   "source": [
    "class Predictor(torch.nn.Module):\n",
    "    def __init__(self, postiction_len, prediction_len):\n",
    "        super().__init__()\n",
    "        self.postiction_len = postiction_len\n",
    "        self.prediction_len = prediction_len\n",
    "        self.w = torch.randn(1, postiction_len, prediction_len, requires_grad=True)\n",
    "    \n",
    "    def argmin_forward(w, x_emb):\n",
    "        pass\n",
    "    \n",
    "    def forward(self, x_emb):\n",
    "        # x_emb has shape (N, C, S)\n",
    "        \n",
    "        def _argmin_obj_fn(w, z):\n",
    "            emb_post = z[..., :self.postiction_len]\n",
    "            emb_post_target = z[..., self.postiction_len:]\n",
    "            return torch.mean((torch.matmul(emb_post, w) - emb_post_target)**2)\n",
    "        \n",
    "        # Solve optimization problem to find w*\n",
    "        w_opt = ArgMinFunction.apply(_argmin_obj_fn, self.w, x_emb)\n",
    "        \n",
    "        # Use w* to predict\n",
    "        x_emb_predict = x_emb[..., -self.postiction_len:]\n",
    "        return torch.matmul(x_emb_predict, w_opt)\n",
    "        "
   ]
  },
  {
   "cell_type": "code",
   "execution_count": 65,
   "metadata": {},
   "outputs": [],
   "source": [
    "pred = Predictor(postiction_len=SEG_BASE-10, prediction_len=SEG_TARGET)"
   ]
  },
  {
   "cell_type": "code",
   "execution_count": 66,
   "metadata": {},
   "outputs": [
    {
     "data": {
      "text/plain": [
       "torch.Size([8, 1, 10])"
      ]
     },
     "execution_count": 66,
     "metadata": {},
     "output_type": "execute_result"
    }
   ],
   "source": [
    "pred(enc(x0)).shape"
   ]
  },
  {
   "cell_type": "code",
   "execution_count": 67,
   "metadata": {},
   "outputs": [
    {
     "data": {
      "text/plain": [
       "EncDec(\n",
       "  (layers): Sequential(\n",
       "    (0): Conv1d(1, 4, kernel_size=(3,), stride=(1,), padding=(1,))\n",
       "    (1): ELUCustom()\n",
       "    (2): Conv1d(4, 1, kernel_size=(3,), stride=(1,), padding=(1,))\n",
       "  )\n",
       ")"
      ]
     },
     "execution_count": 67,
     "metadata": {},
     "output_type": "execute_result"
    }
   ],
   "source": [
    "dec = EncDec(channels=[1, 4, 1], out_nl=False)\n",
    "dec"
   ]
  },
  {
   "cell_type": "code",
   "execution_count": 68,
   "metadata": {},
   "outputs": [
    {
     "data": {
      "text/plain": [
       "torch.Size([8, 1, 10])"
      ]
     },
     "execution_count": 68,
     "metadata": {},
     "output_type": "execute_result"
    }
   ],
   "source": [
    "dec(pred(enc(x0))).shape"
   ]
  },
  {
   "cell_type": "code",
   "execution_count": 69,
   "metadata": {},
   "outputs": [
    {
     "data": {
      "text/plain": [
       "tensor(0.1775, grad_fn=<MeanBackward0>)"
      ]
     },
     "execution_count": 69,
     "metadata": {},
     "output_type": "execute_result"
    }
   ],
   "source": [
    "loss = torch.mean(dec(pred(enc(x0))))\n",
    "loss"
   ]
  },
  {
   "cell_type": "code",
   "execution_count": 70,
   "metadata": {},
   "outputs": [
    {
     "name": "stderr",
     "output_type": "stream",
     "text": [
      "<ipython-input-70-5323645efdc5>:1: UserWarning: Anomaly Detection has been enabled. This mode will increase the runtime and should only be enabled for debugging.\n",
      "  with autograd.detect_anomaly():\n"
     ]
    },
    {
     "name": "stdout",
     "output_type": "stream",
     "text": [
      "grad_elu.shape=torch.Size([8, 4, 10]), δ_elu.shape=torch.Size([8, 4, 10])\n",
      "*** Argmin Backward ***\n",
      "K.shape=torch.Size([1, 20, 10, 1, 20, 10]), R.shape=torch.Size([1, 20, 10, 8, 1, 30])\n",
      "δy.shape=torch.Size([1, 20, 10])\n"
     ]
    },
    {
     "ename": "RuntimeError",
     "evalue": "The size of tensor a (10) must match the size of tensor b (20) at non-singleton dimension 2",
     "output_type": "error",
     "traceback": [
      "\u001b[0;31m---------------------------------------------------------------------------\u001b[0m",
      "\u001b[0;31mRuntimeError\u001b[0m                              Traceback (most recent call last)",
      "\u001b[0;32m<ipython-input-70-5323645efdc5>\u001b[0m in \u001b[0;36m<module>\u001b[0;34m\u001b[0m\n\u001b[1;32m      1\u001b[0m \u001b[0;32mwith\u001b[0m \u001b[0mautograd\u001b[0m\u001b[0;34m.\u001b[0m\u001b[0mdetect_anomaly\u001b[0m\u001b[0;34m(\u001b[0m\u001b[0;34m)\u001b[0m\u001b[0;34m:\u001b[0m\u001b[0;34m\u001b[0m\u001b[0;34m\u001b[0m\u001b[0m\n\u001b[1;32m      2\u001b[0m     \u001b[0mloss\u001b[0m \u001b[0;34m=\u001b[0m \u001b[0mtorch\u001b[0m\u001b[0;34m.\u001b[0m\u001b[0mmean\u001b[0m\u001b[0;34m(\u001b[0m\u001b[0mdec\u001b[0m\u001b[0;34m(\u001b[0m\u001b[0mpred\u001b[0m\u001b[0;34m(\u001b[0m\u001b[0menc\u001b[0m\u001b[0;34m(\u001b[0m\u001b[0mx0\u001b[0m\u001b[0;34m)\u001b[0m\u001b[0;34m)\u001b[0m\u001b[0;34m)\u001b[0m\u001b[0;34m)\u001b[0m\u001b[0;34m\u001b[0m\u001b[0;34m\u001b[0m\u001b[0m\n\u001b[0;32m----> 3\u001b[0;31m     \u001b[0mloss\u001b[0m\u001b[0;34m.\u001b[0m\u001b[0mbackward\u001b[0m\u001b[0;34m(\u001b[0m\u001b[0;34m)\u001b[0m\u001b[0;34m\u001b[0m\u001b[0;34m\u001b[0m\u001b[0m\n\u001b[0m",
      "\u001b[0;32m~/miniconda3/envs/cs236781-tutorials/lib/python3.8/site-packages/torch/tensor.py\u001b[0m in \u001b[0;36mbackward\u001b[0;34m(self, gradient, retain_graph, create_graph)\u001b[0m\n\u001b[1;32m    183\u001b[0m                 \u001b[0mproducts\u001b[0m\u001b[0;34m.\u001b[0m \u001b[0mDefaults\u001b[0m \u001b[0mto\u001b[0m\u001b[0;31m \u001b[0m\u001b[0;31m`\u001b[0m\u001b[0;31m`\u001b[0m\u001b[0;32mFalse\u001b[0m\u001b[0;31m`\u001b[0m\u001b[0;31m`\u001b[0m\u001b[0;34m.\u001b[0m\u001b[0;34m\u001b[0m\u001b[0;34m\u001b[0m\u001b[0m\n\u001b[1;32m    184\u001b[0m         \"\"\"\n\u001b[0;32m--> 185\u001b[0;31m         \u001b[0mtorch\u001b[0m\u001b[0;34m.\u001b[0m\u001b[0mautograd\u001b[0m\u001b[0;34m.\u001b[0m\u001b[0mbackward\u001b[0m\u001b[0;34m(\u001b[0m\u001b[0mself\u001b[0m\u001b[0;34m,\u001b[0m \u001b[0mgradient\u001b[0m\u001b[0;34m,\u001b[0m \u001b[0mretain_graph\u001b[0m\u001b[0;34m,\u001b[0m \u001b[0mcreate_graph\u001b[0m\u001b[0;34m)\u001b[0m\u001b[0;34m\u001b[0m\u001b[0;34m\u001b[0m\u001b[0m\n\u001b[0m\u001b[1;32m    186\u001b[0m \u001b[0;34m\u001b[0m\u001b[0m\n\u001b[1;32m    187\u001b[0m     \u001b[0;32mdef\u001b[0m \u001b[0mregister_hook\u001b[0m\u001b[0;34m(\u001b[0m\u001b[0mself\u001b[0m\u001b[0;34m,\u001b[0m \u001b[0mhook\u001b[0m\u001b[0;34m)\u001b[0m\u001b[0;34m:\u001b[0m\u001b[0;34m\u001b[0m\u001b[0;34m\u001b[0m\u001b[0m\n",
      "\u001b[0;32m~/miniconda3/envs/cs236781-tutorials/lib/python3.8/site-packages/torch/autograd/__init__.py\u001b[0m in \u001b[0;36mbackward\u001b[0;34m(tensors, grad_tensors, retain_graph, create_graph, grad_variables)\u001b[0m\n\u001b[1;32m    123\u001b[0m         \u001b[0mretain_graph\u001b[0m \u001b[0;34m=\u001b[0m \u001b[0mcreate_graph\u001b[0m\u001b[0;34m\u001b[0m\u001b[0;34m\u001b[0m\u001b[0m\n\u001b[1;32m    124\u001b[0m \u001b[0;34m\u001b[0m\u001b[0m\n\u001b[0;32m--> 125\u001b[0;31m     Variable._execution_engine.run_backward(\n\u001b[0m\u001b[1;32m    126\u001b[0m         \u001b[0mtensors\u001b[0m\u001b[0;34m,\u001b[0m \u001b[0mgrad_tensors\u001b[0m\u001b[0;34m,\u001b[0m \u001b[0mretain_graph\u001b[0m\u001b[0;34m,\u001b[0m \u001b[0mcreate_graph\u001b[0m\u001b[0;34m,\u001b[0m\u001b[0;34m\u001b[0m\u001b[0;34m\u001b[0m\u001b[0m\n\u001b[1;32m    127\u001b[0m         allow_unreachable=True)  # allow_unreachable flag\n",
      "\u001b[0;31mRuntimeError\u001b[0m: The size of tensor a (10) must match the size of tensor b (20) at non-singleton dimension 2"
     ]
    }
   ],
   "source": [
    "with autograd.detect_anomaly():\n",
    "    loss = torch.mean(dec(pred(enc(x0))))\n",
    "    loss.backward()"
   ]
  },
  {
   "cell_type": "code",
   "execution_count": null,
   "metadata": {},
   "outputs": [],
   "source": []
  }
 ],
 "metadata": {
  "kernelspec": {
   "display_name": "Python 3",
   "language": "python",
   "name": "python3"
  },
  "language_info": {
   "codemirror_mode": {
    "name": "ipython",
    "version": 3
   },
   "file_extension": ".py",
   "mimetype": "text/x-python",
   "name": "python",
   "nbconvert_exporter": "python",
   "pygments_lexer": "ipython3",
   "version": "3.8.6"
  }
 },
 "nbformat": 4,
 "nbformat_minor": 4
}

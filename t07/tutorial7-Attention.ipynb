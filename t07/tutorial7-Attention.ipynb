{
 "cells": [
  {
   "cell_type": "markdown",
   "metadata": {
    "slideshow": {
     "slide_type": "slide"
    }
   },
   "source": [
    "$$\n",
    "\\newcommand{\\mat}[1]{\\boldsymbol {#1}}\n",
    "\\newcommand{\\mattr}[1]{\\boldsymbol {#1}^\\top}\n",
    "\\newcommand{\\matinv}[1]{\\boldsymbol {#1}^{-1}}\n",
    "\\newcommand{\\vec}[1]{\\boldsymbol {#1}}\n",
    "\\newcommand{\\vectr}[1]{\\boldsymbol {#1}^\\top}\n",
    "\\newcommand{\\rvar}[1]{\\mathrm {#1}}\n",
    "\\newcommand{\\rvec}[1]{\\boldsymbol{\\mathrm{#1}}}\n",
    "\\newcommand{\\diag}{\\mathop{\\mathrm {diag}}}\n",
    "\\newcommand{\\set}[1]{\\mathbb {#1}}\n",
    "\\newcommand{\\norm}[1]{\\left\\lVert#1\\right\\rVert}\n",
    "\\newcommand{\\pderiv}[2]{\\frac{\\partial #1}{\\partial #2}}\n",
    "\\newcommand{\\bb}[1]{\\boldsymbol{#1}}\n",
    "\\newcommand{\\Tr}[0]{^\\top}\n",
    "\\newcommand{\\softmax}[1]{\\mathrm{softmax}\\left({#1}\\right)}\n",
    "$$\n",
    "\n",
    "# CS236781: Deep Learning\n",
    "# Tutorial 7: Attention"
   ]
  },
  {
   "cell_type": "markdown",
   "metadata": {
    "slideshow": {
     "slide_type": "subslide"
    }
   },
   "source": [
    "## Introduction\n",
    "\n",
    "In this tutorial, we will cover:\n",
    "\n",
    "- Attention mechanisms\n",
    "- Sequence to sequence models for machine translation\n",
    "- Using attention for alignment"
   ]
  },
  {
   "cell_type": "code",
   "execution_count": 46,
   "metadata": {
    "slideshow": {
     "slide_type": "subslide"
    }
   },
   "outputs": [],
   "source": [
    "# Setup\n",
    "%matplotlib inline\n",
    "import os\n",
    "import sys\n",
    "import math\n",
    "import time\n",
    "import tqdm\n",
    "import torch\n",
    "import matplotlib.pyplot as plt"
   ]
  },
  {
   "cell_type": "code",
   "execution_count": 47,
   "metadata": {
    "slideshow": {
     "slide_type": "fragment"
    }
   },
   "outputs": [],
   "source": [
    "plt.rcParams['font.size'] = 20\n",
    "data_dir = os.path.expanduser('~/.pytorch-datasets')\n",
    "device = torch.device('cuda' if torch.cuda.is_available() else 'cpu')"
   ]
  },
  {
   "cell_type": "markdown",
   "metadata": {
    "slideshow": {
     "slide_type": "slide"
    }
   },
   "source": [
    "## Theory reminders"
   ]
  },
  {
   "cell_type": "markdown",
   "metadata": {},
   "source": [
    "### RNNs"
   ]
  },
  {
   "cell_type": "markdown",
   "metadata": {
    "slideshow": {
     "slide_type": "subslide"
    }
   },
   "source": [
    "In the context of learning from **sequences** of inputs, we have seen RNNs as a model capable of learning a transformation of one sequence into another."
   ]
  },
  {
   "cell_type": "markdown",
   "metadata": {
    "slideshow": {
     "slide_type": "subslide"
    }
   },
   "source": [
    "A two-layer basic RNN:\n",
    "\n",
    "<center><img src=\"img/rnn_layered.png\" width=\"900\" /></center>"
   ]
  },
  {
   "cell_type": "markdown",
   "metadata": {},
   "source": [
    "Where, for each layer $l\\geq 0$ (layer zero is the input) and \"time\" $t > 0$, a vanilla RNN is defined by:\n",
    "\n",
    "$$\n",
    "\\begin{align}\n",
    "\\vec{h}_t^l &= \\varphi_1\\left( \\mat{W}_{hh}^l \\vec{h}_{t-1}^l + \\mat{W}_{xh}^l \\vec{x}_t^{l-1} + \\vec{b}_h^l\\right) \\\\\n",
    "\\vec{x}_t^l &= \\varphi_2\\left(\\mat{W}_{hy}^l\\vec{h}_t^l + \\vec{b}_x^l \\right).\n",
    "\\end{align}\n",
    "$$"
   ]
  },
  {
   "cell_type": "markdown",
   "metadata": {},
   "source": [
    "Over time \"fancy\" versions of RNNs became popular, mainly LSTMs and more recently **GRU**s:\n",
    "\n",
    "<center><img src=\"img/GRU.png\" width=900 /></center>\n",
    "\n",
    "The main idea is to have \"soft-gates\" ($\\vec{r}_t$ and $\\vec{z}_t$) that control how much of the previous state ($\\vec{h}_{t-1}$) affects the next state $\\vec{h}_t$ relative to the proposed next state $\\tilde{\\vec{h}}_{t}$.\n",
    "\n",
    "In practice these model can be trained more effectively on longer sequences and therefore can model longer dependencies compared to vanilla RNNs."
   ]
  },
  {
   "cell_type": "markdown",
   "metadata": {},
   "source": [
    "However, RNNs (even the fancy ones) still generally have some major drawbacks:"
   ]
  },
  {
   "cell_type": "markdown",
   "metadata": {},
   "source": [
    "1. Input must be processed sequentially.\n",
    "2. Hard to train on long sequences (needs BPTT). LSTMs and GRUs don't suffer from vanishing gradients, but gradients explode.\n",
    "3. Difficult to learn long-term dependencies, e.g. between late outputs and early inputs. The **hidden state** has the burden of \"remembering\" the \"meaning\" of the entire sequence so far."
   ]
  },
  {
   "cell_type": "markdown",
   "metadata": {},
   "source": [
    "### Encoder-decoder architectures"
   ]
  },
  {
   "cell_type": "markdown",
   "metadata": {},
   "source": [
    "A common architecture used in many tasks is the encoder-decoder pattern.\n",
    "\n",
    "- The **encoder** maps the input to some latent representation, usually of a low dimension.\n",
    "- The **decoder** applies a different mapping, from the latent space to some other space (sometimes back to the input space)."
   ]
  },
  {
   "cell_type": "markdown",
   "metadata": {},
   "source": [
    "<center><img src=\"img/enc_dec.png\" width=700 /></center>"
   ]
  },
  {
   "cell_type": "markdown",
   "metadata": {},
   "source": [
    "Some common use cases are e.g.\n",
    "- Nonlinear dimentionality reduction: Autoencoders\n",
    "- Generative models: VAEs\n",
    "- Machine translation: Seq2Seq models"
   ]
  },
  {
   "cell_type": "markdown",
   "metadata": {},
   "source": [
    "### Attention"
   ]
  },
  {
   "cell_type": "markdown",
   "metadata": {},
   "source": [
    "In deep learning contexts, **attention** is a term used for a family of related mechanisms which, in general, learn to predict some probability distribution over a sequence of elements.\n",
    "\n",
    "Intuitively, this allows a model to \"pay more attention\" to elements from the sequence which get a higher probability."
   ]
  },
  {
   "cell_type": "markdown",
   "metadata": {},
   "source": [
    "Recent versions of attention mechanisms can be defined formally as follows:"
   ]
  },
  {
   "cell_type": "markdown",
   "metadata": {},
   "source": [
    "Given:\n",
    "- $n$ **key-value** pairs: $\\left\\{\\left(\\vec{k}_i, \\vec{v}_i\\right)\\right\\}_{i=1}^{n}$, where $\\vec{k}_i\\in\\set{R}^{d_k}$, $\\vec{v}_i\\in\\set{R}^{d_v}$\n",
    "- A **query**, $\\vec{q} \\in\\set{R}^{d_q}$\n",
    "- Some similarity (sometimes called *energy*) function between keys and queries, $e: \\set{R}^{d_k}\\times \\set{R}^{d_q} \\mapsto \\set{R}$"
   ]
  },
  {
   "cell_type": "markdown",
   "metadata": {},
   "source": [
    "A *soft*-attention mechanism computes a weighted sum of the **values**,\n",
    "\n",
    "$$\n",
    "\\vec{o} = \\sum_{i=1}^{n} a_i \\vec{v}_i\\ \\in \\set{R}^{d_v},\n",
    "$$"
   ]
  },
  {
   "cell_type": "markdown",
   "metadata": {},
   "source": [
    "where attention weights $a_i$ are computed according the the similarity between the **query** and each **key**:\n",
    "\n",
    "$$\n",
    "\\begin{align}\n",
    "b_i &= e(\\vec{k}_i, \\vec{q}) \\\\\n",
    "\\vec{b} &= \\left[  b_1, \\dots, b_n \\right]\\Tr \\\\\n",
    "\\vec{a} &= \\softmax{\\vec{b}}.\n",
    "\\end{align}\n",
    "$$\n"
   ]
  },
  {
   "cell_type": "markdown",
   "metadata": {},
   "source": [
    "It's also possible to define *hard*-attention by using the weights $\\vec{a}$ as a discrete distribution over the values, an sample a single $\\vec{v}_i$ from this distribution:\n",
    "\n",
    "$$\n",
    "\\vec{o} \\sim \\mathrm{Multinoulli}\\left(\\vec{a}; \\left\\{\\vec{v}_i\\right\\}_{i=1}^{n}\\right)\n",
    "$$\n",
    "\n",
    "In this case the attention output is stochastic."
   ]
  },
  {
   "cell_type": "markdown",
   "metadata": {},
   "source": [
    "A famous example of attention from an image-captioning paper ([Xu et al. 2015](http://proceedings.mlr.press/v37/xuc15.pdf)):\n",
    "<center><img src=\"img/xu2015_1.png\" width=\"1100\" /></center>"
   ]
  },
  {
   "cell_type": "markdown",
   "metadata": {},
   "source": [
    "Core ideas of this model:\n",
    "- Use pre-trained CNN  to extract `14x14` 512-dimensional convolutional feature maps from an image: \"location annotations\"\n",
    "- Train LSTM to generate image caption word by word\n",
    "- Learn to apply attention to the annotations (keys/values) based on LSTM hidden state (query)\n",
    "- Include the attention-weighted annotations in the next hidden state\n",
    "\n",
    "<center><img src=\"img/xu2015_2.png\" width=\"800\"/></center>"
   ]
  },
  {
   "cell_type": "markdown",
   "metadata": {},
   "source": [
    "### Multiplicative attention"
   ]
  },
  {
   "cell_type": "markdown",
   "metadata": {},
   "source": [
    "One basic type of attention mechanism uses a simple **dot product** as the similarity function.\n",
    "\n",
    "Widely-used by models based on the **Transformer** architecture."
   ]
  },
  {
   "cell_type": "markdown",
   "metadata": {},
   "source": [
    "Assume $d_k=d_q=d$, then\n",
    "\n",
    "$$\n",
    "e(\\vec{k},\\vec{q})= \\frac{\\vectr{k}\\vec{q}}{\\sqrt{d}}.\n",
    "$$"
   ]
  },
  {
   "cell_type": "markdown",
   "metadata": {},
   "source": [
    "Why scale by $\\sqrt{d}$ ?"
   ]
  },
  {
   "cell_type": "markdown",
   "metadata": {},
   "source": [
    "It's the factor at which the dot-product grows due to the dimensionality. E.g.,\n",
    "\n",
    "$$\n",
    "\\norm{\\vec{1}_d}_2 = \\norm{[1,\\dots,1]\\Tr}_2 = \\sqrt{d\\cdot 1^2} =\\sqrt{d}.\n",
    "$$\n",
    "\n",
    "This helps keep the softmax values from becoming very small when the dimension is large, and therefore helps prevent tiny gradients."
   ]
  },
  {
   "cell_type": "markdown",
   "metadata": {},
   "source": [
    "Let's now deal with $m$ queries simultaneously by stacking them in a matrix $\\mat{Q} \\in \\set{R}^{m\\times d}$."
   ]
  },
  {
   "cell_type": "markdown",
   "metadata": {},
   "source": [
    "Similarly, we'll stack the keys and values in their own matrices, $\\mat{K}\\in\\set{R}^{n\\times d}$, $\\mat{V}\\in\\set{R}^{n\\times d_v}$."
   ]
  },
  {
   "cell_type": "markdown",
   "metadata": {},
   "source": [
    "Then we can compute the attention weights for all queries in parallel:\n",
    "\n",
    "$$\n",
    "\\begin{align}\n",
    "\\mat{B} &= \\frac{1}{\\sqrt{d}} \\mat{Q}\\mattr{K}  \\ \\in\\set{R}^{m\\times n} \\\\\n",
    "\\mat{A} &= \\softmax{\\mat{B}},\\ \\mathrm{dim}=1 \\\\\n",
    "\\mat{O} &= \\mat{A}\\mat{V} \\ \\in\\set{R}^{m\\times d_v}.\n",
    "\\end{align}\n",
    "$$"
   ]
  },
  {
   "cell_type": "markdown",
   "metadata": {},
   "source": [
    "Note that the softmax is applied per-row, and so each row $i$ of $\\mat{A}$ contains the attention weights for the $i$th query."
   ]
  },
  {
   "cell_type": "markdown",
   "metadata": {},
   "source": [
    "Also notice that in this formulation, we **input a sequence** of $m$ queries and get an **output sequence** of $m$ weighed values."
   ]
  },
  {
   "cell_type": "markdown",
   "metadata": {},
   "source": [
    "### Additive attention"
   ]
  },
  {
   "cell_type": "markdown",
   "metadata": {},
   "source": [
    "Another common type of attention mechanism uses an MLP to **learn** the similarity function $s(\\vec{k},\\vec{q})$."
   ]
  },
  {
   "cell_type": "markdown",
   "metadata": {},
   "source": [
    "In this type of attention, the similarity function is \n",
    "\n",
    "$$\n",
    "e(\\vec{k},\\vec{q}) = \\vectr{v} \\tanh(\\mat{W}_k\\vec{k} + \\mat{W}_q\\vec{q}),\n",
    "$$\n",
    "\n",
    "where $\\mat{W}_k\\in\\set{R}^{h\\times d_k}$, $\\mat{W}_q\\in\\set{R}^{h\\times d_q}$ and $\\vec{v}\\in\\set{R}^{h}$ are trainable parameters."
   ]
  },
  {
   "cell_type": "markdown",
   "metadata": {},
   "source": [
    "- Notice that we're adding projected versions of the key and query and applying a 2-layer MLP.\n",
    "- Both projections and the output layer are trainable."
   ]
  },
  {
   "cell_type": "markdown",
   "metadata": {},
   "source": [
    "### Self-Attention"
   ]
  },
  {
   "cell_type": "markdown",
   "metadata": {},
   "source": [
    "Self-attention refers to applying attention on a **single sequence**  $\\left\\{\\vec{x}_i\\right\\}_{i=1}^{n}$ of elements.\n",
    "\n",
    "The keys, values and queries are either:\n",
    "- The elements themselves\n",
    "- Computed from them with **learned** linear projections, i.e.\n",
    "$$\n",
    "\\begin{align*}\n",
    "\\vec{q}_{i} &= \\mat{W}_{xq}\\vec{x}_{i} &\n",
    "\\vec{k}_{i} &= \\mat{W}_{xk}\\vec{x}_{i} &\n",
    "\\vec{v}_{i} &= \\mat{W}_{xv}\\vec{x}_{i} \n",
    "\\end{align*}\n",
    "$$\n",
    "This is what Transformer models do for Seq2Seq, instead of using RNNs."
   ]
  },
  {
   "cell_type": "markdown",
   "metadata": {},
   "source": [
    "For example, the following image depicts multiplicative self-attention transforming the sequence $\\left\\{\\vec{x}_i\\right\\}_{i=1}^{n}$ into the sequence $\\left\\{\\vec{y}_i\\right\\}_{i=1}^{n}$.\n",
    "\n",
    "<center><img src=\"img/self_attn_transformer.svg\" width=600></center>"
   ]
  },
  {
   "cell_type": "markdown",
   "metadata": {},
   "source": [
    "## Part 1: Sequence-to-Sequence Machine Translation"
   ]
  },
  {
   "cell_type": "markdown",
   "metadata": {},
   "source": [
    "In this part we'll translate text from German to English.\n",
    "\n",
    "The general approach using RNNs is to design a Sequence-to-sequence (**Seq2Seq**) Encoder-Decoder architecture:"
   ]
  },
  {
   "cell_type": "markdown",
   "metadata": {},
   "source": [
    "<center><img src=\"img/seq2seq1.png\" width=\"900\" /></center>"
   ]
  },
  {
   "cell_type": "markdown",
   "metadata": {},
   "source": [
    "- The encoder processes the source sequence\n",
    "- The final encoder hidden state represents the entire source sequence\n",
    "- This representation is passed to the decoder as it's initial hidden state\n",
    "- During training the decoder is fed with the target sequence\n",
    "- Both parts are trained together, end to end\n",
    "\n",
    "We'll implement this idea roughly based on [Sutskever et al. (2014)](https://arxiv.org/abs/1409.3215)."
   ]
  },
  {
   "cell_type": "markdown",
   "metadata": {},
   "source": [
    "BTW, is this encoder-decoder model also a **Generative** model?\n",
    "\n",
    "I.e., can we use this model, once trained, to generate coherent sentences in English?"
   ]
  },
  {
   "cell_type": "markdown",
   "metadata": {},
   "source": [
    "Theoretically we could... If we could somehow engineer the initial context vector.\n",
    "But how can we **sample** such an input context vector?\n",
    "\n",
    "In practice, without enforcing some kind of constraints on $z$, we can't."
   ]
  },
  {
   "cell_type": "markdown",
   "metadata": {},
   "source": [
    "### Dataset\n",
    "\n",
    "We'll use the [Multi30K](https://www.statmt.org/wmt16/multimodal-task.html) Multimodal Dataset, which contains 30K images and sentences describing them in both German and English. We'll only use the textual data.\n",
    "\n",
    "The `torchtext` package provides us with a convenient way to load our dataset."
   ]
  },
  {
   "cell_type": "code",
   "execution_count": 89,
   "metadata": {},
   "outputs": [],
   "source": [
    "from torchtext.datasets import Multi30k\n",
    "from torchtext.data import Field\n",
    "\n",
    "# Common args for field objects\n",
    "field_args = dict(tokenize='spacy',\n",
    "                  init_token='<sos>',\n",
    "                  eos_token='<eos>',\n",
    "                  include_lengths=True,\n",
    "                  lower=True) \n",
    "\n",
    "# Field for processing German source\n",
    "src_field = Field(tokenizer_language=\"de_core_news_sm\", **field_args)\n",
    "\n",
    "# Field for processing English target\n",
    "tgt_field = Field(tokenizer_language=\"en_core_web_sm\", **field_args)"
   ]
  },
  {
   "cell_type": "code",
   "execution_count": 90,
   "metadata": {},
   "outputs": [],
   "source": [
    "ds_train, ds_valid, ds_test = Multi30k.splits(\n",
    "    root=data_dir, exts=('.de', '.en'), fields=(src_field, tgt_field)\n",
    ")\n",
    "\n",
    "VOCAB_MIN_FREQ = 2 # ignore very rare words to decrease vocab size\n",
    "src_field.build_vocab(ds_train, min_freq=VOCAB_MIN_FREQ)\n",
    "tgt_field.build_vocab(ds_train, min_freq=VOCAB_MIN_FREQ)"
   ]
  },
  {
   "cell_type": "code",
   "execution_count": 91,
   "metadata": {},
   "outputs": [
    {
     "name": "stdout",
     "output_type": "stream",
     "text": [
      "#train samples:  29000\n",
      "#valid samples:  1014\n",
      "#test  samples:  1000\n"
     ]
    }
   ],
   "source": [
    "print('#train samples: ', len(ds_train))\n",
    "print('#valid samples: ', len(ds_valid))\n",
    "print('#test  samples: ', len(ds_test))"
   ]
  },
  {
   "cell_type": "code",
   "execution_count": 92,
   "metadata": {},
   "outputs": [
    {
     "name": "stdout",
     "output_type": "stream",
     "text": [
      "source vocab size: 7855\n",
      "target vocab size: 5893\n"
     ]
    }
   ],
   "source": [
    "V_src = len(src_field.vocab)\n",
    "print(f'source vocab size: {V_src}')\n",
    "\n",
    "V_tgt = len(tgt_field.vocab)\n",
    "print(f'target vocab size: {V_tgt}')"
   ]
  },
  {
   "cell_type": "markdown",
   "metadata": {},
   "source": [
    "Let's print a few random samples from the dataset:"
   ]
  },
  {
   "cell_type": "code",
   "execution_count": 93,
   "metadata": {
    "slideshow": {
     "slide_type": "fragment"
    }
   },
   "outputs": [
    {
     "name": "stdout",
     "output_type": "stream",
     "text": [
      "sample#26597:\n",
      "\tDE: ein mann in einem gestreiften oberteil , mit weste , krawatte und hut schenkt sich bowle auf einer großen schüssel ein .\n",
      "\tEN: a man in a striped shirt , vest , tie , and hat is serving himself punch from a large bowl .\n",
      "sample#24399:\n",
      "\tDE: ein junge in schwarz winkt mit den armen , während sich andere menschen hinter ihm auf einem feld aufhalten .\n",
      "\tEN: a boy in black waves his arms while other people are behind him on a field .\n",
      "sample#18896:\n",
      "\tDE: schüler verbringen ihre pausen im freien und genießen die gesellschaft der anderen .\n",
      "\tEN: student spend their breaks outside enjoying each others company .\n",
      "sample#21597:\n",
      "\tDE: zwei männer sitzen auf einer bank , wobei einer der männer seinen kopf in seinen schoß gelegt und einen großen gelben sack neben sich stehen hat .\n",
      "\tEN: two men sitting on a bench where one has his head in his lap and a large yellow bag next to him .\n",
      "sample#07312:\n",
      "\tDE: drei kinder skaten auf einer rollschuhbahn .\n",
      "\tEN: three children are skating on a rollerskating rink .\n"
     ]
    }
   ],
   "source": [
    "import random\n",
    "for _ in range(5):\n",
    "    i = random.randrange(len(ds_train))\n",
    "    example = ds_train[i]\n",
    "    src = str.join(\" \", example.src)\n",
    "    tgt = str.join(\" \", example.trg)\n",
    "    print(f'sample#{i:05d}:\\n\\tDE: {src}\\n\\tEN: {tgt}')"
   ]
  },
  {
   "cell_type": "markdown",
   "metadata": {},
   "source": [
    "Remember that we're using a **tokenizer** which assigned a number to each token (~=word), and creates some **special tokens**:"
   ]
  },
  {
   "cell_type": "code",
   "execution_count": 94,
   "metadata": {},
   "outputs": [
    {
     "name": "stdout",
     "output_type": "stream",
     "text": [
      "DE top30: ['<unk>', '<pad>', '<sos>', '<eos>', '.', 'ein', 'einem', 'in', 'eine', ',', 'und', 'mit', 'auf', 'mann', 'einer', 'der', 'frau', 'die', 'zwei', 'einen', 'im', 'an', 'von', 'sich', 'dem', 'mädchen', 'junge', 'vor', 'zu', 'steht']\n",
      "\n",
      "EN top30: ['<unk>', '<pad>', '<sos>', '<eos>', 'a', '.', 'in', 'the', 'on', 'man', 'is', 'and', 'of', 'with', 'woman', ',', 'two', 'are', 'to', 'people', 'at', 'an', 'wearing', 'shirt', 'young', 'white', 'black', 'his', 'while', 'blue']\n",
      "\n"
     ]
    }
   ],
   "source": [
    "topn = 30\n",
    "print(f'DE top{topn}: {src_field.vocab.itos[0:topn]}\\n')\n",
    "print(f'EN top{topn}: {tgt_field.vocab.itos[0:topn]}\\n')"
   ]
  },
  {
   "cell_type": "code",
   "execution_count": 95,
   "metadata": {},
   "outputs": [
    {
     "name": "stdout",
     "output_type": "stream",
     "text": [
      "<unk>=0, <pad>=1\n"
     ]
    }
   ],
   "source": [
    "UNK_TOKEN = tgt_field.vocab.stoi['<unk>']\n",
    "PAD_TOKEN = tgt_field.vocab.stoi['<pad>']\n",
    "\n",
    "print(f'<unk>={UNK_TOKEN}, <pad>={PAD_TOKEN}')"
   ]
  },
  {
   "cell_type": "markdown",
   "metadata": {},
   "source": [
    "Let's create a data loader and look at the generated batches."
   ]
  },
  {
   "cell_type": "code",
   "execution_count": 96,
   "metadata": {},
   "outputs": [],
   "source": [
    "from torchtext.data import BucketIterator\n",
    "\n",
    "BATCH_SIZE = 4\n",
    "dl_train, dl_valid, dl_test = BucketIterator.splits((ds_train, ds_valid, ds_test), batch_size = BATCH_SIZE)"
   ]
  },
  {
   "cell_type": "code",
   "execution_count": 97,
   "metadata": {},
   "outputs": [
    {
     "name": "stdout",
     "output_type": "stream",
     "text": [
      "x0 (S1, B):\n",
      " tensor([[   2,    2,    2,    2],\n",
      "        [  18,    5,    8,    8],\n",
      "        [  65,   13,   16,   16],\n",
      "        [   9,   68,   37,   11],\n",
      "        [  44,    8,   19,   14],\n",
      "        [ 271,    0,  870,   71],\n",
      "        [   9,  254,   10,   89],\n",
      "        [  44,   63,  134,   31],\n",
      "        [ 173,    9,  722,   10],\n",
      "        [ 358, 7432,    7,   38],\n",
      "        [   9,   84,   81, 1186],\n",
      "        [3786,   20,   10,    4],\n",
      "        [1291,   86,  464,    3],\n",
      "        [  19,   28,  100,    1],\n",
      "        [ 356,  144,  690,    1],\n",
      "        [ 273,    4, 2753,    1],\n",
      "        [ 937,    3,   28,    1],\n",
      "        [   4,    1,  187,    1],\n",
      "        [   3,    1,    4,    1],\n",
      "        [   1,    1,    3,    1]]) torch.Size([20, 4])\n",
      "x0_len (B,):\n",
      " tensor([19, 17, 20, 13]) torch.Size([4])\n",
      "y0 (S2, B)):\n",
      " tensor([[   2,    2,    2,    2],\n",
      "        [  16,    4,    4,    4],\n",
      "        [  63,    9,   14,   14],\n",
      "        [  15,   10,   10,   13],\n",
      "        [  46,  169,   45,    4],\n",
      "        [   6,    4,  517,   26],\n",
      "        [  31, 2445,   11,   81],\n",
      "        [  15,   68,   44,   32],\n",
      "        [  46,   69,  286,   40],\n",
      "        [   6,    4,   11,   28],\n",
      "        [  26,  162,  477,   37],\n",
      "        [  15,   15,   18,    4],\n",
      "        [ 416,  757,  247, 1033],\n",
      "        [  40,  401,   56,    5],\n",
      "        [   4, 2496,   54,    3],\n",
      "        [  95,    7,  290,    1],\n",
      "        [ 222,   98,    5,    1],\n",
      "        [ 274,    5,    3,    1],\n",
      "        [  58,    3,    1,    1],\n",
      "        [ 244,    1,    1,    1],\n",
      "        [1056,    1,    1,    1],\n",
      "        [   5,    1,    1,    1],\n",
      "        [   3,    1,    1,    1]]) torch.Size([23, 4])\n",
      "y0_len: (B,)\n",
      " tensor([23, 19, 18, 15]) torch.Size([4])\n"
     ]
    }
   ],
   "source": [
    "# dataloader returns a Batch object with .src and .trg attributes\n",
    "b0 = next(iter(dl_train))\n",
    "\n",
    "# The .src/.trg attributes contain tuples of sequences and their lengths\n",
    "# Get batches of sequences \n",
    "x0, x0_len = b0.src\n",
    "y0, y0_len =  b0.trg\n",
    "\n",
    "print('x0 (S1, B):\\n', x0, x0.shape)\n",
    "print('x0_len (B,):\\n', x0_len, x0_len.shape)\n",
    "print('y0 (S2, B)):\\n', y0, y0.shape)\n",
    "print('y0_len: (B,)\\n', y0_len, y0_len.shape)"
   ]
  },
  {
   "cell_type": "markdown",
   "metadata": {},
   "source": [
    "### Model"
   ]
  },
  {
   "cell_type": "markdown",
   "metadata": {},
   "source": [
    "Our *encoder* needs to be very simple. \n",
    "- Embed each source-language token in the sequence into a dense vector representation\n",
    "- Feed the sequence through an RNN (we'll use a multilayer GRU)\n",
    "- Output the final hidden states from each layer\n",
    "\n",
    "Note that we also return the intermediate hidden stated from the last layer. We'll need these later."
   ]
  },
  {
   "cell_type": "code",
   "execution_count": 98,
   "metadata": {
    "slideshow": {
     "slide_type": "fragment"
    }
   },
   "outputs": [],
   "source": [
    "import torch.nn as nn\n",
    "\n",
    "class Seq2SeqEncoder(nn.Module):\n",
    "    def __init__(self, vocab_size, embedding_dim, num_layers, h_dim, dropout=0.2):\n",
    "        super().__init__()\n",
    "        \n",
    "        # nn.Embedding converts from token index to dense tensor\n",
    "        self.embedding = nn.Embedding(vocab_size, embedding_dim)\n",
    "        \n",
    "        # PyTorch multilayer GRU RNN\n",
    "        self.rnn = nn.GRU(embedding_dim, h_dim, num_layers=num_layers, dropout=dropout)\n",
    "        \n",
    "        # Encoder has no output layer; we just return hidden states.\n",
    "        \n",
    "    def forward(self, x, **kw):\n",
    "        # x shape: (S, B) Note batch dim is not first!\n",
    "        S, B = x.shape\n",
    "        embedded = self.embedding(x) # embedded shape: (S, B, E)\n",
    "        \n",
    "        # GRU first  output: all hidden states from last layer (S, B, H)\n",
    "        # GRU second output: last hidden state from each layer (L, B, H)\n",
    "        h, ht = self.rnn(embedded)\n",
    "        return h, ht"
   ]
  },
  {
   "cell_type": "markdown",
   "metadata": {},
   "source": [
    "Test the encoder with a batch of German sentences:"
   ]
  },
  {
   "cell_type": "code",
   "execution_count": 99,
   "metadata": {},
   "outputs": [
    {
     "name": "stdout",
     "output_type": "stream",
     "text": [
      "h (S1, B, H): torch.Size([20, 4, 64])\n",
      "ht (L, B, H): torch.Size([2, 4, 64])\n"
     ]
    }
   ],
   "source": [
    "EMB_DIM = 128\n",
    "HID_DIM = 64\n",
    "NUM_LAYERS = 2\n",
    "\n",
    "enc = Seq2SeqEncoder(V_src, EMB_DIM, NUM_LAYERS, HID_DIM)\n",
    "h, ht = enc(x0)\n",
    "print(f'h (S1, B, H): {h.shape}')\n",
    "print(f'ht (L, B, H): {ht.shape}')"
   ]
  },
  {
   "cell_type": "markdown",
   "metadata": {},
   "source": [
    "Now the *decoder*. We need to:\n",
    "- Embed target-language tokens\n",
    "- Apply RNN to the sequence, with initial hidden state from encoder\n",
    "- Output is projection of intermediate hidden states from last layer to target-language tokens"
   ]
  },
  {
   "cell_type": "code",
   "execution_count": 100,
   "metadata": {},
   "outputs": [],
   "source": [
    "class Seq2SeqDecoder(nn.Module):\n",
    "    def __init__(self, vocab_size, embedding_dim, num_layers, h_dim, dropout=0.2):\n",
    "        super().__init__()\n",
    "        \n",
    "        # nn.Embedding converts from token index to dense tensor\n",
    "        self.embedding = nn.Embedding(vocab_size, embedding_dim)\n",
    "        \n",
    "        # PyTorch multilayer GRU RNN\n",
    "        self.rnn = nn.GRU(embedding_dim, h_dim, num_layers=num_layers, dropout=dropout)\n",
    "        \n",
    "        # Output layer, note the output dimension!\n",
    "        self.out_fc = nn.Linear(h_dim, vocab_size)\n",
    "        \n",
    "    def forward(self, x, context, **kw):\n",
    "        # x shape: (S, B)\n",
    "        # context: (L, B, H) the last hidden state from the encoder\n",
    "        S, B = x.shape\n",
    "        embedded = self.embedding(x) # embedded shape: (S, B, E)\n",
    "        \n",
    "        # Note initial hidden state is the input context vector\n",
    "        # h:  all hidden states from last layer (S, B, H)\n",
    "        # ht: last hidden state from each layer (L, B, H)\n",
    "        h, ht = self.rnn(embedded, context)\n",
    "        \n",
    "        # Project H back to the vocab size V, to get a score per word\n",
    "        out = self.out_fc(h)\n",
    "        \n",
    "        # Out shapes: (S, B, V) and (L, B, H)\n",
    "        return out, ht"
   ]
  },
  {
   "cell_type": "markdown",
   "metadata": {},
   "source": [
    "Test the decoder with the corresponding batch of English sentences:"
   ]
  },
  {
   "cell_type": "code",
   "execution_count": 101,
   "metadata": {},
   "outputs": [
    {
     "name": "stdout",
     "output_type": "stream",
     "text": [
      "yhat (S2, B, V_tgt): torch.Size([23, 4, 5893])\n"
     ]
    }
   ],
   "source": [
    "dec = Seq2SeqDecoder(V_tgt, EMB_DIM, NUM_LAYERS, HID_DIM)\n",
    "yhat, _ = dec(y0, ht) # note different S\n",
    "print(f'yhat (S2, B, V_tgt): {yhat.shape}')"
   ]
  },
  {
   "cell_type": "markdown",
   "metadata": {},
   "source": [
    "Next, we'll implement a `Seq2Seq` class to handle the combined forward pass through both the encoder and decoder.\n",
    "\n",
    "During the forward pass, we'll take a source and target sequence and:\n",
    "- Forward the source sequence through the encoder, obtaining the final hidden state.\n",
    "- For the decider, we'll either do:\n",
    "    - Teacher forcing: Feed the decoder tokens from the target sequence one by one.\n",
    "    - Greedy prediction: Use the decoder's output to predict the most likely next token, and feed it."
   ]
  },
  {
   "cell_type": "markdown",
   "metadata": {},
   "source": [
    "Teacher forcing:\n",
    "<center><img src=\"img/seq2seq.svg\" width=\"900\"></center>"
   ]
  },
  {
   "cell_type": "markdown",
   "metadata": {},
   "source": [
    "Greedy prediction:\n",
    "<center><img src=\"img/seq2seq_predict.svg\" width=\"900\"></center>"
   ]
  },
  {
   "cell_type": "markdown",
   "metadata": {},
   "source": [
    "Not that obviously in both cases the target sequence is still used to compute the loss.\n",
    "\n",
    "Teacher forcing can speed up training, but it can hurt generalization. We'll take a probabilistic approach:\n",
    "- Use teacher forcing with some probability $p_\\mathrm{tf}$.\n",
    "- Start $p_\\mathrm{tf}$ high and decrease each epoch.\n",
    "- When evaluating, set $p_\\mathrm{tf}=0$."
   ]
  },
  {
   "cell_type": "code",
   "execution_count": 102,
   "metadata": {},
   "outputs": [],
   "source": [
    "class Seq2Seq(nn.Module):\n",
    "    def __init__(self, encoder: Seq2SeqEncoder, decoder: Seq2SeqDecoder):\n",
    "        super().__init__()\n",
    "        self.enc = encoder\n",
    "        self.dec = decoder\n",
    "    \n",
    "    def forward(self, x_src, x_tgt, p_tf=0, **kw):\n",
    "        # input shapes: (S1, B), (S2, B)\n",
    "        # p_tf: probaility of teacher-forcing decoder input. Zero means greedy-search prediction.\n",
    "        S2, B = x_tgt.shape\n",
    "        \n",
    "        # Forward pass through encoder\n",
    "        # context is (L, B, H)\n",
    "        enc_h, context = self.enc(x_src, **kw)\n",
    "        \n",
    "        # First input is first target token\n",
    "        dec_input = x_tgt[[0], :] # (1, B)\n",
    "        # Loop over tokens in target sequence and feed them to the decoder\n",
    "        dec_outputs = []\n",
    "        for t in range(1, S2):\n",
    "            # Feed the decoder sequences of length 1 & save new context\n",
    "            dec_output, context = self.dec(dec_input, context, enc_h=enc_h, **kw) # dec_output is (1, B, V)\n",
    "            dec_outputs.append(dec_output)\n",
    "            \n",
    "            # For next input, take either:\n",
    "            # - next target token (AKA \"teacher forcing\"), with proba p_tf\n",
    "            # - highest scoring output (greedy prediction of next token), with proba 1-p_tf\n",
    "            if p_tf > torch.rand(1).item():\n",
    "                dec_input = x_tgt[[t], :] # (1, B)\n",
    "            else:\n",
    "                dec_input = torch.argmax(dec_output, dim=2) # (1,B,V) -> (1, B)\n",
    "            \n",
    "        # Stack decoder outputs from all timesteps\n",
    "        y_hat = torch.cat(dec_outputs, dim=0) # (S-1)x(1,B,V) -> (S-1,B,V)\n",
    "        \n",
    "        # Output shape: (S-1, B, V)\n",
    "        return y_hat"
   ]
  },
  {
   "cell_type": "markdown",
   "metadata": {},
   "source": [
    "Test the `Seq2Seq` model:"
   ]
  },
  {
   "cell_type": "code",
   "execution_count": 103,
   "metadata": {},
   "outputs": [
    {
     "name": "stdout",
     "output_type": "stream",
     "text": [
      "y_hat (S-1, B, V_tgt): torch.Size([22, 4, 5893])\n"
     ]
    }
   ],
   "source": [
    "seq2seq_model = Seq2Seq(enc, dec)\n",
    "yhat = seq2seq_model(x0, y0)\n",
    "print('y_hat (S-1, B, V_tgt):', yhat.shape)"
   ]
  },
  {
   "cell_type": "markdown",
   "metadata": {},
   "source": [
    "### Training and evaluation"
   ]
  },
  {
   "cell_type": "markdown",
   "metadata": {},
   "source": [
    "The training logic is fairly standard, with only a few nuances:\n",
    "- Notice that the output sequence is shorter than the ground truth due to the `<sos>` token\n",
    "- Clip gradient norm to prevent exploding grads\n",
    "- When computing the loss, we'll use Cross Entropy, but ignore the `<pad>` tokens\n",
    "\n",
    "The following code trains the model for a **single epoch**:"
   ]
  },
  {
   "cell_type": "code",
   "execution_count": 104,
   "metadata": {},
   "outputs": [],
   "source": [
    "def train_seq2seq(model, dl_train, optimizer, loss_fn, p_tf=1., clip_grad=1., max_batches=None):\n",
    "    losses = []\n",
    "    with tqdm.tqdm(total=(max_batches if max_batches else len(dl_train)), file=sys.stdout) as pbar:\n",
    "        for idx_batch, batch in enumerate(dl_train, start=1):\n",
    "            x, x_len = batch.src\n",
    "            y, y_len =  batch.trg\n",
    "\n",
    "            # Forward pass: encoder and decoder\n",
    "            # Output y_hat is the translated sequence\n",
    "            y_hat = model(x, y, p_tf, src_len=x_len)\n",
    "            S, B, V = y_hat.shape\n",
    "\n",
    "            # y[:,i] is <sos>, w_1, w_2, ..., w_k, <eos>, <pad>, ...\n",
    "            # y_hat is   w_1', w_2', ..., w_k', <eos>', <pad>', ...\n",
    "            # based on the above, get ground truth y\n",
    "            y_gt = y[1:, :].reshape(S*B)  # drop <sos>\n",
    "            y_hat = y_hat.reshape(S*B, V)\n",
    "\n",
    "            # Calculate loss compared to ground truth y\n",
    "            optimizer.zero_grad()\n",
    "            loss = loss_fn(y_hat, y_gt)\n",
    "            loss.backward()\n",
    "\n",
    "            # Prevent exploding gradients\n",
    "            if clip_grad > 0:\n",
    "                torch.nn.utils.clip_grad_norm_(model.parameters(), clip_grad)\n",
    "\n",
    "            # Update parameters\n",
    "            optimizer.step()\n",
    "\n",
    "            losses.append(loss.item())\n",
    "            pbar.update(); pbar.set_description(f'train loss={losses[-1]:.3f}')\n",
    "            if max_batches and idx_batch >= max_batches:\n",
    "                break\n",
    "    return losses"
   ]
  },
  {
   "cell_type": "markdown",
   "metadata": {},
   "source": [
    "In evaluation mode, we do roughly the same, but make sure to not use teacher forcing.\n",
    "\n",
    "Note that in the context of machine translation, usually a different accuracy metric is used (BLEU score), instead of simple token-based accuracy. Here we just use a function from the `nltk` package to calculate it."
   ]
  },
  {
   "cell_type": "code",
   "execution_count": 105,
   "metadata": {},
   "outputs": [],
   "source": [
    "import numpy as np\n",
    "from nltk.translate.bleu_score import sentence_bleu\n",
    "\n",
    "def eval_seq2seq(model, dl_test):\n",
    "    accuracies = []\n",
    "    bleus = []\n",
    "    with tqdm.tqdm(total=len(dl_test), file=sys.stdout) as pbar:\n",
    "        for idx_batch, batch in enumerate(dl_test):\n",
    "            x, x_len = batch.src\n",
    "            y, y_len =  batch.trg\n",
    "\n",
    "            with torch.no_grad():\n",
    "                y_hat = model(x, y, p_tf=0, src_len=x_len)  # Note: no teacher forcing in eval\n",
    "\n",
    "            S, B, V = y_hat.shape\n",
    "\n",
    "            y_gt = y[1:, :] # drop <sos>\n",
    "            y_hat = torch.argmax(y_hat, dim=2) # greedy-sample -> (S,B)\n",
    "\n",
    "            # Compare prediction to ground truth\n",
    "            accuracies.append(torch.sum(y_gt == y_hat) / S)\n",
    "            bleus.append(np.mean([\n",
    "                sentence_bleu([y_gt[:, i]], y_hat[:, i]) for i in range(B)\n",
    "            ]))\n",
    "\n",
    "            pbar.update(); pbar.set_description(f'eval acc={accuracies[-1]}')\n",
    "    return accuracies, bleus"
   ]
  },
  {
   "cell_type": "markdown",
   "metadata": {},
   "source": [
    "Lets run training on a small model for a few epochs, just to see if it trains."
   ]
  },
  {
   "cell_type": "code",
   "execution_count": 106,
   "metadata": {},
   "outputs": [
    {
     "name": "stdout",
     "output_type": "stream",
     "text": [
      "=== EPOCH 1/2, p_tf=1.00 ===\n",
      "train loss=5.250: 100%|██████████| 25/25 [00:21<00:00,  1.16it/s]\n",
      "eval acc=9: 100%|██████████| 8/8 [00:02<00:00,  3.70it/s] \n",
      "=== EPOCH 2/2, p_tf=0.95 ===\n",
      "train loss=5.106: 100%|██████████| 25/25 [00:20<00:00,  1.20it/s]\n",
      "eval acc=10: 100%|██████████| 8/8 [00:02<00:00,  3.85it/s]\n"
     ]
    }
   ],
   "source": [
    "BATCH_SIZE = 128\n",
    "# Use small model so that training is fast, just an example\n",
    "EMB_DIM = 64\n",
    "HID_DIM = 128\n",
    "NUM_LAYERS = 3\n",
    "GRAD_CLIP = 1.\n",
    "EPOCHS = 2\n",
    "BATCHES_PER_EPOCH=25\n",
    "\n",
    "dl_train, dl_valid, dl_test = BucketIterator.splits((ds_train, ds_valid, ds_test), batch_size=BATCH_SIZE)\n",
    "\n",
    "enc = Seq2SeqEncoder(V_src, EMB_DIM, NUM_LAYERS, HID_DIM)\n",
    "dec = Seq2SeqDecoder(V_tgt, EMB_DIM, NUM_LAYERS, HID_DIM)\n",
    "seq2seq_model = Seq2Seq(enc, dec)\n",
    "\n",
    "optimizer = torch.optim.Adam(seq2seq_model.parameters(), lr=1e-2)\n",
    "\n",
    "# Note: We don't compute loss from padding tokens!\n",
    "loss_fn = nn.CrossEntropyLoss(ignore_index=PAD_TOKEN)\n",
    "\n",
    "losses = []\n",
    "accuracies = []\n",
    "for idx_epoch in range(EPOCHS):\n",
    "    # Linearly decay amount of teacher forcing for the first 20 epochs (example)\n",
    "    p_tf = 1 - min((idx_epoch / 20), 1)\n",
    "    \n",
    "    print(f'=== EPOCH {idx_epoch+1}/{EPOCHS}, p_tf={p_tf:.2f} ===')\n",
    "    losses += train_seq2seq(seq2seq_model, dl_train, optimizer, loss_fn, p_tf, GRAD_CLIP, BATCHES_PER_EPOCH)\n",
    "    accuracies += eval_seq2seq(seq2seq_model, dl_valid)[0]"
   ]
  },
  {
   "cell_type": "code",
   "execution_count": 107,
   "metadata": {},
   "outputs": [
    {
     "data": {
      "image/png": "[encoded data removed]",
      "text/plain": [
       "<Figure size 1080x360 with 2 Axes>"
      ]
     },
     "metadata": {
      "needs_background": "light"
     },
     "output_type": "display_data"
    }
   ],
   "source": [
    "fig, ax = plt.subplots(nrows=1, ncols=2, figsize=(15,5))\n",
    "ax[0].plot(losses); ax[0].set_title('train loss'); ax[0].set_xlabel('iteration'); ax[0].grid(True)\n",
    "ax[1].plot(accuracies); ax[1].set_title('eval accuracy'); ax[1].set_xlabel('iteration'); ax[1].grid(True)"
   ]
  },
  {
   "cell_type": "code",
   "execution_count": null,
   "metadata": {},
   "outputs": [],
   "source": [
    " "
   ]
  },
  {
   "cell_type": "markdown",
   "metadata": {},
   "source": [
    "<center><img src=\"img/sutskever2014_pca.png\", width=\"1000\"></center>"
   ]
  },
  {
   "cell_type": "code",
   "execution_count": null,
   "metadata": {},
   "outputs": [],
   "source": []
  },
  {
   "cell_type": "markdown",
   "metadata": {},
   "source": [
    "It seems to work; perhaps with a few days of GPU-based training we can get some decent results."
   ]
  },
  {
   "cell_type": "markdown",
   "metadata": {},
   "source": [
    "Limitation: In this architecture the encoder's **last** hidden state must encode all the information the decoder needs for translation.\n",
    "\n",
    "**Local** information, i.e. the encoder outputs and intermediate hidden states is discarded.\n",
    "\n",
    "Can we use this local info to help the decoder?"
   ]
  },
  {
   "cell_type": "markdown",
   "metadata": {
    "slideshow": {
     "slide_type": "slide"
    }
   },
   "source": [
    "## Part 2: Attention"
   ]
  },
  {
   "cell_type": "markdown",
   "metadata": {},
   "source": [
    "Now we'll add attention to our model in order to use the encoders intermediate information. This will allow our decoder to **focus** on different parts of the **source** sequence while it's generating the target sequence.\n",
    "\n",
    "The approach here is based on the classic paper \"Neural Machine Translation by Jointly Learning to Align and Translate\" by [Bahdanau et al.](http://arxiv.org/abs/1409.0473) (ICLR, 2015)."
   ]
  },
  {
   "cell_type": "markdown",
   "metadata": {},
   "source": [
    "To start, lets first implement an additive attention block using a 2-layer MLP."
   ]
  },
  {
   "cell_type": "markdown",
   "metadata": {},
   "source": [
    "As we saw previously, in this type of attention the similarity function is \n",
    "\n",
    "$$\n",
    "e(\\vec{k},\\vec{q}) = \\vectr{v} \\tanh(\\mat{W}_k\\vec{k} + \\mat{W}_q\\vec{q}),\n",
    "$$\n",
    "\n",
    "where $\\mat{W}_k\\in\\set{R}^{h\\times d_k}$, $\\mat{W}_q\\in\\set{R}^{h\\times d_q}$ and $\\vec{v}\\in\\set{R}^{h}$ are trainable parameters."
   ]
  },
  {
   "cell_type": "code",
   "execution_count": 108,
   "metadata": {},
   "outputs": [],
   "source": [
    "from torch import Tensor\n",
    "class MLPAttention(nn.Module):\n",
    "    def __init__(self, q_dim, k_dim, v_dim, h_dim):\n",
    "        super().__init__()\n",
    "        self.wk = nn.Linear(k_dim, h_dim, bias=False)\n",
    "        self.wq = nn.Linear(q_dim, h_dim, bias=False)\n",
    "        self.v  = nn.Linear(h_dim, 1, bias=False)\n",
    "        \n",
    "    def forward(self, q: Tensor, k: Tensor, v: Tensor, seq_len: Tensor=None):\n",
    "        # q: Queries tensor of shape (B, Q, q_dim)\n",
    "        # k: Keys tensor of shape (B, K, k_dim)\n",
    "        # v: Values tensor of shape (B, K, v_dim)\n",
    "        # seq_len: Sequence lengths tensor of shape (B,).\n",
    "        \n",
    "        # Project keys to hidden dimension\n",
    "        # (B, K, k_dim) -> (B, K, h_dim) -> (B, 1, K, h_dim)\n",
    "        wk_k = self.wk(k).unsqueeze(1)\n",
    "        \n",
    "        # Project queries to hidden dimension\n",
    "        # (B, Q, q_dim)  -> (B, Q, h_dim)  -> (B, Q, 1, h_dim)\n",
    "        wq_q = self.wq(q).unsqueeze(2)\n",
    "        \n",
    "        # First layer of MLP: Use broadcast-addition to combine, then apply nonlinearity\n",
    "        # (B, Q, K, h_dim)\n",
    "        z1 = torch.tanh(wq_q + wk_k)\n",
    "        \n",
    "        # Second layer of MLP\n",
    "        # (B, Q, K, 1) -> (B, Q, K)\n",
    "        z2 = self.v(z1).squeeze(dim=-1)\n",
    "        \n",
    "        # Mask z2 before applying softmax: only seq_len keys are non-padding in each of the B samples\n",
    "        if seq_len is not None:\n",
    "            B, Q, K = z2.shape\n",
    "            idx = torch.arange(K).expand_as(z2)    # (B,Q,K) containing indices 0..K-1\n",
    "            mask = idx >= seq_len.reshape(B, 1, 1) # mask selects indices greater than seq_len\n",
    "            z2[mask] = float('-inf')               # set selected to -inf to prevent influence on softmax\n",
    "        \n",
    "        # Apply softmax on last dimension to get attention weights\n",
    "        a = torch.softmax(z2, dim=-1)\n",
    "        \n",
    "        # Apply the attention weights to the values, per query\n",
    "        # (B, Q, K) * (B, K, v_dim) -> (B, Q, v_dim)\n",
    "        return torch.bmm(a, v)"
   ]
  },
  {
   "cell_type": "markdown",
   "metadata": {},
   "source": [
    "To test the attention block, lets create some simple queries and key-value pairs."
   ]
  },
  {
   "cell_type": "code",
   "execution_count": 109,
   "metadata": {},
   "outputs": [
    {
     "name": "stdout",
     "output_type": "stream",
     "text": [
      "q (B, Q, q_dim):\n",
      " tensor([[[1., 1., 1.]],\n",
      "\n",
      "        [[1., 1., 1.]]])\n"
     ]
    }
   ],
   "source": [
    "# Create one query of dim 3 (but in a batch of 2)\n",
    "q = torch.ones((2, 1, 3), dtype=torch.float)\n",
    "print('q (B, Q, q_dim):\\n', q)"
   ]
  },
  {
   "cell_type": "code",
   "execution_count": 111,
   "metadata": {},
   "outputs": [
    {
     "name": "stdout",
     "output_type": "stream",
     "text": [
      "k (B, K, k_dim):\n",
      " tensor([[[1., 1.],\n",
      "         [1., 1.],\n",
      "         [1., 1.],\n",
      "         [1., 1.]],\n",
      "\n",
      "        [[1., 1.],\n",
      "         [1., 1.],\n",
      "         [1., 1.],\n",
      "         [1., 1.]]])\n",
      "v (B, K, v_dim):\n",
      " tensor([[[ 0.,  4.,  8., 12., 16.],\n",
      "         [ 1.,  5.,  9., 13., 17.],\n",
      "         [ 2.,  6., 10., 14., 18.],\n",
      "         [ 3.,  7., 11., 15., 19.]],\n",
      "\n",
      "        [[20., 24., 28., 32., 36.],\n",
      "         [21., 25., 29., 33., 37.],\n",
      "         [22., 26., 30., 34., 38.],\n",
      "         [23., 27., 31., 35., 39.]]])\n"
     ]
    }
   ],
   "source": [
    "# Create 4 key-value pairs\n",
    "k = torch.ones(2, 4, 2, dtype=torch.float)\n",
    "print('k (B, K, k_dim):\\n', k)\n",
    "v = torch.arange(40, dtype=torch.float).reshape(2, 5, 4).transpose(1, 2)\n",
    "print('v (B, K, v_dim):\\n', v)"
   ]
  },
  {
   "cell_type": "code",
   "execution_count": 112,
   "metadata": {},
   "outputs": [],
   "source": [
    "attn = MLPAttention(q_dim=3, k_dim=2, v_dim=5, h_dim=100)"
   ]
  },
  {
   "cell_type": "code",
   "execution_count": 113,
   "metadata": {},
   "outputs": [
    {
     "name": "stdout",
     "output_type": "stream",
     "text": [
      "tensor([[[ 1.5000,  5.5000,  9.5000, 13.5000, 17.5000]],\n",
      "\n",
      "        [[21.5000, 25.5000, 29.5000, 33.5000, 37.5000]]],\n",
      "       grad_fn=<BmmBackward>)\n",
      "(B, Q, v_dim) = torch.Size([2, 1, 5])\n"
     ]
    }
   ],
   "source": [
    "o = attn(q, k, v, seq_len=None)\n",
    "print(o)\n",
    "print(f'(B, Q, v_dim) = {o.shape}')"
   ]
  },
  {
   "cell_type": "markdown",
   "metadata": {},
   "source": [
    "Output is a sequence of length 1 because we had one query.\n",
    "\n",
    "Notice that the result is an average of the values, since all keys are equally similar to the query."
   ]
  },
  {
   "cell_type": "markdown",
   "metadata": {},
   "source": [
    "Let's try with `seq_len=1`, i.e. only the first token in the input is considered valid (not padding):"
   ]
  },
  {
   "cell_type": "code",
   "execution_count": 27,
   "metadata": {},
   "outputs": [
    {
     "data": {
      "text/plain": [
       "tensor([[[ 0.,  4.,  8., 12., 16.]],\n",
       "\n",
       "        [[20., 24., 28., 32., 36.]]], grad_fn=<BmmBackward>)"
      ]
     },
     "execution_count": 27,
     "metadata": {},
     "output_type": "execute_result"
    }
   ],
   "source": [
    "attn(q, k, v, seq_len=torch.tensor([1, 1]))"
   ]
  },
  {
   "cell_type": "markdown",
   "metadata": {},
   "source": [
    "Since `seq_len=1`, the output exactly equals the first value `v[:,0,:]` since only it received nonzero attention."
   ]
  },
  {
   "cell_type": "markdown",
   "metadata": {},
   "source": [
    "Now lets use `seq_len` to take the first two values in the first example, and all values in the second example."
   ]
  },
  {
   "cell_type": "code",
   "execution_count": 115,
   "metadata": {},
   "outputs": [
    {
     "data": {
      "text/plain": [
       "tensor([[[ 0.5000,  4.5000,  8.5000, 12.5000, 16.5000]],\n",
       "\n",
       "        [[21.5000, 25.5000, 29.5000, 33.5000, 37.5000]]],\n",
       "       grad_fn=<BmmBackward>)"
      ]
     },
     "execution_count": 115,
     "metadata": {},
     "output_type": "execute_result"
    }
   ],
   "source": [
    "attn(q, k, v, seq_len=torch.tensor([2, 4]))"
   ]
  },
  {
   "cell_type": "markdown",
   "metadata": {},
   "source": [
    "We can see the first result is the average of the first two values, and the second result is the average of all four."
   ]
  },
  {
   "cell_type": "markdown",
   "metadata": {},
   "source": [
    "How should we use attention to allow the decoder to focus on different parts on the input?"
   ]
  },
  {
   "cell_type": "markdown",
   "metadata": {},
   "source": [
    "- We'll treat the encoder's outputs (last layer hidden states) as both keys and values.\n",
    "- We'll use the decoder's hidden state as a query at each time step.\n",
    "- The attention output will therefore be a weighed average of the encoder outputs most matching the current decoder state.\n",
    "- The output will be treated as a **context**, and concatenated to the decoder input in the next time step."
   ]
  },
  {
   "cell_type": "markdown",
   "metadata": {},
   "source": [
    "<center><img src=\"img/seq2seq_attention.svg\" width=1000></center>"
   ]
  },
  {
   "cell_type": "markdown",
   "metadata": {},
   "source": [
    "To do this, we only need to modify our `Seq2SeqDecoder` class. The rest can stay the same."
   ]
  },
  {
   "cell_type": "code",
   "execution_count": 118,
   "metadata": {},
   "outputs": [],
   "source": [
    "class Seq2SeqDecoderAttn(nn.Module):\n",
    "    def __init__(self, vocab_size, embedding_dim, num_layers, h_dim, dropout=0.2):\n",
    "        super().__init__()\n",
    "        self.embedding = nn.Embedding(vocab_size, embedding_dim)\n",
    "        \n",
    "        # The Q, K, V dims are all h_dim because of how we parametrized encoder and decoder\n",
    "        self.attn = MLPAttention(h_dim, h_dim, h_dim, h_dim)\n",
    "        \n",
    "        # Note: GRU input dim now includes both embedding and attention output!\n",
    "        self.rnn = nn.GRU(embedding_dim + h_dim*num_layers, h_dim, num_layers=num_layers, dropout=dropout)\n",
    "        \n",
    "        self.out_fc = nn.Linear(h_dim, vocab_size)\n",
    "        \n",
    "    def forward(self, x, h_prev, enc_h, src_len, **kw):\n",
    "        # x shape: (S, B)\n",
    "        # h_prev: (L, B, H) the initial/previous hidden state\n",
    "        # enc_h: (S, B, H) all outputs from encoder (key-values for attention)\n",
    "        # src_len: (B,) the length without padding of the encoder's sequence\n",
    "        S, B = x.shape\n",
    "        embedded = self.embedding(x) # embedded shape: (S, B, E)\n",
    "        \n",
    "        # Apply attention: Query is prev hidden state; key/vals are enc outputs without positions of padding\n",
    "        q  = h_prev.transpose(0, 1)    # (B, L, H)\n",
    "        kv = enc_h.transpose(0, 1) # (B, S, H)\n",
    "        a  = self.attn(q, kv, kv, seq_len=src_len)  # (B, L, H)\n",
    "        \n",
    "        # Create RNN input by concatenating attention-based context with the embedded inputs\n",
    "        # Note that when used with Seq2Seq we have S=1 so the expand is not needed\n",
    "        # (L, B, H) -> (1, B, L*H) -> (S, B, L*H)\n",
    "        a = a.reshape(1, B, -1).expand(S, -1, -1)\n",
    "        rnn_input = torch.cat((embedded, a), dim=2) # (S, B, E + L*H)\n",
    "        \n",
    "        h, ht = self.rnn(rnn_input, h_prev)\n",
    "        \n",
    "        # Project H back to the vocab size V, to get a score per word\n",
    "        out = self.out_fc(h)\n",
    "        \n",
    "        # Out shapes: (S, B, V) and (L, B, H)\n",
    "        return out, ht"
   ]
  },
  {
   "cell_type": "code",
   "execution_count": null,
   "metadata": {},
   "outputs": [],
   "source": []
  },
  {
   "cell_type": "code",
   "execution_count": 119,
   "metadata": {},
   "outputs": [
    {
     "name": "stdout",
     "output_type": "stream",
     "text": [
      "=== EPOCH 1/2, p_tf=1.00 ===\n",
      "train loss=5.316: 100%|██████████| 25/25 [00:41<00:00,  1.66s/it]\n",
      "eval acc=4: 100%|██████████| 8/8 [00:03<00:00,  2.39it/s] \n",
      "=== EPOCH 2/2, p_tf=0.95 ===\n",
      "train loss=5.276: 100%|██████████| 25/25 [00:42<00:00,  1.71s/it]\n",
      "eval acc=9: 100%|██████████| 8/8 [00:03<00:00,  2.58it/s] \n"
     ]
    }
   ],
   "source": [
    "BATCH_SIZE = 128\n",
    "# Use small model so that training is fast, just an example\n",
    "EMB_DIM = 64\n",
    "HID_DIM = 128\n",
    "NUM_LAYERS = 3\n",
    "GRAD_CLIP = 1.\n",
    "EPOCHS = 2\n",
    "BATCHES_PER_EPOCH=25\n",
    "\n",
    "dl_train, dl_valid, dl_test = BucketIterator.splits((ds_train, ds_valid, ds_test), batch_size=BATCH_SIZE)\n",
    "\n",
    "enc = Seq2SeqEncoder(V_src, EMB_DIM, NUM_LAYERS, HID_DIM)\n",
    "dec = Seq2SeqDecoderAttn(V_tgt, EMB_DIM, NUM_LAYERS, HID_DIM)\n",
    "seq2seq_model = Seq2Seq(enc, dec)\n",
    "\n",
    "optimizer = torch.optim.Adam(seq2seq_model.parameters(), lr=1e-2)\n",
    "\n",
    "# Note: We don't compute loss from padding tokens!\n",
    "loss_fn = nn.CrossEntropyLoss(ignore_index=PAD_TOKEN)\n",
    "\n",
    "losses = []\n",
    "accuracies = []\n",
    "for idx_epoch in range(EPOCHS):\n",
    "    # Linearly decay amount of teacher forcing fro the first 10 epochs (example)\n",
    "    p_tf = 1 - min((idx_epoch / 20), 1)\n",
    "    \n",
    "    print(f'=== EPOCH {idx_epoch+1}/{EPOCHS}, p_tf={p_tf:.2f} ===')\n",
    "    losses += train_seq2seq(seq2seq_model, dl_train, optimizer, loss_fn, p_tf, GRAD_CLIP, BATCHES_PER_EPOCH)\n",
    "    accuracies += eval_seq2seq(seq2seq_model, dl_valid)"
   ]
  },
  {
   "cell_type": "code",
   "execution_count": 120,
   "metadata": {},
   "outputs": [
    {
     "data": {
      "image/png": "[encoded data removed]",
      "text/plain": [
       "<Figure size 1080x360 with 2 Axes>"
      ]
     },
     "metadata": {
      "needs_background": "light"
     },
     "output_type": "display_data"
    }
   ],
   "source": [
    "fig, ax = plt.subplots(nrows=1, ncols=2, figsize=(15,5))\n",
    "ax[0].plot(losses); ax[0].set_title('train loss'); ax[0].set_xlabel('iteration'); ax[0].grid(True)\n",
    "ax[1].plot(accuracies); ax[1].set_title('eval accuracy'); ax[1].set_xlabel('iteration'); ax[1].grid(True)"
   ]
  },
  {
   "cell_type": "code",
   "execution_count": null,
   "metadata": {},
   "outputs": [],
   "source": []
  },
  {
   "cell_type": "markdown",
   "metadata": {},
   "source": [
    "<center><img src=\"img/bahdanau2015.png\", width=\"1000\"></center>"
   ]
  },
  {
   "cell_type": "code",
   "execution_count": null,
   "metadata": {},
   "outputs": [],
   "source": []
  },
  {
   "cell_type": "code",
   "execution_count": null,
   "metadata": {},
   "outputs": [],
   "source": []
  },
  {
   "cell_type": "markdown",
   "metadata": {
    "slideshow": {
     "slide_type": "skip"
    }
   },
   "source": [
    "**Image credits**\n",
    "\n",
    "Some images in this tutorial were taken and/or adapted from:\n",
    "\n",
    "- K. Xu et al. 2015, http://proceedings.mlr.press/v37/xuc15.html\n",
    "- Sutskever et al. 2014, https://arxiv.org/abs/1409.3215\n",
    "- Zhang et al., Dive into Deep Learning, 2019\n",
    "- Peter Bloem, http://www.peterbloem.nl/blog/transformers\n",
    "- Chris Olah, https://colah.github.io/posts/2015-08-Understanding-LSTMs/\n",
    "- Ben Trevett, http://bentrevett.com\n",
    "- MIT 6.S191"
   ]
  }
 ],
 "metadata": {
  "kernelspec": {
   "display_name": "Python 3",
   "language": "python",
   "name": "python3"
  },
  "language_info": {
   "codemirror_mode": {
    "name": "ipython",
    "version": 3
   },
   "file_extension": ".py",
   "mimetype": "text/x-python",
   "name": "python",
   "nbconvert_exporter": "python",
   "pygments_lexer": "ipython3",
   "version": "3.7.5"
  },
  "toc-autonumbering": false
 },
 "nbformat": 4,
 "nbformat_minor": 4
}

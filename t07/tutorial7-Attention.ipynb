{
 "cells": [
  {
   "cell_type": "markdown",
   "metadata": {
    "slideshow": {
     "slide_type": "slide"
    }
   },
   "source": [
    "$$\n",
    "\\newcommand{\\mat}[1]{\\boldsymbol {#1}}\n",
    "\\newcommand{\\mattr}[1]{\\boldsymbol {#1}^\\top}\n",
    "\\newcommand{\\matinv}[1]{\\boldsymbol {#1}^{-1}}\n",
    "\\newcommand{\\vec}[1]{\\boldsymbol {#1}}\n",
    "\\newcommand{\\vectr}[1]{\\boldsymbol {#1}^\\top}\n",
    "\\newcommand{\\rvar}[1]{\\mathrm {#1}}\n",
    "\\newcommand{\\rvec}[1]{\\boldsymbol{\\mathrm{#1}}}\n",
    "\\newcommand{\\diag}{\\mathop{\\mathrm {diag}}}\n",
    "\\newcommand{\\set}[1]{\\mathbb {#1}}\n",
    "\\newcommand{\\norm}[1]{\\left\\lVert#1\\right\\rVert}\n",
    "\\newcommand{\\pderiv}[2]{\\frac{\\partial #1}{\\partial #2}}\n",
    "\\newcommand{\\bb}[1]{\\boldsymbol{#1}}\n",
    "\\newcommand{\\Tr}[0]{^\\top}\n",
    "\\newcommand{\\softmax}[1]{\\mathrm{softmax}\\left({#1}\\right)}\n",
    "$$\n",
    "\n",
    "# CS236781: Deep Learning\n",
    "# Tutorial 7: Attention"
   ]
  },
  {
   "cell_type": "markdown",
   "metadata": {
    "slideshow": {
     "slide_type": "subslide"
    }
   },
   "source": [
    "## Introduction\n",
    "\n",
    "In this tutorial, we will cover:\n",
    "\n",
    "- Sequence to sequence models for machine translation\n",
    "- Attention mechanisms"
   ]
  },
  {
   "cell_type": "code",
   "execution_count": 141,
   "metadata": {
    "slideshow": {
     "slide_type": "subslide"
    }
   },
   "outputs": [],
   "source": [
    "# Setup\n",
    "%matplotlib inline\n",
    "import os\n",
    "import sys\n",
    "import math\n",
    "import time\n",
    "import tqdm\n",
    "import torch\n",
    "import matplotlib.pyplot as plt"
   ]
  },
  {
   "cell_type": "code",
   "execution_count": 2,
   "metadata": {
    "slideshow": {
     "slide_type": "fragment"
    }
   },
   "outputs": [],
   "source": [
    "plt.rcParams['font.size'] = 20\n",
    "data_dir = os.path.expanduser('~/.pytorch-datasets')\n",
    "device = torch.device('cuda' if torch.cuda.is_available() else 'cpu')"
   ]
  },
  {
   "cell_type": "markdown",
   "metadata": {
    "slideshow": {
     "slide_type": "slide"
    }
   },
   "source": [
    "## Theory reminders"
   ]
  },
  {
   "cell_type": "markdown",
   "metadata": {},
   "source": [
    "### RNNs"
   ]
  },
  {
   "cell_type": "markdown",
   "metadata": {
    "slideshow": {
     "slide_type": "subslide"
    }
   },
   "source": [
    "In the context of learning from **sequences** of inputs, we have seen RNNs as a model capable of learning a transformation of one sequence into another.\n",
    "\n",
    "<center><img src=\"img/rnn_unrolled.png\" width=\"1000\" /></center>\n"
   ]
  },
  {
   "cell_type": "markdown",
   "metadata": {},
   "source": [
    "Where,\n",
    "\n",
    "$$\n",
    "\\begin{align}\n",
    "\\forall t \\geq 0:\\\\\n",
    "\\vec{h}_t &= \\varphi_h\\left( \\mat{W}_{hh} \\vec{h}_{t-1} + \\mat{W}_{xh} \\vec{x}_t + \\vec{b}_h\\right) \\\\\n",
    "\\vec{y}_t &= \\varphi_y\\left(\\mat{W}_{hy}\\vec{h}_t + \\vec{b}_y \\right)\n",
    "\\end{align}\n",
    "$$"
   ]
  },
  {
   "cell_type": "markdown",
   "metadata": {},
   "source": [
    "However, RNNs (even the fancy ones) have some major drawbacks:"
   ]
  },
  {
   "cell_type": "markdown",
   "metadata": {},
   "source": [
    "1. Input must be processed sequentially.\n",
    "2. Hard to train on long sequences (needs BPTT).\n",
    "3. Difficult to learn long-term dependencies, e.g. between late outputs and early inputs. The **hidden state** has the burden of \"remembering\" the \"meaning\" of the entire sequence so far."
   ]
  },
  {
   "cell_type": "markdown",
   "metadata": {},
   "source": [
    "Over time \"fancy\" versions of RNNs became popular, mainly LSTMs and more recently **GRU**s:\n",
    "\n",
    "<center><img src=\"img/GRU.png\" width=800 /></center>\n",
    "\n",
    "The main idea is to have \"soft-gates\" ($\\vec{r}_t$ and $\\vec{z}_t$) that control how much of the previous state ($\\vec{h}_{t-1}$) affects the next state $\\vec{h}_t$ relative to the proposed next state $\\tilde{\\vec{h}}_{t}$.\n",
    "\n",
    "In practice these model can be trained more effectively on longer sequences and therefore can model longer dependencies compared to vanilla RNNs."
   ]
  },
  {
   "cell_type": "markdown",
   "metadata": {},
   "source": [
    "### Encoder-decoder architectures"
   ]
  },
  {
   "cell_type": "markdown",
   "metadata": {},
   "source": [
    "A common architecture used in many tasks is the encoder-decoder pattern.\n",
    "\n",
    "- The **encoder** maps the input to some latent representation, usually of a low dimension.\n",
    "- The **decoder** applies a different mapping, from the latent space to some other space (sometimes back to the input space)."
   ]
  },
  {
   "cell_type": "markdown",
   "metadata": {},
   "source": [
    "<center><img src=\"img/enc_dec.png\" width=700 /></center>"
   ]
  },
  {
   "cell_type": "markdown",
   "metadata": {},
   "source": [
    "Some common use cases are e.g.\n",
    "- Nonlinear dimentionality reduction: Autoencoders\n",
    "- Generative models: VAEs, GANs\n",
    "- Machine translation: Seq2Seq models"
   ]
  },
  {
   "cell_type": "markdown",
   "metadata": {},
   "source": [
    "### Attention"
   ]
  },
  {
   "cell_type": "markdown",
   "metadata": {},
   "source": [
    "In deep learning contexts, **attention** is a term used for a family of related mechanisms which, in general, learn to predict some probability distribution over a sequence of elements.\n",
    "\n",
    "Intuitively, this allows a model to \"pay more attention\" to elements from the sequence which get a higher probability."
   ]
  },
  {
   "cell_type": "markdown",
   "metadata": {},
   "source": [
    "Recent versions of attention mechanisms can be defined formally as follows:"
   ]
  },
  {
   "cell_type": "markdown",
   "metadata": {},
   "source": [
    "Given:\n",
    "- $n$ **key-value** pairs: $\\left\\{\\left(\\vec{k}_i, \\vec{v}_i\\right)\\right\\}_{i=1}^{n}$, where $\\vec{k}_i\\in\\set{R}^{d_k}$, $\\vec{v}_i\\in\\set{R}^{d_v}$\n",
    "- A **query**, $\\vec{q} \\in\\set{R}^{d_q}$\n",
    "- Some similarity (sometimes called *energy*) function between keys and queries, $s: \\set{R}^{d_k}\\times \\set{R}^{d_q} \\mapsto \\set{R}$"
   ]
  },
  {
   "cell_type": "markdown",
   "metadata": {},
   "source": [
    "A *soft*-attention mechanism computes a weighted sum of the **values**,\n",
    "\n",
    "$$\n",
    "\\vec{o} = \\sum_{i=1}^{n} a_i \\vec{v}_i\\ \\in \\set{R}^{d_v},\n",
    "$$"
   ]
  },
  {
   "cell_type": "markdown",
   "metadata": {},
   "source": [
    "where attention weights $a_i$ are computed according the the similarity between the **query** and each **key**:\n",
    "\n",
    "$$\n",
    "\\begin{align}\n",
    "b_i &= s(\\vec{k}_i, \\vec{q}) \\\\\n",
    "\\vec{b} &= \\left[  b_1, \\dots, b_n \\right]\\Tr \\\\\n",
    "\\vec{a} &= \\softmax{\\vec{b}}.\n",
    "\\end{align}\n",
    "$$\n"
   ]
  },
  {
   "cell_type": "markdown",
   "metadata": {},
   "source": [
    "It's also possible to define *hard*-attention by using the weights $\\vec{a}$ as a discrete distribution over the values, an sample a single $\\vec{v}_i$ from this distribution:\n",
    "\n",
    "$$\n",
    "\\vec{o} \\sim \\mathrm{Multinoulli}\\left(\\vec{a}; \\left\\{\\vec{v}_i\\right\\}_{i=1}^{n}\\right)\n",
    "$$\n",
    "\n",
    "In this case the attention output is stochastic."
   ]
  },
  {
   "cell_type": "markdown",
   "metadata": {},
   "source": [
    "A famous example of attention from an image-captioning paper ([Xu et al. 2015](http://proceedings.mlr.press/v37/xuc15.pdf)):\n",
    "<center><img src=\"img/xu2015_1.png\" width=\"1100\" /></center>"
   ]
  },
  {
   "cell_type": "markdown",
   "metadata": {},
   "source": [
    "Core ideas of this model:\n",
    "- Use pre-trained CNN  to extract `14x14` 512-dimensional convolutional feature maps from an image: \"location annotations\"\n",
    "- Train LSTM to generate image caption word by word\n",
    "- Learn to apply attention to the annotations (keys/values) based on LSTM hidden state (query)\n",
    "- Include the attention-weighted annotations in the next hidden state\n",
    "\n",
    "<center><img src=\"img/xu2015_2.png\" width=\"800\"/></center>"
   ]
  },
  {
   "cell_type": "markdown",
   "metadata": {},
   "source": [
    "### Multiplicative attention"
   ]
  },
  {
   "cell_type": "markdown",
   "metadata": {},
   "source": [
    "One basic type of attention mechanism uses a simple **dot product** as the similarity function.\n",
    "\n",
    "Widely-used by models based on the **Transformer** architecture."
   ]
  },
  {
   "cell_type": "markdown",
   "metadata": {},
   "source": [
    "Assume $d_k=d_q=d$, then\n",
    "\n",
    "$$\n",
    "s(\\vec{k},\\vec{q})= \\frac{\\vectr{k}\\vec{q}}{\\sqrt{d}}.\n",
    "$$"
   ]
  },
  {
   "cell_type": "markdown",
   "metadata": {},
   "source": [
    "Why scale by $\\sqrt{d}$ ?"
   ]
  },
  {
   "cell_type": "markdown",
   "metadata": {},
   "source": [
    "It's the factor at which the dot-product grows due to the dimensionality. E.g.,\n",
    "\n",
    "$$\n",
    "\\norm{\\vec{1}_d}_2 = \\norm{[1,\\dots,1]\\Tr}_2 = \\sqrt{d\\cdot 1^2} =\\sqrt{d}.\n",
    "$$\n",
    "\n",
    "This helps keep the softmax values from becoming very small when the dimension is large, and therefore helps prevent tiny gradients."
   ]
  },
  {
   "cell_type": "markdown",
   "metadata": {},
   "source": [
    "Let's now deal with $m$ queries simultaneously by stacking them in a matrix $\\mat{Q} \\in \\set{R}^{m\\times d}$."
   ]
  },
  {
   "cell_type": "markdown",
   "metadata": {},
   "source": [
    "Similarly, we'll stack the keys and values in their own matrices, $\\mat{K}\\in\\set{R}^{n\\times d}$, $\\mat{V}\\in\\set{R}^{n\\times d_v}$."
   ]
  },
  {
   "cell_type": "markdown",
   "metadata": {},
   "source": [
    "Then we can compute the attention weights for all queries in parallel:\n",
    "\n",
    "$$\n",
    "\\begin{align}\n",
    "\\mat{B} &= \\frac{1}{\\sqrt{d}} \\mat{Q}\\mattr{K}  \\ \\in\\set{R}^{m\\times n} \\\\\n",
    "\\mat{A} &= \\softmax{\\mat{B}},\\ \\mathrm{dim}=1 \\\\\n",
    "\\mat{O} &= \\mat{A}\\mat{V} \\ \\in\\set{R}^{m\\times d_v}.\n",
    "\\end{align}\n",
    "$$"
   ]
  },
  {
   "cell_type": "markdown",
   "metadata": {},
   "source": [
    "Note that the softmax is applied per-row, and so each row $i$ of $\\mat{A}$ contains the attention weights for the $i$th query."
   ]
  },
  {
   "cell_type": "markdown",
   "metadata": {},
   "source": [
    "Also notice that in this formulation, we **input a sequence** of $m$ queries and get an **output sequence** of $m$ weighed values."
   ]
  },
  {
   "cell_type": "markdown",
   "metadata": {},
   "source": [
    "### Additive attention"
   ]
  },
  {
   "cell_type": "markdown",
   "metadata": {},
   "source": [
    "Another common type of attention mechanism uses an MLP to **learn** the similarity function $s(\\vec{k},\\vec{q})$."
   ]
  },
  {
   "cell_type": "markdown",
   "metadata": {},
   "source": [
    "In this type of attention, the similarity function is \n",
    "\n",
    "$$\n",
    "s(\\vec{k},\\vec{q}) = \\vectr{v} \\tanh(\\mat{W}_k\\vec{k} + \\mat{W}_q\\vec{q}),\n",
    "$$\n",
    "\n",
    "where $\\mat{W}_k\\in\\set{R}^{h\\times d_k}$, $\\mat{W}_q\\in\\set{R}^{h\\times d_q}$ and $\\vec{v}\\in\\set{R}^{h}$ are trainable parameters."
   ]
  },
  {
   "cell_type": "markdown",
   "metadata": {},
   "source": [
    "- Notice that we're adding projected versions of the key and query and applying a 2-layer MLP.\n",
    "- Both projections and the output layer are trainable."
   ]
  },
  {
   "cell_type": "markdown",
   "metadata": {},
   "source": [
    "### Self-Attention"
   ]
  },
  {
   "cell_type": "markdown",
   "metadata": {},
   "source": [
    "Self-attention refers to applying attention on a **single sequence**  $\\left\\{\\vec{x}_i\\right\\}_{i=1}^{n}$ of elements.\n",
    "\n",
    "The keys, values and queries are either:\n",
    "- The elements themselves\n",
    "- Computed from them with **learned** linear projections, i.e.\n",
    "$$\n",
    "\\begin{align*}\n",
    "\\vec{q}_{i} &= \\mat{W}_{xq}\\vec{x}_{i} &\n",
    "\\vec{k}_{i} &= \\mat{W}_{xk}\\vec{x}_{i} &\n",
    "\\vec{v}_{i} &= \\mat{W}_{xv}\\vec{x}_{i} \n",
    "\\end{align*}\n",
    "$$\n",
    "This is what Transformer models do for Seq2Seq, instead of using RNNs."
   ]
  },
  {
   "cell_type": "markdown",
   "metadata": {},
   "source": [
    "<center><img src=\"img/self_attn_transformer.svg\" width=600></center>"
   ]
  },
  {
   "cell_type": "markdown",
   "metadata": {},
   "source": [
    "## Part 1: Sequence-to-sequence machine translation"
   ]
  },
  {
   "cell_type": "markdown",
   "metadata": {},
   "source": [
    "In this part we'll translate text from German to English.\n",
    "\n",
    "The general approach using RNNs is to design a Sequence-to-sequence (**Seq2Seq**) Encoder-Decoder architecture:"
   ]
  },
  {
   "cell_type": "markdown",
   "metadata": {},
   "source": [
    "<center><img src=\"img/seq2seq1.png\" width=\"900\" /></center>"
   ]
  },
  {
   "cell_type": "code",
   "execution_count": 3,
   "metadata": {},
   "outputs": [],
   "source": [
    "from torchtext.datasets import Multi30k\n",
    "from torchtext.data import Field\n",
    "\n",
    "# Common args for field objects\n",
    "field_args = dict(tokenize='spacy',\n",
    "                  init_token='<sos>',\n",
    "                  eos_token='<eos>',\n",
    "                  include_lengths=True,\n",
    "                  lower=True) \n",
    "\n",
    "# Field for processing German source\n",
    "src_field = Field(tokenizer_language=\"de_core_news_sm\", **field_args)\n",
    "\n",
    "# Field for processing English target\n",
    "tgt_field = Field(tokenizer_language=\"en_core_web_sm\", **field_args)"
   ]
  },
  {
   "cell_type": "code",
   "execution_count": null,
   "metadata": {},
   "outputs": [],
   "source": []
  },
  {
   "cell_type": "code",
   "execution_count": 4,
   "metadata": {},
   "outputs": [],
   "source": [
    "ds_train, ds_valid, ds_test = Multi30k.splits(\n",
    "    root=data_dir, exts=('.de', '.en'), fields=(src_field, tgt_field)\n",
    ")\n",
    "\n",
    "VOCAB_MIN_FREQ = 2\n",
    "src_field.build_vocab(ds_train, min_freq=VOCAB_MIN_FREQ)\n",
    "tgt_field.build_vocab(ds_train, min_freq=VOCAB_MIN_FREQ)"
   ]
  },
  {
   "cell_type": "code",
   "execution_count": 5,
   "metadata": {},
   "outputs": [
    {
     "name": "stdout",
     "output_type": "stream",
     "text": [
      "source vocab size: 7855\n",
      "target vocab size: 5893\n"
     ]
    }
   ],
   "source": [
    "V_src = len(src_field.vocab)\n",
    "print(f'source vocab size: {V_src}')\n",
    "\n",
    "V_tgt = len(tgt_field.vocab)\n",
    "print(f'target vocab size: {V_tgt}')"
   ]
  },
  {
   "cell_type": "code",
   "execution_count": 6,
   "metadata": {
    "slideshow": {
     "slide_type": "fragment"
    }
   },
   "outputs": [
    {
     "name": "stdout",
     "output_type": "stream",
     "text": [
      "sample#0001:\n",
      "\tDE: mehrere männer mit schutzhelmen bedienen ein antriebsradsystem .\n",
      "\tEN: several men in hard hats are operating a giant pulley system .\n",
      "\n",
      "sample#0010:\n",
      "\tDE: eine ballettklasse mit fünf mädchen , die nacheinander springen .\n",
      "\tEN: a ballet class of five girls jumping in sequence .\n",
      "\n",
      "sample#0100:\n",
      "\tDE: männliches kleinkind in einem roten hut , das sich an einem geländer festhält .\n",
      "\tEN: toddler boy in a red hat holding on to some railings .\n",
      "\n",
      "sample#1000:\n",
      "\tDE: ein junger mann in einem weißen hemd , der tomaten schneidet .\n",
      "\tEN: a young man in a white shirt cutting tomatoes .\n",
      "\n"
     ]
    }
   ],
   "source": [
    "for i in ([1, 10, 100, 1000]):\n",
    "    example = ds_train[i]\n",
    "    src = str.join(\" \", example.src)\n",
    "    tgt = str.join(\" \", example.trg)\n",
    "    print(f'sample#{i:04d}:\\n\\tDE: {src}\\n\\tEN: {tgt}\\n')"
   ]
  },
  {
   "cell_type": "code",
   "execution_count": 7,
   "metadata": {},
   "outputs": [
    {
     "data": {
      "text/plain": [
       "['<unk>', '<pad>', '<sos>', '<eos>', 'a', '.', 'in', 'the', 'on', 'man']"
      ]
     },
     "execution_count": 7,
     "metadata": {},
     "output_type": "execute_result"
    }
   ],
   "source": [
    "tgt_field.vocab.itos[0:10]"
   ]
  },
  {
   "cell_type": "code",
   "execution_count": 8,
   "metadata": {},
   "outputs": [
    {
     "data": {
      "text/plain": [
       "['<unk>', '<pad>', '<sos>', '<eos>', '.', 'ein', 'einem', 'in', 'eine', ',']"
      ]
     },
     "execution_count": 8,
     "metadata": {},
     "output_type": "execute_result"
    }
   ],
   "source": [
    "src_field.vocab.itos[0:10]"
   ]
  },
  {
   "cell_type": "code",
   "execution_count": 9,
   "metadata": {},
   "outputs": [
    {
     "name": "stdout",
     "output_type": "stream",
     "text": [
      "<unk>=0, <pad>=1\n"
     ]
    }
   ],
   "source": [
    "UNK_TOKEN = tgt_field.vocab.stoi['<unk>']\n",
    "PAD_TOKEN = tgt_field.vocab.stoi['<pad>']\n",
    "\n",
    "print(f'<unk>={UNK_TOKEN}, <pad>={PAD_TOKEN}')"
   ]
  },
  {
   "cell_type": "code",
   "execution_count": 10,
   "metadata": {},
   "outputs": [],
   "source": [
    "from torchtext.data import BucketIterator\n",
    "\n",
    "BATCH_SIZE = 4\n",
    "dl_train, dl_valid, dl_test = BucketIterator.splits((ds_train, ds_valid, ds_test), batch_size = BATCH_SIZE)"
   ]
  },
  {
   "cell_type": "code",
   "execution_count": 11,
   "metadata": {},
   "outputs": [
    {
     "name": "stdout",
     "output_type": "stream",
     "text": [
      "x0:\n",
      " tensor([[   2,    2,    2,    2],\n",
      "        [  15,    5,    8,  191],\n",
      "        [  26,   70,   16,  389],\n",
      "        [ 302,   26,  181,  466],\n",
      "        [ 126,   37,  127,  804],\n",
      "        [  63,   33, 1270, 6997],\n",
      "        [  20,  143,   10, 3263],\n",
      "        [1362,  753,   37,    7],\n",
      "        [   4,  628,  147,   15],\n",
      "        [   3,    0,    5,  481],\n",
      "        [   1,    4,  461,    4],\n",
      "        [   1,    3,    7,    3],\n",
      "        [   1,    1,   15,    1],\n",
      "        [   1,    1,   81,    1],\n",
      "        [   1,    1,    4,    1],\n",
      "        [   1,    1,    3,    1]]) torch.Size([16, 4])\n",
      "x0_len:\n",
      " tensor([10, 12, 16, 12]) torch.Size([4])\n",
      "y0:\n",
      " tensor([[   2,    2,    2,    2],\n",
      "        [   7,    4,    4,   87],\n",
      "        [ 127,   53,   14,   12],\n",
      "        [ 346,  153,   10,  490],\n",
      "        [1178,  140, 4035,  173],\n",
      "        [  20,    7,   44,  263],\n",
      "        [   7,  172, 2662,  600],\n",
      "        [ 162,   12,   28,  103],\n",
      "        [   5,   27,   45,  711],\n",
      "        [   3,  115,    4,    6],\n",
      "        [   1, 1986,  460,    7],\n",
      "        [   1,    3,    5,  452],\n",
      "        [   1,    1,    3,    5],\n",
      "        [   1,    1,    1,    3]]) torch.Size([14, 4])\n",
      "y0_len:\n",
      " tensor([10, 12, 13, 14]) torch.Size([4])\n"
     ]
    }
   ],
   "source": [
    "# dataloader returns a Batch object with .src and .trg attributes\n",
    "b0 = next(iter(dl_train))\n",
    "\n",
    "# The .src/.trg attributes contain tuples of sequences and their lengths\n",
    "# Get batches of sequences \n",
    "x0, x0_len = b0.src\n",
    "y0, y0_len =  b0.trg\n",
    "\n",
    "print('x0:\\n', x0, x0.shape)\n",
    "print('x0_len:\\n', x0_len, x0_len.shape)\n",
    "print('y0:\\n', y0, y0.shape)\n",
    "print('y0_len:\\n', y0_len, y0_len.shape)"
   ]
  },
  {
   "cell_type": "code",
   "execution_count": 12,
   "metadata": {
    "slideshow": {
     "slide_type": "fragment"
    }
   },
   "outputs": [],
   "source": [
    "import torch.nn as nn\n",
    "\n",
    "class Seq2SeqEncoder(nn.Module):\n",
    "    def __init__(self, vocab_size, embedding_dim, num_layers, h_dim, dropout=0.2):\n",
    "        super().__init__()\n",
    "        \n",
    "        # nn.Embedding converts from token index to dense tensor\n",
    "        self.embedding = nn.Embedding(vocab_size, embedding_dim)\n",
    "        \n",
    "        # PyTorch multilayer GRU RNN\n",
    "        self.rnn = nn.GRU(embedding_dim, h_dim, num_layers=num_layers, dropout=dropout)\n",
    "        \n",
    "    def forward(self, x):\n",
    "        # x shape: (S, B) Note batch dim is not first!\n",
    "        S, B = x.shape\n",
    "        embedded = self.embedding(x) # embedded shape: (S, B, E)\n",
    "        \n",
    "        # GRU first  output returns all hidden states from last layer (S, B, H)\n",
    "        # GRU second output returns last hidden state from each layer (L, B, H)\n",
    "        h, ht = self.rnn(embedded)\n",
    "        return h, ht"
   ]
  },
  {
   "cell_type": "markdown",
   "metadata": {},
   "source": [
    "Test the encoder with a batch of German sentences"
   ]
  },
  {
   "cell_type": "code",
   "execution_count": 13,
   "metadata": {},
   "outputs": [
    {
     "name": "stdout",
     "output_type": "stream",
     "text": [
      "h: torch.Size([16, 4, 64])\n",
      "ht: torch.Size([2, 4, 64])\n"
     ]
    }
   ],
   "source": [
    "EMB_DIM = 128\n",
    "HID_DIM = 64\n",
    "NUM_LAYERS = 2\n",
    "\n",
    "enc = Seq2SeqEncoder(V_src, EMB_DIM, NUM_LAYERS, HID_DIM)\n",
    "h, ht = enc(x0)\n",
    "print(f'h: {h.shape}')\n",
    "print(f'ht: {ht.shape}')"
   ]
  },
  {
   "cell_type": "code",
   "execution_count": 14,
   "metadata": {},
   "outputs": [],
   "source": [
    "class Seq2SeqDecoder(nn.Module):\n",
    "    def __init__(self, vocab_size, embedding_dim, num_layers, h_dim, dropout=0.2):\n",
    "        super().__init__()\n",
    "        \n",
    "        # nn.Embedding converts from token index to dense tensor\n",
    "        self.embedding = nn.Embedding(vocab_size, embedding_dim)\n",
    "        \n",
    "        # PyTorch multilayer GRU RNN\n",
    "        self.rnn = nn.GRU(embedding_dim, h_dim, num_layers=num_layers, dropout=dropout)\n",
    "        \n",
    "        # Output layer, note the output dimension!\n",
    "        self.out_fc = nn.Linear(h_dim, vocab_size)\n",
    "        \n",
    "    def forward(self, x, context, **kw):\n",
    "        # x shape: (S, B)\n",
    "        # context: (L, B, H) the last hidden state from the encoder\n",
    "        S, B = x.shape\n",
    "        embedded = self.embedding(x) # embedded shape: (S, B, E)\n",
    "        \n",
    "        # Note initial hidden state is the input context vector\n",
    "        # h:  all hidden states from last layer (S, B, H)\n",
    "        # ht: last hidden state from each layer (L, B, H)\n",
    "        h, ht = self.rnn(embedded, context)\n",
    "        \n",
    "        # Project H back to the vocab size V, to get a score per word\n",
    "        out = self.out_fc(h)\n",
    "        \n",
    "        # Out shapes: (S, B, V) and (L, B, H)\n",
    "        return out, ht"
   ]
  },
  {
   "cell_type": "markdown",
   "metadata": {},
   "source": [
    "Test the decoder with the corresponding batch of German sentences"
   ]
  },
  {
   "cell_type": "code",
   "execution_count": 15,
   "metadata": {},
   "outputs": [
    {
     "name": "stdout",
     "output_type": "stream",
     "text": [
      "yhat: torch.Size([14, 4, 5893])\n"
     ]
    }
   ],
   "source": [
    "dec = Seq2SeqDecoder(V_tgt, EMB_DIM, NUM_LAYERS, HID_DIM)\n",
    "yhat, _ = dec(y0, ht) # note different S\n",
    "print(f'yhat: {yhat.shape}')"
   ]
  },
  {
   "cell_type": "code",
   "execution_count": null,
   "metadata": {},
   "outputs": [],
   "source": []
  },
  {
   "cell_type": "code",
   "execution_count": 16,
   "metadata": {},
   "outputs": [],
   "source": [
    "class Seq2Seq(nn.Module):\n",
    "    def __init__(self, src_vocab_size, tgt_vocab_size, embedding_dim, num_layers, h_dim, **kw):\n",
    "        super().__init__()\n",
    "        \n",
    "        # Create encoder & decoder parts\n",
    "        self.enc = Seq2SeqEncoder(src_vocab_size, embedding_dim, num_layers, h_dim, **kw)\n",
    "        self.dec = Seq2SeqDecoder(tgt_vocab_size, embedding_dim, num_layers, h_dim, **kw)\n",
    "    \n",
    "    def forward(self, x_src, x_tgt, p_tf=1.):\n",
    "        # input shapes: (S1, B), (S2, B)\n",
    "        S2, B = x_tgt.shape\n",
    "        \n",
    "        # Forward pass through encoder\n",
    "        # context is (L, B, H)\n",
    "        enc_h, context = self.enc(x_src)\n",
    "        \n",
    "        # First input is first target token\n",
    "        dec_input = x_tgt[[0], :] # (1, B)\n",
    "        # Loop over tokens in target sequence and feed them to the decoder\n",
    "        dec_outputs = []\n",
    "        for t in range(1, S2):\n",
    "            # Feed the decoder sequences of length 1\n",
    "            dec_output, context = self.dec(dec_input, context, enc_h=enc_h) # dec_output is (1, B, V)\n",
    "            dec_outputs.append(dec_output)\n",
    "            \n",
    "            # For next input, take either:\n",
    "            # - next target token (AKA \"teacher forcing\"), with proba p_tf\n",
    "            # - highest scoring output (greedy prediction of next token), with proba 1-p_tf\n",
    "            if p_tf > torch.rand(1).item():\n",
    "                dec_input = x_tgt[[t], :] # (1, B)\n",
    "            else:\n",
    "                dec_input = torch.argmax(dec_output, dim=2) # (1,B,V) -> (1, B)\n",
    "            \n",
    "        # Stack decoder outputs from all timesteps\n",
    "        y_hat = torch.cat(dec_outputs, dim=0) # (S-1)x(1,B,V) -> (S-1,B,V)\n",
    "        \n",
    "        # Output shape: (S-1, B, V)\n",
    "        return y_hat"
   ]
  },
  {
   "cell_type": "code",
   "execution_count": 17,
   "metadata": {},
   "outputs": [
    {
     "name": "stdout",
     "output_type": "stream",
     "text": [
      "torch.Size([13, 4, 5893])\n"
     ]
    }
   ],
   "source": [
    "seq2seq_model = Seq2Seq(V_src, V_tgt, EMB_DIM, NUM_LAYERS, HID_DIM)\n",
    "yhat = seq2seq_model(x0, y0)\n",
    "print(yhat.shape)"
   ]
  },
  {
   "cell_type": "code",
   "execution_count": 18,
   "metadata": {},
   "outputs": [],
   "source": [
    "def train_seq2seq(model, dl_train, optimizer, loss_fn, p_tf=1., clip_grad=1., max_batches=None):\n",
    "    losses = []\n",
    "    with tqdm.tqdm(total=(max_batches if max_batches else len(dl_train)), file=sys.stdout) as pbar:\n",
    "        for idx_batch, batch in enumerate(dl_train, start=1):\n",
    "            x, x_len = batch.src\n",
    "            y, y_len =  batch.trg\n",
    "\n",
    "            # Forward pass: encoder and decoder\n",
    "            # Output y_hat is the translated sequence\n",
    "            y_hat = model(x, y, p_tf)\n",
    "            S, B, V = y_hat.shape\n",
    "\n",
    "            # y[:,i] is <sos>, w_1, w_2, ..., w_k, <eos>, <pad>, ...\n",
    "            # y_hat is   w_1', w_2', ..., w_k', <eos>', <pad>', ...\n",
    "            # based on the above, get ground truth y\n",
    "            y_gt = y[1:, :].reshape(S*B)  # drop <sos>\n",
    "            y_hat = y_hat.reshape(S*B, V)\n",
    "\n",
    "            # Calculate loss compared to ground truth y\n",
    "            optimizer.zero_grad()\n",
    "            loss = loss_fn(y_hat, y_gt)\n",
    "            loss.backward()\n",
    "\n",
    "            # Prevent exploding gradients\n",
    "            if clip_grad > 0:\n",
    "                torch.nn.utils.clip_grad_norm_(model.parameters(), clip_grad)\n",
    "\n",
    "            # Update parameters\n",
    "            optimizer.step()\n",
    "\n",
    "            losses.append(loss.item())\n",
    "            pbar.update(); pbar.set_description(f'train loss={losses[-1]:.3f}')\n",
    "            if max_batches and idx_batch >= max_batches:\n",
    "                break\n",
    "    return losses"
   ]
  },
  {
   "cell_type": "code",
   "execution_count": null,
   "metadata": {},
   "outputs": [],
   "source": []
  },
  {
   "cell_type": "code",
   "execution_count": 19,
   "metadata": {},
   "outputs": [],
   "source": [
    "def eval_seq2seq(model, dl_test):\n",
    "    accuracies = []\n",
    "    with tqdm.tqdm(total=len(dl_test), file=sys.stdout) as pbar:\n",
    "        for idx_batch, batch in enumerate(dl_test):\n",
    "            x, x_len = batch.src\n",
    "            y, y_len =  batch.trg\n",
    "\n",
    "            with torch.no_grad():\n",
    "                y_hat = model(x, y, p_tf=0)  # Note: no teacher forcing\n",
    "\n",
    "            S, B, V = y_hat.shape\n",
    "\n",
    "            y_gt = y[1:, :].reshape(S*B)  # drop <sos>\n",
    "            y_hat = torch.argmax(y_hat.reshape(S*B, V), dim=1) # greedy-sample\n",
    "\n",
    "            # Compare prediction to ground truth\n",
    "            accuracies.append(torch.sum(y_gt == y_hat) / S)\n",
    "\n",
    "            pbar.update(); pbar.set_description(f'eval acc={accuracies[-1]}')\n",
    "    return accuracies"
   ]
  },
  {
   "cell_type": "code",
   "execution_count": null,
   "metadata": {},
   "outputs": [],
   "source": []
  },
  {
   "cell_type": "code",
   "execution_count": 20,
   "metadata": {},
   "outputs": [
    {
     "name": "stdout",
     "output_type": "stream",
     "text": [
      "=== EPOCH 1/2, p_tf=1.00 ===\n",
      "train loss=5.249: 100%|██████████| 25/25 [00:20<00:00,  1.22it/s]\n",
      "eval acc=6: 100%|██████████| 8/8 [00:01<00:00,  5.60it/s] \n",
      "=== EPOCH 2/2, p_tf=0.95 ===\n",
      "train loss=4.828: 100%|██████████| 25/25 [00:20<00:00,  1.20it/s]\n",
      "eval acc=9: 100%|██████████| 8/8 [00:01<00:00,  5.53it/s] \n"
     ]
    }
   ],
   "source": [
    "BATCH_SIZE = 128\n",
    "# Use small model so that training is fast, just an example\n",
    "EMB_DIM = 64\n",
    "HID_DIM = 128\n",
    "NUM_LAYERS = 3\n",
    "GRAD_CLIP = 1.\n",
    "EPOCHS = 2\n",
    "BATCHES_PER_EPOCH=25\n",
    "\n",
    "dl_train, dl_valid, dl_test = BucketIterator.splits((ds_train, ds_valid, ds_test), batch_size=BATCH_SIZE)\n",
    "seq2seq_model = Seq2Seq(V_src, V_tgt, EMB_DIM, NUM_LAYERS, HID_DIM)\n",
    "\n",
    "optimizer = torch.optim.Adam(seq2seq_model.parameters(), lr=1e-2)\n",
    "\n",
    "# Note: We don't compute loss from padding tokens!\n",
    "loss_fn = nn.CrossEntropyLoss(ignore_index=PAD_TOKEN)\n",
    "\n",
    "losses = []\n",
    "accuracies = []\n",
    "for idx_epoch in range(EPOCHS):\n",
    "    # Linearly decay amount of teacher forcing for the first 20 epochs (example)\n",
    "    p_tf = 1 - min((idx_epoch / 20), 1)\n",
    "    \n",
    "    print(f'=== EPOCH {idx_epoch+1}/{EPOCHS}, p_tf={p_tf:.2f} ===')\n",
    "    losses += train_seq2seq(seq2seq_model, dl_train, optimizer, loss_fn, p_tf, GRAD_CLIP, BATCHES_PER_EPOCH)\n",
    "    accuracies += eval_seq2seq(seq2seq_model, dl_valid)"
   ]
  },
  {
   "cell_type": "code",
   "execution_count": 21,
   "metadata": {},
   "outputs": [
    {
     "data": {
      "image/png": "[encoded data removed]",
      "text/plain": [
       "<Figure size 1080x360 with 2 Axes>"
      ]
     },
     "metadata": {
      "needs_background": "light"
     },
     "output_type": "display_data"
    }
   ],
   "source": [
    "fig, ax = plt.subplots(nrows=1, ncols=2, figsize=(15,5))\n",
    "ax[0].plot(losses); ax[0].set_title('train loss'); ax[0].set_xlabel('iteration'); ax[0].grid(True)\n",
    "ax[1].plot(accuracies); ax[1].set_title('eval accuracy'); ax[1].set_xlabel('iteration'); ax[1].grid(True)"
   ]
  },
  {
   "cell_type": "markdown",
   "metadata": {},
   "source": [
    "Can we use this a **Generative** model?\n",
    "\n",
    "I.e., can we use this model to generate coherent sentences in English?"
   ]
  },
  {
   "cell_type": "markdown",
   "metadata": {},
   "source": [
    "Theoretically we could... But how can we sample the input context vector?"
   ]
  },
  {
   "cell_type": "code",
   "execution_count": null,
   "metadata": {},
   "outputs": [],
   "source": []
  },
  {
   "cell_type": "markdown",
   "metadata": {},
   "source": [
    "In this architecture the encoder's **last** hidden state must encode all the information the decoder needs for translation.\n",
    "\n",
    "**Local** information, i.e. the encoder outputs and intermediate hidden states is discarded.\n",
    "\n",
    "Can we use this local info to help the decoder?"
   ]
  },
  {
   "cell_type": "markdown",
   "metadata": {
    "slideshow": {
     "slide_type": "slide"
    }
   },
   "source": [
    "## Part 2: Attention"
   ]
  },
  {
   "cell_type": "code",
   "execution_count": null,
   "metadata": {},
   "outputs": [],
   "source": []
  },
  {
   "cell_type": "code",
   "execution_count": null,
   "metadata": {},
   "outputs": [],
   "source": []
  },
  {
   "cell_type": "markdown",
   "metadata": {},
   "source": [
    "Let's implement an Additive attention layer"
   ]
  },
  {
   "cell_type": "code",
   "execution_count": null,
   "metadata": {},
   "outputs": [],
   "source": []
  },
  {
   "cell_type": "code",
   "execution_count": 173,
   "metadata": {},
   "outputs": [],
   "source": [
    "from torch import Tensor\n",
    "\n",
    "class MLPAttention(nn.Module):\n",
    "    def __init__(self, q_dim, k_dim, v_dim, h_dim, dropout=0.):\n",
    "        super().__init__()\n",
    "        self.wk = nn.Linear(k_dim, h_dim, bias=False)\n",
    "        self.wq = nn.Linear(q_dim, h_dim, bias=False)\n",
    "        self.v  = nn.Linear(h_dim, 1, bias=False)\n",
    "        self.dropout = nn.Dropout(dropout)\n",
    "        \n",
    "    def forward(self, q: Tensor, k: Tensor, v: Tensor, seq_len: Tensor=None):\n",
    "        \"\"\"\n",
    "        :param q: Queries tensor of shape (B, Q, q_dim)\n",
    "        :param k: Keys tensor of shape (B, K, k_dim)\n",
    "        :param v: Values tensor of shape (B, K, v_dim)\n",
    "        :param seq_len: Sequence lengths tensor of shape (B,).\n",
    "        :return: Attended values tensor, of shape (B, Q, v_dim).\n",
    "        \"\"\"\n",
    "        # (B, K, k_dim) -> (B, K, h_dim) -> (B, 1, K, h_dim)\n",
    "        wk_k = self.wk(k).unsqueeze(1)\n",
    "        \n",
    "        # (B, Q, q_dim)  -> (B, Q, h_dim)  -> (B, Q, 1, h_dim)\n",
    "        wq_q = self.wq(q).unsqueeze(2)\n",
    "        \n",
    "        # (B, Q, K, h_dim)\n",
    "        z1 = torch.tanh(wq_q + wk_k)\n",
    "        \n",
    "        # (B, Q, K, 1) -> (B, Q, K)\n",
    "        z2 = self.v(z1).squeeze(dim=-1)\n",
    "        \n",
    "        # Mask z2 before applying softmax: only seq_len keys are non-padding in each of the B samples\n",
    "        if seq_len is not None:\n",
    "            B, Q, K = z2.shape\n",
    "            idx = torch.arange(K).expand_as(z2)    # (B,Q,K) containing indices 0..K-1\n",
    "            mask = idx >= seq_len.reshape(B, 1, 1) # mask selects indices greater than seq_len\n",
    "            z2[mask] = float('-inf')               # set selected to -inf to prevent influence on softmax\n",
    "        \n",
    "        a = torch.softmax(z2, dim=-1)\n",
    "        a = self.dropout(a)\n",
    "        \n",
    "        # (B, Q, K) * (B, K, v_dim) = (B, Q, v_dim)\n",
    "        return torch.bmm(a, v)"
   ]
  },
  {
   "cell_type": "code",
   "execution_count": null,
   "metadata": {},
   "outputs": [],
   "source": []
  },
  {
   "cell_type": "code",
   "execution_count": 187,
   "metadata": {},
   "outputs": [
    {
     "name": "stdout",
     "output_type": "stream",
     "text": [
      "q (B, Q, q_dim):\n",
      " tensor([[[1., 1.],\n",
      "         [1., 1.],\n",
      "         [1., 1.],\n",
      "         [1., 1.]],\n",
      "\n",
      "        [[1., 1.],\n",
      "         [1., 1.],\n",
      "         [1., 1.],\n",
      "         [1., 1.]]])\n"
     ]
    }
   ],
   "source": [
    "# Create one query of dim 3 (but in a batch of 2)\n",
    "q = torch.ones((2, 1, 3), dtype=torch.float)\n",
    "print('q (B, Q, q_dim):\\n', k)"
   ]
  },
  {
   "cell_type": "code",
   "execution_count": 188,
   "metadata": {},
   "outputs": [
    {
     "name": "stdout",
     "output_type": "stream",
     "text": [
      "k (B, K, k_dim):\n",
      " tensor([[[1., 1.],\n",
      "         [1., 1.],\n",
      "         [1., 1.],\n",
      "         [1., 1.]],\n",
      "\n",
      "        [[1., 1.],\n",
      "         [1., 1.],\n",
      "         [1., 1.],\n",
      "         [1., 1.]]])\n",
      "v (B, K, v_dim):\n",
      " tensor([[[ 0.,  4.,  8., 12., 16.],\n",
      "         [ 1.,  5.,  9., 13., 17.],\n",
      "         [ 2.,  6., 10., 14., 18.],\n",
      "         [ 3.,  7., 11., 15., 19.]],\n",
      "\n",
      "        [[20., 24., 28., 32., 36.],\n",
      "         [21., 25., 29., 33., 37.],\n",
      "         [22., 26., 30., 34., 38.],\n",
      "         [23., 27., 31., 35., 39.]]])\n"
     ]
    }
   ],
   "source": [
    "# Create 4 key-value pairs\n",
    "k = torch.ones(2, 4, 2, dtype=torch.float)\n",
    "print('k (B, K, k_dim):\\n', k)\n",
    "v = torch.arange(40, dtype=torch.float).reshape(2, 5, 4).transpose(1, 2)\n",
    "print('v (B, K, v_dim):\\n', v)"
   ]
  },
  {
   "cell_type": "code",
   "execution_count": 181,
   "metadata": {},
   "outputs": [],
   "source": [
    "attn = MLPAttention(q_dim=3, k_dim=2, v_dim=5, h_dim=100)"
   ]
  },
  {
   "cell_type": "code",
   "execution_count": 189,
   "metadata": {},
   "outputs": [
    {
     "name": "stdout",
     "output_type": "stream",
     "text": [
      "tensor([[[ 1.5000,  5.5000,  9.5000, 13.5000, 17.5000]],\n",
      "\n",
      "        [[21.5000, 25.5000, 29.5000, 33.5000, 37.5000]]],\n",
      "       grad_fn=<BmmBackward>)\n",
      "(B, Q, v_dim) = torch.Size([2, 1, 5])\n"
     ]
    }
   ],
   "source": [
    "o = attn(q, k, v, seq_len=None)\n",
    "print(o)\n",
    "print(f'(B, Q, v_dim) = {o.shape}')"
   ]
  },
  {
   "cell_type": "markdown",
   "metadata": {},
   "source": [
    "Output is a sequence of length 1 because we had one query.\n",
    "\n",
    "Let's try with `seq_len=1`, i.e. only the first token in the input is considered valid (not padding):"
   ]
  },
  {
   "cell_type": "code",
   "execution_count": 190,
   "metadata": {},
   "outputs": [
    {
     "data": {
      "text/plain": [
       "tensor([[[ 0.,  4.,  8., 12., 16.]],\n",
       "\n",
       "        [[20., 24., 28., 32., 36.]]], grad_fn=<BmmBackward>)"
      ]
     },
     "execution_count": 190,
     "metadata": {},
     "output_type": "execute_result"
    }
   ],
   "source": [
    "attn(q, k, v, seq_len=torch.tensor([1, 1]))"
   ]
  },
  {
   "cell_type": "markdown",
   "metadata": {},
   "source": [
    "Since `seq_len=1`, the output exactly equals the first value `v[:,0,:]`."
   ]
  },
  {
   "cell_type": "code",
   "execution_count": 191,
   "metadata": {},
   "outputs": [
    {
     "data": {
      "text/plain": [
       "tensor([[[ 0.5000,  4.5000,  8.5000, 12.5000, 16.5000]],\n",
       "\n",
       "        [[21.5000, 25.5000, 29.5000, 33.5000, 37.5000]]],\n",
       "       grad_fn=<BmmBackward>)"
      ]
     },
     "execution_count": 191,
     "metadata": {},
     "output_type": "execute_result"
    }
   ],
   "source": [
    "attn(q, k, v, seq_len=torch.tensor([2, 5]))"
   ]
  },
  {
   "cell_type": "code",
   "execution_count": null,
   "metadata": {},
   "outputs": [],
   "source": []
  },
  {
   "cell_type": "markdown",
   "metadata": {},
   "source": [
    "<center><img src=\"img/seq2seq_attention.svg\" width=1000></center>"
   ]
  },
  {
   "cell_type": "code",
   "execution_count": 24,
   "metadata": {},
   "outputs": [],
   "source": [
    "class Seq2SeqDecoderAttn(nn.Module):\n",
    "    def __init__(self, vocab_size, embedding_dim, num_layers, h_dim, dropout=0.2):\n",
    "        super().__init__()\n",
    "        # nn.Embedding converts from token index to dense tensor\n",
    "        self.embedding = nn.Embedding(vocab_size, embedding_dim)\n",
    "        \n",
    "        # Since we'll apply self-attention, the Q, K, V dims are all h_dim\n",
    "        self.attn = MLPAttention(h_dim, h_dim, h_dim, h_dim, dropout)\n",
    "        \n",
    "        # Note: GRU input dim now includes both embedding and attention output!\n",
    "        self.rnn = nn.GRU(embedding_dim + h_dim*num_layers, h_dim, num_layers=num_layers, dropout=dropout)\n",
    "        \n",
    "        # Output layer, note the output dimension!\n",
    "        self.out_fc = nn.Linear(h_dim, vocab_size)\n",
    "        \n",
    "    def forward(self, x, h0, enc_h):\n",
    "        # x shape: (S, B)\n",
    "        # h0: (L, B, H) the initial hidden state\n",
    "        # enc_h: (S, B, H) all outputs from encoder (key-values for attention)\n",
    "        S, B = x.shape\n",
    "        embedded = self.embedding(x) # embedded shape: (S, B, E)\n",
    "        \n",
    "        # Apply attention\n",
    "        q  = h0.transpose(0, 1)    # (B, L, H)\n",
    "        kv = enc_h.transpose(0, 1) # (B, S, H)\n",
    "        a  = self.attn(q, kv, kv)  # (B, L, H)\n",
    "        \n",
    "        # Create RNN input by concatenating attention-based context with the embedded inputs\n",
    "        # Note that when used with Seq2Seq we have S=1 so the expand is not needed\n",
    "        # (L, B, H) -> (1, B, L*H) -> (S, B, L*H)\n",
    "        a = a.reshape(1, B, -1).expand(S, -1, -1)\n",
    "        rnn_input = torch.cat((embedded, a), dim=2) # (S, B, E + L*H)\n",
    "        \n",
    "        h, ht = self.rnn(rnn_input, h0)\n",
    "        \n",
    "        # Project H back to the vocab size V, to get a score per word\n",
    "        out = self.out_fc(h)\n",
    "        \n",
    "        # Out shapes: (S, B, V) and (L, B, H)\n",
    "        return out, ht"
   ]
  },
  {
   "cell_type": "code",
   "execution_count": null,
   "metadata": {},
   "outputs": [],
   "source": []
  },
  {
   "cell_type": "code",
   "execution_count": 25,
   "metadata": {},
   "outputs": [],
   "source": [
    "class Seq2SeqAttn(Seq2Seq):\n",
    "    def __init__(self, src_vocab_size, tgt_vocab_size, embedding_dim, num_layers, h_dim, **kw):\n",
    "        super().__init__(src_vocab_size, tgt_vocab_size, embedding_dim, num_layers, h_dim, **kw)\n",
    "        \n",
    "        # Replace decoder\n",
    "        self.dec = Seq2SeqDecoderAttn(tgt_vocab_size, embedding_dim, num_layers, h_dim, **kw)"
   ]
  },
  {
   "cell_type": "code",
   "execution_count": 26,
   "metadata": {},
   "outputs": [
    {
     "name": "stdout",
     "output_type": "stream",
     "text": [
      "=== EPOCH 1/2, p_tf=1.00 ===\n",
      "train loss=5.394: 100%|██████████| 25/25 [00:39<00:00,  1.58s/it]\n",
      "eval acc=8: 100%|██████████| 8/8 [00:02<00:00,  3.47it/s] \n",
      "=== EPOCH 2/2, p_tf=0.95 ===\n",
      "train loss=5.222: 100%|██████████| 25/25 [00:42<00:00,  1.71s/it]\n",
      "eval acc=8: 100%|██████████| 8/8 [00:02<00:00,  3.47it/s] \n"
     ]
    }
   ],
   "source": [
    "BATCH_SIZE = 128\n",
    "# Use small model so that training is fast, just an example\n",
    "EMB_DIM = 64\n",
    "HID_DIM = 128\n",
    "NUM_LAYERS = 3\n",
    "GRAD_CLIP = 1.\n",
    "EPOCHS = 2\n",
    "BATCHES_PER_EPOCH=25\n",
    "\n",
    "dl_train, dl_valid, dl_test = BucketIterator.splits((ds_train, ds_valid, ds_test), batch_size=BATCH_SIZE)\n",
    "seq2seq_model = Seq2SeqAttn(V_src, V_tgt, EMB_DIM, NUM_LAYERS, HID_DIM)\n",
    "\n",
    "optimizer = torch.optim.Adam(seq2seq_model.parameters(), lr=1e-2)\n",
    "\n",
    "# Note: We don't compute loss from padding tokens!\n",
    "loss_fn = nn.CrossEntropyLoss(ignore_index=PAD_TOKEN)\n",
    "\n",
    "losses = []\n",
    "accuracies = []\n",
    "for idx_epoch in range(EPOCHS):\n",
    "    # Linearly decay amount of teacher forcing fro the first 10 epochs (example)\n",
    "    p_tf = 1 - min((idx_epoch / 20), 1)\n",
    "    \n",
    "    print(f'=== EPOCH {idx_epoch+1}/{EPOCHS}, p_tf={p_tf:.2f} ===')\n",
    "    losses += train_seq2seq(seq2seq_model, dl_train, optimizer, loss_fn, p_tf, GRAD_CLIP, BATCHES_PER_EPOCH)\n",
    "    accuracies += eval_seq2seq(seq2seq_model, dl_valid)"
   ]
  },
  {
   "cell_type": "code",
   "execution_count": 27,
   "metadata": {},
   "outputs": [
    {
     "data": {
      "image/png": "[encoded data removed]",
      "text/plain": [
       "<Figure size 1080x360 with 2 Axes>"
      ]
     },
     "metadata": {
      "needs_background": "light"
     },
     "output_type": "display_data"
    }
   ],
   "source": [
    "fig, ax = plt.subplots(nrows=1, ncols=2, figsize=(15,5))\n",
    "ax[0].plot(losses); ax[0].set_title('train loss'); ax[0].set_xlabel('iteration'); ax[0].grid(True)\n",
    "ax[1].plot(accuracies); ax[1].set_title('eval accuracy'); ax[1].set_xlabel('iteration'); ax[1].grid(True)"
   ]
  },
  {
   "cell_type": "code",
   "execution_count": null,
   "metadata": {},
   "outputs": [],
   "source": []
  },
  {
   "cell_type": "code",
   "execution_count": 121,
   "metadata": {},
   "outputs": [],
   "source": [
    "from torch import Tensor\n",
    "\n",
    "def valid_softmax(X: Tensor, valid_len: Tensor=None):\n",
    "    \"\"\"\n",
    "    Applies softmax over last dim of X.\n",
    "    X is (B, Q, K).\n",
    "    valid_len should be either (B,) or (B, Q). If it's (B,) it will be expanded to (B,Q) by repeating elements.\n",
    "    If valid_len is not none, then it specifies the number of elements in the lest dim (K) to apply the softmax to.\n",
    "    \"\"\"\n",
    "    \n",
    "    if valid_len is None:\n",
    "        return torch.softmax(X, dim=-1)\n",
    "    \n",
    "    B, Q, K = X.shape\n",
    "    assert valid_len.shape == torch.Size((B, Q)) or valid_len.shape == torch.Size((B,))\n",
    "    \n",
    "    if valid_len.ndim == 1:\n",
    "        valid_len = valid_len.reshape(B,1).repeat(1,Q)\n",
    "    \n",
    "    # Reshape X into a 2d matrix where the sequences are in the rows\n",
    "    X = torch.reshape(X, (B*Q, K))\n",
    "    \n",
    "    # idx is same shape as X, last dim will contain indices 0...S-1\n",
    "    idx = torch.arange(K).repeat(B*Q, 1)\n",
    "\n",
    "    # Add multiple singleton dims at the end of valid_len,\n",
    "    # so that ndims is same as X\n",
    "    valid_len = valid_len.view(B*Q, 1)\n",
    "\n",
    "    # For every index after valid len, we set the mask to True\n",
    "    mask = idx >= valid_len\n",
    "\n",
    "    # Set masked elements to -inf for softmax\n",
    "    X = X.to(torch.float)\n",
    "    X[mask] = float('-inf')\n",
    "\n",
    "    # Apply softmax and reshape back\n",
    "    return torch.softmax(X, dim=-1).reshape(B, Q, K)"
   ]
  },
  {
   "cell_type": "code",
   "execution_count": 125,
   "metadata": {},
   "outputs": [
    {
     "data": {
      "text/plain": [
       "tensor([[[0.5126, 0.4874, 0.0000, 0.0000],\n",
       "         [0.6114, 0.3886, 0.0000, 0.0000]],\n",
       "\n",
       "        [[0.3791, 0.3046, 0.3163, 0.0000],\n",
       "         [0.3975, 0.2836, 0.3189, 0.0000]],\n",
       "\n",
       "        [[0.1483, 0.2634, 0.3391, 0.2491],\n",
       "         [0.2712, 0.2400, 0.2176, 0.2712]]])"
      ]
     },
     "execution_count": 125,
     "metadata": {},
     "output_type": "execute_result"
    }
   ],
   "source": [
    "valid_softmax(torch.rand(2, 2, 4), torch.tensor([2, 3]))"
   ]
  },
  {
   "cell_type": "code",
   "execution_count": 126,
   "metadata": {},
   "outputs": [
    {
     "data": {
      "text/plain": [
       "tensor([[[0.5068, 0.4932, 0.0000, 0.0000],\n",
       "         [0.4468, 0.5532, 0.0000, 0.0000]],\n",
       "\n",
       "        [[0.4733, 0.2175, 0.3093, 0.0000],\n",
       "         [0.3420, 0.3227, 0.3353, 0.0000]],\n",
       "\n",
       "        [[0.3308, 0.1958, 0.2247, 0.2487],\n",
       "         [0.1697, 0.3089, 0.2412, 0.2802]]])"
      ]
     },
     "execution_count": 126,
     "metadata": {},
     "output_type": "execute_result"
    }
   ],
   "source": [
    "valid_softmax(torch.rand(3, 2, 4), torch.tensor([2, 3, 4]))"
   ]
  },
  {
   "cell_type": "code",
   "execution_count": 127,
   "metadata": {},
   "outputs": [
    {
     "data": {
      "text/plain": [
       "tensor([[[0.5485, 0.4515, 0.0000, 0.0000, 0.0000],\n",
       "         [0.3133, 0.3353, 0.3514, 0.0000, 0.0000],\n",
       "         [0.2844, 0.3011, 0.1655, 0.2490, 0.0000]],\n",
       "\n",
       "        [[0.2055, 0.1324, 0.2438, 0.2350, 0.1833],\n",
       "         [1.0000, 0.0000, 0.0000, 0.0000, 0.0000],\n",
       "         [0.3825, 0.3625, 0.2551, 0.0000, 0.0000]]])"
      ]
     },
     "execution_count": 127,
     "metadata": {},
     "output_type": "execute_result"
    }
   ],
   "source": [
    "valid_softmax(torch.rand(2, 3, 5), torch.tensor([[2, 3, 4],[5, 1, 3]]))"
   ]
  },
  {
   "cell_type": "code",
   "execution_count": null,
   "metadata": {},
   "outputs": [],
   "source": []
  },
  {
   "cell_type": "code",
   "execution_count": 31,
   "metadata": {},
   "outputs": [],
   "source": [
    "# B, Q, K=S\n",
    "t = torch.ones(3,4,5)\n",
    "r = torch.arange(5)       # (S,)\n",
    "v = torch.tensor([1,3,5]) # (B,)"
   ]
  },
  {
   "cell_type": "code",
   "execution_count": 32,
   "metadata": {},
   "outputs": [
    {
     "data": {
      "text/plain": [
       "tensor([[[0, 1, 2, 3, 4],\n",
       "         [0, 1, 2, 3, 4],\n",
       "         [0, 1, 2, 3, 4],\n",
       "         [0, 1, 2, 3, 4]],\n",
       "\n",
       "        [[0, 1, 2, 3, 4],\n",
       "         [0, 1, 2, 3, 4],\n",
       "         [0, 1, 2, 3, 4],\n",
       "         [0, 1, 2, 3, 4]],\n",
       "\n",
       "        [[0, 1, 2, 3, 4],\n",
       "         [0, 1, 2, 3, 4],\n",
       "         [0, 1, 2, 3, 4],\n",
       "         [0, 1, 2, 3, 4]]])"
      ]
     },
     "execution_count": 32,
     "metadata": {},
     "output_type": "execute_result"
    }
   ],
   "source": [
    "r.expand_as(t)"
   ]
  },
  {
   "cell_type": "code",
   "execution_count": 33,
   "metadata": {},
   "outputs": [
    {
     "data": {
      "text/plain": [
       "torch.Size([3, 1, 1])"
      ]
     },
     "execution_count": 33,
     "metadata": {},
     "output_type": "execute_result"
    }
   ],
   "source": [
    "vv = v[(None,)*(t.ndim-1)].transpose(0,-1)\n",
    "vv.shape"
   ]
  },
  {
   "cell_type": "code",
   "execution_count": 34,
   "metadata": {},
   "outputs": [
    {
     "data": {
      "text/plain": [
       "tensor([[[1]],\n",
       "\n",
       "        [[3]],\n",
       "\n",
       "        [[5]]])"
      ]
     },
     "execution_count": 34,
     "metadata": {},
     "output_type": "execute_result"
    }
   ],
   "source": [
    "vv"
   ]
  },
  {
   "cell_type": "code",
   "execution_count": 35,
   "metadata": {},
   "outputs": [
    {
     "data": {
      "text/plain": [
       "torch.Size([3, 4, 5])"
      ]
     },
     "execution_count": 35,
     "metadata": {},
     "output_type": "execute_result"
    }
   ],
   "source": [
    "r.expand_as(t).shape"
   ]
  },
  {
   "cell_type": "code",
   "execution_count": 36,
   "metadata": {},
   "outputs": [
    {
     "data": {
      "text/plain": [
       "tensor([[[False, False,  True,  True,  True],\n",
       "         [False, False,  True,  True,  True],\n",
       "         [False, False,  True,  True,  True],\n",
       "         [False, False,  True,  True,  True]],\n",
       "\n",
       "        [[False, False, False, False,  True],\n",
       "         [False, False, False, False,  True],\n",
       "         [False, False, False, False,  True],\n",
       "         [False, False, False, False,  True]],\n",
       "\n",
       "        [[False, False, False, False, False],\n",
       "         [False, False, False, False, False],\n",
       "         [False, False, False, False, False],\n",
       "         [False, False, False, False, False]]])"
      ]
     },
     "execution_count": 36,
     "metadata": {},
     "output_type": "execute_result"
    }
   ],
   "source": [
    "r.expand_as(t) > vv"
   ]
  },
  {
   "cell_type": "code",
   "execution_count": null,
   "metadata": {},
   "outputs": [],
   "source": []
  },
  {
   "cell_type": "code",
   "execution_count": 37,
   "metadata": {},
   "outputs": [
    {
     "data": {
      "text/plain": [
       "tensor([[1., 1., 1.],\n",
       "        [1., 1., 1.],\n",
       "        [1., 1., 1.]])"
      ]
     },
     "execution_count": 37,
     "metadata": {},
     "output_type": "execute_result"
    }
   ],
   "source": [
    "torch.ones(1, 3).expand_as(torch.ones(3,3))"
   ]
  },
  {
   "cell_type": "code",
   "execution_count": 39,
   "metadata": {},
   "outputs": [],
   "source": []
  },
  {
   "cell_type": "code",
   "execution_count": 84,
   "metadata": {},
   "outputs": [],
   "source": [
    "# B, Q, K=S\n",
    "x = torch.ones(2,3,5)\n",
    "B, Q, K = x.shape\n",
    "\n",
    "r = torch.arange(5)       # (S,)\n",
    "v1 = torch.tensor([1,3]) # (B,)\n",
    "v2 = torch.tensor([[1,3,5], [2,1,4]]) # (B,Q)\n"
   ]
  },
  {
   "cell_type": "code",
   "execution_count": null,
   "metadata": {},
   "outputs": [],
   "source": []
  },
  {
   "cell_type": "code",
   "execution_count": 88,
   "metadata": {},
   "outputs": [
    {
     "data": {
      "text/plain": [
       "tensor([1, 1, 1, 3, 3, 3])"
      ]
     },
     "execution_count": 88,
     "metadata": {},
     "output_type": "execute_result"
    }
   ],
   "source": [
    "v1.reshape(B,1).repeat(1,Q).view(-1)"
   ]
  },
  {
   "cell_type": "code",
   "execution_count": 90,
   "metadata": {},
   "outputs": [
    {
     "data": {
      "text/plain": [
       "tensor([1, 3, 5, 2, 1, 4])"
      ]
     },
     "execution_count": 90,
     "metadata": {},
     "output_type": "execute_result"
    }
   ],
   "source": [
    "v2.view(-1)"
   ]
  },
  {
   "cell_type": "code",
   "execution_count": 92,
   "metadata": {},
   "outputs": [
    {
     "data": {
      "text/plain": [
       "tensor([[1., 1., 1., 1., 1.],\n",
       "        [1., 1., 1., 1., 1.],\n",
       "        [1., 1., 1., 1., 1.],\n",
       "        [1., 1., 1., 1., 1.],\n",
       "        [1., 1., 1., 1., 1.],\n",
       "        [1., 1., 1., 1., 1.]])"
      ]
     },
     "execution_count": 92,
     "metadata": {},
     "output_type": "execute_result"
    }
   ],
   "source": [
    "x.view(B*Q,K)"
   ]
  },
  {
   "cell_type": "code",
   "execution_count": 94,
   "metadata": {},
   "outputs": [
    {
     "data": {
      "text/plain": [
       "tensor([[0, 1, 2, 3, 4],\n",
       "        [0, 1, 2, 3, 4],\n",
       "        [0, 1, 2, 3, 4],\n",
       "        [0, 1, 2, 3, 4],\n",
       "        [0, 1, 2, 3, 4],\n",
       "        [0, 1, 2, 3, 4]])"
      ]
     },
     "execution_count": 94,
     "metadata": {},
     "output_type": "execute_result"
    }
   ],
   "source": [
    "r.repeat(B*Q,1)"
   ]
  },
  {
   "cell_type": "code",
   "execution_count": 98,
   "metadata": {},
   "outputs": [
    {
     "data": {
      "text/plain": [
       "tensor([[ True, False, False, False, False],\n",
       "        [ True, False, False, False, False],\n",
       "        [ True, False, False, False, False],\n",
       "        [ True,  True,  True, False, False],\n",
       "        [ True,  True,  True, False, False],\n",
       "        [ True,  True,  True, False, False]])"
      ]
     },
     "execution_count": 98,
     "metadata": {},
     "output_type": "execute_result"
    }
   ],
   "source": [
    "r.repeat(B*Q,1) < v1.reshape(B,1).repeat(1,Q).view(-1,1)"
   ]
  },
  {
   "cell_type": "code",
   "execution_count": 99,
   "metadata": {},
   "outputs": [
    {
     "data": {
      "text/plain": [
       "tensor([[ True, False, False, False, False],\n",
       "        [ True,  True,  True, False, False],\n",
       "        [ True,  True,  True,  True,  True],\n",
       "        [ True,  True, False, False, False],\n",
       "        [ True, False, False, False, False],\n",
       "        [ True,  True,  True,  True, False]])"
      ]
     },
     "execution_count": 99,
     "metadata": {},
     "output_type": "execute_result"
    }
   ],
   "source": [
    "r.repeat(B*Q,1) < v2.view(-1,1)"
   ]
  },
  {
   "cell_type": "code",
   "execution_count": 110,
   "metadata": {},
   "outputs": [
    {
     "ename": "AxisError",
     "evalue": "axis 3 is out of bounds for array of dimension 0",
     "output_type": "error",
     "traceback": [
      "\u001b[0;31m---------------------------------------------------------------------------\u001b[0m",
      "\u001b[0;31mAxisError\u001b[0m                                 Traceback (most recent call last)",
      "\u001b[0;32m<ipython-input-110-1bd7f2bebf6a>\u001b[0m in \u001b[0;36m<module>\u001b[0;34m\u001b[0m\n\u001b[0;32m----> 1\u001b[0;31m \u001b[0mnp\u001b[0m\u001b[0;34m.\u001b[0m\u001b[0mprod\u001b[0m\u001b[0;34m(\u001b[0m\u001b[0;34m*\u001b[0m\u001b[0mx\u001b[0m\u001b[0;34m.\u001b[0m\u001b[0mshape\u001b[0m\u001b[0;34m[\u001b[0m\u001b[0;34m:\u001b[0m\u001b[0;34m-\u001b[0m\u001b[0;36m1\u001b[0m\u001b[0;34m]\u001b[0m\u001b[0;34m)\u001b[0m\u001b[0;34m\u001b[0m\u001b[0;34m\u001b[0m\u001b[0m\n\u001b[0m",
      "\u001b[0;32m<__array_function__ internals>\u001b[0m in \u001b[0;36mprod\u001b[0;34m(*args, **kwargs)\u001b[0m\n",
      "\u001b[0;32m~/miniconda3/envs/cs236781/lib/python3.7/site-packages/numpy/core/fromnumeric.py\u001b[0m in \u001b[0;36mprod\u001b[0;34m(a, axis, dtype, out, keepdims, initial, where)\u001b[0m\n\u001b[1;32m   2909\u001b[0m     \"\"\"\n\u001b[1;32m   2910\u001b[0m     return _wrapreduction(a, np.multiply, 'prod', axis, dtype, out,\n\u001b[0;32m-> 2911\u001b[0;31m                           keepdims=keepdims, initial=initial, where=where)\n\u001b[0m\u001b[1;32m   2912\u001b[0m \u001b[0;34m\u001b[0m\u001b[0m\n\u001b[1;32m   2913\u001b[0m \u001b[0;34m\u001b[0m\u001b[0m\n",
      "\u001b[0;32m~/miniconda3/envs/cs236781/lib/python3.7/site-packages/numpy/core/fromnumeric.py\u001b[0m in \u001b[0;36m_wrapreduction\u001b[0;34m(obj, ufunc, method, axis, dtype, out, **kwargs)\u001b[0m\n\u001b[1;32m     88\u001b[0m                 \u001b[0;32mreturn\u001b[0m \u001b[0mreduction\u001b[0m\u001b[0;34m(\u001b[0m\u001b[0maxis\u001b[0m\u001b[0;34m=\u001b[0m\u001b[0maxis\u001b[0m\u001b[0;34m,\u001b[0m \u001b[0mout\u001b[0m\u001b[0;34m=\u001b[0m\u001b[0mout\u001b[0m\u001b[0;34m,\u001b[0m \u001b[0;34m**\u001b[0m\u001b[0mpasskwargs\u001b[0m\u001b[0;34m)\u001b[0m\u001b[0;34m\u001b[0m\u001b[0;34m\u001b[0m\u001b[0m\n\u001b[1;32m     89\u001b[0m \u001b[0;34m\u001b[0m\u001b[0m\n\u001b[0;32m---> 90\u001b[0;31m     \u001b[0;32mreturn\u001b[0m \u001b[0mufunc\u001b[0m\u001b[0;34m.\u001b[0m\u001b[0mreduce\u001b[0m\u001b[0;34m(\u001b[0m\u001b[0mobj\u001b[0m\u001b[0;34m,\u001b[0m \u001b[0maxis\u001b[0m\u001b[0;34m,\u001b[0m \u001b[0mdtype\u001b[0m\u001b[0;34m,\u001b[0m \u001b[0mout\u001b[0m\u001b[0;34m,\u001b[0m \u001b[0;34m**\u001b[0m\u001b[0mpasskwargs\u001b[0m\u001b[0;34m)\u001b[0m\u001b[0;34m\u001b[0m\u001b[0;34m\u001b[0m\u001b[0m\n\u001b[0m\u001b[1;32m     91\u001b[0m \u001b[0;34m\u001b[0m\u001b[0m\n\u001b[1;32m     92\u001b[0m \u001b[0;34m\u001b[0m\u001b[0m\n",
      "\u001b[0;31mAxisError\u001b[0m: axis 3 is out of bounds for array of dimension 0"
     ]
    }
   ],
   "source": [
    "np.prod(*x.shape[:-1])"
   ]
  },
  {
   "cell_type": "markdown",
   "metadata": {
    "slideshow": {
     "slide_type": "skip"
    }
   },
   "source": [
    "**Image credits**\n",
    "\n",
    "Some images in this tutorial were taken and/or adapted from:\n",
    "\n",
    "- K. Xu et al. 2015, http://proceedings.mlr.press/v37/xuc15.html\n",
    "- Sutskever et al. 2014, https://arxiv.org/abs/1409.3215\n",
    "- Zhang et al., Dive into Deep Learning, 2019\n",
    "- Peter Bloem, http://www.peterbloem.nl/blog/transformers\n",
    "- Chris Olah, https://colah.github.io/posts/2015-08-Understanding-LSTMs/\n",
    "- Ben Trevett, http://bentrevett.com\n",
    "- MIT 6.S191"
   ]
  }
 ],
 "metadata": {
  "kernelspec": {
   "display_name": "Python 3",
   "language": "python",
   "name": "python3"
  },
  "language_info": {
   "codemirror_mode": {
    "name": "ipython",
    "version": 3
   },
   "file_extension": ".py",
   "mimetype": "text/x-python",
   "name": "python",
   "nbconvert_exporter": "python",
   "pygments_lexer": "ipython3",
   "version": "3.7.5"
  }
 },
 "nbformat": 4,
 "nbformat_minor": 4
}

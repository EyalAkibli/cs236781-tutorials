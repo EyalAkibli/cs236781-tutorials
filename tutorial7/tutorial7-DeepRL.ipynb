{
 "cells": [
  {
   "cell_type": "markdown",
   "metadata": {
    "slideshow": {
     "slide_type": "slide"
    }
   },
   "source": [
    "$$\n",
    "\\newcommand{\\mat}[1]{\\boldsymbol {#1}}\n",
    "\\newcommand{\\mattr}[1]{\\boldsymbol {#1}^\\top}\n",
    "\\newcommand{\\matinv}[1]{\\boldsymbol {#1}^{-1}}\n",
    "\\newcommand{\\vec}[1]{\\boldsymbol {#1}}\n",
    "\\newcommand{\\vectr}[1]{\\boldsymbol {#1}^\\top}\n",
    "\\newcommand{\\rvar}[1]{\\mathrm {#1}}\n",
    "\\newcommand{\\rvec}[1]{\\boldsymbol{\\mathrm{#1}}}\n",
    "\\newcommand{\\diag}{\\mathop{\\mathrm {diag}}}\n",
    "\\newcommand{\\set}[1]{\\mathbb {#1}}\n",
    "\\newcommand{\\cset}[1]{\\mathcal{#1}}\n",
    "\\newcommand{\\norm}[1]{\\left\\lVert#1\\right\\rVert}\n",
    "\\newcommand{\\pderiv}[2]{\\frac{\\partial #1}{\\partial #2}}\n",
    "\\newcommand{\\bb}[1]{\\boldsymbol{#1}}\n",
    "\\newcommand{\\E}[2][]{\\mathbb{E}_{#1}\\left[#2\\right]}\n",
    "\\newcommand{\\given}[]{~\\middle\\vert~}\n",
    "$$\n",
    "\n",
    "# CS236605: Deep Learning\n",
    "# Tutorial 7: Deep Reinforcement Learning"
   ]
  },
  {
   "cell_type": "markdown",
   "metadata": {
    "slideshow": {
     "slide_type": "subslide"
    }
   },
   "source": [
    "## Introduction\n",
    "\n",
    "In this tutorial, we will cover:\n",
    "\n",
    "TODO"
   ]
  },
  {
   "cell_type": "code",
   "execution_count": 52,
   "metadata": {
    "slideshow": {
     "slide_type": "subslide"
    }
   },
   "outputs": [],
   "source": [
    "# Setup\n",
    "%matplotlib inline\n",
    "import os\n",
    "import sys\n",
    "import torch\n",
    "import numpy as np\n",
    "import matplotlib.pyplot as plt\n",
    "\n",
    "plt.rcParams['font.size'] = 20\n",
    "data_dir = os.path.expanduser('~/.pytorch-datasets')\n",
    "device = torch.device('cuda' if torch.cuda.is_available() else 'cpu')"
   ]
  },
  {
   "cell_type": "markdown",
   "metadata": {
    "slideshow": {
     "slide_type": "slide"
    }
   },
   "source": [
    "## Theory Reminders: The RL setting"
   ]
  },
  {
   "cell_type": "markdown",
   "metadata": {},
   "source": [
    "Reinforcement learning is a general framework of a learning setting which includes:\n",
    "- An agent: something which interacts, or performs actions on an **environment** on our behalf,\n",
    "  according to some deterministic or stochcastic policy.\n",
    "- Actions: Things that the agent can do.\n",
    "- An environment: Everything outside of the agent's control. The agent can (partially) observe it's state,\n",
    "  and it periodically gets rewards from the environment.\n",
    "- Observations: Things about the state of the environment which the agent can periodically observe.\n",
    "- Reward: A scalar value which the agent receives from the environment after (some) actions.\n",
    "\n",
    "<img src=\"img/rl_setting2.png\" width=\"700\"/>"
   ]
  },
  {
   "cell_type": "markdown",
   "metadata": {},
   "source": [
    "**Example**: Stock market trading\n",
    "- Agent: a trading system or algorithms which can buy and sell stocks, bonds, etc. \n",
    "- Actions: what to buy or sell, and how much.\n",
    "- Environment: The entire market and everything that may potentially influence it (news events, politics, economic conditions, etc). Potentially everything in the universe.\n",
    "- Observations: Stock prices, market indices, etc.\n",
    "- Reward: Total accumulated profit."
   ]
  },
  {
   "cell_type": "markdown",
   "metadata": {},
   "source": [
    "So far we have seen two types of learning paradigms:\n",
    "- Supervised, in which we learn a mapping based on labelled samples;\n",
    "- Unsupervised, in which we learn the latent structure of our data."
   ]
  },
  {
   "cell_type": "markdown",
   "metadata": {},
   "source": [
    "Reinforcement learning is a different paradigm which doesn't cleanly map into either supervised or unsupervised.\n",
    "\n",
    "- On one hand, there are no predefined labels.\n",
    "- However, instead we have a **reward system**, which guides the learning process through.\n",
    "- By observing rewards (which can be positive, negative or neutral) we expect our agent to learn what actions (and which states) lead to positive rewards.\n",
    "- In essence, we **create our own labels** based on the experiences of the agent."
   ]
  },
  {
   "cell_type": "markdown",
   "metadata": {},
   "source": [
    "The RL setting presents some unique challenges."
   ]
  },
  {
   "cell_type": "markdown",
   "metadata": {},
   "source": [
    "- Non i.i.d observations\n",
    "    - since they depend on the agent\n",
    "    - we might only observe only non-useful information\n",
    "- Exploration vs. exploitation trade-off\n",
    "    - discovering new strategies may be at the cost of short term rewards loss\n",
    "- Delayed reward: can even be one single reward at the end\n",
    "    - need to discover causal relations between actions and rewards despite the delays"
   ]
  },
  {
   "cell_type": "markdown",
   "metadata": {},
   "source": [
    "### Markov processes"
   ]
  },
  {
   "cell_type": "markdown",
   "metadata": {},
   "source": [
    "A **Markov process** (MP; aka Markov chain), is a system with a finite number of **states**, and time-invariante **transition probabilities** between them.\n",
    "- **Markov property**: transition probabilities to next state depend only on current state.\n",
    "- At each time step $t$, the next state $S_{t+1}$ is sampled based on the current state $S_{t}$.\n",
    "- Fully described by states $\\cset{S}=\\{s_i\\}_{i=1}^{N}$ and transition matrix\n",
    "  $$P_{i,j}=P(s_i,s_j)=\\Pr(S_{t+1}=s_j|S_{t}=s_i).$$\n",
    "- Some states, $\\cset{S}_T\\subset\\cset{S}$, may be terminal, i.e.\n",
    "  $\\forall s\\in\\cset{S}_T, s'\\in\\cset{S}:~P(s,s')=0$."
   ]
  },
  {
   "cell_type": "markdown",
   "metadata": {},
   "source": [
    "A **Markov reward process** (MRP) is an MP where in addition we have,\n",
    "- Immediate reward for transition from state $s_i$ to state $s_j$: $R_{i,j} = R(s_i,s_j)$.\n",
    "- Discount factor $\\gamma\\in[0,1]$ for future rewards."
   ]
  },
  {
   "cell_type": "markdown",
   "metadata": {},
   "source": [
    "Total discounted reward (aka gain) from time $t$:\n",
    "$$\n",
    "G_t = R_{t+1}+\\gamma R_{t+2} + \\dots = \\sum_{k=0}^{\\infty} \\gamma^k R_{t+1+k}.\n",
    "$$"
   ]
  },
  {
   "cell_type": "markdown",
   "metadata": {},
   "source": [
    "The **value** of a state $s$ it's it's expected future return:\n",
    "$$\n",
    "v(s) = \\E{G_t|S_t = s}.\n",
    "$$"
   ]
  },
  {
   "cell_type": "markdown",
   "metadata": {},
   "source": [
    "A **Markov desicion process** (MDP) is an MRP where in addition,\n",
    "- We have a finite set of **actions** that can be performed by our agent at each state: $\\cset{A}=\\{a_k\\}_{k=1}^{K}$."
   ]
  },
  {
   "cell_type": "markdown",
   "metadata": {},
   "source": [
    "- The transition probabilities are now action-dependent:\n",
    "   $$P_{i,j,k} = P_{a_k}(s_i,s_j) = \\Pr(S_{t+1}=s_j|S_t=s_i,A_t=a_k).$$\n",
    "   <img src=\"img/mdp_transition_prob.png\" width=\"500\"/>"
   ]
  },
  {
   "cell_type": "markdown",
   "metadata": {},
   "source": [
    "- The immediate reward is now also action-dependent. We will also ignore the dependence on the next state:\n",
    "$$\n",
    "R_{t+1} = R(S_t,A_t).\n",
    "$$"
   ]
  },
  {
   "cell_type": "markdown",
   "metadata": {},
   "source": [
    "We define the **policy** of an agent as the conditional distribution,\n",
    "$$\n",
    "\\pi(a|s) = \\Pr(A_t=a\\vert S_t=s).\n",
    "$$\n",
    "This defines the actions the agent is likely to take at state $s$. Assumed to be time invariant."
   ]
  },
  {
   "cell_type": "markdown",
   "metadata": {},
   "source": [
    "The **state-value function** of an MDP is now policy-dependent:\n",
    "\n",
    "\\begin{align}\n",
    "v_{\\pi}(s) &= \\E{G_t|S_t = s,\\pi} \\\\\n",
    "&= \\E{\\sum_{t=0}^{\\infty} \\gamma^t R_{t+1}\\given S_0=s, \\pi} \\\\\n",
    "&= \\E{R_1 +\\gamma v_\\pi(S_1) \\given S_0=s, \\pi}.\n",
    "\\end{align}"
   ]
  },
  {
   "cell_type": "markdown",
   "metadata": {},
   "source": [
    "Notice:\n",
    "1. The state value is the *expected immediate return* plus the *expected discounted value of the next state*.\n",
    "2. The expectation is over the selected action (under the policy distribution) and the next state due to this action."
   ]
  },
  {
   "cell_type": "markdown",
   "metadata": {},
   "source": [
    "Writing the expectation explicitly for the state-value function, we get:\n",
    "\n",
    "$$\n",
    "v_{\\pi}(s) =\n",
    "\\sum_{a\\in\\cset{A}}\\pi(a|s)R(s,a) +\n",
    "\\gamma \\sum_{a\\in\\cset{A}} \\sum_{s'\\in\\cset{S}} \\pi(a|s) P_{a}(s,s') v_{\\pi}(s').\n",
    "$$\n",
    "\n",
    "<img src=\"img/v_expectation.png\" width=\"500\" />\n"
   ]
  },
  {
   "cell_type": "markdown",
   "metadata": {},
   "source": [
    "Example MDP with computed state values (not optimal)\n",
    "\n",
    "<img src=\"img/mdp.png\" width=\"700\"/>\n"
   ]
  },
  {
   "cell_type": "markdown",
   "metadata": {},
   "source": [
    "Value of the right study state:\n",
    "$$\n",
    "0.5\\cdot(1+0.2\\cdot -1.3 + 0.4 \\cdot 2.7 + 0.4\\cdot 7.4) + 0.5\\cdot (10+0) = 7.4\n",
    "$$"
   ]
  },
  {
   "cell_type": "markdown",
   "metadata": {},
   "source": [
    "We also define an **action-value function** which is the expected return of a an agent starting at state $s$ and performing action $a$:\n",
    "\n",
    "\\begin{align}\n",
    "q_{\\pi}(s,a) &= \\E{G_t|S_t = s,A_t=a,\\pi} \\\\\n",
    "&= \\E{\\sum_{t=0}^{\\infty} \\gamma^t R_{t+1}\\given S_0=s, A_0=a, \\pi} \\\\\n",
    "&= \\E{R_1 + \\gamma q_{\\pi}(S_1,A_1) \\given S_0=s, A_0=a, \\pi}.\n",
    "\\end{align}"
   ]
  },
  {
   "cell_type": "markdown",
   "metadata": {},
   "source": [
    "Similarly to before, we can write the expectation explicitly for the action-value function:\n",
    "\n",
    "$$\n",
    "q_{\\pi}(s,a) =\n",
    "R(s,a) +\n",
    "\\gamma \\sum_{s'\\in\\cset{S}} P_{a}(s,s') \\sum_{a'\\in\\cset{A}} \\pi(a'|s') q_{\\pi}(s',a').\n",
    "$$\n",
    "\n",
    "<img src=\"img/q_expectation.png\" width=\"500\" />\n"
   ]
  },
  {
   "cell_type": "markdown",
   "metadata": {},
   "source": [
    "Notice that if instead of taking the expectation over actions we take the action with the maximal value,\n",
    "we'll get a better action-value for our current state.\n",
    "\n",
    "Therefore, any **optimal** action-value function $q^\\ast$ must satisfy\n",
    "\n",
    "$$\n",
    "q^\\ast(s,a) =\n",
    "R(s,a) +\n",
    "\\gamma \\sum_{s'\\in\\cset{S}} P_{a}(s,s') \\max_{a'\\in\\cset{A}} q^\\ast(s',a'),\n",
    "$$\n",
    "which is known as the **Bellman optimiality equation**."
   ]
  },
  {
   "cell_type": "markdown",
   "metadata": {},
   "source": [
    "- For any MDP, there is always at least one **deterministic optimal policy**.\n",
    "- If we somehow know the optimal action value function, $q^\\ast(s,a)$, we can get an optimal policy:\n",
    "\n",
    "$$\n",
    "\\pi^\\ast(a|s) =\n",
    "\\begin{cases}\n",
    "1, & a = \\arg\\max_{a'\\in\\cset{A}} q^\\ast(s,a') \\\\\n",
    "0, & \\text{else}\n",
    "\\end{cases}\n",
    "$$"
   ]
  },
  {
   "cell_type": "markdown",
   "metadata": {},
   "source": [
    "- In the RL setting, we generally assume an MDP-based environment, however we **do not** assume that $P$ and $R$ are known.\n",
    "- Therefore, the challenge is to learn both the action value function (or the policy directly)\n",
    "  while simultaneously also learning the underlying environment dynamics (\"rules of the game\")."
   ]
  },
  {
   "cell_type": "markdown",
   "metadata": {},
   "source": [
    "### Experiences and Episodes"
   ]
  },
  {
   "cell_type": "markdown",
   "metadata": {},
   "source": [
    "These are two important RL terms which are commonly used in the context of\n",
    "gathering data from and training RL models on this data."
   ]
  },
  {
   "cell_type": "markdown",
   "metadata": {},
   "source": [
    "- An **experience** is a tuple $(S_t,A_t,R_{t+1},S_{t+1})$. It represents what happened to an agent due to his action at time $t$.\n",
    "\n",
    "- An **episode** is a sequence of experiences\n",
    "  $$\n",
    "  \\left\\{ (S_0,A_0,R_1), (S_1,A_1,R_2), \\dots \\right\\}\n",
    "  $$\n",
    "  which represents one entire \"game\" for the agent.\n",
    "  \n",
    "\n",
    "<img src=\"img/rl_episodes.png\" width=\"1000\" />\n"
   ]
  },
  {
   "cell_type": "markdown",
   "metadata": {},
   "source": [
    "## OpenAI Gym"
   ]
  },
  {
   "cell_type": "markdown",
   "metadata": {},
   "source": [
    "<img src=\"https://gym.openai.com/assets/dist/home/header/home-icon-54c30e2345.svg\" width=\"150\" />\n",
    "\n",
    "From the official [site](https://gym.openai.com):\n",
    "\n",
    "    Gym is a toolkit for developing and comparing reinforcement learning algorithms. \n",
    "    It supports teaching agents everything from walking to playing games\n",
    "    like Pong or Pinball."
   ]
  },
  {
   "cell_type": "markdown",
   "metadata": {},
   "source": [
    "In RL terms, `gym` will provide us an **environment** which comes with states,\n",
    "possible actions and rewards.\n",
    "We will implement our **agent** to work with these environments."
   ]
  },
  {
   "cell_type": "markdown",
   "metadata": {},
   "source": [
    "We'll see a quick example and then explain what's going on and how to use `gym`."
   ]
  },
  {
   "cell_type": "markdown",
   "metadata": {},
   "source": [
    "Let's play the classic Atari game **Space Invaders**, using a randomly-playing agent.\n",
    "\n",
    "<img src=\"img/Space_Invaders_flyer_1978.jpg\" />\n"
   ]
  },
  {
   "cell_type": "code",
   "execution_count": 53,
   "metadata": {
    "slideshow": {
     "slide_type": "slide"
    }
   },
   "outputs": [
    {
     "name": "stdout",
     "output_type": "stream",
     "text": [
      "Played 382 steps. Total reward: 100.0\n"
     ]
    }
   ],
   "source": [
    "import gym\n",
    "from gym.wrappers import Monitor\n",
    "\n",
    "# Create a new SpaceInvaders environment\n",
    "# Wrap it in a Monitor so that we record video\n",
    "with Monitor(gym.make('SpaceInvaders-v0'), \"out\", force=True) as env:\n",
    "    \n",
    "    # Reset the env to start a new episode\n",
    "    env.reset()\n",
    "    episode_done = False\n",
    "    total_reward = 0\n",
    "    total_steps = 0\n",
    "    \n",
    "    # This is our agent code. It will just play randomly.\n",
    "    # As long as the episode is not done (not Game Over), we:\n",
    "    while not episode_done:\n",
    "        # 1. Choose a random valid action to do\n",
    "        action = env.action_space.sample()\n",
    "        \n",
    "        # 2. Do the random action and get feedback from the environment\n",
    "        obs, reward, episode_done, extra_info = env.step(action)\n",
    "        \n",
    "        total_reward += reward\n",
    "        total_steps += 1\n",
    "\n",
    "print(f'Played {total_steps} steps. Total reward: {total_reward}')"
   ]
  },
  {
   "cell_type": "markdown",
   "metadata": {
    "slideshow": {
     "slide_type": "subslide"
    }
   },
   "source": [
    "How do we see what happened?\n",
    "\n",
    "We have a video recording of the last episode generated by our `Monitor`."
   ]
  },
  {
   "cell_type": "code",
   "execution_count": 54,
   "metadata": {
    "slideshow": {
     "slide_type": "fragment"
    }
   },
   "outputs": [],
   "source": [
    "import IPython.display\n",
    "\n",
    "# A helper function that shows the last video from a Monitor env wrapper\n",
    "def show_last_video(monitor_env, width='auto', height='auto'):\n",
    "    video_path = monitor_env.videos[-1][0]\n",
    "    video_path = os.path.relpath(video_path, start=os.path.curdir)\n",
    "    \n",
    "    raw_html = f'<video src=\"{video_path}\" controls autoplay width=\"{width}\" height=\"{height}\" />'\n",
    "    return IPython.display.HTML(data=raw_html)"
   ]
  },
  {
   "cell_type": "code",
   "execution_count": 55,
   "metadata": {
    "slideshow": {
     "slide_type": "subslide"
    }
   },
   "outputs": [
    {
     "name": "stdout",
     "output_type": "stream",
     "text": [
      "Our random agent in action:\n"
     ]
    },
    {
     "data": {
      "text/html": [
       "<video src=\"out/openaigym.video.6.91527.video000000.mp4\" controls autoplay width=\"400\" height=\"auto\" />"
      ],
      "text/plain": [
       "<IPython.core.display.HTML object>"
      ]
     },
     "execution_count": 55,
     "metadata": {},
     "output_type": "execute_result"
    }
   ],
   "source": [
    "print('Our random agent in action:')\n",
    "show_last_video(env, width=400)"
   ]
  },
  {
   "cell_type": "markdown",
   "metadata": {
    "slideshow": {
     "slide_type": "subslide"
    }
   },
   "source": [
    "`gym` offeres many other available environments:  \n",
    " <https://gym.openai.com/envs>"
   ]
  },
  {
   "cell_type": "markdown",
   "metadata": {
    "slideshow": {
     "slide_type": "subslide"
    }
   },
   "source": [
    "### Anatomy of an `Environment`"
   ]
  },
  {
   "cell_type": "markdown",
   "metadata": {},
   "source": [
    "Let's dig in a bit deeper to see what we're working with when using `gym`'s `Environment`s."
   ]
  },
  {
   "cell_type": "markdown",
   "metadata": {},
   "source": [
    "Usually, the `Environment` you use is actually multiple environments, each wrapping another."
   ]
  },
  {
   "cell_type": "code",
   "execution_count": 99,
   "metadata": {},
   "outputs": [
    {
     "data": {
      "text/plain": [
       "\u001b[0;31mType:\u001b[0m            TimeLimit\n",
       "\u001b[0;31mString form:\u001b[0m     <TimeLimit<AtariEnv<SpaceInvaders-v0>>>\n",
       "\u001b[0;31mFile:\u001b[0m            ~/anaconda3/envs/cs236605-tutorials/lib/python3.7/site-packages/gym/wrappers/time_limit.py\n",
       "\u001b[0;31mDocstring:\u001b[0m       <no docstring>\n",
       "\u001b[0;31mClass docstring:\u001b[0m\n",
       "The main OpenAI Gym class. It encapsulates an environment with\n",
       "arbitrary behind-the-scenes dynamics. An environment can be\n",
       "partially or fully observed.\n",
       "\n",
       "The main API methods that users of this class need to know are:\n",
       "\n",
       "    step\n",
       "    reset\n",
       "    render\n",
       "    close\n",
       "    seed\n",
       "\n",
       "And set the following attributes:\n",
       "\n",
       "    action_space: The Space object corresponding to valid actions\n",
       "    observation_space: The Space object corresponding to valid observations\n",
       "    reward_range: A tuple corresponding to the min and max possible rewards\n",
       "\n",
       "Note: a default reward range set to [-inf,+inf] already exists. Set it if you want a narrower range.\n",
       "\n",
       "The methods are accessed publicly as \"step\", \"reset\", etc.. The\n",
       "non-underscored versions are wrapper methods to which we may add\n",
       "functionality over time.\n"
      ]
     },
     "metadata": {},
     "output_type": "display_data"
    }
   ],
   "source": [
    "env = gym.make('SpaceInvaders-v0')\n",
    "env?"
   ]
  },
  {
   "cell_type": "markdown",
   "metadata": {},
   "source": [
    "#### Observations"
   ]
  },
  {
   "cell_type": "code",
   "execution_count": 100,
   "metadata": {},
   "outputs": [],
   "source": [
    "# Starts a new episode, returning an initial observation\n",
    "obs = env.reset()"
   ]
  },
  {
   "cell_type": "markdown",
   "metadata": {},
   "source": [
    "What are we observing exactly?"
   ]
  },
  {
   "cell_type": "code",
   "execution_count": 101,
   "metadata": {},
   "outputs": [
    {
     "name": "stdout",
     "output_type": "stream",
     "text": [
      "<class 'numpy.ndarray'>\n"
     ]
    },
    {
     "data": {
      "text/plain": [
       "(210, 160, 3)"
      ]
     },
     "execution_count": 101,
     "metadata": {},
     "output_type": "execute_result"
    }
   ],
   "source": [
    "print(type(obs))\n",
    "obs.shape"
   ]
  },
  {
   "cell_type": "code",
   "execution_count": 102,
   "metadata": {},
   "outputs": [
    {
     "data": {
      "image/png": "[encoded data removed]",
      "text/plain": [
       "<Figure size 432x432 with 1 Axes>"
      ]
     },
     "metadata": {
      "needs_background": "light"
     },
     "output_type": "display_data"
    }
   ],
   "source": [
    "def show_observation(obs, size=6, cmap=None):\n",
    "    f, ax = plt.subplots(1,1,figsize=(size,size))\n",
    "    ax.imshow(obs, cmap=cmap)\n",
    "    ax.axis('off')\n",
    "\n",
    "show_observation(obs)"
   ]
  },
  {
   "cell_type": "markdown",
   "metadata": {},
   "source": [
    "What is space of possible observations?"
   ]
  },
  {
   "cell_type": "code",
   "execution_count": 103,
   "metadata": {},
   "outputs": [
    {
     "data": {
      "text/plain": [
       "Box(210, 160, 3)"
      ]
     },
     "execution_count": 103,
     "metadata": {},
     "output_type": "execute_result"
    }
   ],
   "source": [
    "env.observation_space"
   ]
  },
  {
   "cell_type": "markdown",
   "metadata": {},
   "source": [
    "`Box` is a `Space` which represents an n-dimentinoal Tensor with values in range [low, high]."
   ]
  },
  {
   "cell_type": "code",
   "execution_count": 104,
   "metadata": {},
   "outputs": [
    {
     "data": {
      "text/plain": [
       "(0, 255)"
      ]
     },
     "execution_count": 104,
     "metadata": {},
     "output_type": "execute_result"
    }
   ],
   "source": [
    "(env.observation_space.low.reshape(-1)[0],\n",
    "env.observation_space.high.reshape(-1)[0])"
   ]
  },
  {
   "cell_type": "code",
   "execution_count": 105,
   "metadata": {},
   "outputs": [
    {
     "data": {
      "image/png": "[encoded data removed]",
      "text/plain": [
       "<Figure size 432x432 with 1 Axes>"
      ]
     },
     "metadata": {
      "needs_background": "light"
     },
     "output_type": "display_data"
    }
   ],
   "source": [
    "obs_sample = env.observation_space.sample()\n",
    "\n",
    "show_observation(obs_sample)"
   ]
  },
  {
   "cell_type": "markdown",
   "metadata": {},
   "source": [
    "#### Actions"
   ]
  },
  {
   "cell_type": "markdown",
   "metadata": {},
   "source": [
    "What **actions** can we perform in this environment?"
   ]
  },
  {
   "cell_type": "code",
   "execution_count": 106,
   "metadata": {},
   "outputs": [
    {
     "data": {
      "text/plain": [
       "Discrete(6)"
      ]
     },
     "execution_count": 106,
     "metadata": {},
     "output_type": "execute_result"
    }
   ],
   "source": [
    "env.action_space"
   ]
  },
  {
   "cell_type": "markdown",
   "metadata": {},
   "source": [
    "`Discrete` is a `Space` which represents `n` integers with values `0,1,...,n-1`.\n",
    "\n",
    "In this case, this means we have 6 possible actions we can choose from at each step of our game."
   ]
  },
  {
   "cell_type": "code",
   "execution_count": 107,
   "metadata": {},
   "outputs": [
    {
     "name": "stdout",
     "output_type": "stream",
     "text": [
      "True\n",
      "False\n"
     ]
    }
   ],
   "source": [
    "print(env.action_space.contains(0))\n",
    "print(env.action_space.contains(6))"
   ]
  },
  {
   "cell_type": "markdown",
   "metadata": {},
   "source": [
    "But what do they mean? It's game specific. For the Atari environments:"
   ]
  },
  {
   "cell_type": "code",
   "execution_count": 108,
   "metadata": {},
   "outputs": [
    {
     "data": {
      "text/plain": [
       "['NOOP', 'FIRE', 'RIGHT', 'LEFT', 'RIGHTFIRE', 'LEFTFIRE']"
      ]
     },
     "execution_count": 108,
     "metadata": {},
     "output_type": "execute_result"
    }
   ],
   "source": [
    "env.unwrapped.get_action_meanings()"
   ]
  },
  {
   "cell_type": "markdown",
   "metadata": {},
   "source": [
    "How do we perform **actions** on the environment?"
   ]
  },
  {
   "cell_type": "code",
   "execution_count": 109,
   "metadata": {},
   "outputs": [
    {
     "name": "stdout",
     "output_type": "stream",
     "text": [
      "reward=0.0, done=False, exrta_info={'ale.lives': 0}\n"
     ]
    },
    {
     "data": {
      "image/png": "[encoded data removed]",
      "text/plain": [
       "<Figure size 720x720 with 1 Axes>"
      ]
     },
     "metadata": {
      "needs_background": "light"
     },
     "output_type": "display_data"
    }
   ],
   "source": [
    "env.reset()\n",
    "\n",
    "fire_action = 1\n",
    "\n",
    "# Run for a few (simulated) seconds\n",
    "fps = 30\n",
    "seconds = 2\n",
    "for _ in range(fps*seconds):\n",
    "    obs, reward, episode_done, exrta_info = env.step(fire_action)\n",
    "\n",
    "show_observation(obs, size=10)\n",
    "print(f'reward={reward}, done={episode_done}, exrta_info={extra_info}')"
   ]
  },
  {
   "cell_type": "code",
   "execution_count": 110,
   "metadata": {},
   "outputs": [],
   "source": [
    "# When done, need to close() the environment\n",
    "env.close()"
   ]
  },
  {
   "cell_type": "markdown",
   "metadata": {},
   "source": [
    "#### Wrappers"
   ]
  },
  {
   "cell_type": "markdown",
   "metadata": {},
   "source": [
    "`Wrapper`s allow you to **wrap** an `Environment` instance and modify it's behavior.\n",
    "\n",
    "We have already used the `Monitor` wrapper, which writes the observation as a video frame each step, and also outputs data about the agents progress during the episode."
   ]
  },
  {
   "cell_type": "markdown",
   "metadata": {},
   "source": [
    "There are some pre-defined wrapper types which allow you to easily intervene in the interaction between your agent and the environment:\n",
    "- `ObservationWrapper` allows you to modify the **observations** before they get to the agent.\n",
    "- `RewardWrapper` allows you to modify the **reward** before it gets to the agent.\n",
    "- `ActionWrapper` allows you to modify the agent's action before it gets to the environment."
   ]
  },
  {
   "cell_type": "code",
   "execution_count": 111,
   "metadata": {},
   "outputs": [],
   "source": [
    "class MalfunctioningScreenWrapper(gym.ObservationWrapper):\n",
    "    # Override the observation() method from ObservationWrapper to change the observation\n",
    "    # on the way to the agent\n",
    "    def observation(self, obs: np.ndarray):\n",
    "        r = np.random.randint(10)\n",
    "        # Invert colors and with a low probability set a single channel\n",
    "        obs  = 255 - obs\n",
    "        if r < 3:\n",
    "            obs[:,:,r] = 128\n",
    "            \n",
    "        self.last_obs = obs\n",
    "        return obs\n",
    "    \n",
    "    # Change render() to show modified observations in video\n",
    "    def render(self, mode, **kw):\n",
    "        r = self.env.render(mode, **kw)\n",
    "        return self.observation(r) if mode == 'rgb_array' else r"
   ]
  },
  {
   "cell_type": "code",
   "execution_count": 112,
   "metadata": {},
   "outputs": [],
   "source": [
    "class TriggerHappyWrapper(gym.ActionWrapper):\n",
    "    # Override the action() method from ActionWrapper to change the action\n",
    "    # on the way to the environment\n",
    "    def action(self, act):\n",
    "        # With a high probability, just do the FIRE action\n",
    "        if np.random.random() < 0.9:\n",
    "            return 1\n",
    "        else:\n",
    "            return act"
   ]
  },
  {
   "cell_type": "markdown",
   "metadata": {},
   "source": [
    "Lets see our `Wrapper`s in action:"
   ]
  },
  {
   "cell_type": "code",
   "execution_count": 113,
   "metadata": {
    "slideshow": {
     "slide_type": "slide"
    }
   },
   "outputs": [
    {
     "name": "stdout",
     "output_type": "stream",
     "text": [
      "Played 771 steps. Total reward: 130.0\n"
     ]
    }
   ],
   "source": [
    "env = \\\n",
    "MalfunctioningScreenWrapper(\n",
    "    TriggerHappyWrapper(\n",
    "        gym.make('SpaceInvaders-v0')\n",
    "    )\n",
    ")\n",
    "with Monitor(env, 'out', force=True) as env:\n",
    "    env.reset()\n",
    "    episode_done = False\n",
    "    total_reward = 0\n",
    "    total_steps = 0\n",
    "    while not episode_done:\n",
    "        action = env.action_space.sample()\n",
    "        obs, reward, episode_done, extra_info = env.step(action)\n",
    "        total_reward += reward\n",
    "        total_steps += 1\n",
    "\n",
    "print(f'Played {total_steps} steps. Total reward: {total_reward}')"
   ]
  },
  {
   "cell_type": "code",
   "execution_count": 114,
   "metadata": {
    "slideshow": {
     "slide_type": "subslide"
    }
   },
   "outputs": [
    {
     "data": {
      "text/html": [
       "<video src=\"out/openaigym.video.8.91527.video000000.mp4\" controls autoplay width=\"400\" height=\"auto\" />"
      ],
      "text/plain": [
       "<IPython.core.display.HTML object>"
      ]
     },
     "execution_count": 114,
     "metadata": {},
     "output_type": "execute_result"
    }
   ],
   "source": [
    "show_last_video(env, width=400)"
   ]
  },
  {
   "cell_type": "markdown",
   "metadata": {},
   "source": [
    "## Deep $q$-learning for Atari games"
   ]
  },
  {
   "cell_type": "markdown",
   "metadata": {},
   "source": [
    "We'll now implement a $q$-learning method using a deep neural network to approxiamte the action value function $q(s,a)$ in an Atari game. We'll teach our model to play by directly observing the game **pixels**, as a human would.\n",
    "\n",
    "This is based on the [seminal paper](https://www.nature.com/articles/nature14236.pdf)\n",
    "\"Human-level control through deep reinforcement learning\", \n",
    "Mnih et al., Nature, 2015.\n"
   ]
  },
  {
   "cell_type": "markdown",
   "metadata": {},
   "source": [
    "### Approach"
   ]
  },
  {
   "cell_type": "markdown",
   "metadata": {},
   "source": [
    "- We will learn a parametrized function $q_{\\Theta}(s,a)$ representing the **action-value** function, implemented as a CNN.\n",
    "- We'll treat the task of learning $q_\\Theta$ as a **regression** problem.\n",
    "- During training, we'll collect **experiences**. We'll denote the $i$th experience as\n",
    "  $$\n",
    "    \\vec{x}^{i} = (s^i,a^i,r^i,{s'}^i).\n",
    "  $$"
   ]
  },
  {
   "cell_type": "markdown",
   "metadata": {},
   "source": [
    "- Our point-wise loss will be an MSE loss,\n",
    "  $$\n",
    "  \\ell_i(\\Theta) = \\left(y^i-q_\\Theta(s^i,a^i)\\right)^2,\n",
    "  $$\n",
    "  where the label, $y^i$, is generated by us like so:\n",
    "  $$\n",
    "  y^i =\n",
    "  \\begin{cases}\n",
    "  r^i, & {s'}^i \\in \\cset{S}_T \\\\\n",
    "  r^i + \\gamma \\max_{a\\in\\cset{A}} q_{\\Theta^-}({s'}^i,a) , &   {s'}^i \\in \\cset{S}\\setminus\\cset{S}_T\n",
    "  \\end{cases}\n",
    "  $$\n",
    "    - Recall the Bellman equation,\n",
    "      $$\n",
    "      q^\\ast(s,a) =\n",
    "      R(s,a) +\n",
    "      \\gamma \\sum_{s'\\in\\cset{S}} P_{a}(s,s') \\max_{a'\\in\\cset{A}} q^\\ast(s',a'),\n",
    "      $$\n",
    "    - Our label is based on this, while dropping the expectation over the next state, since we don't know $P$.\n",
    "    - Since we average these point-wise losses over batches over experiences, we will **implicitly** weight them according to $P$."
   ]
  },
  {
   "cell_type": "markdown",
   "metadata": {},
   "source": [
    "#### Target network"
   ]
  },
  {
   "cell_type": "markdown",
   "metadata": {},
   "source": [
    "A major problem with the way we defined our labels is that we seem to be using\n",
    "the action value of the next state-action pair, $q_\\Theta(s',a')$ to update the\n",
    "current action value $q_\\Theta(s,a)$."
   ]
  },
  {
   "cell_type": "markdown",
   "metadata": {},
   "source": [
    "- This would mean our labels will be very similar to whatever the current network is outputting.\n",
    "\n",
    "- Moreover, any update we do at step $t$ will very likely cuase the labels for the next steps to change, since adjacent steps \"look similar\" to the network."
   ]
  },
  {
   "cell_type": "markdown",
   "metadata": {},
   "source": [
    "To overcome this, The label (target) is calculated using a **target network**, i.e. a different parametrization ($\\Theta^-$) of the $q$ function. The labels are therefore not dependent on the model being trained."
   ]
  },
  {
   "cell_type": "markdown",
   "metadata": {},
   "source": [
    "#### Experience replay"
   ]
  },
  {
   "cell_type": "markdown",
   "metadata": {},
   "source": [
    "Another issue we must face is the non-i.i.d nature of our samples (experiences)."
   ]
  },
  {
   "cell_type": "markdown",
   "metadata": {},
   "source": [
    "By definition, every experience our agent has is highly dependent on all previous\n",
    "experiences in the episode.\n",
    "- SGD critically depends on i.i.d-ness of samples (otherwise, gradient of batches does not, in expectation, equal the actual gradient of the dataset)."
   ]
  },
  {
   "cell_type": "markdown",
   "metadata": {},
   "source": [
    "Moreover, we only have experiences that are based on some current, **sub-optimal** policy,\n",
    "not the actual policy that we want to discover.\n",
    "- If we only update our parameters based on that, we may get stuck in sub-optimal loops."
   ]
  },
  {
   "cell_type": "markdown",
   "metadata": {},
   "source": [
    "The solution is an **Experience replay buffer**:\n",
    "- We store the $N$ most-recent experiences, **across different episodes**:\n",
    "  $$\n",
    "  D_t=\\left\\{\\vec{x}^i\\right\\}_{i=t-N}^{t} =\n",
    "  \\left\\{(s^i,a^i,r^i,{s'}^i)\\right\\}_{i=t-N}^{t}\n",
    "  $$\n",
    "- To update our model, we uniformly sample a batch of experiences from $D_t$."
   ]
  },
  {
   "cell_type": "markdown",
   "metadata": {},
   "source": [
    "#### $\\epsilon$-greedy"
   ]
  },
  {
   "cell_type": "markdown",
   "metadata": {},
   "source": [
    "Initially, our policy will be very bad since we have a wrong action-value function.\n",
    "\n",
    "If we let our agent follow this misguided policy and just collect those experiences, we may never get any useful samples."
   ]
  },
  {
   "cell_type": "markdown",
   "metadata": {},
   "source": [
    "To overcome this,\n",
    "- Our agent will take a random action with probability $\\epsilon$, and use the current policy with probability $1-\\epsilon$.\n",
    "- As training progresses, we'll slowly decay $\\epsilon$ from $1.0$ to something close to zero."
   ]
  },
  {
   "cell_type": "markdown",
   "metadata": {},
   "source": [
    "#### Pre-processing"
   ]
  },
  {
   "cell_type": "markdown",
   "metadata": {},
   "source": [
    "As always, the devil is in the details.\n",
    "The DeepMind paper uses various preprocessing tricks to improve training time and stability."
   ]
  },
  {
   "cell_type": "markdown",
   "metadata": {},
   "source": [
    "- Start playing with some amount of No-Ops.\n",
    "- Pressing FIRE after resetting the environment, so that the agent doesn't need to learn this part.\n",
    "- Stopping the episode after a game \"life\" is lost.\n",
    "- Fusing together two adjacent frames (by taking the pixel-wise maximum) to reduce flickering.\n",
    "- Scaling each frame to 84x84 and converting to grayscale.\n",
    "- Skip $k=4$ frames, applying the same action to in-between frames.\n",
    "- Stacking together $m=4$ frames (after skipping $k$) into a single observation so that the agent can observe the dynamics of entities (speed, direction). Note that consecutive observations will have overlapping frames.\n",
    "- Clipping the reward to range [-1,1].\n",
    "\n",
    "<img src=\"img/deepmind_frames.png\" width=\"600\" />\n"
   ]
  },
  {
   "cell_type": "markdown",
   "metadata": {},
   "source": [
    "Luckily, all these preprocessing steps, implemented as `gym` `Wrapper` classes,\n",
    "can be copied from OpenAI's [baselines](https://github.com/openai/baselines) repo."
   ]
  },
  {
   "cell_type": "code",
   "execution_count": 117,
   "metadata": {},
   "outputs": [
    {
     "name": "stdout",
     "output_type": "stream",
     "text": [
      "<FrameStack<ClipRewardEnv<ScaledFloatFrame<WarpFrame<FireResetEnv<EpisodicLifeEnv<MaxAndSkipEnv<NoopResetEnv<TimeLimit<AtariEnv<SpaceInvadersNoFrameskip-v0>>>>>>>>>>>\n",
      "Box(84, 84, 4)\n",
      "observation shape: (84, 84, 4)\n"
     ]
    },
    {
     "data": {
      "image/png": "[encoded data removed]",
      "text/plain": [
       "<Figure size 288x288 with 1 Axes>"
      ]
     },
     "metadata": {
      "needs_background": "light"
     },
     "output_type": "display_data"
    }
   ],
   "source": [
    "import atari_wrappers\n",
    "\n",
    "env = atari_wrappers.wrap_deepmind(\n",
    "    atari_wrappers.make_atari('SpaceInvadersNoFrameskip-v0'),\n",
    "    frame_stack=True, scale=True)\n",
    "print(env)\n",
    "print(env.observation_space)\n",
    "\n",
    "obs = env.reset()\n",
    "obs = np.array(obs)\n",
    "print(f'observation shape: {obs.shape}')\n",
    "show_observation(obs[:,:,3], size=4, cmap='gray')\n",
    "env.close()"
   ]
  },
  {
   "cell_type": "markdown",
   "metadata": {},
   "source": [
    "### DQN Model"
   ]
  },
  {
   "cell_type": "code",
   "execution_count": 92,
   "metadata": {},
   "outputs": [],
   "source": [
    "import torch.nn as nn\n",
    "\n",
    "class DQN(nn.Module):\n",
    "    def __init__(self, input_shape, n_actions):\n",
    "        super(DQN, self).__init__()\n",
    "\n",
    "        self.conv = nn.Sequential(\n",
    "            nn.Conv2d(input_shape[0], 32, kernel_size=8, stride=4),\n",
    "            nn.ReLU(),\n",
    "            nn.Conv2d(32, 64, kernel_size=4, stride=2),\n",
    "            nn.ReLU(),\n",
    "            nn.Conv2d(64, 64, kernel_size=3, stride=1),\n",
    "            nn.ReLU()\n",
    "        )\n",
    "\n",
    "        conv_out_size = self._get_conv_out(input_shape)\n",
    "        self.fc = nn.Sequential(\n",
    "            nn.Linear(conv_out_size, 512),\n",
    "            nn.ReLU(),\n",
    "            nn.Linear(512, n_actions)\n",
    "        )\n",
    "\n",
    "    def _get_conv_out(self, shape):\n",
    "        o = self.conv(torch.zeros(1, *shape))\n",
    "        return int(np.prod(o.size()))\n",
    "\n",
    "    def forward(self, x):\n",
    "        conv_out = self.conv(x).view(x.size()[0], -1)\n",
    "        return self.fc(conv_out)\n"
   ]
  },
  {
   "cell_type": "code",
   "execution_count": 87,
   "metadata": {},
   "outputs": [],
   "source": [
    "import atari_wrappers\n"
   ]
  },
  {
   "cell_type": "code",
   "execution_count": 88,
   "metadata": {},
   "outputs": [
    {
     "data": {
      "text/plain": [
       "device(type='cpu')"
      ]
     },
     "execution_count": 88,
     "metadata": {},
     "output_type": "execute_result"
    }
   ],
   "source": [
    "device"
   ]
  },
  {
   "cell_type": "code",
   "execution_count": null,
   "metadata": {},
   "outputs": [],
   "source": []
  },
  {
   "cell_type": "code",
   "execution_count": null,
   "metadata": {},
   "outputs": [],
   "source": []
  },
  {
   "cell_type": "markdown",
   "metadata": {},
   "source": [
    "    \"We were supposed to make AI do all the work and we play games\n",
    "    but we do all the work and the AI is playing games!\"\n",
    "    \n",
    "    - Andrej Karpathy"
   ]
  },
  {
   "cell_type": "markdown",
   "metadata": {
    "slideshow": {
     "slide_type": "skip"
    }
   },
   "source": [
    "**Image credits**\n",
    "\n",
    "Some images in this tutorial were taken and/or adapted from:\n",
    "\n",
    "- David Silver's RL course, www0.cs.ucl.ac.uk/staff/d.silver/web/Teaching.html\n",
    "- Max Lapan, Deep Reinforcement Learning Hands-On, Packt, 2018."
   ]
  },
  {
   "cell_type": "code",
   "execution_count": null,
   "metadata": {},
   "outputs": [],
   "source": [
    "f, ax = plt.subplots()"
   ]
  },
  {
   "cell_type": "code",
   "execution_count": null,
   "metadata": {},
   "outputs": [],
   "source": [
    "img = ax.imshow([[1,2],[3,4]])"
   ]
  },
  {
   "cell_type": "code",
   "execution_count": null,
   "metadata": {
    "slideshow": {
     "slide_type": "slide"
    }
   },
   "outputs": [],
   "source": [
    "\n",
    "# import time\n",
    "# from IPython import display\n",
    "\n",
    "# def render_gym_env(env, img=None):\n",
    "#     if img is None:\n",
    "#         _, ax = plt.subplots(figsize=(9,9))\n",
    "#         ax.axis('off')\n",
    "#         img = ax.imshow(env.render(mode='rgb_array'))  \n",
    "#         return img\n",
    "#     img.set_data(env.render(mode='rgb_array'))\n",
    "#     display.clear_output(wait=True)\n",
    "#     display.display(plt.gcf())\n",
    "#     plt.close()\n",
    "#     time.sleep(0.01)"
   ]
  }
 ],
 "metadata": {
  "celltoolbar": "Slideshow",
  "kernelspec": {
   "display_name": "Python 3",
   "language": "python",
   "name": "python3"
  },
  "language_info": {
   "codemirror_mode": {
    "name": "ipython",
    "version": 3
   },
   "file_extension": ".py",
   "mimetype": "text/x-python",
   "name": "python",
   "nbconvert_exporter": "python",
   "pygments_lexer": "ipython3",
   "version": "3.7.3"
  }
 },
 "nbformat": 4,
 "nbformat_minor": 2
}

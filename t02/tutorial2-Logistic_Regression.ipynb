{
 "cells": [
  {
   "cell_type": "markdown",
   "metadata": {
    "slideshow": {
     "slide_type": "slide"
    }
   },
   "source": [
    "$$\n",
    "\\newcommand{\\mat}[1]{\\boldsymbol {#1}}\n",
    "\\newcommand{\\mattr}[1]{\\boldsymbol {#1}^\\top}\n",
    "\\newcommand{\\matinv}[1]{\\boldsymbol {#1}^{-1}}\n",
    "\\newcommand{\\vec}[1]{\\boldsymbol {#1}}\n",
    "\\newcommand{\\vectr}[1]{\\boldsymbol {#1}^\\top}\n",
    "\\newcommand{\\rvar}[1]{\\mathrm {#1}}\n",
    "\\newcommand{\\rvec}[1]{\\boldsymbol{\\mathrm{#1}}}\n",
    "\\newcommand{\\diag}{\\mathop{\\mathrm {diag}}}\n",
    "\\newcommand{\\set}[1]{\\mathbb {#1}}\n",
    "\\newcommand{\\norm}[1]{\\left\\lVert#1\\right\\rVert}\n",
    "\\newcommand{\\pderiv}[2]{\\frac{\\partial #1}{\\partial #2}}\n",
    "\\newcommand{\\bb}[1]{\\boldsymbol{#1}}\n",
    "\\newcommand{\\E}[2][]{\\mathbb{E}_{#1}\\left[#2\\right]}\n",
    "\\newcommand{\\given}[]{~\\middle\\vert~}\n",
    "$$\n",
    "\n",
    "# CS236781: Deep Learning\n",
    "# Tutorial 2: Supervised Learning"
   ]
  },
  {
   "cell_type": "markdown",
   "metadata": {
    "slideshow": {
     "slide_type": "slide"
    }
   },
   "source": [
    "## Introduction\n",
    "\n",
    "In this tutorial, we will cover:\n",
    "\n",
    "* Basics of supervised learning\n",
    "* Binary logistic regression from scratch using numpy\n",
    "* Multiclass logistic regression from scratch with PyTorch and autograd"
   ]
  },
  {
   "cell_type": "code",
   "execution_count": 1,
   "metadata": {
    "slideshow": {
     "slide_type": "fragment"
    }
   },
   "outputs": [],
   "source": [
    "# Setup\n",
    "%matplotlib inline\n",
    "import numpy as np\n",
    "import pandas as pd\n",
    "import sklearn\n",
    "import matplotlib.pyplot as plt"
   ]
  },
  {
   "cell_type": "code",
   "execution_count": 2,
   "metadata": {
    "slideshow": {
     "slide_type": "fragment"
    }
   },
   "outputs": [],
   "source": [
    "plt.rcParams['font.size'] = 20"
   ]
  },
  {
   "cell_type": "markdown",
   "metadata": {
    "slideshow": {
     "slide_type": "slide"
    }
   },
   "source": [
    "## Theory Reminders"
   ]
  },
  {
   "cell_type": "markdown",
   "metadata": {
    "slideshow": {
     "slide_type": "subslide"
    }
   },
   "source": [
    "### The supervised learning framework"
   ]
  },
  {
   "cell_type": "markdown",
   "metadata": {
    "slideshow": {
     "slide_type": "fragment"
    }
   },
   "source": [
    "We have a labeled dataset of $N$ labelled samples: $\\mathcal{S} = \\{ (\\vec{x}^i,y^i) \\}_{i=1}^N$, where\n",
    "- $\\vec{x}^i = \\left(x^i_1, \\dots, x^i_D\\right) \\in \\mathcal{X}$  is a **sample** or **feature vector**.\n",
    "- $y^i \\in \\mathcal{Y}$ is the **label**.\n",
    "- For classification with $C$ classes, $\\mathcal{Y} = \\{0,\\dots,C-1\\}$, so each $y^i$ is a **class label**.\n",
    "- Usually we assume each labeled sample $(\\vec{x}^i,y^i)\\sim\\mathcal{D}$,\n",
    "  i.e. each labeled sample is drawn from a joint distribution $\\mathcal{D}$ over $\\mathcal{X}\\times\\mathcal{Y}$."
   ]
  },
  {
   "cell_type": "markdown",
   "metadata": {
    "slideshow": {
     "slide_type": "subslide"
    }
   },
   "source": [
    "Our **model** is a parametrized set of functions $\\mathcal{H}\\subseteq \\mathcal{Y}^{\\mathcal{X}}$.\n",
    "\n",
    "For example, the following hypothesis class\n",
    "$$\n",
    "\\mathcal{H} =\n",
    "\\left\\{ h: \\mathcal{X}\\rightarrow\\mathcal{Y}\n",
    "~\\vert~\n",
    "h(\\vec{x}) = \\varphi(\\vectr{w}\\vec{x}+b); \\vec{w}\\in\\set{R}^D,~b\\in\\set{R}\\right\\}\n",
    "$$\n",
    "where $\\varphi(\\cdot)$ is some nonlinear function, is known as the **perceptron** model.\n",
    "\n",
    "<center><img src=\"imgs/perceptron.png\" width=400 /></center>"
   ]
  },
  {
   "cell_type": "markdown",
   "metadata": {
    "slideshow": {
     "slide_type": "subslide"
    }
   },
   "source": [
    "A **pointwise loss function** is some $\\ell:\\mathcal{Y}\\times\\mathcal{Y}\\to\\mathcal{R}_{\\geq 0}$, e.g.\n",
    "- $\\ell(y,\\hat{y})=(y-\\hat{y})^2$\n",
    "- $\\ell(y,\\hat{y})= -y\\log(\\hat{y})-(1-y)\\log(1-\\hat{y})$"
   ]
  },
  {
   "cell_type": "markdown",
   "metadata": {
    "slideshow": {
     "slide_type": "subslide"
    }
   },
   "source": [
    "The task: Given the training set $\\mathcal{S} = \\{ (\\vec{x}^i,y^i) \\}_{i=1}^N \\sim \\mathcal{D}$, find \n",
    "a predictor (hypothesis) $h: \\mathcal{X}\\to\\mathcal{Y}$ which minimizes **population loss**:\n",
    "\n",
    "$$\n",
    "L_{\\mathcal{D}}(h) = \\E[(\\vec{x},y)\\sim\\mathcal{D}]{\\ell(y, h(\\vec{x})}.\n",
    "$$\n",
    "\n",
    "This is also known as the out-of-sample loss."
   ]
  },
  {
   "cell_type": "markdown",
   "metadata": {
    "slideshow": {
     "slide_type": "fragment"
    }
   },
   "source": [
    "Can we solve this problem?"
   ]
  },
  {
   "cell_type": "markdown",
   "metadata": {
    "slideshow": {
     "slide_type": "fragment"
    }
   },
   "source": [
    "Joint-distribution $\\mathcal{D}$ is unknown!"
   ]
  },
  {
   "cell_type": "markdown",
   "metadata": {
    "slideshow": {
     "slide_type": "subslide"
    }
   },
   "source": [
    "Instead, we define an **empirical loss** $L_{\\mathcal{S}}(h)$ as the measure of how well a function $h\\in\\mathcal{H}$ fits the data $\\mathcal{S}$, for example\n",
    "$$\n",
    "L_{\\mathcal{S}}(h) = \\frac{1}{N} \\sum_{i=1}^{N} \\ell(h(\\vec{x}^i), y^i) + R(h)\n",
    "$$\n",
    "where\n",
    "\n",
    "- $\\ell(y,\\hat{y})$ is some pointwise loss (depends on on the data).\n",
    "- $R(h)$ is a regularization term (depends only on the model)."
   ]
  },
  {
   "cell_type": "markdown",
   "metadata": {
    "slideshow": {
     "slide_type": "subslide"
    }
   },
   "source": [
    "### Optimization"
   ]
  },
  {
   "cell_type": "markdown",
   "metadata": {
    "slideshow": {
     "slide_type": "fragment"
    }
   },
   "source": [
    "The model is **trained** by updating it's parameters to improve its performance on some data."
   ]
  },
  {
   "cell_type": "markdown",
   "metadata": {
    "slideshow": {
     "slide_type": "fragment"
    }
   },
   "source": [
    "We wish to find a parametrization $\\vec{w}^\\ast$ of our model $h^{\\ast}_{\\mathcal{S}}(\\vec{x};\\vec{w}^\\ast)\\in\\mathcal{H}$ such that\n",
    "$$\n",
    "h^{\\ast}_{\\mathcal{S}} = \\arg\\min_{h\\in\\mathcal{H}} L_{\\mathcal{S}}(h)\n",
    "$$"
   ]
  },
  {
   "cell_type": "markdown",
   "metadata": {
    "slideshow": {
     "slide_type": "subslide"
    }
   },
   "source": [
    "Usual approach: **Stochastic gradient descent** (will be covered in next lecture)\n",
    "$$\n",
    "\\vec{w} \\leftarrow \\vec{w} - \\eta \\nabla_{\\vec{w}} L(\\vec{w})\n",
    "$$"
   ]
  },
  {
   "cell_type": "markdown",
   "metadata": {
    "slideshow": {
     "slide_type": "fragment"
    }
   },
   "source": [
    "<center><img src=\"imgs/sgd2d_2.png\" width=1000 /></center>"
   ]
  },
  {
   "cell_type": "markdown",
   "metadata": {
    "slideshow": {
     "slide_type": "subslide"
    }
   },
   "source": [
    "Why is it stochastic?"
   ]
  },
  {
   "cell_type": "markdown",
   "metadata": {
    "slideshow": {
     "slide_type": "fragment"
    }
   },
   "source": [
    "<center><img src=\"imgs/sgd1d.png\" width=1000 /></center>"
   ]
  },
  {
   "cell_type": "markdown",
   "metadata": {
    "slideshow": {
     "slide_type": "fragment"
    }
   },
   "source": [
    "Generally the loss is non-convex and we have no guarantee of converging to the global optimum!\n",
    "$\\Rightarrow$ **Optimization Error**"
   ]
  },
  {
   "cell_type": "markdown",
   "metadata": {
    "slideshow": {
     "slide_type": "subslide"
    }
   },
   "source": [
    "### Generalization and Expressiveness"
   ]
  },
  {
   "cell_type": "markdown",
   "metadata": {
    "slideshow": {
     "slide_type": "fragment"
    }
   },
   "source": [
    "What are **other** sources of errors in our approach (besides optimization)?"
   ]
  },
  {
   "cell_type": "markdown",
   "metadata": {
    "slideshow": {
     "slide_type": "fragment"
    }
   },
   "source": [
    "We train to minimize our empirical loss $L_\\mathcal{S}$ instead of the population loss $L_\\mathcal{D}$ $\\Rightarrow$ **Generalization Error**"
   ]
  },
  {
   "cell_type": "markdown",
   "metadata": {
    "slideshow": {
     "slide_type": "fragment"
    }
   },
   "source": [
    "We only consider a limited set of possible functions, $\\mathcal{H}$ $\\Rightarrow$ **Approximation Error**"
   ]
  },
  {
   "cell_type": "markdown",
   "metadata": {
    "slideshow": {
     "slide_type": "subslide"
    }
   },
   "source": [
    "<center><img src=\"imgs/error_types.png\" width=1200 /></center>"
   ]
  },
  {
   "cell_type": "markdown",
   "metadata": {
    "slideshow": {
     "slide_type": "slide"
    }
   },
   "source": [
    "### Binary Logistic Regression\n",
    "\n",
    "Actually a **classification** model. We're trying to classify data into 2 classes."
   ]
  },
  {
   "cell_type": "markdown",
   "metadata": {
    "slideshow": {
     "slide_type": "subslide"
    }
   },
   "source": [
    "- Domain: $\\vec{x}^i \\in \\set{R}^D$\n",
    "- Target: $y^i \\in \\{0,1\\}$\n",
    "- Model: $\\hat{y} = h(\\vec{x}) = \\sigma(\\vectr{w}\\vec{x}+b)$, where $\\sigma(\\vec{z})$ is the **logistic function**:\n",
    "    $$\\sigma(\\vec{z}) = \\frac{1}{1+e^{-\\vec{z}}}.$$\n",
    "- Probabilistic interpretation: $\\hat{y}=P(\\rvar{Y}=1|\\rvec{X}=\\vec{x})$."
   ]
  },
  {
   "cell_type": "code",
   "execution_count": 3,
   "metadata": {
    "slideshow": {
     "slide_type": "subslide"
    }
   },
   "outputs": [],
   "source": [
    "def logistic(z):\n",
    "    return 1 / (1 + np.exp(-z))\n",
    "\n",
    "x = np.arange(-5, 5, .01)\n",
    "y_hat = logistic(x)"
   ]
  },
  {
   "cell_type": "code",
   "execution_count": 4,
   "metadata": {
    "slideshow": {
     "slide_type": "subslide"
    }
   },
   "outputs": [
    {
     "data": {
      "image/png": "[encoded data removed]",
      "text/plain": [
       "<Figure size 432x288 with 1 Axes>"
      ]
     },
     "metadata": {
      "needs_background": "light"
     },
     "output_type": "display_data"
    }
   ],
   "source": [
    "plt.plot(x, y_hat, label='$\\sigma(z)$')\n",
    "plt.grid(True); plt.xlabel('z'); plt.legend(); plt.title('The logistic function');\n",
    "\n",
    "loss_y0 = -np.log(1-y_hat)\n",
    "loss_y1 = -np.log(y_hat)"
   ]
  },
  {
   "cell_type": "markdown",
   "metadata": {
    "slideshow": {
     "slide_type": "slide"
    }
   },
   "source": [
    "To optimize, we minimize the **negative log-likelihood** (equivalent to maximizing likelihood):\n",
    "\n",
    "$$\n",
    "\\bb{w}^\\ast = \\mathrm{arg}\\max_{ \\bb{w}} \\prod_{i=1}^n P(y_i | \\bb{x}_i;\\vec{w}) = \\mathrm{arg}\\min_{ \\bb{w}} \\sum_{i=1}^n -\\log P(y_i | \\bb{x}_i; \\vec{w})\n",
    "$$"
   ]
  },
  {
   "cell_type": "markdown",
   "metadata": {
    "slideshow": {
     "slide_type": "slide"
    }
   },
   "source": [
    "$$\n",
    "\\begin{align}\n",
    "L(\\bb{w}) &= \\sum_{i=1}^n -\\log P(y_i | \\bb{x}_i)\\\\\n",
    "&= \\sum_{i=1}^n -y_i \\log P(y_i=1 | \\bb{x}_i) - (1-y_i) \\log P(y_i=0 | \\bb{x}_i) \\\\\n",
    "&= \\sum_{i=1}^n -y_i \\log \\hat{y}_i - (1-y_i) \\log(1-\\hat{y}_i)\n",
    "\\end{align}\n",
    "$$"
   ]
  },
  {
   "cell_type": "markdown",
   "metadata": {
    "slideshow": {
     "slide_type": "slide"
    }
   },
   "source": [
    "The resulting pointwise loss is also known as **cross-entropy**:\n",
    "$$\n",
    "\\begin{align}\n",
    "\\ell(y, \\hat{y}) &=  - y \\log(\\hat{y}) - (1-y) \\log(1-\\hat{y}) \\\\\n",
    "\\end{align}\n",
    "$$"
   ]
  },
  {
   "cell_type": "markdown",
   "metadata": {
    "slideshow": {
     "slide_type": "slide"
    }
   },
   "source": [
    "Optimization scheme: No closed form solution, but loss is **convex** so gradient-based approach leads to global optimum.\n",
    "\n",
    "$$\n",
    "\\begin{align}\n",
    "\\ell(y, \\hat{y}) &=  - y \\log(\\hat{y}) - (1-y) \\log(1-\\hat{y}) \\\\\n",
    "\\end{align}\n",
    "$$"
   ]
  },
  {
   "cell_type": "code",
   "execution_count": 5,
   "metadata": {
    "slideshow": {
     "slide_type": "fragment"
    }
   },
   "outputs": [
    {
     "data": {
      "image/png": "[encoded data removed]",
      "text/plain": [
       "<Figure size 432x288 with 1 Axes>"
      ]
     },
     "metadata": {
      "needs_background": "light"
     },
     "output_type": "display_data"
    }
   ],
   "source": [
    "plt.plot(y_hat, loss_y0, label='$\\ell(y=0,\\hat{y})$')\n",
    "plt.plot(y_hat, loss_y1, label='$\\ell(y=1,\\hat{y})$')\n",
    "plt.grid(True); plt.xlabel('$\\hat{y}$'); plt.legend(); plt.title('Cross entropy loss');"
   ]
  },
  {
   "cell_type": "markdown",
   "metadata": {
    "slideshow": {
     "slide_type": "subslide"
    }
   },
   "source": [
    "To apply gradient descent, we need to know the gradient of the loss w.r.t. the parameters $\\vec{w}$."
   ]
  },
  {
   "cell_type": "markdown",
   "metadata": {
    "slideshow": {
     "slide_type": "subslide"
    }
   },
   "source": [
    "Exercise: Prove that for the binary cross entropy loss, we have\n",
    "$$\n",
    "\\pderiv{\\ell(y,\\hat{y})}{\\vec{w}}= (\\hat{y}-y)\\vec{x}.\n",
    "$$"
   ]
  },
  {
   "cell_type": "markdown",
   "metadata": {
    "slideshow": {
     "slide_type": "skip"
    }
   },
   "source": [
    "Proof:\n",
    "\n",
    "First, we apply the chain-rule\n",
    "$$\n",
    "\\pderiv{\\ell(y,\\hat{y})}{\\vec{w}}=\\pderiv{\\ell}{\\hat{y}}\\cdot\\pderiv{\\hat{y}}{z}\\cdot\\pderiv{z}{\\vec{w}},\n",
    "$$\n",
    "where $z=\\vectr{w}\\vec{x}$.\n",
    "\n",
    "Now,\n",
    "$$\n",
    "\\begin{align}\n",
    "\\pderiv{\\ell}{\\hat{y}}&=-\\frac{y}{\\hat{y}}+\\frac{1-y}{1-\\hat{y}}=\\frac{\\hat{y}-y}{\\hat{y}(1-\\hat{y})}\\\\\n",
    "\\pderiv{\\hat{y}}{z}&=\\frac{e^{-z}}{(1+e^{-z})^2}=\n",
    "\\frac{e^{-z}}{1+e^{-z}}\\cdot\\frac{1}{1+e^{-z}}=(1-\\sigma(z))\\sigma(z)=(1-\\hat{y})\\hat{y}\\\\\n",
    "\\pderiv{z}{\\vec{w}}&=\\vec{x}\n",
    "\\end{align}\n",
    "$$"
   ]
  },
  {
   "cell_type": "markdown",
   "metadata": {
    "slideshow": {
     "slide_type": "slide"
    }
   },
   "source": [
    "## Part 1: Binary Logistic Regression"
   ]
  },
  {
   "cell_type": "markdown",
   "metadata": {
    "slideshow": {
     "slide_type": "fragment"
    }
   },
   "source": [
    "Let's see a quick example of implementing this algorithm and training it from scratch using just `numpy` (and a toy dataset from `sklearn`)."
   ]
  },
  {
   "cell_type": "markdown",
   "metadata": {
    "slideshow": {
     "slide_type": "subslide"
    }
   },
   "source": [
    "## Dataset\n",
    "\n",
    "The `scikit-learn` library comes with a few [toy datasets](http://scikit-learn.org/stable/datasets/index.html#toy-datasets) that are fun to quickly train small models on.\n",
    "\n",
    "As an example we'll load the Wisconsin-breast cancer database:\n",
    "- 569 samples of cancer patients\n",
    "- 30 features: various properties of tumor cells extracted from images\n",
    "- 2 classes: Tumor is either Benign or Malignant"
   ]
  },
  {
   "cell_type": "code",
   "execution_count": 6,
   "metadata": {
    "slideshow": {
     "slide_type": "subslide"
    }
   },
   "outputs": [
    {
     "name": "stdout",
     "output_type": "stream",
     "text": [
      "X: (569, 30)\n",
      "y: (569,)\n",
      "feature names: ['mean radius' 'mean texture' 'mean perimeter' 'mean area'\n",
      " 'mean smoothness' 'mean compactness' 'mean concavity'\n",
      " 'mean concave points' 'mean symmetry' 'mean fractal dimension'\n",
      " 'radius error' 'texture error' 'perimeter error' 'area error'\n",
      " 'smoothness error' 'compactness error' 'concavity error'\n",
      " 'concave points error' 'symmetry error' 'fractal dimension error'\n",
      " 'worst radius' 'worst texture' 'worst perimeter' 'worst area'\n",
      " 'worst smoothness' 'worst compactness' 'worst concavity'\n",
      " 'worst concave points' 'worst symmetry' 'worst fractal dimension']\n",
      "target  names: ['malignant' 'benign']\n"
     ]
    }
   ],
   "source": [
    "import sklearn.datasets\n",
    "\n",
    "ds_cancer = sklearn.datasets.load_breast_cancer()\n",
    "feature_names = ds_cancer.feature_names\n",
    "target_names = ds_cancer.target_names\n",
    "n_features = len(feature_names)\n",
    "\n",
    "X, y = ds_cancer.data, ds_cancer.target\n",
    "y_names = np.full_like(y, target_names[0].upper(), dtype=target_names.dtype)\n",
    "y_names[y==1] = target_names[1].upper()\n",
    "n_samples = len(y)\n",
    "\n",
    "print(f'X: {X.shape}')\n",
    "print(f'y: {y.shape}')\n",
    "print(f'feature names: {feature_names}')\n",
    "print(f'target  names: {target_names}')"
   ]
  },
  {
   "cell_type": "code",
   "execution_count": 7,
   "metadata": {
    "slideshow": {
     "slide_type": "subslide"
    }
   },
   "outputs": [
    {
     "data": {
      "text/html": [
       "<div>\n",
       "<style scoped>\n",
       "    .dataframe tbody tr th:only-of-type {\n",
       "        vertical-align: middle;\n",
       "    }\n",
       "\n",
       "    .dataframe tbody tr th {\n",
       "        vertical-align: top;\n",
       "    }\n",
       "\n",
       "    .dataframe thead th {\n",
       "        text-align: right;\n",
       "    }\n",
       "</style>\n",
       "<table border=\"1\" class=\"dataframe\">\n",
       "  <thead>\n",
       "    <tr style=\"text-align: right;\">\n",
       "      <th></th>\n",
       "      <th>mean radius</th>\n",
       "      <th>mean area</th>\n",
       "      <th>mean concavity</th>\n",
       "      <th>mean fractal dimension</th>\n",
       "      <th>perimeter error</th>\n",
       "      <th>compactness error</th>\n",
       "      <th>symmetry error</th>\n",
       "      <th>worst texture</th>\n",
       "      <th>worst smoothness</th>\n",
       "      <th>worst concave points</th>\n",
       "      <th>CLASS</th>\n",
       "    </tr>\n",
       "  </thead>\n",
       "  <tbody>\n",
       "    <tr>\n",
       "      <th>100</th>\n",
       "      <td>13.610</td>\n",
       "      <td>582.7</td>\n",
       "      <td>0.08625</td>\n",
       "      <td>0.05871</td>\n",
       "      <td>2.8610</td>\n",
       "      <td>0.014880</td>\n",
       "      <td>0.01465</td>\n",
       "      <td>35.27</td>\n",
       "      <td>0.1265</td>\n",
       "      <td>0.11840</td>\n",
       "      <td>MALIGNANT</td>\n",
       "    </tr>\n",
       "    <tr>\n",
       "      <th>101</th>\n",
       "      <td>6.981</td>\n",
       "      <td>143.5</td>\n",
       "      <td>0.00000</td>\n",
       "      <td>0.07818</td>\n",
       "      <td>1.5530</td>\n",
       "      <td>0.010840</td>\n",
       "      <td>0.02659</td>\n",
       "      <td>19.54</td>\n",
       "      <td>0.1584</td>\n",
       "      <td>0.00000</td>\n",
       "      <td>BENIGN</td>\n",
       "    </tr>\n",
       "    <tr>\n",
       "      <th>102</th>\n",
       "      <td>12.180</td>\n",
       "      <td>458.7</td>\n",
       "      <td>0.02383</td>\n",
       "      <td>0.05677</td>\n",
       "      <td>1.1830</td>\n",
       "      <td>0.006098</td>\n",
       "      <td>0.01447</td>\n",
       "      <td>32.84</td>\n",
       "      <td>0.1123</td>\n",
       "      <td>0.07431</td>\n",
       "      <td>BENIGN</td>\n",
       "    </tr>\n",
       "    <tr>\n",
       "      <th>103</th>\n",
       "      <td>9.876</td>\n",
       "      <td>298.3</td>\n",
       "      <td>0.06154</td>\n",
       "      <td>0.06322</td>\n",
       "      <td>1.5280</td>\n",
       "      <td>0.021960</td>\n",
       "      <td>0.01609</td>\n",
       "      <td>26.83</td>\n",
       "      <td>0.1559</td>\n",
       "      <td>0.09749</td>\n",
       "      <td>BENIGN</td>\n",
       "    </tr>\n",
       "    <tr>\n",
       "      <th>104</th>\n",
       "      <td>10.490</td>\n",
       "      <td>336.1</td>\n",
       "      <td>0.02995</td>\n",
       "      <td>0.06481</td>\n",
       "      <td>2.3020</td>\n",
       "      <td>0.022190</td>\n",
       "      <td>0.02710</td>\n",
       "      <td>23.31</td>\n",
       "      <td>0.1219</td>\n",
       "      <td>0.03203</td>\n",
       "      <td>BENIGN</td>\n",
       "    </tr>\n",
       "    <tr>\n",
       "      <th>105</th>\n",
       "      <td>13.110</td>\n",
       "      <td>530.2</td>\n",
       "      <td>0.20710</td>\n",
       "      <td>0.07692</td>\n",
       "      <td>2.4100</td>\n",
       "      <td>0.029120</td>\n",
       "      <td>0.01547</td>\n",
       "      <td>22.40</td>\n",
       "      <td>0.1862</td>\n",
       "      <td>0.19860</td>\n",
       "      <td>MALIGNANT</td>\n",
       "    </tr>\n",
       "    <tr>\n",
       "      <th>106</th>\n",
       "      <td>11.640</td>\n",
       "      <td>412.5</td>\n",
       "      <td>0.07070</td>\n",
       "      <td>0.06520</td>\n",
       "      <td>2.1550</td>\n",
       "      <td>0.023100</td>\n",
       "      <td>0.01565</td>\n",
       "      <td>29.26</td>\n",
       "      <td>0.1688</td>\n",
       "      <td>0.12180</td>\n",
       "      <td>BENIGN</td>\n",
       "    </tr>\n",
       "    <tr>\n",
       "      <th>107</th>\n",
       "      <td>12.360</td>\n",
       "      <td>466.7</td>\n",
       "      <td>0.02643</td>\n",
       "      <td>0.06066</td>\n",
       "      <td>0.8484</td>\n",
       "      <td>0.010470</td>\n",
       "      <td>0.01251</td>\n",
       "      <td>27.49</td>\n",
       "      <td>0.1184</td>\n",
       "      <td>0.08442</td>\n",
       "      <td>BENIGN</td>\n",
       "    </tr>\n",
       "    <tr>\n",
       "      <th>108</th>\n",
       "      <td>22.270</td>\n",
       "      <td>1509.0</td>\n",
       "      <td>0.42640</td>\n",
       "      <td>0.07039</td>\n",
       "      <td>10.0500</td>\n",
       "      <td>0.086680</td>\n",
       "      <td>0.03112</td>\n",
       "      <td>28.01</td>\n",
       "      <td>0.1701</td>\n",
       "      <td>0.29100</td>\n",
       "      <td>MALIGNANT</td>\n",
       "    </tr>\n",
       "    <tr>\n",
       "      <th>109</th>\n",
       "      <td>11.340</td>\n",
       "      <td>396.5</td>\n",
       "      <td>0.05133</td>\n",
       "      <td>0.06529</td>\n",
       "      <td>1.5970</td>\n",
       "      <td>0.015570</td>\n",
       "      <td>0.01568</td>\n",
       "      <td>29.15</td>\n",
       "      <td>0.1699</td>\n",
       "      <td>0.08278</td>\n",
       "      <td>BENIGN</td>\n",
       "    </tr>\n",
       "  </tbody>\n",
       "</table>\n",
       "</div>"
      ],
      "text/plain": [
       "     mean radius  mean area  mean concavity  mean fractal dimension  \\\n",
       "100       13.610      582.7         0.08625                 0.05871   \n",
       "101        6.981      143.5         0.00000                 0.07818   \n",
       "102       12.180      458.7         0.02383                 0.05677   \n",
       "103        9.876      298.3         0.06154                 0.06322   \n",
       "104       10.490      336.1         0.02995                 0.06481   \n",
       "105       13.110      530.2         0.20710                 0.07692   \n",
       "106       11.640      412.5         0.07070                 0.06520   \n",
       "107       12.360      466.7         0.02643                 0.06066   \n",
       "108       22.270     1509.0         0.42640                 0.07039   \n",
       "109       11.340      396.5         0.05133                 0.06529   \n",
       "\n",
       "     perimeter error  compactness error  symmetry error  worst texture  \\\n",
       "100           2.8610           0.014880         0.01465          35.27   \n",
       "101           1.5530           0.010840         0.02659          19.54   \n",
       "102           1.1830           0.006098         0.01447          32.84   \n",
       "103           1.5280           0.021960         0.01609          26.83   \n",
       "104           2.3020           0.022190         0.02710          23.31   \n",
       "105           2.4100           0.029120         0.01547          22.40   \n",
       "106           2.1550           0.023100         0.01565          29.26   \n",
       "107           0.8484           0.010470         0.01251          27.49   \n",
       "108          10.0500           0.086680         0.03112          28.01   \n",
       "109           1.5970           0.015570         0.01568          29.15   \n",
       "\n",
       "     worst smoothness  worst concave points      CLASS  \n",
       "100            0.1265               0.11840  MALIGNANT  \n",
       "101            0.1584               0.00000     BENIGN  \n",
       "102            0.1123               0.07431     BENIGN  \n",
       "103            0.1559               0.09749     BENIGN  \n",
       "104            0.1219               0.03203     BENIGN  \n",
       "105            0.1862               0.19860  MALIGNANT  \n",
       "106            0.1688               0.12180     BENIGN  \n",
       "107            0.1184               0.08442     BENIGN  \n",
       "108            0.1701               0.29100  MALIGNANT  \n",
       "109            0.1699               0.08278     BENIGN  "
      ]
     },
     "execution_count": 7,
     "metadata": {},
     "output_type": "execute_result"
    }
   ],
   "source": [
    "# Load into a pandas dataframe and show some samples\n",
    "df_cancer = pd.DataFrame(data=X, columns=ds_cancer.feature_names)\n",
    "df_cancer = df_cancer.assign(CLASS=y_names)\n",
    "df_cancer.iloc[100:110, 0::3]"
   ]
  },
  {
   "cell_type": "code",
   "execution_count": 8,
   "metadata": {
    "slideshow": {
     "slide_type": "subslide"
    }
   },
   "outputs": [
    {
     "name": "stdout",
     "output_type": "stream",
     "text": [
      "train: X=(398, 30) y=(398,)\n",
      "test : X=(171, 30) y=(171,)\n"
     ]
    }
   ],
   "source": [
    "# Split into train and test sets\n",
    "from sklearn.model_selection import train_test_split\n",
    "\n",
    "X_train, X_test, y_train, y_test = train_test_split(X, y, test_size=0.3, random_state=42, stratify=y)\n",
    "\n",
    "print(f'train: X={X_train.shape} y={y_train.shape}')\n",
    "print(f'test : X={X_test.shape} y={y_test.shape}')"
   ]
  },
  {
   "cell_type": "code",
   "execution_count": 9,
   "metadata": {
    "slideshow": {
     "slide_type": "subslide"
    }
   },
   "outputs": [
    {
     "name": "stdout",
     "output_type": "stream",
     "text": [
      "mu_X: [1.40938467e+01 1.93415327e+01 9.16989447e+01 6.50784171e+02\n",
      " 9.57892714e-02 1.03143442e-01 8.84457681e-02 4.80487286e-02\n",
      " 1.80492965e-01 6.27095729e-02 3.91917085e-01 1.19798166e+00\n",
      " 2.77358819e+00 3.82153342e+01 6.98150251e-03 2.53617487e-02\n",
      " 3.21848910e-02 1.15316784e-02 2.06816231e-02 3.80615352e-03\n",
      " 1.62665603e+01 2.58163065e+01 1.07220678e+02 8.79696734e+02\n",
      " 1.32259095e-01 2.57169975e-01 2.78709540e-01 1.14484601e-01\n",
      " 2.92937688e-01 8.42292211e-02]\n",
      "sigma_X: [1.40938467e+01 1.93415327e+01 9.16989447e+01 6.50784171e+02\n",
      " 9.57892714e-02 1.03143442e-01 8.84457681e-02 4.80487286e-02\n",
      " 1.80492965e-01 6.27095729e-02 3.91917085e-01 1.19798166e+00\n",
      " 2.77358819e+00 3.82153342e+01 6.98150251e-03 2.53617487e-02\n",
      " 3.21848910e-02 1.15316784e-02 2.06816231e-02 3.80615352e-03\n",
      " 1.62665603e+01 2.58163065e+01 1.07220678e+02 8.79696734e+02\n",
      " 1.32259095e-01 2.57169975e-01 2.78709540e-01 1.14484601e-01\n",
      " 2.92937688e-01 8.42292211e-02]\n"
     ]
    }
   ],
   "source": [
    "# Standardize the features\n",
    "mu_X = np.mean(X_train, axis=0)\n",
    "sigma_X = np.std(X_train, axis=0)\n",
    "\n",
    "# Note1: each feature is standardized individually:\n",
    "print(f'mu_X: {mu_X}')\n",
    "print(f'sigma_X: {mu_X}')\n",
    "\n",
    "# Note2: Test set must be transformed identically to training set\n",
    "X_train_sc = (X_train - mu_X) / sigma_X\n",
    "X_test_sc = (X_test - mu_X) / sigma_X"
   ]
  },
  {
   "cell_type": "markdown",
   "metadata": {
    "slideshow": {
     "slide_type": "slide"
    }
   },
   "source": [
    "## Model Implementation\n",
    "\n",
    "We'll implement based on the above definitions.\n",
    "\n",
    "The model will be implemented as a class with an API that conforms to the `sklearn` models, specifically see\n",
    "`sklearn`'s [`LogisticRegression`](http://scikit-learn.org/stable/modules/generated/sklearn.linear_model.LogisticRegression.html#sklearn.linear_model.LogisticRegression) class.\n"
   ]
  },
  {
   "cell_type": "code",
   "execution_count": 10,
   "metadata": {
    "slideshow": {
     "slide_type": "subslide"
    }
   },
   "outputs": [],
   "source": [
    "class BinaryLogisticRegression(object):\n",
    "    def __init__(self, n_iter=100, learn_rate=0.1):\n",
    "        self.n_iter = n_iter\n",
    "        self.learn_rate = learn_rate\n",
    "    \n",
    "    def fit(self, X, y):\n",
    "        n, d = X.shape\n",
    "        self.losses_ = []\n",
    "        self.w_ = np.random.randn(d+1) * 0.1\n",
    "        \n",
    "        for i in range(self.n_iter):\n",
    "            Xb = np.hstack((np.ones((X.shape[0],1)), X)) # Add bias column\n",
    "            y_hat = self.predict_proba(Xb, add_bias=False)\n",
    "            \n",
    "            loss = -y.dot(np.log(y_hat)) - ((1 - y).dot(np.log(1 - y_hat)))\n",
    "            self.losses_.append(loss)\n",
    "            loss_grad = 1/n * Xb.T.dot(y_hat - y)  # (d,n) * (n,)\n",
    "            \n",
    "            self.w_ += -self.learn_rate * loss_grad\n",
    "        return self\n",
    "    \n",
    "    def predict_proba(self, X, add_bias=True):\n",
    "        Xb = np.hstack((np.ones((X.shape[0],1)), X)) if add_bias else X\n",
    "        z = np.dot(Xb, self.w_) # (n,d) * (d,)\n",
    "        return logistic(z) # shape (n,)\n",
    "    \n",
    "    def predict(self, X):\n",
    "        proba = self.predict_proba(X)\n",
    "        return np.array(proba > .5, dtype=np.int)"
   ]
  },
  {
   "cell_type": "code",
   "execution_count": 11,
   "metadata": {
    "slideshow": {
     "slide_type": "subslide"
    }
   },
   "outputs": [
    {
     "data": {
      "image/png": "[encoded data removed]",
      "text/plain": [
       "<Figure size 432x288 with 1 Axes>"
      ]
     },
     "metadata": {
      "needs_background": "light"
     },
     "output_type": "display_data"
    }
   ],
   "source": [
    "# Fit the model to the training data\n",
    "lr_model = BinaryLogisticRegression(n_iter=500, learn_rate=0.01)\n",
    "lr_model.fit(X_train_sc, y_train)\n",
    "\n",
    "plt.plot(lr_model.losses_, label='$L_{\\mathcal{S}}$');\n",
    "plt.xlabel('training iteration'); plt.legend(); plt.grid(True); plt.title('Train loss');"
   ]
  },
  {
   "cell_type": "code",
   "execution_count": 12,
   "metadata": {
    "slideshow": {
     "slide_type": "subslide"
    }
   },
   "outputs": [
    {
     "name": "stdout",
     "output_type": "stream",
     "text": [
      "train set accuracy: 97.49%\n",
      "test set accuracy: 95.32%\n"
     ]
    }
   ],
   "source": [
    "y_train_pred = lr_model.predict(X_train_sc)\n",
    "train_acc = np.sum(y_train_pred == y_train)/len(y_train)\n",
    "print(f'train set accuracy: {train_acc*100:.2f}%')\n",
    "\n",
    "y_test_pred = lr_model.predict(X_test_sc)\n",
    "test_acc = np.sum(y_test_pred == y_test)/len(y_test)\n",
    "print(f'test set accuracy: {test_acc*100:.2f}%')"
   ]
  },
  {
   "cell_type": "markdown",
   "metadata": {
    "slideshow": {
     "slide_type": "slide"
    }
   },
   "source": [
    "## Part 2: Multiclass Logistic Regression"
   ]
  },
  {
   "cell_type": "markdown",
   "metadata": {
    "slideshow": {
     "slide_type": "fragment"
    }
   },
   "source": [
    "What if we have $C$ classes? Can we still use logistic regression?"
   ]
  },
  {
   "cell_type": "markdown",
   "metadata": {
    "slideshow": {
     "slide_type": "fragment"
    }
   },
   "source": [
    "A naïve approach is to train $C$ binary logistic regression classifiers, for example in a One vs. Rest scheme,\n",
    "and then predict based on the classifier returning the greatest probability."
   ]
  },
  {
   "cell_type": "markdown",
   "metadata": {
    "slideshow": {
     "slide_type": "fragment"
    }
   },
   "source": [
    "One major drawback of this approach is that it doesn't really create a probility distribution over the classes. \n",
    "\n",
    "For example, a sample might be classified as class A with probability $0.8$ and class $B$ with $0.7$ since nothing constrains the different classifiers."
   ]
  },
  {
   "cell_type": "markdown",
   "metadata": {
    "slideshow": {
     "slide_type": "subslide"
    }
   },
   "source": [
    "### The softmax function"
   ]
  },
  {
   "cell_type": "markdown",
   "metadata": {
    "slideshow": {
     "slide_type": "fragment"
    }
   },
   "source": [
    "Let's create a way to generate a probability distribution for our $C$ classes given their scores.\n",
    "We'll define a function called **softmax** as follows:\n",
    "\n",
    "$$\n",
    "\\mathrm{softmax}(\\vec{z}) = \\frac{e^{\\vec{z}}}{\\sum_{j=1}^{C} e^{z_j}}\n",
    "$$\n",
    "\n",
    "note that this is a vector valued, multivariate function. The exponent in the enumerator operates elementwise.\n",
    "\n",
    "The result of softmax is a vector with elements in $[0,1]$ that all sum to $1$."
   ]
  },
  {
   "cell_type": "markdown",
   "metadata": {
    "slideshow": {
     "slide_type": "subslide"
    }
   },
   "source": [
    "### The multiclass model\n",
    "\n",
    "Our model can now be defined as\n",
    "\n",
    "$$\\hat{\\vec{y}} = h(\\vec{x}) = \\mathrm{softmax}(\\mattr{W}\\vec{x}+\\vec{b})$$\n",
    "\n",
    "where,\n",
    "- $\\hat{\\vec{y}}$ is a $C\\times 1$ vector of class probabilities.\n",
    "- ${\\vec{x}}$ is a $D\\times 1$ sample.\n",
    "- $\\mat{W}$ is a $D\\times C$ matrix representing the per-class weights.\n",
    "- $\\vec{b}$ is a per-class bias vector of length $C$.\n",
    "\n",
    "Probabilistic interpretation: $\\hat{y}_j = P(\\rvar{Y}=j|\\rvec{X}=\\vec{x})$."
   ]
  },
  {
   "cell_type": "markdown",
   "metadata": {
    "slideshow": {
     "slide_type": "subslide"
    }
   },
   "source": [
    "To train such a model we need our labels to also be **probability distributions** instead of simply the number of the correct class.\n",
    "\n",
    "We'll transform our labels to a 1-hot encoded vector corresponding to a **delta distribution**.\n",
    "For example, if $y^i=j$ then we'll create\n",
    "$$\n",
    "\\vec{y}^i = [0,\\dots,0,\\underbrace{1}_{j\\mathrm{th\\ component}},0,\\dots,0]^\\top\n",
    "$$"
   ]
  },
  {
   "cell_type": "markdown",
   "metadata": {
    "slideshow": {
     "slide_type": "subslide"
    }
   },
   "source": [
    "### Cross-Entropy loss\n",
    "\n",
    "After defing the 1-hot label vectors, the multiclass extension of the binary cross-entropy is straightforward:\n",
    "\n",
    "$$\n",
    "\\ell(\\vec{y}, \\hat{\\vec{y}}) = - \\vectr{y} \\log(\\hat{\\vec{y}})\n",
    "$$\n",
    "\n",
    "Note that only the probability assigned to the correct class affects the loss.\n",
    "\n",
    "This can be interpreted as trying to move the probability distribution created by the model towards the delta distribution."
   ]
  },
  {
   "cell_type": "markdown",
   "metadata": {
    "slideshow": {
     "slide_type": "subslide"
    }
   },
   "source": [
    "### Dataset"
   ]
  },
  {
   "cell_type": "markdown",
   "metadata": {
    "slideshow": {
     "slide_type": "fragment"
    }
   },
   "source": [
    "This time we'll tackle an image classification task, the MNIST database of handwritten digits.\n",
    "\n",
    "Today this is also considered a toy dataset, even though it was used in the past to benchmark state of the art classification algorithms."
   ]
  },
  {
   "cell_type": "code",
   "execution_count": 13,
   "metadata": {
    "slideshow": {
     "slide_type": "subslide"
    }
   },
   "outputs": [],
   "source": [
    "import os\n",
    "import torch\n",
    "import torch.utils.data\n",
    "import torchvision\n",
    "import torchvision.transforms\n",
    "import plot_utils"
   ]
  },
  {
   "cell_type": "code",
   "execution_count": 14,
   "metadata": {
    "slideshow": {
     "slide_type": "subslide"
    }
   },
   "outputs": [],
   "source": [
    "# Define the transforms that should be applied to each image in the dataset before returning it\n",
    "tf_ds = torchvision.transforms.ToTensor()\n",
    "\n",
    "batch_size = 128\n",
    "data_root = os.path.expanduser(\"~/.pytorch-datasets\")\n",
    "\n",
    "# Training and test datasets\n",
    "ds_train = torchvision.datasets.MNIST(root=data_root, download=True, train=True, transform=tf_ds)\n",
    "ds_test =  torchvision.datasets.MNIST(root=data_root, download=True, train=False, transform=tf_ds)\n",
    "\n",
    "# Data loaders\n",
    "dl_train = torch.utils.data.DataLoader(ds_train, batch_size, shuffle=True)\n",
    "dl_test = torch.utils.data.DataLoader(ds_test, batch_size)\n",
    "\n",
    "x0, y0 = ds_train[0]\n",
    "n_features = torch.numel(x0)\n",
    "n_classes = 10"
   ]
  },
  {
   "cell_type": "code",
   "execution_count": 15,
   "metadata": {
    "slideshow": {
     "slide_type": "subslide"
    }
   },
   "outputs": [
    {
     "name": "stdout",
     "output_type": "stream",
     "text": [
      "x0: torch.Size([1, 28, 28]), y0: 5\n"
     ]
    },
    {
     "data": {
      "image/png": "[encoded data removed]",
      "text/plain": [
       "<Figure size 576x576 with 10 Axes>"
      ]
     },
     "metadata": {},
     "output_type": "display_data"
    }
   ],
   "source": [
    "# Show first few samples\n",
    "print(f'x0: {x0.shape}, y0: {y0}')\n",
    "plot_utils.dataset_first_n(ds_train, 10, cmap='gray');"
   ]
  },
  {
   "cell_type": "markdown",
   "metadata": {},
   "source": [
    "Note that when training with SGD, we're actually working with **minibatches** of 128 samples:"
   ]
  },
  {
   "cell_type": "code",
   "execution_count": 16,
   "metadata": {},
   "outputs": [
    {
     "data": {
      "text/plain": [
       "torch.Size([128, 1, 28, 28])"
      ]
     },
     "execution_count": 16,
     "metadata": {},
     "output_type": "execute_result"
    }
   ],
   "source": [
    "x0, y0 = next(iter(dl_train))\n",
    "x0.shape"
   ]
  },
  {
   "cell_type": "markdown",
   "metadata": {
    "slideshow": {
     "slide_type": "subslide"
    }
   },
   "source": [
    "### Model Implementation"
   ]
  },
  {
   "cell_type": "markdown",
   "metadata": {
    "slideshow": {
     "slide_type": "fragment"
    }
   },
   "source": [
    "This time we'll use `pytorch` tensors and its [`autograd`](https://pytorch.org/docs/stable/autograd.html) functionality to implement our model.\n",
    "\n",
    "This means we wont have to implement any gradient calculations!"
   ]
  },
  {
   "cell_type": "code",
   "execution_count": 17,
   "metadata": {
    "slideshow": {
     "slide_type": "fragment"
    }
   },
   "outputs": [],
   "source": [
    "def softmax(z):\n",
    "    # z is a batch of class scores per sample (N,C)\n",
    "    zmax, _ = torch.max(z, dim=1, keepdim=True)\n",
    "    # normalization trick to prevent numerical instability: shift so that the highest number is 0\n",
    "    z = z - zmax # note broadcasting: (N,C) - (N,1)\n",
    "    e_to_z = torch.exp(z)\n",
    "    return e_to_z / torch.sum(e_to_z, dim=1, keepdim=True) # probabilities, (N,C)"
   ]
  },
  {
   "cell_type": "code",
   "execution_count": 18,
   "metadata": {
    "slideshow": {
     "slide_type": "fragment"
    }
   },
   "outputs": [
    {
     "data": {
      "text/plain": [
       "tensor([[0.0900, 0.2447, 0.6652]])"
      ]
     },
     "execution_count": 18,
     "metadata": {},
     "output_type": "execute_result"
    }
   ],
   "source": [
    "softmax(torch.tensor([[1, 2, 3.]]))"
   ]
  },
  {
   "cell_type": "code",
   "execution_count": 19,
   "metadata": {
    "slideshow": {
     "slide_type": "subslide"
    }
   },
   "outputs": [],
   "source": [
    "def cross_entropy_loss(y, y_hat):\n",
    "    # y_hat is a batch of probabilities, y is onehot, both (N,C)\n",
    "    return torch.sum( - y * torch.log(y_hat + 1e-6) )"
   ]
  },
  {
   "cell_type": "code",
   "execution_count": 20,
   "metadata": {
    "slideshow": {
     "slide_type": "fragment"
    }
   },
   "outputs": [],
   "source": [
    "def onehot(y, n_classes):\n",
    "    y_onehot = torch.zeros(len(y), n_classes, dtype=torch.float32) # (N,C)\n",
    "    y_onehot = y_onehot.scatter(1, y.reshape(-1,1), 1) # dim, idx, value\n",
    "    return y_onehot"
   ]
  },
  {
   "cell_type": "code",
   "execution_count": 21,
   "metadata": {
    "slideshow": {
     "slide_type": "subslide"
    }
   },
   "outputs": [],
   "source": [
    "class MCLogisticRegression(object):\n",
    "    def __init__(self, n_features, n_classes):\n",
    "        # Define our parameter tensors\n",
    "        # Specify we want to track their gradients with autograd\n",
    "        self.W = torch.randn(n_features, n_classes, requires_grad=True)\n",
    "        self.b = torch.randn(n_classes, requires_grad=True)\n",
    "        self.params = [self.W, self.b]\n",
    "    \n",
    "    def __call__(self, *args):\n",
    "        return self.forward(*args)\n",
    "\n",
    "    def forward(self, X):\n",
    "        z = torch.mm(X, self.W) + self.b\n",
    "        y_hat = softmax(z)\n",
    "        return y_hat"
   ]
  },
  {
   "cell_type": "markdown",
   "metadata": {
    "slideshow": {
     "slide_type": "subslide"
    }
   },
   "source": [
    "Let's try out the model and loss on the first batch:"
   ]
  },
  {
   "cell_type": "code",
   "execution_count": 22,
   "metadata": {
    "slideshow": {
     "slide_type": "fragment"
    }
   },
   "outputs": [
    {
     "name": "stdout",
     "output_type": "stream",
     "text": [
      "x0_flat: torch.Size([128, 784])\n",
      "y0_onehot: torch.Size([128, 10])\n",
      "\n",
      "loss =  tensor(1360.1753, grad_fn=<SumBackward0>)\n"
     ]
    }
   ],
   "source": [
    "model = MCLogisticRegression(n_features, n_classes)\n",
    "\n",
    "# Flatten images and convert labels to onehot\n",
    "x0_flat = x0.reshape(-1, n_features)\n",
    "y0_onehot =  onehot(y0, n_classes)\n",
    "print(f'x0_flat: {x0_flat.shape}')\n",
    "print(f'y0_onehot: {y0_onehot.shape}\\n')\n",
    "\n",
    "# Forward pass and compute loss\n",
    "y0_hat = model(x0_flat)\n",
    "loss = cross_entropy_loss(y0_onehot, y0_hat)\n",
    "print('loss = ', loss)"
   ]
  },
  {
   "cell_type": "markdown",
   "metadata": {
    "slideshow": {
     "slide_type": "fragment"
    }
   },
   "source": [
    "What is this `grad_fn` business?\n",
    "\n",
    "Since we said `require_grad=True`, every operation performed on these tensors is recorded, and a **computation graph** can be built:"
   ]
  },
  {
   "cell_type": "code",
   "execution_count": 23,
   "metadata": {
    "slideshow": {
     "slide_type": "subslide"
    }
   },
   "outputs": [
    {
     "data": {
      "image/svg+xml": [
       "<?xml version=\"1.0\" encoding=\"UTF-8\" standalone=\"no\"?>\n",
       "<!DOCTYPE svg PUBLIC \"-//W3C//DTD SVG 1.1//EN\"\n",
       " \"http://www.w3.org/Graphics/SVG/1.1/DTD/svg11.dtd\">\n",
       "<!-- Generated by graphviz version 2.40.1 (20161225.0304)\n",
       " -->\n",
       "<!-- Title: %3 Pages: 1 -->\n",
       "<svg width=\"179pt\" height=\"682pt\"\n",
       " viewBox=\"0.00 0.00 179.00 682.00\" xmlns=\"http://www.w3.org/2000/svg\" xmlns:xlink=\"http://www.w3.org/1999/xlink\">\n",
       "<g id=\"graph0\" class=\"graph\" transform=\"scale(1 1) rotate(0) translate(4 678)\">\n",
       "<title>%3</title>\n",
       "<polygon fill=\"#ffffff\" stroke=\"transparent\" points=\"-4,4 -4,-678 175,-678 175,4 -4,4\"/>\n",
       "<!-- 140641549092944 -->\n",
       "<g id=\"node1\" class=\"node\">\n",
       "<title>140641549092944</title>\n",
       "<polygon fill=\"#caff70\" stroke=\"#000000\" points=\"133,-21 40,-21 40,0 133,0 133,-21\"/>\n",
       "<text text-anchor=\"middle\" x=\"86.5\" y=\"-7.4\" font-family=\"Times,serif\" font-size=\"12.00\" fill=\"#000000\">SumBackward0</text>\n",
       "</g>\n",
       "<!-- 140641549093008 -->\n",
       "<g id=\"node2\" class=\"node\">\n",
       "<title>140641549093008</title>\n",
       "<polygon fill=\"#d3d3d3\" stroke=\"#000000\" points=\"132,-78 41,-78 41,-57 132,-57 132,-78\"/>\n",
       "<text text-anchor=\"middle\" x=\"86.5\" y=\"-64.4\" font-family=\"Times,serif\" font-size=\"12.00\" fill=\"#000000\">MulBackward0</text>\n",
       "</g>\n",
       "<!-- 140641549093008&#45;&gt;140641549092944 -->\n",
       "<g id=\"edge1\" class=\"edge\">\n",
       "<title>140641549093008&#45;&gt;140641549092944</title>\n",
       "<path fill=\"none\" stroke=\"#000000\" d=\"M86.5,-56.7787C86.5,-49.6134 86.5,-39.9517 86.5,-31.3097\"/>\n",
       "<polygon fill=\"#000000\" stroke=\"#000000\" points=\"90.0001,-31.1732 86.5,-21.1732 83.0001,-31.1732 90.0001,-31.1732\"/>\n",
       "</g>\n",
       "<!-- 140641549162704 -->\n",
       "<g id=\"node3\" class=\"node\">\n",
       "<title>140641549162704</title>\n",
       "<polygon fill=\"#d3d3d3\" stroke=\"#000000\" points=\"128.5,-135 44.5,-135 44.5,-114 128.5,-114 128.5,-135\"/>\n",
       "<text text-anchor=\"middle\" x=\"86.5\" y=\"-121.4\" font-family=\"Times,serif\" font-size=\"12.00\" fill=\"#000000\">LogBackward</text>\n",
       "</g>\n",
       "<!-- 140641549162704&#45;&gt;140641549093008 -->\n",
       "<g id=\"edge2\" class=\"edge\">\n",
       "<title>140641549162704&#45;&gt;140641549093008</title>\n",
       "<path fill=\"none\" stroke=\"#000000\" d=\"M86.5,-113.7787C86.5,-106.6134 86.5,-96.9517 86.5,-88.3097\"/>\n",
       "<polygon fill=\"#000000\" stroke=\"#000000\" points=\"90.0001,-88.1732 86.5,-78.1732 83.0001,-88.1732 90.0001,-88.1732\"/>\n",
       "</g>\n",
       "<!-- 140641549162832 -->\n",
       "<g id=\"node4\" class=\"node\">\n",
       "<title>140641549162832</title>\n",
       "<polygon fill=\"#d3d3d3\" stroke=\"#000000\" points=\"132.5,-192 40.5,-192 40.5,-171 132.5,-171 132.5,-192\"/>\n",
       "<text text-anchor=\"middle\" x=\"86.5\" y=\"-178.4\" font-family=\"Times,serif\" font-size=\"12.00\" fill=\"#000000\">AddBackward0</text>\n",
       "</g>\n",
       "<!-- 140641549162832&#45;&gt;140641549162704 -->\n",
       "<g id=\"edge3\" class=\"edge\">\n",
       "<title>140641549162832&#45;&gt;140641549162704</title>\n",
       "<path fill=\"none\" stroke=\"#000000\" d=\"M86.5,-170.7787C86.5,-163.6134 86.5,-153.9517 86.5,-145.3097\"/>\n",
       "<polygon fill=\"#000000\" stroke=\"#000000\" points=\"90.0001,-145.1732 86.5,-135.1732 83.0001,-145.1732 90.0001,-145.1732\"/>\n",
       "</g>\n",
       "<!-- 140641549163024 -->\n",
       "<g id=\"node5\" class=\"node\">\n",
       "<title>140641549163024</title>\n",
       "<polygon fill=\"#d3d3d3\" stroke=\"#000000\" points=\"131,-249 42,-249 42,-228 131,-228 131,-249\"/>\n",
       "<text text-anchor=\"middle\" x=\"86.5\" y=\"-235.4\" font-family=\"Times,serif\" font-size=\"12.00\" fill=\"#000000\">DivBackward0</text>\n",
       "</g>\n",
       "<!-- 140641549163024&#45;&gt;140641549162832 -->\n",
       "<g id=\"edge4\" class=\"edge\">\n",
       "<title>140641549163024&#45;&gt;140641549162832</title>\n",
       "<path fill=\"none\" stroke=\"#000000\" d=\"M86.5,-227.7787C86.5,-220.6134 86.5,-210.9517 86.5,-202.3097\"/>\n",
       "<polygon fill=\"#000000\" stroke=\"#000000\" points=\"90.0001,-202.1732 86.5,-192.1732 83.0001,-202.1732 90.0001,-202.1732\"/>\n",
       "</g>\n",
       "<!-- 140641549163152 -->\n",
       "<g id=\"node6\" class=\"node\">\n",
       "<title>140641549163152</title>\n",
       "<polygon fill=\"#d3d3d3\" stroke=\"#000000\" points=\"128.5,-363 44.5,-363 44.5,-342 128.5,-342 128.5,-363\"/>\n",
       "<text text-anchor=\"middle\" x=\"86.5\" y=\"-349.4\" font-family=\"Times,serif\" font-size=\"12.00\" fill=\"#000000\">ExpBackward</text>\n",
       "</g>\n",
       "<!-- 140641549163152&#45;&gt;140641549163024 -->\n",
       "<g id=\"edge5\" class=\"edge\">\n",
       "<title>140641549163152&#45;&gt;140641549163024</title>\n",
       "<path fill=\"none\" stroke=\"#000000\" d=\"M81.0238,-341.7503C76.6543,-332.5349 70.8843,-318.7642 68.5,-306 65.4831,-289.8493 70.6996,-271.89 76.2805,-258.5587\"/>\n",
       "<polygon fill=\"#000000\" stroke=\"#000000\" points=\"79.5057,-259.9221 80.489,-249.373 73.1418,-257.0065 79.5057,-259.9221\"/>\n",
       "</g>\n",
       "<!-- 140641549163216 -->\n",
       "<g id=\"node13\" class=\"node\">\n",
       "<title>140641549163216</title>\n",
       "<polygon fill=\"#d3d3d3\" stroke=\"#000000\" points=\"171,-306 78,-306 78,-285 171,-285 171,-306\"/>\n",
       "<text text-anchor=\"middle\" x=\"124.5\" y=\"-292.4\" font-family=\"Times,serif\" font-size=\"12.00\" fill=\"#000000\">SumBackward1</text>\n",
       "</g>\n",
       "<!-- 140641549163152&#45;&gt;140641549163216 -->\n",
       "<g id=\"edge14\" class=\"edge\">\n",
       "<title>140641549163152&#45;&gt;140641549163216</title>\n",
       "<path fill=\"none\" stroke=\"#000000\" d=\"M93.6475,-341.7787C98.7429,-334.1357 105.7317,-323.6524 111.7694,-314.596\"/>\n",
       "<polygon fill=\"#000000\" stroke=\"#000000\" points=\"114.7497,-316.4352 117.3845,-306.1732 108.9253,-312.5522 114.7497,-316.4352\"/>\n",
       "</g>\n",
       "<!-- 140641549163280 -->\n",
       "<g id=\"node7\" class=\"node\">\n",
       "<title>140641549163280</title>\n",
       "<polygon fill=\"#d3d3d3\" stroke=\"#000000\" points=\"131.5,-420 41.5,-420 41.5,-399 131.5,-399 131.5,-420\"/>\n",
       "<text text-anchor=\"middle\" x=\"86.5\" y=\"-406.4\" font-family=\"Times,serif\" font-size=\"12.00\" fill=\"#000000\">SubBackward0</text>\n",
       "</g>\n",
       "<!-- 140641549163280&#45;&gt;140641549163152 -->\n",
       "<g id=\"edge6\" class=\"edge\">\n",
       "<title>140641549163280&#45;&gt;140641549163152</title>\n",
       "<path fill=\"none\" stroke=\"#000000\" d=\"M86.5,-398.7787C86.5,-391.6134 86.5,-381.9517 86.5,-373.3097\"/>\n",
       "<polygon fill=\"#000000\" stroke=\"#000000\" points=\"90.0001,-373.1732 86.5,-363.1732 83.0001,-373.1732 90.0001,-373.1732\"/>\n",
       "</g>\n",
       "<!-- 140641549163408 -->\n",
       "<g id=\"node8\" class=\"node\">\n",
       "<title>140641549163408</title>\n",
       "<polygon fill=\"#d3d3d3\" stroke=\"#000000\" points=\"132.5,-534 40.5,-534 40.5,-513 132.5,-513 132.5,-534\"/>\n",
       "<text text-anchor=\"middle\" x=\"86.5\" y=\"-520.4\" font-family=\"Times,serif\" font-size=\"12.00\" fill=\"#000000\">AddBackward0</text>\n",
       "</g>\n",
       "<!-- 140641549163408&#45;&gt;140641549163280 -->\n",
       "<g id=\"edge7\" class=\"edge\">\n",
       "<title>140641549163408&#45;&gt;140641549163280</title>\n",
       "<path fill=\"none\" stroke=\"#000000\" d=\"M81.0238,-512.7503C76.6543,-503.5349 70.8843,-489.7642 68.5,-477 65.4831,-460.8493 70.6996,-442.89 76.2805,-429.5587\"/>\n",
       "<polygon fill=\"#000000\" stroke=\"#000000\" points=\"79.5057,-430.9221 80.489,-420.373 73.1418,-428.0065 79.5057,-430.9221\"/>\n",
       "</g>\n",
       "<!-- 140641549163472 -->\n",
       "<g id=\"node12\" class=\"node\">\n",
       "<title>140641549163472</title>\n",
       "<polygon fill=\"#d3d3d3\" stroke=\"#000000\" points=\"171,-477 78,-477 78,-456 171,-456 171,-477\"/>\n",
       "<text text-anchor=\"middle\" x=\"124.5\" y=\"-463.4\" font-family=\"Times,serif\" font-size=\"12.00\" fill=\"#000000\">MaxBackward0</text>\n",
       "</g>\n",
       "<!-- 140641549163408&#45;&gt;140641549163472 -->\n",
       "<g id=\"edge12\" class=\"edge\">\n",
       "<title>140641549163408&#45;&gt;140641549163472</title>\n",
       "<path fill=\"none\" stroke=\"#000000\" d=\"M93.6475,-512.7787C98.7429,-505.1357 105.7317,-494.6524 111.7694,-485.596\"/>\n",
       "<polygon fill=\"#000000\" stroke=\"#000000\" points=\"114.7497,-487.4352 117.3845,-477.1732 108.9253,-483.5522 114.7497,-487.4352\"/>\n",
       "</g>\n",
       "<!-- 140641549163600 -->\n",
       "<g id=\"node9\" class=\"node\">\n",
       "<title>140641549163600</title>\n",
       "<polygon fill=\"#d3d3d3\" stroke=\"#000000\" points=\"85,-597.5 0,-597.5 0,-576.5 85,-576.5 85,-597.5\"/>\n",
       "<text text-anchor=\"middle\" x=\"42.5\" y=\"-583.9\" font-family=\"Times,serif\" font-size=\"12.00\" fill=\"#000000\">MmBackward</text>\n",
       "</g>\n",
       "<!-- 140641549163600&#45;&gt;140641549163408 -->\n",
       "<g id=\"edge8\" class=\"edge\">\n",
       "<title>140641549163600&#45;&gt;140641549163408</title>\n",
       "<path fill=\"none\" stroke=\"#000000\" d=\"M49.964,-576.2281C56.3234,-567.0503 65.616,-553.6394 73.2379,-542.6396\"/>\n",
       "<polygon fill=\"#000000\" stroke=\"#000000\" points=\"76.3276,-544.3259 79.1462,-534.1128 70.5739,-540.339 76.3276,-544.3259\"/>\n",
       "</g>\n",
       "<!-- 140641549163792 -->\n",
       "<g id=\"node10\" class=\"node\">\n",
       "<title>140641549163792</title>\n",
       "<polygon fill=\"#add8e6\" stroke=\"#000000\" points=\"74,-674 11,-674 11,-640 74,-640 74,-674\"/>\n",
       "<text text-anchor=\"middle\" x=\"42.5\" y=\"-660.4\" font-family=\"Times,serif\" font-size=\"12.00\" fill=\"#000000\">W</text>\n",
       "<text text-anchor=\"middle\" x=\"42.5\" y=\"-647.4\" font-family=\"Times,serif\" font-size=\"12.00\" fill=\"#000000\"> (784, 10)</text>\n",
       "</g>\n",
       "<!-- 140641549163792&#45;&gt;140641549163600 -->\n",
       "<g id=\"edge9\" class=\"edge\">\n",
       "<title>140641549163792&#45;&gt;140641549163600</title>\n",
       "<path fill=\"none\" stroke=\"#000000\" d=\"M42.5,-639.6966C42.5,-630.0634 42.5,-618.003 42.5,-607.8518\"/>\n",
       "<polygon fill=\"#000000\" stroke=\"#000000\" points=\"46.0001,-607.7912 42.5,-597.7913 39.0001,-607.7913 46.0001,-607.7912\"/>\n",
       "</g>\n",
       "<!-- 140641549163664 -->\n",
       "<g id=\"node11\" class=\"node\">\n",
       "<title>140641549163664</title>\n",
       "<polygon fill=\"#add8e6\" stroke=\"#000000\" points=\"157.5,-604 103.5,-604 103.5,-570 157.5,-570 157.5,-604\"/>\n",
       "<text text-anchor=\"middle\" x=\"130.5\" y=\"-590.4\" font-family=\"Times,serif\" font-size=\"12.00\" fill=\"#000000\">b</text>\n",
       "<text text-anchor=\"middle\" x=\"130.5\" y=\"-577.4\" font-family=\"Times,serif\" font-size=\"12.00\" fill=\"#000000\"> (10)</text>\n",
       "</g>\n",
       "<!-- 140641549163664&#45;&gt;140641549163408 -->\n",
       "<g id=\"edge10\" class=\"edge\">\n",
       "<title>140641549163664&#45;&gt;140641549163408</title>\n",
       "<path fill=\"none\" stroke=\"#000000\" d=\"M118.7088,-569.9832C112.8898,-561.5853 105.8464,-551.4204 99.8319,-542.7404\"/>\n",
       "<polygon fill=\"#000000\" stroke=\"#000000\" points=\"102.6034,-540.5949 94.031,-534.3687 96.8497,-544.5817 102.6034,-540.5949\"/>\n",
       "</g>\n",
       "<!-- 140641549163472&#45;&gt;140641549163280 -->\n",
       "<g id=\"edge11\" class=\"edge\">\n",
       "<title>140641549163472&#45;&gt;140641549163280</title>\n",
       "<path fill=\"none\" stroke=\"#000000\" d=\"M117.3525,-455.7787C112.2571,-448.1357 105.2683,-437.6524 99.2306,-428.596\"/>\n",
       "<polygon fill=\"#000000\" stroke=\"#000000\" points=\"102.0747,-426.5522 93.6155,-420.1732 96.2503,-430.4352 102.0747,-426.5522\"/>\n",
       "</g>\n",
       "<!-- 140641549163216&#45;&gt;140641549163024 -->\n",
       "<g id=\"edge13\" class=\"edge\">\n",
       "<title>140641549163216&#45;&gt;140641549163024</title>\n",
       "<path fill=\"none\" stroke=\"#000000\" d=\"M117.3525,-284.7787C112.2571,-277.1357 105.2683,-266.6524 99.2306,-257.596\"/>\n",
       "<polygon fill=\"#000000\" stroke=\"#000000\" points=\"102.0747,-255.5522 93.6155,-249.1732 96.2503,-259.4352 102.0747,-255.5522\"/>\n",
       "</g>\n",
       "</g>\n",
       "</svg>\n"
      ],
      "text/plain": [
       "<graphviz.dot.Digraph at 0x7fe9a5d26e50>"
      ]
     },
     "execution_count": 23,
     "metadata": {},
     "output_type": "execute_result"
    }
   ],
   "source": [
    "import torchviz\n",
    "torchviz.make_dot(loss, params=dict(W=model.W, b=model.b))"
   ]
  },
  {
   "cell_type": "markdown",
   "metadata": {
    "slideshow": {
     "slide_type": "subslide"
    }
   },
   "source": [
    "This graph is what allows efficient implementation of the **back-propagation** algorithm which you'll learn about in the next lecture."
   ]
  },
  {
   "cell_type": "markdown",
   "metadata": {
    "slideshow": {
     "slide_type": "subslide"
    }
   },
   "source": [
    "### Training"
   ]
  },
  {
   "cell_type": "markdown",
   "metadata": {
    "slideshow": {
     "slide_type": "fragment"
    }
   },
   "source": [
    "The SGD will be as before, but now we'll take the gradients from the `grad` property of our parameter tensors."
   ]
  },
  {
   "cell_type": "code",
   "execution_count": 24,
   "metadata": {
    "slideshow": {
     "slide_type": "fragment"
    }
   },
   "outputs": [],
   "source": [
    "def sgd_optimizer(params, learn_rate):\n",
    "    # params is a list of Tensors\n",
    "    with torch.autograd.no_grad(): # ignore this for now, will be clear later on\n",
    "        for param in params:\n",
    "            param -= learn_rate * param.grad\n",
    "            param.grad.zero_()"
   ]
  },
  {
   "cell_type": "markdown",
   "metadata": {
    "slideshow": {
     "slide_type": "subslide"
    }
   },
   "source": [
    "Inference and prediction accuracy:"
   ]
  },
  {
   "cell_type": "code",
   "execution_count": 25,
   "metadata": {
    "slideshow": {
     "slide_type": "fragment"
    }
   },
   "outputs": [
    {
     "name": "stdout",
     "output_type": "stream",
     "text": [
      "Test set accuracy pre-training: 7.54%\n"
     ]
    }
   ],
   "source": [
    "def evaluate_accuracy(dataloader, model, max_batches=None):\n",
    "    n_correct = 0.\n",
    "    n_total = 0.\n",
    "    for i, (X, y) in enumerate(dataloader):\n",
    "        X = X.reshape((-1,n_features)) # flatten images into vectors\n",
    "        \n",
    "        with torch.autograd.no_grad():\n",
    "            y_hat = model(X)\n",
    "        \n",
    "        predictions = torch.argmax(y_hat, dim=1)\n",
    "        n_correct += torch.sum(predictions == y).type(torch.float32)\n",
    "        n_total += X.shape[0]\n",
    "        \n",
    "        if max_batches and i+1 >= max_batches:\n",
    "            break\n",
    "        \n",
    "    return (n_correct / n_total).item()\n",
    "\n",
    "test_set_acc = evaluate_accuracy(dl_test, MCLogisticRegression(n_features, n_classes))\n",
    "print(f'Test set accuracy pre-training: {test_set_acc*100:.2f}%')"
   ]
  },
  {
   "cell_type": "markdown",
   "metadata": {
    "slideshow": {
     "slide_type": "subslide"
    }
   },
   "source": [
    "**Training loop**\n",
    "- Go over dataset in batches\n",
    "- Forward pass: Compute predictions and build computation graph\n",
    "- Calculate loss\n",
    "- Set existing gradients to zero\n",
    "- Backward pass: Use back-propagation algorithm to calculate the gradients\n",
    "- Optimization step: Use the gradients to update the parameters"
   ]
  },
  {
   "cell_type": "code",
   "execution_count": 26,
   "metadata": {
    "scrolled": true,
    "slideshow": {
     "slide_type": "subslide"
    }
   },
   "outputs": [],
   "source": [
    "epochs = 10\n",
    "max_batches = 20  # limit batches so training is fast (just as a demo)\n",
    "learn_rate = .005\n",
    "num_samples = len(ds_train)\n",
    "model = MCLogisticRegression(n_features, n_classes)"
   ]
  },
  {
   "cell_type": "code",
   "execution_count": 27,
   "metadata": {
    "slideshow": {
     "slide_type": "subslide"
    }
   },
   "outputs": [
    {
     "name": "stdout",
     "output_type": "stream",
     "text": [
      "Epoch 0. Loss: 0.301, Train Acc 41.72, Test Acc 40.00\n",
      "Epoch 1. Loss: 0.174, Train Acc 55.82, Test Acc 54.41\n",
      "Epoch 2. Loss: 0.119, Train Acc 63.36, Test Acc 61.17\n",
      "Epoch 3. Loss: 0.070, Train Acc 72.19, Test Acc 67.66\n",
      "Epoch 4. Loss: 0.063, Train Acc 74.96, Test Acc 71.76\n",
      "Epoch 5. Loss: 0.054, Train Acc 76.84, Test Acc 73.36\n",
      "Epoch 6. Loss: 0.049, Train Acc 78.36, Test Acc 75.31\n",
      "Epoch 7. Loss: 0.046, Train Acc 80.27, Test Acc 76.91\n",
      "Epoch 8. Loss: 0.045, Train Acc 80.12, Test Acc 77.77\n",
      "Epoch 9. Loss: 0.042, Train Acc 80.39, Test Acc 78.36\n"
     ]
    }
   ],
   "source": [
    "# Epoch: traverse all samples\n",
    "for e in range(epochs):\n",
    "    cumulative_loss = 0\n",
    "\n",
    "    # Update model per data batch with SGD\n",
    "    for i, (X, y) in enumerate(dl_train):\n",
    "        X = X.reshape((-1,n_features))\n",
    "        y_onehot = onehot(y, n_classes)\n",
    "        \n",
    "        # Forward pass\n",
    "        y_hat = model(X)\n",
    "        loss = cross_entropy_loss(y_onehot, y_hat)\n",
    "        \n",
    "        # Backward pass & parameter update\n",
    "        loss.backward() # Use backprop algorithm to calc gradients\n",
    "        sgd_optimizer(model.params, learn_rate) # Use gradients for SGD\n",
    "        \n",
    "        cumulative_loss += loss.item()\n",
    "        if i+1 > max_batches:\n",
    "            break\n",
    "\n",
    "    test_accuracy = evaluate_accuracy(dl_test, model, max_batches)\n",
    "    train_accuracy = evaluate_accuracy(dl_train, model, max_batches)\n",
    "    \n",
    "    avg_loss = cumulative_loss/num_samples\n",
    "    print(f\"Epoch {e}. Loss: {avg_loss:.3f}, Train Acc {train_accuracy*100:.2f}, Test Acc {test_accuracy*100:.2f}\")   "
   ]
  },
  {
   "cell_type": "markdown",
   "metadata": {
    "slideshow": {
     "slide_type": "subslide"
    }
   },
   "source": [
    "**Notes:**\n",
    "- This is a very basic implementation. We didn't even include any regularization term which would be a problem if this weren't a toy dataset.\n",
    "- PyTorch provides many functions and classes that we could have used, for example:\n",
    "  - Perceptron fully connected layer with model parameters\n",
    "  - Softmax\n",
    "  - SGD and many other optimizers\n",
    "  - Cross entropy loss\n",
    "  \n",
    "  however the purpose here was to show an (almost) from-scratch implementation using only tensors,\n",
    "  in order to see whats \"under the hood\" (more or less) of the PyTorch functions."
   ]
  },
  {
   "cell_type": "markdown",
   "metadata": {
    "slideshow": {
     "slide_type": "skip"
    }
   },
   "source": [
    "## Image credits\n",
    "- MartinThoma [CC0], via Wikimedia Commons https://commons.wikimedia.org/wiki/File:Perceptron-unit.svg\n",
    "- Dr. Nadav Cohen, http://www.cohennadav.com/files/icermw19_slides.pdf\n",
    "- Fundamentals of Deep Learning, Nikhil Buduma, Oreilly 2017"
   ]
  }
 ],
 "metadata": {
  "celltoolbar": "Slideshow",
  "kernelspec": {
   "display_name": "Python 3",
   "language": "python",
   "name": "python3"
  },
  "language_info": {
   "codemirror_mode": {
    "name": "ipython",
    "version": 3
   },
   "file_extension": ".py",
   "mimetype": "text/x-python",
   "name": "python",
   "nbconvert_exporter": "python",
   "pygments_lexer": "ipython3",
   "version": "3.7.5"
  }
 },
 "nbformat": 4,
 "nbformat_minor": 4
}

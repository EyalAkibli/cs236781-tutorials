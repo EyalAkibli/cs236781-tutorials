{
 "cells": [
  {
   "cell_type": "markdown",
   "metadata": {
    "slideshow": {
     "slide_type": "slide"
    }
   },
   "source": [
    "# CS236781: Deep Learning\n",
    "\n",
    "# Tutorial 1: Python and tensor basics"
   ]
  },
  {
   "cell_type": "markdown",
   "metadata": {
    "slideshow": {
     "slide_type": "subslide"
    }
   },
   "source": [
    "In this tutorial, we will cover:\n",
    "* Course info \n",
    "* Environment setup with `conda`\n",
    "* Jupyter: Using notebooks\n",
    "* Numpy: Arrays, Array indexing, Datatypes, Array math, Broadcasting\n",
    "* PyTorch tensors\n",
    "\n",
    "Also in this tutorial, but for self-study:\n",
    "* Basic Python: Basic data types (Containers, Lists, Dictionaries, Sets, Tuples), Functions, Classes\n"
   ]
  },
  {
   "cell_type": "markdown",
   "metadata": {
    "slideshow": {
     "slide_type": "subslide"
    }
   },
   "source": [
    "## Administration and General Info"
   ]
  },
  {
   "cell_type": "markdown",
   "metadata": {
    "slideshow": {
     "slide_type": "subslide"
    }
   },
   "source": [
    "My info:\n",
    "- Aviv Rosenberg\n",
    "- avivr@cs.technion.ac.il\n",
    "- Office hour: Thursdays, 13:30 via Zoom.\n"
   ]
  },
  {
   "cell_type": "markdown",
   "metadata": {
    "slideshow": {
     "slide_type": "subslide"
    }
   },
   "source": [
    "Course:\n",
    "- Website is at https://vistalab-technion.github.io/cs236781/\n",
    "- Updates will be posted there (but emails will be sent via WebCourse)\n",
    "- Post questions on **Piazza** only!\n",
    "- Any questions about the **homeworks** or **tutorials** -> I'll answer on Piazza.\n",
    "- For personal requests/delays -> email Chaim."
   ]
  },
  {
   "cell_type": "markdown",
   "metadata": {
    "slideshow": {
     "slide_type": "subslide"
    }
   },
   "source": [
    "Lectures:\n",
    "- Provide a high level presentation of most core topics of Deep Learning, including very recent topics.\n",
    "- Sometimes a supplementary lecture is available with more in-depth examples.\n",
    "- Give mathematical background and justifications.\n",
    "- Videos are available for almost all lectures (by Profs. Alex Bronstein and Avi Mendelson)."
   ]
  },
  {
   "cell_type": "markdown",
   "metadata": {
    "slideshow": {
     "slide_type": "subslide"
    }
   },
   "source": [
    "Tutorials:\n",
    "- Structure is usually a short theory reminders part and then step-by-step technical implementation of a real  problem.\n",
    "- Technical, meant to help you understand the implementation details behind deep learning.\n",
    "- Highly relevant for success in the homework assignments.\n",
    "- After this tutorial you should clone the [tutorials repo](https://github.com/vistalab-technion/cs236781-tutorials), install the conda env and play with the code.\n",
    "- Videos are available (by Aviv Rosenberg)."
   ]
  },
  {
   "cell_type": "markdown",
   "metadata": {
    "slideshow": {
     "slide_type": "subslide"
    }
   },
   "source": [
    "Homework:\n",
    "- Four HW assignments, quite heavy load. Best to tackle them after you have sufficient programming experience.\n",
    "- Almost entirely \"wet\" i.e. implementation of real algorithms with real data.\n",
    "- Can be done in pairs or alone.\n",
    "- Some will require use of GPUs. We will provide access provide course servers.\n",
    "- Read the [guidelines](https://vistalab-technion.github.io/cs236781/assignments/getting-started) and [collaboration policy](https://vistalab-technion.github.io/cs236781/info/#administration) carefully!"
   ]
  },
  {
   "cell_type": "markdown",
   "metadata": {
    "slideshow": {
     "slide_type": "slide"
    }
   },
   "source": [
    "## Introduction"
   ]
  },
  {
   "cell_type": "markdown",
   "metadata": {
    "slideshow": {
     "slide_type": "subslide"
    }
   },
   "source": [
    "Python is a great general-purpose programming language on its own and with the addition of a few\n",
    "popular libraries such as `numpy`, `scipy`, `pandas`, `scikit-learn`, `matplotlib` and others it becomes an\n",
    "effective scientific computing environment.\n",
    "\n",
    "Today it is also the most-used language for machine learning both in research and industry."
   ]
  },
  {
   "cell_type": "markdown",
   "metadata": {
    "slideshow": {
     "slide_type": "subslide"
    }
   },
   "source": [
    "Recently many **Deep Learning frameworks** have emerged for python.\n",
    "Arguably the most notable ones in 2019 are **TensorFlow** (with the Keras frontend) and **PyTorch**.\n",
    "\n",
    "In this course we'll use PyTorch, which is currently [the leading DL framework](https://thegradient.pub/state-of-ml-frameworks-2019-pytorch-dominates-research-tensorflow-dominates-industry) for research.\n",
    "\n",
    "<center><img src=\"https://thegradient.pub/content/images/2019/10/number_medium.png\" width=\"700\"/></center>"
   ]
  },
  {
   "cell_type": "markdown",
   "metadata": {
    "slideshow": {
     "slide_type": "subslide"
    }
   },
   "source": [
    "Many of you may have some experience with Python and numpy; for the rest of you, this notebook can serve as a quick crash course both on the Python programming language and on the use of Python for scientific computing.\n",
    "\n",
    "However, we recommend getting up to speed with python using the numerous availble online resources."
   ]
  },
  {
   "cell_type": "markdown",
   "metadata": {
    "slideshow": {
     "slide_type": "fragment"
    }
   },
   "source": [
    "If you have previous knowledge in Matlab,\n",
    "we recommend the [numpy for Matlab users](https://docs.scipy.org/doc/numpy-1.15.0/user/numpy-for-matlab-users.html) page as a useful resource."
   ]
  },
  {
   "cell_type": "markdown",
   "metadata": {
    "slideshow": {
     "slide_type": "skip"
    }
   },
   "source": [
    "Credit: Some parts of the Python tutorial here were adapted from the [CS231n Python tutorial](http://cs231n.github.io/python-numpy-tutorial/) by Justin Johnson."
   ]
  },
  {
   "cell_type": "markdown",
   "metadata": {
    "slideshow": {
     "slide_type": "slide"
    }
   },
   "source": [
    "## Environment setup"
   ]
  },
  {
   "cell_type": "markdown",
   "metadata": {
    "slideshow": {
     "slide_type": "subslide"
    }
   },
   "source": [
    "To install and manage all the necessary packages and dependencies for the\n",
    "course tutorials and assignments, we use [conda](https://conda.io), a popular package-manager for python.\n",
    "\n",
    "- The tutorial notebooks come with an `environment.yml` file which defines which third-party libraries we depend on.\n",
    "- Conda will use this file to create a virtual environment for you.\n",
    "- This virtual environment includes python and all other packages and tools we specified, separated from any preexisting\n",
    "python installation you may have."
   ]
  },
  {
   "cell_type": "markdown",
   "metadata": {
    "slideshow": {
     "slide_type": "subslide"
    }
   },
   "source": [
    "### Installation\n",
    "\n",
    "1. Install the python3 version of [miniconda](https://conda.io/miniconda.html).\n",
    "Follow the [installation instructions](https://conda.io/docs/user-guide/install/index.html)\n",
    "for your platform.\n",
    "\n",
    "2. Install all dependencies (into a virtual env) with `conda`:\n",
    "\n",
    "    ```shell\n",
    "    conda env update -f environment.yml\n",
    "    ```\n",
    "    \n",
    "    This will also create a new virtual env (`cs236781-tutorials`) if it doesn't already exist.\n",
    "\n",
    "3. To activate the virtual environment (set up `$PATH`):\n",
    "\n",
    "    ```shell\n",
    "    conda activate cs236781-tutorials\n",
    "    ```\n",
    "\n",
    "You can also check what conda environments you have and which is active, run\n",
    "\n",
    "```shell\n",
    "conda env list\n",
    "```"
   ]
  },
  {
   "cell_type": "markdown",
   "metadata": {
    "slideshow": {
     "slide_type": "subslide"
    }
   },
   "source": [
    "### Running Jupyter\n",
    "\n",
    "From a terminal, enter the folder contaning the tutorial notebooks.\n",
    "1. Make sure that the active conda environment is `cs236781-tutorials`:\n",
    "\n",
    "    ```shell\n",
    "    conda activate cs236781-tutorials\n",
    "    ```\n",
    "\n",
    "2. Run jupyter with\n",
    "\n",
    "    ```shell\n",
    "    jupyter lab\n",
    "    ```\n",
    "    \n",
    "    This will start a [jupyter lab](https://jupyterlab.readthedocs.io/en/stable/)\n",
    "    server and open your browser at the local server's url. You can now start working with the notebooks.\n",
    "\n",
    "If you're new to jupyter notebooks, you can get started by reading the\n",
    "[UI guide](https://jupyter-notebook.readthedocs.io/en/stable/notebook.html#notebook-user-interface)\n",
    "and also about how to use notebooks in\n",
    "[JupyterLab](https://jupyterlab.readthedocs.io/en/latest/user/notebook.html)."
   ]
  },
  {
   "cell_type": "markdown",
   "metadata": {
    "slideshow": {
     "slide_type": "subslide"
    }
   },
   "source": [
    "**Important Note**: The course homework and tutorials use **different** conda envs! Make sure to use the correct one each time."
   ]
  },
  {
   "cell_type": "markdown",
   "metadata": {
    "slideshow": {
     "slide_type": "subslide"
    }
   },
   "source": [
    "#### Jupyter basics\n",
    "\n",
    "Jupyter notebooks consist mainly of code and markdown cells.\n",
    "The code cells contain code that is run by a `kernel`, an\n",
    "interpreter for some programming language, python in our case."
   ]
  },
  {
   "cell_type": "code",
   "execution_count": 1,
   "metadata": {
    "execution": {
     "iopub.execute_input": "2020-10-22T06:35:06.033762Z",
     "iopub.status.busy": "2020-10-22T06:35:06.033019Z",
     "iopub.status.idle": "2020-10-22T06:35:06.057466Z",
     "shell.execute_reply": "2020-10-22T06:35:06.058232Z"
    },
    "slideshow": {
     "slide_type": "subslide"
    }
   },
   "outputs": [
    {
     "name": "stdout",
     "output_type": "stream",
     "text": [
      "bar\n"
     ]
    },
    {
     "data": {
      "text/plain": [
       "42"
      ]
     },
     "execution_count": 1,
     "metadata": {},
     "output_type": "execute_result"
    }
   ],
   "source": [
    "# This is a code cell; it can contain arbitrary python code.\n",
    "\n",
    "foo = 'bar'\n",
    "print(foo)\n",
    "\n",
    "def the_answer():\n",
    "    return 42\n",
    "\n",
    "# The output of the last expression in a cell is shown\n",
    "2*the_answer()\n",
    "the_answer()"
   ]
  },
  {
   "cell_type": "markdown",
   "metadata": {
    "slideshow": {
     "slide_type": "subslide"
    }
   },
   "source": [
    "Variables and functions defined in a code cell are available in subsequent cells."
   ]
  },
  {
   "cell_type": "code",
   "execution_count": 2,
   "metadata": {
    "execution": {
     "iopub.execute_input": "2020-10-22T06:35:06.061668Z",
     "iopub.status.busy": "2020-10-22T06:35:06.061135Z",
     "iopub.status.idle": "2020-10-22T06:35:06.076281Z",
     "shell.execute_reply": "2020-10-22T06:35:06.076876Z"
    },
    "slideshow": {
     "slide_type": "fragment"
    }
   },
   "outputs": [],
   "source": [
    "ans = the_answer()"
   ]
  },
  {
   "cell_type": "code",
   "execution_count": 3,
   "metadata": {
    "execution": {
     "iopub.execute_input": "2020-10-22T06:35:06.080250Z",
     "iopub.status.busy": "2020-10-22T06:35:06.079672Z",
     "iopub.status.idle": "2020-10-22T06:35:06.097253Z",
     "shell.execute_reply": "2020-10-22T06:35:06.096517Z"
    },
    "slideshow": {
     "slide_type": "fragment"
    }
   },
   "outputs": [
    {
     "data": {
      "text/plain": [
       "42"
      ]
     },
     "execution_count": 3,
     "metadata": {},
     "output_type": "execute_result"
    }
   ],
   "source": [
    "ans"
   ]
  },
  {
   "cell_type": "markdown",
   "metadata": {
    "slideshow": {
     "slide_type": "subslide"
    }
   },
   "source": [
    "This is a markdown cell. You can use markdown syntax to format your text, and also include equations\n",
    "written in $\\LaTeX$:\n",
    "\n",
    "$$\n",
    "e^{i\\pi} - 1 = 0\n",
    "$$"
   ]
  },
  {
   "cell_type": "markdown",
   "metadata": {
    "slideshow": {
     "slide_type": "subslide"
    }
   },
   "source": [
    "Other useful things to know about:\n",
    "* Opening a console for notebook\n",
    "* Restarting kernel\n",
    "* Magics"
   ]
  },
  {
   "cell_type": "code",
   "execution_count": 4,
   "metadata": {
    "execution": {
     "iopub.execute_input": "2020-10-22T06:35:06.101792Z",
     "iopub.status.busy": "2020-10-22T06:35:06.101135Z",
     "iopub.status.idle": "2020-10-22T06:35:06.593327Z",
     "shell.execute_reply": "2020-10-22T06:35:06.593895Z"
    },
    "slideshow": {
     "slide_type": "fragment"
    }
   },
   "outputs": [
    {
     "name": "stdout",
     "output_type": "stream",
     "text": [
      "The autoreload extension is already loaded. To reload it, use:\n",
      "  %reload_ext autoreload\n"
     ]
    }
   ],
   "source": [
    "%matplotlib inline\n",
    "%load_ext autoreload\n",
    "%autoreload 2"
   ]
  },
  {
   "cell_type": "code",
   "execution_count": 5,
   "metadata": {
    "execution": {
     "iopub.execute_input": "2020-10-22T06:35:06.596929Z",
     "iopub.status.busy": "2020-10-22T06:35:06.596444Z",
     "iopub.status.idle": "2020-10-22T06:35:11.898116Z",
     "shell.execute_reply": "2020-10-22T06:35:11.898657Z"
    },
    "slideshow": {
     "slide_type": "fragment"
    }
   },
   "outputs": [
    {
     "name": "stdout",
     "output_type": "stream",
     "text": [
      "65 ns ± 0.268 ns per loop (mean ± std. dev. of 7 runs, 10000000 loops each)\n"
     ]
    }
   ],
   "source": [
    "%timeit the_answer()"
   ]
  },
  {
   "cell_type": "markdown",
   "metadata": {
    "slideshow": {
     "slide_type": "slide"
    },
    "toc-hr-collapsed": true,
    "toc-nb-collapsed": true
   },
   "source": [
    "## Basics of Python"
   ]
  },
  {
   "cell_type": "markdown",
   "metadata": {
    "slideshow": {
     "slide_type": "subslide"
    }
   },
   "source": [
    "Python is a high-level, dynamically typed multiparadigm programming language. Python code is often said to be almost like pseudocode, since it allows you to express very powerful ideas in very few lines of code while being very readable. As an example, here is an implementation of the classic quicksort algorithm in Python:"
   ]
  },
  {
   "cell_type": "code",
   "execution_count": 6,
   "metadata": {
    "execution": {
     "iopub.execute_input": "2020-10-22T06:35:11.909427Z",
     "iopub.status.busy": "2020-10-22T06:35:11.908838Z",
     "iopub.status.idle": "2020-10-22T06:35:11.926697Z",
     "shell.execute_reply": "2020-10-22T06:35:11.926161Z"
    },
    "jupyter": {
     "outputs_hidden": false
    },
    "slideshow": {
     "slide_type": "fragment"
    }
   },
   "outputs": [
    {
     "name": "stdout",
     "output_type": "stream",
     "text": [
      "[1, 1, 2, 3, 6, 8, 10]\n"
     ]
    }
   ],
   "source": [
    "def quicksort(arr):\n",
    "    if len(arr) <= 1:\n",
    "        return arr\n",
    "    pivot = arr[len(arr) // 2]\n",
    "    left = [x for x in arr if x < pivot]\n",
    "    middle = [x for x in arr if x == pivot]\n",
    "    right = [x for x in arr if x > pivot]\n",
    "    return quicksort(left) + middle + quicksort(right)\n",
    "\n",
    "print(quicksort([3,6,8,10,1,2,1]))"
   ]
  },
  {
   "cell_type": "markdown",
   "metadata": {
    "slideshow": {
     "slide_type": "fragment"
    }
   },
   "source": [
    "Python has great [documentation](https://docs.python.org/3)! Use it often."
   ]
  },
  {
   "cell_type": "markdown",
   "metadata": {
    "slideshow": {
     "slide_type": "subslide"
    }
   },
   "source": [
    "### Packages and modules"
   ]
  },
  {
   "cell_type": "markdown",
   "metadata": {
    "slideshow": {
     "slide_type": "fragment"
    }
   },
   "source": [
    "A python **module** is simply a python file (`.py`), which can contain functions, classes and even top-level code.\n",
    "\n",
    "A **package** is a collection of modules within a directory. Python comes with a standard library which\n",
    "includes many useful packages.\n",
    "\n",
    "A package must be imported before use. They can be imported like so:"
   ]
  },
  {
   "cell_type": "code",
   "execution_count": 7,
   "metadata": {
    "execution": {
     "iopub.execute_input": "2020-10-22T06:35:11.929686Z",
     "iopub.status.busy": "2020-10-22T06:35:11.929114Z",
     "iopub.status.idle": "2020-10-22T06:35:11.945347Z",
     "shell.execute_reply": "2020-10-22T06:35:11.945926Z"
    }
   },
   "outputs": [],
   "source": [
    "# Import packages from the python standard library\n",
    "import math\n",
    "import sys"
   ]
  },
  {
   "cell_type": "markdown",
   "metadata": {},
   "source": [
    "Additionally, we can define our own packages and modules. This tutorial comes with a `demo_package`\n",
    "which includes a `demo_module`.\n",
    "\n",
    "Any object can be imported from a module like so:"
   ]
  },
  {
   "cell_type": "code",
   "execution_count": 8,
   "metadata": {
    "execution": {
     "iopub.execute_input": "2020-10-22T06:35:11.949031Z",
     "iopub.status.busy": "2020-10-22T06:35:11.948541Z",
     "iopub.status.idle": "2020-10-22T06:35:11.969586Z",
     "shell.execute_reply": "2020-10-22T06:35:11.970133Z"
    }
   },
   "outputs": [
    {
     "name": "stdout",
     "output_type": "stream",
     "text": [
      "this is a demo, a=17\n",
      "this is a demo, a=3.141592653589793\n",
      "FOO\n"
     ]
    }
   ],
   "source": [
    "# Import just a specific function from a specific module from a specific package\n",
    "from demo_package.demo_module import demo_func\n",
    "\n",
    "demo_func(math.pi)\n",
    "print('FOO', file=sys.stdout)"
   ]
  },
  {
   "cell_type": "markdown",
   "metadata": {},
   "source": [
    "### Basic data types"
   ]
  },
  {
   "cell_type": "markdown",
   "metadata": {},
   "source": [
    "#### Numbers"
   ]
  },
  {
   "cell_type": "markdown",
   "metadata": {},
   "source": [
    "Integers and floats work as you would expect from other languages:"
   ]
  },
  {
   "cell_type": "code",
   "execution_count": 9,
   "metadata": {
    "execution": {
     "iopub.execute_input": "2020-10-22T06:35:11.973603Z",
     "iopub.status.busy": "2020-10-22T06:35:11.972982Z",
     "iopub.status.idle": "2020-10-22T06:35:11.990520Z",
     "shell.execute_reply": "2020-10-22T06:35:11.991078Z"
    },
    "jupyter": {
     "outputs_hidden": false
    }
   },
   "outputs": [
    {
     "name": "stdout",
     "output_type": "stream",
     "text": [
      "3 <class 'int'>\n"
     ]
    }
   ],
   "source": [
    "x = 3\n",
    "print(x, type(x))"
   ]
  },
  {
   "cell_type": "code",
   "execution_count": 10,
   "metadata": {
    "execution": {
     "iopub.execute_input": "2020-10-22T06:35:11.994586Z",
     "iopub.status.busy": "2020-10-22T06:35:11.994060Z",
     "iopub.status.idle": "2020-10-22T06:35:12.010834Z",
     "shell.execute_reply": "2020-10-22T06:35:12.011374Z"
    },
    "jupyter": {
     "outputs_hidden": false
    }
   },
   "outputs": [
    {
     "name": "stdout",
     "output_type": "stream",
     "text": [
      "4\n",
      "2\n",
      "6\n",
      "9\n"
     ]
    }
   ],
   "source": [
    "print(x + 1)  # Addition;\n",
    "print(x - 1)  # Subtraction;\n",
    "print(x * 2)  # Multiplication;\n",
    "print(x ** 2)  # Exponentiation;"
   ]
  },
  {
   "cell_type": "code",
   "execution_count": 11,
   "metadata": {
    "execution": {
     "iopub.execute_input": "2020-10-22T06:35:12.014253Z",
     "iopub.status.busy": "2020-10-22T06:35:12.013752Z",
     "iopub.status.idle": "2020-10-22T06:35:12.031770Z",
     "shell.execute_reply": "2020-10-22T06:35:12.031184Z"
    },
    "jupyter": {
     "outputs_hidden": false
    }
   },
   "outputs": [
    {
     "name": "stdout",
     "output_type": "stream",
     "text": [
      "4\n",
      "8\n"
     ]
    }
   ],
   "source": [
    "x += 1\n",
    "print(x)\n",
    "x *= 2\n",
    "print(x)"
   ]
  },
  {
   "cell_type": "code",
   "execution_count": 12,
   "metadata": {
    "execution": {
     "iopub.execute_input": "2020-10-22T06:35:12.034871Z",
     "iopub.status.busy": "2020-10-22T06:35:12.034378Z",
     "iopub.status.idle": "2020-10-22T06:35:12.050811Z",
     "shell.execute_reply": "2020-10-22T06:35:12.051360Z"
    },
    "jupyter": {
     "outputs_hidden": false
    }
   },
   "outputs": [
    {
     "name": "stdout",
     "output_type": "stream",
     "text": [
      "<class 'float'>\n",
      "2.5 3.5 5.0 6.25 1.25 1.0\n"
     ]
    }
   ],
   "source": [
    "y = 2.5\n",
    "print(type(y))\n",
    "print(y, y + 1, y * 2, y ** 2, y / 2, y // 2)"
   ]
  },
  {
   "cell_type": "markdown",
   "metadata": {},
   "source": [
    "Note that unlike many languages, Python does not have unary increment (x++) or decrement (x--) operators.\n",
    "\n",
    "Python also has built-in types for long integers and complex numbers; you can find all of the details in the [documentation](https://docs.python.org/3/library/stdtypes.html#numeric-types-int-float-long-complex)."
   ]
  },
  {
   "cell_type": "markdown",
   "metadata": {},
   "source": [
    "#### Booleans"
   ]
  },
  {
   "cell_type": "markdown",
   "metadata": {},
   "source": [
    "Python implements all of the usual operators for Boolean logic, but uses English words rather than symbols (`&&`, `||`, etc.):"
   ]
  },
  {
   "cell_type": "code",
   "execution_count": 13,
   "metadata": {
    "execution": {
     "iopub.execute_input": "2020-10-22T06:35:12.054621Z",
     "iopub.status.busy": "2020-10-22T06:35:12.054105Z",
     "iopub.status.idle": "2020-10-22T06:35:12.071554Z",
     "shell.execute_reply": "2020-10-22T06:35:12.072151Z"
    },
    "jupyter": {
     "outputs_hidden": false
    }
   },
   "outputs": [],
   "source": [
    "t, f = True, False"
   ]
  },
  {
   "cell_type": "markdown",
   "metadata": {},
   "source": [
    "Now we let's look at the operations:"
   ]
  },
  {
   "cell_type": "code",
   "execution_count": 14,
   "metadata": {
    "execution": {
     "iopub.execute_input": "2020-10-22T06:35:12.075512Z",
     "iopub.status.busy": "2020-10-22T06:35:12.075003Z",
     "iopub.status.idle": "2020-10-22T06:35:12.093167Z",
     "shell.execute_reply": "2020-10-22T06:35:12.093591Z"
    },
    "jupyter": {
     "outputs_hidden": false
    }
   },
   "outputs": [
    {
     "name": "stdout",
     "output_type": "stream",
     "text": [
      "False\n",
      "True\n",
      "False\n",
      "True\n"
     ]
    }
   ],
   "source": [
    "print(t and f) # Logical AND\n",
    "print(t or f ) # Logical OR\n",
    "print(not t  ) # Logical NOT\n",
    "print(t != f ) # Logical XOR"
   ]
  },
  {
   "cell_type": "markdown",
   "metadata": {},
   "source": [
    "#### Strings"
   ]
  },
  {
   "cell_type": "code",
   "execution_count": 15,
   "metadata": {
    "execution": {
     "iopub.execute_input": "2020-10-22T06:35:12.096753Z",
     "iopub.status.busy": "2020-10-22T06:35:12.096177Z",
     "iopub.status.idle": "2020-10-22T06:35:12.113065Z",
     "shell.execute_reply": "2020-10-22T06:35:12.113644Z"
    },
    "jupyter": {
     "outputs_hidden": false
    }
   },
   "outputs": [
    {
     "data": {
      "text/plain": [
       "('hello', 5)"
      ]
     },
     "execution_count": 1,
     "metadata": {},
     "output_type": "execute_result"
    }
   ],
   "source": [
    "hello = 'hello'   # String literals can use single quotes\n",
    "world = \"world\"   # or double quotes; it does not matter.\n",
    "hello, len(hello)"
   ]
  },
  {
   "cell_type": "code",
   "execution_count": 16,
   "metadata": {
    "execution": {
     "iopub.execute_input": "2020-10-22T06:35:12.116173Z",
     "iopub.status.busy": "2020-10-22T06:35:12.115687Z",
     "iopub.status.idle": "2020-10-22T06:35:12.133023Z",
     "shell.execute_reply": "2020-10-22T06:35:12.133560Z"
    },
    "jupyter": {
     "outputs_hidden": false
    }
   },
   "outputs": [
    {
     "data": {
      "text/plain": [
       "'aaa bbb'"
      ]
     },
     "execution_count": 1,
     "metadata": {},
     "output_type": "execute_result"
    }
   ],
   "source": [
    "# String concatenation\n",
    "'aaa ' + 'bbb'"
   ]
  },
  {
   "cell_type": "markdown",
   "metadata": {},
   "source": [
    "There are several way to created formatted strings, here are a couple:"
   ]
  },
  {
   "cell_type": "code",
   "execution_count": 17,
   "metadata": {
    "execution": {
     "iopub.execute_input": "2020-10-22T06:35:12.136731Z",
     "iopub.status.busy": "2020-10-22T06:35:12.136238Z",
     "iopub.status.idle": "2020-10-22T06:35:12.152604Z",
     "shell.execute_reply": "2020-10-22T06:35:12.153118Z"
    }
   },
   "outputs": [
    {
     "name": "stdout",
     "output_type": "stream",
     "text": [
      "hello [1, 2, 3]: pi=3.14159\n",
      "hello [1, 2, 3]: pi=3.14159\n"
     ]
    }
   ],
   "source": [
    "s = 'hello'\n",
    "a = [1,2,3]\n",
    "\n",
    "# sprintf style string formatting\n",
    "print('%s %s: pi=%.5f' % (s, a, math.pi))\n",
    "\n",
    "# formatting with f-string literals (python 3.6+)\n",
    "print(f'{s} {a}: pi={math.pi:.5f}')"
   ]
  },
  {
   "cell_type": "markdown",
   "metadata": {},
   "source": [
    "String objects have a bunch of useful methods; for example:"
   ]
  },
  {
   "cell_type": "code",
   "execution_count": 18,
   "metadata": {
    "execution": {
     "iopub.execute_input": "2020-10-22T06:35:12.156758Z",
     "iopub.status.busy": "2020-10-22T06:35:12.156241Z",
     "iopub.status.idle": "2020-10-22T06:35:12.172946Z",
     "shell.execute_reply": "2020-10-22T06:35:12.173569Z"
    },
    "jupyter": {
     "outputs_hidden": false
    }
   },
   "outputs": [
    {
     "name": "stdout",
     "output_type": "stream",
     "text": [
      "Hello\n",
      "HELLO\n",
      "  hello\n",
      " hello \n",
      "he(ell)(ell)o\n",
      "world\n"
     ]
    }
   ],
   "source": [
    "s = \"hello\"\n",
    "print(s.capitalize() ) # Capitalize a string; prints \"Hello\"\n",
    "print(s.upper()      ) # Convert a string to uppercase; prints \"HELLO\"\n",
    "print(s.rjust(7)     ) # Right-justify a string, padding with spaces; prints \"  hello\"\n",
    "print(s.center(7)    ) # Center a string, padding with spaces; prints \" hello \"\n",
    "print(s.replace('l', '(ell)'))  # Replace all instances of one substring with another\n",
    "print('  world '.strip())  # Strip leading and trailing whitespace; prints \"world\""
   ]
  },
  {
   "cell_type": "markdown",
   "metadata": {},
   "source": [
    "You can find a list of all string methods in the [documentation](https://docs.python.org/3/library/stdtypes.html#string-methods)."
   ]
  },
  {
   "cell_type": "markdown",
   "metadata": {},
   "source": [
    "### Containers"
   ]
  },
  {
   "cell_type": "markdown",
   "metadata": {},
   "source": [
    "Python includes several built-in container types: lists, dictionaries, sets, and tuples."
   ]
  },
  {
   "cell_type": "markdown",
   "metadata": {},
   "source": [
    "#### Lists"
   ]
  },
  {
   "cell_type": "markdown",
   "metadata": {},
   "source": [
    "A list is the Python equivalent of an array, but is resizeable and can contain elements of different types:"
   ]
  },
  {
   "cell_type": "code",
   "execution_count": 19,
   "metadata": {
    "execution": {
     "iopub.execute_input": "2020-10-22T06:35:12.176786Z",
     "iopub.status.busy": "2020-10-22T06:35:12.176304Z",
     "iopub.status.idle": "2020-10-22T06:35:12.193310Z",
     "shell.execute_reply": "2020-10-22T06:35:12.193902Z"
    },
    "jupyter": {
     "outputs_hidden": false
    }
   },
   "outputs": [
    {
     "name": "stdout",
     "output_type": "stream",
     "text": [
      "[3, 1, 2]\n",
      "2 2\n"
     ]
    }
   ],
   "source": [
    "xs = [3, 1, 2]   # Create a list\n",
    "print(xs)\n",
    "print(xs[2], xs[-1]) # Negative indices count from the end of the list; prints \"2\""
   ]
  },
  {
   "cell_type": "code",
   "execution_count": 20,
   "metadata": {
    "execution": {
     "iopub.execute_input": "2020-10-22T06:35:12.196845Z",
     "iopub.status.busy": "2020-10-22T06:35:12.196350Z",
     "iopub.status.idle": "2020-10-22T06:35:12.212652Z",
     "shell.execute_reply": "2020-10-22T06:35:12.213195Z"
    },
    "jupyter": {
     "outputs_hidden": false
    }
   },
   "outputs": [
    {
     "name": "stdout",
     "output_type": "stream",
     "text": [
      "[3, 1, 'foo']\n"
     ]
    }
   ],
   "source": [
    "xs[2] = 'foo'    # Lists can contain elements of different types\n",
    "print(xs)"
   ]
  },
  {
   "cell_type": "code",
   "execution_count": 21,
   "metadata": {
    "execution": {
     "iopub.execute_input": "2020-10-22T06:35:12.216101Z",
     "iopub.status.busy": "2020-10-22T06:35:12.215608Z",
     "iopub.status.idle": "2020-10-22T06:35:12.233131Z",
     "shell.execute_reply": "2020-10-22T06:35:12.233715Z"
    },
    "jupyter": {
     "outputs_hidden": false
    }
   },
   "outputs": [
    {
     "name": "stdout",
     "output_type": "stream",
     "text": [
      "[3, 1, 'foo', 'bar']\n"
     ]
    }
   ],
   "source": [
    "xs.append('bar') # Add a new element to the end of the list\n",
    "print(xs)"
   ]
  },
  {
   "cell_type": "code",
   "execution_count": 22,
   "metadata": {
    "execution": {
     "iopub.execute_input": "2020-10-22T06:35:12.236532Z",
     "iopub.status.busy": "2020-10-22T06:35:12.236039Z",
     "iopub.status.idle": "2020-10-22T06:35:12.253255Z",
     "shell.execute_reply": "2020-10-22T06:35:12.253828Z"
    },
    "jupyter": {
     "outputs_hidden": false
    }
   },
   "outputs": [
    {
     "data": {
      "text/plain": [
       "('bar', [3, 1, 'foo'])"
      ]
     },
     "execution_count": 1,
     "metadata": {},
     "output_type": "execute_result"
    }
   ],
   "source": [
    "x = xs.pop()     # Remove and return the last element of the list\n",
    "x, xs"
   ]
  },
  {
   "cell_type": "markdown",
   "metadata": {},
   "source": [
    "#### Slicing"
   ]
  },
  {
   "cell_type": "markdown",
   "metadata": {},
   "source": [
    "In addition to accessing list elements one at a time, Python provides concise syntax to access sublists; this is known as slicing:"
   ]
  },
  {
   "cell_type": "code",
   "execution_count": 23,
   "metadata": {
    "execution": {
     "iopub.execute_input": "2020-10-22T06:35:12.257162Z",
     "iopub.status.busy": "2020-10-22T06:35:12.256649Z",
     "iopub.status.idle": "2020-10-22T06:35:12.273880Z",
     "shell.execute_reply": "2020-10-22T06:35:12.274449Z"
    },
    "jupyter": {
     "outputs_hidden": false
    }
   },
   "outputs": [
    {
     "data": {
      "text/plain": [
       "[0, 1, 2, 3, 4]"
      ]
     },
     "execution_count": 1,
     "metadata": {},
     "output_type": "execute_result"
    }
   ],
   "source": [
    "nums = list(range(5))\n",
    "nums"
   ]
  },
  {
   "cell_type": "code",
   "execution_count": 24,
   "metadata": {
    "execution": {
     "iopub.execute_input": "2020-10-22T06:35:12.277456Z",
     "iopub.status.busy": "2020-10-22T06:35:12.276916Z",
     "iopub.status.idle": "2020-10-22T06:35:12.294355Z",
     "shell.execute_reply": "2020-10-22T06:35:12.294890Z"
    },
    "jupyter": {
     "outputs_hidden": false
    }
   },
   "outputs": [
    {
     "data": {
      "text/plain": [
       "[2, 3]"
      ]
     },
     "execution_count": 1,
     "metadata": {},
     "output_type": "execute_result"
    }
   ],
   "source": [
    "nums[2:4]    # Get a slice from index 2 to 4 (exclusive)"
   ]
  },
  {
   "cell_type": "code",
   "execution_count": 25,
   "metadata": {
    "execution": {
     "iopub.execute_input": "2020-10-22T06:35:12.297768Z",
     "iopub.status.busy": "2020-10-22T06:35:12.297280Z",
     "iopub.status.idle": "2020-10-22T06:35:12.313854Z",
     "shell.execute_reply": "2020-10-22T06:35:12.314424Z"
    },
    "jupyter": {
     "outputs_hidden": false
    }
   },
   "outputs": [
    {
     "data": {
      "text/plain": [
       "[2, 3, 4]"
      ]
     },
     "execution_count": 1,
     "metadata": {},
     "output_type": "execute_result"
    }
   ],
   "source": [
    "nums[2:]     # Get a slice from index 2 to the end"
   ]
  },
  {
   "cell_type": "code",
   "execution_count": 26,
   "metadata": {
    "execution": {
     "iopub.execute_input": "2020-10-22T06:35:12.317342Z",
     "iopub.status.busy": "2020-10-22T06:35:12.316834Z",
     "iopub.status.idle": "2020-10-22T06:35:12.361394Z",
     "shell.execute_reply": "2020-10-22T06:35:12.362062Z"
    },
    "jupyter": {
     "outputs_hidden": false
    }
   },
   "outputs": [
    {
     "data": {
      "text/plain": [
       "[0, 1]"
      ]
     },
     "execution_count": 1,
     "metadata": {},
     "output_type": "execute_result"
    }
   ],
   "source": [
    "nums[:2]     # Get a slice from the start to index 2 (exclusive)"
   ]
  },
  {
   "cell_type": "code",
   "execution_count": 27,
   "metadata": {
    "execution": {
     "iopub.execute_input": "2020-10-22T06:35:12.365744Z",
     "iopub.status.busy": "2020-10-22T06:35:12.365113Z",
     "iopub.status.idle": "2020-10-22T06:35:12.386373Z",
     "shell.execute_reply": "2020-10-22T06:35:12.386993Z"
    },
    "jupyter": {
     "outputs_hidden": false
    }
   },
   "outputs": [
    {
     "data": {
      "text/plain": [
       "[0, 1, 2, 3, 4]"
      ]
     },
     "execution_count": 1,
     "metadata": {},
     "output_type": "execute_result"
    }
   ],
   "source": [
    "nums[:]      # Get a slice of the whole list"
   ]
  },
  {
   "cell_type": "code",
   "execution_count": 28,
   "metadata": {
    "execution": {
     "iopub.execute_input": "2020-10-22T06:35:12.391213Z",
     "iopub.status.busy": "2020-10-22T06:35:12.390540Z",
     "iopub.status.idle": "2020-10-22T06:35:12.410428Z",
     "shell.execute_reply": "2020-10-22T06:35:12.410841Z"
    },
    "jupyter": {
     "outputs_hidden": false
    }
   },
   "outputs": [
    {
     "data": {
      "text/plain": [
       "[0, 1, 2, 3]"
      ]
     },
     "execution_count": 1,
     "metadata": {},
     "output_type": "execute_result"
    }
   ],
   "source": [
    "nums[:-1]    # Slice indices can be negative"
   ]
  },
  {
   "cell_type": "code",
   "execution_count": 29,
   "metadata": {
    "execution": {
     "iopub.execute_input": "2020-10-22T06:35:12.413919Z",
     "iopub.status.busy": "2020-10-22T06:35:12.413385Z",
     "iopub.status.idle": "2020-10-22T06:35:12.431841Z",
     "shell.execute_reply": "2020-10-22T06:35:12.432390Z"
    }
   },
   "outputs": [
    {
     "data": {
      "text/plain": [
       "[0, 2]"
      ]
     },
     "execution_count": 1,
     "metadata": {},
     "output_type": "execute_result"
    }
   ],
   "source": [
    "nums[0:4:2]  # Can also specify slice step size"
   ]
  },
  {
   "cell_type": "code",
   "execution_count": 30,
   "metadata": {
    "execution": {
     "iopub.execute_input": "2020-10-22T06:35:12.435400Z",
     "iopub.status.busy": "2020-10-22T06:35:12.434877Z",
     "iopub.status.idle": "2020-10-22T06:35:12.452196Z",
     "shell.execute_reply": "2020-10-22T06:35:12.452719Z"
    },
    "jupyter": {
     "outputs_hidden": false
    }
   },
   "outputs": [
    {
     "data": {
      "text/plain": [
       "[0, 1, 8, 9, 4]"
      ]
     },
     "execution_count": 1,
     "metadata": {},
     "output_type": "execute_result"
    }
   ],
   "source": [
    "nums[2:4] = [8, 9] # Assign a new sublist to a slice\n",
    "nums"
   ]
  },
  {
   "cell_type": "code",
   "execution_count": 31,
   "metadata": {
    "execution": {
     "iopub.execute_input": "2020-10-22T06:35:12.456061Z",
     "iopub.status.busy": "2020-10-22T06:35:12.455446Z",
     "iopub.status.idle": "2020-10-22T06:35:12.473432Z",
     "shell.execute_reply": "2020-10-22T06:35:12.474040Z"
    }
   },
   "outputs": [
    {
     "data": {
      "text/plain": [
       "[1, 8, 9]"
      ]
     },
     "execution_count": 1,
     "metadata": {},
     "output_type": "execute_result"
    }
   ],
   "source": [
    "# Delete elements from a list\n",
    "nums[0:1] = []\n",
    "del nums[-1]\n",
    "nums"
   ]
  },
  {
   "cell_type": "markdown",
   "metadata": {},
   "source": [
    "#### Loops"
   ]
  },
  {
   "cell_type": "markdown",
   "metadata": {},
   "source": [
    "You can loop over the elements of a list like this:"
   ]
  },
  {
   "cell_type": "code",
   "execution_count": 32,
   "metadata": {
    "execution": {
     "iopub.execute_input": "2020-10-22T06:35:12.477229Z",
     "iopub.status.busy": "2020-10-22T06:35:12.476701Z",
     "iopub.status.idle": "2020-10-22T06:35:12.493832Z",
     "shell.execute_reply": "2020-10-22T06:35:12.494390Z"
    },
    "jupyter": {
     "outputs_hidden": false
    }
   },
   "outputs": [
    {
     "name": "stdout",
     "output_type": "stream",
     "text": [
      "cat\n",
      "dog\n",
      "monkey\n"
     ]
    }
   ],
   "source": [
    "animals = ['cat', 'dog', 'monkey']\n",
    "for animal in animals:\n",
    "    print(animal)"
   ]
  },
  {
   "cell_type": "markdown",
   "metadata": {},
   "source": [
    "If you want access to the index of each element within the body of a loop, use the built-in `enumerate` function:"
   ]
  },
  {
   "cell_type": "code",
   "execution_count": 33,
   "metadata": {
    "execution": {
     "iopub.execute_input": "2020-10-22T06:35:12.497441Z",
     "iopub.status.busy": "2020-10-22T06:35:12.496935Z",
     "iopub.status.idle": "2020-10-22T06:35:12.513881Z",
     "shell.execute_reply": "2020-10-22T06:35:12.514421Z"
    },
    "jupyter": {
     "outputs_hidden": false
    }
   },
   "outputs": [
    {
     "name": "stdout",
     "output_type": "stream",
     "text": [
      "#1: cat\n",
      "#2: dog\n",
      "#3: monkey\n"
     ]
    }
   ],
   "source": [
    "animals = ['cat', 'dog', 'monkey']\n",
    "for idx, animal in enumerate(animals):\n",
    "    print(f'#{idx+1}: {animal}')"
   ]
  },
  {
   "cell_type": "markdown",
   "metadata": {},
   "source": [
    "#### List comprehensions"
   ]
  },
  {
   "cell_type": "markdown",
   "metadata": {},
   "source": [
    "When programming, frequently we want to transform one type of data into another. As a simple example, consider the following code that computes square numbers:"
   ]
  },
  {
   "cell_type": "code",
   "execution_count": 34,
   "metadata": {
    "execution": {
     "iopub.execute_input": "2020-10-22T06:35:12.517934Z",
     "iopub.status.busy": "2020-10-22T06:35:12.517411Z",
     "iopub.status.idle": "2020-10-22T06:35:12.535464Z",
     "shell.execute_reply": "2020-10-22T06:35:12.536051Z"
    },
    "jupyter": {
     "outputs_hidden": false
    }
   },
   "outputs": [
    {
     "data": {
      "text/plain": [
       "[0, 1, 4, 9, 16]"
      ]
     },
     "execution_count": 1,
     "metadata": {},
     "output_type": "execute_result"
    }
   ],
   "source": [
    "nums = [0, 1, 2, 3, 4]\n",
    "squares = []\n",
    "for x in nums:\n",
    "    squares.append(x ** 2)\n",
    "squares"
   ]
  },
  {
   "cell_type": "markdown",
   "metadata": {},
   "source": [
    "You can make this code simpler using a list comprehension:"
   ]
  },
  {
   "cell_type": "code",
   "execution_count": 35,
   "metadata": {
    "execution": {
     "iopub.execute_input": "2020-10-22T06:35:12.539054Z",
     "iopub.status.busy": "2020-10-22T06:35:12.538545Z",
     "iopub.status.idle": "2020-10-22T06:35:12.555577Z",
     "shell.execute_reply": "2020-10-22T06:35:12.556307Z"
    },
    "jupyter": {
     "outputs_hidden": false
    }
   },
   "outputs": [
    {
     "data": {
      "text/plain": [
       "[0, 1, 4, 9, 16]"
      ]
     },
     "execution_count": 1,
     "metadata": {},
     "output_type": "execute_result"
    }
   ],
   "source": [
    "squares = [x ** 2 for x in nums]\n",
    "squares"
   ]
  },
  {
   "cell_type": "markdown",
   "metadata": {},
   "source": [
    "List comprehensions can also contain conditions:"
   ]
  },
  {
   "cell_type": "code",
   "execution_count": 36,
   "metadata": {
    "execution": {
     "iopub.execute_input": "2020-10-22T06:35:12.559752Z",
     "iopub.status.busy": "2020-10-22T06:35:12.559190Z",
     "iopub.status.idle": "2020-10-22T06:35:12.576267Z",
     "shell.execute_reply": "2020-10-22T06:35:12.576839Z"
    },
    "jupyter": {
     "outputs_hidden": false
    }
   },
   "outputs": [
    {
     "data": {
      "text/plain": [
       "[0, 4, 16]"
      ]
     },
     "execution_count": 1,
     "metadata": {},
     "output_type": "execute_result"
    }
   ],
   "source": [
    "even_squares = [x ** 2 for x in nums if x % 2 == 0]\n",
    "even_squares"
   ]
  },
  {
   "cell_type": "markdown",
   "metadata": {},
   "source": [
    "List comprehensions can be nested:"
   ]
  },
  {
   "cell_type": "code",
   "execution_count": 37,
   "metadata": {
    "execution": {
     "iopub.execute_input": "2020-10-22T06:35:12.579811Z",
     "iopub.status.busy": "2020-10-22T06:35:12.579331Z",
     "iopub.status.idle": "2020-10-22T06:35:12.597007Z",
     "shell.execute_reply": "2020-10-22T06:35:12.597586Z"
    }
   },
   "outputs": [
    {
     "data": {
      "text/plain": [
       "[0, 0, -1, 1, -2, 2, -3, 3, -4, 4]"
      ]
     },
     "execution_count": 1,
     "metadata": {},
     "output_type": "execute_result"
    }
   ],
   "source": [
    "nums2 = [-1, 1]\n",
    "[x * y for x in nums for y in nums2]"
   ]
  },
  {
   "cell_type": "markdown",
   "metadata": {},
   "source": [
    "#### Dictionaries"
   ]
  },
  {
   "cell_type": "markdown",
   "metadata": {},
   "source": [
    "A dictionary stores (key, value) pairs. In other languages this is known as a `Map` or `Hash`."
   ]
  },
  {
   "cell_type": "code",
   "execution_count": 38,
   "metadata": {
    "execution": {
     "iopub.execute_input": "2020-10-22T06:35:12.601105Z",
     "iopub.status.busy": "2020-10-22T06:35:12.600599Z",
     "iopub.status.idle": "2020-10-22T06:35:12.617387Z",
     "shell.execute_reply": "2020-10-22T06:35:12.617962Z"
    },
    "jupyter": {
     "outputs_hidden": false
    }
   },
   "outputs": [
    {
     "name": "stdout",
     "output_type": "stream",
     "text": [
      "cute\n",
      "True\n"
     ]
    }
   ],
   "source": [
    "d = {'cat': 'cute', 'dog': 'furry'}  # Create a new dictionary with some data\n",
    "print(d['cat'])       # Get an entry from a dictionary\n",
    "print('cat' in d)     # Check if a dictionary has a given key"
   ]
  },
  {
   "cell_type": "code",
   "execution_count": 39,
   "metadata": {
    "execution": {
     "iopub.execute_input": "2020-10-22T06:35:12.621173Z",
     "iopub.status.busy": "2020-10-22T06:35:12.620650Z",
     "iopub.status.idle": "2020-10-22T06:35:12.640288Z",
     "shell.execute_reply": "2020-10-22T06:35:12.640870Z"
    },
    "jupyter": {
     "outputs_hidden": false
    }
   },
   "outputs": [
    {
     "data": {
      "text/plain": [
       "{'cat': 'cute', 'dog': 'furry', 'fish': 'wet'}"
      ]
     },
     "execution_count": 1,
     "metadata": {},
     "output_type": "execute_result"
    }
   ],
   "source": [
    "d['fish'] = 'wet'    # Set an entry in a dictionary\n",
    "d"
   ]
  },
  {
   "cell_type": "code",
   "execution_count": 40,
   "metadata": {
    "execution": {
     "iopub.execute_input": "2020-10-22T06:35:12.644157Z",
     "iopub.status.busy": "2020-10-22T06:35:12.643635Z",
     "iopub.status.idle": "2020-10-22T06:35:12.661590Z",
     "shell.execute_reply": "2020-10-22T06:35:12.662128Z"
    }
   },
   "outputs": [
    {
     "name": "stderr",
     "output_type": "stream",
     "text": [
      "'monkey'\n"
     ]
    }
   ],
   "source": [
    "# Trying to access a non-existing key raises a KeyError\n",
    "try:\n",
    "    d['monkey']\n",
    "except KeyError as e:\n",
    "    print(e, file=sys.stderr)"
   ]
  },
  {
   "cell_type": "code",
   "execution_count": 41,
   "metadata": {
    "execution": {
     "iopub.execute_input": "2020-10-22T06:35:12.665157Z",
     "iopub.status.busy": "2020-10-22T06:35:12.664645Z",
     "iopub.status.idle": "2020-10-22T06:35:12.680821Z",
     "shell.execute_reply": "2020-10-22T06:35:12.681351Z"
    },
    "jupyter": {
     "outputs_hidden": false
    }
   },
   "outputs": [
    {
     "name": "stdout",
     "output_type": "stream",
     "text": [
      "N/A\n",
      "wet\n"
     ]
    }
   ],
   "source": [
    "print(d.get('monkey', 'N/A'))  # Get an element with a default\n",
    "print(d.get('fish', 'N/A'))    # Get an element with a default"
   ]
  },
  {
   "cell_type": "code",
   "execution_count": 42,
   "metadata": {
    "execution": {
     "iopub.execute_input": "2020-10-22T06:35:12.684257Z",
     "iopub.status.busy": "2020-10-22T06:35:12.683767Z",
     "iopub.status.idle": "2020-10-22T06:35:12.701336Z",
     "shell.execute_reply": "2020-10-22T06:35:12.701854Z"
    },
    "jupyter": {
     "outputs_hidden": false
    }
   },
   "outputs": [
    {
     "data": {
      "text/plain": [
       "{'cat': 'cute', 'dog': 'furry'}"
      ]
     },
     "execution_count": 1,
     "metadata": {},
     "output_type": "execute_result"
    }
   ],
   "source": [
    "del d['fish']        # Remove an element from a dictionary\n",
    "d"
   ]
  },
  {
   "cell_type": "code",
   "execution_count": 43,
   "metadata": {
    "execution": {
     "iopub.execute_input": "2020-10-22T06:35:12.704945Z",
     "iopub.status.busy": "2020-10-22T06:35:12.704458Z",
     "iopub.status.idle": "2020-10-22T06:35:12.720489Z",
     "shell.execute_reply": "2020-10-22T06:35:12.721166Z"
    },
    "jupyter": {
     "outputs_hidden": false
    }
   },
   "outputs": [
    {
     "name": "stdout",
     "output_type": "stream",
     "text": [
      "A person has 2 legs\n",
      "A cat has 4 legs\n",
      "A spider has 8 legs\n"
     ]
    }
   ],
   "source": [
    "# Iteration over keys\n",
    "d = {'person': 2, 'cat': 4, 'spider': 8}\n",
    "for animal in d:\n",
    "    print(f'A {animal} has {d[animal]} legs')"
   ]
  },
  {
   "cell_type": "code",
   "execution_count": 44,
   "metadata": {
    "execution": {
     "iopub.execute_input": "2020-10-22T06:35:12.724669Z",
     "iopub.status.busy": "2020-10-22T06:35:12.724160Z",
     "iopub.status.idle": "2020-10-22T06:35:12.741626Z",
     "shell.execute_reply": "2020-10-22T06:35:12.742218Z"
    },
    "jupyter": {
     "outputs_hidden": false
    }
   },
   "outputs": [
    {
     "name": "stdout",
     "output_type": "stream",
     "text": [
      "A person has 2 legs\n",
      "A cat has 4 legs\n",
      "A spider has 8 legs\n"
     ]
    }
   ],
   "source": [
    "# Iterate over key-value pairs\n",
    "d = {'person': 2, 'cat': 4, 'spider': 8}\n",
    "for animal, num_legs in d.items():\n",
    "    print(f'A {animal} has {num_legs} legs')"
   ]
  },
  {
   "cell_type": "code",
   "execution_count": 45,
   "metadata": {
    "execution": {
     "iopub.execute_input": "2020-10-22T06:35:12.745009Z",
     "iopub.status.busy": "2020-10-22T06:35:12.744513Z",
     "iopub.status.idle": "2020-10-22T06:35:12.762446Z",
     "shell.execute_reply": "2020-10-22T06:35:12.763039Z"
    }
   },
   "outputs": [
    {
     "data": {
      "text/plain": [
       "{'foo': 1, 'bar': 2, 'baz': 3}"
      ]
     },
     "execution_count": 1,
     "metadata": {},
     "output_type": "execute_result"
    }
   ],
   "source": [
    "# Create a dictionary using the built-in dict() function\n",
    "dict(foo=1, bar=2, baz=3)"
   ]
  },
  {
   "cell_type": "markdown",
   "metadata": {},
   "source": [
    "#### Dictionary comprehensions"
   ]
  },
  {
   "cell_type": "markdown",
   "metadata": {},
   "source": [
    "These are similar to list comprehensions, but allow you to easily construct dictionaries. For example:"
   ]
  },
  {
   "cell_type": "code",
   "execution_count": 46,
   "metadata": {
    "execution": {
     "iopub.execute_input": "2020-10-22T06:35:12.766531Z",
     "iopub.status.busy": "2020-10-22T06:35:12.766021Z",
     "iopub.status.idle": "2020-10-22T06:35:12.782780Z",
     "shell.execute_reply": "2020-10-22T06:35:12.783346Z"
    },
    "jupyter": {
     "outputs_hidden": false
    }
   },
   "outputs": [
    {
     "data": {
      "text/plain": [
       "{0: 0, 2: 4, 4: 16}"
      ]
     },
     "execution_count": 1,
     "metadata": {},
     "output_type": "execute_result"
    }
   ],
   "source": [
    "nums = [0, 1, 2, 3, 4]\n",
    "even_num_to_square = {x: x ** 2 for x in nums if x % 2 == 0}\n",
    "even_num_to_square"
   ]
  },
  {
   "cell_type": "markdown",
   "metadata": {},
   "source": [
    "#### Sets"
   ]
  },
  {
   "cell_type": "markdown",
   "metadata": {},
   "source": [
    "A set is an unordered collection of distinct elements"
   ]
  },
  {
   "cell_type": "code",
   "execution_count": 47,
   "metadata": {
    "execution": {
     "iopub.execute_input": "2020-10-22T06:35:12.786326Z",
     "iopub.status.busy": "2020-10-22T06:35:12.785849Z",
     "iopub.status.idle": "2020-10-22T06:35:12.803296Z",
     "shell.execute_reply": "2020-10-22T06:35:12.803865Z"
    },
    "jupyter": {
     "outputs_hidden": false
    }
   },
   "outputs": [
    {
     "name": "stdout",
     "output_type": "stream",
     "text": [
      "{'cat', 'dog'}\n",
      "True\n",
      "False\n"
     ]
    }
   ],
   "source": [
    "animals = {'cat', 'dog'}\n",
    "print(animals)\n",
    "print('cat' in animals )  # Check if an element is in a set\n",
    "print('fish' in animals) # prints \"False\""
   ]
  },
  {
   "cell_type": "code",
   "execution_count": 48,
   "metadata": {
    "execution": {
     "iopub.execute_input": "2020-10-22T06:35:12.806959Z",
     "iopub.status.busy": "2020-10-22T06:35:12.806432Z",
     "iopub.status.idle": "2020-10-22T06:35:12.824016Z",
     "shell.execute_reply": "2020-10-22T06:35:12.824603Z"
    },
    "jupyter": {
     "outputs_hidden": false
    }
   },
   "outputs": [
    {
     "name": "stdout",
     "output_type": "stream",
     "text": [
      "True\n"
     ]
    },
    {
     "data": {
      "text/plain": [
       "3"
      ]
     },
     "execution_count": 1,
     "metadata": {},
     "output_type": "execute_result"
    }
   ],
   "source": [
    "animals.add('fish') # Add an element to a set\n",
    "print('fish' in animals)\n",
    "len(animals) # Number of elements in a set"
   ]
  },
  {
   "cell_type": "code",
   "execution_count": 49,
   "metadata": {
    "execution": {
     "iopub.execute_input": "2020-10-22T06:35:12.827878Z",
     "iopub.status.busy": "2020-10-22T06:35:12.827387Z",
     "iopub.status.idle": "2020-10-22T06:35:12.844025Z",
     "shell.execute_reply": "2020-10-22T06:35:12.844554Z"
    },
    "jupyter": {
     "outputs_hidden": false
    }
   },
   "outputs": [
    {
     "data": {
      "text/plain": [
       "{'cat', 'dog', 'fish'}"
      ]
     },
     "execution_count": 1,
     "metadata": {},
     "output_type": "execute_result"
    }
   ],
   "source": [
    "animals.add('cat')       # Adding an element that is already in the set does nothing\n",
    "animals"
   ]
  },
  {
   "cell_type": "markdown",
   "metadata": {},
   "source": [
    "_Loops_: Iterating over a set has the same syntax as iterating over a list; however since sets are unordered, you cannot make assumptions about the order in which you visit the elements of the set:"
   ]
  },
  {
   "cell_type": "code",
   "execution_count": 50,
   "metadata": {
    "execution": {
     "iopub.execute_input": "2020-10-22T06:35:12.847699Z",
     "iopub.status.busy": "2020-10-22T06:35:12.847210Z",
     "iopub.status.idle": "2020-10-22T06:35:12.864105Z",
     "shell.execute_reply": "2020-10-22T06:35:12.864673Z"
    },
    "jupyter": {
     "outputs_hidden": false
    }
   },
   "outputs": [
    {
     "name": "stdout",
     "output_type": "stream",
     "text": [
      "#0: fish\n",
      "#1: cat\n",
      "#2: dog\n"
     ]
    }
   ],
   "source": [
    "animals = {'cat', 'dog', 'fish'}\n",
    "for idx, animal in enumerate(animals):\n",
    "    print(f'#{idx}: {animal}')"
   ]
  },
  {
   "cell_type": "markdown",
   "metadata": {},
   "source": [
    "#### Set comprehensions"
   ]
  },
  {
   "cell_type": "markdown",
   "metadata": {},
   "source": [
    "Like lists and dictionaries, we can easily construct sets using set comprehensions:"
   ]
  },
  {
   "cell_type": "code",
   "execution_count": 51,
   "metadata": {
    "execution": {
     "iopub.execute_input": "2020-10-22T06:35:12.867806Z",
     "iopub.status.busy": "2020-10-22T06:35:12.867330Z",
     "iopub.status.idle": "2020-10-22T06:35:12.883727Z",
     "shell.execute_reply": "2020-10-22T06:35:12.884280Z"
    },
    "jupyter": {
     "outputs_hidden": false
    }
   },
   "outputs": [
    {
     "data": {
      "text/plain": [
       "{0, 1, 2, 3, 4, 5, 6}"
      ]
     },
     "execution_count": 1,
     "metadata": {},
     "output_type": "execute_result"
    }
   ],
   "source": [
    "from math import sqrt\n",
    "s = {int(sqrt(x)) for x in range(37)}\n",
    "s"
   ]
  },
  {
   "cell_type": "markdown",
   "metadata": {},
   "source": [
    "#### Tuples"
   ]
  },
  {
   "cell_type": "markdown",
   "metadata": {},
   "source": [
    "A tuple is an **immutable** ordered list of values."
   ]
  },
  {
   "cell_type": "code",
   "execution_count": 52,
   "metadata": {
    "execution": {
     "iopub.execute_input": "2020-10-22T06:35:12.887305Z",
     "iopub.status.busy": "2020-10-22T06:35:12.886749Z",
     "iopub.status.idle": "2020-10-22T06:35:12.904345Z",
     "shell.execute_reply": "2020-10-22T06:35:12.904925Z"
    }
   },
   "outputs": [
    {
     "data": {
      "text/plain": [
       "(1, 2, 'three')"
      ]
     },
     "execution_count": 1,
     "metadata": {},
     "output_type": "execute_result"
    }
   ],
   "source": [
    "t = (1, 2, 'three')\n",
    "t"
   ]
  },
  {
   "cell_type": "markdown",
   "metadata": {},
   "source": [
    "It can be used in ways similar to a list:"
   ]
  },
  {
   "cell_type": "code",
   "execution_count": 53,
   "metadata": {
    "execution": {
     "iopub.execute_input": "2020-10-22T06:35:12.908174Z",
     "iopub.status.busy": "2020-10-22T06:35:12.907670Z",
     "iopub.status.idle": "2020-10-22T06:35:12.925544Z",
     "shell.execute_reply": "2020-10-22T06:35:12.926164Z"
    }
   },
   "outputs": [
    {
     "data": {
      "text/plain": [
       "((1,), (2, 'three'), 'three', 3)"
      ]
     },
     "execution_count": 1,
     "metadata": {},
     "output_type": "execute_result"
    }
   ],
   "source": [
    "t[0:1], t[1:3], t[-1], len(t)"
   ]
  },
  {
   "cell_type": "markdown",
   "metadata": {},
   "source": [
    "A tuple can be used a key in a dictionary and as an element of a sets, while **lists cannot**."
   ]
  },
  {
   "cell_type": "code",
   "execution_count": 54,
   "metadata": {
    "execution": {
     "iopub.execute_input": "2020-10-22T06:35:12.929394Z",
     "iopub.status.busy": "2020-10-22T06:35:12.928878Z",
     "iopub.status.idle": "2020-10-22T06:35:12.946280Z",
     "shell.execute_reply": "2020-10-22T06:35:12.946807Z"
    },
    "jupyter": {
     "outputs_hidden": false
    }
   },
   "outputs": [
    {
     "data": {
      "text/plain": [
       "{(0, 1): 0,\n",
       " (1, 2): 1,\n",
       " (2, 3): 2,\n",
       " (3, 4): 3,\n",
       " (4, 5): 4,\n",
       " (5, 6): 5,\n",
       " (6, 7): 6,\n",
       " (7, 8): 7,\n",
       " (8, 9): 8,\n",
       " (9, 10): 9}"
      ]
     },
     "execution_count": 1,
     "metadata": {},
     "output_type": "execute_result"
    }
   ],
   "source": [
    "d = {(x, x + 1): x for x in range(10)}  # Create a dictionary with tuple keys\n",
    "d"
   ]
  },
  {
   "cell_type": "markdown",
   "metadata": {},
   "source": [
    "A tuple (and also a list) can be **unpacked**:"
   ]
  },
  {
   "cell_type": "code",
   "execution_count": 55,
   "metadata": {
    "execution": {
     "iopub.execute_input": "2020-10-22T06:35:12.949770Z",
     "iopub.status.busy": "2020-10-22T06:35:12.949296Z",
     "iopub.status.idle": "2020-10-22T06:35:12.967065Z",
     "shell.execute_reply": "2020-10-22T06:35:12.967635Z"
    }
   },
   "outputs": [
    {
     "data": {
      "text/plain": [
       "(1, 2, 'three')"
      ]
     },
     "execution_count": 1,
     "metadata": {},
     "output_type": "execute_result"
    }
   ],
   "source": [
    "one, two, three = t\n",
    "one, two, three"
   ]
  },
  {
   "cell_type": "markdown",
   "metadata": {},
   "source": [
    "Note that when retuning multiple values from a function (or code block in a jupyter notebook, as above)\n",
    "your values get wrapped in a tuple, and the tuple is what's returned.\n",
    "Unpacking the return value of a function can make it seem as if multiple values were returned."
   ]
  },
  {
   "cell_type": "markdown",
   "metadata": {},
   "source": [
    "### Functions"
   ]
  },
  {
   "cell_type": "markdown",
   "metadata": {},
   "source": [
    "Python functions are defined using the `def` keyword. For example:"
   ]
  },
  {
   "cell_type": "code",
   "execution_count": 56,
   "metadata": {
    "execution": {
     "iopub.execute_input": "2020-10-22T06:35:12.971309Z",
     "iopub.status.busy": "2020-10-22T06:35:12.970742Z",
     "iopub.status.idle": "2020-10-22T06:35:12.987408Z",
     "shell.execute_reply": "2020-10-22T06:35:12.988185Z"
    },
    "jupyter": {
     "outputs_hidden": false
    }
   },
   "outputs": [
    {
     "name": "stdout",
     "output_type": "stream",
     "text": [
      "negative\n",
      "zero\n",
      "positive\n"
     ]
    }
   ],
   "source": [
    "def sign(x):\n",
    "    if x > 0:\n",
    "        return 'positive'\n",
    "    elif x < 0:\n",
    "        return 'negative'\n",
    "    else:\n",
    "        return 'zero'\n",
    "\n",
    "for x in [-1, 0, 1]:\n",
    "    print(sign(x))"
   ]
  },
  {
   "cell_type": "markdown",
   "metadata": {},
   "source": [
    "We will often define functions to take optional keyword arguments, like this:"
   ]
  },
  {
   "cell_type": "code",
   "execution_count": 57,
   "metadata": {
    "execution": {
     "iopub.execute_input": "2020-10-22T06:35:12.992296Z",
     "iopub.status.busy": "2020-10-22T06:35:12.991636Z",
     "iopub.status.idle": "2020-10-22T06:35:13.009100Z",
     "shell.execute_reply": "2020-10-22T06:35:13.008515Z"
    },
    "jupyter": {
     "outputs_hidden": false
    }
   },
   "outputs": [
    {
     "name": "stdout",
     "output_type": "stream",
     "text": [
      "Hello, Bob!\n",
      "HELLO, FRED\n"
     ]
    }
   ],
   "source": [
    "def hello(name, loud=False):\n",
    "    if loud:\n",
    "        print('HELLO, %s' % name.upper())\n",
    "    else:\n",
    "        print('Hello, %s!' % name)\n",
    "\n",
    "hello('Bob')\n",
    "hello('Fred', loud=True)"
   ]
  },
  {
   "cell_type": "markdown",
   "metadata": {},
   "source": [
    "#### Positional and Keyword arguments"
   ]
  },
  {
   "cell_type": "markdown",
   "metadata": {},
   "source": [
    "Python functions are very flexible in the way they accept arguments. Both positional (regular) and keyword\n",
    "arguments are supported and can be mixed in the same definition. Additionally, extra arguments can be passed in with the `*args` and `**kwargs` constructs.\n",
    "\n",
    "Here's a function with three positional arguments and three keyword arguments which also accepts extra \n",
    "positional and keyword arguments."
   ]
  },
  {
   "cell_type": "code",
   "execution_count": 58,
   "metadata": {
    "execution": {
     "iopub.execute_input": "2020-10-22T06:35:13.012547Z",
     "iopub.status.busy": "2020-10-22T06:35:13.012052Z",
     "iopub.status.idle": "2020-10-22T06:35:13.030249Z",
     "shell.execute_reply": "2020-10-22T06:35:13.030635Z"
    }
   },
   "outputs": [],
   "source": [
    "def myfunc(a1, a2, a3, *extra_args, kw1='foo', kw2='bar', kw3=3, **extra_kwargs):\n",
    "    print(f'Got positional args: {(a1, a2, a3)}')\n",
    "    print(f'Got keyword args   : {dict(kw1=kw1, kw2=kw3, kw3=kw3)}')\n",
    "    print(f'Got extra positional args: {extra_args}')\n",
    "    print(f'Got extra keyword args: {extra_kwargs}')"
   ]
  },
  {
   "cell_type": "markdown",
   "metadata": {},
   "source": [
    "It can be called in many ways:"
   ]
  },
  {
   "cell_type": "code",
   "execution_count": 59,
   "metadata": {
    "execution": {
     "iopub.execute_input": "2020-10-22T06:35:13.033739Z",
     "iopub.status.busy": "2020-10-22T06:35:13.033235Z",
     "iopub.status.idle": "2020-10-22T06:35:13.049696Z",
     "shell.execute_reply": "2020-10-22T06:35:13.050341Z"
    }
   },
   "outputs": [
    {
     "name": "stdout",
     "output_type": "stream",
     "text": [
      "Got positional args: (1, 2, 3)\n",
      "Got keyword args   : {'kw1': 'foo', 'kw2': 3, 'kw3': 3}\n",
      "Got extra positional args: (4, 5, 6)\n",
      "Got extra keyword args: {}\n"
     ]
    }
   ],
   "source": [
    "myfunc(1,2,3,4,5,6)"
   ]
  },
  {
   "cell_type": "code",
   "execution_count": 60,
   "metadata": {
    "execution": {
     "iopub.execute_input": "2020-10-22T06:35:13.053436Z",
     "iopub.status.busy": "2020-10-22T06:35:13.052933Z",
     "iopub.status.idle": "2020-10-22T06:35:13.070255Z",
     "shell.execute_reply": "2020-10-22T06:35:13.070843Z"
    }
   },
   "outputs": [
    {
     "name": "stdout",
     "output_type": "stream",
     "text": [
      "Got positional args: (1, 2, 3)\n",
      "Got keyword args   : {'kw1': 'foo', 'kw2': 3, 'kw3': 3}\n",
      "Got extra positional args: (4,)\n",
      "Got extra keyword args: {}\n"
     ]
    }
   ],
   "source": [
    "my_args = [1,2,3,4]\n",
    "myfunc(*my_args)"
   ]
  },
  {
   "cell_type": "code",
   "execution_count": 61,
   "metadata": {
    "execution": {
     "iopub.execute_input": "2020-10-22T06:35:13.074000Z",
     "iopub.status.busy": "2020-10-22T06:35:13.073435Z",
     "iopub.status.idle": "2020-10-22T06:35:13.089814Z",
     "shell.execute_reply": "2020-10-22T06:35:13.090411Z"
    }
   },
   "outputs": [
    {
     "name": "stdout",
     "output_type": "stream",
     "text": [
      "Got positional args: (1, 2, 3)\n",
      "Got keyword args   : {'kw1': 'foo', 'kw2': 3, 'kw3': 3}\n",
      "Got extra positional args: ()\n",
      "Got extra keyword args: {'foo': 'bar'}\n"
     ]
    }
   ],
   "source": [
    "myfunc(1,2,3, kw3=3, kw2=2, foo='bar')"
   ]
  },
  {
   "cell_type": "code",
   "execution_count": 62,
   "metadata": {
    "execution": {
     "iopub.execute_input": "2020-10-22T06:35:13.094141Z",
     "iopub.status.busy": "2020-10-22T06:35:13.093612Z",
     "iopub.status.idle": "2020-10-22T06:35:13.111083Z",
     "shell.execute_reply": "2020-10-22T06:35:13.111693Z"
    }
   },
   "outputs": [
    {
     "name": "stdout",
     "output_type": "stream",
     "text": [
      "Got positional args: (1, 2, 3)\n",
      "Got keyword args   : {'kw1': 1, 'kw2': 3, 'kw3': 3}\n",
      "Got extra positional args: ()\n",
      "Got extra keyword args: {'kw4': 4}\n"
     ]
    }
   ],
   "source": [
    "my_kwargs = dict(kw1=1, kw2=2, kw3=3, kw4=4)\n",
    "myfunc(1,2,3, **my_kwargs)"
   ]
  },
  {
   "cell_type": "markdown",
   "metadata": {},
   "source": [
    "Note that keyword args can be omitted, while positional args cannot:"
   ]
  },
  {
   "cell_type": "code",
   "execution_count": 63,
   "metadata": {
    "execution": {
     "iopub.execute_input": "2020-10-22T06:35:13.114889Z",
     "iopub.status.busy": "2020-10-22T06:35:13.114379Z",
     "iopub.status.idle": "2020-10-22T06:35:13.131850Z",
     "shell.execute_reply": "2020-10-22T06:35:13.132282Z"
    }
   },
   "outputs": [
    {
     "name": "stderr",
     "output_type": "stream",
     "text": [
      "myfunc() missing 1 required positional argument: 'a3'\n"
     ]
    }
   ],
   "source": [
    "try:\n",
    "    myfunc(1,2)\n",
    "except TypeError as e:\n",
    "    print(e, file=sys.stderr)"
   ]
  },
  {
   "cell_type": "markdown",
   "metadata": {},
   "source": [
    "### Classes"
   ]
  },
  {
   "cell_type": "markdown",
   "metadata": {},
   "source": [
    "The syntax for defining classes in Python is straightforward:"
   ]
  },
  {
   "cell_type": "code",
   "execution_count": 64,
   "metadata": {
    "execution": {
     "iopub.execute_input": "2020-10-22T06:35:13.136302Z",
     "iopub.status.busy": "2020-10-22T06:35:13.135800Z",
     "iopub.status.idle": "2020-10-22T06:35:13.153202Z",
     "shell.execute_reply": "2020-10-22T06:35:13.153921Z"
    },
    "jupyter": {
     "outputs_hidden": false
    }
   },
   "outputs": [
    {
     "name": "stdout",
     "output_type": "stream",
     "text": [
      "Hello, Fred\n",
      "HELLO, FRED!\n"
     ]
    }
   ],
   "source": [
    "class Greeter:\n",
    "\n",
    "    # Constructor\n",
    "    def __init__(self, name):\n",
    "        self.name = name  # Create an instance variable\n",
    "\n",
    "    # Instance method\n",
    "    def greet(self, loud=False):\n",
    "        if loud:\n",
    "            print('HELLO, %s!' % self.name.upper())\n",
    "        else:\n",
    "            print('Hello, %s' % self.name)\n",
    "\n",
    "g = Greeter('Fred')  # Construct an instance of the Greeter class\n",
    "g.greet()            # Call an instance method\n",
    "g.greet(loud=True)   # Call an instance method"
   ]
  },
  {
   "cell_type": "markdown",
   "metadata": {},
   "source": [
    "Classes can implement special **magic functions** that enable them to be integrated nicely with other python code. Magic functions have special names that start and end with `__`.\n",
    "\n",
    "For example, here's a class that can be indexed with `[]` and iterated over with a `for` loop."
   ]
  },
  {
   "cell_type": "code",
   "execution_count": 65,
   "metadata": {
    "execution": {
     "iopub.execute_input": "2020-10-22T06:35:13.159500Z",
     "iopub.status.busy": "2020-10-22T06:35:13.158915Z",
     "iopub.status.idle": "2020-10-22T06:35:13.175889Z",
     "shell.execute_reply": "2020-10-22T06:35:13.176499Z"
    }
   },
   "outputs": [],
   "source": [
    "class ExampleCollection(object):\n",
    "    def __init__(self):\n",
    "        self.items = [100, 200, 300]\n",
    "    \n",
    "    def __len__(self):\n",
    "        return len(self.items)\n",
    "    \n",
    "    def __getitem__(self, idx):\n",
    "        return self.items[idx]\n",
    "    \n",
    "    def __iter__(self):\n",
    "        class ExampleIter():\n",
    "            def __init__(self, collection):\n",
    "                self.idx = 0\n",
    "                self.collection = collection\n",
    "                \n",
    "            def __next__(self):\n",
    "                if self.idx >= len(self.collection):\n",
    "                    raise StopIteration()\n",
    "                x = self.collection[self.idx]\n",
    "                self.idx += 1\n",
    "                return x\n",
    "                \n",
    "        return ExampleIter(self)\n",
    "    "
   ]
  },
  {
   "cell_type": "code",
   "execution_count": 66,
   "metadata": {
    "execution": {
     "iopub.execute_input": "2020-10-22T06:35:13.179643Z",
     "iopub.status.busy": "2020-10-22T06:35:13.179130Z",
     "iopub.status.idle": "2020-10-22T06:35:13.197215Z",
     "shell.execute_reply": "2020-10-22T06:35:13.197754Z"
    }
   },
   "outputs": [
    {
     "name": "stdout",
     "output_type": "stream",
     "text": [
      "length= 3\n",
      "example[0]= 100\n"
     ]
    }
   ],
   "source": [
    "example = ExampleCollection()\n",
    "print('length=', len(example)) # invokes __len__\n",
    "print('example[0]=', example[0]) # invokes __getitem__"
   ]
  },
  {
   "cell_type": "code",
   "execution_count": 67,
   "metadata": {
    "execution": {
     "iopub.execute_input": "2020-10-22T06:35:13.200603Z",
     "iopub.status.busy": "2020-10-22T06:35:13.200122Z",
     "iopub.status.idle": "2020-10-22T06:35:13.218535Z",
     "shell.execute_reply": "2020-10-22T06:35:13.219278Z"
    }
   },
   "outputs": [
    {
     "name": "stdout",
     "output_type": "stream",
     "text": [
      "100\n",
      "200\n",
      "300\n"
     ]
    }
   ],
   "source": [
    "for x in example: # invokes __iter__ and it's __next__\n",
    "    print(x)"
   ]
  },
  {
   "cell_type": "markdown",
   "metadata": {},
   "source": [
    "Many other magic functions exist. Consult the docs and see if you can catch 'em all!"
   ]
  },
  {
   "cell_type": "markdown",
   "metadata": {},
   "source": [
    "## Numpy"
   ]
  },
  {
   "cell_type": "markdown",
   "metadata": {},
   "source": [
    "Numpy is a core library for scientific computing in Python. It provides a high-performance multidimensional array object, and tools for working with these arrays.\n",
    "\n",
    "We'll refer to such n-dimentional arrays as **tensors** in accordance with the deep learning terminology.\n",
    "\n",
    "Although we'll mainly use PyTorch tensors for implementing our Deep Learning systems, it's still important to be proficient with `numpy`, since:\n",
    "1. They concepts are very similar. It will help you understand numpy ndarrays you'll understand Pytorch Tensors.\n",
    "1. You'll find that you constantly need to switch between the two when working with read DL systems."
   ]
  },
  {
   "cell_type": "markdown",
   "metadata": {},
   "source": [
    "To use Numpy, we first need to import the `numpy` package:"
   ]
  },
  {
   "cell_type": "code",
   "execution_count": 68,
   "metadata": {
    "execution": {
     "iopub.execute_input": "2020-10-22T06:35:13.223183Z",
     "iopub.status.busy": "2020-10-22T06:35:13.222641Z",
     "iopub.status.idle": "2020-10-22T06:35:13.240133Z",
     "shell.execute_reply": "2020-10-22T06:35:13.240829Z"
    },
    "jupyter": {
     "outputs_hidden": false
    }
   },
   "outputs": [],
   "source": [
    "import numpy as np"
   ]
  },
  {
   "cell_type": "markdown",
   "metadata": {},
   "source": [
    "### Arrays"
   ]
  },
  {
   "cell_type": "markdown",
   "metadata": {},
   "source": [
    "A numpy array represents an n-dimentional grid of values, all of the same type, and is indexed by a tuple of nonnegative integers.\n",
    "\n",
    "- The number of dimensions is the **rank** of the array\n",
    "- The **shape** of an array is a tuple of integers giving the size of the array along each dimension"
   ]
  },
  {
   "cell_type": "markdown",
   "metadata": {},
   "source": [
    "We can initialize numpy arrays from nested Python lists, and access elements using square brackets:"
   ]
  },
  {
   "cell_type": "code",
   "execution_count": 69,
   "metadata": {
    "execution": {
     "iopub.execute_input": "2020-10-22T06:35:13.244087Z",
     "iopub.status.busy": "2020-10-22T06:35:13.243584Z",
     "iopub.status.idle": "2020-10-22T06:35:13.262138Z",
     "shell.execute_reply": "2020-10-22T06:35:13.262679Z"
    },
    "jupyter": {
     "outputs_hidden": false
    }
   },
   "outputs": [
    {
     "data": {
      "text/plain": [
       "array([1, 2, 3])"
      ]
     },
     "execution_count": 1,
     "metadata": {},
     "output_type": "execute_result"
    }
   ],
   "source": [
    "a = np.array([1, 2, 3])  # Create a rank 1 array\n",
    "a"
   ]
  },
  {
   "cell_type": "code",
   "execution_count": 70,
   "metadata": {
    "execution": {
     "iopub.execute_input": "2020-10-22T06:35:13.265723Z",
     "iopub.status.busy": "2020-10-22T06:35:13.265217Z",
     "iopub.status.idle": "2020-10-22T06:35:13.282587Z",
     "shell.execute_reply": "2020-10-22T06:35:13.283108Z"
    }
   },
   "outputs": [
    {
     "data": {
      "text/plain": [
       "1"
      ]
     },
     "execution_count": 1,
     "metadata": {},
     "output_type": "execute_result"
    }
   ],
   "source": [
    "a[0]"
   ]
  },
  {
   "cell_type": "markdown",
   "metadata": {},
   "source": [
    "Two very important properties of any numpy array are its `shape` and `dtype`."
   ]
  },
  {
   "cell_type": "code",
   "execution_count": 71,
   "metadata": {
    "execution": {
     "iopub.execute_input": "2020-10-22T06:35:13.286390Z",
     "iopub.status.busy": "2020-10-22T06:35:13.285840Z",
     "iopub.status.idle": "2020-10-22T06:35:13.303275Z",
     "shell.execute_reply": "2020-10-22T06:35:13.303872Z"
    },
    "jupyter": {
     "outputs_hidden": false
    }
   },
   "outputs": [],
   "source": [
    "def print_arr(arr, pre_text=''):\n",
    "    print(f'{pre_text}{arr} shape={arr.shape} dtype={arr.dtype}')"
   ]
  },
  {
   "cell_type": "code",
   "execution_count": 72,
   "metadata": {
    "execution": {
     "iopub.execute_input": "2020-10-22T06:35:13.306948Z",
     "iopub.status.busy": "2020-10-22T06:35:13.306371Z",
     "iopub.status.idle": "2020-10-22T06:35:13.323731Z",
     "shell.execute_reply": "2020-10-22T06:35:13.324322Z"
    }
   },
   "outputs": [
    {
     "name": "stdout",
     "output_type": "stream",
     "text": [
      "[1 2 3] shape=(3,) dtype=int64\n"
     ]
    }
   ],
   "source": [
    "print_arr(a)"
   ]
  },
  {
   "cell_type": "code",
   "execution_count": 73,
   "metadata": {
    "execution": {
     "iopub.execute_input": "2020-10-22T06:35:13.327577Z",
     "iopub.status.busy": "2020-10-22T06:35:13.327069Z",
     "iopub.status.idle": "2020-10-22T06:35:13.344209Z",
     "shell.execute_reply": "2020-10-22T06:35:13.344803Z"
    },
    "jupyter": {
     "outputs_hidden": false
    }
   },
   "outputs": [
    {
     "data": {
      "text/plain": [
       "array([5, 2, 3])"
      ]
     },
     "execution_count": 1,
     "metadata": {},
     "output_type": "execute_result"
    }
   ],
   "source": [
    "a[0] = 5                 # Change an element of the array\n",
    "a"
   ]
  },
  {
   "cell_type": "code",
   "execution_count": 74,
   "metadata": {
    "execution": {
     "iopub.execute_input": "2020-10-22T06:35:13.347879Z",
     "iopub.status.busy": "2020-10-22T06:35:13.347391Z",
     "iopub.status.idle": "2020-10-22T06:35:13.365394Z",
     "shell.execute_reply": "2020-10-22T06:35:13.365937Z"
    },
    "jupyter": {
     "outputs_hidden": false
    }
   },
   "outputs": [
    {
     "name": "stdout",
     "output_type": "stream",
     "text": [
      "[[1.  2.  3. ]\n",
      " [4.  5.  6.7]] shape=(2, 3) dtype=float64\n"
     ]
    }
   ],
   "source": [
    "b = np.array([[1,2,3],[4,5,6.7]])   # Create a rank 2 array\n",
    "print_arr(b)"
   ]
  },
  {
   "cell_type": "code",
   "execution_count": 75,
   "metadata": {
    "execution": {
     "iopub.execute_input": "2020-10-22T06:35:13.369095Z",
     "iopub.status.busy": "2020-10-22T06:35:13.368607Z",
     "iopub.status.idle": "2020-10-22T06:35:13.386015Z",
     "shell.execute_reply": "2020-10-22T06:35:13.385400Z"
    },
    "jupyter": {
     "outputs_hidden": false
    }
   },
   "outputs": [
    {
     "data": {
      "text/plain": [
       "(1.0, 2.0, 4.0)"
      ]
     },
     "execution_count": 1,
     "metadata": {},
     "output_type": "execute_result"
    }
   ],
   "source": [
    "b[0, 0], b[0, 1], b[1, 0]"
   ]
  },
  {
   "cell_type": "markdown",
   "metadata": {},
   "source": [
    "Numpy also provides many functions to create arrays:"
   ]
  },
  {
   "cell_type": "code",
   "execution_count": 76,
   "metadata": {
    "execution": {
     "iopub.execute_input": "2020-10-22T06:35:13.389066Z",
     "iopub.status.busy": "2020-10-22T06:35:13.388547Z",
     "iopub.status.idle": "2020-10-22T06:35:13.406597Z",
     "shell.execute_reply": "2020-10-22T06:35:13.407256Z"
    },
    "jupyter": {
     "outputs_hidden": false
    }
   },
   "outputs": [
    {
     "data": {
      "text/plain": [
       "array([[0., 0.],\n",
       "       [0., 0.]])"
      ]
     },
     "execution_count": 1,
     "metadata": {},
     "output_type": "execute_result"
    }
   ],
   "source": [
    "np.zeros((2,2))  # Create an array of all zeros"
   ]
  },
  {
   "cell_type": "code",
   "execution_count": 77,
   "metadata": {
    "execution": {
     "iopub.execute_input": "2020-10-22T06:35:13.410284Z",
     "iopub.status.busy": "2020-10-22T06:35:13.409773Z",
     "iopub.status.idle": "2020-10-22T06:35:13.428167Z",
     "shell.execute_reply": "2020-10-22T06:35:13.428730Z"
    },
    "jupyter": {
     "outputs_hidden": false
    }
   },
   "outputs": [
    {
     "data": {
      "text/plain": [
       "array([[1., 1., 1., 1., 1., 1., 1., 1., 1., 1.]])"
      ]
     },
     "execution_count": 1,
     "metadata": {},
     "output_type": "execute_result"
    }
   ],
   "source": [
    "np.ones((1,10))   # Create an array of all ones"
   ]
  },
  {
   "cell_type": "code",
   "execution_count": 78,
   "metadata": {
    "execution": {
     "iopub.execute_input": "2020-10-22T06:35:13.431874Z",
     "iopub.status.busy": "2020-10-22T06:35:13.431368Z",
     "iopub.status.idle": "2020-10-22T06:35:13.448205Z",
     "shell.execute_reply": "2020-10-22T06:35:13.448779Z"
    },
    "jupyter": {
     "outputs_hidden": false
    }
   },
   "outputs": [
    {
     "data": {
      "text/plain": [
       "array([[7.2, 7.2, 7.2],\n",
       "       [7.2, 7.2, 7.2],\n",
       "       [7.2, 7.2, 7.2]])"
      ]
     },
     "execution_count": 1,
     "metadata": {},
     "output_type": "execute_result"
    }
   ],
   "source": [
    "np.full((3,3), 7.2) # Create a constant array"
   ]
  },
  {
   "cell_type": "code",
   "execution_count": 79,
   "metadata": {
    "execution": {
     "iopub.execute_input": "2020-10-22T06:35:13.451827Z",
     "iopub.status.busy": "2020-10-22T06:35:13.451314Z",
     "iopub.status.idle": "2020-10-22T06:35:13.469117Z",
     "shell.execute_reply": "2020-10-22T06:35:13.469708Z"
    },
    "jupyter": {
     "outputs_hidden": false
    }
   },
   "outputs": [
    {
     "data": {
      "text/plain": [
       "array([[1, 0, 0, 0],\n",
       "       [0, 1, 0, 0],\n",
       "       [0, 0, 1, 0],\n",
       "       [0, 0, 0, 1]])"
      ]
     },
     "execution_count": 1,
     "metadata": {},
     "output_type": "execute_result"
    }
   ],
   "source": [
    "np.eye(4, dtype=np.int) # Create an identity matrix of integers"
   ]
  },
  {
   "cell_type": "code",
   "execution_count": 80,
   "metadata": {
    "execution": {
     "iopub.execute_input": "2020-10-22T06:35:13.472763Z",
     "iopub.status.busy": "2020-10-22T06:35:13.472256Z",
     "iopub.status.idle": "2020-10-22T06:35:13.490790Z",
     "shell.execute_reply": "2020-10-22T06:35:13.491348Z"
    },
    "jupyter": {
     "outputs_hidden": false
    }
   },
   "outputs": [
    {
     "data": {
      "text/plain": [
       "array([[[0.90075385, 0.52654843, 0.45786465],\n",
       "        [0.78914322, 0.00863261, 0.32372884],\n",
       "        [0.26449083, 0.73480137, 0.74857764],\n",
       "        [0.35202735, 0.22403796, 0.75588854]],\n",
       "\n",
       "       [[0.51523394, 0.69916804, 0.6308834 ],\n",
       "        [0.8355918 , 0.02359373, 0.14058935],\n",
       "        [0.39420888, 0.26036981, 0.51730563],\n",
       "        [0.78846013, 0.23228851, 0.25986011]],\n",
       "\n",
       "       [[0.62020206, 0.7918641 , 0.45780259],\n",
       "        [0.08032095, 0.10934876, 0.88706405],\n",
       "        [0.91385636, 0.60600312, 0.10136561],\n",
       "        [0.46387739, 0.71622833, 0.84961132]],\n",
       "\n",
       "       [[0.07257859, 0.09577358, 0.2914417 ],\n",
       "        [0.11878935, 0.13167541, 0.40312451],\n",
       "        [0.24377103, 0.69452103, 0.79932178],\n",
       "        [0.9896607 , 0.30357429, 0.33294368]]])"
      ]
     },
     "execution_count": 1,
     "metadata": {},
     "output_type": "execute_result"
    }
   ],
   "source": [
    "t = np.random.random((4,4,3)) # Create a 3d-array filled with U[0,1] random values\n",
    "t"
   ]
  },
  {
   "cell_type": "code",
   "execution_count": 81,
   "metadata": {
    "execution": {
     "iopub.execute_input": "2020-10-22T06:35:13.494644Z",
     "iopub.status.busy": "2020-10-22T06:35:13.494133Z",
     "iopub.status.idle": "2020-10-22T06:35:13.511062Z",
     "shell.execute_reply": "2020-10-22T06:35:13.511736Z"
    }
   },
   "outputs": [
    {
     "data": {
      "text/plain": [
       "0.14058935248196447"
      ]
     },
     "execution_count": 1,
     "metadata": {},
     "output_type": "execute_result"
    }
   ],
   "source": [
    "t[1,1,2]"
   ]
  },
  {
   "cell_type": "markdown",
   "metadata": {},
   "source": [
    "#### Array rank\n",
    "\n",
    "In `numpy` **rank** means **number of dimensions**."
   ]
  },
  {
   "cell_type": "markdown",
   "metadata": {},
   "source": [
    "**rank-0** arrays are scalars."
   ]
  },
  {
   "cell_type": "code",
   "execution_count": 82,
   "metadata": {
    "execution": {
     "iopub.execute_input": "2020-10-22T06:35:13.514863Z",
     "iopub.status.busy": "2020-10-22T06:35:13.514349Z",
     "iopub.status.idle": "2020-10-22T06:35:13.532926Z",
     "shell.execute_reply": "2020-10-22T06:35:13.533489Z"
    }
   },
   "outputs": [
    {
     "name": "stdout",
     "output_type": "stream",
     "text": [
      "17 shape=() dtype=int64\n"
     ]
    }
   ],
   "source": [
    "a0 = np.array(17)\n",
    "print_arr(a0)"
   ]
  },
  {
   "cell_type": "code",
   "execution_count": 83,
   "metadata": {
    "execution": {
     "iopub.execute_input": "2020-10-22T06:35:13.536346Z",
     "iopub.status.busy": "2020-10-22T06:35:13.535850Z",
     "iopub.status.idle": "2020-10-22T06:35:13.553326Z",
     "shell.execute_reply": "2020-10-22T06:35:13.553866Z"
    }
   },
   "outputs": [
    {
     "data": {
      "text/plain": [
       "17"
      ]
     },
     "execution_count": 1,
     "metadata": {},
     "output_type": "execute_result"
    }
   ],
   "source": [
    "# Get sclar as a python float\n",
    "a0.item()"
   ]
  },
  {
   "cell_type": "markdown",
   "metadata": {},
   "source": [
    "**rank-1** arrays of length `n` have a shape of `(n,)`. "
   ]
  },
  {
   "cell_type": "code",
   "execution_count": 84,
   "metadata": {
    "execution": {
     "iopub.execute_input": "2020-10-22T06:35:13.557334Z",
     "iopub.status.busy": "2020-10-22T06:35:13.556811Z",
     "iopub.status.idle": "2020-10-22T06:35:13.574104Z",
     "shell.execute_reply": "2020-10-22T06:35:13.574702Z"
    }
   },
   "outputs": [
    {
     "name": "stdout",
     "output_type": "stream",
     "text": [
      "[1 2 3] shape=(3,) dtype=int64\n"
     ]
    }
   ],
   "source": [
    "# A rank-1 array\n",
    "a1 = np.array([1,2,3])\n",
    "\n",
    "print_arr(a1)"
   ]
  },
  {
   "cell_type": "code",
   "execution_count": 85,
   "metadata": {
    "execution": {
     "iopub.execute_input": "2020-10-22T06:35:13.577945Z",
     "iopub.status.busy": "2020-10-22T06:35:13.577375Z",
     "iopub.status.idle": "2020-10-22T06:35:13.595527Z",
     "shell.execute_reply": "2020-10-22T06:35:13.594989Z"
    }
   },
   "outputs": [
    {
     "name": "stdout",
     "output_type": "stream",
     "text": [
      "[3.14] shape=(1,) dtype=float64\n"
     ]
    }
   ],
   "source": [
    "# A rank-1 array scalar\n",
    "print_arr(np.array([3.14]))"
   ]
  },
  {
   "cell_type": "markdown",
   "metadata": {},
   "source": [
    "**rank-2** arrays have a shape of `(n,m)`. "
   ]
  },
  {
   "cell_type": "code",
   "execution_count": 86,
   "metadata": {
    "execution": {
     "iopub.execute_input": "2020-10-22T06:35:13.598794Z",
     "iopub.status.busy": "2020-10-22T06:35:13.598279Z",
     "iopub.status.idle": "2020-10-22T06:35:13.614688Z",
     "shell.execute_reply": "2020-10-22T06:35:13.615420Z"
    }
   },
   "outputs": [
    {
     "name": "stdout",
     "output_type": "stream",
     "text": [
      "[[1 2 3]\n",
      " [4 5 6]] shape=(2, 3) dtype=int64\n"
     ]
    }
   ],
   "source": [
    "a2 = np.array([[1,2,3], [4,5,6]])\n",
    "\n",
    "print_arr(a2)"
   ]
  },
  {
   "cell_type": "code",
   "execution_count": 87,
   "metadata": {
    "execution": {
     "iopub.execute_input": "2020-10-22T06:35:13.618889Z",
     "iopub.status.busy": "2020-10-22T06:35:13.618350Z",
     "iopub.status.idle": "2020-10-22T06:35:13.635916Z",
     "shell.execute_reply": "2020-10-22T06:35:13.636566Z"
    }
   },
   "outputs": [
    {
     "name": "stdout",
     "output_type": "stream",
     "text": [
      "[[1]\n",
      " [2]\n",
      " [3]] shape=(3, 1) dtype=int64\n"
     ]
    }
   ],
   "source": [
    "# A column vector is also rank-2!\n",
    "a_col = a1.reshape(-1, 1)\n",
    "\n",
    "print_arr(a_col)"
   ]
  },
  {
   "cell_type": "code",
   "execution_count": 88,
   "metadata": {
    "execution": {
     "iopub.execute_input": "2020-10-22T06:35:13.639789Z",
     "iopub.status.busy": "2020-10-22T06:35:13.639282Z",
     "iopub.status.idle": "2020-10-22T06:35:13.656688Z",
     "shell.execute_reply": "2020-10-22T06:35:13.657272Z"
    }
   },
   "outputs": [
    {
     "name": "stdout",
     "output_type": "stream",
     "text": [
      "[[1 2 3]] shape=(1, 3) dtype=int64\n"
     ]
    }
   ],
   "source": [
    "# A row vector is also rank-2\n",
    "a_row = a1.reshape(1, -1)\n",
    "\n",
    "print_arr(a_row)"
   ]
  },
  {
   "cell_type": "markdown",
   "metadata": {},
   "source": [
    "**rank-k** arrays have a shape of `(n1,...,nk)`. "
   ]
  },
  {
   "cell_type": "code",
   "execution_count": 89,
   "metadata": {
    "execution": {
     "iopub.execute_input": "2020-10-22T06:35:13.660986Z",
     "iopub.status.busy": "2020-10-22T06:35:13.660459Z",
     "iopub.status.idle": "2020-10-22T06:35:13.677302Z",
     "shell.execute_reply": "2020-10-22T06:35:13.676734Z"
    }
   },
   "outputs": [
    {
     "name": "stdout",
     "output_type": "stream",
     "text": [
      "[[[0. 0. 0. 0.]\n",
      "  [0. 0. 0. 0.]\n",
      "  [0. 0. 0. 0.]]\n",
      "\n",
      " [[0. 0. 0. 0.]\n",
      "  [0. 0. 0. 0.]\n",
      "  [0. 0. 0. 0.]]] shape=(2, 3, 4) dtype=float64\n"
     ]
    }
   ],
   "source": [
    "print_arr(np.zeros((2,3,4)))"
   ]
  },
  {
   "cell_type": "code",
   "execution_count": 90,
   "metadata": {
    "execution": {
     "iopub.execute_input": "2020-10-22T06:35:13.680054Z",
     "iopub.status.busy": "2020-10-22T06:35:13.679563Z",
     "iopub.status.idle": "2020-10-22T06:35:13.696571Z",
     "shell.execute_reply": "2020-10-22T06:35:13.697097Z"
    }
   },
   "outputs": [
    {
     "name": "stdout",
     "output_type": "stream",
     "text": [
      "[[[[1. 1.]\n",
      "   [1. 1.]]\n",
      "\n",
      "  [[1. 1.]\n",
      "   [1. 1.]]]\n",
      "\n",
      "\n",
      " [[[1. 1.]\n",
      "   [1. 1.]]\n",
      "\n",
      "  [[1. 1.]\n",
      "   [1. 1.]]]] shape=(2, 2, 2, 2) dtype=float64\n"
     ]
    }
   ],
   "source": [
    "print_arr(np.ones((2,2,2,2)))"
   ]
  },
  {
   "cell_type": "markdown",
   "metadata": {},
   "source": [
    "### Array math"
   ]
  },
  {
   "cell_type": "markdown",
   "metadata": {},
   "source": [
    "#### Elementwise operations\n",
    "Basic mathematical functions **operate elementwise** on arrays, and are available both as operator overloads and as functions in the numpy module:"
   ]
  },
  {
   "cell_type": "code",
   "execution_count": 91,
   "metadata": {
    "execution": {
     "iopub.execute_input": "2020-10-22T06:35:13.700690Z",
     "iopub.status.busy": "2020-10-22T06:35:13.700210Z",
     "iopub.status.idle": "2020-10-22T06:35:13.717263Z",
     "shell.execute_reply": "2020-10-22T06:35:13.717841Z"
    },
    "jupyter": {
     "outputs_hidden": false
    }
   },
   "outputs": [
    {
     "name": "stdout",
     "output_type": "stream",
     "text": [
      "[[ 6.  8.]\n",
      " [10. 12.]]\n",
      "[[-4. -4.]\n",
      " [-4. -4.]]\n",
      "[[ 5. 12.]\n",
      " [21. 32.]]\n",
      "[[0.2        0.33333333]\n",
      " [0.42857143 0.5       ]]\n"
     ]
    }
   ],
   "source": [
    "x = np.array([[1,2],[3,4]], dtype=np.float64)\n",
    "y = np.array([[5,6],[7,8]], dtype=np.float64)\n",
    "\n",
    "# Elementwise basic math\n",
    "print(x + y)\n",
    "print(x - y)\n",
    "print(x * y)\n",
    "print(x / y)"
   ]
  },
  {
   "cell_type": "code",
   "execution_count": 92,
   "metadata": {
    "execution": {
     "iopub.execute_input": "2020-10-22T06:35:13.720943Z",
     "iopub.status.busy": "2020-10-22T06:35:13.720451Z",
     "iopub.status.idle": "2020-10-22T06:35:13.737987Z",
     "shell.execute_reply": "2020-10-22T06:35:13.738558Z"
    },
    "jupyter": {
     "outputs_hidden": false
    }
   },
   "outputs": [
    {
     "name": "stdout",
     "output_type": "stream",
     "text": [
      "[[1.         1.41421356]\n",
      " [1.73205081 2.        ]]\n",
      "[[ 2.71828183  7.3890561 ]\n",
      " [20.08553692 54.59815003]]\n",
      "[[0.         0.69314718]\n",
      " [1.09861229 1.38629436]]\n"
     ]
    }
   ],
   "source": [
    "# Elementwise functions\n",
    "print(np.sqrt(x))\n",
    "print(np.exp(x))\n",
    "print(np.log(x))"
   ]
  },
  {
   "cell_type": "markdown",
   "metadata": {},
   "source": [
    "There are of course many more elementwise operations inmplemented by `numpy`."
   ]
  },
  {
   "cell_type": "markdown",
   "metadata": {},
   "source": [
    "#### Inner products\n",
    "\n",
    "Unlike MATLAB, `*` is elementwise multiplication, not matrix multiplication (as we saw above).\n",
    "\n",
    "We can instead use the `dot()` function to:\n",
    "- compute inner products of vectors,\n",
    "- multiply a vector by a matrix, and to\n",
    "- multiply matrices, and more generally n-d tensors.\n",
    "\n",
    "The `dot()` function is available both as a function in the numpy module and as an instance\n",
    "method of array objects."
   ]
  },
  {
   "cell_type": "code",
   "execution_count": 93,
   "metadata": {
    "execution": {
     "iopub.execute_input": "2020-10-22T06:35:13.741963Z",
     "iopub.status.busy": "2020-10-22T06:35:13.741464Z",
     "iopub.status.idle": "2020-10-22T06:35:13.758173Z",
     "shell.execute_reply": "2020-10-22T06:35:13.758926Z"
    },
    "jupyter": {
     "outputs_hidden": false
    }
   },
   "outputs": [
    {
     "name": "stdout",
     "output_type": "stream",
     "text": [
      "219\n",
      "219\n"
     ]
    }
   ],
   "source": [
    "v = np.array([9,10])\n",
    "w = np.array([11, 12])\n",
    "\n",
    "# Inner product of vectors; both produce 219\n",
    "print(v.dot(w))\n",
    "print(np.dot(v, w))"
   ]
  },
  {
   "cell_type": "markdown",
   "metadata": {},
   "source": [
    "Rank-1 arrays arrays are somewhat special in that `numpy` can treat them both as column or as row vectors.\n",
    "Arrays of different rank have different semantics when using them in vector-vector or vector-matrix products, so always make sure you known what shapes you're working with:"
   ]
  },
  {
   "cell_type": "code",
   "execution_count": 94,
   "metadata": {
    "execution": {
     "iopub.execute_input": "2020-10-22T06:35:13.762906Z",
     "iopub.status.busy": "2020-10-22T06:35:13.762298Z",
     "iopub.status.idle": "2020-10-22T06:35:13.780975Z",
     "shell.execute_reply": "2020-10-22T06:35:13.781497Z"
    }
   },
   "outputs": [
    {
     "name": "stdout",
     "output_type": "stream",
     "text": [
      "a1 * a1 =\t14 shape=() dtype=int64\n",
      "a_row * a1 =\t[14] shape=(1,) dtype=int64\n",
      "a1 * a_col =\t[14] shape=(1,) dtype=int64\n",
      "a_row * a_col =\t[[14]] shape=(1, 1) dtype=int64\n",
      "a_col * a_row =\n",
      "[[1 2 3]\n",
      " [2 4 6]\n",
      " [3 6 9]] shape=(3, 3) dtype=int64\n"
     ]
    }
   ],
   "source": [
    "print_arr(np.dot(a1, a1), 'a1 * a1 =\\t')\n",
    "\n",
    "print_arr(np.dot(a_row, a1), 'a_row * a1 =\\t')\n",
    "\n",
    "print_arr(np.dot(a1, a_col), 'a1 * a_col =\\t')\n",
    "\n",
    "print_arr(np.dot(a_row, a_col), 'a_row * a_col =\\t')\n",
    "\n",
    "print_arr(np.dot(a_col, a_row), 'a_col * a_row =\\n')"
   ]
  },
  {
   "cell_type": "markdown",
   "metadata": {},
   "source": [
    "#### Non-elementwise operations\n",
    "\n",
    "Numpy provides many useful functions for performing computations on arrays."
   ]
  },
  {
   "cell_type": "code",
   "execution_count": 95,
   "metadata": {
    "execution": {
     "iopub.execute_input": "2020-10-22T06:35:13.784404Z",
     "iopub.status.busy": "2020-10-22T06:35:13.783916Z",
     "iopub.status.idle": "2020-10-22T06:35:13.800572Z",
     "shell.execute_reply": "2020-10-22T06:35:13.801097Z"
    },
    "jupyter": {
     "outputs_hidden": false
    }
   },
   "outputs": [
    {
     "name": "stdout",
     "output_type": "stream",
     "text": [
      "[[1 2]\n",
      " [3 4]] shape=(2, 2) dtype=int64\n"
     ]
    }
   ],
   "source": [
    "x = np.array([[1,2],[3,4]])\n",
    "print_arr(x)"
   ]
  },
  {
   "cell_type": "code",
   "execution_count": 96,
   "metadata": {
    "execution": {
     "iopub.execute_input": "2020-10-22T06:35:13.804172Z",
     "iopub.status.busy": "2020-10-22T06:35:13.803694Z",
     "iopub.status.idle": "2020-10-22T06:35:13.822591Z",
     "shell.execute_reply": "2020-10-22T06:35:13.823145Z"
    },
    "jupyter": {
     "outputs_hidden": false
    }
   },
   "outputs": [
    {
     "name": "stdout",
     "output_type": "stream",
     "text": [
      "10\n",
      "[2. 3.]\n",
      "[ 2 12]\n"
     ]
    }
   ],
   "source": [
    "print(np.sum(x))  # Compute sum of all elements\n",
    "print(np.mean(x, axis=0))  # Compute mean of each column\n",
    "print(np.prod(x, axis=1) ) # Compute product of each row"
   ]
  },
  {
   "cell_type": "markdown",
   "metadata": {},
   "source": [
    "You can find the full list of mathematical functions provided by numpy in the [documentation](http://docs.scipy.org/doc/numpy/reference/routines.math.html)."
   ]
  },
  {
   "cell_type": "markdown",
   "metadata": {},
   "source": [
    "### Array indexing"
   ]
  },
  {
   "cell_type": "markdown",
   "metadata": {},
   "source": [
    "Numpy offers several ways to index into arrays."
   ]
  },
  {
   "cell_type": "markdown",
   "metadata": {},
   "source": [
    "**Slicing**\n",
    "\n",
    "Similar to Python lists, numpy arrays can be sliced. Since arrays may be multidimensional, you must specify **a slice for each dimension** of the array:"
   ]
  },
  {
   "cell_type": "code",
   "execution_count": 97,
   "metadata": {
    "execution": {
     "iopub.execute_input": "2020-10-22T06:35:13.827285Z",
     "iopub.status.busy": "2020-10-22T06:35:13.826748Z",
     "iopub.status.idle": "2020-10-22T06:35:13.843446Z",
     "shell.execute_reply": "2020-10-22T06:35:13.843972Z"
    },
    "jupyter": {
     "outputs_hidden": false
    }
   },
   "outputs": [
    {
     "name": "stdout",
     "output_type": "stream",
     "text": [
      "[[ 1  2  3  4]\n",
      " [ 5  6  7  8]\n",
      " [ 9 10 11 12]] shape=(3, 4) dtype=int64\n"
     ]
    }
   ],
   "source": [
    "a = np.array([[1,2,3,4], [5,6,7,8], [9,10,11,12]])\n",
    "\n",
    "print_arr(a)"
   ]
  },
  {
   "cell_type": "code",
   "execution_count": 98,
   "metadata": {
    "execution": {
     "iopub.execute_input": "2020-10-22T06:35:13.846836Z",
     "iopub.status.busy": "2020-10-22T06:35:13.846349Z",
     "iopub.status.idle": "2020-10-22T06:35:13.863543Z",
     "shell.execute_reply": "2020-10-22T06:35:13.864169Z"
    },
    "jupyter": {
     "outputs_hidden": false
    }
   },
   "outputs": [
    {
     "name": "stdout",
     "output_type": "stream",
     "text": [
      "[[2 3]\n",
      " [6 7]] shape=(2, 2) dtype=int64\n"
     ]
    }
   ],
   "source": [
    "b = a[:2, 1:3]\n",
    "\n",
    "print_arr(b)"
   ]
  },
  {
   "cell_type": "markdown",
   "metadata": {},
   "source": [
    "A slice of an array is a **view** into the same in-memory data, so modifying it will modify the original array."
   ]
  },
  {
   "cell_type": "code",
   "execution_count": 99,
   "metadata": {
    "execution": {
     "iopub.execute_input": "2020-10-22T06:35:13.867382Z",
     "iopub.status.busy": "2020-10-22T06:35:13.866866Z",
     "iopub.status.idle": "2020-10-22T06:35:13.884077Z",
     "shell.execute_reply": "2020-10-22T06:35:13.884634Z"
    },
    "jupyter": {
     "outputs_hidden": false
    }
   },
   "outputs": [
    {
     "data": {
      "text/plain": [
       "array([[    1, 77777,     3,     4],\n",
       "       [    5,     6,     7,     8],\n",
       "       [    9,    10,    11,    12]])"
      ]
     },
     "execution_count": 1,
     "metadata": {},
     "output_type": "execute_result"
    }
   ],
   "source": [
    "# Changing a view\n",
    "b[0, 0] = 77777\n",
    "\n",
    "# ...modifies original\n",
    "a"
   ]
  },
  {
   "cell_type": "markdown",
   "metadata": {},
   "source": [
    "You can also mix integer indexing with slice indexing.\n",
    "However, doing so will yield an array of **lower rank** than the original array.\n"
   ]
  },
  {
   "cell_type": "code",
   "execution_count": 100,
   "metadata": {
    "execution": {
     "iopub.execute_input": "2020-10-22T06:35:13.888272Z",
     "iopub.status.busy": "2020-10-22T06:35:13.887631Z",
     "iopub.status.idle": "2020-10-22T06:35:13.905706Z",
     "shell.execute_reply": "2020-10-22T06:35:13.906273Z"
    },
    "jupyter": {
     "outputs_hidden": false
    }
   },
   "outputs": [
    {
     "data": {
      "text/plain": [
       "array([[ 1,  2,  3,  4],\n",
       "       [ 5,  6,  7,  8],\n",
       "       [ 9, 10, 11, 12]])"
      ]
     },
     "execution_count": 1,
     "metadata": {},
     "output_type": "execute_result"
    }
   ],
   "source": [
    "a = np.array([[1,2,3,4], [5,6,7,8], [9,10,11,12]])\n",
    "a"
   ]
  },
  {
   "cell_type": "markdown",
   "metadata": {},
   "source": [
    "Two ways of accessing the data in the middle row of the array.\n",
    "- Mixing integer indexing with slices yields an array of lower rank\n",
    "- Using only slices yields an array of the same rank as the original array"
   ]
  },
  {
   "cell_type": "code",
   "execution_count": 101,
   "metadata": {
    "execution": {
     "iopub.execute_input": "2020-10-22T06:35:13.909699Z",
     "iopub.status.busy": "2020-10-22T06:35:13.909149Z",
     "iopub.status.idle": "2020-10-22T06:35:13.926810Z",
     "shell.execute_reply": "2020-10-22T06:35:13.927361Z"
    },
    "jupyter": {
     "outputs_hidden": false
    }
   },
   "outputs": [
    {
     "name": "stdout",
     "output_type": "stream",
     "text": [
      "[5 6 7 8] shape=(4,) dtype=int64\n",
      "[[5 6 7 8]] shape=(1, 4) dtype=int64\n",
      "[[5 6 7 8]] shape=(1, 4) dtype=int64\n"
     ]
    }
   ],
   "source": [
    "row_r1 = a[1, :]    # Rank 1 view of the second row of a  \n",
    "row_r2 = a[1:2, :]  # Rank 2 view of the second row of a\n",
    "row_r3 = a[[1], :]  # Rank 2 view of the second row of a\n",
    "\n",
    "print_arr(row_r1)\n",
    "print_arr(row_r2)\n",
    "print_arr(row_r3)"
   ]
  },
  {
   "cell_type": "code",
   "execution_count": 102,
   "metadata": {
    "execution": {
     "iopub.execute_input": "2020-10-22T06:35:13.930350Z",
     "iopub.status.busy": "2020-10-22T06:35:13.929855Z",
     "iopub.status.idle": "2020-10-22T06:35:13.946873Z",
     "shell.execute_reply": "2020-10-22T06:35:13.947454Z"
    },
    "jupyter": {
     "outputs_hidden": false
    }
   },
   "outputs": [
    {
     "name": "stdout",
     "output_type": "stream",
     "text": [
      "[ 2  6 10] shape=(3,) dtype=int64\n",
      "[[ 2]\n",
      " [ 6]\n",
      " [10]] shape=(3, 1) dtype=int64\n"
     ]
    }
   ],
   "source": [
    "# We can make the same distinction when accessing columns of an array:\n",
    "col_r1 = a[:, 1]\n",
    "col_r2 = a[:, 1:2]\n",
    "\n",
    "print_arr(col_r1)\n",
    "print_arr(col_r2)"
   ]
  },
  {
   "cell_type": "markdown",
   "metadata": {},
   "source": [
    "**Integer array indexing** \n",
    "\n",
    "- When you slice, the resulting array view will always be a subarray of the original array.\n",
    "- Integer array indexing allows you to construct arbitrary arrays using the data from another array.\n"
   ]
  },
  {
   "cell_type": "code",
   "execution_count": 103,
   "metadata": {
    "execution": {
     "iopub.execute_input": "2020-10-22T06:35:13.950647Z",
     "iopub.status.busy": "2020-10-22T06:35:13.950161Z",
     "iopub.status.idle": "2020-10-22T06:35:13.967248Z",
     "shell.execute_reply": "2020-10-22T06:35:13.967816Z"
    },
    "jupyter": {
     "outputs_hidden": false
    }
   },
   "outputs": [
    {
     "name": "stdout",
     "output_type": "stream",
     "text": [
      "[[1 2]\n",
      " [3 4]\n",
      " [5 6]] shape=(3, 2) dtype=int64\n"
     ]
    }
   ],
   "source": [
    "a = np.array([[1,2], [3, 4], [5, 6]])\n",
    "print_arr(a)"
   ]
  },
  {
   "cell_type": "code",
   "execution_count": 104,
   "metadata": {
    "execution": {
     "iopub.execute_input": "2020-10-22T06:35:13.970653Z",
     "iopub.status.busy": "2020-10-22T06:35:13.970169Z",
     "iopub.status.idle": "2020-10-22T06:35:13.987420Z",
     "shell.execute_reply": "2020-10-22T06:35:13.988020Z"
    },
    "jupyter": {
     "outputs_hidden": false
    }
   },
   "outputs": [
    {
     "name": "stdout",
     "output_type": "stream",
     "text": [
      "[1 4 5] shape=(3,) dtype=int64\n"
     ]
    }
   ],
   "source": [
    "# An example of integer array indexing.\n",
    "# The returned array will have shape (3,)\n",
    "print_arr(a[ [0, 1, 2], [0, 1, 0] ])"
   ]
  },
  {
   "cell_type": "code",
   "execution_count": 105,
   "metadata": {
    "execution": {
     "iopub.execute_input": "2020-10-22T06:35:13.991373Z",
     "iopub.status.busy": "2020-10-22T06:35:13.990852Z",
     "iopub.status.idle": "2020-10-22T06:35:14.010067Z",
     "shell.execute_reply": "2020-10-22T06:35:14.010727Z"
    },
    "jupyter": {
     "outputs_hidden": false
    }
   },
   "outputs": [
    {
     "name": "stdout",
     "output_type": "stream",
     "text": [
      "[1 4 5] shape=(3,) dtype=int64\n"
     ]
    }
   ],
   "source": [
    "# The above example of integer array indexing is equivalent to this:\n",
    "print_arr(np.array([a[0, 0], a[1, 1], a[2, 0]]))"
   ]
  },
  {
   "cell_type": "code",
   "execution_count": 106,
   "metadata": {
    "execution": {
     "iopub.execute_input": "2020-10-22T06:35:14.014331Z",
     "iopub.status.busy": "2020-10-22T06:35:14.013832Z",
     "iopub.status.idle": "2020-10-22T06:35:14.031698Z",
     "shell.execute_reply": "2020-10-22T06:35:14.032235Z"
    },
    "jupyter": {
     "outputs_hidden": false
    }
   },
   "outputs": [
    {
     "name": "stdout",
     "output_type": "stream",
     "text": [
      "[2 2]\n",
      "[2 2]\n"
     ]
    }
   ],
   "source": [
    "# When using integer array indexing, you can reuse the same\n",
    "# element from the source array:\n",
    "print(a[[0, 0], [1, 1]])\n",
    "\n",
    "# Equivalent to the previous integer array indexing example\n",
    "print(np.array([a[0, 1], a[0, 1]]))"
   ]
  },
  {
   "cell_type": "markdown",
   "metadata": {},
   "source": [
    "One useful trick with integer array indexing is selecting or mutating one element from each row of a matrix:"
   ]
  },
  {
   "cell_type": "code",
   "execution_count": 107,
   "metadata": {
    "execution": {
     "iopub.execute_input": "2020-10-22T06:35:14.035390Z",
     "iopub.status.busy": "2020-10-22T06:35:14.034902Z",
     "iopub.status.idle": "2020-10-22T06:35:14.053443Z",
     "shell.execute_reply": "2020-10-22T06:35:14.054029Z"
    },
    "jupyter": {
     "outputs_hidden": false
    }
   },
   "outputs": [
    {
     "data": {
      "text/plain": [
       "array([[ 1,  2,  3],\n",
       "       [ 4,  5,  6],\n",
       "       [ 7,  8,  9],\n",
       "       [10, 11, 12]])"
      ]
     },
     "execution_count": 1,
     "metadata": {},
     "output_type": "execute_result"
    }
   ],
   "source": [
    "# Create a new array from which we will select elements\n",
    "a = np.array([[1,2,3], [4,5,6], [7,8,9], [10, 11, 12]])\n",
    "a"
   ]
  },
  {
   "cell_type": "code",
   "execution_count": 108,
   "metadata": {
    "execution": {
     "iopub.execute_input": "2020-10-22T06:35:14.057468Z",
     "iopub.status.busy": "2020-10-22T06:35:14.056948Z",
     "iopub.status.idle": "2020-10-22T06:35:14.075184Z",
     "shell.execute_reply": "2020-10-22T06:35:14.074631Z"
    },
    "jupyter": {
     "outputs_hidden": false
    }
   },
   "outputs": [
    {
     "data": {
      "text/plain": [
       "array([ 1,  6,  7, 11])"
      ]
     },
     "execution_count": 1,
     "metadata": {},
     "output_type": "execute_result"
    }
   ],
   "source": [
    "# Create an array of indices\n",
    "b = np.array([0, 2, 0, 1])\n",
    "\n",
    "# Select one element from each row of a using the indices in b\n",
    "a[np.arange(4), b]"
   ]
  },
  {
   "cell_type": "code",
   "execution_count": 109,
   "metadata": {
    "execution": {
     "iopub.execute_input": "2020-10-22T06:35:14.078106Z",
     "iopub.status.busy": "2020-10-22T06:35:14.077617Z",
     "iopub.status.idle": "2020-10-22T06:35:14.095473Z",
     "shell.execute_reply": "2020-10-22T06:35:14.096103Z"
    },
    "jupyter": {
     "outputs_hidden": false
    }
   },
   "outputs": [
    {
     "data": {
      "text/plain": [
       "array([[1001,    2,    3],\n",
       "       [   4,    5, 1006],\n",
       "       [1007,    8,    9],\n",
       "       [  10, 1011,   12]])"
      ]
     },
     "execution_count": 1,
     "metadata": {},
     "output_type": "execute_result"
    }
   ],
   "source": [
    "# Mutate one element from each row of a using the indices in b\n",
    "a[np.arange(4), b] += 1000\n",
    "a"
   ]
  },
  {
   "cell_type": "markdown",
   "metadata": {},
   "source": [
    "**Boolean array indexing**\n",
    "\n",
    "This type of indexing is used to select the elements of an array that satisfy some condition\n",
    "(similar to MATLAB's logical indexing)."
   ]
  },
  {
   "cell_type": "code",
   "execution_count": 110,
   "metadata": {
    "execution": {
     "iopub.execute_input": "2020-10-22T06:35:14.099180Z",
     "iopub.status.busy": "2020-10-22T06:35:14.098645Z",
     "iopub.status.idle": "2020-10-22T06:35:14.114658Z",
     "shell.execute_reply": "2020-10-22T06:35:14.115172Z"
    },
    "jupyter": {
     "outputs_hidden": false
    }
   },
   "outputs": [
    {
     "name": "stdout",
     "output_type": "stream",
     "text": [
      "[[1 2]\n",
      " [3 4]\n",
      " [5 6]] shape=(3, 2) dtype=int64\n"
     ]
    }
   ],
   "source": [
    "a = np.array([[1,2], [3, 4], [5, 6]])\n",
    "print_arr(a)"
   ]
  },
  {
   "cell_type": "code",
   "execution_count": 111,
   "metadata": {
    "execution": {
     "iopub.execute_input": "2020-10-22T06:35:14.118112Z",
     "iopub.status.busy": "2020-10-22T06:35:14.117552Z",
     "iopub.status.idle": "2020-10-22T06:35:14.135163Z",
     "shell.execute_reply": "2020-10-22T06:35:14.135741Z"
    },
    "jupyter": {
     "outputs_hidden": false
    }
   },
   "outputs": [
    {
     "data": {
      "text/plain": [
       "array([[False, False],\n",
       "       [ True,  True],\n",
       "       [ True,  True]])"
      ]
     },
     "execution_count": 1,
     "metadata": {},
     "output_type": "execute_result"
    }
   ],
   "source": [
    "bool_idx = (a > 2)  # Find the elements of a that are bigger than 2;\n",
    "                    # this returns a numpy array of Booleans of the same\n",
    "                    # shape as a, where each slot of bool_idx tells\n",
    "                    # whether that element of a is > 2.\n",
    "\n",
    "bool_idx"
   ]
  },
  {
   "cell_type": "code",
   "execution_count": 112,
   "metadata": {
    "execution": {
     "iopub.execute_input": "2020-10-22T06:35:14.138498Z",
     "iopub.status.busy": "2020-10-22T06:35:14.138011Z",
     "iopub.status.idle": "2020-10-22T06:35:14.155186Z",
     "shell.execute_reply": "2020-10-22T06:35:14.155898Z"
    },
    "jupyter": {
     "outputs_hidden": false
    }
   },
   "outputs": [
    {
     "data": {
      "text/plain": [
       "array([3, 4, 5, 6])"
      ]
     },
     "execution_count": 1,
     "metadata": {},
     "output_type": "execute_result"
    }
   ],
   "source": [
    "# We use boolean array indexing to construct a rank 1 array\n",
    "# consisting of the elements of a corresponding to the True values\n",
    "# of bool_idx\n",
    "a[a>2]"
   ]
  },
  {
   "cell_type": "markdown",
   "metadata": {},
   "source": [
    "For brevity we have left out a lot of details about numpy array indexing; if you want to know more you should read the [documentation](https://docs.scipy.org/doc/numpy/reference/arrays.indexing.html)."
   ]
  },
  {
   "cell_type": "markdown",
   "metadata": {},
   "source": [
    "### Datatypes"
   ]
  },
  {
   "cell_type": "markdown",
   "metadata": {},
   "source": [
    "Every numpy array is a grid of elements of the same type. Numpy provides a large set of numeric datatypes that you can use to construct arrays. Numpy tries to guess a datatype when you create an array, but functions that construct arrays usually also include an optional argument to explicitly specify the datatype. Here is an example:"
   ]
  },
  {
   "cell_type": "code",
   "execution_count": 113,
   "metadata": {
    "execution": {
     "iopub.execute_input": "2020-10-22T06:35:14.160409Z",
     "iopub.status.busy": "2020-10-22T06:35:14.159408Z",
     "iopub.status.idle": "2020-10-22T06:35:14.177075Z",
     "shell.execute_reply": "2020-10-22T06:35:14.177656Z"
    },
    "jupyter": {
     "outputs_hidden": false
    }
   },
   "outputs": [
    {
     "data": {
      "text/plain": [
       "(dtype('int64'), dtype('float64'), dtype('int64'))"
      ]
     },
     "execution_count": 1,
     "metadata": {},
     "output_type": "execute_result"
    }
   ],
   "source": [
    "x = np.array([1, 2])  # Let numpy choose the datatype\n",
    "y = np.array([1.0, 2.0])  # Let numpy choose the datatype\n",
    "z = np.array([1, 2], dtype=np.int64)  # Force a particular datatype\n",
    "\n",
    "x.dtype, y.dtype, z.dtype"
   ]
  },
  {
   "cell_type": "markdown",
   "metadata": {},
   "source": [
    "You can read all about numpy datatypes in the [documentation](http://docs.scipy.org/doc/numpy/reference/arrays.dtypes.html)."
   ]
  },
  {
   "cell_type": "markdown",
   "metadata": {},
   "source": [
    "### Changing and adding dimensions"
   ]
  },
  {
   "cell_type": "markdown",
   "metadata": {},
   "source": [
    "You can **transpose** dimensions within an array using arbitrary axis permutations."
   ]
  },
  {
   "cell_type": "code",
   "execution_count": 114,
   "metadata": {
    "execution": {
     "iopub.execute_input": "2020-10-22T06:35:14.180680Z",
     "iopub.status.busy": "2020-10-22T06:35:14.180200Z",
     "iopub.status.idle": "2020-10-22T06:35:14.197657Z",
     "shell.execute_reply": "2020-10-22T06:35:14.198223Z"
    }
   },
   "outputs": [
    {
     "name": "stdout",
     "output_type": "stream",
     "text": [
      "[[1. 1. 1.]\n",
      " [1. 1. 1.]\n",
      " [1. 1. 1.]\n",
      " [1. 1. 1.]\n",
      " [1. 1. 1.]] shape=(5, 3) dtype=float64\n"
     ]
    }
   ],
   "source": [
    "a = np.ones((3, 5))\n",
    "print_arr(a.transpose()) # also a.T"
   ]
  },
  {
   "cell_type": "code",
   "execution_count": 115,
   "metadata": {
    "execution": {
     "iopub.execute_input": "2020-10-22T06:35:14.201256Z",
     "iopub.status.busy": "2020-10-22T06:35:14.200771Z",
     "iopub.status.idle": "2020-10-22T06:35:14.217514Z",
     "shell.execute_reply": "2020-10-22T06:35:14.218104Z"
    }
   },
   "outputs": [
    {
     "name": "stdout",
     "output_type": "stream",
     "text": [
      "[[[  1.   1.   1.   1.   1.   1.]\n",
      "  [  1.   1.   1.   1.   1.   1.]]\n",
      "\n",
      " [[  1.   1.   1.   1.   1.   1.]\n",
      "  [  1.   1.   1.   1.   1.   1.]]\n",
      "\n",
      " [[  1.   1.   1.   1.   1.   1.]\n",
      "  [  1.   1.   1. 777.   1.   1.]]\n",
      "\n",
      " [[  1.   1.   1.   1.   1.   1.]\n",
      "  [  1.   1.   1.   1.   1.   1.]]] shape=(4, 2, 6) dtype=float64\n"
     ]
    }
   ],
   "source": [
    "a = np.ones((2, 4, 6))\n",
    "a[1,2,3] = 777\n",
    "\n",
    "print_arr(a.transpose(1,0,2))"
   ]
  },
  {
   "cell_type": "markdown",
   "metadata": {},
   "source": [
    "Note that an element `[x,y,z]` moves to position `[y,x,z]` after a transpose with this permutation (1,0,2)."
   ]
  },
  {
   "cell_type": "markdown",
   "metadata": {},
   "source": [
    "Another important feature is **reshaping** an array into different dimensions."
   ]
  },
  {
   "cell_type": "code",
   "execution_count": 116,
   "metadata": {
    "execution": {
     "iopub.execute_input": "2020-10-22T06:35:14.221546Z",
     "iopub.status.busy": "2020-10-22T06:35:14.221050Z",
     "iopub.status.idle": "2020-10-22T06:35:14.238171Z",
     "shell.execute_reply": "2020-10-22T06:35:14.238697Z"
    }
   },
   "outputs": [
    {
     "name": "stdout",
     "output_type": "stream",
     "text": [
      "[[1. 1. 1. 1. 1. 1. 1. 1. 1.]\n",
      " [1. 1. 1. 1. 1. 1. 1. 1. 1.]] shape=(2, 9) dtype=float64\n"
     ]
    }
   ],
   "source": [
    "a = np.ones((3, 6))\n",
    "print_arr(np.reshape(a, (2, 9)))"
   ]
  },
  {
   "cell_type": "markdown",
   "metadata": {},
   "source": [
    "When reshaping, we need to make sure to preserve the same number of elements.\n",
    "Use `-1` in one of the dimensions to tell numpy to \"figure it out\"."
   ]
  },
  {
   "cell_type": "markdown",
   "metadata": {},
   "source": [
    "You can also combine multiple arrays with **concatenation** along an arbitrary axis."
   ]
  },
  {
   "cell_type": "code",
   "execution_count": 117,
   "metadata": {
    "execution": {
     "iopub.execute_input": "2020-10-22T06:35:14.242181Z",
     "iopub.status.busy": "2020-10-22T06:35:14.241676Z",
     "iopub.status.idle": "2020-10-22T06:35:14.259003Z",
     "shell.execute_reply": "2020-10-22T06:35:14.259624Z"
    }
   },
   "outputs": [
    {
     "name": "stdout",
     "output_type": "stream",
     "text": [
      "[[1 2]\n",
      " [3 4]] shape=(2, 2) dtype=int64\n",
      "[[5 6]] shape=(1, 2) dtype=int64\n"
     ]
    }
   ],
   "source": [
    "a = np.array([[1, 2], [3, 4]])\n",
    "b = np.array([[5, 6]])\n",
    "print_arr(a)\n",
    "print_arr(b)"
   ]
  },
  {
   "cell_type": "code",
   "execution_count": 118,
   "metadata": {
    "execution": {
     "iopub.execute_input": "2020-10-22T06:35:14.262774Z",
     "iopub.status.busy": "2020-10-22T06:35:14.262285Z",
     "iopub.status.idle": "2020-10-22T06:35:14.278635Z",
     "shell.execute_reply": "2020-10-22T06:35:14.279205Z"
    }
   },
   "outputs": [
    {
     "name": "stdout",
     "output_type": "stream",
     "text": [
      "[[1 2]\n",
      " [3 4]\n",
      " [5 6]] shape=(3, 2) dtype=int64\n"
     ]
    }
   ],
   "source": [
    "print_arr(np.concatenate((a, b), axis=0))"
   ]
  },
  {
   "cell_type": "code",
   "execution_count": 119,
   "metadata": {
    "execution": {
     "iopub.execute_input": "2020-10-22T06:35:14.282043Z",
     "iopub.status.busy": "2020-10-22T06:35:14.281563Z",
     "iopub.status.idle": "2020-10-22T06:35:14.298670Z",
     "shell.execute_reply": "2020-10-22T06:35:14.299216Z"
    }
   },
   "outputs": [
    {
     "name": "stdout",
     "output_type": "stream",
     "text": [
      "[[1 2 5]\n",
      " [3 4 6]] shape=(2, 3) dtype=int64\n"
     ]
    }
   ],
   "source": [
    "print_arr(np.concatenate((a, b.T), axis=1))"
   ]
  },
  {
   "cell_type": "code",
   "execution_count": 120,
   "metadata": {
    "execution": {
     "iopub.execute_input": "2020-10-22T06:35:14.302251Z",
     "iopub.status.busy": "2020-10-22T06:35:14.301763Z",
     "iopub.status.idle": "2020-10-22T06:35:14.318413Z",
     "shell.execute_reply": "2020-10-22T06:35:14.318958Z"
    }
   },
   "outputs": [
    {
     "name": "stdout",
     "output_type": "stream",
     "text": [
      "[1 2 3 4 5 6] shape=(6,) dtype=int64\n"
     ]
    }
   ],
   "source": [
    "print_arr(np.concatenate((a, b), axis=None))"
   ]
  },
  {
   "cell_type": "markdown",
   "metadata": {},
   "source": [
    "### Broadcasting"
   ]
  },
  {
   "cell_type": "markdown",
   "metadata": {},
   "source": [
    "Broadcasting is a powerful mechanism that allows numpy to work with arrays of **different shapes** when performing arithmetic operations.\n",
    "\n",
    "Frequently we have a smaller array and a larger array, and we want to use the smaller array multiple times to perform some operation on the larger array.\n",
    "\n",
    "For example, suppose that we want to add a constant vector to each row of a matrix."
   ]
  },
  {
   "cell_type": "code",
   "execution_count": 121,
   "metadata": {
    "execution": {
     "iopub.execute_input": "2020-10-22T06:35:14.322725Z",
     "iopub.status.busy": "2020-10-22T06:35:14.322213Z",
     "iopub.status.idle": "2020-10-22T06:35:14.339628Z",
     "shell.execute_reply": "2020-10-22T06:35:14.340229Z"
    },
    "jupyter": {
     "outputs_hidden": false
    }
   },
   "outputs": [
    {
     "name": "stdout",
     "output_type": "stream",
     "text": [
      "x=\n",
      "[[ 1  2  3]\n",
      " [ 4  5  6]\n",
      " [ 7  8  9]\n",
      " [10 11 12]] shape=(4, 3) dtype=int64\n",
      "v=[1 0 1] shape=(3,) dtype=int64\n"
     ]
    }
   ],
   "source": [
    "# We will add the vector v to each row of the matrix x,\n",
    "# storing the result in the matrix y\n",
    "x = np.array([[1,2,3], [4,5,6], [7,8,9], [10, 11, 12]])\n",
    "v = np.array([1, 0, 1])\n",
    "y = np.empty_like(x)   # Create an empty matrix with the same shape as x\n",
    "\n",
    "print_arr(x,'x=\\n')\n",
    "print_arr(v, 'v=')"
   ]
  },
  {
   "cell_type": "markdown",
   "metadata": {},
   "source": [
    "**Naïve approach**: Use a loop."
   ]
  },
  {
   "cell_type": "code",
   "execution_count": 122,
   "metadata": {
    "execution": {
     "iopub.execute_input": "2020-10-22T06:35:14.343346Z",
     "iopub.status.busy": "2020-10-22T06:35:14.342837Z",
     "iopub.status.idle": "2020-10-22T06:35:14.360588Z",
     "shell.execute_reply": "2020-10-22T06:35:14.360141Z"
    },
    "jupyter": {
     "outputs_hidden": false
    }
   },
   "outputs": [
    {
     "data": {
      "text/plain": [
       "array([[ 2,  2,  4],\n",
       "       [ 5,  5,  7],\n",
       "       [ 8,  8, 10],\n",
       "       [11, 11, 13]])"
      ]
     },
     "execution_count": 1,
     "metadata": {},
     "output_type": "execute_result"
    }
   ],
   "source": [
    "# Add the vector v to each row of the matrix x with an explicit loop\n",
    "for i in range(4):\n",
    "    y[i, :] = x[i, :] + v\n",
    "\n",
    "y"
   ]
  },
  {
   "cell_type": "markdown",
   "metadata": {},
   "source": [
    "This works; however computing explicit loops in Python is **slow**. "
   ]
  },
  {
   "cell_type": "markdown",
   "metadata": {},
   "source": [
    "**Naïve approach 2**: adding the vector v to each row of the matrix `x` is equivalent to forming a matrix `vv` by stacking multiple copies of `v` vertically, then performing elementwise summation of `x` and `vv`.\n",
    "\n",
    "We could implement this approach like this:"
   ]
  },
  {
   "cell_type": "code",
   "execution_count": 123,
   "metadata": {
    "execution": {
     "iopub.execute_input": "2020-10-22T06:35:14.363723Z",
     "iopub.status.busy": "2020-10-22T06:35:14.363233Z",
     "iopub.status.idle": "2020-10-22T06:35:14.379998Z",
     "shell.execute_reply": "2020-10-22T06:35:14.380574Z"
    },
    "jupyter": {
     "outputs_hidden": false
    }
   },
   "outputs": [
    {
     "data": {
      "text/plain": [
       "array([[1, 0, 1],\n",
       "       [1, 0, 1],\n",
       "       [1, 0, 1],\n",
       "       [1, 0, 1]])"
      ]
     },
     "execution_count": 1,
     "metadata": {},
     "output_type": "execute_result"
    }
   ],
   "source": [
    "vv = np.tile(v, (4, 1))  # Stack 4 copies of v on top of each other\n",
    "vv"
   ]
  },
  {
   "cell_type": "code",
   "execution_count": 124,
   "metadata": {
    "execution": {
     "iopub.execute_input": "2020-10-22T06:35:14.383643Z",
     "iopub.status.busy": "2020-10-22T06:35:14.382955Z",
     "iopub.status.idle": "2020-10-22T06:35:14.401374Z",
     "shell.execute_reply": "2020-10-22T06:35:14.400831Z"
    },
    "jupyter": {
     "outputs_hidden": false
    }
   },
   "outputs": [
    {
     "data": {
      "text/plain": [
       "array([[ 2,  2,  4],\n",
       "       [ 5,  5,  7],\n",
       "       [ 8,  8, 10],\n",
       "       [11, 11, 13]])"
      ]
     },
     "execution_count": 1,
     "metadata": {},
     "output_type": "execute_result"
    }
   ],
   "source": [
    "y = x + vv  # Add x and vv elementwise\n",
    "y"
   ]
  },
  {
   "cell_type": "markdown",
   "metadata": {},
   "source": [
    "Nice, but a new array was allocated and memory was copied."
   ]
  },
  {
   "cell_type": "markdown",
   "metadata": {},
   "source": [
    "**Numpy broadcasting** allows us to perform this computation without actually creating multiple copies of v. Consider this version, using broadcasting:"
   ]
  },
  {
   "cell_type": "code",
   "execution_count": 125,
   "metadata": {
    "execution": {
     "iopub.execute_input": "2020-10-22T06:35:14.405082Z",
     "iopub.status.busy": "2020-10-22T06:35:14.404590Z",
     "iopub.status.idle": "2020-10-22T06:35:14.422560Z",
     "shell.execute_reply": "2020-10-22T06:35:14.423166Z"
    },
    "jupyter": {
     "outputs_hidden": false
    }
   },
   "outputs": [
    {
     "name": "stdout",
     "output_type": "stream",
     "text": [
      "shapes:  (4, 3) (3,)\n"
     ]
    },
    {
     "data": {
      "text/plain": [
       "array([[ 2,  2,  4],\n",
       "       [ 5,  5,  7],\n",
       "       [ 8,  8, 10],\n",
       "       [11, 11, 13]])"
      ]
     },
     "execution_count": 1,
     "metadata": {},
     "output_type": "execute_result"
    }
   ],
   "source": [
    "x = np.array([[1,2,3], [4,5,6], [7,8,9], [10, 11, 12]])\n",
    "v = np.array([1, 0, 1])\n",
    "\n",
    "# Add v to each row of x using broadcasting\n",
    "y = x + v  \n",
    "\n",
    "print('shapes: ', x.shape, v.shape)\n",
    "y"
   ]
  },
  {
   "cell_type": "markdown",
   "metadata": {},
   "source": [
    "The line `y = x + v` works even though `x` has shape `(4, 3)` and `v` has shape `(3,)` due to broadcasting; this line works **as if** v actually had shape `(4, 3)`, where each row was a copy of `v`, and the sum was performed elementwise."
   ]
  },
  {
   "cell_type": "markdown",
   "metadata": {},
   "source": [
    "Broadcasting two arrays together follows these rules:\n",
    "\n",
    "1. All input arrays with ndim smaller than the input array of largest ndim, have **1’s prepended to their shapes**.\n",
    "1. The size in each dimension of the **output shape** is the maximum of all the input sizes in that dimension.\n",
    "1. An input can be used in the calculation if its size in a particular **dimension either matches** the output size in that dimension, **or has value exactly 1**.\n",
    "1. If an input has a dimension size of 1 in its shape, the **first data entry in that dimension will be used for all calculations** along that dimension. In other words, the stepping machinery of the ufunc will simply not step along that dimension (the stride will be 0 for that dimension)."
   ]
  },
  {
   "cell_type": "markdown",
   "metadata": {},
   "source": [
    "In our example:\n",
    "- `x` has shape `(4,3)`\n",
    "- `v` has shape `(3,)`.\n",
    "\n",
    "Following the Broadcasting logic, we can say the following is equivalent to what happened:\n",
    "1. `v` has less dims than `x` so a dimension of `1` is **prepended** -> `v` is now `(1, 3)`.\n",
    "1. Output shape will be `(max(1,4), max(3,3)) = (4,3)`.\n",
    "1. Dim 1 of `v` matches exactly (3); dim 0 is exactly 1, so we can use the first data entry (row 0) for each time any row is accessed. This is effectively like converting `v` from `(1,3)` to `(4,3)` by replicating."
   ]
  },
  {
   "cell_type": "markdown",
   "metadata": {},
   "source": [
    "Broadcasting is incredibly useful and necessary for writing **vectorized** code,\n",
    "i.e. code that avoids explicit python loops which are very slow.\n",
    "Instead, this approach leveraged the underlying C implementation of numpy."
   ]
  },
  {
   "cell_type": "markdown",
   "metadata": {},
   "source": [
    "For more on broadcasting, see the [documentation](http://docs.scipy.org/doc/numpy/user/basics.broadcasting.html) or this [explanation](http://wiki.scipy.org/EricsBroadcastingDoc).\n",
    "\n",
    "Functions that support broadcasting are known as universal functions. You can find the list of all universal functions in the [documentation](http://docs.scipy.org/doc/numpy/reference/ufuncs.html#available-ufuncs)."
   ]
  },
  {
   "cell_type": "markdown",
   "metadata": {},
   "source": [
    "Here are some applications of broadcasting:"
   ]
  },
  {
   "cell_type": "code",
   "execution_count": 126,
   "metadata": {
    "execution": {
     "iopub.execute_input": "2020-10-22T06:35:14.427317Z",
     "iopub.status.busy": "2020-10-22T06:35:14.426800Z",
     "iopub.status.idle": "2020-10-22T06:35:14.444354Z",
     "shell.execute_reply": "2020-10-22T06:35:14.444876Z"
    },
    "jupyter": {
     "outputs_hidden": false
    }
   },
   "outputs": [
    {
     "name": "stdout",
     "output_type": "stream",
     "text": [
      "[1 2 3] shape=(3,) dtype=int64\n",
      "[4 5] shape=(2,) dtype=int64\n"
     ]
    }
   ],
   "source": [
    "# Compute outer product of vectors\n",
    "v = np.array([1,2,3])  # v has shape (3,)\n",
    "w = np.array([4,5])    # w has shape (2,)\n",
    "print_arr(v)\n",
    "print_arr(w)"
   ]
  },
  {
   "cell_type": "code",
   "execution_count": 127,
   "metadata": {
    "execution": {
     "iopub.execute_input": "2020-10-22T06:35:14.447885Z",
     "iopub.status.busy": "2020-10-22T06:35:14.447395Z",
     "iopub.status.idle": "2020-10-22T06:35:14.464958Z",
     "shell.execute_reply": "2020-10-22T06:35:14.465545Z"
    },
    "jupyter": {
     "outputs_hidden": false
    }
   },
   "outputs": [
    {
     "data": {
      "text/plain": [
       "array([[ 4,  5],\n",
       "       [ 8, 10],\n",
       "       [12, 15]])"
      ]
     },
     "execution_count": 1,
     "metadata": {},
     "output_type": "execute_result"
    }
   ],
   "source": [
    "# To compute an outer product, we first reshape v to be a column\n",
    "# vector of shape (3, 1); we can then broadcast it against w to yield\n",
    "# an output of shape (3, 2), which is the outer product of v and w:\n",
    "\n",
    "# (3,1) * (2,) -> (3,1) * (1, 2) -> (3, 2) * (3, 2)\n",
    "np.reshape(v, (3, 1)) * w"
   ]
  },
  {
   "cell_type": "code",
   "execution_count": 128,
   "metadata": {
    "execution": {
     "iopub.execute_input": "2020-10-22T06:35:14.468496Z",
     "iopub.status.busy": "2020-10-22T06:35:14.467991Z",
     "iopub.status.idle": "2020-10-22T06:35:14.488975Z",
     "shell.execute_reply": "2020-10-22T06:35:14.489869Z"
    },
    "jupyter": {
     "outputs_hidden": false
    }
   },
   "outputs": [
    {
     "data": {
      "text/plain": [
       "array([[2., 2., 2.],\n",
       "       [2., 2., 2.]])"
      ]
     },
     "execution_count": 1,
     "metadata": {},
     "output_type": "execute_result"
    }
   ],
   "source": [
    "# Multiply a matrix by a constant:\n",
    "x = np.ones((2,3))\n",
    "\n",
    "# x has shape (2, 3). Numpy treats scalars as arrays of shape ();\n",
    "# these can be broadcast together to shape (2, 3).\n",
    "\n",
    "# (2,3) * () -> (2,3) * (1,1) -> (2,3) * (2,3)\n",
    "x * 2"
   ]
  },
  {
   "cell_type": "markdown",
   "metadata": {},
   "source": [
    "Broadcasting typically makes your code more concise and faster, so you should strive to use it where possible."
   ]
  },
  {
   "cell_type": "markdown",
   "metadata": {},
   "source": [
    "This brief overview has touched on many of the important things that you need to know about numpy, but is far from complete. Check out the [numpy reference](http://docs.scipy.org/doc/numpy/reference/) to find out much more about numpy."
   ]
  },
  {
   "cell_type": "markdown",
   "metadata": {},
   "source": [
    "## PyTorch Tensors"
   ]
  },
  {
   "cell_type": "code",
   "execution_count": 129,
   "metadata": {
    "execution": {
     "iopub.execute_input": "2020-10-22T06:35:14.494084Z",
     "iopub.status.busy": "2020-10-22T06:35:14.493468Z",
     "iopub.status.idle": "2020-10-22T06:35:15.059451Z",
     "shell.execute_reply": "2020-10-22T06:35:15.060106Z"
    }
   },
   "outputs": [
    {
     "data": {
      "text/plain": [
       "'1.6.0'"
      ]
     },
     "execution_count": 1,
     "metadata": {},
     "output_type": "execute_result"
    }
   ],
   "source": [
    "import torch\n",
    "torch.__version__"
   ]
  },
  {
   "cell_type": "markdown",
   "metadata": {},
   "source": [
    "PyTorch is a relatively new yet widely used deep learning framework.\n",
    "\n",
    "During the course we'll use it extensively and learn many parts of its API.\n",
    "You should also familiarize yourself with the [PyTorch Documentation](https://pytorch.org/docs/stable/) as it will greatly assist you when implementing your own models."
   ]
  },
  {
   "cell_type": "markdown",
   "metadata": {},
   "source": [
    "This notebook will show only **a small part** of PyTorch's API, the `Tensor` class.\n",
    "This class is very similar to numpy's `ndarray`, and provides much of the same functionality.\n",
    "However, it also has two important distinctions:\n",
    "- Support for GPU computations.\n",
    "- Can store extra data needed for implementing back propagation:\n",
    "    - A tensor of the same dimentions containing the gradient of this tensor w.r.t. some number (e.g. loss).\n",
    "    - A node representing an operation in the computational graph that produced this tensor.\n",
    "\n",
    "In the next tutorials we will examine these concepts further."
   ]
  },
  {
   "cell_type": "markdown",
   "metadata": {},
   "source": [
    "This notebook will show some brief examples, just to get a feel for it and compare it to the usual numpy `ndarray`s.\n",
    "\n",
    "You will be using both PyTorch tensors and numpy `ndarray`s extensively throughout the course homework assignments, and in general when implementing deep learning algorithms."
   ]
  },
  {
   "cell_type": "code",
   "execution_count": 130,
   "metadata": {
    "execution": {
     "iopub.execute_input": "2020-10-22T06:35:15.063336Z",
     "iopub.status.busy": "2020-10-22T06:35:15.062849Z",
     "iopub.status.idle": "2020-10-22T06:35:15.085270Z",
     "shell.execute_reply": "2020-10-22T06:35:15.085785Z"
    }
   },
   "outputs": [
    {
     "name": "stdout",
     "output_type": "stream",
     "text": [
      "tensor([[1., 2., 3.],\n",
      "        [4., 5., 6.]]) shape=torch.Size([2, 3]) dtype=torch.float32\n"
     ]
    }
   ],
   "source": [
    "# Basic tensor creation\n",
    "t = torch.tensor([[1, 2, 3], [4, 5, 6]], dtype=torch.float32)\n",
    "\n",
    "print_arr(t)"
   ]
  },
  {
   "cell_type": "markdown",
   "metadata": {},
   "source": [
    "Some other tensor construction methods:"
   ]
  },
  {
   "cell_type": "code",
   "execution_count": 131,
   "metadata": {
    "execution": {
     "iopub.execute_input": "2020-10-22T06:35:15.089650Z",
     "iopub.status.busy": "2020-10-22T06:35:15.088967Z",
     "iopub.status.idle": "2020-10-22T06:35:15.111219Z",
     "shell.execute_reply": "2020-10-22T06:35:15.111732Z"
    }
   },
   "outputs": [
    {
     "data": {
      "text/plain": [
       "tensor([[0., 0.]])"
      ]
     },
     "execution_count": 1,
     "metadata": {},
     "output_type": "execute_result"
    }
   ],
   "source": [
    "torch.zeros((1,2))"
   ]
  },
  {
   "cell_type": "code",
   "execution_count": 132,
   "metadata": {
    "execution": {
     "iopub.execute_input": "2020-10-22T06:35:15.114844Z",
     "iopub.status.busy": "2020-10-22T06:35:15.114383Z",
     "iopub.status.idle": "2020-10-22T06:35:15.137168Z",
     "shell.execute_reply": "2020-10-22T06:35:15.137884Z"
    }
   },
   "outputs": [
    {
     "data": {
      "text/plain": [
       "tensor([[1., 1.],\n",
       "        [1., 1.],\n",
       "        [1., 1.]])"
      ]
     },
     "execution_count": 1,
     "metadata": {},
     "output_type": "execute_result"
    }
   ],
   "source": [
    "torch.ones((3,2))"
   ]
  },
  {
   "cell_type": "code",
   "execution_count": 133,
   "metadata": {
    "execution": {
     "iopub.execute_input": "2020-10-22T06:35:15.141211Z",
     "iopub.status.busy": "2020-10-22T06:35:15.140719Z",
     "iopub.status.idle": "2020-10-22T06:35:15.163115Z",
     "shell.execute_reply": "2020-10-22T06:35:15.163678Z"
    }
   },
   "outputs": [
    {
     "data": {
      "text/plain": [
       "tensor([[7],\n",
       "        [8],\n",
       "        [8],\n",
       "        [9]])"
      ]
     },
     "execution_count": 1,
     "metadata": {},
     "output_type": "execute_result"
    }
   ],
   "source": [
    "torch.randint(10, (4,1))"
   ]
  },
  {
   "cell_type": "markdown",
   "metadata": {},
   "source": [
    "As in numpy, tensors can be reshaped"
   ]
  },
  {
   "cell_type": "code",
   "execution_count": 134,
   "metadata": {
    "execution": {
     "iopub.execute_input": "2020-10-22T06:35:15.166764Z",
     "iopub.status.busy": "2020-10-22T06:35:15.166171Z",
     "iopub.status.idle": "2020-10-22T06:35:15.187643Z",
     "shell.execute_reply": "2020-10-22T06:35:15.188371Z"
    }
   },
   "outputs": [
    {
     "data": {
      "text/plain": [
       "tensor([[1., 2.],\n",
       "        [3., 4.],\n",
       "        [5., 6.]])"
      ]
     },
     "execution_count": 1,
     "metadata": {},
     "output_type": "execute_result"
    }
   ],
   "source": [
    "t.reshape(3, 2)"
   ]
  },
  {
   "cell_type": "markdown",
   "metadata": {},
   "source": [
    "In many cases, PyTorch provides the same methods on both the `Tensor` object and via the `torch` package."
   ]
  },
  {
   "cell_type": "code",
   "execution_count": 135,
   "metadata": {
    "execution": {
     "iopub.execute_input": "2020-10-22T06:35:15.192150Z",
     "iopub.status.busy": "2020-10-22T06:35:15.191477Z",
     "iopub.status.idle": "2020-10-22T06:35:15.213311Z",
     "shell.execute_reply": "2020-10-22T06:35:15.213810Z"
    }
   },
   "outputs": [
    {
     "data": {
      "text/plain": [
       "tensor([[1., 2.],\n",
       "        [3., 4.],\n",
       "        [5., 6.]])"
      ]
     },
     "execution_count": 1,
     "metadata": {},
     "output_type": "execute_result"
    }
   ],
   "source": [
    "torch.reshape(t, (3, -1))"
   ]
  },
  {
   "cell_type": "markdown",
   "metadata": {},
   "source": [
    "As in numpy, many functions are provided for computations over tensors, for example,"
   ]
  },
  {
   "cell_type": "code",
   "execution_count": 136,
   "metadata": {
    "execution": {
     "iopub.execute_input": "2020-10-22T06:35:15.217017Z",
     "iopub.status.busy": "2020-10-22T06:35:15.216456Z",
     "iopub.status.idle": "2020-10-22T06:35:15.238815Z",
     "shell.execute_reply": "2020-10-22T06:35:15.239314Z"
    }
   },
   "outputs": [
    {
     "name": "stdout",
     "output_type": "stream",
     "text": [
      "tensor([2., 5.]) shape=torch.Size([2]) dtype=torch.float32\n"
     ]
    }
   ],
   "source": [
    "print_arr(torch.mean(t, dim=1))"
   ]
  },
  {
   "cell_type": "markdown",
   "metadata": {},
   "source": [
    "Sometime it's necessary to preserve original dimensions:"
   ]
  },
  {
   "cell_type": "code",
   "execution_count": 137,
   "metadata": {
    "execution": {
     "iopub.execute_input": "2020-10-22T06:35:15.242526Z",
     "iopub.status.busy": "2020-10-22T06:35:15.242055Z",
     "iopub.status.idle": "2020-10-22T06:35:15.264579Z",
     "shell.execute_reply": "2020-10-22T06:35:15.264074Z"
    }
   },
   "outputs": [
    {
     "name": "stdout",
     "output_type": "stream",
     "text": [
      "tensor([[2.],\n",
      "        [5.]]) shape=torch.Size([2, 1]) dtype=torch.float32\n"
     ]
    }
   ],
   "source": [
    "print_arr(torch.mean(t, dim=1, keepdim=True))"
   ]
  },
  {
   "cell_type": "markdown",
   "metadata": {},
   "source": [
    "Properties of a tensor:"
   ]
  },
  {
   "cell_type": "code",
   "execution_count": 138,
   "metadata": {
    "execution": {
     "iopub.execute_input": "2020-10-22T06:35:15.267628Z",
     "iopub.status.busy": "2020-10-22T06:35:15.267156Z",
     "iopub.status.idle": "2020-10-22T06:35:15.288565Z",
     "shell.execute_reply": "2020-10-22T06:35:15.289507Z"
    }
   },
   "outputs": [
    {
     "name": "stdout",
     "output_type": "stream",
     "text": [
      "shape: torch.Size([2, 3])\n",
      "dimensions: 2\n",
      "type: torch.FloatTensor\n",
      "device: cpu\n"
     ]
    }
   ],
   "source": [
    "print('shape:', t.size())   # t.shape also works, like numpy\n",
    "print('dimensions:', t.dim())\n",
    "print('type:', t.type())\n",
    "print('device:', t.device)"
   ]
  },
  {
   "cell_type": "markdown",
   "metadata": {},
   "source": [
    "**Slicing** works just like in numpy:"
   ]
  },
  {
   "cell_type": "code",
   "execution_count": 139,
   "metadata": {
    "execution": {
     "iopub.execute_input": "2020-10-22T06:35:15.293215Z",
     "iopub.status.busy": "2020-10-22T06:35:15.292698Z",
     "iopub.status.idle": "2020-10-22T06:35:15.314313Z",
     "shell.execute_reply": "2020-10-22T06:35:15.314812Z"
    }
   },
   "outputs": [
    {
     "data": {
      "text/plain": [
       "tensor([[1., 2., 3.],\n",
       "        [4., 5., 6.],\n",
       "        [7., 8., 9.]])"
      ]
     },
     "execution_count": 1,
     "metadata": {},
     "output_type": "execute_result"
    }
   ],
   "source": [
    "t = torch.Tensor([[1, 2, 3], [4, 5, 6], [7, 8, 9]])\n",
    "t"
   ]
  },
  {
   "cell_type": "code",
   "execution_count": 140,
   "metadata": {
    "execution": {
     "iopub.execute_input": "2020-10-22T06:35:15.318349Z",
     "iopub.status.busy": "2020-10-22T06:35:15.317825Z",
     "iopub.status.idle": "2020-10-22T06:35:15.339782Z",
     "shell.execute_reply": "2020-10-22T06:35:15.340421Z"
    }
   },
   "outputs": [
    {
     "data": {
      "text/plain": [
       "tensor([3., 6., 9.])"
      ]
     },
     "execution_count": 1,
     "metadata": {},
     "output_type": "execute_result"
    }
   ],
   "source": [
    "t[:, -1]"
   ]
  },
  {
   "cell_type": "code",
   "execution_count": 141,
   "metadata": {
    "execution": {
     "iopub.execute_input": "2020-10-22T06:35:15.343551Z",
     "iopub.status.busy": "2020-10-22T06:35:15.343087Z",
     "iopub.status.idle": "2020-10-22T06:35:15.365270Z",
     "shell.execute_reply": "2020-10-22T06:35:15.365770Z"
    }
   },
   "outputs": [
    {
     "data": {
      "text/plain": [
       "tensor([[1., 2., 3.],\n",
       "        [4., 5., 6.]])"
      ]
     },
     "execution_count": 1,
     "metadata": {},
     "output_type": "execute_result"
    }
   ],
   "source": [
    "t[:2, :]"
   ]
  },
  {
   "cell_type": "code",
   "execution_count": 142,
   "metadata": {
    "execution": {
     "iopub.execute_input": "2020-10-22T06:35:15.368773Z",
     "iopub.status.busy": "2020-10-22T06:35:15.368310Z",
     "iopub.status.idle": "2020-10-22T06:35:15.391823Z",
     "shell.execute_reply": "2020-10-22T06:35:15.392564Z"
    }
   },
   "outputs": [
    {
     "data": {
      "text/plain": [
       "tensor([[9.]])"
      ]
     },
     "execution_count": 1,
     "metadata": {},
     "output_type": "execute_result"
    }
   ],
   "source": [
    "t[-1:, -1:]"
   ]
  },
  {
   "cell_type": "markdown",
   "metadata": {},
   "source": [
    "Unlike numpy, PyTorch tensors can be moved to **GPU** memory (if a GPU is available on the machine)."
   ]
  },
  {
   "cell_type": "code",
   "execution_count": 143,
   "metadata": {
    "execution": {
     "iopub.execute_input": "2020-10-22T06:35:15.395650Z",
     "iopub.status.busy": "2020-10-22T06:35:15.395177Z",
     "iopub.status.idle": "2020-10-22T06:35:15.415746Z",
     "shell.execute_reply": "2020-10-22T06:35:15.416401Z"
    }
   },
   "outputs": [],
   "source": [
    "if torch.cuda.is_available():\n",
    "    t = t.cuda()"
   ]
  },
  {
   "cell_type": "code",
   "execution_count": 144,
   "metadata": {
    "execution": {
     "iopub.execute_input": "2020-10-22T06:35:15.420049Z",
     "iopub.status.busy": "2020-10-22T06:35:15.419575Z",
     "iopub.status.idle": "2020-10-22T06:35:15.441234Z",
     "shell.execute_reply": "2020-10-22T06:35:15.441906Z"
    }
   },
   "outputs": [],
   "source": [
    "# Better way to use GPU tensors (and later - models)\n",
    "device = torch.device('cuda' if torch.cuda.is_available() else 'cpu')\n",
    "\n",
    "t = t.to(device)"
   ]
  },
  {
   "cell_type": "markdown",
   "metadata": {},
   "source": [
    "**Broadcasting** also works (with almost identical semantics):"
   ]
  },
  {
   "cell_type": "code",
   "execution_count": 145,
   "metadata": {
    "execution": {
     "iopub.execute_input": "2020-10-22T06:35:15.445356Z",
     "iopub.status.busy": "2020-10-22T06:35:15.444881Z",
     "iopub.status.idle": "2020-10-22T06:35:15.468034Z",
     "shell.execute_reply": "2020-10-22T06:35:15.468578Z"
    }
   },
   "outputs": [
    {
     "name": "stdout",
     "output_type": "stream",
     "text": [
      "tensor([[ 1,  2,  3],\n",
      "        [ 4,  5,  6],\n",
      "        [ 7,  8,  9],\n",
      "        [10, 11, 12]]) shape=torch.Size([4, 3]) dtype=torch.int64\n",
      "tensor([1, 0, 1]) shape=torch.Size([3]) dtype=torch.int64\n"
     ]
    }
   ],
   "source": [
    "x = torch.tensor([[1,2,3], [4,5,6], [7,8,9], [10, 11, 12]])\n",
    "v = torch.tensor([1, 0, 1])\n",
    "\n",
    "print_arr(x)\n",
    "print_arr(v)"
   ]
  },
  {
   "cell_type": "code",
   "execution_count": 146,
   "metadata": {
    "execution": {
     "iopub.execute_input": "2020-10-22T06:35:15.471706Z",
     "iopub.status.busy": "2020-10-22T06:35:15.471203Z",
     "iopub.status.idle": "2020-10-22T06:35:15.495412Z",
     "shell.execute_reply": "2020-10-22T06:35:15.495909Z"
    }
   },
   "outputs": [
    {
     "data": {
      "text/plain": [
       "tensor([[ 2,  2,  4],\n",
       "        [ 5,  5,  7],\n",
       "        [ 8,  8, 10],\n",
       "        [11, 11, 13]])"
      ]
     },
     "execution_count": 1,
     "metadata": {},
     "output_type": "execute_result"
    }
   ],
   "source": [
    "y = x + v  # Add v to each row of x using broadcasting\n",
    "y"
   ]
  },
  {
   "cell_type": "code",
   "execution_count": 147,
   "metadata": {
    "execution": {
     "iopub.execute_input": "2020-10-22T06:35:15.498654Z",
     "iopub.status.busy": "2020-10-22T06:35:15.498192Z",
     "iopub.status.idle": "2020-10-22T06:35:15.519188Z",
     "shell.execute_reply": "2020-10-22T06:35:15.519699Z"
    }
   },
   "outputs": [],
   "source": [
    "# adding dimensions: expand_dims, unsqueeze, [None]\n",
    "# creating random data"
   ]
  }
 ],
 "metadata": {
  "celltoolbar": "Slideshow",
  "kernelspec": {
   "display_name": "Python 3",
   "language": "python",
   "name": "python3"
  },
  "language_info": {
   "codemirror_mode": {
    "name": "ipython",
    "version": 3
   },
   "file_extension": ".py",
   "mimetype": "text/x-python",
   "name": "python",
   "nbconvert_exporter": "python",
   "pygments_lexer": "ipython3",
   "version": "3.8.6"
  },
  "toc-autonumbering": false
 },
 "nbformat": 4,
 "nbformat_minor": 4
}

{
 "cells": [
  {
   "cell_type": "markdown",
   "metadata": {
    "slideshow": {
     "slide_type": "slide"
    }
   },
   "source": [
    "$$\n",
    "\\newcommand{\\mat}[1]{\\boldsymbol {#1}}\n",
    "\\newcommand{\\mattr}[1]{\\boldsymbol {#1}^\\top}\n",
    "\\newcommand{\\matinv}[1]{\\boldsymbol {#1}^{-1}}\n",
    "\\newcommand{\\vec}[1]{\\boldsymbol {#1}}\n",
    "\\newcommand{\\vectr}[1]{\\boldsymbol {#1}^\\top}\n",
    "\\newcommand{\\rvar}[1]{\\mathrm {#1}}\n",
    "\\newcommand{\\rvec}[1]{\\boldsymbol{\\mathrm{#1}}}\n",
    "\\newcommand{\\diag}{\\mathop{\\mathrm {diag}}}\n",
    "\\newcommand{\\set}[1]{\\mathbb {#1}}\n",
    "\\newcommand{\\norm}[1]{\\left\\lVert#1\\right\\rVert}\n",
    "\\newcommand{\\pderiv}[2]{\\frac{\\partial #1}{\\partial #2}}\n",
    "\\newcommand{\\bb}[1]{\\boldsymbol{#1}}\n",
    "$$\n",
    "\n",
    "# CS236781: Deep Learning\n",
    "# Tutorial 6: Sequence Models"
   ]
  },
  {
   "cell_type": "markdown",
   "metadata": {
    "slideshow": {
     "slide_type": "subslide"
    }
   },
   "source": [
    "## Introduction\n",
    "\n",
    "In this tutorial, we will cover:\n",
    "\n",
    "- What RNNs are and how they work\n",
    "- Implementing basic RNNs models\n",
    "- Application example: sentiment analysis of movie reviews\n",
    "- Temporal Convolution Networks as an RNN alternative"
   ]
  },
  {
   "cell_type": "code",
   "execution_count": 1,
   "metadata": {
    "execution": {
     "iopub.execute_input": "2020-11-26T08:43:42.929339Z",
     "iopub.status.busy": "2020-11-26T08:43:42.928243Z",
     "iopub.status.idle": "2020-11-26T08:43:44.051287Z",
     "shell.execute_reply": "2020-11-26T08:43:44.051851Z"
    },
    "slideshow": {
     "slide_type": "subslide"
    }
   },
   "outputs": [],
   "source": [
    "# Setup\n",
    "%matplotlib inline\n",
    "import os\n",
    "import sys\n",
    "import time\n",
    "import torch\n",
    "import matplotlib.pyplot as plt\n",
    "import warnings\n",
    "warnings.simplefilter(\"ignore\")"
   ]
  },
  {
   "cell_type": "code",
   "execution_count": 2,
   "metadata": {
    "execution": {
     "iopub.execute_input": "2020-11-26T08:43:44.055452Z",
     "iopub.status.busy": "2020-11-26T08:43:44.054974Z",
     "iopub.status.idle": "2020-11-26T08:43:44.076157Z",
     "shell.execute_reply": "2020-11-26T08:43:44.076678Z"
    },
    "slideshow": {
     "slide_type": "fragment"
    }
   },
   "outputs": [],
   "source": [
    "plt.rcParams['font.size'] = 20\n",
    "data_dir = os.path.expanduser('~/.pytorch-datasets')\n",
    "device = torch.device('cuda' if torch.cuda.is_available() else 'cpu')"
   ]
  },
  {
   "cell_type": "markdown",
   "metadata": {
    "slideshow": {
     "slide_type": "slide"
    }
   },
   "source": [
    "## Theory Reminders"
   ]
  },
  {
   "cell_type": "markdown",
   "metadata": {
    "slideshow": {
     "slide_type": "fragment"
    }
   },
   "source": [
    "Thus far, our models have been composed of fully connected (linear) layers or convolutional layers."
   ]
  },
  {
   "cell_type": "markdown",
   "metadata": {
    "slideshow": {
     "slide_type": "subslide"
    }
   },
   "source": [
    "- Fully connected layers\n",
    "    - Each layer $l$ operates on the output of the previous layer ($\\vec{y}_{l-1}$) and calculates,\n",
    "        $$\n",
    "        \\vec{y}_l = \\varphi\\left( \\mat{W}_l \\vec{y}_{l-1} + \\vec{b}_l \\right),~\n",
    "        \\mat{W}_l\\in\\set{R}^{n_{l}\\times n_{l-1}},~ \\vec{b}_l\\in\\set{R}^{n_l}.\n",
    "        $$\n",
    "    - FC's have completely pre-fixed input and output dimensions.\n",
    "    \n",
    "    <center><img src=\"img/mlp.png\" width=\"600\" /></center>"
   ]
  },
  {
   "cell_type": "markdown",
   "metadata": {
    "slideshow": {
     "slide_type": "subslide"
    }
   },
   "source": [
    "- Convolutional layers\n",
    "    - Each layer operates on an input tensor $\\vec{x}$ containing $M$ feature maps. The $k$-th feature map of the output tensor $\\vec{y}$ is:\n",
    "        $$\n",
    "        \\vec{y}^k = \\sum_{m=1}^{M} \\vec{w}^{km}\\ast\\vec{x}^m+b^k,\\ k\\in[1,K]\n",
    "        $$\n",
    "      Where $\\ast$ denotes convolution, and $K$ is the number of output feature maps.\n",
    "      \n",
    "      <center><img src=\"img/cnn_filters.png\" width=\"500\"/></center>\n",
    "      \n",
    "    - This time the weight dimensions are not dependent on the input dimensions.\n",
    "    - Weights are shared across the spatial dimensions of the input.\n",
    "    - Output dimension changes based on input dimension.\n"
   ]
  },
  {
   "cell_type": "markdown",
   "metadata": {
    "slideshow": {
     "slide_type": "subslide"
    }
   },
   "source": [
    "However,\n",
    "- Models based on these types of layers lack **persistent state**. \n",
    "- The current output is not affected by **previous inputs** (or outputs)."
   ]
  },
  {
   "cell_type": "markdown",
   "metadata": {
    "slideshow": {
     "slide_type": "subslide"
    }
   },
   "source": [
    "How can we model a dynamical system?\n",
    "E.g., a linear system such as\n",
    "\n",
    "$$\\vec{y}_t = a_0 + a_1 \\vec{y}_{t-1}+\\dots+a_P \\vec{y}_{t-P} + b_0 \\vec{x}_t+\\dots+b_{t-Q}\\vec{x}_{t-Q}$$\n",
    "\n",
    "Many use cases and examples: text translation, sentiment analysis, scene classification in video, etc."
   ]
  },
  {
   "cell_type": "markdown",
   "metadata": {
    "slideshow": {
     "slide_type": "slide"
    }
   },
   "source": [
    "## Recurrent layers"
   ]
  },
  {
   "cell_type": "markdown",
   "metadata": {
    "slideshow": {
     "slide_type": "subslide"
    }
   },
   "source": [
    "An RNN layer is similar to a regular FC layer, but it has two inputs:\n",
    "- Current sample, $\\vec{x}_t \\in\\set{R}^{d_{i}}$.\n",
    "- Previous **state**, $\\vec{h}_{t-1}\\in\\set{r}^{d_{h}}$.\n",
    "\n",
    "and it produces two outputs which depend on both:\n",
    "- Current layer output, $\\vec{y}_t\\in\\set{R}^{d_o}$.\n",
    "- Current **state**, $\\vec{h}_{t}\\in\\set{r}^{d_{h}}$."
   ]
  },
  {
   "cell_type": "markdown",
   "metadata": {
    "slideshow": {
     "slide_type": "subslide"
    }
   },
   "source": [
    "<center><img src=\"img/rnn_cell.png\" width=\"400\"/></center>\n",
    "\n",
    "Crucially,\n",
    "- The function $\\varphi(\\cdot)$ itself is not time-dependent (but is parametrized).\n",
    "- The same layer (function) is applied at successive time steps, propagating the hidden state."
   ]
  },
  {
   "cell_type": "markdown",
   "metadata": {
    "slideshow": {
     "slide_type": "subslide"
    }
   },
   "source": [
    "A basic RNN can be defined as follows.\n",
    "\n",
    "$$\n",
    "\\begin{align}\n",
    "\\forall t \\geq 0:\\\\\n",
    "\\vec{h}_t &= \\varphi_h\\left( \\mat{W}_{hh} \\vec{h}_{t-1} + \\mat{W}_{xh} \\vec{x}_t + \\vec{b}_h\\right) \\\\\n",
    "\\vec{y}_t &= \\varphi_y\\left(\\mat{W}_{hy}\\vec{h}_t + \\vec{b}_y \\right)\n",
    "\\end{align}\n",
    "$$\n",
    "\n",
    "where,\n",
    "- $\\vec{x}_t \\in\\set{R}^{d_{i}}$ is the input at time $t$.\n",
    "- $\\vec{h}_{t-1}\\in\\set{R}^{d_{h}}$ is the **hidden state** of a fixed dimension.\n",
    "- $\\vec{y}_t\\in\\set{R}^{d_o}$ is the output at time $t$.\n",
    "- $\\mat{W}_{hh}\\in\\set{R}^{d_h\\times d_h}$, $\\mat{W}_{xh}\\in\\set{R}^{d_h\\times d_i}$, $\\mat{W}_{hy}\\in\\set{R}^{d_o\\times d_h}$, $\\vec{b}_h\\in\\set{R}^{d_h}$ and $\\vec{b}_y\\in\\set{R}^{d_o}$ are the model weights and biases.\n",
    "- $\\varphi_h$ and $\\varphi_y$ are some non-linear functions. In many cases $\\varphi_y$ is not used."
   ]
  },
  {
   "cell_type": "markdown",
   "metadata": {
    "slideshow": {
     "slide_type": "subslide"
    }
   },
   "source": [
    "### Modeling time-dependence\n",
    "\n",
    "If we imagine **unrolling** a single RNN layer through time,\n",
    "<center><img src=\"img/rnn_unrolled.png\" width=\"1200\" /></center>\n",
    "\n",
    "We can see how late outputs can now be influenced by early inputs, through the hidden state."
   ]
  },
  {
   "cell_type": "markdown",
   "metadata": {
    "slideshow": {
     "slide_type": "subslide"
    }
   },
   "source": [
    "RNN models are very flexible in terms of input and output meaning.\n",
    "\n",
    "Common applications include image captioning, sentiment analysis, machine translation and more. \n",
    "\n",
    "<center><img src=\"img/rnn_use_cases.jpeg\" width=\"1200\"/></center>\n"
   ]
  },
  {
   "cell_type": "markdown",
   "metadata": {
    "slideshow": {
     "slide_type": "subslide"
    }
   },
   "source": [
    "How would **backpropagation** work, though?"
   ]
  },
  {
   "cell_type": "markdown",
   "metadata": {
    "slideshow": {
     "slide_type": "fragment"
    }
   },
   "source": [
    "<center><img src=\"img/bptt.png\" width=\"1000\"></center>\n",
    "\n",
    "1. Calculated loss from each output and accumulate\n",
    "2. Calculate Gradient of loss w.r.t. each parameter at each timestep\n",
    "3. For each parameter, accumulate gradients from all timesteps"
   ]
  },
  {
   "cell_type": "markdown",
   "metadata": {
    "slideshow": {
     "slide_type": "subslide"
    }
   },
   "source": [
    "This is known as **Backpropagation through time**, or BPTT.\n",
    "\n",
    "$$\n",
    "\\pderiv{L_t}{\\mat{W}} = \\sum_{k=1}^{t}\n",
    "\\pderiv{L_t}{\\hat y_t} \\cdot\n",
    "\\pderiv{\\hat y_t}{\\vec{h}_t} \\cdot\n",
    "\\pderiv{\\vec{h}_t}{\\vec{h}_k} \\cdot\n",
    "\\pderiv{\\vec{h}_k}{\\mat{W}}\n",
    "$$\n",
    "\n",
    "But how far back do we go? What's the limiting factor?"
   ]
  },
  {
   "cell_type": "markdown",
   "metadata": {
    "slideshow": {
     "slide_type": "subslide"
    }
   },
   "source": [
    "We're limited in depth by vanishing and exploding gradients controlled by the eigenvalues of $\\mat{W}$.\n",
    "\n",
    "One pragmatic solution is to limit the number of timesteps involved in the backpropagation.\n",
    "\n",
    "<center><img src=\"img/tbptt.png\" width=\"1000\"></center>\n",
    "\n",
    "This is known as **Truncated backpropagation through time**, or TBPTT."
   ]
  },
  {
   "cell_type": "markdown",
   "metadata": {
    "slideshow": {
     "slide_type": "slide"
    }
   },
   "source": [
    "### Multi-layered (deep) RNN"
   ]
  },
  {
   "cell_type": "markdown",
   "metadata": {
    "slideshow": {
     "slide_type": "subslide"
    }
   },
   "source": [
    "RNNs layers can be stacked to build a deep RNN model.\n",
    "\n",
    "<center><img src=\"img/rnn_layered.png\" width=\"1200\"/></center>\n",
    "\n",
    "- As with MLPs, adding depth allows us to model intricate hierarchical features.\n",
    "- However, now we also have a time dimension which makes the representation time-dependent."
   ]
  },
  {
   "cell_type": "markdown",
   "metadata": {
    "slideshow": {
     "slide_type": "slide"
    }
   },
   "source": [
    "## RNN Implementation"
   ]
  },
  {
   "cell_type": "markdown",
   "metadata": {
    "slideshow": {
     "slide_type": "fragment"
    }
   },
   "source": [
    "Based on the above equations, let's create a simple RNN layer  with PyTorch."
   ]
  },
  {
   "cell_type": "code",
   "execution_count": 3,
   "metadata": {
    "execution": {
     "iopub.execute_input": "2020-11-26T08:43:44.082898Z",
     "iopub.status.busy": "2020-11-26T08:43:44.082381Z",
     "iopub.status.idle": "2020-11-26T08:43:44.103042Z",
     "shell.execute_reply": "2020-11-26T08:43:44.103574Z"
    },
    "slideshow": {
     "slide_type": "subslide"
    }
   },
   "outputs": [],
   "source": [
    "import torch.nn as nn\n",
    "\n",
    "class RNNLayer(nn.Module):\n",
    "    def __init__(self, in_dim, h_dim, out_dim, phi_h=torch.tanh, phi_y=torch.sigmoid):\n",
    "        super().__init__()\n",
    "        self.phi_h, self.phi_y = phi_h, phi_y\n",
    "        \n",
    "        self.fc_xh = nn.Linear(in_dim, h_dim, bias=False)\n",
    "        self.fc_hh = nn.Linear(h_dim, h_dim, bias=True)\n",
    "        self.fc_hy = nn.Linear(h_dim, out_dim, bias=True)\n",
    "        \n",
    "    def forward(self, xt, h_prev=None):\n",
    "        if h_prev is None:\n",
    "            h_prev = torch.zeros(xt.shape[0], self.fc_hh.in_features)\n",
    "        \n",
    "        ht = self.phi_h(self.fc_xh(xt) + self.fc_hh(h_prev))\n",
    "        \n",
    "        yt = self.fc_hy(ht)\n",
    "        \n",
    "        if self.phi_y is not None:\n",
    "            yt = self.phi_y(yt)\n",
    "        \n",
    "        return yt, ht\n",
    "        "
   ]
  },
  {
   "cell_type": "markdown",
   "metadata": {
    "slideshow": {
     "slide_type": "subslide"
    }
   },
   "source": [
    "We'll instantiate our model"
   ]
  },
  {
   "cell_type": "code",
   "execution_count": 4,
   "metadata": {
    "execution": {
     "iopub.execute_input": "2020-11-26T08:43:44.106946Z",
     "iopub.status.busy": "2020-11-26T08:43:44.106451Z",
     "iopub.status.idle": "2020-11-26T08:43:44.128928Z",
     "shell.execute_reply": "2020-11-26T08:43:44.129479Z"
    },
    "slideshow": {
     "slide_type": "fragment"
    }
   },
   "outputs": [
    {
     "data": {
      "text/plain": [
       "RNNLayer(\n",
       "  (fc_xh): Linear(in_features=1024, out_features=10, bias=False)\n",
       "  (fc_hh): Linear(in_features=10, out_features=10, bias=True)\n",
       "  (fc_hy): Linear(in_features=10, out_features=1, bias=True)\n",
       ")"
      ]
     },
     "execution_count": 1,
     "metadata": {},
     "output_type": "execute_result"
    }
   ],
   "source": [
    "N = 3 # batch size\n",
    "in_dim, h_dim, out_dim = 1024, 10, 1\n",
    "\n",
    "rnn = RNNLayer(in_dim, h_dim, out_dim)\n",
    "rnn"
   ]
  },
  {
   "cell_type": "markdown",
   "metadata": {
    "slideshow": {
     "slide_type": "subslide"
    }
   },
   "source": [
    "And manually \"run\" a few time steps"
   ]
  },
  {
   "cell_type": "code",
   "execution_count": 5,
   "metadata": {
    "execution": {
     "iopub.execute_input": "2020-11-26T08:43:44.133253Z",
     "iopub.status.busy": "2020-11-26T08:43:44.132760Z",
     "iopub.status.idle": "2020-11-26T08:43:44.159900Z",
     "shell.execute_reply": "2020-11-26T08:43:44.160471Z"
    },
    "slideshow": {
     "slide_type": "subslide"
    }
   },
   "outputs": [
    {
     "name": "stdout",
     "output_type": "stream",
     "text": [
      "y1 ((3, 1)):\n",
      "tensor([[0.5027],\n",
      "        [0.4004],\n",
      "        [0.5430]], grad_fn=<SigmoidBackward>)\n",
      "h1 ((3, 10)):\n",
      "tensor([[-0.3465,  0.0188, -0.0460, -0.4608,  0.3661, -0.1806, -0.7762,  0.0407,\n",
      "          0.6658, -0.4800],\n",
      "        [-0.0537,  0.1624, -0.3079, -0.4178,  0.0430,  0.6472, -0.0326, -0.2840,\n",
      "          0.0679,  0.0440],\n",
      "        [ 0.9145,  0.3448, -0.3053, -0.5672,  0.8233,  0.2197, -0.1931, -0.3775,\n",
      "          0.9000, -0.6859]], grad_fn=<TanhBackward>)\n",
      "\n",
      "y2 ((3, 1)):\n",
      "tensor([[0.4495],\n",
      "        [0.3630],\n",
      "        [0.5264]], grad_fn=<SigmoidBackward>)\n",
      "h2 ((3, 10)):\n",
      "tensor([[-0.3410, -0.2271,  0.6391,  0.8916,  0.2357, -0.3374,  0.6691,  0.0572,\n",
      "          0.4378, -0.1701],\n",
      "        [-0.7023,  0.5939, -0.5639,  0.3164, -0.1061, -0.8601, -0.2664, -0.4802,\n",
      "          0.3591,  0.1681],\n",
      "        [ 0.2323, -0.8631, -0.4461, -0.7311,  0.4754, -0.1451, -0.6760,  0.8218,\n",
      "          0.0050, -0.9708]], grad_fn=<TanhBackward>)\n",
      "\n"
     ]
    }
   ],
   "source": [
    "# t=1\n",
    "x1 = torch.randn(N, in_dim, requires_grad=True) # requiring grad just for torchviz\n",
    "y1, h1 = rnn(x1)\n",
    "print(f'y1 ({tuple(y1.shape)}):\\n{y1}')\n",
    "print(f'h1 ({tuple(h1.shape)}):\\n{h1}\\n')\n",
    "\n",
    "# t=2\n",
    "x2 = torch.randn(N, in_dim, requires_grad=True)\n",
    "y2, h2 = rnn(x2, h1)\n",
    "print(f'y2 ({tuple(y2.shape)}):\\n{y2}')\n",
    "print(f'h2 ({tuple(h2.shape)}):\\n{h2}\\n')"
   ]
  },
  {
   "cell_type": "markdown",
   "metadata": {
    "slideshow": {
     "slide_type": "subslide"
    }
   },
   "source": [
    "As usual, let's visualize the computation graph and see what happened when we used the same RNN block twice, by looking at the graph from both $y_1$ and $y_2$."
   ]
  },
  {
   "cell_type": "code",
   "execution_count": 6,
   "metadata": {
    "execution": {
     "iopub.execute_input": "2020-11-26T08:43:44.164116Z",
     "iopub.status.busy": "2020-11-26T08:43:44.163568Z",
     "iopub.status.idle": "2020-11-26T08:43:44.248087Z",
     "shell.execute_reply": "2020-11-26T08:43:44.248655Z"
    },
    "slideshow": {
     "slide_type": "subslide"
    }
   },
   "outputs": [
    {
     "data": {
      "image/svg+xml": [
       "<?xml version=\"1.0\" encoding=\"UTF-8\" standalone=\"no\"?>\n",
       "<!DOCTYPE svg PUBLIC \"-//W3C//DTD SVG 1.1//EN\"\n",
       " \"http://www.w3.org/Graphics/SVG/1.1/DTD/svg11.dtd\">\n",
       "<!-- Generated by graphviz version 2.42.3 (20191010.1750)\n",
       " -->\n",
       "<!-- Title: %3 Pages: 1 -->\n",
       "<svg width=\"350pt\" height=\"412pt\"\n",
       " viewBox=\"0.00 0.00 349.99 412.00\" xmlns=\"http://www.w3.org/2000/svg\" xmlns:xlink=\"http://www.w3.org/1999/xlink\">\n",
       "<g id=\"graph0\" class=\"graph\" transform=\"scale(1 1) rotate(0) translate(4 408)\">\n",
       "<title>%3</title>\n",
       "<polygon fill=\"white\" stroke=\"transparent\" points=\"-4,4 -4,-408 345.99,-408 345.99,4 -4,4\"/>\n",
       "<!-- 140504225489584 -->\n",
       "<g id=\"node1\" class=\"node\">\n",
       "<title>140504225489584</title>\n",
       "<polygon fill=\"#caff70\" stroke=\"black\" points=\"220.32,-20 114.68,-20 114.68,0 220.32,0 220.32,-20\"/>\n",
       "<text text-anchor=\"middle\" x=\"167.5\" y=\"-6.4\" font-family=\"Times,serif\" font-size=\"12.00\">SigmoidBackward</text>\n",
       "</g>\n",
       "<!-- 140504225489824 -->\n",
       "<g id=\"node2\" class=\"node\">\n",
       "<title>140504225489824</title>\n",
       "<polygon fill=\"lightgrey\" stroke=\"black\" points=\"219.47,-76 115.52,-76 115.52,-56 219.47,-56 219.47,-76\"/>\n",
       "<text text-anchor=\"middle\" x=\"167.5\" y=\"-62.4\" font-family=\"Times,serif\" font-size=\"12.00\">AddmmBackward</text>\n",
       "</g>\n",
       "<!-- 140504225489824&#45;&gt;140504225489584 -->\n",
       "<g id=\"edge1\" class=\"edge\">\n",
       "<title>140504225489824&#45;&gt;140504225489584</title>\n",
       "<path fill=\"none\" stroke=\"black\" d=\"M167.5,-55.59C167.5,-48.7 167.5,-39.1 167.5,-30.57\"/>\n",
       "<polygon fill=\"black\" stroke=\"black\" points=\"171,-30.3 167.5,-20.3 164,-30.3 171,-30.3\"/>\n",
       "</g>\n",
       "<!-- 140504280352656 -->\n",
       "<g id=\"node3\" class=\"node\">\n",
       "<title>140504280352656</title>\n",
       "<polygon fill=\"lightblue\" stroke=\"black\" points=\"104.87,-144 40.12,-144 40.12,-112 104.87,-112 104.87,-144\"/>\n",
       "<text text-anchor=\"middle\" x=\"72.5\" y=\"-130.4\" font-family=\"Times,serif\" font-size=\"12.00\">fc_hy.bias</text>\n",
       "<text text-anchor=\"middle\" x=\"72.5\" y=\"-118.4\" font-family=\"Times,serif\" font-size=\"12.00\"> (1)</text>\n",
       "</g>\n",
       "<!-- 140504280352656&#45;&gt;140504225489824 -->\n",
       "<g id=\"edge2\" class=\"edge\">\n",
       "<title>140504280352656&#45;&gt;140504225489824</title>\n",
       "<path fill=\"none\" stroke=\"black\" d=\"M96.47,-111.86C111.08,-102.63 129.66,-90.9 144.15,-81.74\"/>\n",
       "<polygon fill=\"black\" stroke=\"black\" points=\"146.42,-84.45 153,-76.15 142.68,-78.53 146.42,-84.45\"/>\n",
       "</g>\n",
       "<!-- 140504280352704 -->\n",
       "<g id=\"node4\" class=\"node\">\n",
       "<title>140504280352704</title>\n",
       "<polygon fill=\"lightgrey\" stroke=\"black\" points=\"211.96,-138 123.03,-138 123.03,-118 211.96,-118 211.96,-138\"/>\n",
       "<text text-anchor=\"middle\" x=\"167.5\" y=\"-124.4\" font-family=\"Times,serif\" font-size=\"12.00\">TanhBackward</text>\n",
       "</g>\n",
       "<!-- 140504280352704&#45;&gt;140504225489824 -->\n",
       "<g id=\"edge3\" class=\"edge\">\n",
       "<title>140504280352704&#45;&gt;140504225489824</title>\n",
       "<path fill=\"none\" stroke=\"black\" d=\"M167.5,-117.89C167.5,-109.52 167.5,-96.84 167.5,-86.23\"/>\n",
       "<polygon fill=\"black\" stroke=\"black\" points=\"171,-86.2 167.5,-76.2 164,-86.2 171,-86.2\"/>\n",
       "</g>\n",
       "<!-- 140504280353088 -->\n",
       "<g id=\"node5\" class=\"node\">\n",
       "<title>140504280353088</title>\n",
       "<polygon fill=\"lightgrey\" stroke=\"black\" points=\"211.31,-206 119.69,-206 119.69,-186 211.31,-186 211.31,-206\"/>\n",
       "<text text-anchor=\"middle\" x=\"165.5\" y=\"-192.4\" font-family=\"Times,serif\" font-size=\"12.00\">AddBackward0</text>\n",
       "</g>\n",
       "<!-- 140504280353088&#45;&gt;140504280352704 -->\n",
       "<g id=\"edge4\" class=\"edge\">\n",
       "<title>140504280353088&#45;&gt;140504280352704</title>\n",
       "<path fill=\"none\" stroke=\"black\" d=\"M165.77,-185.82C166.07,-176.17 166.54,-160.69 166.91,-148.32\"/>\n",
       "<polygon fill=\"black\" stroke=\"black\" points=\"170.42,-148.2 167.22,-138.1 163.42,-147.99 170.42,-148.2\"/>\n",
       "</g>\n",
       "<!-- 140504280353136 -->\n",
       "<g id=\"node6\" class=\"node\">\n",
       "<title>140504280353136</title>\n",
       "<polygon fill=\"lightgrey\" stroke=\"black\" points=\"151.65,-268 67.35,-268 67.35,-248 151.65,-248 151.65,-268\"/>\n",
       "<text text-anchor=\"middle\" x=\"109.5\" y=\"-254.4\" font-family=\"Times,serif\" font-size=\"12.00\">MmBackward</text>\n",
       "</g>\n",
       "<!-- 140504280353136&#45;&gt;140504280353088 -->\n",
       "<g id=\"edge5\" class=\"edge\">\n",
       "<title>140504280353136&#45;&gt;140504280353088</title>\n",
       "<path fill=\"none\" stroke=\"black\" d=\"M118,-247.89C126.47,-238.81 139.67,-224.68 150,-213.6\"/>\n",
       "<polygon fill=\"black\" stroke=\"black\" points=\"152.65,-215.9 156.91,-206.2 147.53,-211.12 152.65,-215.9\"/>\n",
       "</g>\n",
       "<!-- 140504280352944 -->\n",
       "<g id=\"node7\" class=\"node\">\n",
       "<title>140504280352944</title>\n",
       "<polygon fill=\"lightblue\" stroke=\"black\" points=\"62.99,-336 0,-336 0,-304 62.99,-304 62.99,-336\"/>\n",
       "<text text-anchor=\"middle\" x=\"31.5\" y=\"-322.4\" font-family=\"Times,serif\" font-size=\"12.00\">x1</text>\n",
       "<text text-anchor=\"middle\" x=\"31.5\" y=\"-310.4\" font-family=\"Times,serif\" font-size=\"12.00\"> (3, 1024)</text>\n",
       "</g>\n",
       "<!-- 140504280352944&#45;&gt;140504280353136 -->\n",
       "<g id=\"edge6\" class=\"edge\">\n",
       "<title>140504280352944&#45;&gt;140504280353136</title>\n",
       "<path fill=\"none\" stroke=\"black\" d=\"M51.18,-303.86C62.95,-294.81 77.85,-283.34 89.65,-274.27\"/>\n",
       "<polygon fill=\"black\" stroke=\"black\" points=\"91.8,-277.02 97.6,-268.15 87.54,-271.48 91.8,-277.02\"/>\n",
       "</g>\n",
       "<!-- 140504280352896 -->\n",
       "<g id=\"node8\" class=\"node\">\n",
       "<title>140504280352896</title>\n",
       "<polygon fill=\"lightgrey\" stroke=\"black\" points=\"152.47,-330 80.52,-330 80.52,-310 152.47,-310 152.47,-330\"/>\n",
       "<text text-anchor=\"middle\" x=\"116.5\" y=\"-316.4\" font-family=\"Times,serif\" font-size=\"12.00\">TBackward</text>\n",
       "</g>\n",
       "<!-- 140504280352896&#45;&gt;140504280353136 -->\n",
       "<g id=\"edge7\" class=\"edge\">\n",
       "<title>140504280352896&#45;&gt;140504280353136</title>\n",
       "<path fill=\"none\" stroke=\"black\" d=\"M115.43,-309.89C114.46,-301.52 112.98,-288.84 111.74,-278.23\"/>\n",
       "<polygon fill=\"black\" stroke=\"black\" points=\"115.2,-277.73 110.57,-268.2 108.25,-278.54 115.2,-277.73\"/>\n",
       "</g>\n",
       "<!-- 140504280353280 -->\n",
       "<g id=\"node9\" class=\"node\">\n",
       "<title>140504280353280</title>\n",
       "<polygon fill=\"lightblue\" stroke=\"black\" points=\"155.98,-404 77.01,-404 77.01,-372 155.98,-372 155.98,-404\"/>\n",
       "<text text-anchor=\"middle\" x=\"116.5\" y=\"-390.4\" font-family=\"Times,serif\" font-size=\"12.00\">fc_xh.weight</text>\n",
       "<text text-anchor=\"middle\" x=\"116.5\" y=\"-378.4\" font-family=\"Times,serif\" font-size=\"12.00\"> (10, 1024)</text>\n",
       "</g>\n",
       "<!-- 140504280353280&#45;&gt;140504280352896 -->\n",
       "<g id=\"edge8\" class=\"edge\">\n",
       "<title>140504280353280&#45;&gt;140504280352896</title>\n",
       "<path fill=\"none\" stroke=\"black\" d=\"M116.5,-371.69C116.5,-362.4 116.5,-350.44 116.5,-340.47\"/>\n",
       "<polygon fill=\"black\" stroke=\"black\" points=\"120,-340.32 116.5,-330.32 113,-340.32 120,-340.32\"/>\n",
       "</g>\n",
       "<!-- 140504280353184 -->\n",
       "<g id=\"node10\" class=\"node\">\n",
       "<title>140504280353184</title>\n",
       "<polygon fill=\"lightgrey\" stroke=\"black\" points=\"273.47,-268 169.52,-268 169.52,-248 273.47,-248 273.47,-268\"/>\n",
       "<text text-anchor=\"middle\" x=\"221.5\" y=\"-254.4\" font-family=\"Times,serif\" font-size=\"12.00\">AddmmBackward</text>\n",
       "</g>\n",
       "<!-- 140504280353184&#45;&gt;140504280353088 -->\n",
       "<g id=\"edge9\" class=\"edge\">\n",
       "<title>140504280353184&#45;&gt;140504280353088</title>\n",
       "<path fill=\"none\" stroke=\"black\" d=\"M212.99,-247.89C204.52,-238.81 191.33,-224.68 180.99,-213.6\"/>\n",
       "<polygon fill=\"black\" stroke=\"black\" points=\"183.46,-211.12 174.08,-206.2 178.35,-215.9 183.46,-211.12\"/>\n",
       "</g>\n",
       "<!-- 140504280353232 -->\n",
       "<g id=\"node11\" class=\"node\">\n",
       "<title>140504280353232</title>\n",
       "<polygon fill=\"lightblue\" stroke=\"black\" points=\"248.15,-336 182.84,-336 182.84,-304 248.15,-304 248.15,-336\"/>\n",
       "<text text-anchor=\"middle\" x=\"215.5\" y=\"-322.4\" font-family=\"Times,serif\" font-size=\"12.00\">fc_hh.bias</text>\n",
       "<text text-anchor=\"middle\" x=\"215.5\" y=\"-310.4\" font-family=\"Times,serif\" font-size=\"12.00\"> (10)</text>\n",
       "</g>\n",
       "<!-- 140504280353232&#45;&gt;140504280353184 -->\n",
       "<g id=\"edge10\" class=\"edge\">\n",
       "<title>140504280353232&#45;&gt;140504280353184</title>\n",
       "<path fill=\"none\" stroke=\"black\" d=\"M217.01,-303.86C217.78,-296.13 218.73,-286.63 219.56,-278.37\"/>\n",
       "<polygon fill=\"black\" stroke=\"black\" points=\"223.07,-278.45 220.58,-268.15 216.1,-277.76 223.07,-278.45\"/>\n",
       "</g>\n",
       "<!-- 140504280353328 -->\n",
       "<g id=\"node12\" class=\"node\">\n",
       "<title>140504280353328</title>\n",
       "<polygon fill=\"lightgrey\" stroke=\"black\" points=\"338.47,-330 266.52,-330 266.52,-310 338.47,-310 338.47,-330\"/>\n",
       "<text text-anchor=\"middle\" x=\"302.5\" y=\"-316.4\" font-family=\"Times,serif\" font-size=\"12.00\">TBackward</text>\n",
       "</g>\n",
       "<!-- 140504280353328&#45;&gt;140504280353184 -->\n",
       "<g id=\"edge11\" class=\"edge\">\n",
       "<title>140504280353328&#45;&gt;140504280353184</title>\n",
       "<path fill=\"none\" stroke=\"black\" d=\"M290.19,-309.89C277.39,-300.41 257.13,-285.4 241.92,-274.13\"/>\n",
       "<polygon fill=\"black\" stroke=\"black\" points=\"243.77,-271.14 233.65,-268 239.6,-276.77 243.77,-271.14\"/>\n",
       "</g>\n",
       "<!-- 140504280353424 -->\n",
       "<g id=\"node13\" class=\"node\">\n",
       "<title>140504280353424</title>\n",
       "<polygon fill=\"lightblue\" stroke=\"black\" points=\"341.98,-404 263.01,-404 263.01,-372 341.98,-372 341.98,-404\"/>\n",
       "<text text-anchor=\"middle\" x=\"302.5\" y=\"-390.4\" font-family=\"Times,serif\" font-size=\"12.00\">fc_hh.weight</text>\n",
       "<text text-anchor=\"middle\" x=\"302.5\" y=\"-378.4\" font-family=\"Times,serif\" font-size=\"12.00\"> (10, 10)</text>\n",
       "</g>\n",
       "<!-- 140504280353424&#45;&gt;140504280353328 -->\n",
       "<g id=\"edge12\" class=\"edge\">\n",
       "<title>140504280353424&#45;&gt;140504280353328</title>\n",
       "<path fill=\"none\" stroke=\"black\" d=\"M302.5,-371.69C302.5,-362.4 302.5,-350.44 302.5,-340.47\"/>\n",
       "<polygon fill=\"black\" stroke=\"black\" points=\"306,-340.32 302.5,-330.32 299,-340.32 306,-340.32\"/>\n",
       "</g>\n",
       "<!-- 140504280352752 -->\n",
       "<g id=\"node14\" class=\"node\">\n",
       "<title>140504280352752</title>\n",
       "<polygon fill=\"lightgrey\" stroke=\"black\" points=\"303.47,-138 231.52,-138 231.52,-118 303.47,-118 303.47,-138\"/>\n",
       "<text text-anchor=\"middle\" x=\"267.5\" y=\"-124.4\" font-family=\"Times,serif\" font-size=\"12.00\">TBackward</text>\n",
       "</g>\n",
       "<!-- 140504280352752&#45;&gt;140504225489824 -->\n",
       "<g id=\"edge13\" class=\"edge\">\n",
       "<title>140504280352752&#45;&gt;140504225489824</title>\n",
       "<path fill=\"none\" stroke=\"black\" d=\"M252.31,-117.89C236.06,-108.14 210.08,-92.55 191.15,-81.19\"/>\n",
       "<polygon fill=\"black\" stroke=\"black\" points=\"192.87,-78.15 182.5,-76 189.27,-84.15 192.87,-78.15\"/>\n",
       "</g>\n",
       "<!-- 140504280353040 -->\n",
       "<g id=\"node15\" class=\"node\">\n",
       "<title>140504280353040</title>\n",
       "<polygon fill=\"lightblue\" stroke=\"black\" points=\"307.7,-212 229.29,-212 229.29,-180 307.7,-180 307.7,-212\"/>\n",
       "<text text-anchor=\"middle\" x=\"268.5\" y=\"-198.4\" font-family=\"Times,serif\" font-size=\"12.00\">fc_hy.weight</text>\n",
       "<text text-anchor=\"middle\" x=\"268.5\" y=\"-186.4\" font-family=\"Times,serif\" font-size=\"12.00\"> (1, 10)</text>\n",
       "</g>\n",
       "<!-- 140504280353040&#45;&gt;140504280352752 -->\n",
       "<g id=\"edge14\" class=\"edge\">\n",
       "<title>140504280353040&#45;&gt;140504280352752</title>\n",
       "<path fill=\"none\" stroke=\"black\" d=\"M268.26,-179.69C268.12,-170.4 267.94,-158.44 267.79,-148.47\"/>\n",
       "<polygon fill=\"black\" stroke=\"black\" points=\"271.29,-148.26 267.64,-138.32 264.29,-148.37 271.29,-148.26\"/>\n",
       "</g>\n",
       "</g>\n",
       "</svg>\n"
      ],
      "text/plain": [
       "<graphviz.dot.Digraph at 0x7fc9b0732f70>"
      ]
     },
     "execution_count": 1,
     "metadata": {},
     "output_type": "execute_result"
    }
   ],
   "source": [
    "import torchviz\n",
    "\n",
    "torchviz.make_dot(\n",
    "    y1, # Note: Change here to y1 to see the fullly unrolled graph!\n",
    "    params=dict(list(rnn.named_parameters()) + [('x1', x1), ('x2', x2)])\n",
    ")"
   ]
  },
  {
   "cell_type": "markdown",
   "metadata": {
    "slideshow": {
     "slide_type": "slide"
    }
   },
   "source": [
    "## Part 1: Sentiment analysis for movie reviews"
   ]
  },
  {
   "cell_type": "markdown",
   "metadata": {
    "slideshow": {
     "slide_type": "subslide"
    }
   },
   "source": [
    "The task: Given a review about a movie written by some user, decide whether it's **positive**, **negative** or **neutral**.\n",
    "\n",
    "<center><img src=\"img/sentiment_analysis.png\" width=\"500\" /></center>\n"
   ]
  },
  {
   "cell_type": "markdown",
   "metadata": {
    "slideshow": {
     "slide_type": "subslide"
    }
   },
   "source": [
    "Classically this is considered a challenging task if approached based on keywords alone.\n",
    "\n",
    "Consider:\n",
    "\n",
    "     \"This movie was actually neither that funny, nor super witty.\"\n",
    "     \n",
    "To comprehend such a sentence, it's intuitive to see that some \"state\" must be kept when \"reading\" it."
   ]
  },
  {
   "cell_type": "markdown",
   "metadata": {
    "slideshow": {
     "slide_type": "slide"
    }
   },
   "source": [
    "### Dataset\n",
    "\n",
    "We'll use the [`torchtext`](https://github.com/pytorch/text) package, which provides useful tools for working ith textual data, and also includes some built-in datasets and dataloaders (similar to `torchvision`).\n",
    "\n",
    "Out dataset will be the [Stanford Sentiment Treebank](https://nlp.stanford.edu/sentiment/treebank.html) (SST) dataset, which contains ~10,000 **labeled** movie reviews.\n",
    "\n",
    "The label of each review is either \"positive\", \"neutral\" or \"negative\".\n"
   ]
  },
  {
   "cell_type": "markdown",
   "metadata": {
    "slideshow": {
     "slide_type": "subslide"
    }
   },
   "source": [
    "#### Loading and tokenizing text samples\n",
    "\n",
    "The `torchtext.data.Field` class takes care of splitting text into unique \"tokens\"\n",
    "(~words) and converting it a numerical representation as a sequence of numbers representing\n",
    "the tokens in the text."
   ]
  },
  {
   "cell_type": "code",
   "execution_count": 7,
   "metadata": {
    "execution": {
     "iopub.execute_input": "2020-11-26T08:43:44.252802Z",
     "iopub.status.busy": "2020-11-26T08:43:44.252307Z",
     "iopub.status.idle": "2020-11-26T08:43:45.461646Z",
     "shell.execute_reply": "2020-11-26T08:43:45.462228Z"
    },
    "slideshow": {
     "slide_type": "fragment"
    }
   },
   "outputs": [],
   "source": [
    "import torchtext.data\n",
    "\n",
    "# torchtext Field objects parse text (e.g. a review) and create a tensor representation\n",
    "\n",
    "# This Field object will be used for tokenizing the movie reviews text\n",
    "review_parser = torchtext.data.Field(\n",
    "    sequential=True, use_vocab=True, lower=True,\n",
    "    init_token='<sos>', eos_token='<eos>', dtype=torch.long,\n",
    "    tokenize='spacy', tokenizer_language='en_core_web_sm'\n",
    ")\n",
    "\n",
    "# This Field object converts the text labels into numeric values (0,1,2)\n",
    "label_parser = torchtext.data.Field(\n",
    "    is_target=True, sequential=False, unk_token=None, use_vocab=True\n",
    ")"
   ]
  },
  {
   "cell_type": "code",
   "execution_count": 8,
   "metadata": {
    "execution": {
     "iopub.execute_input": "2020-11-26T08:43:45.465582Z",
     "iopub.status.busy": "2020-11-26T08:43:45.465073Z",
     "iopub.status.idle": "2020-11-26T08:43:49.957133Z",
     "shell.execute_reply": "2020-11-26T08:43:49.956124Z"
    },
    "slideshow": {
     "slide_type": "subslide"
    }
   },
   "outputs": [
    {
     "name": "stdout",
     "output_type": "stream",
     "text": [
      "Number of training samples: 8544\n",
      "Number of test     samples: 2210\n"
     ]
    }
   ],
   "source": [
    "import torchtext.datasets\n",
    "\n",
    "# Load SST, tokenize the samples and labels\n",
    "# ds_X are Dataset objects which will use the parsers to return tensors\n",
    "ds_train, ds_valid, ds_test = torchtext.datasets.SST.splits(\n",
    "    review_parser, label_parser, root=data_dir\n",
    ")\n",
    "\n",
    "n_train = len(ds_train)\n",
    "print(f'Number of training samples: {n_train}')\n",
    "print(f'Number of test     samples: {len(ds_test)}')"
   ]
  },
  {
   "cell_type": "markdown",
   "metadata": {
    "slideshow": {
     "slide_type": "subslide"
    }
   },
   "source": [
    "Lets print some examples from our training data:"
   ]
  },
  {
   "cell_type": "code",
   "execution_count": 9,
   "metadata": {
    "execution": {
     "iopub.execute_input": "2020-11-26T08:43:49.967966Z",
     "iopub.status.busy": "2020-11-26T08:43:49.966945Z",
     "iopub.status.idle": "2020-11-26T08:43:50.042931Z",
     "shell.execute_reply": "2020-11-26T08:43:50.043489Z"
    },
    "slideshow": {
     "slide_type": "fragment"
    }
   },
   "outputs": [
    {
     "name": "stdout",
     "output_type": "stream",
     "text": [
      "sample#0111 [positive]:\n",
      " > the film aims to be funny , uplifting and moving , sometimes all at once .\n",
      "\n",
      "sample#4321 [neutral ]:\n",
      " > the most anti - human big studio picture since 3000 miles to graceland .\n",
      "\n",
      "sample#7777 [negative]:\n",
      " > an ugly , revolting movie .\n",
      "\n",
      "sample#0000 [positive]:\n",
      " > the rock is destined to be the 21st century 's new ` ` conan '' and that he 's going to make a splash even greater than arnold schwarzenegger , jean - claud van damme or steven segal .\n",
      "\n"
     ]
    }
   ],
   "source": [
    "for i in ([111, 4321, 7777, 0]):\n",
    "    example = ds_train[i]\n",
    "    label = example.label\n",
    "    review = str.join(\" \", example.text)\n",
    "    print(f'sample#{i:04d} [{label:8s}]:\\n > {review}\\n')"
   ]
  },
  {
   "cell_type": "markdown",
   "metadata": {
    "slideshow": {
     "slide_type": "subslide"
    }
   },
   "source": [
    "#### Building a vocabulary\n",
    "\n",
    "The `Field` object can build a **vocabulary** for us,\n",
    "which is simply a bi-directional mapping between a unique index and a token.\n",
    "\n",
    "We'll only include words from the training set in our vocabulary."
   ]
  },
  {
   "cell_type": "code",
   "execution_count": 10,
   "metadata": {
    "execution": {
     "iopub.execute_input": "2020-11-26T08:43:50.046899Z",
     "iopub.status.busy": "2020-11-26T08:43:50.046351Z",
     "iopub.status.idle": "2020-11-26T08:43:50.177534Z",
     "shell.execute_reply": "2020-11-26T08:43:50.178581Z"
    },
    "slideshow": {
     "slide_type": "fragment"
    }
   },
   "outputs": [
    {
     "name": "stdout",
     "output_type": "stream",
     "text": [
      "Number of tokens in training samples: 15482\n",
      "Number of tokens in training labels: 3\n"
     ]
    }
   ],
   "source": [
    "review_parser.build_vocab(ds_train)\n",
    "label_parser.build_vocab(ds_train)\n",
    "\n",
    "print(f\"Number of tokens in training samples: {len(review_parser.vocab)}\")\n",
    "print(f\"Number of tokens in training labels: {len(label_parser.vocab)}\")"
   ]
  },
  {
   "cell_type": "code",
   "execution_count": 11,
   "metadata": {
    "execution": {
     "iopub.execute_input": "2020-11-26T08:43:50.184650Z",
     "iopub.status.busy": "2020-11-26T08:43:50.183781Z",
     "iopub.status.idle": "2020-11-26T08:43:50.225969Z",
     "shell.execute_reply": "2020-11-26T08:43:50.226492Z"
    },
    "slideshow": {
     "slide_type": "subslide"
    }
   },
   "outputs": [
    {
     "name": "stdout",
     "output_type": "stream",
     "text": [
      "first 20 tokens:\n",
      " ['<unk>', '<pad>', '<sos>', '<eos>', '.', 'the', ',', 'a', 'and', 'of', 'to', '-', 'is', \"'s\", 'it', 'that', 'in', 'as', 'but', 'film']\n",
      "\n"
     ]
    }
   ],
   "source": [
    "print(f'first 20 tokens:\\n', review_parser.vocab.itos[:20], end='\\n\\n')"
   ]
  },
  {
   "cell_type": "markdown",
   "metadata": {
    "slideshow": {
     "slide_type": "fragment"
    }
   },
   "source": [
    "Note the **special tokens**, `<unk>`, `<pad>`, `<sos>` and `<eos>` at indexes `0-3`.\n",
    "These were automatically created by the tokenizer."
   ]
  },
  {
   "cell_type": "code",
   "execution_count": 12,
   "metadata": {
    "execution": {
     "iopub.execute_input": "2020-11-26T08:43:50.229550Z",
     "iopub.status.busy": "2020-11-26T08:43:50.229064Z",
     "iopub.status.idle": "2020-11-26T08:43:50.267494Z",
     "shell.execute_reply": "2020-11-26T08:43:50.268038Z"
    },
    "slideshow": {
     "slide_type": "subslide"
    }
   },
   "outputs": [
    {
     "name": "stdout",
     "output_type": "stream",
     "text": [
      "word=film            index=19\n",
      "word=actor           index=492\n",
      "word=schwarzenegger  index=3404\n",
      "word=spielberg       index=715\n"
     ]
    }
   ],
   "source": [
    "# Show that some words exist in the vocab\n",
    "for w in ['film', 'actor', 'schwarzenegger', 'spielberg']:\n",
    "    print(f'word={w:15s} index={review_parser.vocab.stoi[w]}')"
   ]
  },
  {
   "cell_type": "code",
   "execution_count": 13,
   "metadata": {
    "execution": {
     "iopub.execute_input": "2020-11-26T08:43:50.271259Z",
     "iopub.status.busy": "2020-11-26T08:43:50.270770Z",
     "iopub.status.idle": "2020-11-26T08:43:50.308335Z",
     "shell.execute_reply": "2020-11-26T08:43:50.308908Z"
    },
    "slideshow": {
     "slide_type": "fragment"
    }
   },
   "outputs": [
    {
     "name": "stdout",
     "output_type": "stream",
     "text": [
      "labels vocab:\n",
      " {'positive': 0, 'negative': 1, 'neutral': 2}\n"
     ]
    }
   ],
   "source": [
    "print(f'labels vocab:\\n', dict(label_parser.vocab.stoi))"
   ]
  },
  {
   "cell_type": "markdown",
   "metadata": {
    "slideshow": {
     "slide_type": "subslide"
    }
   },
   "source": [
    "#### Data loaders (iterators)\n",
    "\n",
    "The `torchtext` package comes with `Iterator`s, similar to the `DataLoaders` we previously worked with.\n",
    "\n",
    "A key issue when working with text sequences is that each sample is of a different length.\n",
    "\n",
    "So, how can we work with **batches** of data?"
   ]
  },
  {
   "cell_type": "code",
   "execution_count": 14,
   "metadata": {
    "execution": {
     "iopub.execute_input": "2020-11-26T08:43:50.312286Z",
     "iopub.status.busy": "2020-11-26T08:43:50.311790Z",
     "iopub.status.idle": "2020-11-26T08:43:50.349768Z",
     "shell.execute_reply": "2020-11-26T08:43:50.350281Z"
    },
    "slideshow": {
     "slide_type": "subslide"
    }
   },
   "outputs": [],
   "source": [
    "BATCH_SIZE = 4\n",
    "\n",
    "# BucketIterator creates batches with samples of similar length\n",
    "# to minimize the number of <pad> tokens in the batch.\n",
    "dl_train, dl_valid, dl_test = torchtext.data.BucketIterator.splits(\n",
    "    (ds_train, ds_valid, ds_test), batch_size=BATCH_SIZE,\n",
    "    shuffle=True, device=device)"
   ]
  },
  {
   "cell_type": "markdown",
   "metadata": {
    "slideshow": {
     "slide_type": "fragment"
    }
   },
   "source": [
    "Lets look at a single batch."
   ]
  },
  {
   "cell_type": "code",
   "execution_count": 15,
   "metadata": {
    "execution": {
     "iopub.execute_input": "2020-11-26T08:43:50.353700Z",
     "iopub.status.busy": "2020-11-26T08:43:50.353197Z",
     "iopub.status.idle": "2020-11-26T08:43:50.399504Z",
     "shell.execute_reply": "2020-11-26T08:43:50.400093Z"
    },
    "slideshow": {
     "slide_type": "subslide"
    }
   },
   "outputs": [
    {
     "name": "stdout",
     "output_type": "stream",
     "text": [
      "X = \n",
      " tensor([[    2,     2,     2,     2],\n",
      "        [ 7820,  9456,     5,    48],\n",
      "        [  225,     7,   879,   352],\n",
      "        [   58,   324,    11,    29],\n",
      "        [  523,  1239,  2453,   164],\n",
      "        [    6,    11,  9912,  4119],\n",
      "        [ 1539,  3152,     9,    10],\n",
      "        [  200,  6484,     5,   262],\n",
      "        [  232,    52,    19,     9],\n",
      "        [    6,   724,     6,     7],\n",
      "        [   17,    11,   391,    19],\n",
      "        [   76,   254,  5043,    38],\n",
      "        [   17,  8369,  1410,  6126],\n",
      "        [    5,  3280,    20,  1429],\n",
      "        [ 1200,    53,   732,    45],\n",
      "        [    9,    16,  4385,  2651],\n",
      "        [    5,  1326,   426,    23],\n",
      "        [ 9530,   229,     6,   222],\n",
      "        [    6,    11,   965,     4],\n",
      "        [  308,    70,   364,     3],\n",
      "        [    9, 10239,    58,     1],\n",
      "        [ 1903,     4,   547,     1],\n",
      "        [ 1993,     3,    21,     1],\n",
      "        [    3,     1,     5,     1],\n",
      "        [    1,     1,   123,     1],\n",
      "        [    1,     1,     4,     1],\n",
      "        [    1,     1,     3,     1]]) torch.Size([27, 4])\n",
      "\n",
      "y = \n",
      " tensor([1, 1, 1, 1]) torch.Size([4])\n"
     ]
    }
   ],
   "source": [
    "batch = next(iter(dl_train))\n",
    "\n",
    "X, y = batch.text, batch.label\n",
    "print('X = \\n', X, X.shape, end='\\n\\n')\n",
    "print('y = \\n', y, y.shape)"
   ]
  },
  {
   "cell_type": "markdown",
   "metadata": {
    "slideshow": {
     "slide_type": "subslide"
    }
   },
   "source": [
    "What are we looking at?"
   ]
  },
  {
   "cell_type": "markdown",
   "metadata": {
    "slideshow": {
     "slide_type": "subslide"
    }
   },
   "source": [
    "Our sample tensor `X` is of shape `(sentence_length, batch_size)`.\n",
    "\n",
    "Note that:\n",
    "1. `sentence_length` changes every batch! You can re-run the previous block to see this.\n",
    "2. Sequence dimension first (not batch). When we implement the model, you'll see why it's easier to work this way."
   ]
  },
  {
   "cell_type": "markdown",
   "metadata": {
    "slideshow": {
     "slide_type": "slide"
    }
   },
   "source": [
    "### Model\n",
    "\n",
    "We'll now create our sentiment analysis model based on the simple `RNNLayer` we've implemented above."
   ]
  },
  {
   "cell_type": "markdown",
   "metadata": {
    "slideshow": {
     "slide_type": "subslide"
    }
   },
   "source": [
    "The model will:\n",
    "- Take an input batch of tokenized sentences.\n",
    "- Compute a dense word-embedding of each token.\n",
    "- Process the sentence **sequentially** through the RNN layer.\n",
    "- Produce a `(B, 3)` tensor, which we'll interpret as class probabilities for each sentence in the batch."
   ]
  },
  {
   "cell_type": "markdown",
   "metadata": {
    "slideshow": {
     "slide_type": "subslide"
    }
   },
   "source": [
    "What is a **word embedding**? How do we get one?"
   ]
  },
  {
   "cell_type": "markdown",
   "metadata": {
    "slideshow": {
     "slide_type": "fragment"
    }
   },
   "source": [
    "Embeddings encode tokens as tensors in a way that maintain some **semantic** meaning for our task.\n",
    "\n",
    "<center><img src=\"img/word_embeddings.png\" width=\"700\"/></center>"
   ]
  },
  {
   "cell_type": "markdown",
   "metadata": {
    "slideshow": {
     "slide_type": "subslide"
    }
   },
   "source": [
    "Generally we should take a pre-trained embedding depending on our task type.\n",
    "\n",
    "Here we'll train an Embedding together with our model:"
   ]
  },
  {
   "cell_type": "code",
   "execution_count": 16,
   "metadata": {
    "execution": {
     "iopub.execute_input": "2020-11-26T08:43:50.403887Z",
     "iopub.status.busy": "2020-11-26T08:43:50.403392Z",
     "iopub.status.idle": "2020-11-26T08:43:50.442018Z",
     "shell.execute_reply": "2020-11-26T08:43:50.442533Z"
    },
    "slideshow": {
     "slide_type": "fragment"
    }
   },
   "outputs": [
    {
     "name": "stdout",
     "output_type": "stream",
     "text": [
      "tensor([4, 2, 3, 1, 1, 3])\n"
     ]
    },
    {
     "data": {
      "text/plain": [
       "tensor([[ 1.4418, -1.7468, -0.4915,  0.4794,  0.3940, -0.0547,  0.6055, -1.0863],\n",
       "        [ 0.6683, -0.5502, -2.2242,  0.5154,  0.9149,  0.4028,  1.3054, -0.1595],\n",
       "        [ 0.4878,  0.6713,  1.6661, -0.3179, -0.1285, -0.5022,  0.5280, -0.8154],\n",
       "        [ 0.2291,  0.3973, -1.3474,  0.5152, -0.2420, -0.3419,  0.8466,  0.8312],\n",
       "        [ 0.2291,  0.3973, -1.3474,  0.5152, -0.2420, -0.3419,  0.8466,  0.8312],\n",
       "        [ 0.4878,  0.6713,  1.6661, -0.3179, -0.1285, -0.5022,  0.5280, -0.8154]],\n",
       "       grad_fn=<EmbeddingBackward>)"
      ]
     },
     "execution_count": 1,
     "metadata": {},
     "output_type": "execute_result"
    }
   ],
   "source": [
    "embedding_layer = nn.Embedding(num_embeddings=5, embedding_dim=8)\n",
    "\n",
    "token_idx = torch.randint(low=0, high=5, size=(6,))\n",
    "print(token_idx)\n",
    "embedding_layer(token_idx)"
   ]
  },
  {
   "cell_type": "markdown",
   "metadata": {
    "slideshow": {
     "slide_type": "subslide"
    }
   },
   "source": [
    "OK, model time:"
   ]
  },
  {
   "cell_type": "code",
   "execution_count": 17,
   "metadata": {
    "execution": {
     "iopub.execute_input": "2020-11-26T08:43:50.447140Z",
     "iopub.status.busy": "2020-11-26T08:43:50.446593Z",
     "iopub.status.idle": "2020-11-26T08:43:50.485364Z",
     "shell.execute_reply": "2020-11-26T08:43:50.485931Z"
    },
    "slideshow": {
     "slide_type": "fragment"
    }
   },
   "outputs": [],
   "source": [
    "class SentimentRNN(nn.Module):\n",
    "    def __init__(self, vocab_dim, embedding_dim, h_dim, out_dim):\n",
    "        super().__init__()\n",
    "        \n",
    "        # nn.Embedding converts from token index to dense tensor\n",
    "        self.embedding = nn.Embedding(vocab_dim, embedding_dim)\n",
    "        \n",
    "        # Our own Vanilla RNN layer, without phi_y so it outputs a class score\n",
    "        self.rnn = RNNLayer(in_dim=embedding_dim, h_dim=h_dim, out_dim=out_dim, phi_y=None)\n",
    "        \n",
    "        # To convert class scores to log-probability we'll apply log-softmax\n",
    "        self.log_softmax = nn.LogSoftmax(dim=1)\n",
    "        \n",
    "    def forward(self, X):\n",
    "        # X shape: (S, B) Note batch dim is not first!\n",
    "        \n",
    "        embedded = self.embedding(X) # embedded shape: (S, B, E)\n",
    "        \n",
    "        # Loop over (batch of) tokens in the sentence(s)\n",
    "        ht = None\n",
    "        for xt in embedded:           # xt is (B, E)\n",
    "            yt, ht = self.rnn(xt, ht) # yt is (B, D_out)\n",
    "        \n",
    "        # Class scores to log-probability\n",
    "        yt_log_proba = self.log_softmax(yt)\n",
    "        \n",
    "        return yt_log_proba"
   ]
  },
  {
   "cell_type": "markdown",
   "metadata": {
    "slideshow": {
     "slide_type": "fragment"
    }
   },
   "source": [
    "Let's instantiate our model."
   ]
  },
  {
   "cell_type": "code",
   "execution_count": 18,
   "metadata": {
    "execution": {
     "iopub.execute_input": "2020-11-26T08:43:50.489365Z",
     "iopub.status.busy": "2020-11-26T08:43:50.488867Z",
     "iopub.status.idle": "2020-11-26T08:43:50.536095Z",
     "shell.execute_reply": "2020-11-26T08:43:50.536644Z"
    },
    "slideshow": {
     "slide_type": "subslide"
    }
   },
   "outputs": [
    {
     "data": {
      "text/plain": [
       "SentimentRNN(\n",
       "  (embedding): Embedding(15482, 100)\n",
       "  (rnn): RNNLayer(\n",
       "    (fc_xh): Linear(in_features=100, out_features=128, bias=False)\n",
       "    (fc_hh): Linear(in_features=128, out_features=128, bias=True)\n",
       "    (fc_hy): Linear(in_features=128, out_features=3, bias=True)\n",
       "  )\n",
       "  (log_softmax): LogSoftmax(dim=1)\n",
       ")"
      ]
     },
     "execution_count": 1,
     "metadata": {},
     "output_type": "execute_result"
    }
   ],
   "source": [
    "INPUT_DIM = len(review_parser.vocab)\n",
    "EMBEDDING_DIM = 100\n",
    "HIDDEN_DIM = 128\n",
    "OUTPUT_DIM = 3\n",
    "\n",
    "model = SentimentRNN(INPUT_DIM, EMBEDDING_DIM, HIDDEN_DIM, OUTPUT_DIM)\n",
    "model"
   ]
  },
  {
   "cell_type": "markdown",
   "metadata": {
    "slideshow": {
     "slide_type": "subslide"
    }
   },
   "source": [
    "Test a manual forward pass:"
   ]
  },
  {
   "cell_type": "code",
   "execution_count": 19,
   "metadata": {
    "execution": {
     "iopub.execute_input": "2020-11-26T08:43:50.539973Z",
     "iopub.status.busy": "2020-11-26T08:43:50.539452Z",
     "iopub.status.idle": "2020-11-26T08:43:50.588922Z",
     "shell.execute_reply": "2020-11-26T08:43:50.589579Z"
    },
    "slideshow": {
     "slide_type": "fragment"
    }
   },
   "outputs": [
    {
     "name": "stdout",
     "output_type": "stream",
     "text": [
      "model(X) = \n",
      " tensor([[-1.1840, -1.2446, -0.9017],\n",
      "        [-1.2126, -1.2261, -0.8937],\n",
      "        [-1.2834, -1.0848, -0.9547],\n",
      "        [-1.2190, -1.2140, -0.8978]], grad_fn=<LogSoftmaxBackward>) torch.Size([4, 3])\n",
      "labels =  tensor([1, 1, 1, 1])\n"
     ]
    }
   ],
   "source": [
    "print(f'model(X) = \\n', model(X), model(X).shape)\n",
    "print(f'labels = ', y)"
   ]
  },
  {
   "cell_type": "markdown",
   "metadata": {
    "slideshow": {
     "slide_type": "subslide"
    }
   },
   "source": [
    "How big is our model?"
   ]
  },
  {
   "cell_type": "code",
   "execution_count": 20,
   "metadata": {
    "execution": {
     "iopub.execute_input": "2020-11-26T08:43:50.593371Z",
     "iopub.status.busy": "2020-11-26T08:43:50.592731Z",
     "iopub.status.idle": "2020-11-26T08:43:50.635140Z",
     "shell.execute_reply": "2020-11-26T08:43:50.635937Z"
    },
    "slideshow": {
     "slide_type": "fragment"
    }
   },
   "outputs": [
    {
     "name": "stdout",
     "output_type": "stream",
     "text": [
      "The RNN model has 1,577,899 trainable weights.\n"
     ]
    }
   ],
   "source": [
    "def count_parameters(model):\n",
    "    return sum(p.numel() for p in model.parameters() if p.requires_grad)\n",
    "\n",
    "print(f'The RNN model has {count_parameters(model):,} trainable weights.')"
   ]
  },
  {
   "cell_type": "markdown",
   "metadata": {
    "slideshow": {
     "slide_type": "fragment"
    }
   },
   "source": [
    "Why so many? We used only one RNN layer.\n",
    "\n",
    "Where are most of the weights?"
   ]
  },
  {
   "cell_type": "markdown",
   "metadata": {
    "slideshow": {
     "slide_type": "slide"
    }
   },
   "source": [
    "### Training\n",
    "\n",
    "Let's complete the example by showing the regular pytorch-style train loop with this model.\n",
    "\n",
    "We'll run only a few epochs on a small subset just to test that it works."
   ]
  },
  {
   "cell_type": "code",
   "execution_count": 21,
   "metadata": {
    "execution": {
     "iopub.execute_input": "2020-11-26T08:43:50.643205Z",
     "iopub.status.busy": "2020-11-26T08:43:50.642522Z",
     "iopub.status.idle": "2020-11-26T08:43:50.685402Z",
     "shell.execute_reply": "2020-11-26T08:43:50.686293Z"
    },
    "slideshow": {
     "slide_type": "subslide"
    }
   },
   "outputs": [],
   "source": [
    "def train(model, optimizer, loss_fn, dataloader, max_epochs=100, max_batches=200):\n",
    "    for epoch_idx in range(max_epochs):\n",
    "        total_loss, num_correct = 0, 0\n",
    "        start_time = time.time()\n",
    "\n",
    "        for batch_idx, batch in enumerate(dataloader):\n",
    "            X, y = batch.text, batch.label\n",
    "\n",
    "            # Forward pass\n",
    "            y_pred_log_proba = model(X)\n",
    "\n",
    "            # Backward pass\n",
    "            optimizer.zero_grad()\n",
    "            loss = loss_fn(y_pred_log_proba, y)\n",
    "            loss.backward()\n",
    "\n",
    "            # Weight updates\n",
    "            optimizer.step()\n",
    "\n",
    "            # Calculate accuracy\n",
    "            total_loss += loss.item()\n",
    "            y_pred = torch.argmax(y_pred_log_proba, dim=1)\n",
    "            num_correct += torch.sum(y_pred == y).float().item()\n",
    "\n",
    "            if batch_idx == max_batches-1:\n",
    "                break\n",
    "                \n",
    "        print(f\"Epoch #{epoch_idx}, loss={total_loss /(max_batches):.3f}, accuracy={num_correct /(max_batches*BATCH_SIZE):.3f}, elapsed={time.time()-start_time:.1f} sec\")"
   ]
  },
  {
   "cell_type": "code",
   "execution_count": 22,
   "metadata": {
    "execution": {
     "iopub.execute_input": "2020-11-26T08:43:50.690496Z",
     "iopub.status.busy": "2020-11-26T08:43:50.689782Z",
     "iopub.status.idle": "2020-11-26T08:44:04.485249Z",
     "shell.execute_reply": "2020-11-26T08:44:04.485819Z"
    },
    "slideshow": {
     "slide_type": "subslide"
    }
   },
   "outputs": [
    {
     "name": "stdout",
     "output_type": "stream",
     "text": [
      "Epoch #0, loss=1.086, accuracy=0.419, elapsed=3.5 sec\n",
      "Epoch #1, loss=1.076, accuracy=0.430, elapsed=3.6 sec\n",
      "Epoch #2, loss=1.059, accuracy=0.415, elapsed=3.3 sec\n",
      "Epoch #3, loss=1.066, accuracy=0.394, elapsed=3.4 sec\n"
     ]
    }
   ],
   "source": [
    "import torch.optim as optim\n",
    "\n",
    "rnn_model = SentimentRNN(INPUT_DIM, EMBEDDING_DIM, HIDDEN_DIM, OUTPUT_DIM).to(device)\n",
    "\n",
    "optimizer = optim.Adam(rnn_model.parameters(), lr=1e-3)\n",
    "\n",
    "# Recall: LogSoftmax + NLL is equiv to CrossEntropy on the class scores\n",
    "loss_fn = nn.NLLLoss()\n",
    "\n",
    "train(rnn_model, optimizer, loss_fn, dl_train, max_epochs=4) # just a demo"
   ]
  },
  {
   "cell_type": "markdown",
   "metadata": {
    "slideshow": {
     "slide_type": "subslide"
    }
   },
   "source": [
    "#### Limitations\n",
    "\n",
    "As usual this is a very naïve model, just for demonstration.\n",
    "It lacks many tricks of the NLP trade, such was pre-trained embeddings,\n",
    "gated RNN units, deep or bi-directional models, dropout, etc.\n",
    "\n",
    "Don't expect SotA results :)"
   ]
  },
  {
   "cell_type": "markdown",
   "metadata": {
    "slideshow": {
     "slide_type": "slide"
    }
   },
   "source": [
    "## Part 2: Temporal Convolution Networks"
   ]
  },
  {
   "cell_type": "markdown",
   "metadata": {
    "slideshow": {
     "slide_type": "fragment"
    }
   },
   "source": [
    "RNNs are sometimes useful but they have some serious drawbacks:\n",
    "\n",
    "1. Vanilla RNNs are very hard to train on long sequences (large `S`) and thus are almost never used.\n",
    "Instead, more complex RNNs like LSTMs and GRUs are employed (as you'll see in HW3 :).\n",
    "\n",
    "2. They require processing the input **sequentially** which results in poor performance for both training and inference."
   ]
  },
  {
   "cell_type": "markdown",
   "metadata": {
    "slideshow": {
     "slide_type": "subslide"
    }
   },
   "source": [
    "But CNNs are great! Can we use them instead?"
   ]
  },
  {
   "cell_type": "markdown",
   "metadata": {
    "slideshow": {
     "slide_type": "fragment"
    }
   },
   "source": [
    "OK, but how do we deal with:\n",
    "1. Input and output must both be sequences of same length, which should be arbitrary.\n",
    "1. Output at time $t$ only depends on inputs up to time $t$.\n",
    "1. Long-term dependencies across time."
   ]
  },
  {
   "cell_type": "markdown",
   "metadata": {
    "slideshow": {
     "slide_type": "subslide"
    }
   },
   "source": [
    "1. Input and output must both be sequences of same length, which should be arbitrary.<br>\n",
    "   $\\Longrightarrow$ 1D fully-convolutional architecture with appropriate **padding**.\n",
    "   "
   ]
  },
  {
   "cell_type": "markdown",
   "metadata": {
    "slideshow": {
     "slide_type": "fragment"
    }
   },
   "source": [
    "2. Output at time $t$ only depends on inputs up to time $t$.<br>\n",
    "    $\\Longrightarrow$ **Causal convolutions**, where an output at time $t$ is convolved only with elements from time $t$ and earlier in the previous layer."
   ]
  },
  {
   "cell_type": "markdown",
   "metadata": {
    "slideshow": {
     "slide_type": "fragment"
    }
   },
   "source": [
    "3. Long-term dependencies across time.<br>\n",
    "    $\\Longrightarrow$ Increase receptive field using **depth** (facilitated by residual connections) and **dilated convolutions**."
   ]
  },
  {
   "cell_type": "markdown",
   "metadata": {
    "slideshow": {
     "slide_type": "subslide"
    }
   },
   "source": [
    "Combining these techniques gives us the TCN architecture (Bai et. al, 2018)."
   ]
  },
  {
   "cell_type": "markdown",
   "metadata": {
    "slideshow": {
     "slide_type": "fragment"
    }
   },
   "source": [
    "<center><img src=\"img/tcn.png\" width=\"1400\" /></center>"
   ]
  },
  {
   "cell_type": "markdown",
   "metadata": {
    "slideshow": {
     "slide_type": "subslide"
    }
   },
   "source": [
    "Let's implement a first a **general** TCN residual block and then a full TCN model for our Sentiment Analysis task."
   ]
  },
  {
   "cell_type": "code",
   "execution_count": 23,
   "metadata": {
    "execution": {
     "iopub.execute_input": "2020-11-26T08:44:04.491721Z",
     "iopub.status.busy": "2020-11-26T08:44:04.491229Z",
     "iopub.status.idle": "2020-11-26T08:44:04.529709Z",
     "shell.execute_reply": "2020-11-26T08:44:04.530251Z"
    },
    "slideshow": {
     "slide_type": "subslide"
    }
   },
   "outputs": [],
   "source": [
    "class TCNBlock(nn.Module):\n",
    "    def __init__(self, in_channels, out_channels, kernel_size, dilation, padding, dropout=0.2):\n",
    "        super().__init__()\n",
    "\n",
    "        self.conv1 = nn.Sequential(\n",
    "            nn.Conv1d(in_channels, out_channels, kernel_size, stride=1, padding=padding, dilation=dilation),\n",
    "            nn.ReLU(),\n",
    "            nn.Dropout(dropout)\n",
    "        )\n",
    "        self.conv2 = nn.Sequential(\n",
    "            nn.Conv1d(out_channels, out_channels, kernel_size, stride=1, padding=padding, dilation=dilation),\n",
    "            nn.ReLU(),\n",
    "            nn.Dropout(dropout)\n",
    "        )\n",
    "        if in_channels != out_channels:\n",
    "            self.channels_adapter = nn.Conv1d(in_channels, out_channels, kernel_size=1)\n",
    "        else:\n",
    "            self.channels_adapter = None\n",
    "            \n",
    "        self.padding = padding\n",
    "\n",
    "    def forward(self, x):\n",
    "        # Main branch\n",
    "        out = self.conv1(x)\n",
    "        out = out[..., :-self.padding] # maintain causality\n",
    "        out = self.conv2(out)\n",
    "        out = out[..., :-self.padding]\n",
    "\n",
    "        # Skip-connection (residual branch)\n",
    "        skip = x if not self.channels_adapter else self.channels_adapter(x)\n",
    "        out = torch.relu(out + skip)\n",
    "        return out"
   ]
  },
  {
   "cell_type": "code",
   "execution_count": 24,
   "metadata": {
    "execution": {
     "iopub.execute_input": "2020-11-26T08:44:04.533579Z",
     "iopub.status.busy": "2020-11-26T08:44:04.532952Z",
     "iopub.status.idle": "2020-11-26T08:44:04.573955Z",
     "shell.execute_reply": "2020-11-26T08:44:04.574474Z"
    },
    "slideshow": {
     "slide_type": "subslide"
    }
   },
   "outputs": [
    {
     "data": {
      "text/plain": [
       "TCNBlock(\n",
       "  (conv1): Sequential(\n",
       "    (0): Conv1d(2, 4, kernel_size=(3,), stride=(1,), padding=(2,))\n",
       "    (1): ReLU()\n",
       "    (2): Dropout(p=0.2, inplace=False)\n",
       "  )\n",
       "  (conv2): Sequential(\n",
       "    (0): Conv1d(4, 4, kernel_size=(3,), stride=(1,), padding=(2,))\n",
       "    (1): ReLU()\n",
       "    (2): Dropout(p=0.2, inplace=False)\n",
       "  )\n",
       "  (channels_adapter): Conv1d(2, 4, kernel_size=(1,), stride=(1,))\n",
       ")"
      ]
     },
     "execution_count": 1,
     "metadata": {},
     "output_type": "execute_result"
    }
   ],
   "source": [
    "TCNBlock(in_channels=2, out_channels=4, kernel_size=3, dilation=1, padding=2)"
   ]
  },
  {
   "cell_type": "code",
   "execution_count": 25,
   "metadata": {
    "execution": {
     "iopub.execute_input": "2020-11-26T08:44:04.580612Z",
     "iopub.status.busy": "2020-11-26T08:44:04.580046Z",
     "iopub.status.idle": "2020-11-26T08:44:04.616692Z",
     "shell.execute_reply": "2020-11-26T08:44:04.617277Z"
    },
    "slideshow": {
     "slide_type": "subslide"
    }
   },
   "outputs": [],
   "source": [
    "class SentimentTCN(nn.Module):\n",
    "    def __init__(self, vocab_dim: int, embedding_dim: int, layer_channels: list, out_dim: int, kernel_size=3, dropout=0.2):\n",
    "        super().__init__()\n",
    "        assert len(layer_channels) > 0\n",
    "\n",
    "        self.embedding = nn.Embedding(vocab_dim, embedding_dim)\n",
    "        \n",
    "        tcn_channels = [embedding_dim] + layer_channels + [out_dim]\n",
    "        layers = []\n",
    "        for i, (c_in, c_out) in enumerate(zip(tcn_channels[:-1], tcn_channels[1:])):\n",
    "            # Exponentially-increasing dilation\n",
    "            dilation = 2 ** i\n",
    "            # Control padding to maintain output size for a fixed kernel size\n",
    "            padding = (kernel_size - 1) * dilation\n",
    "            \n",
    "            layers.append(\n",
    "                TCNBlock(c_in, c_out, kernel_size, dilation=dilation, padding=padding, dropout=dropout)\n",
    "            )\n",
    "            \n",
    "        self.blocks = nn.Sequential(*layers)\n",
    "        self.log_softmax = nn.LogSoftmax(dim=1)\n",
    "\n",
    "    def forward(self, x, **kw): # x is (S, B)\n",
    "        # First we need to embed our sequence.\n",
    "        # Note how we treat the E as channels for the convulutions.\n",
    "        x_emb = self.embedding(x) # (S, B, E)\n",
    "        x_emb = torch.transpose(x_emb, 0, 1) # (B, S, E)\n",
    "        x_emb = torch.transpose(x_emb, 1, 2) # (B, E, S)\n",
    "        \n",
    "        # Process the entire sequence (at once!)\n",
    "        y_seq = self.blocks(x_emb) # (B, D_out, S)\n",
    "        \n",
    "        # Output predictions\n",
    "        yt = y_seq[..., -1] # (B, D_out)\n",
    "        yt_log_proba = self.log_softmax(yt)\n",
    "        return yt_log_proba"
   ]
  },
  {
   "cell_type": "code",
   "execution_count": 26,
   "metadata": {
    "execution": {
     "iopub.execute_input": "2020-11-26T08:44:04.621695Z",
     "iopub.status.busy": "2020-11-26T08:44:04.621025Z",
     "iopub.status.idle": "2020-11-26T08:44:04.671291Z",
     "shell.execute_reply": "2020-11-26T08:44:04.671810Z"
    },
    "scrolled": false,
    "slideshow": {
     "slide_type": "subslide"
    }
   },
   "outputs": [
    {
     "data": {
      "text/plain": [
       "SentimentTCN(\n",
       "  (embedding): Embedding(15482, 100)\n",
       "  (blocks): Sequential(\n",
       "    (0): TCNBlock(\n",
       "      (conv1): Sequential(\n",
       "        (0): Conv1d(100, 32, kernel_size=(3,), stride=(1,), padding=(2,))\n",
       "        (1): ReLU()\n",
       "        (2): Dropout(p=0.2, inplace=False)\n",
       "      )\n",
       "      (conv2): Sequential(\n",
       "        (0): Conv1d(32, 32, kernel_size=(3,), stride=(1,), padding=(2,))\n",
       "        (1): ReLU()\n",
       "        (2): Dropout(p=0.2, inplace=False)\n",
       "      )\n",
       "      (channels_adapter): Conv1d(100, 32, kernel_size=(1,), stride=(1,))\n",
       "    )\n",
       "    (1): TCNBlock(\n",
       "      (conv1): Sequential(\n",
       "        (0): Conv1d(32, 32, kernel_size=(3,), stride=(1,), padding=(4,), dilation=(2,))\n",
       "        (1): ReLU()\n",
       "        (2): Dropout(p=0.2, inplace=False)\n",
       "      )\n",
       "      (conv2): Sequential(\n",
       "        (0): Conv1d(32, 32, kernel_size=(3,), stride=(1,), padding=(4,), dilation=(2,))\n",
       "        (1): ReLU()\n",
       "        (2): Dropout(p=0.2, inplace=False)\n",
       "      )\n",
       "    )\n",
       "    (2): TCNBlock(\n",
       "      (conv1): Sequential(\n",
       "        (0): Conv1d(32, 3, kernel_size=(3,), stride=(1,), padding=(8,), dilation=(4,))\n",
       "        (1): ReLU()\n",
       "        (2): Dropout(p=0.2, inplace=False)\n",
       "      )\n",
       "      (conv2): Sequential(\n",
       "        (0): Conv1d(3, 3, kernel_size=(3,), stride=(1,), padding=(8,), dilation=(4,))\n",
       "        (1): ReLU()\n",
       "        (2): Dropout(p=0.2, inplace=False)\n",
       "      )\n",
       "      (channels_adapter): Conv1d(32, 3, kernel_size=(1,), stride=(1,))\n",
       "    )\n",
       "  )\n",
       "  (log_softmax): LogSoftmax(dim=1)\n",
       ")"
      ]
     },
     "execution_count": 1,
     "metadata": {},
     "output_type": "execute_result"
    }
   ],
   "source": [
    "tcn = SentimentTCN(INPUT_DIM, EMBEDDING_DIM, [32, 32], OUTPUT_DIM, kernel_size=3)\n",
    "tcn"
   ]
  },
  {
   "cell_type": "markdown",
   "metadata": {
    "slideshow": {
     "slide_type": "subslide"
    }
   },
   "source": [
    "Notice where the `channel_adapter`s are. What's their purpose?"
   ]
  },
  {
   "cell_type": "code",
   "execution_count": 27,
   "metadata": {
    "execution": {
     "iopub.execute_input": "2020-11-26T08:44:04.675496Z",
     "iopub.status.busy": "2020-11-26T08:44:04.675010Z",
     "iopub.status.idle": "2020-11-26T08:44:04.713509Z",
     "shell.execute_reply": "2020-11-26T08:44:04.714051Z"
    },
    "slideshow": {
     "slide_type": "subslide"
    }
   },
   "outputs": [
    {
     "name": "stdout",
     "output_type": "stream",
     "text": [
      "The TCN model has 1,570,796 trainable weights.\n"
     ]
    }
   ],
   "source": [
    "print(f'The TCN model has {count_parameters(tcn):,} trainable weights.')"
   ]
  },
  {
   "cell_type": "markdown",
   "metadata": {
    "slideshow": {
     "slide_type": "subslide"
    }
   },
   "source": [
    "Let's try a forward pass with this new model:"
   ]
  },
  {
   "cell_type": "code",
   "execution_count": 28,
   "metadata": {
    "execution": {
     "iopub.execute_input": "2020-11-26T08:44:04.717173Z",
     "iopub.status.busy": "2020-11-26T08:44:04.716674Z",
     "iopub.status.idle": "2020-11-26T08:44:04.767906Z",
     "shell.execute_reply": "2020-11-26T08:44:04.768486Z"
    },
    "slideshow": {
     "slide_type": "fragment"
    }
   },
   "outputs": [
    {
     "data": {
      "text/plain": [
       "tensor([[-0.9061, -1.3587, -1.0820],\n",
       "        [-0.9841, -1.2509, -1.0789],\n",
       "        [-0.8914, -1.4111, -1.0611],\n",
       "        [-0.9210, -1.3799, -1.0490]], grad_fn=<LogSoftmaxBackward>)"
      ]
     },
     "execution_count": 1,
     "metadata": {},
     "output_type": "execute_result"
    }
   ],
   "source": [
    "tcn(X)"
   ]
  },
  {
   "cell_type": "markdown",
   "metadata": {
    "slideshow": {
     "slide_type": "subslide"
    }
   },
   "source": [
    "And finally, let's train the new model using the exact same setting."
   ]
  },
  {
   "cell_type": "code",
   "execution_count": 29,
   "metadata": {
    "execution": {
     "iopub.execute_input": "2020-11-26T08:44:04.772076Z",
     "iopub.status.busy": "2020-11-26T08:44:04.771461Z",
     "iopub.status.idle": "2020-11-26T08:44:15.947520Z",
     "shell.execute_reply": "2020-11-26T08:44:15.948069Z"
    },
    "slideshow": {
     "slide_type": "fragment"
    }
   },
   "outputs": [
    {
     "name": "stdout",
     "output_type": "stream",
     "text": [
      "Epoch #0, loss=1.106, accuracy=0.376, elapsed=2.7 sec\n",
      "Epoch #1, loss=1.098, accuracy=0.360, elapsed=2.7 sec\n",
      "Epoch #2, loss=1.073, accuracy=0.401, elapsed=2.7 sec\n",
      "Epoch #3, loss=1.049, accuracy=0.416, elapsed=3.0 sec\n"
     ]
    }
   ],
   "source": [
    "tcn_model = SentimentTCN(INPUT_DIM, EMBEDDING_DIM, [32, 32], OUTPUT_DIM, kernel_size=3)\n",
    "optimizer = optim.Adam(tcn_model.parameters(), lr=1e-4)\n",
    "loss_fn = nn.NLLLoss()\n",
    "\n",
    "train(tcn_model, optimizer, loss_fn, dl_train, max_epochs=4)"
   ]
  },
  {
   "cell_type": "markdown",
   "metadata": {
    "slideshow": {
     "slide_type": "subslide"
    }
   },
   "source": [
    "Notice how:\n",
    "1. The model took sequences of different length every batch, just like an RNN.\n",
    "2. Sequences were processed in **parallel** w.r.t. time, unlike RNN, making it faster.\n",
    "3. Receptive field was controlled by architecture, not by sequence length, unlike RNN.\n",
    "4. No need for BPTT, unlike RNN."
   ]
  },
  {
   "cell_type": "markdown",
   "metadata": {
    "slideshow": {
     "slide_type": "subslide"
    }
   },
   "source": [
    "#### Thanks!"
   ]
  },
  {
   "cell_type": "markdown",
   "metadata": {
    "slideshow": {
     "slide_type": "skip"
    }
   },
   "source": [
    "**Image credits**\n",
    "\n",
    "Some images in this tutorial were taken and/or adapted from:\n",
    "\n",
    "- Fundamentals of Deep Learning, Nikhil Buduma, Oreilly 2017\n",
    "- Sebastian Ruder, \"On word embeddings - Part 1\", 2016, https://ruder.io\n",
    "- Andrej Karpathy, http://karpathy.github.io\n",
    "- MIT 6.S191\n",
    "- Stanford cs231n\n",
    "- S. Bai et al. 2018, http://arxiv.org/abs/1803.01271"
   ]
  }
 ],
 "metadata": {
  "celltoolbar": "Slideshow",
  "kernelspec": {
   "display_name": "Python 3",
   "language": "python",
   "name": "python3"
  },
  "language_info": {
   "codemirror_mode": {
    "name": "ipython",
    "version": 3
   },
   "file_extension": ".py",
   "mimetype": "text/x-python",
   "name": "python",
   "nbconvert_exporter": "python",
   "pygments_lexer": "ipython3",
   "version": "3.8.6"
  }
 },
 "nbformat": 4,
 "nbformat_minor": 4
}

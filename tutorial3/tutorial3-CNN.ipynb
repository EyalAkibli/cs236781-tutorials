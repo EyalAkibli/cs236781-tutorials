{
 "cells": [
  {
   "cell_type": "markdown",
   "metadata": {
    "slideshow": {
     "slide_type": "slide"
    }
   },
   "source": [
    "\n",
    "# CS236605:   Deep Learning\n",
    "# Tutorial 3: Introduction to Convolutional Neural Networks "
   ]
  },
  {
   "cell_type": "markdown",
   "metadata": {
    "slideshow": {
     "slide_type": "slide"
    }
   },
   "source": [
    "## Introduction\n",
    "\n",
    "In this tutorial, we will cover:\n",
    "\n",
    "* Fundamental of Neural Network\n",
    "* Introduction to CNNs\n",
    "\n"
   ]
  },
  {
   "cell_type": "code",
   "execution_count": null,
   "metadata": {
    "slideshow": {
     "slide_type": "skip"
    }
   },
   "outputs": [],
   "source": []
  },
  {
   "cell_type": "markdown",
   "metadata": {
    "slideshow": {
     "slide_type": "slide"
    }
   },
   "source": [
    "\n",
    "\n",
    "## Multi Layer Perceptron\n",
    "The linear perceptron model is rather limited due to its linearity. For example, it cannot produce the XOR function. . We define the $i$-th layer as\n",
    "\n",
    "$$ \\mathbf{y}i = \\varphi{i} ( \\mathbf{W}i \\mathbf{y}{i-1} + \\mathbf{b}_i ), $$\n",
    "\n",
    "for $i=1,\\dots,L$, where $\\mathbf{y}_{i-1}$ is an $n_{i-1}$-dimensional input, $\\mathbf{y}_i$ is an $n_{i}$-dimensional output, $\\mathbf{W}_i$ is an $n_i \\times n_{i-1}$ matrix of weights (whose columns are denoted as $\\mathbf{w}^{i}_1,\\dots, \\mathbf{w}^{i}_{n_{i-1}}$), $\\mathbf{b}_i$ is an $n_i$-dimensional bias vector, and $\\varphi_i : \\RR \\rightarrow \\RR$ is is a non-linear function applied element-wise. Setting $\\mathbf{y} = $$\\mathbf{y}_L$ and $\\mathbf{y}_0 = \\mathbf{x}$, a multi-layer perceptron (MLP) with $L$ layers is obtained. MLP can be described by the following input-to-output map\n",
    "\n",
    "$$ \\mathbf{y}=\\varphi_L \\left(\\mathbf{W}{L} \\varphi{L-1}( \\mathbf{W}{L-1} \\varphi{L-2}( \\cdots \\varphi_1(\\mathbf{W}_1 \\mathbf{x}) \\cdots ) ) \\right). $$\n",
    "\n",
    "parametrized by the weight matrices ${\\mathbf{W}_1,\\dots,\\mathbf{W}_L }$ and bias vectors ${ \\mathbf{b}_1,\\dots,\\mathbf{b}_L }$ which we will collectively denote as a pseudo-vector $\\mathbf{\\Theta}$."
   ]
  },
  {
   "cell_type": "markdown",
   "metadata": {
    "slideshow": {
     "slide_type": "subslide"
    }
   },
   "source": [
    "Unlike their single-layered linear counterparts, MLPs constitute a potent hypothesis class. In fact, even with just two layers, MLPs were shown to be universal approximators – their weights can be selected to approximate any function under mild technical conditions, provided they have enough degrees of freedom (sufficiently large number of weights).\n"
   ]
  },
  {
   "cell_type": "code",
   "execution_count": 1,
   "metadata": {
    "slideshow": {
     "slide_type": "subslide"
    }
   },
   "outputs": [
    {
     "data": {
      "text/plain": [
       "tensor([[-0.4571,  0.1984,  0.1678, -0.1058, -0.1656]], grad_fn=<ThAddmmBackward>)"
      ]
     },
     "execution_count": 1,
     "metadata": {},
     "output_type": "execute_result"
    }
   ],
   "source": [
    "import torch\n",
    "from torch.nn import Linear, ReLU\n",
    "import torch.nn as nn\n",
    "import numpy as np\n",
    "from torch.autograd import Variable\n",
    "## Liniar function in Pytorch ##\n",
    "myLayer = Linear(in_features=10,out_features=5,bias=True)\n",
    "inp = torch.randn(1,10,)\n",
    "myLayer = Linear(in_features=10,out_features=5,bias=True) \n",
    "myLayer(inp)"
   ]
  },
  {
   "cell_type": "code",
   "execution_count": 2,
   "metadata": {
    "slideshow": {
     "slide_type": "subslide"
    }
   },
   "outputs": [
    {
     "data": {
      "text/plain": [
       "Parameter containing:\n",
       "tensor([[ 0.2490, -0.2892,  0.2652, -0.2338,  0.2539,  0.0200, -0.0120,  0.2633,\n",
       "         -0.2152,  0.2240],\n",
       "        [-0.0221,  0.2993,  0.1733,  0.1542,  0.0450, -0.0530,  0.1007, -0.1936,\n",
       "         -0.2441,  0.0919],\n",
       "        [ 0.0338, -0.2210, -0.0286, -0.0407,  0.2014, -0.2407, -0.0835, -0.2342,\n",
       "         -0.1896,  0.2852],\n",
       "        [-0.2008, -0.2614,  0.1595, -0.1747, -0.2875,  0.2930, -0.2168, -0.0159,\n",
       "          0.0592, -0.0018],\n",
       "        [ 0.0212,  0.0130,  0.1251, -0.2109, -0.0186, -0.0296,  0.0415,  0.1504,\n",
       "         -0.1958, -0.1508]], requires_grad=True)"
      ]
     },
     "execution_count": 2,
     "metadata": {},
     "output_type": "execute_result"
    }
   ],
   "source": [
    "\n",
    "  myLayer.weight"
   ]
  },
  {
   "cell_type": "markdown",
   "metadata": {
    "slideshow": {
     "slide_type": "skip"
    }
   },
   "source": []
  },
  {
   "cell_type": "code",
   "execution_count": 3,
   "metadata": {
    "slideshow": {
     "slide_type": "subslide"
    }
   },
   "outputs": [
    {
     "data": {
      "text/plain": [
       "Parameter containing:\n",
       "tensor([ 0.0129, -0.1439, -0.0958,  0.0490,  0.1677], requires_grad=True)"
      ]
     },
     "execution_count": 3,
     "metadata": {},
     "output_type": "execute_result"
    }
   ],
   "source": [
    "myLayer.bias"
   ]
  },
  {
   "cell_type": "markdown",
   "metadata": {
    "slideshow": {
     "slide_type": "slide"
    }
   },
   "source": [
    "### Stacking Linear layers"
   ]
  },
  {
   "cell_type": "code",
   "execution_count": 4,
   "metadata": {
    "slideshow": {
     "slide_type": "fragment"
    }
   },
   "outputs": [
    {
     "data": {
      "text/plain": [
       "tensor([[-0.3716,  0.2253]], grad_fn=<ThAddmmBackward>)"
      ]
     },
     "execution_count": 4,
     "metadata": {},
     "output_type": "execute_result"
    }
   ],
   "source": [
    "myLayer1 = Linear(10,5)\n",
    "myLayer2 = Linear(5,2)\n",
    "myLayer2(myLayer1(inp))"
   ]
  },
  {
   "cell_type": "markdown",
   "metadata": {
    "slideshow": {
     "slide_type": "slide"
    }
   },
   "source": [
    "### Activation functions "
   ]
  },
  {
   "cell_type": "markdown",
   "metadata": {
    "slideshow": {
     "slide_type": "subslide"
    }
   },
   "source": [
    "Various functions can be used as the element-wise nonlinearities (activation function) of the MLP. Older neural networks used the logistic function (a.k.a. sigmoid)\n",
    "\n",
    "$$ \\varphi(t) = \\frac{1}{1+e^{-t}} $$\n",
    "\n",
    "saturating the input in $\\RR$ between $0$ and $1$, or its shifted and scaled version\n",
    "\n",
    "$$ \\varphi(t) = \\frac{e^t - e^{-t}}{e^t +e^{-t}} = \\mathrm{tanh}, t. $$\n",
    "\n",
    "The arctangent function also has a sigmoid-like behavior."
   ]
  },
  {
   "cell_type": "markdown",
   "metadata": {
    "slideshow": {
     "slide_type": "subslide"
    }
   },
   "source": [
    "### Relu  \n",
    "\n",
    "$$ \\varphi(t) = [t]_+ = \\max{t,0}. $$\n",
    "\n",
    "Note that this function has the derivative of exactly $0$ on $(-\\infty,0)$, exactly $1$ on $(0,\\infty)$, and is non-smooth at $0$. These facts justifying its choice will be discussed in the sequel.\n"
   ]
  },
  {
   "cell_type": "code",
   "execution_count": 5,
   "metadata": {
    "slideshow": {
     "slide_type": "fragment"
    }
   },
   "outputs": [
    {
     "data": {
      "text/plain": [
       "tensor([1., 2., 0., 0.], grad_fn=<ThresholdBackward0>)"
      ]
     },
     "execution_count": 5,
     "metadata": {},
     "output_type": "execute_result"
    }
   ],
   "source": [
    "sample_data = torch.tensor([1,2,-1,-1], requires_grad=True, dtype=torch.float)\n",
    "myRelu = ReLU()\n",
    "myRelu(sample_data)"
   ]
  },
  {
   "cell_type": "code",
   "execution_count": 6,
   "metadata": {
    "slideshow": {
     "slide_type": "fragment"
    }
   },
   "outputs": [
    {
     "data": {
      "text/plain": [
       "tensor([[1., 2., 0., 0.]])"
      ]
     },
     "execution_count": 6,
     "metadata": {},
     "output_type": "execute_result"
    }
   ],
   "source": [
    "import torch.nn as nn\n",
    "import torch.nn.functional as F\n",
    "sample_data = torch.Tensor([[1,2,-1,-1]]) \n",
    "f = F.relu(sample_data) # Much simpler.\n",
    "f"
   ]
  },
  {
   "cell_type": "markdown",
   "metadata": {
    "slideshow": {
     "slide_type": "slide"
    }
   },
   "source": [
    "### Neural Network "
   ]
  },
  {
   "cell_type": "code",
   "execution_count": 7,
   "metadata": {
    "slideshow": {
     "slide_type": "subslide"
    }
   },
   "outputs": [],
   "source": [
    "class MyFirstNetwork(nn.Module):\n",
    "    def __init__(self,input_size,hidden_size,output_size):\n",
    "        super(MyFirstNetwork,self).__init__() \n",
    "        self.layer1 = nn.Linear(input_size,hidden_size) \n",
    "        self.layer2 = nn.Linear(hidden_size,output_size)\n",
    "    def __forward__(self,input): \n",
    "        out = self.layer1(input) \n",
    "        out = nn.ReLU(out)\n",
    "        out = self.layer2(out) \n",
    "        return out"
   ]
  },
  {
   "cell_type": "markdown",
   "metadata": {
    "slideshow": {
     "slide_type": "subslide"
    }
   },
   "source": [
    "### Loss Functions "
   ]
  },
  {
   "cell_type": "markdown",
   "metadata": {
    "slideshow": {
     "slide_type": "subslide"
    }
   },
   "source": [
    "In the supervised learning problem, we are given a finite sample of labeled training instances ${ (\\mathbf{x}_i, y_i) }_{i=1}^N$. We then select a hypothesis that minimizes the empirical (in-sample) loss function,\n",
    "\n",
    "$$ h^\\ast = \\mathrm{arg} \\min_{h \\in \\mathcal{H}} \\frac{1}{N} \\sum_{i=1}^N \\ell( h(\\mathbf{x}_i), y_i). $$"
   ]
  },
  {
   "cell_type": "markdown",
   "metadata": {
    "slideshow": {
     "slide_type": "subslide"
    }
   },
   "source": [
    "In our terms, this minimization problem can be written as\n",
    "\n",
    "$$ \\mathbf{\\Theta}^\\ast = \\mathrm{arg} \\min_{\\mathbf{\\Theta} } \\frac{1}{N} \\sum_{i=1}^N \\ell_i ( h_{ \\mathbf{\\Theta}} (\\mathbf{x}_i) ), $$"
   ]
  },
  {
   "cell_type": "markdown",
   "metadata": {
    "slideshow": {
     "slide_type": "subslide"
    }
   },
   "source": [
    "where $h_{ \\mathbf{\\Theta}}$ is the MLP parametrized by the pseudo-vector $\\mathbf{\\Theta}$. Note that to simplify notation we dropped the dependence of the $i$-th pointwise loss term on $y_i$, denoting it by $\\ell_i$. We will henceforth denote the loss function as\n",
    "\n",
    "$$ L(\\mathbf{\\Theta}) = \\frac{1}{N} \\sum_{i=1}^N \\ell_i ( h_{\\mathbf{\\Theta}} (\\mathbf{x}_i) ) $$\n",
    "\n",
    "emphasizing that we are interested in its dependence on the model parameters $\\mathbf{\\Theta}$. "
   ]
  },
  {
   "cell_type": "code",
   "execution_count": 8,
   "metadata": {
    "slideshow": {
     "slide_type": "fragment"
    }
   },
   "outputs": [
    {
     "data": {
      "text/plain": [
       "tensor([[ 0.2057, -0.1931,  0.1750,  0.0262,  0.1142],\n",
       "        [-0.0407, -0.6442, -0.0757, -0.0273, -0.0028],\n",
       "        [-0.1803,  0.0091,  0.1138,  0.2841,  0.1313]])"
      ]
     },
     "execution_count": 8,
     "metadata": {},
     "output_type": "execute_result"
    }
   ],
   "source": [
    "loss_fn = nn.MSELoss()\n",
    "input = torch.randn(3, 5, requires_grad=True) \n",
    "target = torch.randn(3, 5)\n",
    "output = loss_fn(input, target)\n",
    "output.backward()\n",
    "input.grad"
   ]
  },
  {
   "cell_type": "code",
   "execution_count": 9,
   "metadata": {
    "slideshow": {
     "slide_type": "subslide"
    }
   },
   "outputs": [],
   "source": [
    "def cross_entropy(true_label, prediction):\n",
    "    if true_label == 1:\n",
    "        return -log(prediction)\n",
    "    else:\n",
    "        return -log(1 - prediction)"
   ]
  },
  {
   "cell_type": "code",
   "execution_count": 10,
   "metadata": {
    "slideshow": {
     "slide_type": "fragment"
    }
   },
   "outputs": [
    {
     "data": {
      "text/plain": [
       "tensor([[ 0.0313,  0.0418, -0.2220,  0.1101,  0.0388],\n",
       "        [ 0.0161, -0.2335,  0.0586,  0.0391,  0.1198],\n",
       "        [ 0.0738, -0.1223,  0.0195,  0.0117,  0.0172]])"
      ]
     },
     "execution_count": 10,
     "metadata": {},
     "output_type": "execute_result"
    }
   ],
   "source": [
    "loss_fn = nn.CrossEntropyLoss()\n",
    "input = torch.randn(3, 5,requires_grad=True) \n",
    "target = torch.LongTensor(3).random_(5)\n",
    "output = loss_fn(input, target)\n",
    "output.backward()\n",
    "input.grad"
   ]
  },
  {
   "cell_type": "markdown",
   "metadata": {
    "slideshow": {
     "slide_type": "subslide"
    }
   },
   "source": [
    "### Gradient descent"
   ]
  },
  {
   "cell_type": "markdown",
   "metadata": {
    "slideshow": {
     "slide_type": "subslide"
    }
   },
   "source": [
    "\n",
    "Gradient descent can be thus summarized as\n",
    "\n",
    "Starting with some initial guess $(\\mathbf{\\theta}_0$, repeat for $k=1,2,\\dots)$\n",
    "\n",
    "*    Select a step size $\\eta_k$\n",
    "*    Update $(\\mathbf{\\theta}_k = (\\mathbf{\\theta}_{k-1} - \\eta_k \\nabla L((\\mathbf{\\theta}_{k-1})$\n",
    "*    Check optimality condition at $(\\mathbf{\\theta}_k$ and stop if minimum is reached\n",
    "\n",
    "We will discuss variants of the gradient descent algorithm that are used in practice in the sequel"
   ]
  },
  {
   "cell_type": "code",
   "execution_count": 11,
   "metadata": {
    "scrolled": false,
    "slideshow": {
     "slide_type": "fragment"
    }
   },
   "outputs": [
    {
     "name": "stderr",
     "output_type": "stream",
     "text": [
      "/home/chaimb/miniconda3/envs/cs236605-tutorials/lib/python3.6/site-packages/torch/nn/modules/container.py:91: UserWarning: Implicit dimension choice for softmax has been deprecated. Change the call to include dim=X as an argument.\n",
      "  input = module(input)\n"
     ]
    }
   ],
   "source": [
    "model = nn.Sequential(\n",
    "    nn.Linear(28*28, 10, bias=True),\n",
    "    nn.Softmax()\n",
    ")\n",
    "\n",
    "dataset = [\n",
    "    (torch.randn(1,28,28), torch.randn(1,10)),\n",
    "    (torch.randn(1,28,28), torch.randn(1,10)),\n",
    "]\n",
    "\n",
    "loss_fn = nn.MSELoss()\n",
    "\n",
    "# for demo\n",
    "import torch.optim as optim\n",
    "optimizer = optim.SGD(model.parameters(), lr = 0.01)\n",
    "for input, target in dataset:\n",
    "    input = input.view(1, -1)\n",
    "    optimizer.zero_grad()\n",
    "    output = model(input)\n",
    "    loss = loss_fn(output, target)\n",
    "    loss.backward()\n",
    "    optimizer.step()\n"
   ]
  },
  {
   "cell_type": "markdown",
   "metadata": {
    "slideshow": {
     "slide_type": "slide"
    }
   },
   "source": [
    "### Data preproccessing "
   ]
  },
  {
   "cell_type": "code",
   "execution_count": 12,
   "metadata": {
    "slideshow": {
     "slide_type": "subslide"
    }
   },
   "outputs": [],
   "source": [
    "import torch\n",
    "import torch.nn as nn\n",
    "import torch.nn.functional as F\n",
    "import torch.optim as optim\n",
    "from torchvision import datasets,transforms\n",
    "from torch.autograd import Variable\n",
    "import matplotlib.pyplot as plt\n",
    "%matplotlib inline"
   ]
  },
  {
   "cell_type": "code",
   "execution_count": 13,
   "metadata": {
    "slideshow": {
     "slide_type": "subslide"
    }
   },
   "outputs": [],
   "source": [
    "is_cuda = False\n",
    "if torch.cuda.is_available():\n",
    "    is_cuda = True"
   ]
  },
  {
   "cell_type": "code",
   "execution_count": 14,
   "metadata": {
    "slideshow": {
     "slide_type": "subslide"
    }
   },
   "outputs": [],
   "source": [
    "transformation = transforms.Compose([transforms.ToTensor(),transforms.Normalize((0.1307,), (0.3081,))])\n",
    "\n",
    "train_dataset = datasets.MNIST('data/',train=True,transform=transformation,download=True)\n",
    "test_dataset = datasets.MNIST('data/',train=False,transform=transformation,download=True)\n",
    "\n",
    "train_loader = torch.utils.data.DataLoader(train_dataset,batch_size=32,shuffle=True)\n",
    "test_loader = torch.utils.data.DataLoader(test_dataset,batch_size=32,shuffle=True)"
   ]
  },
  {
   "cell_type": "code",
   "execution_count": 15,
   "metadata": {
    "slideshow": {
     "slide_type": "subslide"
    }
   },
   "outputs": [],
   "source": [
    "sample_data = next(iter(train_loader))"
   ]
  },
  {
   "cell_type": "code",
   "execution_count": 16,
   "metadata": {
    "slideshow": {
     "slide_type": "subslide"
    }
   },
   "outputs": [],
   "source": [
    "def plot_img(image):\n",
    "    image = image.numpy()[0]\n",
    "    mean = 0.1307\n",
    "    std = 0.3081\n",
    "    image = ((mean * image) + std)\n",
    "    plt.imshow(image,cmap='gray')\n",
    "    \n",
    "    "
   ]
  },
  {
   "cell_type": "code",
   "execution_count": 17,
   "metadata": {
    "slideshow": {
     "slide_type": "subslide"
    }
   },
   "outputs": [
    {
     "data": {
      "image/png": "[encoded data removed]",
      "text/plain": [
       "<Figure size 432x288 with 1 Axes>"
      ]
     },
     "metadata": {
      "needs_background": "light"
     },
     "output_type": "display_data"
    }
   ],
   "source": [
    "plot_img(sample_data[0][2])"
   ]
  },
  {
   "cell_type": "code",
   "execution_count": 18,
   "metadata": {
    "scrolled": true,
    "slideshow": {
     "slide_type": "subslide"
    }
   },
   "outputs": [
    {
     "data": {
      "image/png": "[encoded data removed]",
      "text/plain": [
       "<Figure size 432x288 with 1 Axes>"
      ]
     },
     "metadata": {
      "needs_background": "light"
     },
     "output_type": "display_data"
    }
   ],
   "source": [
    "plot_img(sample_data[0][1])"
   ]
  },
  {
   "cell_type": "markdown",
   "metadata": {
    "slideshow": {
     "slide_type": "slide"
    }
   },
   "source": [
    "###  Intro to Convolutional Neural Networks"
   ]
  },
  {
   "cell_type": "markdown",
   "metadata": {
    "slideshow": {
     "slide_type": "subslide"
    }
   },
   "source": [
    "Neural networks making use of shift-invariant linear operations are called convolutional neural networks (CNNs). A convolutional layer accepts an $m$-dimensional vector-valued infinitely supported signal $\\mathbf{x} = (\\mathbf{x}^1,\\dots, \\mathbf{x}^m) = { (x_i^1,\\dots, x_i^m) }_{i \\in \\mathbb{Z}}$; each input dimension is called a channel or feature map. The layer produces an $n$-dimensional infinitely supported signal $\\mathbf{y} = (\\mathbf{y}^1,\\dots, \\mathbf{y}^n) = { (y_i^1,\\dots, y_i^n) }_{i \\in \\mathbb{Z}}$ by applying a bank of filters,\n",
    "\n",
    "$$ \\mathbf{y}^j = \\varphi\\left( \\sum_{i=1}^m \\mathbf{w}^{ij} \\ast \\mathbf{x}^{i} \\right), $$\n",
    "\n",
    "or, explicitly,\n",
    "\n",
    "$$ y^j_k = \\varphi\\left( \\sum_{i=1}^m \\sum_{p} w^{ij}p x^i{k-p} \\right). $$\n",
    "\n",
    "In practice, each filter $w^{ij}$ is supported on some small fixed domain."
   ]
  },
  {
   "cell_type": "code",
   "execution_count": 19,
   "metadata": {
    "slideshow": {
     "slide_type": "subslide"
    }
   },
   "outputs": [],
   "source": [
    "class Net(nn.Module):\n",
    "    def __init__(self):\n",
    "        super().__init__()\n",
    "        self.conv1 = nn.Conv2d(1, 10, kernel_size=5)\n",
    "        self.conv2 = nn.Conv2d(10, 20, kernel_size=5)\n",
    "        self.conv2_drop = nn.Dropout2d()\n",
    "        self.fc1 = nn.Linear(320, 50)\n",
    "        self.fc2 = nn.Linear(50, 10)\n",
    "\n",
    "    def forward(self, x):\n",
    "        x = F.relu(F.max_pool2d(self.conv1(x), 2))\n",
    "        x = F.relu(F.max_pool2d(self.conv2_drop(self.conv2(x)), 2))\n",
    "        x = x.view(-1, 320)\n",
    "        x = F.relu(self.fc1(x))\n",
    "        #x = F.dropout(x,p=0.1, training=self.training)\n",
    "        x = self.fc2(x)\n",
    "        return F.log_softmax(x,dim=1)"
   ]
  },
  {
   "cell_type": "code",
   "execution_count": 20,
   "metadata": {
    "slideshow": {
     "slide_type": "subslide"
    }
   },
   "outputs": [],
   "source": [
    "model = Net()\n",
    "if is_cuda:\n",
    "    model.cuda()"
   ]
  },
  {
   "cell_type": "code",
   "execution_count": 21,
   "metadata": {
    "slideshow": {
     "slide_type": "fragment"
    }
   },
   "outputs": [],
   "source": [
    "optimizer = optim.SGD(model.parameters(),lr=0.01)"
   ]
  },
  {
   "cell_type": "code",
   "execution_count": 22,
   "metadata": {
    "slideshow": {
     "slide_type": "fragment"
    }
   },
   "outputs": [],
   "source": [
    "data , target = next(iter(train_loader))"
   ]
  },
  {
   "cell_type": "code",
   "execution_count": 23,
   "metadata": {
    "slideshow": {
     "slide_type": "fragment"
    }
   },
   "outputs": [],
   "source": [
    "if is_cuda:\n",
    "    data = data.cuda()\n",
    "    \n",
    "output = model(data)"
   ]
  },
  {
   "cell_type": "code",
   "execution_count": 24,
   "metadata": {
    "slideshow": {
     "slide_type": "fragment"
    }
   },
   "outputs": [
    {
     "data": {
      "text/plain": [
       "torch.Size([32, 10])"
      ]
     },
     "execution_count": 24,
     "metadata": {},
     "output_type": "execute_result"
    }
   ],
   "source": [
    "output.size()"
   ]
  },
  {
   "cell_type": "code",
   "execution_count": 25,
   "metadata": {
    "slideshow": {
     "slide_type": "fragment"
    }
   },
   "outputs": [
    {
     "data": {
      "text/plain": [
       "torch.Size([32])"
      ]
     },
     "execution_count": 25,
     "metadata": {},
     "output_type": "execute_result"
    }
   ],
   "source": [
    "target.size()"
   ]
  },
  {
   "cell_type": "code",
   "execution_count": 26,
   "metadata": {
    "slideshow": {
     "slide_type": "subslide"
    }
   },
   "outputs": [],
   "source": [
    "def fit(epoch,model,data_loader,phase='training',volatile=False):\n",
    "    if phase == 'training':\n",
    "        model.train()\n",
    "    if phase == 'validation':\n",
    "        model.eval()\n",
    "    running_loss = 0.0\n",
    "    running_correct = 0\n",
    "    for batch_idx , (data,target) in enumerate(data_loader):\n",
    "        if is_cuda:\n",
    "            data,target = data.cuda(),target.cuda()\n",
    "        if phase == 'training':\n",
    "            optimizer.zero_grad()\n",
    "        output = model(data)\n",
    "        loss = F.nll_loss(output,target)\n",
    "        \n",
    "        running_loss += F.nll_loss(output,target,size_average=False).item()\n",
    "        preds = output.data.max(dim=1,keepdim=True)[1]\n",
    "        running_correct += preds.eq(target.data.view_as(preds)).cpu().sum()\n",
    "        if phase == 'training':\n",
    "            loss.backward()\n",
    "            optimizer.step()\n",
    "    \n",
    "    loss = running_loss/len(data_loader.dataset)\n",
    "    accuracy = 100. * running_correct.item()/len(data_loader.dataset)\n",
    "    print(f'{phase} loss is {loss:{5}.{2}} and {phase} accuracy is {running_correct}/{len(data_loader.dataset)}{accuracy:{10}.{4}}')\n",
    "    return loss,accuracy"
   ]
  },
  {
   "cell_type": "code",
   "execution_count": 27,
   "metadata": {
    "scrolled": true,
    "slideshow": {
     "slide_type": "subslide"
    }
   },
   "outputs": [
    {
     "name": "stderr",
     "output_type": "stream",
     "text": [
      "/home/chaimb/miniconda3/envs/cs236605-tutorials/lib/python3.6/site-packages/torch/nn/functional.py:52: UserWarning: size_average and reduce args will be deprecated, please use reduction='sum' instead.\n",
      "  warnings.warn(warning.format(ret))\n"
     ]
    },
    {
     "name": "stdout",
     "output_type": "stream",
     "text": [
      "training loss is  0.56 and training accuracy is 49644/60000     82.74\n",
      "validation loss is  0.16 and validation accuracy is 9536/10000     95.36\n",
      "training loss is   0.2 and training accuracy is 56408/60000     94.01\n",
      "validation loss is  0.11 and validation accuracy is 9676/10000     96.76\n",
      "training loss is  0.16 and training accuracy is 57193/60000     95.32\n",
      "validation loss is 0.078 and validation accuracy is 9750/10000      97.5\n",
      "training loss is  0.14 and training accuracy is 57610/60000     96.02\n",
      "validation loss is 0.065 and validation accuracy is 9784/10000     97.84\n",
      "training loss is  0.12 and training accuracy is 57857/60000     96.43\n",
      "validation loss is 0.063 and validation accuracy is 9798/10000     97.98\n",
      "training loss is  0.11 and training accuracy is 57995/60000     96.66\n",
      "validation loss is 0.053 and validation accuracy is 9822/10000     98.22\n",
      "training loss is   0.1 and training accuracy is 58158/60000     96.93\n",
      "validation loss is 0.046 and validation accuracy is 9852/10000     98.52\n",
      "training loss is 0.093 and training accuracy is 58308/60000     97.18\n",
      "validation loss is 0.045 and validation accuracy is 9867/10000     98.67\n",
      "training loss is 0.088 and training accuracy is 58403/60000     97.34\n",
      "validation loss is 0.045 and validation accuracy is 9853/10000     98.53\n"
     ]
    }
   ],
   "source": [
    "train_losses , train_accuracy = [],[]\n",
    "val_losses , val_accuracy = [],[]\n",
    "num_epochs = 10\n",
    "for epoch in range(1,num_epochs):\n",
    "    epoch_loss, epoch_accuracy = fit(epoch,model,train_loader,phase='training')\n",
    "    val_epoch_loss , val_epoch_accuracy = fit(epoch,model,test_loader,phase='validation')\n",
    "    train_losses.append(epoch_loss)\n",
    "    train_accuracy.append(epoch_accuracy)\n",
    "    val_losses.append(val_epoch_loss)\n",
    "    val_accuracy.append(val_epoch_accuracy)"
   ]
  },
  {
   "cell_type": "code",
   "execution_count": 28,
   "metadata": {
    "scrolled": false,
    "slideshow": {
     "slide_type": "subslide"
    }
   },
   "outputs": [
    {
     "data": {
      "image/png": "[encoded data removed]",
      "text/plain": [
       "<Figure size 432x288 with 1 Axes>"
      ]
     },
     "metadata": {
      "needs_background": "light"
     },
     "output_type": "display_data"
    }
   ],
   "source": [
    "plt.plot(range(1,len(train_losses)+1),train_losses,'b',label = 'training loss')\n",
    "plt.plot(range(1,len(val_losses)+1),val_losses,'r',label = 'validation loss')\n",
    "plt.xticks(range(1, num_epochs+1)); plt.xlabel('epoch')\n",
    "plt.legend();"
   ]
  },
  {
   "cell_type": "code",
   "execution_count": 29,
   "metadata": {
    "slideshow": {
     "slide_type": "subslide"
    }
   },
   "outputs": [
    {
     "data": {
      "image/png": "[encoded data removed]",
      "text/plain": [
       "<Figure size 432x288 with 1 Axes>"
      ]
     },
     "metadata": {
      "needs_background": "light"
     },
     "output_type": "display_data"
    }
   ],
   "source": [
    "plt.plot(range(1,len(train_accuracy)+1),train_accuracy,'b',label = 'train accuracy')\n",
    "plt.plot(range(1,len(val_accuracy)+1),val_accuracy,'r',label = 'val accuracy')\n",
    "plt.xticks(range(1, num_epochs+1)); plt.xlabel('epoch')\n",
    "plt.legend();"
   ]
  },
  {
   "cell_type": "markdown",
   "metadata": {
    "slideshow": {
     "slide_type": "slide"
    }
   },
   "source": [
    "## Understanding 1d convolutions"
   ]
  },
  {
   "cell_type": "code",
   "execution_count": 30,
   "metadata": {
    "slideshow": {
     "slide_type": "subslide"
    }
   },
   "outputs": [],
   "source": [
    "conv = nn.Conv1d(1,1,3,bias=False)"
   ]
  },
  {
   "cell_type": "code",
   "execution_count": 31,
   "metadata": {
    "slideshow": {
     "slide_type": "fragment"
    }
   },
   "outputs": [
    {
     "data": {
      "text/plain": [
       "Parameter containing:\n",
       "tensor([[[-0.4096, -0.1064, -0.4294]]], requires_grad=True)"
      ]
     },
     "execution_count": 31,
     "metadata": {},
     "output_type": "execute_result"
    }
   ],
   "source": [
    "conv.weight"
   ]
  },
  {
   "cell_type": "code",
   "execution_count": 32,
   "metadata": {
    "slideshow": {
     "slide_type": "fragment"
    }
   },
   "outputs": [],
   "source": [
    "sample = torch.randn(1,1,7)"
   ]
  },
  {
   "cell_type": "code",
   "execution_count": 33,
   "metadata": {
    "slideshow": {
     "slide_type": "fragment"
    }
   },
   "outputs": [
    {
     "data": {
      "text/plain": [
       "tensor([[[ 0.7550, -0.0373, -2.4156,  0.8256, -0.2948,  0.2107, -0.8680]]])"
      ]
     },
     "execution_count": 33,
     "metadata": {},
     "output_type": "execute_result"
    }
   ],
   "source": [
    "sample"
   ]
  },
  {
   "cell_type": "code",
   "execution_count": 34,
   "metadata": {
    "scrolled": true,
    "slideshow": {
     "slide_type": "fragment"
    }
   },
   "outputs": [
    {
     "data": {
      "text/plain": [
       "tensor([[[ 0.7319, -0.0821,  1.0281, -0.3973,  0.4710]]], grad_fn=<SqueezeBackward1>)"
      ]
     },
     "execution_count": 34,
     "metadata": {},
     "output_type": "execute_result"
    }
   ],
   "source": [
    "conv(Variable(sample))"
   ]
  },
  {
   "cell_type": "markdown",
   "metadata": {
    "slideshow": {
     "slide_type": "subslide"
    }
   },
   "source": [
    "### Understand how padding works in Conv1d"
   ]
  },
  {
   "cell_type": "code",
   "execution_count": 35,
   "metadata": {
    "slideshow": {
     "slide_type": "subslide"
    }
   },
   "outputs": [
    {
     "data": {
      "text/plain": [
       "Parameter containing:\n",
       "tensor([[[-0.2375,  0.3614, -0.2950]]], requires_grad=True)"
      ]
     },
     "execution_count": 35,
     "metadata": {},
     "output_type": "execute_result"
    }
   ],
   "source": [
    "conv = nn.Conv1d(1,1,3,padding=2,bias=False)\n",
    "conv.weight"
   ]
  },
  {
   "cell_type": "code",
   "execution_count": 36,
   "metadata": {
    "slideshow": {
     "slide_type": "fragment"
    }
   },
   "outputs": [
    {
     "data": {
      "text/plain": [
       "tensor([[[ 0.0784, -0.4787,  1.0629, -0.0769, -1.1477, -1.2226, -1.0549]]])"
      ]
     },
     "execution_count": 36,
     "metadata": {},
     "output_type": "execute_result"
    }
   ],
   "source": [
    "sample = torch.randn(1,1,7)\n",
    "sample"
   ]
  },
  {
   "cell_type": "code",
   "execution_count": 37,
   "metadata": {
    "slideshow": {
     "slide_type": "fragment"
    }
   },
   "outputs": [
    {
     "data": {
      "text/plain": [
       "tensor([[[-0.0231,  0.1695, -0.5052,  0.5205,  0.0583, -0.0358,  0.1420,\n",
       "          -0.0908,  0.2506]]], grad_fn=<SqueezeBackward1>)"
      ]
     },
     "execution_count": 37,
     "metadata": {},
     "output_type": "execute_result"
    }
   ],
   "source": [
    "conv(sample)"
   ]
  }
 ],
 "metadata": {
  "celltoolbar": "Slideshow",
  "kernelspec": {
   "display_name": "Python 3",
   "language": "python",
   "name": "python3"
  },
  "language_info": {
   "codemirror_mode": {
    "name": "ipython",
    "version": 3
   },
   "file_extension": ".py",
   "mimetype": "text/x-python",
   "name": "python",
   "nbconvert_exporter": "python",
   "pygments_lexer": "ipython3",
   "version": "3.6.7"
  }
 },
 "nbformat": 4,
 "nbformat_minor": 2
}

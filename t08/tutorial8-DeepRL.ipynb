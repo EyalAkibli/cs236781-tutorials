{
 "cells": [
  {
   "cell_type": "markdown",
   "metadata": {
    "slideshow": {
     "slide_type": "slide"
    }
   },
   "source": [
    "$$\n",
    "\\newcommand{\\mat}[1]{\\boldsymbol {#1}}\n",
    "\\newcommand{\\mattr}[1]{\\boldsymbol {#1}^\\top}\n",
    "\\newcommand{\\matinv}[1]{\\boldsymbol {#1}^{-1}}\n",
    "\\newcommand{\\vec}[1]{\\boldsymbol {#1}}\n",
    "\\newcommand{\\vectr}[1]{\\boldsymbol {#1}^\\top}\n",
    "\\newcommand{\\rvar}[1]{\\mathrm {#1}}\n",
    "\\newcommand{\\rvec}[1]{\\boldsymbol{\\mathrm{#1}}}\n",
    "\\newcommand{\\diag}{\\mathop{\\mathrm {diag}}}\n",
    "\\newcommand{\\set}[1]{\\mathbb {#1}}\n",
    "\\newcommand{\\cset}[1]{\\mathcal{#1}}\n",
    "\\newcommand{\\norm}[1]{\\left\\lVert#1\\right\\rVert}\n",
    "\\newcommand{\\pderiv}[2]{\\frac{\\partial #1}{\\partial #2}}\n",
    "\\newcommand{\\bb}[1]{\\boldsymbol{#1}}\n",
    "\\newcommand{\\E}[2][]{\\mathbb{E}_{#1}\\left[#2\\right]}\n",
    "\\newcommand{\\given}[]{~\\middle\\vert~}\n",
    "$$\n",
    "\n",
    "# CS236781: Deep Learning\n",
    "# Tutorial 8: Deep Reinforcement Learning"
   ]
  },
  {
   "cell_type": "markdown",
   "metadata": {
    "slideshow": {
     "slide_type": "subslide"
    }
   },
   "source": [
    "## Introduction\n",
    "\n",
    "In this tutorial, we will cover:\n",
    "\n",
    "- The reinforcement learning setting\n",
    "- OpenAI gym\n",
    "- Learning to play Atari games with Deep $q$-learning"
   ]
  },
  {
   "cell_type": "code",
   "execution_count": 1,
   "metadata": {
    "slideshow": {
     "slide_type": "subslide"
    }
   },
   "outputs": [],
   "source": [
    "# Setup\n",
    "%matplotlib inline\n",
    "import os\n",
    "import sys\n",
    "import math\n",
    "import time\n",
    "import torch\n",
    "import numpy as np\n",
    "import matplotlib.pyplot as plt"
   ]
  },
  {
   "cell_type": "code",
   "execution_count": 2,
   "metadata": {
    "slideshow": {
     "slide_type": "fragment"
    }
   },
   "outputs": [
    {
     "name": "stdout",
     "output_type": "stream",
     "text": [
      "running on: cpu\n"
     ]
    }
   ],
   "source": [
    "plt.rcParams['font.size'] = 20\n",
    "data_dir = os.path.expanduser('~/.pytorch-datasets')\n",
    "device = torch.device('cuda' if torch.cuda.is_available() else 'cpu')\n",
    "print(f'running on: {device}')"
   ]
  },
  {
   "cell_type": "markdown",
   "metadata": {
    "slideshow": {
     "slide_type": "slide"
    }
   },
   "source": [
    "## Theory Reminders: The RL setting"
   ]
  },
  {
   "cell_type": "markdown",
   "metadata": {
    "slideshow": {
     "slide_type": "subslide"
    }
   },
   "source": [
    "## Reinforcement learning is a general framework for a learning setting which includes:\n",
    "- An agent: something which interacts, or performs actions on an **environment** on our behalf,\n",
    "  according to some deterministic or stochcastic policy.\n",
    "- Actions: Things that the agent can do.\n",
    "- An environment: Everything outside of the agent's control. The agent can (partially) observe it's state,\n",
    "  and it periodically gets rewards from the environment.\n",
    "- Observations: Things about the state of the environment which the agent can periodically observe.\n",
    "- Reward: A scalar value which the agent receives from the environment after (some) actions."
   ]
  },
  {
   "cell_type": "markdown",
   "metadata": {
    "slideshow": {
     "slide_type": "subslide"
    }
   },
   "source": [
    "<center><img src=\"img/rl_setting2.png\" width=\"800\"/></center>"
   ]
  },
  {
   "cell_type": "markdown",
   "metadata": {
    "slideshow": {
     "slide_type": "subslide"
    }
   },
   "source": [
    "**Example**: Playing video games\n",
    "- Agent: A human or AI player that can perform actions in the game. \n",
    "- Actions: what can be done by the player (e.g. move, fire, use, etc.).\n",
    "- Environment: The internal state of the game, and anything that influences it, e.g. other players. Potentially everything in the universe.\n",
    "- Observations: What the player sees, e.g. game screen, score.\n",
    "- Reward: Total accumulated score."
   ]
  },
  {
   "cell_type": "markdown",
   "metadata": {
    "slideshow": {
     "slide_type": "subslide"
    }
   },
   "source": [
    "So far we have seen two types of learning paradigms:\n",
    "- Supervised, in which we learn a mapping based on labelled samples;\n",
    "- Unsupervised, in which we learn the latent structure of our data."
   ]
  },
  {
   "cell_type": "markdown",
   "metadata": {
    "slideshow": {
     "slide_type": "fragment"
    }
   },
   "source": [
    "Reinforcement learning is a different paradigm which doesn't cleanly map into either supervised or unsupervised.\n",
    "\n",
    "- On one hand, there are no predefined labels.\n",
    "- However, instead we have a **reward system**, which guides the learning process through.\n",
    "- By observing rewards (which can be positive, negative or neutral) we expect our agent to learn what actions (and which states) lead to positive rewards.\n",
    "- In essence, we **create our own labels** based on the experiences of the agent."
   ]
  },
  {
   "cell_type": "markdown",
   "metadata": {
    "slideshow": {
     "slide_type": "subslide"
    }
   },
   "source": [
    "The RL setting presents some unique challenges."
   ]
  },
  {
   "cell_type": "markdown",
   "metadata": {
    "slideshow": {
     "slide_type": "fragment"
    }
   },
   "source": [
    "- Non i.i.d observations\n",
    "    - since they depend on the agent\n",
    "    - we might observe only non-useful information\n",
    "- Exploration vs. exploitation trade-off\n",
    "    - discovering new strategies may be at the cost of short term rewards loss\n",
    "- Delayed reward: can even be one single reward at the end\n",
    "    - need to discover causal relations between actions and rewards despite the delays"
   ]
  },
  {
   "cell_type": "markdown",
   "metadata": {
    "slideshow": {
     "slide_type": "slide"
    }
   },
   "source": [
    "### Markov processes"
   ]
  },
  {
   "cell_type": "markdown",
   "metadata": {
    "slideshow": {
     "slide_type": "subslide"
    }
   },
   "source": [
    "A **Markov process** (MP; aka Markov chain), is a system with a finite number of **states**, and time-invariant **transition probabilities** between them.\n",
    "- **Markov property**: transition probabilities to next state depend only on current state.\n",
    "- At each time step $t$, the next state $S_{t+1}$ is sampled based on the current state $S_{t}$.\n",
    "- Fully described by states $\\cset{S}=\\{s_i\\}_{i=1}^{N}$ and transition matrix\n",
    "  $$P_{i,j}=P(s_i,s_j)=\\Pr(S_{t+1}=s_j|S_{t}=s_i).$$\n",
    "- Some states, $\\cset{S}_T\\subset\\cset{S}$, may be terminal, i.e.\n",
    "  $\\forall s\\in\\cset{S}_T, s'\\in\\cset{S}:~P(s,s')=0$."
   ]
  },
  {
   "cell_type": "markdown",
   "metadata": {
    "slideshow": {
     "slide_type": "subslide"
    }
   },
   "source": [
    "A **Markov reward process** (MRP) is an MP where in addition we have,\n",
    "- Immediate reward for transition from state $s_i$ to state $s_j$: $R_{i,j} = R(s_i,s_j)$.\n",
    "- Discount factor $\\gamma\\in[0,1]$ for future rewards."
   ]
  },
  {
   "cell_type": "markdown",
   "metadata": {
    "slideshow": {
     "slide_type": "fragment"
    }
   },
   "source": [
    "Total discounted reward (aka gain) from time $t$:\n",
    "$$\n",
    "G_t = R_{t+1}+\\gamma R_{t+2} + \\dots = \\sum_{k=0}^{\\infty} \\gamma^k R_{t+1+k}.\n",
    "$$"
   ]
  },
  {
   "cell_type": "markdown",
   "metadata": {
    "slideshow": {
     "slide_type": "fragment"
    }
   },
   "source": [
    "The **value** of a state $s$ it's it's expected future return:\n",
    "$$\n",
    "v(s) = \\E{G_t|S_t = s}.\n",
    "$$"
   ]
  },
  {
   "cell_type": "markdown",
   "metadata": {
    "slideshow": {
     "slide_type": "subslide"
    }
   },
   "source": [
    "A **Markov desicion process** (MDP) is an MRP where in addition,\n",
    "- We have a finite set of **actions** that can be performed by our agent at each state: $\\cset{A}=\\{a_k\\}_{k=1}^{K}$."
   ]
  },
  {
   "cell_type": "markdown",
   "metadata": {
    "slideshow": {
     "slide_type": "fragment"
    }
   },
   "source": [
    "- The transition probabilities are now action-dependent:\n",
    "   $$P_{i,j,k} = P_{a_k}(s_i,s_j) = \\Pr(S_{t+1}=s_j|S_t=s_i,A_t=a_k).$$\n",
    "   \n",
    "   <center><img src=\"img/mdp_transition_prob.png\" width=\"500\"/></center>"
   ]
  },
  {
   "cell_type": "markdown",
   "metadata": {
    "slideshow": {
     "slide_type": "fragment"
    }
   },
   "source": [
    "- The immediate reward is now also action-dependent. We will also ignore the dependence on the next state:\n",
    "$$\n",
    "R_{t+1} = R(S_t,A_t).\n",
    "$$"
   ]
  },
  {
   "cell_type": "markdown",
   "metadata": {
    "slideshow": {
     "slide_type": "subslide"
    }
   },
   "source": [
    "We define the **policy** of an agent as the conditional distribution,\n",
    "$$\n",
    "\\pi(a|s) = \\Pr(A_t=a\\vert S_t=s).\n",
    "$$\n",
    "This defines the actions the agent is likely to take at state $s$. Assumed to be time invariant."
   ]
  },
  {
   "cell_type": "markdown",
   "metadata": {
    "slideshow": {
     "slide_type": "skip"
    }
   },
   "source": [
    "The **state-value function** of an MDP is now policy-dependent:\n",
    "\n",
    "\\begin{align}\n",
    "v_{\\pi}(s) = \\E{G_t|S_t = s,\\pi} \n",
    "= \\E{\\sum_{t=0}^{\\infty} \\gamma^t R_{t+1}\\given S_0=s, \\pi} \n",
    "= \\E{R_1 +\\gamma v_\\pi(S_1) \\given S_0=s, \\pi}.\n",
    "\\end{align}"
   ]
  },
  {
   "cell_type": "markdown",
   "metadata": {
    "slideshow": {
     "slide_type": "skip"
    }
   },
   "source": [
    "Notice:\n",
    "1. The state value is the *expected immediate return* plus the *expected discounted value of the next state*.\n",
    "2. The expectation is over the selected action (under the policy distribution) and the next state due to this action."
   ]
  },
  {
   "cell_type": "markdown",
   "metadata": {
    "slideshow": {
     "slide_type": "skip"
    }
   },
   "source": [
    "Writing the expectation explicitly for the state-value function, we get:\n",
    "\n",
    "$$\n",
    "v_{\\pi}(s) =\n",
    "\\sum_{a\\in\\cset{A}}\\pi(a|s)R(s,a) +\n",
    "\\gamma \\sum_{a\\in\\cset{A}} \\sum_{s'\\in\\cset{S}} \\pi(a|s) P_{a}(s,s') v_{\\pi}(s').\n",
    "$$\n",
    "\n",
    "<center><img src=\"img/v_expectation.png\" width=\"800\" /></center>\n"
   ]
  },
  {
   "cell_type": "markdown",
   "metadata": {
    "slideshow": {
     "slide_type": "skip"
    }
   },
   "source": [
    "Example MDP with computed state values (not optimal)\n",
    "\n",
    "<center><img src=\"img/mdp.png\" width=\"700\"/></center>\n"
   ]
  },
  {
   "cell_type": "markdown",
   "metadata": {
    "slideshow": {
     "slide_type": "skip"
    }
   },
   "source": [
    "Value of the right study state:\n",
    "$$\n",
    "0.5\\cdot(1+0.2\\cdot (-1.3) + 0.4 \\cdot 2.7 + 0.4\\cdot 7.4) + 0.5\\cdot (10+0) = 7.4\n",
    "$$"
   ]
  },
  {
   "cell_type": "markdown",
   "metadata": {
    "slideshow": {
     "slide_type": "subslide"
    }
   },
   "source": [
    "We also define an **action-value function** which is the expected return of a an agent starting at state $s$ and performing action $a$:\n",
    "\n",
    "\\begin{align}\n",
    "q_{\\pi}(s,a) &= \\E{G_t|S_t = s,A_t=a,\\pi} \\\\\n",
    "&= \\E{\\sum_{t=0}^{\\infty} \\gamma^t R_{t+1}\\given S_0=s, A_0=a, \\pi} \\\\\n",
    "&= \\E{R_1 + \\gamma q_{\\pi}(S_1,A_1) \\given S_0=s, A_0=a, \\pi}.\n",
    "\\end{align}"
   ]
  },
  {
   "cell_type": "markdown",
   "metadata": {
    "slideshow": {
     "slide_type": "subslide"
    }
   },
   "source": [
    "Similarly to before, we can write the expectation explicitly for the action-value function:\n",
    "\n",
    "$$\n",
    "q_{\\pi}(s,a) =\n",
    "R(s,a) +\n",
    "\\gamma \\sum_{s'\\in\\cset{S}} P_{a}(s,s') \\sum_{a'\\in\\cset{A}} \\pi(a'|s') q_{\\pi}(s',a').\n",
    "$$\n",
    "\n",
    "<center><img src=\"img/q_expectation.png\" width=\"800\" /></center>\n"
   ]
  },
  {
   "cell_type": "markdown",
   "metadata": {
    "slideshow": {
     "slide_type": "subslide"
    }
   },
   "source": [
    "Notice that if instead of taking the expectation over actions we take the action with the maximal value,\n",
    "we'll get a better action-value for our current state.\n",
    "\n",
    "Therefore, any **optimal** action-value function $q^\\ast$ must satisfy\n",
    "\n",
    "$$\n",
    "q^\\ast(s,a) =\n",
    "R(s,a) +\n",
    "\\gamma \\sum_{s'\\in\\cset{S}} P_{a}(s,s') \\max_{a'\\in\\cset{A}} q^\\ast(s',a'),\n",
    "$$\n",
    "which is known as the **Bellman optimiality equation**."
   ]
  },
  {
   "cell_type": "markdown",
   "metadata": {
    "slideshow": {
     "slide_type": "fragment"
    }
   },
   "source": [
    "- For any MDP, there is always at least one **deterministic optimal policy**.\n",
    "- If we somehow know the optimal action value function, $q^\\ast(s,a)$, we can get an optimal policy:\n",
    "\n",
    "$$\n",
    "\\pi^\\ast(a|s) =\n",
    "\\begin{cases}\n",
    "1, & a = \\arg\\max_{a'\\in\\cset{A}} q^\\ast(s,a') \\\\\n",
    "0, & \\text{else}\n",
    "\\end{cases}\n",
    "$$"
   ]
  },
  {
   "cell_type": "markdown",
   "metadata": {
    "slideshow": {
     "slide_type": "subslide"
    }
   },
   "source": [
    "- In the RL setting, we generally assume an MDP-based environment, however we **do not** assume that $P$ and $R$ are known.\n",
    "- Therefore, the challenge is to learn both the action value function (or the policy directly)\n",
    "  while simultaneously also learning the underlying environment dynamics (\"rules of the game\")."
   ]
  },
  {
   "cell_type": "markdown",
   "metadata": {
    "slideshow": {
     "slide_type": "subslide"
    }
   },
   "source": [
    "### Experiences and Episodes"
   ]
  },
  {
   "cell_type": "markdown",
   "metadata": {
    "slideshow": {
     "slide_type": "fragment"
    }
   },
   "source": [
    "These are two important RL terms which are commonly used in the context of\n",
    "gathering data from and training RL models on this data."
   ]
  },
  {
   "cell_type": "markdown",
   "metadata": {
    "slideshow": {
     "slide_type": "subslide"
    }
   },
   "source": [
    "- An **experience** is a tuple $(S_t,A_t,R_{t+1},S_{t+1})$. It represents what happened to an agent due to his action at time $t$.\n",
    "\n",
    "- An **episode** is a sequence of experiences\n",
    "  $$\n",
    "  \\left\\{ (S_0,A_0,R_1), (S_1,A_1,R_2), \\dots \\right\\}\n",
    "  $$\n",
    "  which represents one entire \"game\" for the agent.\n",
    "  \n",
    "\n",
    "<center><img src=\"img/rl_episodes.png\" width=\"1300\" /></center>\n"
   ]
  },
  {
   "cell_type": "markdown",
   "metadata": {
    "slideshow": {
     "slide_type": "slide"
    }
   },
   "source": [
    "## OpenAI Gym"
   ]
  },
  {
   "cell_type": "markdown",
   "metadata": {
    "slideshow": {
     "slide_type": "fragment"
    }
   },
   "source": [
    "<img src=\"https://gym.openai.com/assets/dist/home/header/home-icon-54c30e2345.svg\" width=\"150\" />\n",
    "\n",
    "From the official [site](https://gym.openai.com):\n",
    "\n",
    "    Gym is a toolkit for developing and comparing reinforcement\n",
    "    learning algorithms. \n",
    "    It supports teaching agents everything from walking to playing games\n",
    "    like Pong or Pinball."
   ]
  },
  {
   "cell_type": "markdown",
   "metadata": {
    "slideshow": {
     "slide_type": "fragment"
    }
   },
   "source": [
    "In RL terms, `gym` will provide us an **environment** which comes with states,\n",
    "possible actions and rewards.\n",
    "We will implement our **agent** to work with these environments."
   ]
  },
  {
   "cell_type": "markdown",
   "metadata": {
    "slideshow": {
     "slide_type": "subslide"
    }
   },
   "source": [
    "We'll see a quick example and then explain what's going on and how to use `gym`."
   ]
  },
  {
   "cell_type": "markdown",
   "metadata": {
    "slideshow": {
     "slide_type": "fragment"
    }
   },
   "source": [
    "Let's play the classic Atari game **Space Invaders**, using a randomly-playing agent.\n",
    "\n",
    "<center><img src=\"img/space-invaders-atari-2600.jpg\" width=\"400\"/></center>\n"
   ]
  },
  {
   "cell_type": "code",
   "execution_count": 3,
   "metadata": {
    "slideshow": {
     "slide_type": "slide"
    }
   },
   "outputs": [
    {
     "name": "stdout",
     "output_type": "stream",
     "text": [
      "Played 389 steps. Total reward: 100.0\n"
     ]
    }
   ],
   "source": [
    "import gym\n",
    "from gym.wrappers import Monitor\n",
    "\n",
    "# Create a new SpaceInvaders environment\n",
    "# Wrap it in a Monitor so that we record video\n",
    "with Monitor(gym.make('SpaceInvaders-v0'), \"out\", force=True) as env:\n",
    "    \n",
    "    # Reset the env to start a new episode\n",
    "    env.reset()\n",
    "    episode_done = False\n",
    "    total_reward = 0\n",
    "    total_steps = 0\n",
    "    \n",
    "    # This is our agent code. It will just play randomly.\n",
    "    # As long as the episode is not done (not Game Over), we:\n",
    "    while not episode_done:\n",
    "        # 1. Choose a random valid action to do\n",
    "        action = env.action_space.sample()\n",
    "        \n",
    "        # 2. Do the random action and get feedback from the environment\n",
    "        obs, reward, episode_done, extra_info = env.step(action)\n",
    "        \n",
    "        total_reward += reward\n",
    "        total_steps += 1\n",
    "\n",
    "print(f'Played {total_steps} steps. Total reward: {total_reward}')"
   ]
  },
  {
   "cell_type": "markdown",
   "metadata": {
    "slideshow": {
     "slide_type": "subslide"
    }
   },
   "source": [
    "How do we see what happened?\n",
    "\n",
    "We have a video recording of the last episode generated by our `Monitor`."
   ]
  },
  {
   "cell_type": "code",
   "execution_count": 4,
   "metadata": {
    "slideshow": {
     "slide_type": "fragment"
    }
   },
   "outputs": [],
   "source": [
    "import IPython.display\n",
    "\n",
    "# A helper function that shows the last video from a Monitor env wrapper\n",
    "def show_last_video(monitor_env, width='auto', height='auto'):\n",
    "    video_path = monitor_env.videos[-1][0]\n",
    "    video_path = os.path.relpath(video_path, start=os.path.curdir)\n",
    "    raw_html = f'<center><video src=\"{video_path}\" controls autoplay width=\"{width}\" height=\"{height}\" /></center>'\n",
    "    return IPython.display.HTML(data=raw_html)"
   ]
  },
  {
   "cell_type": "code",
   "execution_count": 5,
   "metadata": {
    "slideshow": {
     "slide_type": "subslide"
    }
   },
   "outputs": [
    {
     "name": "stdout",
     "output_type": "stream",
     "text": [
      "Our random agent in action:\n"
     ]
    },
    {
     "data": {
      "text/html": [
       "<center><video src=\"out/openaigym.video.0.26073.video000000.mp4\" controls autoplay width=\"400\" height=\"auto\" /></center>"
      ],
      "text/plain": [
       "<IPython.core.display.HTML object>"
      ]
     },
     "execution_count": 5,
     "metadata": {},
     "output_type": "execute_result"
    }
   ],
   "source": [
    "print('Our random agent in action:')\n",
    "show_last_video(env, width=400)"
   ]
  },
  {
   "cell_type": "markdown",
   "metadata": {
    "slideshow": {
     "slide_type": "subslide"
    }
   },
   "source": [
    "`gym` offeres many other available environments:  \n",
    " <https://gym.openai.com/envs>\n",
    " \n",
    " And you can implement your own environments to represent any custom RL task."
   ]
  },
  {
   "cell_type": "markdown",
   "metadata": {
    "slideshow": {
     "slide_type": "subslide"
    }
   },
   "source": [
    "### Anatomy of an `Environment`"
   ]
  },
  {
   "cell_type": "markdown",
   "metadata": {
    "slideshow": {
     "slide_type": "fragment"
    }
   },
   "source": [
    "Let's dig in a bit deeper to see what we're working with when using `gym`'s `Environment`s."
   ]
  },
  {
   "cell_type": "markdown",
   "metadata": {
    "slideshow": {
     "slide_type": "subslide"
    }
   },
   "source": [
    "Usually, the `Environment` you use is actually multiple environments, each wrapping another.\n",
    "We'll see what \"wrapping\" means later."
   ]
  },
  {
   "cell_type": "code",
   "execution_count": 6,
   "metadata": {
    "slideshow": {
     "slide_type": "fragment"
    }
   },
   "outputs": [
    {
     "data": {
      "text/plain": [
       "<TimeLimit<AtariEnv<SpaceInvaders-v0>>>"
      ]
     },
     "execution_count": 6,
     "metadata": {},
     "output_type": "execute_result"
    }
   ],
   "source": [
    "env = gym.make('SpaceInvaders-v0')\n",
    "env"
   ]
  },
  {
   "cell_type": "markdown",
   "metadata": {
    "slideshow": {
     "slide_type": "subslide"
    }
   },
   "source": [
    "#### Observations"
   ]
  },
  {
   "cell_type": "code",
   "execution_count": 7,
   "metadata": {
    "slideshow": {
     "slide_type": "fragment"
    }
   },
   "outputs": [],
   "source": [
    "# Starts a new episode, returning an initial observation\n",
    "obs = env.reset()"
   ]
  },
  {
   "cell_type": "markdown",
   "metadata": {
    "slideshow": {
     "slide_type": "fragment"
    }
   },
   "source": [
    "What are we observing exactly?"
   ]
  },
  {
   "cell_type": "code",
   "execution_count": 8,
   "metadata": {
    "slideshow": {
     "slide_type": "fragment"
    }
   },
   "outputs": [
    {
     "name": "stdout",
     "output_type": "stream",
     "text": [
      "<class 'numpy.ndarray'>\n"
     ]
    },
    {
     "data": {
      "text/plain": [
       "(210, 160, 3)"
      ]
     },
     "execution_count": 8,
     "metadata": {},
     "output_type": "execute_result"
    }
   ],
   "source": [
    "print(type(obs))\n",
    "obs.shape"
   ]
  },
  {
   "cell_type": "code",
   "execution_count": 9,
   "metadata": {
    "slideshow": {
     "slide_type": "subslide"
    }
   },
   "outputs": [
    {
     "data": {
      "image/png": "[encoded data removed]",
      "text/plain": [
       "<Figure size 432x432 with 1 Axes>"
      ]
     },
     "metadata": {
      "needs_background": "light"
     },
     "output_type": "display_data"
    }
   ],
   "source": [
    "def show_observation(obs, size=6, cmap=None):\n",
    "    f, ax = plt.subplots(1,1,figsize=(size,size))\n",
    "    ax.imshow(obs, cmap=cmap)\n",
    "    ax.axis('off')\n",
    "\n",
    "show_observation(obs)"
   ]
  },
  {
   "cell_type": "markdown",
   "metadata": {
    "slideshow": {
     "slide_type": "subslide"
    }
   },
   "source": [
    "What is the space of possible observations?"
   ]
  },
  {
   "cell_type": "code",
   "execution_count": 10,
   "metadata": {
    "slideshow": {
     "slide_type": "fragment"
    }
   },
   "outputs": [
    {
     "data": {
      "text/plain": [
       "Box(210, 160, 3)"
      ]
     },
     "execution_count": 10,
     "metadata": {},
     "output_type": "execute_result"
    }
   ],
   "source": [
    "env.observation_space"
   ]
  },
  {
   "cell_type": "markdown",
   "metadata": {
    "slideshow": {
     "slide_type": "subslide"
    }
   },
   "source": [
    "`Box` is a `Space` which represents an n-dimentinoal Tensor with values in range [low, high]."
   ]
  },
  {
   "cell_type": "code",
   "execution_count": 11,
   "metadata": {
    "slideshow": {
     "slide_type": "fragment"
    }
   },
   "outputs": [
    {
     "data": {
      "text/plain": [
       "(0, 255)"
      ]
     },
     "execution_count": 11,
     "metadata": {},
     "output_type": "execute_result"
    }
   ],
   "source": [
    "(env.observation_space.low.reshape(-1)[0],\n",
    "env.observation_space.high.reshape(-1)[0])"
   ]
  },
  {
   "cell_type": "code",
   "execution_count": 12,
   "metadata": {
    "slideshow": {
     "slide_type": "subslide"
    }
   },
   "outputs": [
    {
     "data": {
      "image/png": "[encoded data removed]",
      "text/plain": [
       "<Figure size 432x432 with 1 Axes>"
      ]
     },
     "metadata": {
      "needs_background": "light"
     },
     "output_type": "display_data"
    }
   ],
   "source": [
    "obs_sample = env.observation_space.sample()\n",
    "\n",
    "show_observation(obs_sample)"
   ]
  },
  {
   "cell_type": "markdown",
   "metadata": {
    "slideshow": {
     "slide_type": "subslide"
    }
   },
   "source": [
    "#### Actions"
   ]
  },
  {
   "cell_type": "markdown",
   "metadata": {
    "slideshow": {
     "slide_type": "fragment"
    }
   },
   "source": [
    "What **actions** can we perform in this environment?"
   ]
  },
  {
   "cell_type": "code",
   "execution_count": 13,
   "metadata": {
    "slideshow": {
     "slide_type": "fragment"
    }
   },
   "outputs": [
    {
     "data": {
      "text/plain": [
       "Discrete(6)"
      ]
     },
     "execution_count": 13,
     "metadata": {},
     "output_type": "execute_result"
    }
   ],
   "source": [
    "env.action_space"
   ]
  },
  {
   "cell_type": "markdown",
   "metadata": {
    "slideshow": {
     "slide_type": "subslide"
    }
   },
   "source": [
    "`Discrete` is a `Space` which represents `n` integers with values `0,1,...,n-1`.\n",
    "\n",
    "In this case, this means we have 6 possible actions we can choose from at each step of our game."
   ]
  },
  {
   "cell_type": "code",
   "execution_count": 14,
   "metadata": {
    "slideshow": {
     "slide_type": "fragment"
    }
   },
   "outputs": [
    {
     "name": "stdout",
     "output_type": "stream",
     "text": [
      "True\n",
      "False\n"
     ]
    }
   ],
   "source": [
    "print(env.action_space.contains(0))\n",
    "print(env.action_space.contains(6))"
   ]
  },
  {
   "cell_type": "markdown",
   "metadata": {
    "slideshow": {
     "slide_type": "subslide"
    }
   },
   "source": [
    "But what do they mean? It's game specific. For the Atari environments:"
   ]
  },
  {
   "cell_type": "code",
   "execution_count": 15,
   "metadata": {
    "slideshow": {
     "slide_type": "fragment"
    }
   },
   "outputs": [
    {
     "data": {
      "text/plain": [
       "['NOOP', 'FIRE', 'RIGHT', 'LEFT', 'RIGHTFIRE', 'LEFTFIRE']"
      ]
     },
     "execution_count": 15,
     "metadata": {},
     "output_type": "execute_result"
    }
   ],
   "source": [
    "env.unwrapped.get_action_meanings()"
   ]
  },
  {
   "cell_type": "markdown",
   "metadata": {
    "slideshow": {
     "slide_type": "subslide"
    }
   },
   "source": [
    "How do we perform **actions** on the environment?"
   ]
  },
  {
   "cell_type": "code",
   "execution_count": 16,
   "metadata": {
    "slideshow": {
     "slide_type": "subslide"
    }
   },
   "outputs": [
    {
     "name": "stdout",
     "output_type": "stream",
     "text": [
      "reward=0.0, done=False, exrta_info={'ale.lives': 0}\n"
     ]
    },
    {
     "data": {
      "image/png": "[encoded data removed]",
      "text/plain": [
       "<Figure size 720x720 with 1 Axes>"
      ]
     },
     "metadata": {
      "needs_background": "light"
     },
     "output_type": "display_data"
    }
   ],
   "source": [
    "env.reset()\n",
    "\n",
    "fire_action = 1\n",
    "\n",
    "# Run for a few (simulated) seconds\n",
    "fps = 30\n",
    "seconds = 2\n",
    "for _ in range(fps*seconds):\n",
    "    obs, reward, episode_done, exrta_info = env.step(fire_action)\n",
    "\n",
    "show_observation(obs, size=10)\n",
    "print(f'reward={reward}, done={episode_done}, exrta_info={extra_info}')"
   ]
  },
  {
   "cell_type": "code",
   "execution_count": 17,
   "metadata": {
    "slideshow": {
     "slide_type": "subslide"
    }
   },
   "outputs": [],
   "source": [
    "# When done, need to close() the environment\n",
    "env.close()"
   ]
  },
  {
   "cell_type": "markdown",
   "metadata": {
    "slideshow": {
     "slide_type": "subslide"
    }
   },
   "source": [
    "#### Wrappers"
   ]
  },
  {
   "cell_type": "markdown",
   "metadata": {
    "slideshow": {
     "slide_type": "fragment"
    }
   },
   "source": [
    "`Wrapper`s allow you to **wrap** an `Environment` instance and modify it's behavior.\n",
    "\n",
    "We have already used the `Monitor` wrapper, which writes the observation as a video frame each step, and also outputs data about the agents progress during the episode."
   ]
  },
  {
   "cell_type": "markdown",
   "metadata": {
    "slideshow": {
     "slide_type": "fragment"
    }
   },
   "source": [
    "There are some pre-defined wrapper types which allow you to easily intervene in the interaction between your agent and the environment:\n",
    "- `ObservationWrapper` allows you to modify the **observations** before they get to the agent.\n",
    "- `RewardWrapper` allows you to modify the **reward** before it gets to the agent.\n",
    "- `ActionWrapper` allows you to modify the agent's action before it gets to the environment."
   ]
  },
  {
   "cell_type": "code",
   "execution_count": 18,
   "metadata": {
    "slideshow": {
     "slide_type": "subslide"
    }
   },
   "outputs": [],
   "source": [
    "class MalfunctioningScreenWrapper(gym.ObservationWrapper):\n",
    "    # Override the observation() method from ObservationWrapper to change the observation\n",
    "    # on the way to the agent\n",
    "    def observation(self, obs: np.ndarray):\n",
    "        r = np.random.randint(10)\n",
    "        # Invert colors and with a low probability set a single channel\n",
    "        obs  = 255 - obs\n",
    "        if r < 3:\n",
    "            obs[:,:,r] = 128\n",
    "            \n",
    "        self.last_obs = obs\n",
    "        return obs\n",
    "    \n",
    "    # Change render() to show modified observations in video\n",
    "    def render(self, mode, **kw):\n",
    "        r = self.env.render(mode, **kw)\n",
    "        return self.observation(r) if mode == 'rgb_array' else r"
   ]
  },
  {
   "cell_type": "code",
   "execution_count": 19,
   "metadata": {
    "slideshow": {
     "slide_type": "subslide"
    }
   },
   "outputs": [],
   "source": [
    "class TriggerHappyWrapper(gym.ActionWrapper):\n",
    "    # Override the action() method from ActionWrapper to change the action\n",
    "    # on the way to the environment\n",
    "    def action(self, act):\n",
    "        # With a high probability, just do the FIRE action\n",
    "        if np.random.random() < 0.9:\n",
    "            return 1\n",
    "        else:\n",
    "            return act"
   ]
  },
  {
   "cell_type": "markdown",
   "metadata": {
    "slideshow": {
     "slide_type": "subslide"
    }
   },
   "source": [
    "Lets see our `Wrapper`s in action:"
   ]
  },
  {
   "cell_type": "code",
   "execution_count": 20,
   "metadata": {
    "slideshow": {
     "slide_type": "fragment"
    }
   },
   "outputs": [
    {
     "name": "stdout",
     "output_type": "stream",
     "text": [
      "wrapped env: <Monitor<MalfunctioningScreenWrapper<TriggerHappyWrapper<TimeLimit<AtariEnv<SpaceInvaders-v0>>>>>>\n",
      "Played 871 steps. Total reward: 210.0\n"
     ]
    }
   ],
   "source": [
    "env = \\\n",
    "MalfunctioningScreenWrapper(\n",
    "    TriggerHappyWrapper(\n",
    "        gym.make('SpaceInvaders-v0')\n",
    "    )\n",
    ")\n",
    "\n",
    "with Monitor(env, 'out', force=True) as env:\n",
    "    env.reset()\n",
    "    episode_done = False\n",
    "    total_reward = 0\n",
    "    total_steps = 0\n",
    "    while not episode_done:\n",
    "        action = env.action_space.sample()\n",
    "        obs, reward, episode_done, extra_info = env.step(action)\n",
    "        total_reward += reward\n",
    "        total_steps += 1\n",
    "\n",
    "print(f'wrapped env: {env}')\n",
    "print(f'Played {total_steps} steps. Total reward: {total_reward}')"
   ]
  },
  {
   "cell_type": "code",
   "execution_count": 21,
   "metadata": {
    "slideshow": {
     "slide_type": "subslide"
    }
   },
   "outputs": [
    {
     "data": {
      "text/html": [
       "<center><video src=\"out/openaigym.video.1.26073.video000000.mp4\" controls autoplay width=\"400\" height=\"auto\" /></center>"
      ],
      "text/plain": [
       "<IPython.core.display.HTML object>"
      ]
     },
     "execution_count": 21,
     "metadata": {},
     "output_type": "execute_result"
    }
   ],
   "source": [
    "show_last_video(env, width=400)"
   ]
  },
  {
   "cell_type": "markdown",
   "metadata": {
    "slideshow": {
     "slide_type": "slide"
    }
   },
   "source": [
    "## Deep $q$-learning for Atari games"
   ]
  },
  {
   "cell_type": "markdown",
   "metadata": {
    "slideshow": {
     "slide_type": "fragment"
    }
   },
   "source": [
    "We'll now implement a $q$-learning method using a deep neural network to approxiamte the action value function $q(s,a)$ in an Atari game. We'll teach our model to play by directly observing the game **pixels**, as a human would.\n",
    "\n",
    "This is based on the [seminal paper](https://www.nature.com/articles/nature14236.pdf)\n",
    "\"Human-level control through deep reinforcement learning\", \n",
    "by Volodymyr Mnih, David Silver and others from Google DeepMind (Nature, 2015)."
   ]
  },
  {
   "cell_type": "markdown",
   "metadata": {
    "slideshow": {
     "slide_type": "subslide"
    }
   },
   "source": [
    "### Approach"
   ]
  },
  {
   "cell_type": "markdown",
   "metadata": {
    "slideshow": {
     "slide_type": "fragment"
    }
   },
   "source": [
    "- We will learn a parametrized function $q_{\\Theta}(s,a)$ representing the **action-value** function, implemented as a CNN.\n",
    "- We'll treat the task of learning $q_\\Theta$ as a **regression** problem.\n",
    "- During training, we'll collect **experiences**. We'll denote the $i$th experience as\n",
    "  $$\n",
    "    \\vec{x}^{i} = (s^i,a^i,r^i,{s'}^i).\n",
    "  $$"
   ]
  },
  {
   "cell_type": "markdown",
   "metadata": {
    "slideshow": {
     "slide_type": "subslide"
    }
   },
   "source": [
    "Our point-wise loss will be an MSE loss,\n",
    "$$\n",
    "\\ell_i(\\Theta) = \\left(y^i-q_\\Theta(s^i,a^i)\\right)^2\n",
    "$$"
   ]
  },
  {
   "cell_type": "markdown",
   "metadata": {
    "slideshow": {
     "slide_type": "fragment"
    }
   },
   "source": [
    "The label, $y^i$, is generated by us like so:\n",
    "$$\n",
    "y^i =\n",
    "\\begin{cases}\n",
    "r^i, & {s'}^i \\in \\cset{S}_T \\\\\n",
    "r^i + \\gamma \\max_{a\\in\\cset{A}} q_{\\Theta^-}({s'}^i,a) , &   {s'}^i \\in \\cset{S}\\setminus\\cset{S}_T\n",
    "\\end{cases}\n",
    "$$\n",
    "\n",
    "Why does this make sense?"
   ]
  },
  {
   "cell_type": "markdown",
   "metadata": {
    "slideshow": {
     "slide_type": "fragment"
    }
   },
   "source": [
    "Recall the Bellman equation,\n",
    "  $$\n",
    "  q^\\ast(s,a) =\n",
    "  R(s,a) +\n",
    "  \\gamma \\sum_{s'\\in\\cset{S}} P_{a}(s,s') \\max_{a'\\in\\cset{A}} q^\\ast(s',a'),\n",
    "  $$\n",
    "Our label is based on this, while dropping the expectation over the next state, since we don't know $P$.\n",
    "Since we average these point-wise losses over batches of experiences, we will **implicitly** weight them according to $P$."
   ]
  },
  {
   "cell_type": "markdown",
   "metadata": {
    "slideshow": {
     "slide_type": "slide"
    }
   },
   "source": [
    "#### Target network"
   ]
  },
  {
   "cell_type": "markdown",
   "metadata": {
    "slideshow": {
     "slide_type": "fragment"
    }
   },
   "source": [
    "A major problem with the way we defined our labels is that we seem to be using\n",
    "the action value of the next state-action pair, $q_\\Theta(s',a')$ to update the\n",
    "current action value $q_\\Theta(s,a)$."
   ]
  },
  {
   "cell_type": "markdown",
   "metadata": {
    "slideshow": {
     "slide_type": "fragment"
    }
   },
   "source": [
    "- This would mean our labels will be very similar to whatever the current network is outputting.\n",
    "\n",
    "- Moreover, any update we do at step $t$ will very likely cause the labels for the next steps to change, since adjacent steps \"look similar\" to the network."
   ]
  },
  {
   "cell_type": "markdown",
   "metadata": {
    "slideshow": {
     "slide_type": "fragment"
    }
   },
   "source": [
    "To overcome this, The label (target) is calculated using a **target network**, i.e. a different parametrization ($\\Theta^-$) of the $q$ function. The labels are therefore not dependent on the model being trained."
   ]
  },
  {
   "cell_type": "markdown",
   "metadata": {
    "slideshow": {
     "slide_type": "subslide"
    }
   },
   "source": [
    "#### Experience replay"
   ]
  },
  {
   "cell_type": "markdown",
   "metadata": {
    "slideshow": {
     "slide_type": "fragment"
    }
   },
   "source": [
    "Another issue we must face is the non-i.i.d nature of our samples (experiences)."
   ]
  },
  {
   "cell_type": "markdown",
   "metadata": {
    "slideshow": {
     "slide_type": "subslide"
    }
   },
   "source": [
    "By definition, every experience our agent has is highly dependent on all previous\n",
    "experiences in the episode.\n",
    "- SGD assumes i.i.d-ness of samples (otherwise, gradient of batches does not, in expectation, equal the actual gradient of the dataset)."
   ]
  },
  {
   "cell_type": "markdown",
   "metadata": {
    "slideshow": {
     "slide_type": "fragment"
    }
   },
   "source": [
    "Moreover, we only have experiences that are based on some current, **sub-optimal** policy,\n",
    "not the actual policy that we want to discover.\n",
    "- If we only update our parameters based on that, we may get stuck in sub-optimal loops."
   ]
  },
  {
   "cell_type": "markdown",
   "metadata": {
    "slideshow": {
     "slide_type": "subslide"
    }
   },
   "source": [
    "The solution is an **Experience replay buffer**:\n",
    "- We store the $N$ most-recent experiences, **across different episodes**:\n",
    "  $$\n",
    "  D_t=\\left\\{\\vec{x}^i\\right\\}_{i=t-N}^{t} =\n",
    "  \\left\\{(s^i,a^i,r^i,{s'}^i)\\right\\}_{i=t-N}^{t}\n",
    "  $$\n",
    "- To update our model, we uniformly sample a batch of experiences from $D_t$."
   ]
  },
  {
   "cell_type": "markdown",
   "metadata": {
    "slideshow": {
     "slide_type": "subslide"
    }
   },
   "source": [
    "#### $\\epsilon$-greedy"
   ]
  },
  {
   "cell_type": "markdown",
   "metadata": {
    "slideshow": {
     "slide_type": "fragment"
    }
   },
   "source": [
    "Initially, our policy will be very bad since we have a wrong action-value function.\n",
    "\n",
    "If we let our agent follow this misguided policy and just collect those experiences, we may never get any useful samples."
   ]
  },
  {
   "cell_type": "markdown",
   "metadata": {
    "slideshow": {
     "slide_type": "subslide"
    }
   },
   "source": [
    "To overcome this,\n",
    "- Our agent will take a random action with probability $\\epsilon$, and use the current policy with probability $1-\\epsilon$.\n",
    "- As training progresses, we'll slowly decay $\\epsilon$ from $1.0$ to something close to zero."
   ]
  },
  {
   "cell_type": "markdown",
   "metadata": {
    "slideshow": {
     "slide_type": "subslide"
    }
   },
   "source": [
    "#### Pre-processing"
   ]
  },
  {
   "cell_type": "markdown",
   "metadata": {
    "slideshow": {
     "slide_type": "fragment"
    }
   },
   "source": [
    "As always, the devil is in the details.\n",
    "The DeepMind paper uses various preprocessing tricks to improve training time and stability."
   ]
  },
  {
   "cell_type": "markdown",
   "metadata": {
    "slideshow": {
     "slide_type": "subslide"
    }
   },
   "source": [
    "- Start playing with some amount of No-Ops.\n",
    "- Pressing FIRE after resetting the environment, so that the agent doesn't need to learn this part.\n",
    "- Stopping the episode after a game \"life\" is lost.\n",
    "- Fusing together two adjacent frames (by taking the pixel-wise maximum) to reduce flickering (shown in yellow).\n",
    "- Scaling each frame to 84x84 and converting to grayscale.\n",
    "- Skipping frames by taking only every $k=4$th frame applying the same action to in-between frames.\n",
    "- Stacking together $m=4$ frames (after skipping $k$) into a single observation so that the agent can observe the dynamics of entities (speed, direction). Note that consecutive observations will have overlapping frames.\n",
    "- Clipping the reward to $\\{-1,1\\}$."
   ]
  },
  {
   "cell_type": "markdown",
   "metadata": {
    "slideshow": {
     "slide_type": "subslide"
    }
   },
   "source": [
    "<center><img src=\"img/deepmind_frames.png\" width=\"1200\" /></center>"
   ]
  },
  {
   "cell_type": "markdown",
   "metadata": {
    "slideshow": {
     "slide_type": "subslide"
    }
   },
   "source": [
    "Luckily, all these preprocessing steps are already implemented in OpenAI's [baselines](https://github.com/openai/baselines) repo as `gym` `Wrapper` classes.\n",
    "\n",
    "We'll just implement one extra custom `Wrapper` to convert images into the PyTorch axis ordering convention."
   ]
  },
  {
   "cell_type": "code",
   "execution_count": 22,
   "metadata": {
    "slideshow": {
     "slide_type": "subslide"
    }
   },
   "outputs": [],
   "source": [
    "class CHWImageWrapper(gym.ObservationWrapper):\n",
    "    \"\"\"\n",
    "    Changes the observation image from HxWxC to CxHxW (the PyTorch convention).\n",
    "    \"\"\"\n",
    "    def __init__(self, env):\n",
    "        super().__init__(env)\n",
    "        old_shape = self.observation_space.shape\n",
    "        low = self.observation_space.low.reshape(-1)[0]\n",
    "        high = self.observation_space.high.reshape(-1)[0]\n",
    "        shape = (old_shape[-1], old_shape[0], old_shape[1])\n",
    "        self.observation_space = gym.spaces.Box(low, high, shape, dtype=np.float32)\n",
    "\n",
    "    def observation(self, observation):\n",
    "        return np.moveaxis(observation, 2, 0)"
   ]
  },
  {
   "cell_type": "code",
   "execution_count": 23,
   "metadata": {
    "slideshow": {
     "slide_type": "subslide"
    }
   },
   "outputs": [],
   "source": [
    "# Use OpenAI's baseline atari_wrappers to create environments\n",
    "import atari_wrappers\n",
    "\n",
    "# Create our custom wrapped environment\n",
    "def make_atari(env_name):\n",
    "    env = atari_wrappers.make_atari(env_name) \n",
    "    env = atari_wrappers.wrap_deepmind(env, frame_stack=True, scale=True)\n",
    "    env = CHWImageWrapper(env)\n",
    "    return env"
   ]
  },
  {
   "cell_type": "markdown",
   "metadata": {
    "slideshow": {
     "slide_type": "subslide"
    }
   },
   "source": [
    "Let's check our heavily wrapped environment."
   ]
  },
  {
   "cell_type": "code",
   "execution_count": 24,
   "metadata": {
    "slideshow": {
     "slide_type": "subslide"
    }
   },
   "outputs": [
    {
     "name": "stdout",
     "output_type": "stream",
     "text": [
      "<CHWImageWrapper<FrameStack<ClipRewardEnv<ScaledFloatFrame<WarpFrame<FireResetEnv<EpisodicLifeEnv<MaxAndSkipEnv<NoopResetEnv<TimeLimit<AtariEnv<SpaceInvadersNoFrameskip-v0>>>>>>>>>>>>\n",
      "Box(4, 84, 84)\n",
      "observation shape: (4, 84, 84)\n",
      "actions: ['NOOP', 'FIRE', 'RIGHT', 'LEFT', 'RIGHTFIRE', 'LEFTFIRE']\n"
     ]
    },
    {
     "data": {
      "image/png": "[encoded data removed]",
      "text/plain": [
       "<Figure size 432x432 with 1 Axes>"
      ]
     },
     "metadata": {
      "needs_background": "light"
     },
     "output_type": "display_data"
    }
   ],
   "source": [
    "env = make_atari('SpaceInvadersNoFrameskip-v0')\n",
    "print(env)\n",
    "print(env.observation_space)\n",
    "\n",
    "obs = env.reset()\n",
    "obs = np.array(obs)\n",
    "obs_shape = obs.shape\n",
    "print(f'observation shape: {obs_shape}')\n",
    "env_actions = env.unwrapped.get_action_meanings()\n",
    "print(f'actions: {env_actions}')\n",
    "show_observation(obs[3], size=6, cmap='gray')"
   ]
  },
  {
   "cell_type": "markdown",
   "metadata": {
    "slideshow": {
     "slide_type": "subslide"
    }
   },
   "source": [
    "### DQN Model"
   ]
  },
  {
   "cell_type": "markdown",
   "metadata": {
    "slideshow": {
     "slide_type": "fragment"
    }
   },
   "source": [
    "The DQN model used in the paper is surprisingly simple. It has just 3 conv layers followed by 2 FC layers.\n",
    "It models $q(s,a)$ by taking a state $s$ and returning a $q$-value for each possible $a$ in our action space.\n",
    "\n",
    "<center><img src=\"img/deepmind_arch.png\" width=\"1000\" /></center>\n"
   ]
  },
  {
   "cell_type": "code",
   "execution_count": 25,
   "metadata": {
    "slideshow": {
     "slide_type": "subslide"
    }
   },
   "outputs": [],
   "source": [
    "import torch.nn as nn\n",
    "\n",
    "class DQN(nn.Module):\n",
    "    def __init__(self, in_shape, n_actions):\n",
    "        super().__init__()\n",
    "\n",
    "        self.conv = nn.Sequential(\n",
    "            nn.Conv2d(in_shape[0], 32, kernel_size=8, stride=4),\n",
    "            nn.ReLU(),\n",
    "            nn.Conv2d(32, 64, kernel_size=4, stride=2),\n",
    "            nn.ReLU(),\n",
    "            nn.Conv2d(64, 64, kernel_size=3, stride=1),\n",
    "            nn.ReLU()\n",
    "        )\n",
    "\n",
    "        n_conv_features = self._calc_num_conv_features(in_shape)\n",
    "        self.fc = nn.Sequential(\n",
    "            nn.Linear(n_conv_features, 512),\n",
    "            nn.ReLU(),\n",
    "            nn.Linear(512, n_actions)\n",
    "        )\n",
    "\n",
    "    def _calc_num_conv_features(self, in_shape):\n",
    "        x = torch.zeros(1, *in_shape)\n",
    "        out_shape = self.conv(x).shape\n",
    "        return int(np.prod(out_shape))\n",
    "\n",
    "    def forward(self, x):\n",
    "        features = self.conv(x)\n",
    "        features = features.view(x.shape[0], -1)\n",
    "        return self.fc(features)"
   ]
  },
  {
   "cell_type": "markdown",
   "metadata": {
    "slideshow": {
     "slide_type": "subslide"
    }
   },
   "source": [
    "As always, lets make sure forward pass works."
   ]
  },
  {
   "cell_type": "code",
   "execution_count": 26,
   "metadata": {
    "slideshow": {
     "slide_type": "subslide"
    }
   },
   "outputs": [
    {
     "name": "stdout",
     "output_type": "stream",
     "text": [
      "DQN(\n",
      "  (conv): Sequential(\n",
      "    (0): Conv2d(4, 32, kernel_size=(8, 8), stride=(4, 4))\n",
      "    (1): ReLU()\n",
      "    (2): Conv2d(32, 64, kernel_size=(4, 4), stride=(2, 2))\n",
      "    (3): ReLU()\n",
      "    (4): Conv2d(64, 64, kernel_size=(3, 3), stride=(1, 1))\n",
      "    (5): ReLU()\n",
      "  )\n",
      "  (fc): Sequential(\n",
      "    (0): Linear(in_features=3136, out_features=512, bias=True)\n",
      "    (1): ReLU()\n",
      "    (2): Linear(in_features=512, out_features=6, bias=True)\n",
      "  )\n",
      ")\n"
     ]
    }
   ],
   "source": [
    "model = DQN(obs.shape, len(env_actions)).to(device)\n",
    "print(model)"
   ]
  },
  {
   "cell_type": "code",
   "execution_count": 27,
   "metadata": {
    "slideshow": {
     "slide_type": "fragment"
    }
   },
   "outputs": [
    {
     "data": {
      "text/plain": [
       "tensor([[-0.0149,  0.0328, -0.0414, -0.0289,  0.0358,  0.0461]],\n",
       "       grad_fn=<AddmmBackward>)"
      ]
     },
     "execution_count": 27,
     "metadata": {},
     "output_type": "execute_result"
    }
   ],
   "source": [
    "x0 = torch.tensor(obs, device=device).unsqueeze(0)\n",
    "model(x0)"
   ]
  },
  {
   "cell_type": "markdown",
   "metadata": {
    "slideshow": {
     "slide_type": "subslide"
    }
   },
   "source": [
    "### Experience replay buffer"
   ]
  },
  {
   "cell_type": "code",
   "execution_count": 28,
   "metadata": {
    "slideshow": {
     "slide_type": "subslide"
    }
   },
   "outputs": [],
   "source": [
    "from collections import deque\n",
    "\n",
    "class ExperienceReplayBuffer(object):\n",
    "    def __init__(self, maxlen, device):\n",
    "        # dequeue automatically evicts old entries if maxlen reached\n",
    "        self.buffer = deque(maxlen=maxlen) \n",
    "        self.device = device       \n",
    "    def __len__(self):\n",
    "        return len(self.buffer)   \n",
    "    def __getitem__(self, i):\n",
    "        return self.buffer.__getitem__(i)\n",
    "\n",
    "    def append(self, state, action, reward, is_done, new_state):\n",
    "        # note: when in buffer, copy to RAM\n",
    "        self.buffer.append((state.cpu(), action, reward, is_done, new_state.cpu()))\n",
    "\n",
    "    def sample(self, batch_size):\n",
    "        # Sample batch_size random indices from the buffer\n",
    "        ii = np.random.choice(len(self.buffer), batch_size, replace=False)\n",
    "        \n",
    "        # Batches of: state, action, reward, done?, next_state\n",
    "        s, a, r, d, n = zip(*[self.buffer[i] for i in ii])\n",
    "        \n",
    "        return (\n",
    "            torch.stack(s, dim=0).to(self.device),\n",
    "            torch.tensor(a, dtype=torch.long).to(self.device),\n",
    "            torch.tensor(r, dtype=torch.float32).to(self.device),\n",
    "            torch.tensor(d, dtype=torch.uint8).to(self.device),\n",
    "            torch.stack(n).to(self.device)\n",
    "        )\n",
    "        \n",
    "    def __repr__(self):\n",
    "        return self.buffer.__repr__()"
   ]
  },
  {
   "cell_type": "markdown",
   "metadata": {
    "slideshow": {
     "slide_type": "subslide"
    }
   },
   "source": [
    "### Agent"
   ]
  },
  {
   "cell_type": "code",
   "execution_count": 29,
   "metadata": {
    "slideshow": {
     "slide_type": "subslide"
    }
   },
   "outputs": [],
   "source": [
    "class DQNAgent:\n",
    "    def __init__(self, env, q_net, replay_buffer, device):\n",
    "        self.env = env\n",
    "        self.q_net = q_net\n",
    "        self.replay_buffer = replay_buffer\n",
    "        self.device = device\n",
    "        self._reset()\n",
    "        \n",
    "    def _reset(self):\n",
    "        self.curr_state = torch.tensor(env.reset(), device=self.device)\n",
    "        self.curr_episode_reward = 0.0\n",
    "        \n",
    "    def step(self, eps=0.0):\n",
    "        # With probability eps, select a random action\n",
    "        if np.random.random() < eps:\n",
    "            action = env.action_space.sample()\n",
    "        else:\n",
    "            with torch.no_grad(): # Do a forward pass through the q_net to get q(s,a) for all a.\n",
    "                q_s = self.q_net(self.curr_state.unsqueeze(0))\n",
    "            _, action = torch.max(q_s, dim=1) # Select action with highest value of q(s,a).\n",
    "            action = int(action.item())\n",
    "\n",
    "        # Perform the selected action on the environment to get a reward and a new observation.\n",
    "        next_state, reward, is_done, _ = self.env.step(action)\n",
    "        next_state = torch.tensor(next_state, device=self.device)\n",
    "        self.curr_episode_reward += reward\n",
    "\n",
    "        # Save this experience in the replay buffer for future training.\n",
    "        self.replay_buffer.append(self.curr_state, action, reward, is_done, next_state)\n",
    "        self.curr_state = next_state\n",
    "        \n",
    "        # Check if an episode ended. If so, reset and return total reward.\n",
    "        if not is_done:\n",
    "            return None\n",
    "        \n",
    "        episode_reward = self.curr_episode_reward\n",
    "        self._reset()\n",
    "        return episode_reward"
   ]
  },
  {
   "cell_type": "markdown",
   "metadata": {
    "slideshow": {
     "slide_type": "subslide"
    }
   },
   "source": [
    "A quick sanity check for our agent:"
   ]
  },
  {
   "cell_type": "code",
   "execution_count": 30,
   "metadata": {
    "slideshow": {
     "slide_type": "subslide"
    }
   },
   "outputs": [
    {
     "name": "stdout",
     "output_type": "stream",
     "text": [
      "buff_len: 179\n",
      "reward: 6.0\n"
     ]
    },
    {
     "data": {
      "image/png": "[encoded data removed]",
      "text/plain": [
       "<Figure size 432x432 with 1 Axes>"
      ]
     },
     "metadata": {
      "needs_background": "light"
     },
     "output_type": "display_data"
    }
   ],
   "source": [
    "agent = DQNAgent(env, model, ExperienceReplayBuffer(1000, device), device)\n",
    "\n",
    "for _ in range(1000):\n",
    "    state = agent.curr_state\n",
    "    reward = agent.step(eps=0.5)\n",
    "    if reward is not None:\n",
    "        break\n",
    "\n",
    "print(f'buff_len: {len(agent.replay_buffer)}')\n",
    "print(f'reward: {reward}')\n",
    "show_observation(state.squeeze()[0].cpu().numpy(), cmap='gray')"
   ]
  },
  {
   "cell_type": "code",
   "execution_count": 31,
   "metadata": {
    "slideshow": {
     "slide_type": "subslide"
    }
   },
   "outputs": [
    {
     "name": "stdout",
     "output_type": "stream",
     "text": [
      "torch.Size([2, 4, 84, 84]) torch.float32\n",
      "torch.Size([2]) torch.int64\n",
      "torch.Size([2]) torch.float32\n",
      "torch.Size([2]) torch.uint8\n",
      "torch.Size([2, 4, 84, 84]) torch.float32\n"
     ]
    }
   ],
   "source": [
    "s, a, r, d, n = agent.replay_buffer.sample(2)\n",
    "\n",
    "for x in (s,a,r,d,n):\n",
    "    print(x.shape, x.dtype)"
   ]
  },
  {
   "cell_type": "markdown",
   "metadata": {
    "slideshow": {
     "slide_type": "subslide"
    }
   },
   "source": [
    "### Loss function"
   ]
  },
  {
   "cell_type": "markdown",
   "metadata": {
    "slideshow": {
     "slide_type": "fragment"
    }
   },
   "source": [
    "Recall that our point-wise loss is\n",
    "$$\n",
    "\\ell_i(\\Theta) = \\left(y^i-q_\\Theta(s^i,a^i)\\right)^2,\n",
    "$$\n",
    "where the label, $y^i$, is:\n",
    "$$\n",
    "y^i =\n",
    "\\begin{cases}\n",
    "r^i, & {s'}^i \\in \\cset{S}_T \\\\\n",
    "r^i + \\gamma \\max_{a\\in\\cset{A}} q_{\\Theta^-}({s'}^i,a) , &   {s'}^i \\in \\cset{S}\\setminus\\cset{S}_T\n",
    "\\end{cases}\n",
    "$$"
   ]
  },
  {
   "cell_type": "code",
   "execution_count": 32,
   "metadata": {
    "slideshow": {
     "slide_type": "subslide"
    }
   },
   "outputs": [],
   "source": [
    "class DQNLoss(nn.Module):\n",
    "    def __init__(self, q_net, q_target_net, gamma):\n",
    "        super().__init__()\n",
    "        self.q_net = q_net\n",
    "        self.q_target_net = q_target_net\n",
    "        self.gamma = gamma\n",
    "        \n",
    "    def forward(self, s, a, r, d, n):\n",
    "        # Input is batches of: state, action, reward, done?, next_state\n",
    "        # First, calculate our PREDICTED action-value q(s,a)\n",
    "        # for the initial state and the action that was performed\n",
    "        q_s = self.q_net(s)\n",
    "        q_sa_predicted = q_s.gather(dim=1, index=a.view(-1, 1)) # select performed action\n",
    "        \n",
    "        # Now, we need to calculate our TARGET action-value. This is based on the\n",
    "        # maximal action value of the next state, and uses the target network.\n",
    "        with torch.no_grad():\n",
    "            q_n = self.q_target_net(n)\n",
    "            q_na_max, _ = torch.max(q_n, dim=1) # select maximal action\n",
    "            q_na_max[d] = 0. # set zero action-value for terminal states\n",
    "            q_sa_target = r + self.gamma * q_na_max # Bellman equation\n",
    "        \n",
    "        # The loss is just an MSE between predictions and targets\n",
    "        return nn.functional.mse_loss(q_sa_predicted, q_sa_target)"
   ]
  },
  {
   "cell_type": "markdown",
   "metadata": {
    "slideshow": {
     "slide_type": "subslide"
    }
   },
   "source": [
    "### Putting it all together"
   ]
  },
  {
   "cell_type": "code",
   "execution_count": 33,
   "metadata": {
    "slideshow": {
     "slide_type": "subslide"
    }
   },
   "outputs": [],
   "source": [
    "ENV_NAME = \"SpaceInvadersNoFrameskip-v0\"\n",
    "# Stopping criteria: based no mean reward of 100 last episodes\n",
    "MEAN_REWARD_BOUND = 15 # remember this is clipped-reward\n",
    "MEAN_NUM_EPISODES = 100\n",
    "MAX_EPISODES = 50 # just for demo\n",
    "\n",
    "# Note: Params based on the paper.\n",
    "\n",
    "LEARNING_RATE = 2.5e-4         \n",
    "GRAD_MOMENTUM = 0.95\n",
    "GRADSQ_MOMENTUM = 0.95\n",
    "RMSPROP_EPS = 0.01\n",
    "BATCH_SIZE = 32                \n",
    "\n",
    "GAMMA = 0.99                   \n",
    "SYNC_TARGET_STEPS = 5*(10**3)  \n",
    "REPLAY_SIZE = 10**6            \n",
    "REPLAY_START_SIZE = 5*(10**4)  \n",
    "EPSILON_DECAY_LAST_STEP = 10**6\n",
    "EPSILON_START = 1.0            \n",
    "EPSILON_FINAL = 0.1            \n",
    "\n",
    "MONITOR_DIR = 'out/mon1/'\n",
    "MODEL_CHECKPOINT = os.path.join('out/models/', f'{ENV_NAME}-1-chkpt.dat')\n",
    "os.makedirs(os.path.dirname(MODEL_CHECKPOINT), exist_ok=True)"
   ]
  },
  {
   "cell_type": "code",
   "execution_count": 34,
   "metadata": {
    "slideshow": {
     "slide_type": "subslide"
    }
   },
   "outputs": [],
   "source": [
    "def train_dqn(q_net, q_target_net, replay_buffer, agent, loss_fn, optimizer):\n",
    "    episode_rewards = deque(maxlen=MEAN_NUM_EPISODES)\n",
    "    best_mean_reward = -math.inf\n",
    "    step_idx, prev_step_idx, episode_num = 0, 0, 0\n",
    "    timestamp = time.time()\n",
    "    while True:\n",
    "        step_idx += 1\n",
    "        eps = max(EPSILON_FINAL, EPSILON_START - step_idx / EPSILON_DECAY_LAST_STEP)\n",
    "        \n",
    "        # Perform an action with the agent (this also updates replay buffer)\n",
    "        # The agent returns the reward for an entire episode, if it's done, or None otherwise.\n",
    "        reward = agent.step(eps)\n",
    "        if reward is not None: # (i.e., current Episode is done)\n",
    "            episode_num += 1\n",
    "            episode_rewards.append(reward)\n",
    "            mean_reward = np.mean(episode_rewards)\n",
    "            \n",
    "            episode_time = time.time() - timestamp\n",
    "            timestamp = time.time()\n",
    "            steps_per_sec = (step_idx - prev_step_idx) / episode_time\n",
    "            prev_step_idx = step_idx\n",
    "\n",
    "            if episode_num % 10 == 0:\n",
    "                print(f'[st#{step_idx} ep#{episode_num}] '\n",
    "                      f'reward={reward:2.2f}, mean_reward={mean_reward:2.2f}, eps={eps:.2f} '\n",
    "                      f'({episode_time:2.3f}sec, {steps_per_sec:3.1f} steps/sec).')\n",
    "                \n",
    "            if mean_reward > best_mean_reward:\n",
    "                print(f'*** New best_mean_reward={mean_reward:.2f}, was {best_mean_reward:.2f}, saving model to {MODEL_CHECKPOINT}')\n",
    "                torch.save(q_net.state_dict(), MODEL_CHECKPOINT)\n",
    "                best_mean_reward = mean_reward\n",
    "                eval_dqn(env, q_net)\n",
    "                \n",
    "            if mean_reward > MEAN_REWARD_BOUND:\n",
    "                print(f\"*** Done, total steps={step_idx}\")\n",
    "                break\n",
    "                \n",
    "            if episode_num >= MAX_EPISODES:\n",
    "                print(f\"*** MAX_EPISODES reached, stopping.\")\n",
    "                break\n",
    "\n",
    "        # Skip training until we have enough data in our replay buffer\n",
    "        if len(replay_buffer) < REPLAY_START_SIZE:\n",
    "            continue\n",
    "\n",
    "        # Copy model to target model periodically\n",
    "        if step_idx % SYNC_TARGET_STEPS == 0:\n",
    "            q_target_net.load_state_dict(q_net.state_dict())\n",
    "\n",
    "        # Sample a batch of experiences, calculate their loss and train the network.\n",
    "        optimizer.zero_grad()\n",
    "        s,a,r,d,n = replay_buffer.sample(BATCH_SIZE)\n",
    "        loss = loss_fn(s, a, r, d, n)\n",
    "        loss.backward()\n",
    "        optimizer.step()"
   ]
  },
  {
   "cell_type": "code",
   "execution_count": 35,
   "metadata": {
    "slideshow": {
     "slide_type": "subslide"
    }
   },
   "outputs": [],
   "source": [
    "def eval_dqn(env, q_net, show_video=False):\n",
    "    print(f'*** Evaluating model... ', end='')\n",
    "    env = gym.wrappers.Monitor(env, MONITOR_DIR, force=True, resume=True)\n",
    "    env.reset()\n",
    "    agent = DQNAgent(env, q_net, ExperienceReplayBuffer(0, device), device)\n",
    "    steps = 0\n",
    "    with torch.no_grad():\n",
    "        while True:\n",
    "            ep_reward = agent.step(eps=0.0) # no random actions\n",
    "            if ep_reward is not None: break\n",
    "            steps += 1\n",
    "    print(f'Episode ran {steps} steps, reward={ep_reward}')\n",
    "    if show_video:\n",
    "        print(env.videos)\n",
    "        show_last_video(env)"
   ]
  },
  {
   "cell_type": "code",
   "execution_count": 36,
   "metadata": {
    "slideshow": {
     "slide_type": "subslide"
    }
   },
   "outputs": [
    {
     "name": "stdout",
     "output_type": "stream",
     "text": [
      "*** New best_mean_reward=1.00, was -inf, saving model to out/models/SpaceInvadersNoFrameskip-v0-1-chkpt.dat\n",
      "*** Evaluating model... Episode ran 78 steps, reward=0.0\n",
      "*** New best_mean_reward=2.33, was 1.00, saving model to out/models/SpaceInvadersNoFrameskip-v0-1-chkpt.dat\n",
      "*** Evaluating model... Episode ran 286 steps, reward=0.0\n",
      "*** New best_mean_reward=2.50, was 2.33, saving model to out/models/SpaceInvadersNoFrameskip-v0-1-chkpt.dat\n",
      "*** Evaluating model... Episode ran 161 steps, reward=0.0\n",
      "*** New best_mean_reward=2.60, was 2.50, saving model to out/models/SpaceInvadersNoFrameskip-v0-1-chkpt.dat\n",
      "*** Evaluating model... Episode ran 225 steps, reward=0.0\n",
      "[st#1172 ep#10] reward=1.00, mean_reward=2.00, eps=1.00 (0.126sec, 849.3 steps/sec).\n",
      "*** New best_mean_reward=2.67, was 2.60, saving model to out/models/SpaceInvadersNoFrameskip-v0-1-chkpt.dat\n",
      "*** Evaluating model... Episode ran 234 steps, reward=0.0\n",
      "[st#2810 ep#20] reward=4.00, mean_reward=2.70, eps=1.00 (0.192sec, 796.9 steps/sec).\n",
      "*** New best_mean_reward=2.70, was 2.67, saving model to out/models/SpaceInvadersNoFrameskip-v0-1-chkpt.dat\n",
      "*** Evaluating model... Episode ran 68 steps, reward=0.0\n",
      "*** New best_mean_reward=2.76, was 2.70, saving model to out/models/SpaceInvadersNoFrameskip-v0-1-chkpt.dat\n",
      "*** Evaluating model... Episode ran 163 steps, reward=0.0\n",
      "*** New best_mean_reward=3.09, was 2.76, saving model to out/models/SpaceInvadersNoFrameskip-v0-1-chkpt.dat\n",
      "*** Evaluating model... Episode ran 624 steps, reward=0.0\n",
      "*** New best_mean_reward=3.17, was 3.09, saving model to out/models/SpaceInvadersNoFrameskip-v0-1-chkpt.dat\n",
      "*** Evaluating model... Episode ran 681 steps, reward=0.0\n",
      "[st#4444 ep#30] reward=2.00, mean_reward=3.00, eps=1.00 (0.154sec, 877.3 steps/sec).\n",
      "*** New best_mean_reward=3.34, was 3.17, saving model to out/models/SpaceInvadersNoFrameskip-v0-1-chkpt.dat\n",
      "*** Evaluating model... Episode ran 65 steps, reward=0.0\n",
      "[st#6340 ep#40] reward=2.00, mean_reward=3.23, eps=0.99 (0.141sec, 865.8 steps/sec).\n",
      "[st#7815 ep#50] reward=1.00, mean_reward=3.20, eps=0.99 (0.080sec, 810.4 steps/sec).\n",
      "*** MAX_EPISODES reached, stopping.\n"
     ]
    }
   ],
   "source": [
    "import torch.optim as optim\n",
    "\n",
    "with make_atari(ENV_NAME) as env:\n",
    "    obs_shape = env.observation_space.shape\n",
    "    n_actions = env.action_space.n\n",
    "    \n",
    "    q_net = DQN(obs_shape, n_actions).to(device)\n",
    "    q_target_net = DQN(obs_shape, n_actions).to(device)\n",
    "    \n",
    "    replay_buffer = ExperienceReplayBuffer(REPLAY_SIZE, device)\n",
    "    agent = DQNAgent(env, q_net, replay_buffer, device)\n",
    "    \n",
    "    loss_fn = DQNLoss(q_net, q_target_net, GAMMA)\n",
    "    optimizer = optim.RMSprop(q_net.parameters(), lr=LEARNING_RATE, alpha=GRADSQ_MOMENTUM, momentum=GRAD_MOMENTUM, eps=RMSPROP_EPS)\n",
    "    \n",
    "    train_dqn(q_net, q_target_net, replay_buffer, agent, loss_fn, optimizer)"
   ]
  },
  {
   "cell_type": "markdown",
   "metadata": {
    "slideshow": {
     "slide_type": "subslide"
    }
   },
   "source": [
    "### Results (from the paper)"
   ]
  },
  {
   "cell_type": "markdown",
   "metadata": {
    "slideshow": {
     "slide_type": "subslide"
    }
   },
   "source": [
    "The figure shows the DQN's performance on various Atari games.\n",
    "\n",
    "The figure is normalized so that a professional human player would correspond to 100%, and random play to 0%. The blue segment indicates the DQN, while the gray part indicates the performance of the best linear learner."
   ]
  },
  {
   "cell_type": "markdown",
   "metadata": {
    "slideshow": {
     "slide_type": "subslide"
    }
   },
   "source": [
    "<center><img src=\"img/deepmind_results1.png\" width=\"1000\" /></center>"
   ]
  },
  {
   "cell_type": "markdown",
   "metadata": {
    "slideshow": {
     "slide_type": "subslide"
    }
   },
   "source": [
    "The next figure shows a 2D t-SNE embedding of the final DQN layer for various game states, color-coded by the state-value predicted by the network.\n",
    "\n",
    "It shows how the DQN predicts high state values for both full (top right screenshots) and nearly complete screens (bottom left screenshots) because it has learned that completing a screen leads to a new screen full of enemy ships. Partially completed screens (bottom screenshots) are assigned lower state values because less immediate reward is available."
   ]
  },
  {
   "cell_type": "markdown",
   "metadata": {
    "slideshow": {
     "slide_type": "subslide"
    }
   },
   "source": [
    "<center><img src=\"img/deepmind_results2.png\" width=\"1000\" /></center>"
   ]
  },
  {
   "cell_type": "markdown",
   "metadata": {
    "slideshow": {
     "slide_type": "subslide"
    }
   },
   "source": [
    "### Summary & limitations"
   ]
  },
  {
   "cell_type": "markdown",
   "metadata": {
    "slideshow": {
     "slide_type": "fragment"
    }
   },
   "source": [
    "We have implemented $q$-learning (almost) from scratch and with it many inportant RL concepts: agents, environments, experience replay, creating samples based on the Bellman equation and more.\n",
    "We even used some tricks from the paper, like preprocessing and stacking the images, using different a different network for the labels, $\\epsilon$-greedy training, etc."
   ]
  },
  {
   "cell_type": "markdown",
   "metadata": {
    "slideshow": {
     "slide_type": "fragment"
    }
   },
   "source": [
    "However, as usual, don't expect SotA results with this model. While it should produce good results given enough time, many more tricks and improvements exist in this context. See e.g. [this](https://www.aaai.org/ocs/index.php/AAAI/AAAI18/paper/viewFile/17204/16680) DeepMind paper from 2017."
   ]
  },
  {
   "cell_type": "markdown",
   "metadata": {
    "slideshow": {
     "slide_type": "subslide"
    }
   },
   "source": [
    "To conclude,\n",
    "\n",
    "    \"We were supposed to make AI do all the work and we play games\n",
    "    but we do all the work and the AI is playing games!\"\n",
    "    \n",
    "    - Andrej Karpathy"
   ]
  },
  {
   "cell_type": "markdown",
   "metadata": {
    "slideshow": {
     "slide_type": "skip"
    }
   },
   "source": [
    "**Image credits**\n",
    "\n",
    "Some images in this tutorial were taken and/or adapted from:\n",
    "\n",
    "- David Silver's RL course, http://www0.cs.ucl.ac.uk/staff/d.silver/web/Teaching.html\n",
    "- Mnih et al., Human-level control through deep reinforcement learning, Nature, 2015.\n",
    "- Max Lapan, Deep Reinforcement Learning Hands-On, Packt, 2018.\n",
    "- Daniel Seita, https://danieltakeshi.github.io/2016/11/25/frame-skipping-and-preprocessing-for-deep-q-networks-on-atari-2600-games/"
   ]
  }
 ],
 "metadata": {
  "celltoolbar": "Slideshow",
  "kernelspec": {
   "display_name": "Python 3",
   "language": "python",
   "name": "python3"
  },
  "language_info": {
   "codemirror_mode": {
    "name": "ipython",
    "version": 3
   },
   "file_extension": ".py",
   "mimetype": "text/x-python",
   "name": "python",
   "nbconvert_exporter": "python",
   "pygments_lexer": "ipython3",
   "version": "3.7.5"
  },
  "rise": {
   "scroll": true
  }
 },
 "nbformat": 4,
 "nbformat_minor": 4
}

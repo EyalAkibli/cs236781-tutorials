{
 "cells": [
  {
   "cell_type": "markdown",
   "metadata": {},
   "source": [
    "Message Passing with DGL\n",
    "=====================\n",
    "\n",
    "In previous tutorial (1_Basics.ipynb), we studied the basic usage of DGL like creating and manipulating a DGLGraph. In this tutorial, we will focus on how to perform computation on graph structures following Message Passing paradigm."
   ]
  },
  {
   "cell_type": "code",
   "execution_count": 62,
   "metadata": {},
   "outputs": [
    {
     "name": "stdout",
     "output_type": "stream",
     "text": [
      "The autoreload extension is already loaded. To reload it, use:\n",
      "  %reload_ext autoreload\n"
     ]
    }
   ],
   "source": [
    "# A bit of setup, just ignore this cell\n",
    "import matplotlib.pyplot as plt\n",
    "\n",
    "# for auto-reloading external modules\n",
    "%load_ext autoreload\n",
    "%autoreload 2\n",
    "\n",
    "%matplotlib inline\n",
    "plt.rcParams['figure.figsize'] = (8.0, 6.0) # set default size of plots\n",
    "plt.rcParams['image.interpolation'] = 'nearest'\n",
    "plt.rcParams['image.cmap'] = 'gray'\n",
    "plt.rcParams['animation.html'] = 'html5'"
   ]
  },
  {
   "cell_type": "markdown",
   "metadata": {},
   "source": [
    "In this tutorial, we  still use karate club as example. And we provide a utility function to create the graph:"
   ]
  },
  {
   "cell_type": "code",
   "execution_count": 63,
   "metadata": {},
   "outputs": [],
   "source": [
    "import dgl, torch\n",
    "import networkx as nx\n",
    "from tutorial_utils import create_karate_graph\n",
    "G = create_karate_graph()"
   ]
  },
  {
   "cell_type": "markdown",
   "metadata": {},
   "source": [
    "![](https://www.dropbox.com/s/uqzor4lqsmbnz8k/karate1.jpg?dl=1)"
   ]
  },
  {
   "cell_type": "markdown",
   "metadata": {},
   "source": [
    "Message passing on graph\n",
    "-------------------------------------------------\n",
    "\n",
    "Many graph neural networks follows the **message passing** computation model ([Gilmer et al, 2017](https://arxiv.org/abs/1704.01212)):\n",
    "- each node receives and aggregates messages from its neighbors  \n",
    "$$m_v^{t+1} = \\sum\\limits_{w\\in \\mathcal{N}(v)}M_t(h_v^t, h_w^t, e_{vw}^t)$$, where $\\mathcal{N}(v)$ is the neighbor set of node $v$.\n",
    "\n",
    "- each node update its own embedding using aggregated messages\n",
    "$$h_v^{t+1} = U_t(h_v^t, m_v^{t+1})$$\n",
    "\n",
    "We will go through the basic mechanism of message passing using a toy task:\n",
    "\n",
    "Suppose the karate club president (node 33) is sending out an invitation of their annual karate match. The president also asks the club members to broadcast the news to, of course, their friends in the club. We use a scalar to represent whether the member has received the invitation or not (1 for invited, 0 for not invited). Initially, everyone is 0 except node 33."
   ]
  },
  {
   "cell_type": "code",
   "execution_count": 64,
   "metadata": {},
   "outputs": [
    {
     "name": "stdout",
     "output_type": "stream",
     "text": [
      "We now have 190 edges!\n",
      "tensor([0., 0., 0., 0., 0., 0., 0., 0., 0., 0., 0., 0., 0., 0., 0., 0., 0., 0.,\n",
      "        0., 0., 0., 0., 0., 0., 0., 0., 0., 0., 0., 0., 0., 0., 0., 1.])\n"
     ]
    }
   ],
   "source": [
    "# We first convert the uni-directional edges to bi-directional so messages can\n",
    "#   be sent in both direction.\n",
    "src, dst = G.edges()\n",
    "G.add_edges(dst, src)\n",
    "# add self loop for each nodes for convenience\n",
    "v = G.nodes()\n",
    "G.add_edges(v, v)\n",
    "print('We now have %d edges!' % G.number_of_edges())\n",
    "\n",
    "# init the state\n",
    "G.ndata['invited'] = torch.zeros((34,))\n",
    "G.nodes[33].data['invited'] = torch.tensor([1.])\n",
    "print(G.ndata['invited'])"
   ]
  },
  {
   "cell_type": "markdown",
   "metadata": {},
   "source": [
    "We first define the function that computes the messages. In DGL, the message function is an **Edge UDF** that takes in a single argument `edges`. It has three members `src`, `dst`, and `data` for accessing source node features, destination node features, and edge features respectively."
   ]
  },
  {
   "cell_type": "code",
   "execution_count": 65,
   "metadata": {},
   "outputs": [],
   "source": [
    "def message_func(edges):\n",
    "    # The message is simply the 'invited' state of the source nodes.\n",
    "    print(f\"### edges {edges.edges()}\")\n",
    "    return {'msg' : edges.src['invited']}"
   ]
  },
  {
   "cell_type": "markdown",
   "metadata": {},
   "source": [
    "Next, we define the reduce function which accumulates and consume the messages to update the node features. In DGL, the reduce function is a **Node UDF** that takes in a single argument `nodes`, which has two members `data` and `mailbox`. `data` contains the node features while `mailbox` contains all incoming message features, stacked along the second dimension (hence the `dim=1` argument)."
   ]
  },
  {
   "cell_type": "code",
   "execution_count": 66,
   "metadata": {},
   "outputs": [],
   "source": [
    "def reduce_func(nodes):\n",
    "    # The reduce function sets the 'invited' state to be one if the node has already\n",
    "    #   been invited or any of the received messages contains an invitation (is one).\n",
    "    #   This can be done using sum and clamp operations as follows.\n",
    "    print(f\"*** nodes {nodes.nodes()} ***\")\n",
    "    print(f\"*** mailbox shape {nodes.mailbox['msg'].shape}\")\n",
    "    print(f\"*** mailbox {nodes.mailbox['msg']}\")\n",
    "    accum = nodes.mailbox['msg'].sum(dim=1)  # note that messages are stacked on dim=1\n",
    "    print(f\"*** accum {accum}\")\n",
    "    print()\n",
    "    return {'invited' : accum.clamp(max=1)}"
   ]
  },
  {
   "cell_type": "markdown",
   "metadata": {},
   "source": [
    "To trigger the message and reduce function, one can use the `send` and `recv` APIs. Following codes send out the messages from node 33:"
   ]
  },
  {
   "cell_type": "code",
   "execution_count": 67,
   "metadata": {},
   "outputs": [
    {
     "name": "stdout",
     "output_type": "stream",
     "text": [
      "### edges (tensor([33, 33, 33, 33, 33, 33, 33, 33, 33, 33, 33, 33, 33, 33, 33, 33, 33, 33]), tensor([ 8,  9, 13, 14, 15, 18, 19, 20, 22, 23, 26, 27, 28, 29, 30, 31, 32, 33]), tensor([ 61,  62,  63,  64,  65,  66,  67,  68,  69,  70,  71,  72,  73,  74,\n",
      "         75,  76,  77, 189]))\n"
     ]
    }
   ],
   "source": [
    "# The first argument to `G.send` is the edges along which the messages are sent.\n",
    "# Note that we can use the same syntax used in adding edges to the graph.\n",
    "# The second argument is the message function we just defined.\n",
    "G.send((33, G.successors(33)), message_func)"
   ]
  },
  {
   "cell_type": "markdown",
   "metadata": {},
   "source": [
    "We then call `recv` on the receiver nodes to trigger the reduce function."
   ]
  },
  {
   "cell_type": "code",
   "execution_count": 68,
   "metadata": {},
   "outputs": [
    {
     "name": "stdout",
     "output_type": "stream",
     "text": [
      "*** nodes tensor([33, 30, 29, 28, 27, 23, 22, 18, 26, 15, 14, 20, 32,  9, 13, 19, 31,  8]) ***\n",
      "*** mailbox shape torch.Size([18, 1])\n",
      "*** mailbox tensor([[1.],\n",
      "        [1.],\n",
      "        [1.],\n",
      "        [1.],\n",
      "        [1.],\n",
      "        [1.],\n",
      "        [1.],\n",
      "        [1.],\n",
      "        [1.],\n",
      "        [1.],\n",
      "        [1.],\n",
      "        [1.],\n",
      "        [1.],\n",
      "        [1.],\n",
      "        [1.],\n",
      "        [1.],\n",
      "        [1.],\n",
      "        [1.]])\n",
      "*** accum tensor([1., 1., 1., 1., 1., 1., 1., 1., 1., 1., 1., 1., 1., 1., 1., 1., 1., 1.])\n",
      "\n"
     ]
    }
   ],
   "source": [
    "G.recv(G.successors(33), reduce_func)"
   ]
  },
  {
   "cell_type": "markdown",
   "metadata": {},
   "source": [
    "You can print out the `'invited'` status to see the invitation being propagated."
   ]
  },
  {
   "cell_type": "code",
   "execution_count": 69,
   "metadata": {},
   "outputs": [
    {
     "name": "stdout",
     "output_type": "stream",
     "text": [
      "tensor([0., 0., 0., 0., 0., 0., 0., 0., 1., 1., 0., 0., 0., 1., 1., 1., 0., 0.,\n",
      "        1., 1., 1., 0., 1., 1., 0., 0., 1., 1., 1., 1., 1., 1., 1., 1.])\n"
     ]
    }
   ],
   "source": [
    "print(G.ndata['invited'])"
   ]
  },
  {
   "cell_type": "markdown",
   "metadata": {},
   "source": [
    "**What's under the hood?**\n",
    "\n",
    "The key idea here is to automatically batch the node and edge features so that your UDF can compute message passing on multiple nodes and edges in parallel.\n",
    "\n",
    "```python\n",
    "def message_func(edges):\n",
    "    return {'msg' : edges.src['invited']}\n",
    "```\n",
    "\n",
    "The `edges` argument is an `EdgeBatch` object representing a batch of edges. It has three members, `src`, `dst`, `data`. The `edges.src['invited']` returns a tensor of shape `(B,)`, where `B` is the number of edges being triggered.\n",
    "\n",
    "```python\n",
    "def reduce_func(nodes):\n",
    "    accum = nodes.mailbox['msg'].sum(dim=1)\n",
    "    return {'invited' : accum.clamp(max=1)}\n",
    "```\n",
    "\n",
    "Similarly, for the reduce function, the argument `nodes` is an `NodeBatch` object representing a batch of nodes. It has two members `data` and `mailbox`. The `nodes.mailbox['msg']` returns a tensor of shape `(B, deg)`, where `B` is the number of nodes that have the same in-degree `deg`. The reduce function will be called *many times* for each degree group."
   ]
  },
  {
   "cell_type": "code",
   "execution_count": 70,
   "metadata": {},
   "outputs": [
    {
     "name": "stdout",
     "output_type": "stream",
     "text": [
      "### edges (tensor([ 1,  2,  2,  3,  3,  3,  4,  5,  6,  6,  6,  7,  7,  7,  7,  8,  8,  9,\n",
      "        10, 10, 10, 11, 12, 12, 13, 13, 13, 13, 16, 16, 17, 17, 19, 19, 21, 21,\n",
      "        25, 25, 27, 27, 27, 28, 29, 29, 30, 30, 31, 31, 31, 31, 32, 32, 32, 32,\n",
      "        32, 32, 32, 32, 32, 32, 32, 33, 33, 33, 33, 33, 33, 33, 33, 33, 33, 33,\n",
      "        33, 33, 33, 33, 33, 33,  0,  0,  1,  0,  1,  2,  0,  0,  0,  4,  5,  0,\n",
      "         1,  2,  3,  0,  2,  2,  0,  4,  5,  0,  0,  3,  0,  1,  2,  3,  5,  6,\n",
      "         0,  1,  0,  1,  0,  1, 23, 24,  2, 23, 24,  2, 23, 26,  1,  8,  0, 24,\n",
      "        25, 28,  2,  8, 14, 15, 18, 20, 22, 23, 29, 30, 31,  8,  9, 13, 14, 15,\n",
      "        18, 19, 20, 22, 23, 26, 27, 28, 29, 30, 31, 32,  0,  1,  2,  3,  4,  5,\n",
      "         6,  7,  8,  9, 10, 11, 12, 13, 14, 15, 16, 17, 18, 19, 20, 21, 22, 23,\n",
      "        24, 25, 26, 27, 28, 29, 30, 31, 32, 33]), tensor([ 0,  0,  1,  0,  1,  2,  0,  0,  0,  4,  5,  0,  1,  2,  3,  0,  2,  2,\n",
      "         0,  4,  5,  0,  0,  3,  0,  1,  2,  3,  5,  6,  0,  1,  0,  1,  0,  1,\n",
      "        23, 24,  2, 23, 24,  2, 23, 26,  1,  8,  0, 24, 25, 28,  2,  8, 14, 15,\n",
      "        18, 20, 22, 23, 29, 30, 31,  8,  9, 13, 14, 15, 18, 19, 20, 22, 23, 26,\n",
      "        27, 28, 29, 30, 31, 32,  1,  2,  2,  3,  3,  3,  4,  5,  6,  6,  6,  7,\n",
      "         7,  7,  7,  8,  8,  9, 10, 10, 10, 11, 12, 12, 13, 13, 13, 13, 16, 16,\n",
      "        17, 17, 19, 19, 21, 21, 25, 25, 27, 27, 27, 28, 29, 29, 30, 30, 31, 31,\n",
      "        31, 31, 32, 32, 32, 32, 32, 32, 32, 32, 32, 32, 32, 33, 33, 33, 33, 33,\n",
      "        33, 33, 33, 33, 33, 33, 33, 33, 33, 33, 33, 33,  0,  1,  2,  3,  4,  5,\n",
      "         6,  7,  8,  9, 10, 11, 12, 13, 14, 15, 16, 17, 18, 19, 20, 21, 22, 23,\n",
      "        24, 25, 26, 27, 28, 29, 30, 31, 32, 33]), tensor([  0,   1,   2,   3,   4,   5,   6,   7,   8,   9,  10,  11,  12,  13,\n",
      "         14,  15,  16,  17,  18,  19,  20,  21,  22,  23,  24,  25,  26,  27,\n",
      "         28,  29,  30,  31,  32,  33,  34,  35,  36,  37,  38,  39,  40,  41,\n",
      "         42,  43,  44,  45,  46,  47,  48,  49,  50,  51,  52,  53,  54,  55,\n",
      "         56,  57,  58,  59,  60,  61,  62,  63,  64,  65,  66,  67,  68,  69,\n",
      "         70,  71,  72,  73,  74,  75,  76,  77,  78,  79,  80,  81,  82,  83,\n",
      "         84,  85,  86,  87,  88,  89,  90,  91,  92,  93,  94,  95,  96,  97,\n",
      "         98,  99, 100, 101, 102, 103, 104, 105, 106, 107, 108, 109, 110, 111,\n",
      "        112, 113, 114, 115, 116, 117, 118, 119, 120, 121, 122, 123, 124, 125,\n",
      "        126, 127, 128, 129, 130, 131, 132, 133, 134, 135, 136, 137, 138, 139,\n",
      "        140, 141, 142, 143, 144, 145, 146, 147, 148, 149, 150, 151, 152, 153,\n",
      "        154, 155, 156, 157, 158, 159, 160, 161, 162, 163, 164, 165, 166, 167,\n",
      "        168, 169, 170, 171, 172, 173, 174, 175, 176, 177, 178, 179, 180, 181,\n",
      "        182, 183, 184, 185, 186, 187, 188, 189]))\n",
      "*** nodes tensor([1]) ***\n",
      "*** mailbox shape torch.Size([1, 10])\n",
      "*** mailbox tensor([[0., 0., 0., 1., 0., 1., 0., 1., 0., 0.]])\n",
      "*** accum tensor([3.])\n",
      "\n",
      "*** nodes tensor([2]) ***\n",
      "*** mailbox shape torch.Size([1, 11])\n",
      "*** mailbox tensor([[0., 0., 1., 1., 1., 1., 1., 1., 0., 0., 0.]])\n",
      "*** accum tensor([6.])\n",
      "\n",
      "*** nodes tensor([0]) ***\n",
      "*** mailbox shape torch.Size([1, 17])\n",
      "*** mailbox tensor([[0., 0., 0., 0., 0., 0., 0., 1., 0., 0., 0., 1., 0., 1., 0., 1., 0.]])\n",
      "*** accum tensor([4.])\n",
      "\n",
      "*** nodes tensor([23, 13,  8]) ***\n",
      "*** mailbox shape torch.Size([3, 6])\n",
      "*** mailbox tensor([[0., 1., 1., 1., 1., 1.],\n",
      "        [1., 0., 0., 0., 0., 1.],\n",
      "        [1., 1., 1., 0., 0., 1.]])\n",
      "*** accum tensor([5., 2., 4.])\n",
      "\n",
      "*** nodes tensor([26, 22, 21, 20, 18, 17, 16, 15, 14, 12,  9]) ***\n",
      "*** mailbox shape torch.Size([11, 3])\n",
      "*** mailbox tensor([[1., 1., 1.],\n",
      "        [1., 1., 1.],\n",
      "        [0., 0., 0.],\n",
      "        [1., 1., 1.],\n",
      "        [1., 1., 1.],\n",
      "        [0., 0., 0.],\n",
      "        [0., 0., 0.],\n",
      "        [1., 1., 1.],\n",
      "        [1., 1., 1.],\n",
      "        [0., 0., 0.],\n",
      "        [1., 0., 1.]])\n",
      "*** accum tensor([3., 3., 0., 3., 3., 0., 0., 3., 3., 0., 2.])\n",
      "\n",
      "*** nodes tensor([28, 25, 24, 19, 10,  4]) ***\n",
      "*** mailbox shape torch.Size([6, 4])\n",
      "*** mailbox tensor([[1., 1., 0., 1.],\n",
      "        [1., 1., 0., 0.],\n",
      "        [0., 1., 1., 0.],\n",
      "        [1., 0., 0., 1.],\n",
      "        [0., 0., 0., 0.],\n",
      "        [0., 0., 0., 0.]])\n",
      "*** accum tensor([3., 2., 2., 2., 0., 0.])\n",
      "\n",
      "*** nodes tensor([30, 29, 27,  7,  6,  5]) ***\n",
      "*** mailbox shape torch.Size([6, 5])\n",
      "*** mailbox tensor([[1., 1., 0., 1., 1.],\n",
      "        [1., 1., 1., 1., 1.],\n",
      "        [1., 0., 1., 0., 1.],\n",
      "        [0., 0., 0., 0., 0.],\n",
      "        [0., 0., 0., 0., 0.],\n",
      "        [0., 0., 0., 0., 0.]])\n",
      "*** accum tensor([4., 5., 3., 0., 0., 0.])\n",
      "\n",
      "*** nodes tensor([33]) ***\n",
      "*** mailbox shape torch.Size([1, 18])\n",
      "*** mailbox tensor([[1., 1., 1., 1., 1., 1., 1., 1., 1., 1., 1., 1., 1., 1., 1., 1., 1., 1.]])\n",
      "*** accum tensor([18.])\n",
      "\n",
      "*** nodes tensor([31,  3]) ***\n",
      "*** mailbox shape torch.Size([2, 7])\n",
      "*** mailbox tensor([[1., 1., 0., 0., 0., 1., 1.],\n",
      "        [0., 0., 1., 0., 0., 0., 0.]])\n",
      "*** accum tensor([4., 1.])\n",
      "\n",
      "*** nodes tensor([11]) ***\n",
      "*** mailbox shape torch.Size([1, 2])\n",
      "*** mailbox tensor([[0., 0.]])\n",
      "*** accum tensor([0.])\n",
      "\n",
      "*** nodes tensor([32]) ***\n",
      "*** mailbox shape torch.Size([1, 13])\n",
      "*** mailbox tensor([[1., 0., 1., 1., 1., 1., 1., 1., 1., 1., 1., 1., 1.]])\n",
      "*** accum tensor([12.])\n",
      "\n"
     ]
    }
   ],
   "source": [
    "# Exercise: please write code to continue broadcasting the invitation until all members in the graph are invited.\n",
    "\n",
    "#Hint 1: you can trigger message function on all edges and reduce function on all nodes\n",
    "#Hint 2: you can get all edges with G.edges() and all nodes with G.nodes()\n",
    "\n",
    "# >>> YOUR CODE STARTS\n",
    "G.send(G.edges(), message_func)\n",
    "G.recv(G.nodes(), reduce_func)\n",
    "# <<< YOUR CODE ENDS"
   ]
  },
  {
   "cell_type": "code",
   "execution_count": 71,
   "metadata": {},
   "outputs": [
    {
     "name": "stdout",
     "output_type": "stream",
     "text": [
      "tensor([1., 1., 1., 1., 0., 0., 0., 0., 1., 1., 0., 0., 0., 1., 1., 1., 0., 0.,\n",
      "        1., 1., 1., 0., 1., 1., 1., 1., 1., 1., 1., 1., 1., 1., 1., 1.])\n"
     ]
    }
   ],
   "source": [
    "print(G.ndata['invited'])"
   ]
  },
  {
   "cell_type": "code",
   "execution_count": null,
   "metadata": {},
   "outputs": [],
   "source": []
  }
 ],
 "metadata": {
  "kernelspec": {
   "display_name": "Python 3",
   "language": "python",
   "name": "python3"
  },
  "language_info": {
   "codemirror_mode": {
    "name": "ipython",
    "version": 3
   },
   "file_extension": ".py",
   "mimetype": "text/x-python",
   "name": "python",
   "nbconvert_exporter": "python",
   "pygments_lexer": "ipython3",
   "version": "3.7.3"
  }
 },
 "nbformat": 4,
 "nbformat_minor": 2
}

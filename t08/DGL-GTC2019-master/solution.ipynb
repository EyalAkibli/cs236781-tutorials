{
 "cells": [
  {
   "cell_type": "markdown",
   "metadata": {},
   "source": [
    "# Solution to tutorial exercises"
   ]
  },
  {
   "cell_type": "markdown",
   "metadata": {},
   "source": [
    "## 1_Basics.ipynb\n",
    "\n",
    "### Exercise 1"
   ]
  },
  {
   "cell_type": "code",
   "execution_count": null,
   "metadata": {},
   "outputs": [],
   "source": [
    "src, dst = zip(*edge_list)\n",
    "G.add_edges(src, dst)"
   ]
  },
  {
   "cell_type": "markdown",
   "metadata": {},
   "source": [
    "### Exercise 2"
   ]
  },
  {
   "cell_type": "code",
   "execution_count": null,
   "metadata": {},
   "outputs": [],
   "source": [
    "G.edata['broness'] += torch.randn((G.number_of_edges(),)) * 0.1"
   ]
  },
  {
   "cell_type": "markdown",
   "metadata": {},
   "source": [
    "## 2_MessagePassing.ipynb\n",
    "\n",
    "### Exercise 1"
   ]
  },
  {
   "cell_type": "code",
   "execution_count": null,
   "metadata": {},
   "outputs": [],
   "source": [
    "num_invited = int(G.ndata['invited'].sum())\n",
    "print(\"{} members invited\".format(num_invited))\n",
    "\n",
    "while num_invited < 34:\n",
    "    G.send(G.edges(), message_func)\n",
    "    G.recv(G.nodes(), reduce_func)\n",
    "    num_invited = int(G.ndata['invited'].sum())\n",
    "    print(\"{} members invited\".format(num_invited))"
   ]
  },
  {
   "cell_type": "markdown",
   "metadata": {},
   "source": [
    "## 3_GCN.ipynb\n",
    "### Exercise 1"
   ]
  },
  {
   "cell_type": "code",
   "execution_count": null,
   "metadata": {},
   "outputs": [],
   "source": [
    "def gcn_message(edges):\n",
    "    # Send features of source nodes as message.\n",
    "    # Hint 1: you can access the feature dictionary of source node, destination node and edges with\n",
    "    #         edges.src, edges.dst, edges.data\n",
    "    # Hint 2: name of the node feature is decided when you set the feature in GCN forward function\n",
    "    return {'msg': edges.src['h']}\n",
    "\n",
    "def gcn_reduce(nodes):\n",
    "    # Aggregate messages from neighbors by summation.\n",
    "    # Hint 1: messages are delivered into mailbox and you can access it using nodes.mailbox\n",
    "    # Hint 2: mailbox is the same as the feature dictionary you return in gcn_message\n",
    "    return {'h': nodes.mailbox['msg'].sum(dim=1)}"
   ]
  },
  {
   "cell_type": "markdown",
   "metadata": {},
   "source": [
    "### Exercise 2"
   ]
  },
  {
   "cell_type": "code",
   "execution_count": null,
   "metadata": {},
   "outputs": [],
   "source": [
    "# You need to make two changes:\n",
    "\n",
    "# 1. Get the degrees of nodes and make them a node feature. You can do this in forward function of GCN, \n",
    "#    or during pre-processing\n",
    "class GCN(nn.Module):\n",
    "    def __init__(self, in_feats, out_feats):\n",
    "        super(GCN, self).__init__()\n",
    "        self.linear = nn.Linear(in_feats, out_feats)\n",
    "    \n",
    "    def forward(self, g, inputs):\n",
    "        # g is the graph and the inputs is the input node features\n",
    "        # first perform linear transformation\n",
    "        h = self.linear(inputs)\n",
    "        # set the node features\n",
    "        g.ndata['h'] = h\n",
    "        # set node degrees\n",
    "        g.ndata['deg'] = g.in_degrees(g.nodes())\n",
    "        # trigger message passing, gcn_message and gcn_reduce will be defined later\n",
    "        g.send(g.edges(), gcn_message)\n",
    "        g.recv(g.nodes(), gcn_reduce)\n",
    "        # get the result node features\n",
    "        h = g.ndata.pop('h')\n",
    "        return h\n",
    "    \n",
    "# 2. Update the message function and use node degree to compute normalization factor\n",
    "def gcn_message(edges):\n",
    "    return {'msg': torch.sqrt(edges.src['deg'] * edges.dst['deg']) * edges.src['h']}"
   ]
  }
 ],
 "metadata": {
  "kernelspec": {
   "display_name": "Python 3",
   "language": "python",
   "name": "python3"
  },
  "language_info": {
   "codemirror_mode": {
    "name": "ipython",
    "version": 3
   },
   "file_extension": ".py",
   "mimetype": "text/x-python",
   "name": "python",
   "nbconvert_exporter": "python",
   "pygments_lexer": "ipython3",
   "version": "3.7.3"
  }
 },
 "nbformat": 4,
 "nbformat_minor": 2
}

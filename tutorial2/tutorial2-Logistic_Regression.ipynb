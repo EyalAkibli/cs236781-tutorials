{
 "cells": [
  {
   "cell_type": "markdown",
   "metadata": {
    "slideshow": {
     "slide_type": "slide"
    }
   },
   "source": [
    "$$\n",
    "\\newcommand{\\mat}[1]{\\pmb {#1}}\n",
    "\\newcommand{\\mattr}[1]{\\pmb {#1}^\\top}\n",
    "\\newcommand{\\matinv}[1]{\\pmb {#1}^{-1}}\n",
    "\\newcommand{\\vec}[1]{\\pmb {#1}}\n",
    "\\newcommand{\\vectr}[1]{\\pmb {#1}^\\top}\n",
    "\\newcommand{\\rvar}[1]{\\mathrm {#1}}\n",
    "\\newcommand{\\rvec}[1]{\\pmb{\\mathrm{#1}}}\n",
    "\\newcommand{\\diag}{\\mathop{\\mathrm {diag}}}\n",
    "\\newcommand{\\set}[1]{\\mathbb {#1}}\n",
    "\\newcommand{\\norm}[1]{\\left\\lVert#1\\right\\rVert}\n",
    "\\newcommand{\\pderiv}[2]{\\frac{\\partial #1}{\\partial #2}}\n",
    "$$\n",
    "# CS236605: Deep Learning\n",
    "# Tutorial 2: Logistic Regression"
   ]
  },
  {
   "cell_type": "markdown",
   "metadata": {
    "slideshow": {
     "slide_type": "slide"
    }
   },
   "source": [
    "## Introduction\n",
    "\n",
    "TODO\n",
    "\n",
    "In this tutorial, we will cover:\n",
    "\n",
    "* foo\n",
    "* bar"
   ]
  },
  {
   "cell_type": "code",
   "execution_count": 3,
   "metadata": {},
   "outputs": [],
   "source": [
    "# Setup\n",
    "%matplotlib inline\n",
    "import numpy as np\n",
    "import matplotlib.pyplot as plt\n",
    "plt.rcParams['font.size'] = 20"
   ]
  },
  {
   "cell_type": "markdown",
   "metadata": {
    "slideshow": {
     "slide_type": "slide"
    }
   },
   "source": [
    "## Theory Reminders"
   ]
  },
  {
   "cell_type": "markdown",
   "metadata": {
    "slideshow": {
     "slide_type": "subslide"
    }
   },
   "source": [
    "### The supervised learning context"
   ]
  },
  {
   "cell_type": "markdown",
   "metadata": {
    "slideshow": {
     "slide_type": "subslide"
    }
   },
   "source": [
    "We have a labeled dataset of $N$ labelled samples: $\\mathcal{D} = \\{ (\\vec{x}^i,y^i) \\}_{i=1}^N$, where\n",
    "- $\\vec{x}^i = \\left(x^i_1, \\dots, x^i_D\\right) \\in \\mathcal{X}$  is a **sample** or **feature vector**.\n",
    "- $y^i \\in \\mathcal{Y}$ is the **label**.\n",
    "- For classification to one of $C$ classes, $\\mathcal{Y} = \\{0,\\dots,C-1\\}$, so each $y^i$ is a **class label**.\n",
    "- Usually we assume each labeled sample $(\\vec{x}^i,y^i)$\n",
    "  is drawn from a joint distribution\n",
    "  $$P(\\rvec{X}, \\rvar{Y})=P(\\rvec{X})\\cdot P(\\rvar{Y}|\\rvec{X})$$"
   ]
  },
  {
   "cell_type": "markdown",
   "metadata": {
    "slideshow": {
     "slide_type": "subslide"
    }
   },
   "source": [
    "- Our **model** is a parametrized set of functions $\\mathcal{H}$.\n",
    "\n",
    "    For example,\n",
    "    $$\n",
    "    \\mathcal{H} =\n",
    "    \\left\\{ h: \\mathcal{X}\\rightarrow\\mathcal{Y}\n",
    "    ~\\vert~\n",
    "    h(\\vec{x}) = \\varphi(\\vectr{w}\\vec{x}+b); \\vec{w}\\in\\set{R}^D,~b\\in\\set{R}\\right\\}\n",
    "    $$\n",
    "    where $\\varphi(\\cdot)$ is some nonlinear function, is known as the **perceptron** model.\n",
    "    \n",
    "    The model is **trained** by updating it's parameters to improve it's performance on some data.\n",
    "    \n",
    "    A model may also have **hyperparameters** which are not trained (but they can be cross-validated).\n",
    "    For example, the choice of $\\varphi(\\cdot)$ above could be a hyperparameter."
   ]
  },
  {
   "cell_type": "markdown",
   "metadata": {
    "slideshow": {
     "slide_type": "subslide"
    }
   },
   "source": [
    "- We define an empirical **loss function** $L_{\\mathcal{D}}(h)$ as the measure of how well a function $h\\in\\mathcal{H}$ fits the data $\\mathcal{D}$, for example\n",
    "$$\n",
    "L_{\\mathcal{D}}(h) = \\frac{1}{N} \\sum_{i=1}^{N} \\ell(h(\\vec{x}^i), y^i) + R(h)\n",
    "$$\n",
    "where\n",
    "    - $\\ell(y,\\hat{y})$ is some **pointwise loss**, e.g. MSE for regression or cross-entropy for classification (depends on on the data).\n",
    "    - $R(h)$ is a regularization term (depends only on the model)."
   ]
  },
  {
   "cell_type": "markdown",
   "metadata": {
    "slideshow": {
     "slide_type": "subslide"
    }
   },
   "source": [
    "- We wish to find a parametrization of our model $h^{\\ast}\\in\\mathcal{H}$ such that\n",
    "$$\n",
    "h^{\\ast} = \\arg\\min_{h\\in\\mathcal{H}} L_{\\mathcal{D}}(h)\n",
    "$$"
   ]
  },
  {
   "cell_type": "markdown",
   "metadata": {
    "slideshow": {
     "slide_type": "slide"
    }
   },
   "source": [
    "### Linear Regression\n",
    "\n",
    "We're trying to learn a continuous and perhaps non-deterministic function $y=f(\\vec{x})$.\n",
    "\n",
    "- Domain: $\\vec{x}^i \\in \\set{R}^D$\n",
    "- Target: $y^i \\in \\set{R}$ (can of course be extended to the vector-valued case)\n",
    "- Model: $\\hat y = h(\\vec{x}) = \\vectr{w}\\vec{x} + b$\n",
    "- MSE loss:\n",
    "    $$\\begin{align}\n",
    "    \\ell(y,\\hat{y}) &= (y-\\hat{y})^2 \\\\\n",
    "    L_{\\mathcal{D}}(h) &= \\frac{1}{N}\\sum_{i=1}^{N}(h(\\vec{x}^i)-y^i)^2 =\n",
    "        \\frac{1}{N}\\sum_{i=1}^{N}(\\vectr{w}\\vec{x} + b -y^i)^2 \\\\\n",
    "    \\end{align}$$\n",
    "\n",
    "- Closed-form solution exists!\n",
    "    $$\n",
    "    \\vec{w}^{\\ast} = (\\mat{X}\\mattr{X})^{-1}\\mat{X}\\vec{y},\n",
    "    $$\n",
    "    where $\\mat{X}$ is a matrix with all the samples in its columns (after bias trick),\n",
    "    and $\\vec{y}$ is a vector of all the labels."
   ]
  },
  {
   "cell_type": "markdown",
   "metadata": {
    "slideshow": {
     "slide_type": "slide"
    }
   },
   "source": [
    "### Binary Logistic Regression\n",
    "\n",
    "Actually a **classification** model. We're trying to classify data into 2 classes.\n",
    "\n",
    "- Domain: $\\vec{x}^i \\in \\set{R}^D$\n",
    "- Target: $y^i \\in \\{0,1\\}$\n",
    "- Model: $\\hat{y} = h(\\vec{x}) = \\sigma(\\vectr{w}\\vec{x}+b)$, where $\\sigma(\\vec{z})$ is the **logistic function**.\n",
    "    - Probabilistic interpretation\n",
    "- Cross-entropy loss:\n",
    "    $$\\begin{align}\n",
    "    \\ell(y, \\hat{y}) &=  - y \\log(\\hat{y}) - (1-y) \\log(1-\\hat{y}) \\\\\n",
    "    \\end{align}$$\n",
    "- No closed form solution, but loss is **convex**!"
   ]
  },
  {
   "cell_type": "code",
   "execution_count": 4,
   "metadata": {
    "slideshow": {
     "slide_type": "fragment"
    }
   },
   "outputs": [
    {
     "data": {
      "image/png": "[encoded data removed]",
      "text/plain": [
       "<Figure size 432x288 with 1 Axes>"
      ]
     },
     "metadata": {
      "needs_background": "light"
     },
     "output_type": "display_data"
    }
   ],
   "source": [
    "# Plot the logistic function\n",
    "def logistic(z):\n",
    "    return 1 / (1.0 + np.exp(-z))\n",
    "    \n",
    "x = np.arange(-5, 5, .01)    \n",
    "plt.plot(x, logistic(x), label='$\\sigma(z)$')\n",
    "plt.grid(True); plt.xlabel('z'); plt.legend();"
   ]
  },
  {
   "cell_type": "code",
   "execution_count": null,
   "metadata": {},
   "outputs": [],
   "source": []
  }
 ],
 "metadata": {
  "celltoolbar": "Slideshow",
  "kernelspec": {
   "display_name": "Python 3",
   "language": "python",
   "name": "python3"
  },
  "language_info": {
   "codemirror_mode": {
    "name": "ipython",
    "version": 3
   },
   "file_extension": ".py",
   "mimetype": "text/x-python",
   "name": "python",
   "nbconvert_exporter": "python",
   "pygments_lexer": "ipython3",
   "version": "3.6.7"
  }
 },
 "nbformat": 4,
 "nbformat_minor": 2
}

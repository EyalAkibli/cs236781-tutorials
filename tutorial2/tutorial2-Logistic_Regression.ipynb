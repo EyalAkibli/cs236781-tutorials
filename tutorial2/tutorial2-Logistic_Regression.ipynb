{
 "cells": [
  {
   "cell_type": "markdown",
   "metadata": {
    "slideshow": {
     "slide_type": "slide"
    }
   },
   "source": [
    "$$\n",
    "\\newcommand{\\mat}[1]{\\pmb {#1}}\n",
    "\\newcommand{\\mattr}[1]{\\pmb {#1}^\\top}\n",
    "\\newcommand{\\matinv}[1]{\\pmb {#1}^{-1}}\n",
    "\\newcommand{\\vec}[1]{\\pmb {#1}}\n",
    "\\newcommand{\\vectr}[1]{\\pmb {#1}^\\top}\n",
    "\\newcommand{\\rvar}[1]{\\mathrm {#1}}\n",
    "\\newcommand{\\rvec}[1]{\\pmb{\\mathrm{#1}}}\n",
    "\\newcommand{\\diag}{\\mathop{\\mathrm {diag}}}\n",
    "\\newcommand{\\set}[1]{\\mathbb {#1}}\n",
    "\\newcommand{\\norm}[1]{\\left\\lVert#1\\right\\rVert}\n",
    "\\newcommand{\\pderiv}[2]{\\frac{\\partial #1}{\\partial #2}}\n",
    "$$\n",
    "# CS236605: Deep Learning\n",
    "# Tutorial 2: Logistic Regression"
   ]
  },
  {
   "cell_type": "markdown",
   "metadata": {
    "slideshow": {
     "slide_type": "slide"
    }
   },
   "source": [
    "## Introduction\n",
    "\n",
    "In this tutorial, we will cover:\n",
    "\n",
    "* Basics of supervised learning\n",
    "* Binary logistic regression from scratch using numpy\n",
    "* Multiclass logistic regression from scratch with PyTorch"
   ]
  },
  {
   "cell_type": "code",
   "execution_count": 1,
   "metadata": {
    "slideshow": {
     "slide_type": "fragment"
    }
   },
   "outputs": [],
   "source": [
    "# Setup\n",
    "%matplotlib inline\n",
    "import numpy as np\n",
    "import pandas as pd\n",
    "import sklearn\n",
    "import matplotlib.pyplot as plt\n",
    "plt.rcParams['font.size'] = 20"
   ]
  },
  {
   "cell_type": "markdown",
   "metadata": {
    "slideshow": {
     "slide_type": "slide"
    }
   },
   "source": [
    "## Theory Reminders"
   ]
  },
  {
   "cell_type": "markdown",
   "metadata": {
    "slideshow": {
     "slide_type": "subslide"
    }
   },
   "source": [
    "### The supervised learning context"
   ]
  },
  {
   "cell_type": "markdown",
   "metadata": {
    "slideshow": {
     "slide_type": "fragment"
    }
   },
   "source": [
    "We have a labeled dataset of $N$ labelled samples: $\\mathcal{D} = \\{ (\\vec{x}^i,y^i) \\}_{i=1}^N$, where\n",
    "- $\\vec{x}^i = \\left(x^i_1, \\dots, x^i_D\\right) \\in \\mathcal{X}$  is a **sample** or **feature vector**.\n",
    "- $y^i \\in \\mathcal{Y}$ is the **label**.\n",
    "- For classification with $C$ classes, $\\mathcal{Y} = \\{0,\\dots,C-1\\}$, so each $y^i$ is a **class label**.\n",
    "- Usually we assume each labeled sample $(\\vec{x}^i,y^i)$\n",
    "  is drawn from a joint distribution\n",
    "  $$P(\\rvec{X}, \\rvar{Y})=P(\\rvec{X})\\cdot P(\\rvar{Y}|\\rvec{X})$$"
   ]
  },
  {
   "cell_type": "markdown",
   "metadata": {
    "slideshow": {
     "slide_type": "subslide"
    }
   },
   "source": [
    "- Our **model** is a parametrized set of functions $\\mathcal{H}$.\n",
    "\n",
    "    For example,\n",
    "    $$\n",
    "    \\mathcal{H} =\n",
    "    \\left\\{ h: \\mathcal{X}\\rightarrow\\mathcal{Y}\n",
    "    ~\\vert~\n",
    "    h(\\vec{x}) = \\varphi(\\vectr{w}\\vec{x}+b); \\vec{w}\\in\\set{R}^D,~b\\in\\set{R}\\right\\}\n",
    "    $$\n",
    "    where $\\varphi(\\cdot)$ is some nonlinear function, is known as the **perceptron** model.\n",
    "    \n",
    "    The model is **trained** by updating it's parameters to improve it's performance on some data.\n",
    "    \n",
    "    A model may also have **hyperparameters** which are not trained (but they can be cross-validated).\n",
    "    For example, the choice of $\\varphi(\\cdot)$ above could be a hyperparameter."
   ]
  },
  {
   "cell_type": "markdown",
   "metadata": {
    "slideshow": {
     "slide_type": "subslide"
    }
   },
   "source": [
    "- We define an empirical **loss function** $L_{\\mathcal{D}}(h)$ as the measure of how well a function $h\\in\\mathcal{H}$ fits the data $\\mathcal{D}$, for example\n",
    "$$\n",
    "L_{\\mathcal{D}}(h) = \\frac{1}{N} \\sum_{i=1}^{N} \\ell(h(\\vec{x}^i), y^i) + R(h)\n",
    "$$\n",
    "where\n",
    "    - $\\ell(y,\\hat{y})$ is some **pointwise loss**, e.g. MSE for regression or cross-entropy for classification (depends on on the data).\n",
    "    - $R(h)$ is a regularization term (depends only on the model)."
   ]
  },
  {
   "cell_type": "markdown",
   "metadata": {
    "slideshow": {
     "slide_type": "fragment"
    }
   },
   "source": [
    "- We wish to find a parametrization of our model $h^{\\ast}\\in\\mathcal{H}$ such that\n",
    "$$\n",
    "h^{\\ast} = \\arg\\min_{h\\in\\mathcal{H}} L_{\\mathcal{D}}(h)\n",
    "$$"
   ]
  },
  {
   "cell_type": "markdown",
   "metadata": {
    "slideshow": {
     "slide_type": "slide"
    }
   },
   "source": [
    "### Linear Regression\n",
    "\n",
    "We're trying to learn a continuous and perhaps non-deterministic function $y=f(\\vec{x})$.\n",
    "\n",
    "- Domain: $\\vec{x}^i \\in \\set{R}^D$\n",
    "- Target: $y^i \\in \\set{R}$ (can of course be extended to the vector-valued case)\n",
    "- Model: $\\hat y = h(\\vec{x}) = \\vectr{w}\\vec{x} + b$\n",
    "- MSE loss:\n",
    "    $$\\begin{align}\n",
    "    \\ell(y,\\hat{y}) &= (y-\\hat{y})^2 \\\\\n",
    "    L_{\\mathcal{D}}(h) &= \\frac{1}{N}\\sum_{i=1}^{N}(h(\\vec{x}^i)-y^i)^2 =\n",
    "        \\frac{1}{N}\\sum_{i=1}^{N}(\\vectr{w}\\vec{x} + b -y^i)^2 \\\\\n",
    "    \\end{align}$$\n",
    "\n",
    "- Optimization scheme: Closed-form solution exists!\n",
    "    $$\n",
    "    \\vec{w}^{\\ast} = (\\mat{X}\\mattr{X})^{-1}\\mat{X}\\vec{y},\n",
    "    $$\n",
    "    where $\\mat{X}$ is a matrix with all the samples in its columns (after bias trick),\n",
    "    and $\\vec{y}$ is a vector of all the labels."
   ]
  },
  {
   "cell_type": "markdown",
   "metadata": {
    "slideshow": {
     "slide_type": "slide"
    }
   },
   "source": [
    "### Binary Logistic Regression\n",
    "\n",
    "Actually a **classification** model. We're trying to classify data into 2 classes.\n",
    "\n",
    "- Domain: $\\vec{x}^i \\in \\set{R}^D$\n",
    "- Target: $y^i \\in \\{0,1\\}$\n",
    "- Model: $\\hat{y} = h(\\vec{x}) = \\sigma(\\vectr{w}\\vec{x}+b)$, where $\\sigma(\\vec{z})$ is the **logistic function**.\n",
    "    - $\\sigma(\\vec{z}) = \\frac{1}{1+e^{-\\vec{z}}}$\n",
    "    - Probabilistic interpretation: $\\hat{y}=P(\\rvar{Y}=1|\\rvec{X}=\\vec{x})$\n",
    "- Cross-entropy loss:\n",
    "    $$\\begin{align}\n",
    "    \\ell(y, \\hat{y}) &=  - y \\log(\\hat{y}) - (1-y) \\log(1-\\hat{y}) \\\\\n",
    "    \\end{align}$$\n",
    "- Optimization scheme: No closed form solution, but loss is **convex** so gradient-based approach leads to global optimum."
   ]
  },
  {
   "cell_type": "code",
   "execution_count": 2,
   "metadata": {
    "slideshow": {
     "slide_type": "subslide"
    }
   },
   "outputs": [],
   "source": [
    "# Plot the logistic function & cross-entropy loss\n",
    "def logistic(z):\n",
    "    return 1 / (1.0 + np.exp(-z))\n",
    "\n",
    "x = np.arange(-5, 5, .01)\n",
    "y_hat = logistic(x)\n",
    "loss_y0 = -np.log(1-y_hat)\n",
    "loss_y1 = -np.log(y_hat)"
   ]
  },
  {
   "cell_type": "code",
   "execution_count": 3,
   "metadata": {
    "slideshow": {
     "slide_type": "fragment"
    }
   },
   "outputs": [
    {
     "data": {
      "image/png": "[encoded data removed]",
      "text/plain": [
       "<Figure size 1080x360 with 2 Axes>"
      ]
     },
     "metadata": {
      "needs_background": "light"
     },
     "output_type": "display_data"
    }
   ],
   "source": [
    "_, ax = plt.subplots(nrows=1, ncols=2, figsize=(15,5))\n",
    "ax[0].plot(x, y_hat, label='$\\sigma(z)$')\n",
    "ax[0].grid(True); ax[0].set_xlabel('z'); ax[0].legend(); ax[0].set_title('The logistic function');\n",
    "ax[1].plot(y_hat, loss_y0, label='$\\ell(y=0,\\hat{y})$')\n",
    "ax[1].plot(y_hat, loss_y1, label='$\\ell(y=1,\\hat{y})$')\n",
    "ax[1].grid(True); ax[1].set_xlabel('$\\hat{y}$'); ax[1].legend(); ax[1].set_title('Cross entropy loss');"
   ]
  },
  {
   "cell_type": "markdown",
   "metadata": {
    "slideshow": {
     "slide_type": "slide"
    }
   },
   "source": [
    "## Part 1: Binary Logistic Regression"
   ]
  },
  {
   "cell_type": "markdown",
   "metadata": {
    "slideshow": {
     "slide_type": "fragment"
    }
   },
   "source": [
    "## Dataset\n",
    "\n",
    "The `scikit-learn` library comes with a few [toy datasets](http://scikit-learn.org/stable/datasets/index.html#toy-datasets) that are fun to quickly train small models on.\n",
    "\n",
    "As an example we'll load the Wisconsin-breast cancer database:\n",
    "- 569 samples of cancer patients\n",
    "- 30 features: various properties of tumor cells extracted from images\n",
    "- 2 classes: Tumor is either Benign or Malignant"
   ]
  },
  {
   "cell_type": "code",
   "execution_count": 4,
   "metadata": {
    "slideshow": {
     "slide_type": "subslide"
    }
   },
   "outputs": [
    {
     "name": "stdout",
     "output_type": "stream",
     "text": [
      "X: (569, 30)\n",
      "y: (569,)\n",
      "feature names: ['mean radius' 'mean texture' 'mean perimeter' 'mean area'\n",
      " 'mean smoothness' 'mean compactness' 'mean concavity'\n",
      " 'mean concave points' 'mean symmetry' 'mean fractal dimension'\n",
      " 'radius error' 'texture error' 'perimeter error' 'area error'\n",
      " 'smoothness error' 'compactness error' 'concavity error'\n",
      " 'concave points error' 'symmetry error' 'fractal dimension error'\n",
      " 'worst radius' 'worst texture' 'worst perimeter' 'worst area'\n",
      " 'worst smoothness' 'worst compactness' 'worst concavity'\n",
      " 'worst concave points' 'worst symmetry' 'worst fractal dimension']\n",
      "target  names: ['malignant' 'benign']\n"
     ]
    }
   ],
   "source": [
    "import sklearn.datasets\n",
    "\n",
    "ds_cancer = sklearn.datasets.load_breast_cancer()\n",
    "\n",
    "feature_names = ds_cancer.feature_names\n",
    "target_names = ds_cancer.target_names\n",
    "n_features = len(feature_names)\n",
    "X, y = ds_cancer.data, ds_cancer.target\n",
    "y_names = np.full_like(y, target_names[0].upper(), dtype=target_names.dtype)\n",
    "y_names[y==1] = target_names[1].upper()\n",
    "n_samples = len(y)\n",
    "\n",
    "print(f'X: {X.shape}')\n",
    "print(f'y: {y.shape}')\n",
    "print(f'feature names: {feature_names}')\n",
    "print(f'target  names: {target_names}')"
   ]
  },
  {
   "cell_type": "code",
   "execution_count": 5,
   "metadata": {
    "slideshow": {
     "slide_type": "subslide"
    }
   },
   "outputs": [
    {
     "data": {
      "text/html": [
       "<div>\n",
       "<style scoped>\n",
       "    .dataframe tbody tr th:only-of-type {\n",
       "        vertical-align: middle;\n",
       "    }\n",
       "\n",
       "    .dataframe tbody tr th {\n",
       "        vertical-align: top;\n",
       "    }\n",
       "\n",
       "    .dataframe thead th {\n",
       "        text-align: right;\n",
       "    }\n",
       "</style>\n",
       "<table border=\"1\" class=\"dataframe\">\n",
       "  <thead>\n",
       "    <tr style=\"text-align: right;\">\n",
       "      <th></th>\n",
       "      <th>mean radius</th>\n",
       "      <th>mean area</th>\n",
       "      <th>mean concavity</th>\n",
       "      <th>mean fractal dimension</th>\n",
       "      <th>perimeter error</th>\n",
       "      <th>compactness error</th>\n",
       "      <th>symmetry error</th>\n",
       "      <th>worst texture</th>\n",
       "      <th>worst smoothness</th>\n",
       "      <th>worst concave points</th>\n",
       "      <th>CLASS</th>\n",
       "    </tr>\n",
       "  </thead>\n",
       "  <tbody>\n",
       "    <tr>\n",
       "      <th>100</th>\n",
       "      <td>13.610</td>\n",
       "      <td>582.7</td>\n",
       "      <td>0.08625</td>\n",
       "      <td>0.05871</td>\n",
       "      <td>2.8610</td>\n",
       "      <td>0.014880</td>\n",
       "      <td>0.01465</td>\n",
       "      <td>35.27</td>\n",
       "      <td>0.1265</td>\n",
       "      <td>0.11840</td>\n",
       "      <td>MALIGNANT</td>\n",
       "    </tr>\n",
       "    <tr>\n",
       "      <th>101</th>\n",
       "      <td>6.981</td>\n",
       "      <td>143.5</td>\n",
       "      <td>0.00000</td>\n",
       "      <td>0.07818</td>\n",
       "      <td>1.5530</td>\n",
       "      <td>0.010840</td>\n",
       "      <td>0.02659</td>\n",
       "      <td>19.54</td>\n",
       "      <td>0.1584</td>\n",
       "      <td>0.00000</td>\n",
       "      <td>BENIGN</td>\n",
       "    </tr>\n",
       "    <tr>\n",
       "      <th>102</th>\n",
       "      <td>12.180</td>\n",
       "      <td>458.7</td>\n",
       "      <td>0.02383</td>\n",
       "      <td>0.05677</td>\n",
       "      <td>1.1830</td>\n",
       "      <td>0.006098</td>\n",
       "      <td>0.01447</td>\n",
       "      <td>32.84</td>\n",
       "      <td>0.1123</td>\n",
       "      <td>0.07431</td>\n",
       "      <td>BENIGN</td>\n",
       "    </tr>\n",
       "    <tr>\n",
       "      <th>103</th>\n",
       "      <td>9.876</td>\n",
       "      <td>298.3</td>\n",
       "      <td>0.06154</td>\n",
       "      <td>0.06322</td>\n",
       "      <td>1.5280</td>\n",
       "      <td>0.021960</td>\n",
       "      <td>0.01609</td>\n",
       "      <td>26.83</td>\n",
       "      <td>0.1559</td>\n",
       "      <td>0.09749</td>\n",
       "      <td>BENIGN</td>\n",
       "    </tr>\n",
       "    <tr>\n",
       "      <th>104</th>\n",
       "      <td>10.490</td>\n",
       "      <td>336.1</td>\n",
       "      <td>0.02995</td>\n",
       "      <td>0.06481</td>\n",
       "      <td>2.3020</td>\n",
       "      <td>0.022190</td>\n",
       "      <td>0.02710</td>\n",
       "      <td>23.31</td>\n",
       "      <td>0.1219</td>\n",
       "      <td>0.03203</td>\n",
       "      <td>BENIGN</td>\n",
       "    </tr>\n",
       "    <tr>\n",
       "      <th>105</th>\n",
       "      <td>13.110</td>\n",
       "      <td>530.2</td>\n",
       "      <td>0.20710</td>\n",
       "      <td>0.07692</td>\n",
       "      <td>2.4100</td>\n",
       "      <td>0.029120</td>\n",
       "      <td>0.01547</td>\n",
       "      <td>22.40</td>\n",
       "      <td>0.1862</td>\n",
       "      <td>0.19860</td>\n",
       "      <td>MALIGNANT</td>\n",
       "    </tr>\n",
       "    <tr>\n",
       "      <th>106</th>\n",
       "      <td>11.640</td>\n",
       "      <td>412.5</td>\n",
       "      <td>0.07070</td>\n",
       "      <td>0.06520</td>\n",
       "      <td>2.1550</td>\n",
       "      <td>0.023100</td>\n",
       "      <td>0.01565</td>\n",
       "      <td>29.26</td>\n",
       "      <td>0.1688</td>\n",
       "      <td>0.12180</td>\n",
       "      <td>BENIGN</td>\n",
       "    </tr>\n",
       "    <tr>\n",
       "      <th>107</th>\n",
       "      <td>12.360</td>\n",
       "      <td>466.7</td>\n",
       "      <td>0.02643</td>\n",
       "      <td>0.06066</td>\n",
       "      <td>0.8484</td>\n",
       "      <td>0.010470</td>\n",
       "      <td>0.01251</td>\n",
       "      <td>27.49</td>\n",
       "      <td>0.1184</td>\n",
       "      <td>0.08442</td>\n",
       "      <td>BENIGN</td>\n",
       "    </tr>\n",
       "    <tr>\n",
       "      <th>108</th>\n",
       "      <td>22.270</td>\n",
       "      <td>1509.0</td>\n",
       "      <td>0.42640</td>\n",
       "      <td>0.07039</td>\n",
       "      <td>10.0500</td>\n",
       "      <td>0.086680</td>\n",
       "      <td>0.03112</td>\n",
       "      <td>28.01</td>\n",
       "      <td>0.1701</td>\n",
       "      <td>0.29100</td>\n",
       "      <td>MALIGNANT</td>\n",
       "    </tr>\n",
       "    <tr>\n",
       "      <th>109</th>\n",
       "      <td>11.340</td>\n",
       "      <td>396.5</td>\n",
       "      <td>0.05133</td>\n",
       "      <td>0.06529</td>\n",
       "      <td>1.5970</td>\n",
       "      <td>0.015570</td>\n",
       "      <td>0.01568</td>\n",
       "      <td>29.15</td>\n",
       "      <td>0.1699</td>\n",
       "      <td>0.08278</td>\n",
       "      <td>BENIGN</td>\n",
       "    </tr>\n",
       "  </tbody>\n",
       "</table>\n",
       "</div>"
      ],
      "text/plain": [
       "     mean radius  mean area  mean concavity  mean fractal dimension  \\\n",
       "100       13.610      582.7         0.08625                 0.05871   \n",
       "101        6.981      143.5         0.00000                 0.07818   \n",
       "102       12.180      458.7         0.02383                 0.05677   \n",
       "103        9.876      298.3         0.06154                 0.06322   \n",
       "104       10.490      336.1         0.02995                 0.06481   \n",
       "105       13.110      530.2         0.20710                 0.07692   \n",
       "106       11.640      412.5         0.07070                 0.06520   \n",
       "107       12.360      466.7         0.02643                 0.06066   \n",
       "108       22.270     1509.0         0.42640                 0.07039   \n",
       "109       11.340      396.5         0.05133                 0.06529   \n",
       "\n",
       "     perimeter error  compactness error  symmetry error  worst texture  \\\n",
       "100           2.8610           0.014880         0.01465          35.27   \n",
       "101           1.5530           0.010840         0.02659          19.54   \n",
       "102           1.1830           0.006098         0.01447          32.84   \n",
       "103           1.5280           0.021960         0.01609          26.83   \n",
       "104           2.3020           0.022190         0.02710          23.31   \n",
       "105           2.4100           0.029120         0.01547          22.40   \n",
       "106           2.1550           0.023100         0.01565          29.26   \n",
       "107           0.8484           0.010470         0.01251          27.49   \n",
       "108          10.0500           0.086680         0.03112          28.01   \n",
       "109           1.5970           0.015570         0.01568          29.15   \n",
       "\n",
       "     worst smoothness  worst concave points      CLASS  \n",
       "100            0.1265               0.11840  MALIGNANT  \n",
       "101            0.1584               0.00000     BENIGN  \n",
       "102            0.1123               0.07431     BENIGN  \n",
       "103            0.1559               0.09749     BENIGN  \n",
       "104            0.1219               0.03203     BENIGN  \n",
       "105            0.1862               0.19860  MALIGNANT  \n",
       "106            0.1688               0.12180     BENIGN  \n",
       "107            0.1184               0.08442     BENIGN  \n",
       "108            0.1701               0.29100  MALIGNANT  \n",
       "109            0.1699               0.08278     BENIGN  "
      ]
     },
     "execution_count": 5,
     "metadata": {},
     "output_type": "execute_result"
    }
   ],
   "source": [
    "# Load into a pandas dataframe and show some samples\n",
    "df_cancer = pd.DataFrame(data=X, columns=ds_cancer.feature_names)\n",
    "df_cancer = df_cancer.assign(CLASS=y_names)\n",
    "df_cancer.iloc[100:110, 0::3]"
   ]
  },
  {
   "cell_type": "code",
   "execution_count": 6,
   "metadata": {
    "slideshow": {
     "slide_type": "subslide"
    }
   },
   "outputs": [
    {
     "name": "stdout",
     "output_type": "stream",
     "text": [
      "train: X=(398, 30) y=(398,)\n",
      "test : X=(171, 30) y=(171,)\n"
     ]
    }
   ],
   "source": [
    "# Split into train and test sets\n",
    "from sklearn.model_selection import train_test_split\n",
    "\n",
    "X_train, X_test, y_train, y_test = train_test_split(X, y, test_size=0.3, random_state=42, stratify=y)\n",
    "\n",
    "print(f'train: X={X_train.shape} y={y_train.shape}')\n",
    "print(f'test : X={X_test.shape} y={y_test.shape}')"
   ]
  },
  {
   "cell_type": "code",
   "execution_count": 7,
   "metadata": {
    "slideshow": {
     "slide_type": "subslide"
    }
   },
   "outputs": [
    {
     "name": "stdout",
     "output_type": "stream",
     "text": [
      "mu_X: [1.40938467e+01 1.93415327e+01 9.16989447e+01 6.50784171e+02\n",
      " 9.57892714e-02 1.03143442e-01 8.84457681e-02 4.80487286e-02\n",
      " 1.80492965e-01 6.27095729e-02 3.91917085e-01 1.19798166e+00\n",
      " 2.77358819e+00 3.82153342e+01 6.98150251e-03 2.53617487e-02\n",
      " 3.21848910e-02 1.15316784e-02 2.06816231e-02 3.80615352e-03\n",
      " 1.62665603e+01 2.58163065e+01 1.07220678e+02 8.79696734e+02\n",
      " 1.32259095e-01 2.57169975e-01 2.78709540e-01 1.14484601e-01\n",
      " 2.92937688e-01 8.42292211e-02]\n",
      "sigma_X: [1.40938467e+01 1.93415327e+01 9.16989447e+01 6.50784171e+02\n",
      " 9.57892714e-02 1.03143442e-01 8.84457681e-02 4.80487286e-02\n",
      " 1.80492965e-01 6.27095729e-02 3.91917085e-01 1.19798166e+00\n",
      " 2.77358819e+00 3.82153342e+01 6.98150251e-03 2.53617487e-02\n",
      " 3.21848910e-02 1.15316784e-02 2.06816231e-02 3.80615352e-03\n",
      " 1.62665603e+01 2.58163065e+01 1.07220678e+02 8.79696734e+02\n",
      " 1.32259095e-01 2.57169975e-01 2.78709540e-01 1.14484601e-01\n",
      " 2.92937688e-01 8.42292211e-02]\n"
     ]
    }
   ],
   "source": [
    "# Standardize the features\n",
    "mu_X = np.mean(X_train, axis=0)\n",
    "sigma_X = np.std(X_train, axis=0)\n",
    "\n",
    "# Note1: each feature is standardized individually:\n",
    "print(f'mu_X: {mu_X}')\n",
    "print(f'sigma_X: {mu_X}')\n",
    "\n",
    "# Note2: Test set must be transformed identically to training set\n",
    "X_train_sc = (X_train - mu_X) / sigma_X\n",
    "X_test_sc = (X_test - mu_X) / sigma_X"
   ]
  },
  {
   "cell_type": "markdown",
   "metadata": {
    "slideshow": {
     "slide_type": "slide"
    }
   },
   "source": [
    "## Model Implementation\n",
    "\n",
    "We'll implement based on the above definitions.\n",
    "\n",
    "The model will be implemented as a class with an API that conforms to the `sklearn` models, specifically see\n",
    "`sklearn`'s [`LogisticRegression`](http://scikit-learn.org/stable/modules/generated/sklearn.linear_model.LogisticRegression.html#sklearn.linear_model.LogisticRegression) class.\n"
   ]
  },
  {
   "cell_type": "code",
   "execution_count": 8,
   "metadata": {
    "slideshow": {
     "slide_type": "subslide"
    }
   },
   "outputs": [],
   "source": [
    "class BinaryLogisticRegression(object):\n",
    "    def __init__(self, n_iter=100, learn_rate=0.1):\n",
    "        self.n_iter = n_iter\n",
    "        self.learn_rate = learn_rate\n",
    "\n",
    "    def predict_proba(self, X, add_bias=True):\n",
    "        if add_bias:\n",
    "            Xb = np.hstack((np.ones((X.shape[0],1)), X))\n",
    "        else:\n",
    "            Xb = X\n",
    "        Z = np.dot(Xb, self.w_)\n",
    "        return logistic(Z)\n",
    "    \n",
    "    def predict(self, X):\n",
    "        proba = self.predict_proba(X)\n",
    "        y_pred = np.zeros((X.shape[0],), dtype=np.int)\n",
    "        y_pred[proba > 0.5] = 1\n",
    "        return y_pred\n",
    "    \n",
    "    def fit(self, X, y):\n",
    "        self.losses_ = []\n",
    "        # Init weights\n",
    "        n, d = X.shape\n",
    "        self.w_ = np.random.randn(d+1) * 0.1\n",
    "        for i in range(self.n_iter):\n",
    "            # Forward pass\n",
    "            Xb = np.hstack((np.ones((X.shape[0],1)), X))\n",
    "            y_hat = self.predict_proba(Xb, add_bias=False)\n",
    "            # Calculate loss & gradient\n",
    "            loss = -y.dot(np.log(y_hat)) - ((1 - y).dot(np.log(1 - y_hat)))\n",
    "            self.losses_.append(loss)\n",
    "            loss_grad = 1/n * Xb.T.dot(y_hat - y)\n",
    "            # Update weights\n",
    "            self.w_ += -self.learn_rate * loss_grad\n",
    "        return self"
   ]
  },
  {
   "cell_type": "code",
   "execution_count": 9,
   "metadata": {
    "scrolled": true,
    "slideshow": {
     "slide_type": "subslide"
    }
   },
   "outputs": [
    {
     "data": {
      "image/png": "[encoded data removed]",
      "text/plain": [
       "<Figure size 432x288 with 1 Axes>"
      ]
     },
     "metadata": {
      "needs_background": "light"
     },
     "output_type": "display_data"
    }
   ],
   "source": [
    "# Fit the model to the training data\n",
    "lr_model = BinaryLogisticRegression(n_iter=1000, learn_rate=0.01)\n",
    "lr_model.fit(X_train_sc, y_train)\n",
    "\n",
    "plt.plot(lr_model.losses_, label='$L_{\\mathcal{D}}$');\n",
    "plt.xlabel('training iteration'); plt.legend(); plt.grid(True); plt.title('Train loss');"
   ]
  },
  {
   "cell_type": "code",
   "execution_count": 10,
   "metadata": {
    "slideshow": {
     "slide_type": "subslide"
    }
   },
   "outputs": [
    {
     "name": "stdout",
     "output_type": "stream",
     "text": [
      "test set accuracy: 97.08%\n"
     ]
    }
   ],
   "source": [
    "# Predict on test data\n",
    "y_test_pred = lr_model.predict(X_test_sc)\n",
    "test_acc = np.sum(y_test_pred == y_test)/len(y_test)\n",
    "print(f'test set accuracy: {test_acc*100:.2f}%')"
   ]
  },
  {
   "cell_type": "markdown",
   "metadata": {
    "slideshow": {
     "slide_type": "fragment"
    }
   },
   "source": [
    "**Notes:**\n",
    "\n",
    "1. To train the model, we used gradient descent for a fixed number of iterations and using the gradient of the entire dataset. Both of these things are bad ideas for large datasets. As you'll see further down, usually large models are trained in **batches** with **stochastic gradient descent**.\n",
    "\n",
    "2. Derivation of the binary cross-entropy  gradient is left as an exercise."
   ]
  },
  {
   "cell_type": "markdown",
   "metadata": {
    "slideshow": {
     "slide_type": "slide"
    }
   },
   "source": [
    "## Part 2: Multiclass Logistic Regression"
   ]
  },
  {
   "cell_type": "markdown",
   "metadata": {
    "slideshow": {
     "slide_type": "fragment"
    }
   },
   "source": [
    "What if we have $C$ classes? Can we still use logistic regression?"
   ]
  },
  {
   "cell_type": "markdown",
   "metadata": {
    "slideshow": {
     "slide_type": "fragment"
    }
   },
   "source": [
    "A naïve approach is to train $C$ binary logistic regression classifiers in a One vs. Rest scheme,\n",
    "and then predict based on the classifier returning the greatest probability."
   ]
  },
  {
   "cell_type": "markdown",
   "metadata": {
    "slideshow": {
     "slide_type": "fragment"
    }
   },
   "source": [
    "One major drawback of this approach is that it doesn't really create a probility distribution over the classes. \n",
    "\n",
    "For example, a sample might be classified as class A with probability $0.8$ and class $B$ with $0.7$ since nothing constrains the different classifiers."
   ]
  },
  {
   "cell_type": "markdown",
   "metadata": {
    "slideshow": {
     "slide_type": "subslide"
    }
   },
   "source": [
    "### The softmax function"
   ]
  },
  {
   "cell_type": "markdown",
   "metadata": {
    "slideshow": {
     "slide_type": "fragment"
    }
   },
   "source": [
    "Let's create a way to generate a probability distribution for our $C$ classes given their scores.\n",
    "We'll define a function called **softmax** as follows:\n",
    "\n",
    "$$\n",
    "\\mathrm{softmax}(\\vec{z}) = \\frac{e^{\\vec{z}}}{\\sum_{j=1}^{C} e^{z_j}}\n",
    "$$\n",
    "\n",
    "note that this is a vector valued, multivariate function. The exponent in the enumerator operates elementwise.\n",
    "\n",
    "The result of softmax is a vector with elements in $[0,1]$ that all sum to $1$."
   ]
  },
  {
   "cell_type": "markdown",
   "metadata": {
    "slideshow": {
     "slide_type": "subslide"
    }
   },
   "source": [
    "### The multiclass model\n",
    "\n",
    "Our model can now be defined as\n",
    "\n",
    "$$\\hat{\\vec{y}} = h(\\vec{x}) = \\mathrm{softmax}(\\mattr{W}\\vec{x}+\\vec{b})$$\n",
    "\n",
    "where,\n",
    "- $\\hat{\\vec{y}}$ is a $C\\times 1$ vector of class probabilities.\n",
    "- ${\\vec{x}}$ is a $D\\times 1$ sample.\n",
    "- $\\mat{W}$ is a $D\\times C$ matrix representing the per-class weights.\n",
    "- $\\vec{b}$ is a per-class bias vector of length $C$.\n",
    "\n",
    "Probabilistic interpretation: $\\hat{y}_j = P(\\rvar{Y}=j|\\rvec{X}=\\vec{x})$."
   ]
  },
  {
   "cell_type": "markdown",
   "metadata": {
    "slideshow": {
     "slide_type": "subslide"
    }
   },
   "source": [
    "- To train such a model we need our labels to also be probability distributions instead of simply the number of the correct class.\n",
    "\n",
    "- We'll transform our labels to a 1-hot encoded vector corresponding to a delta distribution.\n",
    "\n",
    "    For example, if $y^i=j$ then we'll create\n",
    "    $$\n",
    "    \\vec{y}^i = [0,\\dots,0,\\underbrace{1}_{j\\mathrm{th\\ component}},0,\\dots,0]^\\top\n",
    "    $$"
   ]
  },
  {
   "cell_type": "markdown",
   "metadata": {
    "slideshow": {
     "slide_type": "subslide"
    }
   },
   "source": [
    "### Cross-Entropy loss\n",
    "\n",
    "After defing the 1-hot label vectors, the multiclass extension of the binary cross-entropy is straightforward:\n",
    "\n",
    "$$\n",
    "\\ell(\\vec{y}, \\hat{\\vec{y}}) = - \\vectr{y} \\log(\\hat{\\vec{y}})\n",
    "$$\n",
    "\n",
    "Note that only the probability assigned to the correct class affects the loss.\n",
    "\n",
    "This can be interpreted as trying to move the probability distribution created by the model towards the delta distribution."
   ]
  },
  {
   "cell_type": "markdown",
   "metadata": {
    "slideshow": {
     "slide_type": "subslide"
    }
   },
   "source": [
    "### Dataset"
   ]
  },
  {
   "cell_type": "markdown",
   "metadata": {
    "slideshow": {
     "slide_type": "fragment"
    }
   },
   "source": [
    "This time we'll tackle an image classification task, the MNIST database of handwritten digits.\n",
    "\n",
    "Today this is also considered a toy dataset, even though it was used in the past to benchmark state of the art classification algorithms."
   ]
  },
  {
   "cell_type": "code",
   "execution_count": 11,
   "metadata": {
    "slideshow": {
     "slide_type": "subslide"
    }
   },
   "outputs": [
    {
     "name": "stdout",
     "output_type": "stream",
     "text": [
      "x0: torch.Size([1, 28, 28]), y0: 5\n"
     ]
    },
    {
     "data": {
      "image/png": "[encoded data removed]",
      "text/plain": [
       "<Figure size 576x576 with 10 Axes>"
      ]
     },
     "metadata": {},
     "output_type": "display_data"
    }
   ],
   "source": [
    "import torch\n",
    "import torch.utils.data\n",
    "import torchvision\n",
    "import torchvision.transforms as tvtf\n",
    "import plot_utils\n",
    "\n",
    "# Define the transforms that should be applied to each image in the dataset before returning it\n",
    "tf_ds = tvtf.Compose([\n",
    "    tvtf.ToTensor(), # Convert PIL image to pytorch Tensor\n",
    "    tvtf.Normalize(mean=(0.1307,), std=(0.3081,))\n",
    "])\n",
    "\n",
    "batch_size = 128\n",
    "\n",
    "# Training dataset\n",
    "ds_train = torchvision.datasets.MNIST(root='./data/mnist/', download=True, train=True, transform=tf_ds)\n",
    "dl_train = torch.utils.data.DataLoader(ds_train, batch_size, shuffle=True)\n",
    "\n",
    "# Test dataset & loader\n",
    "ds_test =  torchvision.datasets.MNIST(root='./data/mnist/', download=True, train=False, transform=tf_ds)\n",
    "dl_test = torch.utils.data.DataLoader(ds_test, batch_size)\n",
    "\n",
    "x0, y0 = ds_train[0]\n",
    "n_features = torch.numel(x0)\n",
    "n_classes = 10\n",
    "\n",
    "print(f'x0: {x0.shape}, y0: {y0}')\n",
    "plot_utils.dataset_first_n(ds_train, 10, cmap='gray');"
   ]
  },
  {
   "cell_type": "markdown",
   "metadata": {
    "slideshow": {
     "slide_type": "subslide"
    }
   },
   "source": [
    "### Model Implementation"
   ]
  },
  {
   "cell_type": "markdown",
   "metadata": {
    "slideshow": {
     "slide_type": "fragment"
    }
   },
   "source": [
    "This time we'll use `pytorch` tensors and it's [`autograd`](https://pytorch.org/docs/stable/autograd.html) functionality to implement our model."
   ]
  },
  {
   "cell_type": "code",
   "execution_count": 12,
   "metadata": {
    "slideshow": {
     "slide_type": "fragment"
    }
   },
   "outputs": [],
   "source": [
    "def softmax(z):\n",
    "    # z is a batch of class scores per sample (N,C)\n",
    "    zmax, _ = torch.max(z, dim=1, keepdim=True)\n",
    "    z = z - zmax # normalization trick to prevent numerical instability: shift so that the highest number is 0\n",
    "    e_to_z = torch.exp(z)\n",
    "    return e_to_z / torch.sum(e_to_z, dim=1, keepdim=True)"
   ]
  },
  {
   "cell_type": "code",
   "execution_count": 13,
   "metadata": {
    "slideshow": {
     "slide_type": "fragment"
    }
   },
   "outputs": [],
   "source": [
    "def cross_entropy(y, y_hat):\n",
    "    # y is a batch of probabilities (N,C)\n",
    "    return - torch.sum( y * torch.log(y_hat + 1e-6) )"
   ]
  },
  {
   "cell_type": "code",
   "execution_count": 14,
   "metadata": {
    "slideshow": {
     "slide_type": "fragment"
    }
   },
   "outputs": [],
   "source": [
    "def sgd_optimizer(params, learn_rate):\n",
    "    with torch.autograd.no_grad():\n",
    "        for param in params:\n",
    "            param -= learn_rate * param.grad\n",
    "            param.grad.zero_()"
   ]
  },
  {
   "cell_type": "code",
   "execution_count": 15,
   "metadata": {
    "slideshow": {
     "slide_type": "subslide"
    }
   },
   "outputs": [],
   "source": [
    "def onehot(class_labels, n_classes):\n",
    "    y_onehot = torch.zeros(class_labels.shape[0], n_classes, dtype=torch.float32)\n",
    "    y_onehot = y_onehot.scatter(1,class_labels.reshape(-1,1),1)\n",
    "    return y_onehot"
   ]
  },
  {
   "cell_type": "code",
   "execution_count": 16,
   "metadata": {
    "slideshow": {
     "slide_type": "fragment"
    }
   },
   "outputs": [],
   "source": [
    "class MCLogisticRegression(object):\n",
    "    def __init__(self):\n",
    "        # Specify we want to track gradients with autograd\n",
    "        self.W = torch.randn(n_features, n_classes, requires_grad=True)\n",
    "        self.b = torch.randn(n_classes, requires_grad=True)\n",
    "        self.params = [self.W, self.b]\n",
    "    \n",
    "    def __call__(self, *args):\n",
    "        return self.forward(*args)\n",
    "\n",
    "    def forward(self, X):\n",
    "        z = torch.mm(X, self.W) + self.b\n",
    "        y_hat = softmax(z)\n",
    "        return y_hat\n"
   ]
  },
  {
   "cell_type": "code",
   "execution_count": 17,
   "metadata": {
    "slideshow": {
     "slide_type": "subslide"
    }
   },
   "outputs": [
    {
     "name": "stdout",
     "output_type": "stream",
     "text": [
      "Test set accuracy pre-training: 12.45%\n"
     ]
    }
   ],
   "source": [
    "def evaluate_accuracy(dataloader, model):\n",
    "    n_correct = 0.\n",
    "    n_total = 0.\n",
    "    for i, (X, y) in enumerate(dataloader):\n",
    "        X = X.reshape((-1,n_features))\n",
    "        with torch.autograd.no_grad():\n",
    "            y_hat = model(X)\n",
    "        \n",
    "        predictions = torch.argmax(y_hat, dim=1)\n",
    "        n_correct += torch.sum(predictions == y).type(torch.float32)\n",
    "        n_total += X.shape[0]\n",
    "        \n",
    "    return (n_correct / n_total).item()\n",
    "\n",
    "test_set_acc = evaluate_accuracy(dl_test, MCLogisticRegression())\n",
    "print(f'Test set accuracy pre-training: {test_set_acc*100:.2f}%')"
   ]
  },
  {
   "cell_type": "code",
   "execution_count": 18,
   "metadata": {
    "scrolled": true,
    "slideshow": {
     "slide_type": "subslide"
    }
   },
   "outputs": [
    {
     "name": "stdout",
     "output_type": "stream",
     "text": [
      "Epoch 0. Loss: 2.374, Train Acc 88.02, Test Acc 88.12\n",
      "Epoch 1. Loss: 1.144, Train Acc 89.56, Test Acc 89.85\n",
      "Epoch 2. Loss: 0.984, Train Acc 90.91, Test Acc 90.69\n",
      "Epoch 3. Loss: 0.904, Train Acc 91.45, Test Acc 90.84\n",
      "Epoch 4. Loss: 0.844, Train Acc 91.64, Test Acc 90.94\n"
     ]
    }
   ],
   "source": [
    "epochs = 5\n",
    "learn_rate = .005\n",
    "num_samples = len(ds_train)\n",
    "model = MCLogisticRegression()\n",
    "\n",
    "# Epoch: traverse all samples\n",
    "for e in range(epochs):\n",
    "    cumulative_loss = 0\n",
    "\n",
    "    # Update model per data batch with SGD\n",
    "    for i, (X, y) in enumerate(dl_train):\n",
    "        X = X.reshape((-1,n_features))\n",
    "        y_onehot = onehot(y, n_classes)\n",
    "        \n",
    "        # Forward pass\n",
    "        y_hat = model(X)\n",
    "        loss = cross_entropy(y_onehot, y_hat)\n",
    "        \n",
    "        # Backward pass & parameter update\n",
    "        loss.backward()\n",
    "        sgd_optimizer(model.params, learn_rate)\n",
    "        \n",
    "        cumulative_loss += torch.sum(loss).item()\n",
    "\n",
    "    test_accuracy = evaluate_accuracy(dl_test, model)\n",
    "    train_accuracy = evaluate_accuracy(dl_train, model)\n",
    "    \n",
    "    avg_loss = cumulative_loss/num_samples\n",
    "    print(f\"Epoch {e}. Loss: {avg_loss:.3f}, Train Acc {train_accuracy*100:.2f}, Test Acc {test_accuracy*100:.2f}\")   "
   ]
  },
  {
   "cell_type": "markdown",
   "metadata": {
    "slideshow": {
     "slide_type": "subslide"
    }
   },
   "source": [
    "**Notes:**\n",
    "- This is a very basic implementation. We didn't even include any regularization term which would be a problem if this weren't a toy dataset.\n",
    "- PyTorch provides many functions and classes that we could have used, for example:\n",
    "  - Perceptron fully connected layer with model parameters\n",
    "  - Softmax\n",
    "  - SGD and many other optimizers\n",
    "  - Cross entropy loss\n",
    "  \n",
    "  however the purpose here was to show a from-scratch implementation using only tensors,\n",
    "  in order to see whats \"under the hood\" (more or less) of the PyTorch functions."
   ]
  }
 ],
 "metadata": {
  "celltoolbar": "Slideshow",
  "kernelspec": {
   "display_name": "Python 3",
   "language": "python",
   "name": "python3"
  },
  "language_info": {
   "codemirror_mode": {
    "name": "ipython",
    "version": 3
   },
   "file_extension": ".py",
   "mimetype": "text/x-python",
   "name": "python",
   "nbconvert_exporter": "python",
   "pygments_lexer": "ipython3",
   "version": "3.6.7"
  }
 },
 "nbformat": 4,
 "nbformat_minor": 2
}

{
 "cells": [
  {
   "cell_type": "markdown",
   "metadata": {
    "slideshow": {
     "slide_type": "slide"
    }
   },
   "source": [
    "$$\n",
    "\\newcommand{\\mat}[1]{\\boldsymbol {#1}}\n",
    "\\newcommand{\\mattr}[1]{\\boldsymbol {#1}^\\top}\n",
    "\\newcommand{\\matinv}[1]{\\boldsymbol {#1}^{-1}}\n",
    "\\newcommand{\\vec}[1]{\\boldsymbol {#1}}\n",
    "\\newcommand{\\vectr}[1]{\\boldsymbol {#1}^\\top}\n",
    "\\newcommand{\\rvar}[1]{\\mathrm {#1}}\n",
    "\\newcommand{\\rvec}[1]{\\boldsymbol{\\mathrm{#1}}}\n",
    "\\newcommand{\\diag}{\\mathop{\\mathrm {diag}}}\n",
    "\\newcommand{\\set}[1]{\\mathbb {#1}}\n",
    "\\newcommand{\\norm}[1]{\\left\\lVert#1\\right\\rVert}\n",
    "\\newcommand{\\pderiv}[2]{\\frac{\\partial #1}{\\partial #2}}\n",
    "\\newcommand{\\bb}[1]{\\boldsymbol{#1}}\n",
    "\\newcommand{\\Tr}[0]{^\\top}\n",
    "\\newcommand{\\softmax}[1]{\\mathrm{softmax}\\left({#1}\\right)}\n",
    "$$\n",
    "\n",
    "# CS236781: Deep Learning\n",
    "# Tutorial 7: Enc/Dec Seq2Seq and Attention"
   ]
  },
  {
   "cell_type": "markdown",
   "metadata": {
    "slideshow": {
     "slide_type": "subslide"
    }
   },
   "source": [
    "## Introduction\n",
    "\n",
    "\n",
    "In this tutorial, we will cover:\n",
    "\n",
    "TODO"
   ]
  },
  {
   "cell_type": "code",
   "execution_count": 1,
   "metadata": {
    "slideshow": {
     "slide_type": "subslide"
    }
   },
   "outputs": [],
   "source": [
    "# Setup\n",
    "%matplotlib inline\n",
    "import os\n",
    "import sys\n",
    "import math\n",
    "import time\n",
    "import tqdm\n",
    "import torch\n",
    "import matplotlib.pyplot as plt"
   ]
  },
  {
   "cell_type": "code",
   "execution_count": 2,
   "metadata": {
    "slideshow": {
     "slide_type": "fragment"
    }
   },
   "outputs": [],
   "source": [
    "plt.rcParams['font.size'] = 20\n",
    "data_dir = os.path.expanduser('~/.pytorch-datasets')\n",
    "device = torch.device('cuda' if torch.cuda.is_available() else 'cpu')"
   ]
  },
  {
   "cell_type": "markdown",
   "metadata": {
    "slideshow": {
     "slide_type": "slide"
    }
   },
   "source": [
    "## Attention Mechanisms"
   ]
  },
  {
   "cell_type": "markdown",
   "metadata": {
    "slideshow": {
     "slide_type": "subslide"
    }
   },
   "source": [
    "In the context of learning from **sequences** of inputs, we have seen RNNs as a model capable of learning a transformation of one sequence into another.\n",
    "\n",
    "<center><img src=\"img/rnn_unrolled.png\" width=\"1000\" /></center>\n"
   ]
  },
  {
   "cell_type": "markdown",
   "metadata": {},
   "source": [
    "Where,\n",
    "\n",
    "$$\n",
    "\\begin{align}\n",
    "\\forall t \\geq 0:\\\\\n",
    "\\vec{h}_t &= \\varphi_h\\left( \\mat{W}_{hh} \\vec{h}_{t-1} + \\mat{W}_{xh} \\vec{x}_t + \\vec{b}_h\\right) \\\\\n",
    "\\vec{y}_t &= \\varphi_y\\left(\\mat{W}_{hy}\\vec{h}_t + \\vec{b}_y \\right)\n",
    "\\end{align}\n",
    "$$"
   ]
  },
  {
   "cell_type": "markdown",
   "metadata": {},
   "source": [
    "However, RNNs (even the fancy ones) have some major drawbacks:"
   ]
  },
  {
   "cell_type": "markdown",
   "metadata": {},
   "source": [
    "1. Input must be processed sequentially.\n",
    "2. Hard to train on long sequences (needs BPTT).\n",
    "3. Difficult to learn long-term dependencies, e.g. between late outputs and early inputs. The **hidden state** has the burden of \"remembering\" the \"meaning\" of the entire sequence so far."
   ]
  },
  {
   "cell_type": "markdown",
   "metadata": {},
   "source": [
    "Imagine we want to translate text from English to French. The general approach using RNNs is to design a Sequence-to-sequence (**Seq2Seq**) Encoder-Decoder architecture:"
   ]
  },
  {
   "cell_type": "markdown",
   "metadata": {},
   "source": [
    "<center><img src=\"img/seq2seq.svg\" width=\"1000\" /></center>"
   ]
  },
  {
   "cell_type": "markdown",
   "metadata": {},
   "source": [
    "In such an architecture the **last** hidden state must encode all the information the decoder needs for translation.\n",
    "\n",
    "**Local** information, i.e. the encoder outputs and intermediate hidden states is discarded.\n",
    "\n",
    "Can we use this local info to help the decoder?"
   ]
  },
  {
   "cell_type": "markdown",
   "metadata": {},
   "source": [
    "### Definition"
   ]
  },
  {
   "cell_type": "markdown",
   "metadata": {},
   "source": [
    "In deep learning contexts, **attention** is a term used for a family of related mechanisms which, in general, learn to predict some probability distribution over a sequence of elements.\n",
    "\n",
    "Intuitively, this allows a model to \"pay more attention\" to elements from the sequence which get a higher probability."
   ]
  },
  {
   "cell_type": "markdown",
   "metadata": {},
   "source": [
    "Recent versions of attention mechanisms can be defined formally as follows:"
   ]
  },
  {
   "cell_type": "markdown",
   "metadata": {},
   "source": [
    "Given:\n",
    "- $n$ **key-value** pairs: $\\left\\{\\left(\\vec{k}_i, \\vec{v}_i\\right)\\right\\}_{i=1}^{n}$, where $\\vec{k}_i\\in\\set{R}^{d_k}$, $\\vec{v}_i\\in\\set{R}^{d_v}$\n",
    "- A **query**, $\\vec{q} \\in\\set{R}^{d_q}$\n",
    "- Some similarity function between keys and queries, $s: \\set{R}^{d_k}\\times \\set{R}^{d_q} \\mapsto \\set{R}$"
   ]
  },
  {
   "cell_type": "markdown",
   "metadata": {},
   "source": [
    "An attention mechanism computes a weighted sum of the **values**,\n",
    "\n",
    "$$\n",
    "\\vec{o} = \\sum_{i=1}^{n} a_i \\vec{v}_i\\ \\in \\set{R}^{d_v},\n",
    "$$"
   ]
  },
  {
   "cell_type": "markdown",
   "metadata": {},
   "source": [
    "where attention weights $a_i$ are computed according the the similarity between the **query** and each **key**:\n",
    "\n",
    "$$\n",
    "\\begin{align}\n",
    "b_i &= s(\\vec{k}_i, \\vec{q}) \\\\\n",
    "\\vec{b} &= \\left[  b_1, \\dots, b_n \\right]\\Tr \\\\\n",
    "\\vec{a} &= \\softmax{\\vec{b}}.\n",
    "\\end{align}\n",
    "$$\n"
   ]
  },
  {
   "cell_type": "markdown",
   "metadata": {},
   "source": [
    "### Multiplicative attention"
   ]
  },
  {
   "cell_type": "markdown",
   "metadata": {},
   "source": [
    "One basic type of attention mechanism uses a simple **dot product** as the similarity function.\n",
    "\n",
    "Widely-used by models based on the **Transformer** architecture."
   ]
  },
  {
   "cell_type": "markdown",
   "metadata": {},
   "source": [
    "Assume $d_k=d_q=d$, then\n",
    "\n",
    "$$\n",
    "s(\\vec{k},\\vec{q})= \\frac{\\vectr{k}\\vec{q}}{\\sqrt{d}}.\n",
    "$$"
   ]
  },
  {
   "cell_type": "markdown",
   "metadata": {},
   "source": [
    "Why scale by $\\sqrt{d}$ ?"
   ]
  },
  {
   "cell_type": "markdown",
   "metadata": {},
   "source": [
    "It's the factor at which the dot-product grows due to the dimensionality. E.g.,\n",
    "\n",
    "$$\n",
    "\\norm{\\vec{1}_d}_2 = \\norm{[1,\\dots,1]\\Tr}_2 = \\sqrt{d\\cdot 1^2} =\\sqrt{d}.\n",
    "$$\n",
    "\n",
    "This helps keep the softmax values from becoming very small when the dimension is large, and therefore helps prevent tiny gradients."
   ]
  },
  {
   "cell_type": "markdown",
   "metadata": {},
   "source": [
    "Let's now deal with $m$ queries simultaneously by stacking them in a matrix $\\mat{Q} \\in \\set{R}^{m\\times d}$."
   ]
  },
  {
   "cell_type": "markdown",
   "metadata": {},
   "source": [
    "Similarly, we'll stack the keys and values in their own matrices, $\\mat{K}\\in\\set{R}^{n\\times d}$, $\\mat{V}\\in\\set{R}^{n\\times d_v}$."
   ]
  },
  {
   "cell_type": "markdown",
   "metadata": {},
   "source": [
    "Then we can compute the attention weights for all queries in parallel:\n",
    "\n",
    "$$\n",
    "\\begin{align}\n",
    "\\mat{B} &= \\frac{1}{\\sqrt{d}} \\mat{Q}\\mattr{K}  \\ \\in\\set{R}^{m\\times n} \\\\\n",
    "\\mat{A} &= \\softmax{\\mat{B}},\\ \\mathrm{dim}=1 \\\\\n",
    "\\mat{O} &= \\mat{A}\\mat{V} \\ \\in\\set{R}^{m\\times d_v}.\n",
    "\\end{align}\n",
    "$$"
   ]
  },
  {
   "cell_type": "markdown",
   "metadata": {},
   "source": [
    "Note that the softmax is applied per-row, and so each row $i$ of $\\mat{A}$ contains the attention weights for the $i$th query."
   ]
  },
  {
   "cell_type": "markdown",
   "metadata": {},
   "source": [
    "Also notice that in this formulation, we **input a sequence** of $m$ queries and get an **output sequence** of $m$ weighed values."
   ]
  },
  {
   "cell_type": "markdown",
   "metadata": {},
   "source": [
    "### Additive attention based on an MLP"
   ]
  },
  {
   "cell_type": "markdown",
   "metadata": {},
   "source": [
    "Another common type of attention mechanism uses an MLP to **learn** the similarity function $s(\\vec{k},\\vec{q})$."
   ]
  },
  {
   "cell_type": "markdown",
   "metadata": {},
   "source": [
    "In this type of attention, the similarity function is \n",
    "\n",
    "$$\n",
    "s(\\vec{k},\\vec{q}) = \\vectr{v} \\tanh(\\mat{W}_k\\vec{k} + \\mat{W}_q\\vec{q}),\n",
    "$$\n",
    "\n",
    "where $\\mat{W}_k\\in\\set{R}^{h\\times d_k}$, $\\mat{W}_q\\in\\set{R}^{h\\times d_q}$ and $\\vec{v}\\in\\set{R}^{h}$ are trainable parameters."
   ]
  },
  {
   "cell_type": "markdown",
   "metadata": {},
   "source": [
    "- Notice that we're adding projected versions of the key and query and applying a 2-layer MLP.\n",
    "- Both projections and the output layer are trainable."
   ]
  },
  {
   "cell_type": "markdown",
   "metadata": {},
   "source": [
    "## Example: Seq2Seq language translation"
   ]
  },
  {
   "cell_type": "code",
   "execution_count": null,
   "metadata": {},
   "outputs": [],
   "source": []
  },
  {
   "cell_type": "code",
   "execution_count": 3,
   "metadata": {},
   "outputs": [],
   "source": [
    "from torchtext.datasets import Multi30k\n",
    "from torchtext.data import Field\n",
    "\n",
    "# Common args for field objects\n",
    "field_args = dict(tokenize='spacy',\n",
    "                  init_token = '<sos>',\n",
    "                  eos_token = '<eos>',\n",
    "                  include_lengths=True,\n",
    "                  lower = True) \n",
    "\n",
    "# Field for processing German source\n",
    "src_field = Field(tokenizer_language=\"de_core_news_sm\", **field_args)\n",
    "\n",
    "# Field for processing English target\n",
    "tgt_field = Field(tokenizer_language=\"en_core_web_sm\", **field_args)"
   ]
  },
  {
   "cell_type": "code",
   "execution_count": null,
   "metadata": {},
   "outputs": [],
   "source": []
  },
  {
   "cell_type": "code",
   "execution_count": 4,
   "metadata": {},
   "outputs": [],
   "source": [
    "ds_train, ds_valid, ds_test = Multi30k.splits(\n",
    "    root=data_dir, exts=('.de', '.en'), fields=(src_field, tgt_field)\n",
    ")\n",
    "\n",
    "VOCAB_MIN_FREQ = 2\n",
    "src_field.build_vocab(ds_train, min_freq=VOCAB_MIN_FREQ)\n",
    "tgt_field.build_vocab(ds_train, min_freq=VOCAB_MIN_FREQ)"
   ]
  },
  {
   "cell_type": "code",
   "execution_count": 5,
   "metadata": {},
   "outputs": [
    {
     "name": "stdout",
     "output_type": "stream",
     "text": [
      "source vocab size: 7855\n",
      "target vocab size: 5893\n"
     ]
    }
   ],
   "source": [
    "V_src = len(src_field.vocab)\n",
    "print(f'source vocab size: {V_src}')\n",
    "\n",
    "V_tgt = len(tgt_field.vocab)\n",
    "print(f'target vocab size: {V_tgt}')"
   ]
  },
  {
   "cell_type": "code",
   "execution_count": 6,
   "metadata": {
    "slideshow": {
     "slide_type": "fragment"
    }
   },
   "outputs": [
    {
     "name": "stdout",
     "output_type": "stream",
     "text": [
      "sample#0001:\n",
      "\tDE: mehrere männer mit schutzhelmen bedienen ein antriebsradsystem .\n",
      "\tEN: several men in hard hats are operating a giant pulley system .\n",
      "\n",
      "sample#0010:\n",
      "\tDE: eine ballettklasse mit fünf mädchen , die nacheinander springen .\n",
      "\tEN: a ballet class of five girls jumping in sequence .\n",
      "\n",
      "sample#0100:\n",
      "\tDE: männliches kleinkind in einem roten hut , das sich an einem geländer festhält .\n",
      "\tEN: toddler boy in a red hat holding on to some railings .\n",
      "\n",
      "sample#1000:\n",
      "\tDE: ein junger mann in einem weißen hemd , der tomaten schneidet .\n",
      "\tEN: a young man in a white shirt cutting tomatoes .\n",
      "\n"
     ]
    }
   ],
   "source": [
    "for i in ([1, 10, 100, 1000]):\n",
    "    example = ds_train[i]\n",
    "    src = str.join(\" \", example.src)\n",
    "    tgt = str.join(\" \", example.trg)\n",
    "    print(f'sample#{i:04d}:\\n\\tDE: {src}\\n\\tEN: {tgt}\\n')"
   ]
  },
  {
   "cell_type": "code",
   "execution_count": 7,
   "metadata": {},
   "outputs": [
    {
     "data": {
      "text/plain": [
       "['<unk>', '<pad>', '<sos>', '<eos>', 'a', '.', 'in', 'the', 'on', 'man']"
      ]
     },
     "execution_count": 7,
     "metadata": {},
     "output_type": "execute_result"
    }
   ],
   "source": [
    "tgt_field.vocab.itos[0:10]"
   ]
  },
  {
   "cell_type": "code",
   "execution_count": 8,
   "metadata": {},
   "outputs": [
    {
     "data": {
      "text/plain": [
       "['<unk>', '<pad>', '<sos>', '<eos>', '.', 'ein', 'einem', 'in', 'eine', ',']"
      ]
     },
     "execution_count": 8,
     "metadata": {},
     "output_type": "execute_result"
    }
   ],
   "source": [
    "src_field.vocab.itos[0:10]"
   ]
  },
  {
   "cell_type": "code",
   "execution_count": 9,
   "metadata": {},
   "outputs": [
    {
     "name": "stdout",
     "output_type": "stream",
     "text": [
      "<unk>=0, <pad>=1\n"
     ]
    }
   ],
   "source": [
    "UNK_TOKEN = tgt_field.vocab.stoi['<unk>']\n",
    "PAD_TOKEN = tgt_field.vocab.stoi['<pad>']\n",
    "\n",
    "print(f'<unk>={UNK_TOKEN}, <pad>={PAD_TOKEN}')"
   ]
  },
  {
   "cell_type": "code",
   "execution_count": 10,
   "metadata": {},
   "outputs": [],
   "source": [
    "from torchtext.data import BucketIterator\n",
    "\n",
    "BATCH_SIZE = 4\n",
    "dl_train, dl_valid, dl_test = BucketIterator.splits((ds_train, ds_valid, ds_test), batch_size = BATCH_SIZE)"
   ]
  },
  {
   "cell_type": "code",
   "execution_count": 11,
   "metadata": {},
   "outputs": [
    {
     "name": "stdout",
     "output_type": "stream",
     "text": [
      "x0:\n",
      " tensor([[   2,    2,    2,    2],\n",
      "        [   5,    8,    5,    8],\n",
      "        [4401,   16,   13,   16],\n",
      "        [  93,   11, 3474,   10],\n",
      "        [ 337,  150,   19, 1021],\n",
      "        [   8,  483,   80,  103],\n",
      "        [1275,  159,  109,   65],\n",
      "        [  12,    7,   57,   57],\n",
      "        [  17,   14,   12,    7],\n",
      "        [ 969,    0,   24,    6],\n",
      "        [   7,    4,  433,    0],\n",
      "        [ 374,    3,    4,    4],\n",
      "        [  15,    1,    3,    3],\n",
      "        [1474,    1,    1,    1],\n",
      "        [   0,    1,    1,    1],\n",
      "        [   4,    1,    1,    1],\n",
      "        [   3,    1,    1,    1]]) torch.Size([17, 4])\n",
      "x0_len:\n",
      " tensor([17, 12, 13, 13]) torch.Size([4])\n",
      "y0:\n",
      " tensor([[   2,    2,    2,    2],\n",
      "        [   4,    4,    4,    4],\n",
      "        [3307,   14,    9,   14],\n",
      "        [ 136,  130, 5724,   11],\n",
      "        [ 454,   20,    4,  417],\n",
      "        [4341,    4,   34,   70],\n",
      "        [   4, 1072,   58,   63],\n",
      "        [ 503,  379,  205,  128],\n",
      "        [  68,   15,  137,    6],\n",
      "        [  40,   22,   20, 2863],\n",
      "        [   7,    4,    4,   65],\n",
      "        [ 641,   25,  435,    7],\n",
      "        [ 458,  502,    5,  185],\n",
      "        [   7,    5,    3,    5],\n",
      "        [2048,    3,    1,    3],\n",
      "        [   5,    1,    1,    1],\n",
      "        [   3,    1,    1,    1]]) torch.Size([17, 4])\n",
      "y0_len:\n",
      " tensor([17, 15, 14, 15]) torch.Size([4])\n"
     ]
    }
   ],
   "source": [
    "# dataloader returns a Batch object with .src and .trg attributes\n",
    "b0 = next(iter(dl_train))\n",
    "\n",
    "# The .src/.trg attributes contain tuples of sequences and their lengths\n",
    "# Get batches of sequences \n",
    "x0, x0_len = b0.src\n",
    "y0, y0_len =  b0.trg\n",
    "\n",
    "print('x0:\\n', x0, x0.shape)\n",
    "print('x0_len:\\n', x0_len, x0_len.shape)\n",
    "print('y0:\\n', y0, y0.shape)\n",
    "print('y0_len:\\n', y0_len, y0_len.shape)"
   ]
  },
  {
   "cell_type": "code",
   "execution_count": 12,
   "metadata": {
    "slideshow": {
     "slide_type": "fragment"
    }
   },
   "outputs": [],
   "source": [
    "import torch.nn as nn\n",
    "\n",
    "class Seq2SeqEncoder(nn.Module):\n",
    "    def __init__(self, vocab_size, embedding_dim, num_layers, h_dim, dropout=0.2):\n",
    "        super().__init__()\n",
    "        \n",
    "        # nn.Embedding converts from token index to dense tensor\n",
    "        self.embedding = nn.Embedding(vocab_size, embedding_dim)\n",
    "        \n",
    "        # PyTorch multilayer GRU RNN\n",
    "        self.rnn = nn.GRU(embedding_dim, h_dim, num_layers=num_layers, dropout=dropout)\n",
    "        \n",
    "    def forward(self, x):\n",
    "        # x shape: (S, B) Note batch dim is not first!\n",
    "        S, B = x.shape\n",
    "        embedded = self.embedding(x) # embedded shape: (S, B, E)\n",
    "        \n",
    "        # GRU second output returns last hidden state from each layer (L, B, H)\n",
    "        _, ht = self.rnn(embedded)\n",
    "        return ht"
   ]
  },
  {
   "cell_type": "markdown",
   "metadata": {},
   "source": [
    "Test the encoder with a batch of English sentences"
   ]
  },
  {
   "cell_type": "code",
   "execution_count": 13,
   "metadata": {},
   "outputs": [
    {
     "name": "stdout",
     "output_type": "stream",
     "text": [
      "tensor([[[ 1.5583e-02, -3.4762e-01,  6.2976e-01,  1.7246e-01,  6.8432e-01,\n",
      "          -1.9763e-01, -5.1883e-01, -6.2466e-02,  3.4721e-01, -1.4541e-01,\n",
      "           4.4780e-01,  3.3496e-01,  4.6464e-01,  4.6683e-01, -3.6345e-01,\n",
      "           1.3245e-03, -2.1402e-02,  3.5455e-01, -7.5773e-02, -4.7292e-01,\n",
      "          -5.7283e-01,  6.9557e-01,  3.5250e-01, -5.5624e-02,  3.7981e-01,\n",
      "          -1.9507e-01, -5.1720e-01,  3.8117e-01, -8.8375e-02, -7.9075e-02,\n",
      "           1.8843e-01,  8.4808e-02,  4.5000e-01, -3.6539e-01, -2.4423e-01,\n",
      "          -1.5043e-01,  5.4706e-01,  2.7949e-01,  1.3371e-01,  7.9700e-02,\n",
      "           6.1545e-02,  1.9213e-01,  2.2786e-01, -7.0082e-01, -1.3605e-01,\n",
      "          -1.2753e-01,  4.2250e-01,  2.6757e-01, -1.3597e-01, -6.7624e-01,\n",
      "          -5.1920e-01,  9.4097e-02,  5.2347e-01,  1.4280e-01,  6.6536e-01,\n",
      "          -8.7782e-02, -2.2789e-01,  4.3113e-01,  2.9795e-01,  3.9550e-01,\n",
      "          -4.3588e-01, -8.4631e-02,  2.9880e-02, -1.3798e-01],\n",
      "         [ 5.4220e-01,  2.4791e-01, -3.4166e-01, -6.9112e-02,  2.7305e-03,\n",
      "           2.1613e-01, -8.1210e-01,  1.5229e-02,  5.5526e-01, -7.9044e-01,\n",
      "           8.5560e-01,  7.4808e-01,  4.3037e-01, -2.3658e-01, -6.5727e-01,\n",
      "          -7.7769e-01, -1.8135e-01, -4.4074e-01, -7.9276e-01, -8.2586e-01,\n",
      "           4.2906e-02, -4.2741e-01, -8.0167e-01,  1.4327e-01, -5.0798e-01,\n",
      "          -3.7409e-01, -6.2747e-01,  1.7111e-01,  8.8469e-01,  2.5223e-01,\n",
      "          -1.5628e-02,  4.6129e-01, -2.3721e-01, -1.9296e-01,  8.5921e-01,\n",
      "          -5.6162e-01, -8.5850e-01, -7.7302e-01,  1.4085e-01, -9.6358e-01,\n",
      "           3.1265e-01, -1.2679e-01, -2.3591e-01, -2.2424e-01,  2.2488e-01,\n",
      "          -5.4216e-01, -1.9050e-01, -5.4639e-02, -9.3687e-01,  3.3101e-01,\n",
      "           9.5799e-02,  6.0726e-01,  6.4944e-01,  8.9078e-01, -4.0524e-01,\n",
      "           7.0392e-01,  3.8164e-01,  8.1504e-01,  6.9132e-01,  8.8603e-01,\n",
      "          -7.1986e-01,  2.3215e-01,  8.1200e-02,  8.2630e-01],\n",
      "         [ 5.2433e-01,  2.3182e-01, -3.3743e-01, -8.6561e-02,  2.2589e-02,\n",
      "           2.2468e-01, -7.9085e-01,  4.5160e-02,  5.3599e-01, -7.8000e-01,\n",
      "           8.3978e-01,  7.0478e-01,  4.3498e-01, -1.6826e-01, -6.0042e-01,\n",
      "          -7.7765e-01, -1.7977e-01, -4.3109e-01, -7.4442e-01, -7.6282e-01,\n",
      "           2.8826e-02, -3.7515e-01, -7.4397e-01,  1.1719e-01, -4.2407e-01,\n",
      "          -3.2804e-01, -6.1067e-01,  1.4521e-01,  8.3990e-01,  2.7364e-01,\n",
      "           5.3187e-02,  4.6406e-01, -1.4975e-01, -1.3280e-01,  8.5940e-01,\n",
      "          -4.9521e-01, -8.4985e-01, -7.4960e-01,  1.0136e-01, -9.6276e-01,\n",
      "           2.9685e-01, -1.2142e-01, -2.4925e-01, -2.3461e-01,  2.1668e-01,\n",
      "          -5.5478e-01, -1.9814e-01, -3.4889e-02, -9.3054e-01,  3.9216e-01,\n",
      "           7.8513e-02,  5.8298e-01,  6.5868e-01,  8.7819e-01, -3.7016e-01,\n",
      "           6.6602e-01,  4.0150e-01,  8.1578e-01,  6.8164e-01,  8.8607e-01,\n",
      "          -7.3172e-01,  2.5693e-01,  1.7528e-01,  8.2052e-01],\n",
      "         [ 5.1524e-01,  2.3212e-01, -3.2474e-01, -8.7024e-02,  1.9965e-02,\n",
      "           2.2420e-01, -8.0331e-01,  4.1138e-03,  5.4095e-01, -7.5211e-01,\n",
      "           8.4750e-01,  7.1623e-01,  4.3903e-01, -1.8385e-01, -5.9136e-01,\n",
      "          -7.6890e-01, -1.2787e-01, -4.4013e-01, -7.3330e-01, -7.8414e-01,\n",
      "           4.8481e-02, -3.8672e-01, -7.6019e-01,  1.2158e-01, -4.4448e-01,\n",
      "          -3.2985e-01, -6.1516e-01,  1.6346e-01,  8.3520e-01,  2.2106e-01,\n",
      "          -1.6838e-03,  4.6535e-01, -1.6320e-01, -1.5448e-01,  8.5503e-01,\n",
      "          -5.4814e-01, -8.5203e-01, -7.5071e-01,  1.1638e-01, -9.6268e-01,\n",
      "           2.8370e-01, -1.0231e-01, -2.3753e-01, -2.2070e-01,  2.2922e-01,\n",
      "          -5.5243e-01, -1.9491e-01, -5.4991e-02, -9.2816e-01,  3.8548e-01,\n",
      "           7.9660e-02,  5.8005e-01,  6.4467e-01,  8.8116e-01, -3.6667e-01,\n",
      "           6.2831e-01,  4.0378e-01,  8.1516e-01,  6.6814e-01,  8.8582e-01,\n",
      "          -7.3259e-01,  2.5426e-01,  9.8737e-02,  8.2121e-01]],\n",
      "\n",
      "        [[-1.1351e-01, -1.3458e-01,  2.4466e-01, -1.6957e-01,  1.1558e-01,\n",
      "           1.2336e-01, -9.6673e-03, -1.3239e-02, -2.4433e-02,  3.7757e-02,\n",
      "          -3.2714e-01,  3.1233e-03, -1.1554e-01,  6.6320e-02, -3.1951e-01,\n",
      "          -1.0535e-01, -2.2013e-02, -1.5830e-01,  2.7211e-02, -4.3611e-02,\n",
      "           2.4949e-01, -2.9609e-01,  8.0368e-02,  2.0849e-02,  1.6024e-01,\n",
      "          -2.7098e-03, -1.8694e-01, -1.6768e-01, -6.0013e-02,  5.1688e-02,\n",
      "          -2.8490e-02, -2.0901e-01,  1.6822e-01,  3.2419e-01, -7.4080e-04,\n",
      "           7.1483e-02, -3.5098e-02, -9.5356e-02,  2.6578e-01,  2.3479e-02,\n",
      "           7.0917e-02, -7.7592e-02, -3.4899e-02, -1.3863e-01,  1.5330e-01,\n",
      "           3.4168e-03, -1.3978e-01, -6.9122e-02,  1.5034e-01, -1.1304e-01,\n",
      "           1.6767e-01, -1.1757e-01,  2.4820e-02,  3.7731e-02, -1.8657e-01,\n",
      "           8.6577e-02, -4.0846e-02, -6.3860e-02, -2.4196e-01, -2.7625e-01,\n",
      "          -1.7768e-01, -2.4111e-01, -2.0466e-01,  7.2323e-02],\n",
      "         [ 2.7866e-01, -9.8773e-02, -1.0452e-01,  2.1283e-01, -7.2583e-01,\n",
      "          -2.8405e-01, -5.5686e-01,  1.6585e-01, -1.0875e-01, -1.8030e-01,\n",
      "          -1.0066e-01,  5.1384e-02,  5.4059e-01,  1.1899e-01, -2.8087e-01,\n",
      "           1.3725e-01, -1.0549e-01, -6.7189e-02,  3.4776e-01,  3.5047e-01,\n",
      "          -2.5659e-01,  3.0437e-01,  1.5798e-01,  1.9414e-01,  1.1658e-01,\n",
      "           1.3755e-01, -1.5901e-01, -4.6320e-01,  5.8319e-02, -1.0003e-01,\n",
      "          -3.5846e-01, -4.7626e-01, -3.6942e-01,  2.3659e-01, -4.8428e-01,\n",
      "           3.6399e-01, -1.0953e-01,  1.7545e-01, -2.5420e-01, -1.8433e-01,\n",
      "          -1.3612e-01,  6.6589e-02,  2.2717e-02,  8.6816e-02,  4.7211e-01,\n",
      "           3.1723e-01,  1.0065e-01, -3.4757e-02, -2.9536e-03, -2.9708e-01,\n",
      "           4.2840e-01, -2.4772e-01,  8.8119e-02, -2.6546e-02,  4.2377e-01,\n",
      "           2.3787e-01, -5.9284e-01, -1.7609e-01, -3.1550e-01,  1.8865e-02,\n",
      "           2.5134e-01,  5.9147e-01,  5.3258e-01, -1.5083e-01],\n",
      "         [ 3.8040e-02, -8.7269e-02, -1.8997e-01,  4.2183e-02, -5.5982e-01,\n",
      "          -2.7483e-01, -3.6391e-01,  2.8691e-01, -7.2304e-02, -2.0073e-02,\n",
      "           2.3808e-03, -1.3252e-02,  5.2822e-01,  2.2928e-01, -4.0506e-01,\n",
      "           5.1686e-02, -8.3499e-02, -2.3260e-01,  1.8255e-01,  3.3422e-01,\n",
      "          -2.5857e-01,  2.8554e-01,  3.8618e-01,  1.4073e-01, -7.6133e-02,\n",
      "          -1.6784e-01, -8.7689e-02, -3.8257e-01, -5.2219e-02,  7.2811e-03,\n",
      "          -1.6439e-01, -2.5539e-01, -1.8874e-01,  2.6711e-01, -4.7866e-01,\n",
      "           3.4117e-01,  4.9248e-02,  1.9027e-01, -4.5730e-02, -2.4436e-01,\n",
      "          -6.3913e-02,  4.5897e-02,  3.3558e-02,  1.2701e-01,  3.8485e-01,\n",
      "           1.0208e-01,  1.1250e-01,  2.2963e-02, -5.6262e-02, -1.7122e-02,\n",
      "           3.8397e-01, -2.8869e-01,  7.8889e-02,  8.3313e-02,  2.2622e-01,\n",
      "          -3.9271e-02, -5.6294e-01, -6.5491e-02, -2.0648e-01,  6.1898e-02,\n",
      "           7.8671e-02,  4.3903e-01,  5.2161e-01, -1.4021e-01],\n",
      "         [ 3.2423e-01, -3.1347e-03,  2.6770e-02, -7.1484e-02, -6.4360e-01,\n",
      "          -2.7888e-01, -4.4852e-01,  1.6919e-01, -9.0796e-02, -1.8904e-03,\n",
      "          -1.5745e-01,  8.9364e-02,  3.5528e-01,  5.2541e-02, -5.1209e-01,\n",
      "           3.2950e-02,  7.0125e-02,  7.6038e-02,  2.5225e-01,  1.6244e-01,\n",
      "          -3.0717e-01,  3.2310e-01,  2.9653e-01, -6.3088e-02,  3.9817e-02,\n",
      "          -9.5705e-02,  2.1638e-01, -3.0287e-01, -2.0232e-01, -1.3187e-01,\n",
      "          -1.2910e-01, -1.0525e-01, -4.9749e-02,  1.9288e-01, -4.7957e-01,\n",
      "           3.4323e-01, -1.0411e-01,  8.0561e-02, -1.6823e-01, -3.1106e-01,\n",
      "          -2.8091e-01,  4.3707e-02,  3.1790e-03,  2.3581e-02,  2.4856e-01,\n",
      "           2.2255e-01, -3.7959e-02,  7.0886e-02,  2.0896e-02,  4.8836e-02,\n",
      "           3.1236e-01, -3.9553e-01,  2.4240e-01,  1.1112e-01,  2.4991e-01,\n",
      "           1.2457e-01, -5.1359e-01, -6.5770e-02, -9.4363e-02,  8.4922e-02,\n",
      "           2.5052e-01,  4.6883e-01,  3.9384e-01, -1.8826e-02]]],\n",
      "       grad_fn=<StackBackward>) torch.Size([2, 4, 64])\n"
     ]
    }
   ],
   "source": [
    "EMB_DIM = 128\n",
    "HID_DIM = 64\n",
    "NUM_LAYERS = 2\n",
    "\n",
    "enc = Seq2SeqEncoder(V_src, EMB_DIM, NUM_LAYERS, HID_DIM)\n",
    "ht = enc(x0)\n",
    "print(ht, ht.shape)"
   ]
  },
  {
   "cell_type": "code",
   "execution_count": 14,
   "metadata": {},
   "outputs": [],
   "source": [
    "class Seq2SeqDecoder(nn.Module):\n",
    "    def __init__(self, vocab_size, embedding_dim, num_layers, h_dim, dropout=0.2):\n",
    "        super().__init__()\n",
    "        \n",
    "        # nn.Embedding converts from token index to dense tensor\n",
    "        self.embedding = nn.Embedding(vocab_size, embedding_dim)\n",
    "        \n",
    "        # PyTorch multilayer GRU RNN\n",
    "        self.rnn = nn.GRU(embedding_dim, h_dim, num_layers=num_layers, dropout=dropout)\n",
    "        \n",
    "        # Output layer, note the output dimension!\n",
    "        self.out_fc = nn.Linear(h_dim, vocab_size)\n",
    "        \n",
    "    def forward(self, x, context):\n",
    "        # x shape: (S, B)\n",
    "        # context: (L, B, H) the last hidden state from the encoder\n",
    "        S, B = x.shape\n",
    "        embedded = self.embedding(x) # embedded shape: (S, B, E)\n",
    "        \n",
    "        # Note initial hidden state is the input context vector\n",
    "        # GRU first output returns all hidden states from last layer (S, B, H)\n",
    "        h, ht = self.rnn(embedded, context)\n",
    "        \n",
    "        # Project H back to the vocab size V, to get a score per word\n",
    "        out = self.out_fc(h)\n",
    "        \n",
    "        # Out shapes: (S, B, V) and (L, B, H)\n",
    "        return out, ht"
   ]
  },
  {
   "cell_type": "markdown",
   "metadata": {},
   "source": [
    "Test the decoder with the corresponding batch of German sentences"
   ]
  },
  {
   "cell_type": "code",
   "execution_count": 15,
   "metadata": {},
   "outputs": [
    {
     "name": "stdout",
     "output_type": "stream",
     "text": [
      "tensor([[[-0.0098,  0.0469,  0.0229,  ..., -0.0146, -0.1563,  0.0690],\n",
      "         [ 0.1325, -0.1032,  0.0760,  ..., -0.0694, -0.0042,  0.1127],\n",
      "         [ 0.1405, -0.1850,  0.0218,  ..., -0.0577, -0.0264,  0.1566],\n",
      "         [ 0.1133, -0.0429,  0.0945,  ..., -0.1002, -0.0891,  0.1303]],\n",
      "\n",
      "        [[ 0.0092, -0.0267,  0.1154,  ..., -0.0876, -0.2366,  0.0273],\n",
      "         [ 0.0703, -0.0183,  0.1676,  ..., -0.1077, -0.1327,  0.1716],\n",
      "         [ 0.0537, -0.0792,  0.1641,  ..., -0.1646, -0.1824,  0.1715],\n",
      "         [ 0.0277,  0.0269,  0.2046,  ..., -0.1804, -0.1919,  0.1667]],\n",
      "\n",
      "        [[ 0.0309, -0.0517,  0.0193,  ..., -0.0923, -0.3503,  0.0255],\n",
      "         [ 0.0475, -0.0988,  0.1023,  ..., -0.1581, -0.2797,  0.1908],\n",
      "         [ 0.0738, -0.0205,  0.1792,  ..., -0.0810, -0.2381,  0.1136],\n",
      "         [ 0.0307, -0.0790,  0.1502,  ..., -0.1874, -0.2777,  0.1220]],\n",
      "\n",
      "        ...,\n",
      "\n",
      "        [[-0.1867, -0.1176,  0.0830,  ..., -0.0247, -0.0263,  0.1567],\n",
      "         [ 0.1750, -0.0260,  0.0926,  ..., -0.1519, -0.1329,  0.0426],\n",
      "         [ 0.1597, -0.0210,  0.0373,  ..., -0.1369, -0.1428,  0.1321],\n",
      "         [ 0.1443, -0.0875, -0.1157,  ..., -0.1438, -0.2342,  0.1169]],\n",
      "\n",
      "        [[-0.0343, -0.0656,  0.0162,  ...,  0.0169, -0.0159,  0.0016],\n",
      "         [ 0.1642,  0.0089,  0.0616,  ..., -0.1602, -0.0872,  0.0553],\n",
      "         [ 0.1776, -0.0044,  0.0780,  ..., -0.1244, -0.1293,  0.1064],\n",
      "         [ 0.1425, -0.0185, -0.0827,  ..., -0.1676, -0.1709,  0.1459]],\n",
      "\n",
      "        [[ 0.0122, -0.0265,  0.0382,  ..., -0.0272, -0.0712,  0.0674],\n",
      "         [ 0.1748,  0.0224,  0.0442,  ..., -0.1325, -0.0308,  0.0361],\n",
      "         [ 0.1942,  0.0145,  0.1232,  ..., -0.1335, -0.1068,  0.0609],\n",
      "         [ 0.1501,  0.0021,  0.0407,  ..., -0.1945, -0.1162,  0.0955]]],\n",
      "       grad_fn=<AddBackward0>) torch.Size([17, 4, 5893])\n"
     ]
    }
   ],
   "source": [
    "dec = Seq2SeqDecoder(V_tgt, EMB_DIM, NUM_LAYERS, HID_DIM)\n",
    "yhat, _ = dec(y0, ht) # note different S\n",
    "print(yhat, yhat.shape)"
   ]
  },
  {
   "cell_type": "code",
   "execution_count": null,
   "metadata": {},
   "outputs": [],
   "source": []
  },
  {
   "cell_type": "code",
   "execution_count": 16,
   "metadata": {},
   "outputs": [],
   "source": [
    "class Seq2Seq(nn.Module):\n",
    "    def __init__(self, src_vocab_size, tgt_vocab_size, embedding_dim, num_layers, h_dim, **kw):\n",
    "        super().__init__()\n",
    "        \n",
    "        # Create encoder & decoder parts\n",
    "        self.enc = Seq2SeqEncoder(src_vocab_size, embedding_dim, num_layers, h_dim, **kw)\n",
    "        self.dec = Seq2SeqDecoder(tgt_vocab_size, embedding_dim, num_layers, h_dim, **kw)\n",
    "    \n",
    "    def forward(self, x_src, x_tgt, p_tf=1.):\n",
    "        # input shapes: (S1, B), (S2, B)\n",
    "        S2, B = x_tgt.shape\n",
    "        \n",
    "        # Forward pass through encoder\n",
    "        # context is (L, B, H)\n",
    "        context = self.enc(x_src)\n",
    "        \n",
    "        # First input is first target token\n",
    "        dec_input = x_tgt[[0], :] # (1, B)\n",
    "        # Loop over tokens in target sequence and feed them to the decoder\n",
    "        dec_outputs = []\n",
    "        for t in range(1, S2):\n",
    "            # Feed the decoder sequences of length 1\n",
    "            dec_output, context = self.dec(dec_input, context) # dec_output is (1, B, V)\n",
    "            dec_outputs.append(dec_output)\n",
    "            \n",
    "            # For next input, take either:\n",
    "            # - next target token (AKA \"teacher forcing\"), with proba p_tf\n",
    "            # - highest scoring output (greedy prediction of next token), with proba 1-p_tf\n",
    "            if p_tf > torch.rand(1).item():\n",
    "                dec_input = x_tgt[[t], :] # (1, B)\n",
    "            else:\n",
    "                dec_input = torch.argmax(dec_output, dim=2) # (1,B,V) -> (1, B)\n",
    "            \n",
    "        # Stack decoder outputs from all timesteps\n",
    "        y_hat = torch.cat(dec_outputs, dim=0) # (S-1)x(1,B,V) -> (S-1,B,V)\n",
    "        \n",
    "        # Output shape: (S-1, B, V)\n",
    "        return y_hat"
   ]
  },
  {
   "cell_type": "code",
   "execution_count": 17,
   "metadata": {},
   "outputs": [
    {
     "name": "stdout",
     "output_type": "stream",
     "text": [
      "torch.Size([16, 4, 5893])\n"
     ]
    }
   ],
   "source": [
    "seq2seq_model = Seq2Seq(V_src, V_tgt, EMB_DIM, NUM_LAYERS, HID_DIM)\n",
    "yhat = seq2seq_model(x0, y0)\n",
    "print(yhat.shape)"
   ]
  },
  {
   "cell_type": "code",
   "execution_count": 18,
   "metadata": {},
   "outputs": [
    {
     "name": "stdout",
     "output_type": "stream",
     "text": [
      "===========================================================================\n",
      "                           Kernel Shape  Output Shape    Params  Mult-Adds\n",
      "Layer                                                                     \n",
      "0_enc.Embedding_embedding   [128, 7855]  [17, 4, 128]  1.00544M    1005440\n",
      "1_enc.GRU_rnn                         -   [17, 4, 64]   62.208k      61440\n",
      "2_dec.Embedding_embedding   [128, 5893]   [1, 4, 128]  754.304k     754304\n",
      "3_dec.GRU_rnn                         -    [1, 4, 64]   62.208k      61440\n",
      "4_dec.Linear_out_fc          [64, 5893]  [1, 4, 5893]  383.045k     377152\n",
      "5_dec.Embedding_embedding   [128, 5893]   [1, 4, 128]         -     754304\n",
      "6_dec.GRU_rnn                         -    [1, 4, 64]         -      61440\n",
      "7_dec.Linear_out_fc          [64, 5893]  [1, 4, 5893]         -     377152\n",
      "8_dec.Embedding_embedding   [128, 5893]   [1, 4, 128]         -     754304\n",
      "9_dec.GRU_rnn                         -    [1, 4, 64]         -      61440\n",
      "10_dec.Linear_out_fc         [64, 5893]  [1, 4, 5893]         -     377152\n",
      "11_dec.Embedding_embedding  [128, 5893]   [1, 4, 128]         -     754304\n",
      "12_dec.GRU_rnn                        -    [1, 4, 64]         -      61440\n",
      "13_dec.Linear_out_fc         [64, 5893]  [1, 4, 5893]         -     377152\n",
      "14_dec.Embedding_embedding  [128, 5893]   [1, 4, 128]         -     754304\n",
      "15_dec.GRU_rnn                        -    [1, 4, 64]         -      61440\n",
      "16_dec.Linear_out_fc         [64, 5893]  [1, 4, 5893]         -     377152\n",
      "17_dec.Embedding_embedding  [128, 5893]   [1, 4, 128]         -     754304\n",
      "18_dec.GRU_rnn                        -    [1, 4, 64]         -      61440\n",
      "19_dec.Linear_out_fc         [64, 5893]  [1, 4, 5893]         -     377152\n",
      "20_dec.Embedding_embedding  [128, 5893]   [1, 4, 128]         -     754304\n",
      "21_dec.GRU_rnn                        -    [1, 4, 64]         -      61440\n",
      "22_dec.Linear_out_fc         [64, 5893]  [1, 4, 5893]         -     377152\n",
      "23_dec.Embedding_embedding  [128, 5893]   [1, 4, 128]         -     754304\n",
      "24_dec.GRU_rnn                        -    [1, 4, 64]         -      61440\n",
      "25_dec.Linear_out_fc         [64, 5893]  [1, 4, 5893]         -     377152\n",
      "26_dec.Embedding_embedding  [128, 5893]   [1, 4, 128]         -     754304\n",
      "27_dec.GRU_rnn                        -    [1, 4, 64]         -      61440\n",
      "28_dec.Linear_out_fc         [64, 5893]  [1, 4, 5893]         -     377152\n",
      "29_dec.Embedding_embedding  [128, 5893]   [1, 4, 128]         -     754304\n",
      "30_dec.GRU_rnn                        -    [1, 4, 64]         -      61440\n",
      "31_dec.Linear_out_fc         [64, 5893]  [1, 4, 5893]         -     377152\n",
      "32_dec.Embedding_embedding  [128, 5893]   [1, 4, 128]         -     754304\n",
      "33_dec.GRU_rnn                        -    [1, 4, 64]         -      61440\n",
      "34_dec.Linear_out_fc         [64, 5893]  [1, 4, 5893]         -     377152\n",
      "35_dec.Embedding_embedding  [128, 5893]   [1, 4, 128]         -     754304\n",
      "36_dec.GRU_rnn                        -    [1, 4, 64]         -      61440\n",
      "37_dec.Linear_out_fc         [64, 5893]  [1, 4, 5893]         -     377152\n",
      "38_dec.Embedding_embedding  [128, 5893]   [1, 4, 128]         -     754304\n",
      "39_dec.GRU_rnn                        -    [1, 4, 64]         -      61440\n",
      "40_dec.Linear_out_fc         [64, 5893]  [1, 4, 5893]         -     377152\n",
      "41_dec.Embedding_embedding  [128, 5893]   [1, 4, 128]         -     754304\n",
      "42_dec.GRU_rnn                        -    [1, 4, 64]         -      61440\n",
      "43_dec.Linear_out_fc         [64, 5893]  [1, 4, 5893]         -     377152\n",
      "44_dec.Embedding_embedding  [128, 5893]   [1, 4, 128]         -     754304\n",
      "45_dec.GRU_rnn                        -    [1, 4, 64]         -      61440\n",
      "46_dec.Linear_out_fc         [64, 5893]  [1, 4, 5893]         -     377152\n",
      "47_dec.Embedding_embedding  [128, 5893]   [1, 4, 128]         -     754304\n",
      "48_dec.GRU_rnn                        -    [1, 4, 64]         -      61440\n",
      "49_dec.Linear_out_fc         [64, 5893]  [1, 4, 5893]         -     377152\n",
      "---------------------------------------------------------------------------\n",
      "                          Totals\n",
      "Total params           2.267205M\n",
      "Trainable params       2.267205M\n",
      "Non-trainable params         0.0\n",
      "Mult-Adds             20.153216M\n",
      "===========================================================================\n"
     ]
    }
   ],
   "source": [
    "from torchsummaryX import summary\n",
    "summary(seq2seq_model, x0, y0);"
   ]
  },
  {
   "cell_type": "code",
   "execution_count": 19,
   "metadata": {},
   "outputs": [],
   "source": [
    "def train_seq2seq(model, dl_train, optimizer, loss_fn, p_tf=1., clip_grad=1., max_batches=None):\n",
    "    losses = []\n",
    "    with tqdm.tqdm(total=(max_batches if max_batches else len(dl_train)), file=sys.stdout) as pbar:\n",
    "        for idx_batch, batch in enumerate(dl_train, start=1):\n",
    "            x, x_len = batch.src\n",
    "            y, y_len =  batch.trg\n",
    "\n",
    "            # Forward pass: encoder and decoder\n",
    "            # Output y_hat is the translated sequence\n",
    "            y_hat = model(x, y, p_tf)\n",
    "            S, B, V = y_hat.shape\n",
    "\n",
    "            # y[:,i] is <sos>, w_1, w_2, ..., w_k, <eos>, <pad>, ...\n",
    "            # y_hat is   w_1', w_2', ..., w_k', <eos>', <pad>', ...\n",
    "            # based on the above, get grout truth y\n",
    "            y_gt = y[1:, :].reshape(S*B)  # drop <sos>\n",
    "            y_hat = y_hat.reshape(S*B, V)\n",
    "\n",
    "            # Calculate loss compared to ground truth y\n",
    "            optimizer.zero_grad()\n",
    "            loss = loss_fn(y_hat, y_gt)\n",
    "            loss.backward()\n",
    "\n",
    "            # Prevent exploding gradients\n",
    "            if clip_grad > 0:\n",
    "                torch.nn.utils.clip_grad_norm_(model.parameters(), clip_grad)\n",
    "\n",
    "            # Update parameters\n",
    "            optimizer.step()\n",
    "\n",
    "            losses.append(loss.item())\n",
    "            pbar.update(); pbar.set_description(f'train loss={losses[-1]:.3f}')\n",
    "            if max_batches and idx_batch >= max_batches:\n",
    "                break\n",
    "    return losses"
   ]
  },
  {
   "cell_type": "code",
   "execution_count": null,
   "metadata": {},
   "outputs": [],
   "source": []
  },
  {
   "cell_type": "code",
   "execution_count": 20,
   "metadata": {},
   "outputs": [],
   "source": [
    "def eval_seq2seq(model, dl_test):\n",
    "    accuracies = []\n",
    "    with tqdm.tqdm(total=len(dl_test), file=sys.stdout) as pbar:\n",
    "        for idx_batch, batch in enumerate(dl_test):\n",
    "            x, x_len = batch.src\n",
    "            y, y_len =  batch.trg\n",
    "\n",
    "            with torch.no_grad():\n",
    "                y_hat = model(x, y, p_tf=0)  # Note: no teacher forcing\n",
    "\n",
    "            S, B, V = y_hat.shape\n",
    "\n",
    "            y_gt = y[1:, :].reshape(S*B)  # drop <sos>\n",
    "            y_hat = torch.argmax(y_hat.reshape(S*B, V), dim=1) # greedy-sample\n",
    "\n",
    "            # Compare prediction to ground truth\n",
    "            accuracies.append(torch.sum(y_gt == y_hat) / S)\n",
    "\n",
    "            pbar.update(); pbar.set_description(f'eval acc={accuracies[-1]}')\n",
    "    return accuracies"
   ]
  },
  {
   "cell_type": "code",
   "execution_count": null,
   "metadata": {},
   "outputs": [],
   "source": []
  },
  {
   "cell_type": "code",
   "execution_count": 45,
   "metadata": {},
   "outputs": [
    {
     "name": "stdout",
     "output_type": "stream",
     "text": [
      "=== EPOCH 1/2, p_tf=1.00 ===\n",
      "train loss=5.512: 100%|██████████| 25/25 [00:17<00:00,  1.39it/s]\n",
      "eval acc=7: 100%|██████████| 8/8 [00:01<00:00,  5.73it/s] \n",
      "=== EPOCH 2/2, p_tf=0.95 ===\n",
      "train loss=5.247: 100%|██████████| 25/25 [00:18<00:00,  1.38it/s]\n",
      "eval acc=7: 100%|██████████| 8/8 [00:01<00:00,  5.68it/s] \n"
     ]
    }
   ],
   "source": [
    "BATCH_SIZE = 128\n",
    "# Use small model so that training is fast, just an example\n",
    "EMB_DIM = 64\n",
    "HID_DIM = 128\n",
    "NUM_LAYERS = 2\n",
    "GRAD_CLIP = 1.\n",
    "EPOCHS = 2\n",
    "BATCHES_PER_EPOCH=25\n",
    "\n",
    "dl_train, dl_valid, dl_test = BucketIterator.splits((ds_train, ds_valid, ds_test), batch_size=BATCH_SIZE)\n",
    "seq2seq_model = Seq2Seq(V_src, V_tgt, EMB_DIM, NUM_LAYERS, HID_DIM)\n",
    "\n",
    "optimizer = torch.optim.Adam(seq2seq_model.parameters(), lr=1e-3)\n",
    "\n",
    "# Note: We don't compute loss from padding tokens!\n",
    "loss_fn = nn.CrossEntropyLoss(ignore_index=PAD_TOKEN)\n",
    "\n",
    "losses = []\n",
    "accuracies = []\n",
    "for idx_epoch in range(EPOCHS):\n",
    "    # Linearly decay amount of teacher forcing fro the first 10 epochs (example)\n",
    "    p_tf = 1 - min((idx_epoch / 20), 1)\n",
    "    \n",
    "    print(f'=== EPOCH {idx_epoch+1}/{EPOCHS}, p_tf={p_tf:.2f} ===')\n",
    "    losses += train_seq2seq(seq2seq_model, dl_train, optimizer, loss_fn, p_tf, GRAD_CLIP, BATCHES_PER_EPOCH)\n",
    "    accuracies += eval_seq2seq(seq2seq_model, dl_valid)"
   ]
  },
  {
   "cell_type": "code",
   "execution_count": 46,
   "metadata": {},
   "outputs": [
    {
     "data": {
      "image/png": "[encoded data removed]",
      "text/plain": [
       "<Figure size 1080x360 with 2 Axes>"
      ]
     },
     "metadata": {
      "needs_background": "light"
     },
     "output_type": "display_data"
    }
   ],
   "source": [
    "fig, ax = plt.subplots(nrows=1, ncols=2, figsize=(15,5))\n",
    "ax[0].plot(losses); ax[0].set_title('train loss'); ax[0].set_xlabel('iteration'); ax[0].grid(True)\n",
    "ax[1].plot(accuracies); ax[1].set_title('eval accuracy'); ax[1].set_xlabel('iteration'); ax[1].grid(True)"
   ]
  },
  {
   "cell_type": "code",
   "execution_count": 23,
   "metadata": {},
   "outputs": [
    {
     "data": {
      "text/plain": [
       "[8.515604019165039,\n",
       " 8.48193645477295,\n",
       " 8.46484088897705,\n",
       " 8.419981002807617,\n",
       " 8.402544975280762,\n",
       " 8.356700897216797,\n",
       " 8.316434860229492,\n",
       " 8.299473762512207,\n",
       " 8.261879920959473,\n",
       " 8.202543258666992]"
      ]
     },
     "execution_count": 23,
     "metadata": {},
     "output_type": "execute_result"
    }
   ],
   "source": [
    "losses"
   ]
  },
  {
   "cell_type": "markdown",
   "metadata": {
    "slideshow": {
     "slide_type": "skip"
    }
   },
   "source": [
    "**Image credits**\n",
    "\n",
    "Some images in this tutorial were taken and/or adapted from:\n",
    "\n",
    "- Zhang et al., Dive into Deep Learning, 2019\n",
    "- Fundamentals of Deep Learning, Nikhil Buduma, Oreilly 2017\n",
    "- Andrej Karpathy, http://karpathy.github.io\n",
    "- MIT 6.S191\n",
    "- Stanford cs231n\n",
    "- K. Xu et al. 2015, https://arxiv.org/abs/1502.03044"
   ]
  }
 ],
 "metadata": {
  "kernelspec": {
   "display_name": "Python 3",
   "language": "python",
   "name": "python3"
  },
  "language_info": {
   "codemirror_mode": {
    "name": "ipython",
    "version": 3
   },
   "file_extension": ".py",
   "mimetype": "text/x-python",
   "name": "python",
   "nbconvert_exporter": "python",
   "pygments_lexer": "ipython3",
   "version": "3.7.5"
  }
 },
 "nbformat": 4,
 "nbformat_minor": 4
}

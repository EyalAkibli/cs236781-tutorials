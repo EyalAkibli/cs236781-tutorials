{
 "cells": [
  {
   "cell_type": "markdown",
   "metadata": {
    "slideshow": {
     "slide_type": "slide"
    }
   },
   "source": [
    "$$\n",
    "\\newcommand{\\mat}[1]{\\boldsymbol {#1}}\n",
    "\\newcommand{\\mattr}[1]{\\boldsymbol {#1}^\\top}\n",
    "\\newcommand{\\matinv}[1]{\\boldsymbol {#1}^{-1}}\n",
    "\\newcommand{\\vec}[1]{\\boldsymbol {#1}}\n",
    "\\newcommand{\\vectr}[1]{\\boldsymbol {#1}^\\top}\n",
    "\\newcommand{\\rvar}[1]{\\mathrm {#1}}\n",
    "\\newcommand{\\rvec}[1]{\\boldsymbol{\\mathrm{#1}}}\n",
    "\\newcommand{\\diag}{\\mathop{\\mathrm {diag}}}\n",
    "\\newcommand{\\set}[1]{\\mathbb {#1}}\n",
    "\\newcommand{\\norm}[1]{\\left\\lVert#1\\right\\rVert}\n",
    "\\newcommand{\\pderiv}[2]{\\frac{\\partial #1}{\\partial #2}}\n",
    "\\newcommand{\\bb}[1]{\\boldsymbol{#1}}\n",
    "\\newcommand{\\Tr}[0]{^\\top}\n",
    "\\newcommand{\\softmax}[1]{\\mathrm{softmax}\\left({#1}\\right)}\n",
    "$$\n",
    "\n",
    "# CS236781: Deep Learning\n",
    "# Tutorial 7: Enc/Dec arch, Seq2Seq, Attention"
   ]
  },
  {
   "cell_type": "markdown",
   "metadata": {
    "slideshow": {
     "slide_type": "subslide"
    }
   },
   "source": [
    "## Introduction\n",
    "\n",
    "\n",
    "In this tutorial, we will cover:\n",
    "\n",
    "TODO"
   ]
  },
  {
   "cell_type": "code",
   "execution_count": 1,
   "metadata": {
    "slideshow": {
     "slide_type": "subslide"
    }
   },
   "outputs": [],
   "source": [
    "# Setup\n",
    "%matplotlib inline\n",
    "import os\n",
    "import sys\n",
    "import math\n",
    "import time\n",
    "import tqdm\n",
    "import torch\n",
    "import matplotlib.pyplot as plt"
   ]
  },
  {
   "cell_type": "code",
   "execution_count": 2,
   "metadata": {
    "slideshow": {
     "slide_type": "fragment"
    }
   },
   "outputs": [],
   "source": [
    "plt.rcParams['font.size'] = 20\n",
    "data_dir = os.path.expanduser('~/.pytorch-datasets')\n",
    "device = torch.device('cuda' if torch.cuda.is_available() else 'cpu')"
   ]
  },
  {
   "cell_type": "markdown",
   "metadata": {
    "slideshow": {
     "slide_type": "slide"
    }
   },
   "source": [
    "## Theory reminders"
   ]
  },
  {
   "cell_type": "markdown",
   "metadata": {},
   "source": [
    "- RNNs\n",
    "- Encoder/decoder, generative models"
   ]
  },
  {
   "cell_type": "markdown",
   "metadata": {
    "slideshow": {
     "slide_type": "subslide"
    }
   },
   "source": [
    "In the context of learning from **sequences** of inputs, we have seen RNNs as a model capable of learning a transformation of one sequence into another.\n",
    "\n",
    "<center><img src=\"img/rnn_unrolled.png\" width=\"1000\" /></center>\n"
   ]
  },
  {
   "cell_type": "markdown",
   "metadata": {},
   "source": [
    "Where,\n",
    "\n",
    "$$\n",
    "\\begin{align}\n",
    "\\forall t \\geq 0:\\\\\n",
    "\\vec{h}_t &= \\varphi_h\\left( \\mat{W}_{hh} \\vec{h}_{t-1} + \\mat{W}_{xh} \\vec{x}_t + \\vec{b}_h\\right) \\\\\n",
    "\\vec{y}_t &= \\varphi_y\\left(\\mat{W}_{hy}\\vec{h}_t + \\vec{b}_y \\right)\n",
    "\\end{align}\n",
    "$$"
   ]
  },
  {
   "cell_type": "markdown",
   "metadata": {},
   "source": [
    "However, RNNs (even the fancy ones) have some major drawbacks:"
   ]
  },
  {
   "cell_type": "markdown",
   "metadata": {},
   "source": [
    "1. Input must be processed sequentially.\n",
    "2. Hard to train on long sequences (needs BPTT).\n",
    "3. Difficult to learn long-term dependencies, e.g. between late outputs and early inputs. The **hidden state** has the burden of \"remembering\" the \"meaning\" of the entire sequence so far."
   ]
  },
  {
   "cell_type": "markdown",
   "metadata": {},
   "source": [
    "## Part 1: Sequence-to-sequence machine translation"
   ]
  },
  {
   "cell_type": "markdown",
   "metadata": {},
   "source": [
    "Imagine we want to translate text from English to French. The general approach using RNNs is to design a Sequence-to-sequence (**Seq2Seq**) Encoder-Decoder architecture:"
   ]
  },
  {
   "cell_type": "markdown",
   "metadata": {},
   "source": [
    "<center><img src=\"img/seq2seq.svg\" width=\"1000\" /></center>"
   ]
  },
  {
   "cell_type": "code",
   "execution_count": null,
   "metadata": {},
   "outputs": [],
   "source": []
  },
  {
   "cell_type": "code",
   "execution_count": 3,
   "metadata": {},
   "outputs": [],
   "source": [
    "from torchtext.datasets import Multi30k\n",
    "from torchtext.data import Field\n",
    "\n",
    "# Common args for field objects\n",
    "field_args = dict(tokenize='spacy',\n",
    "                  init_token = '<sos>',\n",
    "                  eos_token = '<eos>',\n",
    "                  include_lengths=True,\n",
    "                  lower = True) \n",
    "\n",
    "# Field for processing German source\n",
    "src_field = Field(tokenizer_language=\"de_core_news_sm\", **field_args)\n",
    "\n",
    "# Field for processing English target\n",
    "tgt_field = Field(tokenizer_language=\"en_core_web_sm\", **field_args)"
   ]
  },
  {
   "cell_type": "code",
   "execution_count": null,
   "metadata": {},
   "outputs": [],
   "source": []
  },
  {
   "cell_type": "code",
   "execution_count": 4,
   "metadata": {},
   "outputs": [],
   "source": [
    "ds_train, ds_valid, ds_test = Multi30k.splits(\n",
    "    root=data_dir, exts=('.de', '.en'), fields=(src_field, tgt_field)\n",
    ")\n",
    "\n",
    "VOCAB_MIN_FREQ = 2\n",
    "src_field.build_vocab(ds_train, min_freq=VOCAB_MIN_FREQ)\n",
    "tgt_field.build_vocab(ds_train, min_freq=VOCAB_MIN_FREQ)"
   ]
  },
  {
   "cell_type": "code",
   "execution_count": 5,
   "metadata": {},
   "outputs": [
    {
     "name": "stdout",
     "output_type": "stream",
     "text": [
      "source vocab size: 7855\n",
      "target vocab size: 5893\n"
     ]
    }
   ],
   "source": [
    "V_src = len(src_field.vocab)\n",
    "print(f'source vocab size: {V_src}')\n",
    "\n",
    "V_tgt = len(tgt_field.vocab)\n",
    "print(f'target vocab size: {V_tgt}')"
   ]
  },
  {
   "cell_type": "code",
   "execution_count": 6,
   "metadata": {
    "slideshow": {
     "slide_type": "fragment"
    }
   },
   "outputs": [
    {
     "name": "stdout",
     "output_type": "stream",
     "text": [
      "sample#0001:\n",
      "\tDE: mehrere männer mit schutzhelmen bedienen ein antriebsradsystem .\n",
      "\tEN: several men in hard hats are operating a giant pulley system .\n",
      "\n",
      "sample#0010:\n",
      "\tDE: eine ballettklasse mit fünf mädchen , die nacheinander springen .\n",
      "\tEN: a ballet class of five girls jumping in sequence .\n",
      "\n",
      "sample#0100:\n",
      "\tDE: männliches kleinkind in einem roten hut , das sich an einem geländer festhält .\n",
      "\tEN: toddler boy in a red hat holding on to some railings .\n",
      "\n",
      "sample#1000:\n",
      "\tDE: ein junger mann in einem weißen hemd , der tomaten schneidet .\n",
      "\tEN: a young man in a white shirt cutting tomatoes .\n",
      "\n"
     ]
    }
   ],
   "source": [
    "for i in ([1, 10, 100, 1000]):\n",
    "    example = ds_train[i]\n",
    "    src = str.join(\" \", example.src)\n",
    "    tgt = str.join(\" \", example.trg)\n",
    "    print(f'sample#{i:04d}:\\n\\tDE: {src}\\n\\tEN: {tgt}\\n')"
   ]
  },
  {
   "cell_type": "code",
   "execution_count": 7,
   "metadata": {},
   "outputs": [
    {
     "data": {
      "text/plain": [
       "['<unk>', '<pad>', '<sos>', '<eos>', 'a', '.', 'in', 'the', 'on', 'man']"
      ]
     },
     "execution_count": 7,
     "metadata": {},
     "output_type": "execute_result"
    }
   ],
   "source": [
    "tgt_field.vocab.itos[0:10]"
   ]
  },
  {
   "cell_type": "code",
   "execution_count": 8,
   "metadata": {},
   "outputs": [
    {
     "data": {
      "text/plain": [
       "['<unk>', '<pad>', '<sos>', '<eos>', '.', 'ein', 'einem', 'in', 'eine', ',']"
      ]
     },
     "execution_count": 8,
     "metadata": {},
     "output_type": "execute_result"
    }
   ],
   "source": [
    "src_field.vocab.itos[0:10]"
   ]
  },
  {
   "cell_type": "code",
   "execution_count": 9,
   "metadata": {},
   "outputs": [
    {
     "name": "stdout",
     "output_type": "stream",
     "text": [
      "<unk>=0, <pad>=1\n"
     ]
    }
   ],
   "source": [
    "UNK_TOKEN = tgt_field.vocab.stoi['<unk>']\n",
    "PAD_TOKEN = tgt_field.vocab.stoi['<pad>']\n",
    "\n",
    "print(f'<unk>={UNK_TOKEN}, <pad>={PAD_TOKEN}')"
   ]
  },
  {
   "cell_type": "code",
   "execution_count": 10,
   "metadata": {},
   "outputs": [],
   "source": [
    "from torchtext.data import BucketIterator\n",
    "\n",
    "BATCH_SIZE = 4\n",
    "dl_train, dl_valid, dl_test = BucketIterator.splits((ds_train, ds_valid, ds_test), batch_size = BATCH_SIZE)"
   ]
  },
  {
   "cell_type": "code",
   "execution_count": 11,
   "metadata": {},
   "outputs": [
    {
     "name": "stdout",
     "output_type": "stream",
     "text": [
      "x0:\n",
      " tensor([[   2,    2,    2,    2],\n",
      "        [   5,    8,    5,    5],\n",
      "        [3166,   36,  457,  177],\n",
      "        [  25,   65,  351,   25],\n",
      "        [ 570,   29,   12,    7],\n",
      "        [  19,    7,   33,    6],\n",
      "        [4036,   14, 1955,  102],\n",
      "        [  85, 3908,    4,   79],\n",
      "        [   8,   64,    3,   10],\n",
      "        [1658,    8,    1,    6],\n",
      "        [  12,  545,    1,   11],\n",
      "        [   4,  140,    1,  332],\n",
      "        [   3,    4,    1, 2070],\n",
      "        [   1,    3,    1,  451],\n",
      "        [   1,    1,    1,   29],\n",
      "        [   1,    1,    1,   12],\n",
      "        [   1,    1,    1,   14],\n",
      "        [   1,    1,    1,  408],\n",
      "        [   1,    1,    1,   10],\n",
      "        [   1,    1,    1, 1374],\n",
      "        [   1,    1,    1,    7],\n",
      "        [   1,    1,    1,    5],\n",
      "        [   1,    1,    1,  312],\n",
      "        [   1,    1,    1,    4],\n",
      "        [   1,    1,    1,    3]]) torch.Size([25, 4])\n",
      "x0_len:\n",
      " tensor([13, 14,  9, 25]) torch.Size([4])\n",
      "y0:\n",
      " tensor([[   2,    2,    2,    2],\n",
      "        [   4,    4,    4,    4],\n",
      "        [  33,   38,   62,   24],\n",
      "        [  13,   12,  238,   33],\n",
      "        [  61,   63,   10,    6],\n",
      "        [  97,   36,    8,    4],\n",
      "        [ 400,   83,    7,   62],\n",
      "        [  51,    4, 1013,  109],\n",
      "        [   4,  443,    5,   11],\n",
      "        [ 299,    6,    3,    4],\n",
      "        [  54,    4,    1, 1554],\n",
      "        [   4, 2035,    1,  451],\n",
      "        [ 509,    5,    1,   10],\n",
      "        [   5,    3,    1,   36],\n",
      "        [   3,    1,    1,    8],\n",
      "        [   1,    1,    1,    4],\n",
      "        [   1,    1,    1,  580],\n",
      "        [   1,    1,    1,   11],\n",
      "        [   1,    1,    1, 1857],\n",
      "        [   1,    1,    1,    8],\n",
      "        [   1,    1,    1,    4],\n",
      "        [   1,    1,    1,  223],\n",
      "        [   1,    1,    1,    5],\n",
      "        [   1,    1,    1,    3]]) torch.Size([24, 4])\n",
      "y0_len:\n",
      " tensor([15, 14, 10, 24]) torch.Size([4])\n"
     ]
    }
   ],
   "source": [
    "# dataloader returns a Batch object with .src and .trg attributes\n",
    "b0 = next(iter(dl_train))\n",
    "\n",
    "# The .src/.trg attributes contain tuples of sequences and their lengths\n",
    "# Get batches of sequences \n",
    "x0, x0_len = b0.src\n",
    "y0, y0_len =  b0.trg\n",
    "\n",
    "print('x0:\\n', x0, x0.shape)\n",
    "print('x0_len:\\n', x0_len, x0_len.shape)\n",
    "print('y0:\\n', y0, y0.shape)\n",
    "print('y0_len:\\n', y0_len, y0_len.shape)"
   ]
  },
  {
   "cell_type": "code",
   "execution_count": 12,
   "metadata": {
    "slideshow": {
     "slide_type": "fragment"
    }
   },
   "outputs": [],
   "source": [
    "import torch.nn as nn\n",
    "\n",
    "class Seq2SeqEncoder(nn.Module):\n",
    "    def __init__(self, vocab_size, embedding_dim, num_layers, h_dim, dropout=0.2):\n",
    "        super().__init__()\n",
    "        \n",
    "        # nn.Embedding converts from token index to dense tensor\n",
    "        self.embedding = nn.Embedding(vocab_size, embedding_dim)\n",
    "        \n",
    "        # PyTorch multilayer GRU RNN\n",
    "        self.rnn = nn.GRU(embedding_dim, h_dim, num_layers=num_layers, dropout=dropout)\n",
    "        \n",
    "    def forward(self, x):\n",
    "        # x shape: (S, B) Note batch dim is not first!\n",
    "        S, B = x.shape\n",
    "        embedded = self.embedding(x) # embedded shape: (S, B, E)\n",
    "        \n",
    "        # GRU second output returns last hidden state from each layer (L, B, H)\n",
    "        _, ht = self.rnn(embedded)\n",
    "        return ht"
   ]
  },
  {
   "cell_type": "markdown",
   "metadata": {},
   "source": [
    "Test the encoder with a batch of English sentences"
   ]
  },
  {
   "cell_type": "code",
   "execution_count": 13,
   "metadata": {},
   "outputs": [
    {
     "name": "stdout",
     "output_type": "stream",
     "text": [
      "tensor([[[-6.4959e-01,  2.9767e-01,  1.6301e-01, -2.9446e-01,  6.5900e-01,\n",
      "          -3.0265e-01,  6.1906e-01,  8.8302e-01, -8.5149e-01,  2.7658e-01,\n",
      "           1.6064e-01,  9.4070e-01,  3.3277e-01, -2.7363e-01, -2.5867e-01,\n",
      "          -9.6221e-01,  5.7456e-01,  1.9068e-01,  3.1690e-01,  7.0554e-01,\n",
      "           5.3836e-02,  6.7495e-01,  3.9402e-01,  3.4423e-02,  9.2627e-01,\n",
      "           8.7211e-01, -2.9483e-01, -9.5912e-01,  8.5391e-03,  4.7569e-01,\n",
      "          -7.6268e-01,  4.7352e-02,  2.6739e-01, -9.7721e-01, -7.6571e-02,\n",
      "          -5.8676e-01, -2.4918e-01, -7.3973e-01,  3.7150e-01,  8.6142e-01,\n",
      "          -6.2985e-01, -7.6338e-01, -6.9610e-01,  4.2104e-01, -3.0312e-01,\n",
      "          -3.5847e-01, -8.4733e-01,  3.1632e-02,  2.3639e-01,  4.2437e-01,\n",
      "           9.0147e-01, -2.7903e-01, -8.8631e-01, -2.2478e-01, -4.6800e-01,\n",
      "           8.4730e-01,  2.0581e-01,  4.7630e-01, -8.2544e-01,  5.3303e-01,\n",
      "           4.5224e-01,  1.2550e-01, -1.0853e-02,  9.6320e-03],\n",
      "         [-6.4533e-01,  2.8950e-01,  1.6341e-01, -2.9046e-01,  6.5573e-01,\n",
      "          -3.0337e-01,  6.1553e-01,  8.8166e-01, -8.5035e-01,  2.7454e-01,\n",
      "           1.5830e-01,  9.2793e-01,  3.2866e-01, -2.7918e-01, -2.5375e-01,\n",
      "          -9.6217e-01,  5.7292e-01,  1.8867e-01,  3.2166e-01,  7.0349e-01,\n",
      "           8.5903e-02,  6.7165e-01,  3.9380e-01,  3.9804e-02,  9.2581e-01,\n",
      "           8.7326e-01, -2.9536e-01, -9.5913e-01,  8.7698e-03,  4.8105e-01,\n",
      "          -7.6858e-01,  4.7857e-02,  2.6815e-01, -9.7740e-01, -8.0248e-02,\n",
      "          -5.8593e-01, -2.5406e-01, -7.4019e-01,  3.7045e-01,  8.5907e-01,\n",
      "          -6.3231e-01, -7.5844e-01, -6.9407e-01,  4.2223e-01, -3.0205e-01,\n",
      "          -3.3855e-01, -8.4682e-01,  5.1785e-02,  2.3126e-01,  4.2436e-01,\n",
      "           9.0129e-01, -2.8379e-01, -8.8676e-01, -2.2419e-01, -4.6370e-01,\n",
      "           8.4131e-01,  1.9225e-01,  4.7651e-01, -8.2447e-01,  5.4779e-01,\n",
      "           4.5383e-01,  1.2423e-01, -9.4253e-03,  9.2780e-03],\n",
      "         [-6.4713e-01,  3.0887e-01,  1.6905e-01, -2.9212e-01,  6.6333e-01,\n",
      "          -3.0520e-01,  6.5266e-01,  8.8306e-01, -8.5183e-01,  2.7718e-01,\n",
      "           1.6080e-01,  9.4844e-01,  3.4277e-01, -2.8509e-01, -2.6888e-01,\n",
      "          -9.6233e-01,  5.7731e-01,  1.8681e-01,  3.2179e-01,  7.0474e-01,\n",
      "           9.9916e-02,  6.7613e-01,  3.9536e-01,  2.8835e-02,  9.2598e-01,\n",
      "           8.8220e-01, -2.8738e-01, -9.6270e-01, -2.9451e-03,  4.7706e-01,\n",
      "          -7.6598e-01,  4.8219e-02,  2.7922e-01, -9.7735e-01, -7.4062e-02,\n",
      "          -5.8689e-01, -2.4580e-01, -7.4093e-01,  3.7142e-01,  8.6382e-01,\n",
      "          -6.3490e-01, -7.7836e-01, -6.8951e-01,  4.1999e-01, -2.9877e-01,\n",
      "          -3.5921e-01, -8.4659e-01,  3.5299e-02,  2.2894e-01,  4.2322e-01,\n",
      "           9.0120e-01, -2.7337e-01, -8.8600e-01, -2.2471e-01, -4.7491e-01,\n",
      "           8.5829e-01,  2.2871e-01,  4.7656e-01, -8.2637e-01,  5.5380e-01,\n",
      "           4.5288e-01,  1.2253e-01, -7.7785e-03,  1.1846e-02],\n",
      "         [ 3.5899e-01, -2.7046e-01,  3.9223e-01,  5.4361e-01,  2.3584e-01,\n",
      "           8.8094e-02, -6.3874e-01, -2.0644e-01,  1.7975e-01,  7.8065e-02,\n",
      "          -6.3906e-01,  5.1344e-01, -6.9238e-01,  1.3814e-01,  4.5243e-03,\n",
      "          -5.3131e-02,  4.7038e-01, -3.0246e-01,  5.6423e-02,  3.3287e-01,\n",
      "          -5.7770e-02,  2.4526e-01, -2.0404e-01, -4.6342e-01, -4.9603e-01,\n",
      "           5.1998e-01, -1.5352e-01, -5.1096e-01, -4.7363e-02,  8.0429e-02,\n",
      "          -5.9940e-01,  1.5074e-01,  5.6514e-01, -3.5308e-01, -3.2074e-01,\n",
      "          -1.5610e-01,  3.0093e-01,  5.3537e-01,  3.4012e-02, -4.7934e-01,\n",
      "           7.0679e-04,  4.7562e-01, -4.0110e-01,  7.7874e-02,  3.9904e-01,\n",
      "           6.6359e-03, -3.6760e-01,  5.7177e-02, -1.4895e-01,  1.5349e-01,\n",
      "           2.2812e-01, -3.3300e-01, -6.1653e-01,  6.0997e-02, -1.1056e-01,\n",
      "          -5.3211e-02,  1.6923e-01,  5.8065e-01,  7.1579e-01, -8.8836e-02,\n",
      "          -4.5403e-01,  6.2380e-01,  1.6123e-01, -1.2950e-01]],\n",
      "\n",
      "        [[ 1.4828e-01,  4.9545e-01, -2.1856e-01, -9.3272e-04, -4.0093e-02,\n",
      "          -4.7885e-01,  3.1527e-01,  2.9090e-01,  3.8278e-01,  1.5105e-01,\n",
      "          -2.4799e-01, -4.1541e-02,  2.3518e-01, -3.7914e-01, -7.3227e-01,\n",
      "          -9.0503e-02,  1.1826e-01,  2.5647e-01,  1.1125e-01,  3.9747e-01,\n",
      "          -7.8651e-02, -7.1998e-02, -1.6692e-01,  2.5564e-02, -7.0171e-02,\n",
      "          -2.8632e-01, -3.9275e-01,  5.8647e-02,  4.9080e-01, -2.5161e-01,\n",
      "          -4.3773e-02,  2.7219e-01,  1.6319e-01,  4.9237e-01,  7.0387e-02,\n",
      "          -1.0882e-01, -3.3713e-01, -4.7842e-01, -5.0270e-01,  2.6215e-01,\n",
      "          -4.0787e-01, -1.5656e-01,  2.6914e-01, -2.4316e-01, -5.4142e-01,\n",
      "           2.4642e-02,  6.2030e-01, -6.1317e-01,  2.2919e-01, -7.2266e-02,\n",
      "          -3.1581e-01,  3.9045e-02,  7.5115e-02,  3.0197e-01,  4.1812e-02,\n",
      "           3.3847e-01,  2.6586e-01, -3.3792e-01, -1.1141e-01,  1.8394e-02,\n",
      "          -2.1631e-02,  5.4530e-02, -1.5440e-01, -5.8281e-01],\n",
      "         [ 4.9948e-02,  4.7856e-01, -3.6215e-01, -1.0998e-01, -2.7042e-02,\n",
      "          -4.6514e-01,  2.7445e-01,  4.0027e-01,  3.1581e-01,  1.1054e-01,\n",
      "          -2.4998e-02,  3.4155e-02,  3.2655e-01, -2.8876e-01, -6.0562e-01,\n",
      "          -1.5547e-01, -4.1703e-02,  4.9056e-01,  1.5258e-01,  4.2313e-01,\n",
      "           5.4378e-02, -1.4830e-01, -2.7548e-01, -2.3729e-01, -1.1057e-01,\n",
      "           3.6941e-02, -3.3436e-01,  2.0445e-01,  4.0904e-01, -4.5379e-01,\n",
      "          -8.2957e-02,  2.5788e-01,  2.7244e-01,  4.6591e-01, -1.0825e-01,\n",
      "          -1.4198e-01, -1.5850e-01, -6.6951e-01, -3.7142e-01,  2.9205e-01,\n",
      "          -3.7234e-01, -1.4531e-01,  2.4451e-01, -2.1487e-01, -3.9080e-01,\n",
      "           2.3353e-01,  6.7619e-01, -4.9602e-01,  4.2616e-01, -2.9666e-01,\n",
      "          -3.9574e-02, -1.1193e-01,  7.1549e-02,  2.8371e-01,  2.2108e-01,\n",
      "           4.6888e-01,  3.9035e-01, -2.6306e-01, -2.2390e-01, -1.9980e-01,\n",
      "          -1.1056e-01,  6.8553e-02, -1.5165e-01, -2.8624e-01],\n",
      "         [ 1.1489e-01,  5.2104e-01, -4.0201e-01, -9.1262e-02, -2.0409e-01,\n",
      "          -4.0397e-01,  2.6744e-01,  2.6322e-01,  2.2809e-01,  7.9622e-02,\n",
      "          -1.7683e-01,  1.0546e-01,  3.2641e-01, -4.5183e-01, -6.4023e-01,\n",
      "          -1.1062e-01, -3.2548e-02,  4.5326e-01,  9.7485e-02,  6.2721e-01,\n",
      "          -1.3373e-01, -1.4591e-02, -2.4501e-01, -8.3024e-02, -2.6881e-01,\n",
      "          -1.2555e-01, -3.9860e-01,  1.9299e-01,  5.8524e-01, -3.8325e-01,\n",
      "           6.5184e-03,  3.3657e-01,  3.2310e-01,  5.4629e-01, -1.0138e-01,\n",
      "          -1.5465e-01, -3.3385e-01, -6.9414e-01, -4.7568e-01,  3.2540e-01,\n",
      "          -4.5013e-01, -9.0652e-02,  1.8324e-01, -3.0051e-01, -4.6200e-01,\n",
      "           2.2390e-01,  7.4621e-01, -5.8140e-01,  3.2761e-01, -4.4175e-01,\n",
      "          -1.3941e-01, -6.1820e-02,  2.3281e-01,  2.7027e-01,  1.4766e-01,\n",
      "           4.1054e-01,  4.4427e-01, -2.7404e-01, -1.5282e-01,  7.6177e-02,\n",
      "          -1.3858e-01, -2.2227e-01, -1.3261e-01, -5.0106e-01],\n",
      "         [ 1.2238e-01, -2.6972e-02,  2.6697e-01,  1.3089e-01,  2.3246e-01,\n",
      "          -3.4557e-01,  7.2993e-02,  4.3898e-02,  9.5820e-03,  1.3781e-01,\n",
      "           5.7288e-02, -2.6377e-02, -7.3908e-02,  1.3288e-01, -3.0217e-01,\n",
      "          -1.2631e-02, -3.4019e-01, -1.6427e-01,  2.5286e-01,  1.7144e-01,\n",
      "           9.4950e-02,  4.2004e-02,  5.2314e-02,  2.4713e-01,  2.0487e-01,\n",
      "           6.8975e-02, -7.6978e-02,  2.5828e-01,  1.9043e-02, -3.6623e-03,\n",
      "          -1.0396e-01, -7.7276e-02,  4.1855e-01,  1.2779e-01,  3.3604e-01,\n",
      "           1.9807e-01, -1.4726e-02, -1.3888e-01, -9.4894e-02, -7.8530e-02,\n",
      "          -1.1412e-01,  5.6157e-02,  1.4502e-01,  1.5436e-01, -1.2213e-01,\n",
      "          -5.1868e-03,  3.9431e-02, -1.9359e-01,  8.1607e-02,  2.4261e-01,\n",
      "          -3.6584e-01, -7.1547e-02, -1.2117e-01,  4.7236e-01,  3.6932e-01,\n",
      "          -6.5877e-02, -8.6645e-02,  1.1332e-02, -3.8922e-01,  1.0713e-01,\n",
      "          -2.9714e-01,  1.4011e-01,  2.0867e-01,  4.4729e-03]]],\n",
      "       grad_fn=<StackBackward>) torch.Size([2, 4, 64])\n"
     ]
    }
   ],
   "source": [
    "EMB_DIM = 128\n",
    "HID_DIM = 64\n",
    "NUM_LAYERS = 2\n",
    "\n",
    "enc = Seq2SeqEncoder(V_src, EMB_DIM, NUM_LAYERS, HID_DIM)\n",
    "ht = enc(x0)\n",
    "print(ht, ht.shape)"
   ]
  },
  {
   "cell_type": "code",
   "execution_count": 14,
   "metadata": {},
   "outputs": [],
   "source": [
    "class Seq2SeqDecoder(nn.Module):\n",
    "    def __init__(self, vocab_size, embedding_dim, num_layers, h_dim, dropout=0.2):\n",
    "        super().__init__()\n",
    "        \n",
    "        # nn.Embedding converts from token index to dense tensor\n",
    "        self.embedding = nn.Embedding(vocab_size, embedding_dim)\n",
    "        \n",
    "        # PyTorch multilayer GRU RNN\n",
    "        self.rnn = nn.GRU(embedding_dim, h_dim, num_layers=num_layers, dropout=dropout)\n",
    "        \n",
    "        # Output layer, note the output dimension!\n",
    "        self.out_fc = nn.Linear(h_dim, vocab_size)\n",
    "        \n",
    "    def forward(self, x, context):\n",
    "        # x shape: (S, B)\n",
    "        # context: (L, B, H) the last hidden state from the encoder\n",
    "        S, B = x.shape\n",
    "        embedded = self.embedding(x) # embedded shape: (S, B, E)\n",
    "        \n",
    "        # Note initial hidden state is the input context vector\n",
    "        # GRU first output returns all hidden states from last layer (S, B, H)\n",
    "        h, ht = self.rnn(embedded, context)\n",
    "        \n",
    "        # Project H back to the vocab size V, to get a score per word\n",
    "        out = self.out_fc(h)\n",
    "        \n",
    "        # Out shapes: (S, B, V) and (L, B, H)\n",
    "        return out, ht"
   ]
  },
  {
   "cell_type": "markdown",
   "metadata": {},
   "source": [
    "Test the decoder with the corresponding batch of German sentences"
   ]
  },
  {
   "cell_type": "code",
   "execution_count": 15,
   "metadata": {},
   "outputs": [
    {
     "name": "stdout",
     "output_type": "stream",
     "text": [
      "tensor([[[ 0.3089, -0.1034,  0.2154,  ...,  0.0721,  0.2728, -0.0060],\n",
      "         [ 0.1878, -0.1052,  0.1559,  ...,  0.1126,  0.3218, -0.0171],\n",
      "         [ 0.1972, -0.0934,  0.1144,  ...,  0.0750,  0.3157,  0.0838],\n",
      "         [ 0.0318, -0.1991, -0.0200,  ...,  0.0061,  0.0644, -0.1350]],\n",
      "\n",
      "        [[ 0.1677, -0.0748,  0.2880,  ..., -0.0527,  0.3421, -0.0552],\n",
      "         [ 0.1310, -0.0943,  0.1859,  ...,  0.0415,  0.3302, -0.1289],\n",
      "         [ 0.1304, -0.0826,  0.2246,  ...,  0.0059,  0.3681, -0.1000],\n",
      "         [ 0.0413, -0.1394,  0.1046,  ...,  0.0052,  0.2138, -0.1943]],\n",
      "\n",
      "        [[ 0.1066, -0.1320,  0.3143,  ..., -0.0491,  0.2910, -0.0164],\n",
      "         [ 0.2229, -0.1470,  0.2129,  ...,  0.0159,  0.2324, -0.1465],\n",
      "         [ 0.0729, -0.0529,  0.1507,  ..., -0.0122,  0.3694, -0.1477],\n",
      "         [ 0.1026, -0.0814,  0.0239,  ...,  0.0747,  0.0725, -0.1044]],\n",
      "\n",
      "        ...,\n",
      "\n",
      "        [[ 0.3641, -0.0614, -0.0420,  ..., -0.0600,  0.1562,  0.1456],\n",
      "         [ 0.4638,  0.0018, -0.0052,  ..., -0.0211,  0.0925,  0.0791],\n",
      "         [ 0.5067,  0.0801, -0.0221,  ..., -0.0376,  0.0209,  0.0925],\n",
      "         [ 0.1877, -0.0585,  0.1271,  ..., -0.0908,  0.3435, -0.0992]],\n",
      "\n",
      "        [[ 0.4352, -0.0271, -0.0243,  ..., -0.0269,  0.1646,  0.1553],\n",
      "         [ 0.4774,  0.0146,  0.0130,  ..., -0.0113,  0.1208,  0.1343],\n",
      "         [ 0.5954,  0.0537, -0.0323,  ..., -0.0740,  0.0843,  0.1197],\n",
      "         [ 0.0691, -0.0575,  0.2081,  ..., -0.0661,  0.3413, -0.0758]],\n",
      "\n",
      "        [[ 0.4259, -0.0477,  0.0039,  ..., -0.0301,  0.1119,  0.1274],\n",
      "         [ 0.4511,  0.0421, -0.0009,  ...,  0.0156,  0.1073,  0.1061],\n",
      "         [ 0.5267,  0.0472,  0.0015,  ..., -0.0598,  0.0908,  0.1430],\n",
      "         [ 0.1255, -0.1085,  0.2012,  ..., -0.0704,  0.2842, -0.0221]]],\n",
      "       grad_fn=<AddBackward0>) torch.Size([24, 4, 5893])\n"
     ]
    }
   ],
   "source": [
    "dec = Seq2SeqDecoder(V_tgt, EMB_DIM, NUM_LAYERS, HID_DIM)\n",
    "yhat, _ = dec(y0, ht) # note different S\n",
    "print(yhat, yhat.shape)"
   ]
  },
  {
   "cell_type": "code",
   "execution_count": null,
   "metadata": {},
   "outputs": [],
   "source": []
  },
  {
   "cell_type": "code",
   "execution_count": 16,
   "metadata": {},
   "outputs": [],
   "source": [
    "class Seq2Seq(nn.Module):\n",
    "    def __init__(self, src_vocab_size, tgt_vocab_size, embedding_dim, num_layers, h_dim, **kw):\n",
    "        super().__init__()\n",
    "        \n",
    "        # Create encoder & decoder parts\n",
    "        self.enc = Seq2SeqEncoder(src_vocab_size, embedding_dim, num_layers, h_dim, **kw)\n",
    "        self.dec = Seq2SeqDecoder(tgt_vocab_size, embedding_dim, num_layers, h_dim, **kw)\n",
    "    \n",
    "    def forward(self, x_src, x_tgt, p_tf=1.):\n",
    "        # input shapes: (S1, B), (S2, B)\n",
    "        S2, B = x_tgt.shape\n",
    "        \n",
    "        # Forward pass through encoder\n",
    "        # context is (L, B, H)\n",
    "        context = self.enc(x_src)\n",
    "        \n",
    "        # First input is first target token\n",
    "        dec_input = x_tgt[[0], :] # (1, B)\n",
    "        # Loop over tokens in target sequence and feed them to the decoder\n",
    "        dec_outputs = []\n",
    "        for t in range(1, S2):\n",
    "            # Feed the decoder sequences of length 1\n",
    "            dec_output, context = self.dec(dec_input, context) # dec_output is (1, B, V)\n",
    "            dec_outputs.append(dec_output)\n",
    "            \n",
    "            # For next input, take either:\n",
    "            # - next target token (AKA \"teacher forcing\"), with proba p_tf\n",
    "            # - highest scoring output (greedy prediction of next token), with proba 1-p_tf\n",
    "            if p_tf > torch.rand(1).item():\n",
    "                dec_input = x_tgt[[t], :] # (1, B)\n",
    "            else:\n",
    "                dec_input = torch.argmax(dec_output, dim=2) # (1,B,V) -> (1, B)\n",
    "            \n",
    "        # Stack decoder outputs from all timesteps\n",
    "        y_hat = torch.cat(dec_outputs, dim=0) # (S-1)x(1,B,V) -> (S-1,B,V)\n",
    "        \n",
    "        # Output shape: (S-1, B, V)\n",
    "        return y_hat"
   ]
  },
  {
   "cell_type": "code",
   "execution_count": 17,
   "metadata": {},
   "outputs": [
    {
     "name": "stdout",
     "output_type": "stream",
     "text": [
      "torch.Size([23, 4, 5893])\n"
     ]
    }
   ],
   "source": [
    "seq2seq_model = Seq2Seq(V_src, V_tgt, EMB_DIM, NUM_LAYERS, HID_DIM)\n",
    "yhat = seq2seq_model(x0, y0)\n",
    "print(yhat.shape)"
   ]
  },
  {
   "cell_type": "code",
   "execution_count": 18,
   "metadata": {},
   "outputs": [
    {
     "name": "stdout",
     "output_type": "stream",
     "text": [
      "===========================================================================\n",
      "                           Kernel Shape  Output Shape    Params  Mult-Adds\n",
      "Layer                                                                     \n",
      "0_enc.Embedding_embedding   [128, 7855]  [25, 4, 128]  1.00544M    1005440\n",
      "1_enc.GRU_rnn                         -   [25, 4, 64]   62.208k      61440\n",
      "2_dec.Embedding_embedding   [128, 5893]   [1, 4, 128]  754.304k     754304\n",
      "3_dec.GRU_rnn                         -    [1, 4, 64]   62.208k      61440\n",
      "4_dec.Linear_out_fc          [64, 5893]  [1, 4, 5893]  383.045k     377152\n",
      "5_dec.Embedding_embedding   [128, 5893]   [1, 4, 128]         -     754304\n",
      "6_dec.GRU_rnn                         -    [1, 4, 64]         -      61440\n",
      "7_dec.Linear_out_fc          [64, 5893]  [1, 4, 5893]         -     377152\n",
      "8_dec.Embedding_embedding   [128, 5893]   [1, 4, 128]         -     754304\n",
      "9_dec.GRU_rnn                         -    [1, 4, 64]         -      61440\n",
      "10_dec.Linear_out_fc         [64, 5893]  [1, 4, 5893]         -     377152\n",
      "11_dec.Embedding_embedding  [128, 5893]   [1, 4, 128]         -     754304\n",
      "12_dec.GRU_rnn                        -    [1, 4, 64]         -      61440\n",
      "13_dec.Linear_out_fc         [64, 5893]  [1, 4, 5893]         -     377152\n",
      "14_dec.Embedding_embedding  [128, 5893]   [1, 4, 128]         -     754304\n",
      "15_dec.GRU_rnn                        -    [1, 4, 64]         -      61440\n",
      "16_dec.Linear_out_fc         [64, 5893]  [1, 4, 5893]         -     377152\n",
      "17_dec.Embedding_embedding  [128, 5893]   [1, 4, 128]         -     754304\n",
      "18_dec.GRU_rnn                        -    [1, 4, 64]         -      61440\n",
      "19_dec.Linear_out_fc         [64, 5893]  [1, 4, 5893]         -     377152\n",
      "20_dec.Embedding_embedding  [128, 5893]   [1, 4, 128]         -     754304\n",
      "21_dec.GRU_rnn                        -    [1, 4, 64]         -      61440\n",
      "22_dec.Linear_out_fc         [64, 5893]  [1, 4, 5893]         -     377152\n",
      "23_dec.Embedding_embedding  [128, 5893]   [1, 4, 128]         -     754304\n",
      "24_dec.GRU_rnn                        -    [1, 4, 64]         -      61440\n",
      "25_dec.Linear_out_fc         [64, 5893]  [1, 4, 5893]         -     377152\n",
      "26_dec.Embedding_embedding  [128, 5893]   [1, 4, 128]         -     754304\n",
      "27_dec.GRU_rnn                        -    [1, 4, 64]         -      61440\n",
      "28_dec.Linear_out_fc         [64, 5893]  [1, 4, 5893]         -     377152\n",
      "29_dec.Embedding_embedding  [128, 5893]   [1, 4, 128]         -     754304\n",
      "30_dec.GRU_rnn                        -    [1, 4, 64]         -      61440\n",
      "31_dec.Linear_out_fc         [64, 5893]  [1, 4, 5893]         -     377152\n",
      "32_dec.Embedding_embedding  [128, 5893]   [1, 4, 128]         -     754304\n",
      "33_dec.GRU_rnn                        -    [1, 4, 64]         -      61440\n",
      "34_dec.Linear_out_fc         [64, 5893]  [1, 4, 5893]         -     377152\n",
      "35_dec.Embedding_embedding  [128, 5893]   [1, 4, 128]         -     754304\n",
      "36_dec.GRU_rnn                        -    [1, 4, 64]         -      61440\n",
      "37_dec.Linear_out_fc         [64, 5893]  [1, 4, 5893]         -     377152\n",
      "38_dec.Embedding_embedding  [128, 5893]   [1, 4, 128]         -     754304\n",
      "39_dec.GRU_rnn                        -    [1, 4, 64]         -      61440\n",
      "40_dec.Linear_out_fc         [64, 5893]  [1, 4, 5893]         -     377152\n",
      "41_dec.Embedding_embedding  [128, 5893]   [1, 4, 128]         -     754304\n",
      "42_dec.GRU_rnn                        -    [1, 4, 64]         -      61440\n",
      "43_dec.Linear_out_fc         [64, 5893]  [1, 4, 5893]         -     377152\n",
      "44_dec.Embedding_embedding  [128, 5893]   [1, 4, 128]         -     754304\n",
      "45_dec.GRU_rnn                        -    [1, 4, 64]         -      61440\n",
      "46_dec.Linear_out_fc         [64, 5893]  [1, 4, 5893]         -     377152\n",
      "47_dec.Embedding_embedding  [128, 5893]   [1, 4, 128]         -     754304\n",
      "48_dec.GRU_rnn                        -    [1, 4, 64]         -      61440\n",
      "49_dec.Linear_out_fc         [64, 5893]  [1, 4, 5893]         -     377152\n",
      "50_dec.Embedding_embedding  [128, 5893]   [1, 4, 128]         -     754304\n",
      "51_dec.GRU_rnn                        -    [1, 4, 64]         -      61440\n",
      "52_dec.Linear_out_fc         [64, 5893]  [1, 4, 5893]         -     377152\n",
      "53_dec.Embedding_embedding  [128, 5893]   [1, 4, 128]         -     754304\n",
      "54_dec.GRU_rnn                        -    [1, 4, 64]         -      61440\n",
      "55_dec.Linear_out_fc         [64, 5893]  [1, 4, 5893]         -     377152\n",
      "56_dec.Embedding_embedding  [128, 5893]   [1, 4, 128]         -     754304\n",
      "57_dec.GRU_rnn                        -    [1, 4, 64]         -      61440\n",
      "58_dec.Linear_out_fc         [64, 5893]  [1, 4, 5893]         -     377152\n",
      "59_dec.Embedding_embedding  [128, 5893]   [1, 4, 128]         -     754304\n",
      "60_dec.GRU_rnn                        -    [1, 4, 64]         -      61440\n",
      "61_dec.Linear_out_fc         [64, 5893]  [1, 4, 5893]         -     377152\n",
      "62_dec.Embedding_embedding  [128, 5893]   [1, 4, 128]         -     754304\n",
      "63_dec.GRU_rnn                        -    [1, 4, 64]         -      61440\n",
      "64_dec.Linear_out_fc         [64, 5893]  [1, 4, 5893]         -     377152\n",
      "65_dec.Embedding_embedding  [128, 5893]   [1, 4, 128]         -     754304\n",
      "66_dec.GRU_rnn                        -    [1, 4, 64]         -      61440\n",
      "67_dec.Linear_out_fc         [64, 5893]  [1, 4, 5893]         -     377152\n",
      "68_dec.Embedding_embedding  [128, 5893]   [1, 4, 128]         -     754304\n",
      "69_dec.GRU_rnn                        -    [1, 4, 64]         -      61440\n",
      "70_dec.Linear_out_fc         [64, 5893]  [1, 4, 5893]         -     377152\n",
      "---------------------------------------------------------------------------\n",
      "                          Totals\n",
      "Total params           2.267205M\n",
      "Trainable params       2.267205M\n",
      "Non-trainable params         0.0\n",
      "Mult-Adds             28.503488M\n",
      "===========================================================================\n"
     ]
    }
   ],
   "source": [
    "from torchsummaryX import summary\n",
    "summary(seq2seq_model, x0, y0);"
   ]
  },
  {
   "cell_type": "code",
   "execution_count": 19,
   "metadata": {},
   "outputs": [],
   "source": [
    "def train_seq2seq(model, dl_train, optimizer, loss_fn, p_tf=1., clip_grad=1., max_batches=None):\n",
    "    losses = []\n",
    "    with tqdm.tqdm(total=(max_batches if max_batches else len(dl_train)), file=sys.stdout) as pbar:\n",
    "        for idx_batch, batch in enumerate(dl_train, start=1):\n",
    "            x, x_len = batch.src\n",
    "            y, y_len =  batch.trg\n",
    "\n",
    "            # Forward pass: encoder and decoder\n",
    "            # Output y_hat is the translated sequence\n",
    "            y_hat = model(x, y, p_tf)\n",
    "            S, B, V = y_hat.shape\n",
    "\n",
    "            # y[:,i] is <sos>, w_1, w_2, ..., w_k, <eos>, <pad>, ...\n",
    "            # y_hat is   w_1', w_2', ..., w_k', <eos>', <pad>', ...\n",
    "            # based on the above, get grout truth y\n",
    "            y_gt = y[1:, :].reshape(S*B)  # drop <sos>\n",
    "            y_hat = y_hat.reshape(S*B, V)\n",
    "\n",
    "            # Calculate loss compared to ground truth y\n",
    "            optimizer.zero_grad()\n",
    "            loss = loss_fn(y_hat, y_gt)\n",
    "            loss.backward()\n",
    "\n",
    "            # Prevent exploding gradients\n",
    "            if clip_grad > 0:\n",
    "                torch.nn.utils.clip_grad_norm_(model.parameters(), clip_grad)\n",
    "\n",
    "            # Update parameters\n",
    "            optimizer.step()\n",
    "\n",
    "            losses.append(loss.item())\n",
    "            pbar.update(); pbar.set_description(f'train loss={losses[-1]:.3f}')\n",
    "            if max_batches and idx_batch >= max_batches:\n",
    "                break\n",
    "    return losses"
   ]
  },
  {
   "cell_type": "code",
   "execution_count": null,
   "metadata": {},
   "outputs": [],
   "source": []
  },
  {
   "cell_type": "code",
   "execution_count": 20,
   "metadata": {},
   "outputs": [],
   "source": [
    "def eval_seq2seq(model, dl_test):\n",
    "    accuracies = []\n",
    "    with tqdm.tqdm(total=len(dl_test), file=sys.stdout) as pbar:\n",
    "        for idx_batch, batch in enumerate(dl_test):\n",
    "            x, x_len = batch.src\n",
    "            y, y_len =  batch.trg\n",
    "\n",
    "            with torch.no_grad():\n",
    "                y_hat = model(x, y, p_tf=0)  # Note: no teacher forcing\n",
    "\n",
    "            S, B, V = y_hat.shape\n",
    "\n",
    "            y_gt = y[1:, :].reshape(S*B)  # drop <sos>\n",
    "            y_hat = torch.argmax(y_hat.reshape(S*B, V), dim=1) # greedy-sample\n",
    "\n",
    "            # Compare prediction to ground truth\n",
    "            accuracies.append(torch.sum(y_gt == y_hat) / S)\n",
    "\n",
    "            pbar.update(); pbar.set_description(f'eval acc={accuracies[-1]}')\n",
    "    return accuracies"
   ]
  },
  {
   "cell_type": "code",
   "execution_count": null,
   "metadata": {},
   "outputs": [],
   "source": []
  },
  {
   "cell_type": "code",
   "execution_count": 21,
   "metadata": {},
   "outputs": [
    {
     "name": "stdout",
     "output_type": "stream",
     "text": [
      "=== EPOCH 1/2, p_tf=1.00 ===\n",
      "train loss=5.140: 100%|██████████| 25/25 [00:20<00:00,  1.20it/s]\n",
      "eval acc=8: 100%|██████████| 8/8 [00:01<00:00,  5.38it/s] \n",
      "=== EPOCH 2/2, p_tf=0.95 ===\n",
      "train loss=4.953: 100%|██████████| 25/25 [00:21<00:00,  1.16it/s]\n",
      "eval acc=7: 100%|██████████| 8/8 [00:01<00:00,  5.40it/s] \n"
     ]
    }
   ],
   "source": [
    "BATCH_SIZE = 128\n",
    "# Use small model so that training is fast, just an example\n",
    "EMB_DIM = 64\n",
    "HID_DIM = 128\n",
    "NUM_LAYERS = 3\n",
    "GRAD_CLIP = 1.\n",
    "EPOCHS = 2\n",
    "BATCHES_PER_EPOCH=25\n",
    "\n",
    "dl_train, dl_valid, dl_test = BucketIterator.splits((ds_train, ds_valid, ds_test), batch_size=BATCH_SIZE)\n",
    "seq2seq_model = Seq2Seq(V_src, V_tgt, EMB_DIM, NUM_LAYERS, HID_DIM)\n",
    "\n",
    "optimizer = torch.optim.Adam(seq2seq_model.parameters(), lr=1e-2)\n",
    "\n",
    "# Note: We don't compute loss from padding tokens!\n",
    "loss_fn = nn.CrossEntropyLoss(ignore_index=PAD_TOKEN)\n",
    "\n",
    "losses = []\n",
    "accuracies = []\n",
    "for idx_epoch in range(EPOCHS):\n",
    "    # Linearly decay amount of teacher forcing fro the first 10 epochs (example)\n",
    "    p_tf = 1 - min((idx_epoch / 20), 1)\n",
    "    \n",
    "    print(f'=== EPOCH {idx_epoch+1}/{EPOCHS}, p_tf={p_tf:.2f} ===')\n",
    "    losses += train_seq2seq(seq2seq_model, dl_train, optimizer, loss_fn, p_tf, GRAD_CLIP, BATCHES_PER_EPOCH)\n",
    "    accuracies += eval_seq2seq(seq2seq_model, dl_valid)"
   ]
  },
  {
   "cell_type": "code",
   "execution_count": 22,
   "metadata": {},
   "outputs": [
    {
     "data": {
      "image/png": "[encoded data removed]",
      "text/plain": [
       "<Figure size 1080x360 with 2 Axes>"
      ]
     },
     "metadata": {
      "needs_background": "light"
     },
     "output_type": "display_data"
    }
   ],
   "source": [
    "fig, ax = plt.subplots(nrows=1, ncols=2, figsize=(15,5))\n",
    "ax[0].plot(losses); ax[0].set_title('train loss'); ax[0].set_xlabel('iteration'); ax[0].grid(True)\n",
    "ax[1].plot(accuracies); ax[1].set_title('eval accuracy'); ax[1].set_xlabel('iteration'); ax[1].grid(True)"
   ]
  },
  {
   "cell_type": "markdown",
   "metadata": {},
   "source": [
    "Can we use this a **Generative** model?\n",
    "\n",
    "I.e., can we use this model to generate coherent sentences in English?"
   ]
  },
  {
   "cell_type": "markdown",
   "metadata": {},
   "source": [
    "Theoretically we could... But how can we sample the input context vector?"
   ]
  },
  {
   "cell_type": "code",
   "execution_count": null,
   "metadata": {},
   "outputs": [],
   "source": []
  },
  {
   "cell_type": "markdown",
   "metadata": {
    "slideshow": {
     "slide_type": "slide"
    }
   },
   "source": [
    "## Part 2: Attention Mechanisms"
   ]
  },
  {
   "cell_type": "markdown",
   "metadata": {},
   "source": [
    "In such an architecture the **last** hidden state must encode all the information the decoder needs for translation.\n",
    "\n",
    "**Local** information, i.e. the encoder outputs and intermediate hidden states is discarded.\n",
    "\n",
    "Can we use this local info to help the decoder?"
   ]
  },
  {
   "cell_type": "markdown",
   "metadata": {},
   "source": [
    "### Definition"
   ]
  },
  {
   "cell_type": "markdown",
   "metadata": {},
   "source": [
    "In deep learning contexts, **attention** is a term used for a family of related mechanisms which, in general, learn to predict some probability distribution over a sequence of elements.\n",
    "\n",
    "Intuitively, this allows a model to \"pay more attention\" to elements from the sequence which get a higher probability."
   ]
  },
  {
   "cell_type": "markdown",
   "metadata": {},
   "source": [
    "Recent versions of attention mechanisms can be defined formally as follows:"
   ]
  },
  {
   "cell_type": "markdown",
   "metadata": {},
   "source": [
    "Given:\n",
    "- $n$ **key-value** pairs: $\\left\\{\\left(\\vec{k}_i, \\vec{v}_i\\right)\\right\\}_{i=1}^{n}$, where $\\vec{k}_i\\in\\set{R}^{d_k}$, $\\vec{v}_i\\in\\set{R}^{d_v}$\n",
    "- A **query**, $\\vec{q} \\in\\set{R}^{d_q}$\n",
    "- Some similarity (sometimes called *energy*) function between keys and queries, $s: \\set{R}^{d_k}\\times \\set{R}^{d_q} \\mapsto \\set{R}$"
   ]
  },
  {
   "cell_type": "markdown",
   "metadata": {},
   "source": [
    "A *soft*-attention mechanism computes a weighted sum of the **values**,\n",
    "\n",
    "$$\n",
    "\\vec{o} = \\sum_{i=1}^{n} a_i \\vec{v}_i\\ \\in \\set{R}^{d_v},\n",
    "$$"
   ]
  },
  {
   "cell_type": "markdown",
   "metadata": {},
   "source": [
    "where attention weights $a_i$ are computed according the the similarity between the **query** and each **key**:\n",
    "\n",
    "$$\n",
    "\\begin{align}\n",
    "b_i &= s(\\vec{k}_i, \\vec{q}) \\\\\n",
    "\\vec{b} &= \\left[  b_1, \\dots, b_n \\right]\\Tr \\\\\n",
    "\\vec{a} &= \\softmax{\\vec{b}}.\n",
    "\\end{align}\n",
    "$$\n"
   ]
  },
  {
   "cell_type": "markdown",
   "metadata": {},
   "source": [
    "It's also possible to define *hard*-attention by using the weights $\\vec{a}$ as a discrete distribution over the values, an sample a single $\\vec{v}_i$ from this distribution:\n",
    "\n",
    "$$\n",
    "\\vec{o} \\sim p_\\vec{a}(\\vec{v})\n",
    "$$\n",
    "\n",
    "In this case the attention output is stochastic."
   ]
  },
  {
   "cell_type": "markdown",
   "metadata": {},
   "source": [
    "### Multiplicative attention"
   ]
  },
  {
   "cell_type": "markdown",
   "metadata": {},
   "source": [
    "One basic type of attention mechanism uses a simple **dot product** as the similarity function.\n",
    "\n",
    "Widely-used by models based on the **Transformer** architecture."
   ]
  },
  {
   "cell_type": "markdown",
   "metadata": {},
   "source": [
    "Assume $d_k=d_q=d$, then\n",
    "\n",
    "$$\n",
    "s(\\vec{k},\\vec{q})= \\frac{\\vectr{k}\\vec{q}}{\\sqrt{d}}.\n",
    "$$"
   ]
  },
  {
   "cell_type": "markdown",
   "metadata": {},
   "source": [
    "Why scale by $\\sqrt{d}$ ?"
   ]
  },
  {
   "cell_type": "markdown",
   "metadata": {},
   "source": [
    "It's the factor at which the dot-product grows due to the dimensionality. E.g.,\n",
    "\n",
    "$$\n",
    "\\norm{\\vec{1}_d}_2 = \\norm{[1,\\dots,1]\\Tr}_2 = \\sqrt{d\\cdot 1^2} =\\sqrt{d}.\n",
    "$$\n",
    "\n",
    "This helps keep the softmax values from becoming very small when the dimension is large, and therefore helps prevent tiny gradients."
   ]
  },
  {
   "cell_type": "markdown",
   "metadata": {},
   "source": [
    "Let's now deal with $m$ queries simultaneously by stacking them in a matrix $\\mat{Q} \\in \\set{R}^{m\\times d}$."
   ]
  },
  {
   "cell_type": "markdown",
   "metadata": {},
   "source": [
    "Similarly, we'll stack the keys and values in their own matrices, $\\mat{K}\\in\\set{R}^{n\\times d}$, $\\mat{V}\\in\\set{R}^{n\\times d_v}$."
   ]
  },
  {
   "cell_type": "markdown",
   "metadata": {},
   "source": [
    "Then we can compute the attention weights for all queries in parallel:\n",
    "\n",
    "$$\n",
    "\\begin{align}\n",
    "\\mat{B} &= \\frac{1}{\\sqrt{d}} \\mat{Q}\\mattr{K}  \\ \\in\\set{R}^{m\\times n} \\\\\n",
    "\\mat{A} &= \\softmax{\\mat{B}},\\ \\mathrm{dim}=1 \\\\\n",
    "\\mat{O} &= \\mat{A}\\mat{V} \\ \\in\\set{R}^{m\\times d_v}.\n",
    "\\end{align}\n",
    "$$"
   ]
  },
  {
   "cell_type": "markdown",
   "metadata": {},
   "source": [
    "Note that the softmax is applied per-row, and so each row $i$ of $\\mat{A}$ contains the attention weights for the $i$th query."
   ]
  },
  {
   "cell_type": "markdown",
   "metadata": {},
   "source": [
    "Also notice that in this formulation, we **input a sequence** of $m$ queries and get an **output sequence** of $m$ weighed values."
   ]
  },
  {
   "cell_type": "markdown",
   "metadata": {},
   "source": [
    "### Additive attention"
   ]
  },
  {
   "cell_type": "markdown",
   "metadata": {},
   "source": [
    "Another common type of attention mechanism uses an MLP to **learn** the similarity function $s(\\vec{k},\\vec{q})$."
   ]
  },
  {
   "cell_type": "markdown",
   "metadata": {},
   "source": [
    "In this type of attention, the similarity function is \n",
    "\n",
    "$$\n",
    "s(\\vec{k},\\vec{q}) = \\vectr{v} \\tanh(\\mat{W}_k\\vec{k} + \\mat{W}_q\\vec{q}),\n",
    "$$\n",
    "\n",
    "where $\\mat{W}_k\\in\\set{R}^{h\\times d_k}$, $\\mat{W}_q\\in\\set{R}^{h\\times d_q}$ and $\\vec{v}\\in\\set{R}^{h}$ are trainable parameters."
   ]
  },
  {
   "cell_type": "markdown",
   "metadata": {},
   "source": [
    "- Notice that we're adding projected versions of the key and query and applying a 2-layer MLP.\n",
    "- Both projections and the output layer are trainable."
   ]
  },
  {
   "cell_type": "markdown",
   "metadata": {},
   "source": [
    "### Self-Attention"
   ]
  },
  {
   "cell_type": "markdown",
   "metadata": {},
   "source": [
    "Self-attention refers to applying attention on a **single sequence**  $\\left\\{\\vec{x}_i\\right\\}_{i=1}^{n}$ of elements.\n",
    "\n",
    "The keys, values and queries are either:\n",
    "- The elements themselves\n",
    "- Computed from them with **learned** linear projections, i.e.\n",
    "$$\n",
    "\\begin{align*}\n",
    "\\vec{q}_{i} &= \\mat{W}_{xq}\\vec{x}_{i} &\n",
    "\\vec{k}_{i} &= \\mat{W}_{xk}\\vec{x}_{i} &\n",
    "\\vec{v}_{i} &= \\mat{W}_{xv}\\vec{x}_{i} \n",
    "\\end{align*}\n",
    "$$\n",
    "This is what Transformer models do for Seq2Seq, instead of using RNNs."
   ]
  },
  {
   "cell_type": "markdown",
   "metadata": {},
   "source": [
    "<center><img src=\"img/self_attn_transformer.svg\" width=800></center>"
   ]
  },
  {
   "cell_type": "code",
   "execution_count": null,
   "metadata": {},
   "outputs": [],
   "source": []
  },
  {
   "cell_type": "code",
   "execution_count": null,
   "metadata": {},
   "outputs": [],
   "source": []
  },
  {
   "cell_type": "code",
   "execution_count": null,
   "metadata": {},
   "outputs": [],
   "source": []
  },
  {
   "cell_type": "code",
   "execution_count": null,
   "metadata": {},
   "outputs": [],
   "source": []
  },
  {
   "cell_type": "code",
   "execution_count": null,
   "metadata": {},
   "outputs": [],
   "source": []
  },
  {
   "cell_type": "code",
   "execution_count": null,
   "metadata": {},
   "outputs": [],
   "source": []
  },
  {
   "cell_type": "code",
   "execution_count": null,
   "metadata": {},
   "outputs": [],
   "source": []
  },
  {
   "cell_type": "markdown",
   "metadata": {
    "slideshow": {
     "slide_type": "skip"
    }
   },
   "source": [
    "**Image credits**\n",
    "\n",
    "Some images in this tutorial were taken and/or adapted from:\n",
    "\n",
    "- Zhang et al., Dive into Deep Learning, 2019\n",
    "- Peter Bloem, http://www.peterbloem.nl/blog/transformers\n",
    "- Sutskever et al. 2014, https://arxiv.org/abs/1409.3215\n",
    "\n",
    "- MIT 6.S191\n",
    "- K. Xu et al. 2015, https://arxiv.org/abs/1502.03044"
   ]
  },
  {
   "cell_type": "code",
   "execution_count": null,
   "metadata": {},
   "outputs": [],
   "source": []
  }
 ],
 "metadata": {
  "kernelspec": {
   "display_name": "Python 3",
   "language": "python",
   "name": "python3"
  },
  "language_info": {
   "codemirror_mode": {
    "name": "ipython",
    "version": 3
   },
   "file_extension": ".py",
   "mimetype": "text/x-python",
   "name": "python",
   "nbconvert_exporter": "python",
   "pygments_lexer": "ipython3",
   "version": "3.7.5"
  }
 },
 "nbformat": 4,
 "nbformat_minor": 4
}
